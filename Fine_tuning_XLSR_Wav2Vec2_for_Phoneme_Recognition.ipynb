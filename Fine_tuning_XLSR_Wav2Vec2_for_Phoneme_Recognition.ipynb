{
  "nbformat": 4,
  "nbformat_minor": 0,
  "metadata": {
    "colab": {
      "name": "Fine-tuning XLSR-Wav2Vec2 for Phoneme Recognition",
      "provenance": [],
      "collapsed_sections": [],
      "toc_visible": true,
      "machine_shape": "hm",
      "include_colab_link": true
    },
    "kernelspec": {
      "name": "python3",
      "display_name": "Python 3"
    },
    "accelerator": "GPU",
    "widgets": {
      "application/vnd.jupyter.widget-state+json": {
        "cf8624f6d971403b80145dd37465affe": {
          "model_module": "@jupyter-widgets/controls",
          "model_name": "HBoxModel",
          "state": {
            "_view_name": "HBoxView",
            "_dom_classes": [],
            "_model_name": "HBoxModel",
            "_view_module": "@jupyter-widgets/controls",
            "_model_module_version": "1.5.0",
            "_view_count": null,
            "_view_module_version": "1.5.0",
            "box_style": "",
            "layout": "IPY_MODEL_c6b4cb73e006457abc3ba0c21aa22c7a",
            "_model_module": "@jupyter-widgets/controls",
            "children": [
              "IPY_MODEL_edd0b0a01e534502835aaba56b56a7d9",
              "IPY_MODEL_076b6eaffe394ac7a7f046deff05f95f"
            ]
          }
        },
        "c6b4cb73e006457abc3ba0c21aa22c7a": {
          "model_module": "@jupyter-widgets/base",
          "model_name": "LayoutModel",
          "state": {
            "_view_name": "LayoutView",
            "grid_template_rows": null,
            "right": null,
            "justify_content": null,
            "_view_module": "@jupyter-widgets/base",
            "overflow": null,
            "_model_module_version": "1.2.0",
            "_view_count": null,
            "flex_flow": null,
            "width": null,
            "min_width": null,
            "border": null,
            "align_items": null,
            "bottom": null,
            "_model_module": "@jupyter-widgets/base",
            "top": null,
            "grid_column": null,
            "overflow_y": null,
            "overflow_x": null,
            "grid_auto_flow": null,
            "grid_area": null,
            "grid_template_columns": null,
            "flex": null,
            "_model_name": "LayoutModel",
            "justify_items": null,
            "grid_row": null,
            "max_height": null,
            "align_content": null,
            "visibility": null,
            "align_self": null,
            "height": null,
            "min_height": null,
            "padding": null,
            "grid_auto_rows": null,
            "grid_gap": null,
            "max_width": null,
            "order": null,
            "_view_module_version": "1.2.0",
            "grid_template_areas": null,
            "object_position": null,
            "object_fit": null,
            "grid_auto_columns": null,
            "margin": null,
            "display": null,
            "left": null
          }
        },
        "edd0b0a01e534502835aaba56b56a7d9": {
          "model_module": "@jupyter-widgets/controls",
          "model_name": "FloatProgressModel",
          "state": {
            "_view_name": "ProgressView",
            "style": "IPY_MODEL_c4137ba6fe1b4a12aade10611fd3445b",
            "_dom_classes": [],
            "description": "Downloading: ",
            "_model_name": "FloatProgressModel",
            "bar_style": "success",
            "max": 2349,
            "_view_module": "@jupyter-widgets/controls",
            "_model_module_version": "1.5.0",
            "value": 2349,
            "_view_count": null,
            "_view_module_version": "1.5.0",
            "orientation": "horizontal",
            "min": 0,
            "description_tooltip": null,
            "_model_module": "@jupyter-widgets/controls",
            "layout": "IPY_MODEL_893d58a5e959415d9b4deae7cc935e4b"
          }
        },
        "076b6eaffe394ac7a7f046deff05f95f": {
          "model_module": "@jupyter-widgets/controls",
          "model_name": "HTMLModel",
          "state": {
            "_view_name": "HTMLView",
            "style": "IPY_MODEL_4f145bda66ea463ab25f9f4d75abcc89",
            "_dom_classes": [],
            "description": "",
            "_model_name": "HTMLModel",
            "placeholder": "​",
            "_view_module": "@jupyter-widgets/controls",
            "_model_module_version": "1.5.0",
            "value": " 6.84k/? [00:00&lt;00:00, 39.6kB/s]",
            "_view_count": null,
            "_view_module_version": "1.5.0",
            "description_tooltip": null,
            "_model_module": "@jupyter-widgets/controls",
            "layout": "IPY_MODEL_a18be4a56b304bcfbbb9f935ba5c9d10"
          }
        },
        "c4137ba6fe1b4a12aade10611fd3445b": {
          "model_module": "@jupyter-widgets/controls",
          "model_name": "ProgressStyleModel",
          "state": {
            "_view_name": "StyleView",
            "_model_name": "ProgressStyleModel",
            "description_width": "initial",
            "_view_module": "@jupyter-widgets/base",
            "_model_module_version": "1.5.0",
            "_view_count": null,
            "_view_module_version": "1.2.0",
            "bar_color": null,
            "_model_module": "@jupyter-widgets/controls"
          }
        },
        "893d58a5e959415d9b4deae7cc935e4b": {
          "model_module": "@jupyter-widgets/base",
          "model_name": "LayoutModel",
          "state": {
            "_view_name": "LayoutView",
            "grid_template_rows": null,
            "right": null,
            "justify_content": null,
            "_view_module": "@jupyter-widgets/base",
            "overflow": null,
            "_model_module_version": "1.2.0",
            "_view_count": null,
            "flex_flow": null,
            "width": null,
            "min_width": null,
            "border": null,
            "align_items": null,
            "bottom": null,
            "_model_module": "@jupyter-widgets/base",
            "top": null,
            "grid_column": null,
            "overflow_y": null,
            "overflow_x": null,
            "grid_auto_flow": null,
            "grid_area": null,
            "grid_template_columns": null,
            "flex": null,
            "_model_name": "LayoutModel",
            "justify_items": null,
            "grid_row": null,
            "max_height": null,
            "align_content": null,
            "visibility": null,
            "align_self": null,
            "height": null,
            "min_height": null,
            "padding": null,
            "grid_auto_rows": null,
            "grid_gap": null,
            "max_width": null,
            "order": null,
            "_view_module_version": "1.2.0",
            "grid_template_areas": null,
            "object_position": null,
            "object_fit": null,
            "grid_auto_columns": null,
            "margin": null,
            "display": null,
            "left": null
          }
        },
        "4f145bda66ea463ab25f9f4d75abcc89": {
          "model_module": "@jupyter-widgets/controls",
          "model_name": "DescriptionStyleModel",
          "state": {
            "_view_name": "StyleView",
            "_model_name": "DescriptionStyleModel",
            "description_width": "",
            "_view_module": "@jupyter-widgets/base",
            "_model_module_version": "1.5.0",
            "_view_count": null,
            "_view_module_version": "1.2.0",
            "_model_module": "@jupyter-widgets/controls"
          }
        },
        "a18be4a56b304bcfbbb9f935ba5c9d10": {
          "model_module": "@jupyter-widgets/base",
          "model_name": "LayoutModel",
          "state": {
            "_view_name": "LayoutView",
            "grid_template_rows": null,
            "right": null,
            "justify_content": null,
            "_view_module": "@jupyter-widgets/base",
            "overflow": null,
            "_model_module_version": "1.2.0",
            "_view_count": null,
            "flex_flow": null,
            "width": null,
            "min_width": null,
            "border": null,
            "align_items": null,
            "bottom": null,
            "_model_module": "@jupyter-widgets/base",
            "top": null,
            "grid_column": null,
            "overflow_y": null,
            "overflow_x": null,
            "grid_auto_flow": null,
            "grid_area": null,
            "grid_template_columns": null,
            "flex": null,
            "_model_name": "LayoutModel",
            "justify_items": null,
            "grid_row": null,
            "max_height": null,
            "align_content": null,
            "visibility": null,
            "align_self": null,
            "height": null,
            "min_height": null,
            "padding": null,
            "grid_auto_rows": null,
            "grid_gap": null,
            "max_width": null,
            "order": null,
            "_view_module_version": "1.2.0",
            "grid_template_areas": null,
            "object_position": null,
            "object_fit": null,
            "grid_auto_columns": null,
            "margin": null,
            "display": null,
            "left": null
          }
        },
        "ac5d8daea5d346d88d9cd7191aaaaa7b": {
          "model_module": "@jupyter-widgets/controls",
          "model_name": "HBoxModel",
          "state": {
            "_view_name": "HBoxView",
            "_dom_classes": [],
            "_model_name": "HBoxModel",
            "_view_module": "@jupyter-widgets/controls",
            "_model_module_version": "1.5.0",
            "_view_count": null,
            "_view_module_version": "1.5.0",
            "box_style": "",
            "layout": "IPY_MODEL_8741f90b9cce46d78596d4458586a7d8",
            "_model_module": "@jupyter-widgets/controls",
            "children": [
              "IPY_MODEL_7d9765696021411ab87398b5ed21cbff",
              "IPY_MODEL_570b66d08e814383ae7b8c1834ccd0c6"
            ]
          }
        },
        "8741f90b9cce46d78596d4458586a7d8": {
          "model_module": "@jupyter-widgets/base",
          "model_name": "LayoutModel",
          "state": {
            "_view_name": "LayoutView",
            "grid_template_rows": null,
            "right": null,
            "justify_content": null,
            "_view_module": "@jupyter-widgets/base",
            "overflow": null,
            "_model_module_version": "1.2.0",
            "_view_count": null,
            "flex_flow": null,
            "width": null,
            "min_width": null,
            "border": null,
            "align_items": null,
            "bottom": null,
            "_model_module": "@jupyter-widgets/base",
            "top": null,
            "grid_column": null,
            "overflow_y": null,
            "overflow_x": null,
            "grid_auto_flow": null,
            "grid_area": null,
            "grid_template_columns": null,
            "flex": null,
            "_model_name": "LayoutModel",
            "justify_items": null,
            "grid_row": null,
            "max_height": null,
            "align_content": null,
            "visibility": null,
            "align_self": null,
            "height": null,
            "min_height": null,
            "padding": null,
            "grid_auto_rows": null,
            "grid_gap": null,
            "max_width": null,
            "order": null,
            "_view_module_version": "1.2.0",
            "grid_template_areas": null,
            "object_position": null,
            "object_fit": null,
            "grid_auto_columns": null,
            "margin": null,
            "display": null,
            "left": null
          }
        },
        "7d9765696021411ab87398b5ed21cbff": {
          "model_module": "@jupyter-widgets/controls",
          "model_name": "FloatProgressModel",
          "state": {
            "_view_name": "ProgressView",
            "style": "IPY_MODEL_3f7c701492984e8aba36469469c6140c",
            "_dom_classes": [],
            "description": "Downloading: ",
            "_model_name": "FloatProgressModel",
            "bar_style": "success",
            "max": 1004,
            "_view_module": "@jupyter-widgets/controls",
            "_model_module_version": "1.5.0",
            "value": 1004,
            "_view_count": null,
            "_view_module_version": "1.5.0",
            "orientation": "horizontal",
            "min": 0,
            "description_tooltip": null,
            "_model_module": "@jupyter-widgets/controls",
            "layout": "IPY_MODEL_9072641795164018bce103397399b874"
          }
        },
        "570b66d08e814383ae7b8c1834ccd0c6": {
          "model_module": "@jupyter-widgets/controls",
          "model_name": "HTMLModel",
          "state": {
            "_view_name": "HTMLView",
            "style": "IPY_MODEL_39d78277d260492c82604e0ac591bf81",
            "_dom_classes": [],
            "description": "",
            "_model_name": "HTMLModel",
            "placeholder": "​",
            "_view_module": "@jupyter-widgets/controls",
            "_model_module_version": "1.5.0",
            "value": " 2.51k/? [00:00&lt;00:00, 52.7kB/s]",
            "_view_count": null,
            "_view_module_version": "1.5.0",
            "description_tooltip": null,
            "_model_module": "@jupyter-widgets/controls",
            "layout": "IPY_MODEL_d0e2b7338f224d27bdd8cce81085368e"
          }
        },
        "3f7c701492984e8aba36469469c6140c": {
          "model_module": "@jupyter-widgets/controls",
          "model_name": "ProgressStyleModel",
          "state": {
            "_view_name": "StyleView",
            "_model_name": "ProgressStyleModel",
            "description_width": "initial",
            "_view_module": "@jupyter-widgets/base",
            "_model_module_version": "1.5.0",
            "_view_count": null,
            "_view_module_version": "1.2.0",
            "bar_color": null,
            "_model_module": "@jupyter-widgets/controls"
          }
        },
        "9072641795164018bce103397399b874": {
          "model_module": "@jupyter-widgets/base",
          "model_name": "LayoutModel",
          "state": {
            "_view_name": "LayoutView",
            "grid_template_rows": null,
            "right": null,
            "justify_content": null,
            "_view_module": "@jupyter-widgets/base",
            "overflow": null,
            "_model_module_version": "1.2.0",
            "_view_count": null,
            "flex_flow": null,
            "width": null,
            "min_width": null,
            "border": null,
            "align_items": null,
            "bottom": null,
            "_model_module": "@jupyter-widgets/base",
            "top": null,
            "grid_column": null,
            "overflow_y": null,
            "overflow_x": null,
            "grid_auto_flow": null,
            "grid_area": null,
            "grid_template_columns": null,
            "flex": null,
            "_model_name": "LayoutModel",
            "justify_items": null,
            "grid_row": null,
            "max_height": null,
            "align_content": null,
            "visibility": null,
            "align_self": null,
            "height": null,
            "min_height": null,
            "padding": null,
            "grid_auto_rows": null,
            "grid_gap": null,
            "max_width": null,
            "order": null,
            "_view_module_version": "1.2.0",
            "grid_template_areas": null,
            "object_position": null,
            "object_fit": null,
            "grid_auto_columns": null,
            "margin": null,
            "display": null,
            "left": null
          }
        },
        "39d78277d260492c82604e0ac591bf81": {
          "model_module": "@jupyter-widgets/controls",
          "model_name": "DescriptionStyleModel",
          "state": {
            "_view_name": "StyleView",
            "_model_name": "DescriptionStyleModel",
            "description_width": "",
            "_view_module": "@jupyter-widgets/base",
            "_model_module_version": "1.5.0",
            "_view_count": null,
            "_view_module_version": "1.2.0",
            "_model_module": "@jupyter-widgets/controls"
          }
        },
        "d0e2b7338f224d27bdd8cce81085368e": {
          "model_module": "@jupyter-widgets/base",
          "model_name": "LayoutModel",
          "state": {
            "_view_name": "LayoutView",
            "grid_template_rows": null,
            "right": null,
            "justify_content": null,
            "_view_module": "@jupyter-widgets/base",
            "overflow": null,
            "_model_module_version": "1.2.0",
            "_view_count": null,
            "flex_flow": null,
            "width": null,
            "min_width": null,
            "border": null,
            "align_items": null,
            "bottom": null,
            "_model_module": "@jupyter-widgets/base",
            "top": null,
            "grid_column": null,
            "overflow_y": null,
            "overflow_x": null,
            "grid_auto_flow": null,
            "grid_area": null,
            "grid_template_columns": null,
            "flex": null,
            "_model_name": "LayoutModel",
            "justify_items": null,
            "grid_row": null,
            "max_height": null,
            "align_content": null,
            "visibility": null,
            "align_self": null,
            "height": null,
            "min_height": null,
            "padding": null,
            "grid_auto_rows": null,
            "grid_gap": null,
            "max_width": null,
            "order": null,
            "_view_module_version": "1.2.0",
            "grid_template_areas": null,
            "object_position": null,
            "object_fit": null,
            "grid_auto_columns": null,
            "margin": null,
            "display": null,
            "left": null
          }
        },
        "f7858db1fd2943de8b66ad80c24fcdcc": {
          "model_module": "@jupyter-widgets/controls",
          "model_name": "HBoxModel",
          "state": {
            "_view_name": "HBoxView",
            "_dom_classes": [],
            "_model_name": "HBoxModel",
            "_view_module": "@jupyter-widgets/controls",
            "_model_module_version": "1.5.0",
            "_view_count": null,
            "_view_module_version": "1.5.0",
            "box_style": "",
            "layout": "IPY_MODEL_4fe1edf68f76445180204470b1cf0173",
            "_model_module": "@jupyter-widgets/controls",
            "children": [
              "IPY_MODEL_89db0ddc64324deda9fa19c4025a2067",
              "IPY_MODEL_7fb35d2701814b4f92a464f5f586da6b"
            ]
          }
        },
        "4fe1edf68f76445180204470b1cf0173": {
          "model_module": "@jupyter-widgets/base",
          "model_name": "LayoutModel",
          "state": {
            "_view_name": "LayoutView",
            "grid_template_rows": null,
            "right": null,
            "justify_content": null,
            "_view_module": "@jupyter-widgets/base",
            "overflow": null,
            "_model_module_version": "1.2.0",
            "_view_count": null,
            "flex_flow": null,
            "width": null,
            "min_width": null,
            "border": null,
            "align_items": null,
            "bottom": null,
            "_model_module": "@jupyter-widgets/base",
            "top": null,
            "grid_column": null,
            "overflow_y": null,
            "overflow_x": null,
            "grid_auto_flow": null,
            "grid_area": null,
            "grid_template_columns": null,
            "flex": null,
            "_model_name": "LayoutModel",
            "justify_items": null,
            "grid_row": null,
            "max_height": null,
            "align_content": null,
            "visibility": null,
            "align_self": null,
            "height": null,
            "min_height": null,
            "padding": null,
            "grid_auto_rows": null,
            "grid_gap": null,
            "max_width": null,
            "order": null,
            "_view_module_version": "1.2.0",
            "grid_template_areas": null,
            "object_position": null,
            "object_fit": null,
            "grid_auto_columns": null,
            "margin": null,
            "display": null,
            "left": null
          }
        },
        "89db0ddc64324deda9fa19c4025a2067": {
          "model_module": "@jupyter-widgets/controls",
          "model_name": "FloatProgressModel",
          "state": {
            "_view_name": "ProgressView",
            "style": "IPY_MODEL_77759d75db1943a79e5cd2d428bc3c75",
            "_dom_classes": [],
            "description": "Downloading: 100%",
            "_model_name": "FloatProgressModel",
            "bar_style": "success",
            "max": 869007403,
            "_view_module": "@jupyter-widgets/controls",
            "_model_module_version": "1.5.0",
            "value": 869007403,
            "_view_count": null,
            "_view_module_version": "1.5.0",
            "orientation": "horizontal",
            "min": 0,
            "description_tooltip": null,
            "_model_module": "@jupyter-widgets/controls",
            "layout": "IPY_MODEL_bd5c85d255034c2d9523f4bd791a3316"
          }
        },
        "7fb35d2701814b4f92a464f5f586da6b": {
          "model_module": "@jupyter-widgets/controls",
          "model_name": "HTMLModel",
          "state": {
            "_view_name": "HTMLView",
            "style": "IPY_MODEL_304aa1a335b746baba7f15fadebd4204",
            "_dom_classes": [],
            "description": "",
            "_model_name": "HTMLModel",
            "placeholder": "​",
            "_view_module": "@jupyter-widgets/controls",
            "_model_module_version": "1.5.0",
            "value": " 869M/869M [00:47&lt;00:00, 18.4MB/s]",
            "_view_count": null,
            "_view_module_version": "1.5.0",
            "description_tooltip": null,
            "_model_module": "@jupyter-widgets/controls",
            "layout": "IPY_MODEL_cc820ac41188474fbc198f4f6bad1242"
          }
        },
        "77759d75db1943a79e5cd2d428bc3c75": {
          "model_module": "@jupyter-widgets/controls",
          "model_name": "ProgressStyleModel",
          "state": {
            "_view_name": "StyleView",
            "_model_name": "ProgressStyleModel",
            "description_width": "initial",
            "_view_module": "@jupyter-widgets/base",
            "_model_module_version": "1.5.0",
            "_view_count": null,
            "_view_module_version": "1.2.0",
            "bar_color": null,
            "_model_module": "@jupyter-widgets/controls"
          }
        },
        "bd5c85d255034c2d9523f4bd791a3316": {
          "model_module": "@jupyter-widgets/base",
          "model_name": "LayoutModel",
          "state": {
            "_view_name": "LayoutView",
            "grid_template_rows": null,
            "right": null,
            "justify_content": null,
            "_view_module": "@jupyter-widgets/base",
            "overflow": null,
            "_model_module_version": "1.2.0",
            "_view_count": null,
            "flex_flow": null,
            "width": null,
            "min_width": null,
            "border": null,
            "align_items": null,
            "bottom": null,
            "_model_module": "@jupyter-widgets/base",
            "top": null,
            "grid_column": null,
            "overflow_y": null,
            "overflow_x": null,
            "grid_auto_flow": null,
            "grid_area": null,
            "grid_template_columns": null,
            "flex": null,
            "_model_name": "LayoutModel",
            "justify_items": null,
            "grid_row": null,
            "max_height": null,
            "align_content": null,
            "visibility": null,
            "align_self": null,
            "height": null,
            "min_height": null,
            "padding": null,
            "grid_auto_rows": null,
            "grid_gap": null,
            "max_width": null,
            "order": null,
            "_view_module_version": "1.2.0",
            "grid_template_areas": null,
            "object_position": null,
            "object_fit": null,
            "grid_auto_columns": null,
            "margin": null,
            "display": null,
            "left": null
          }
        },
        "304aa1a335b746baba7f15fadebd4204": {
          "model_module": "@jupyter-widgets/controls",
          "model_name": "DescriptionStyleModel",
          "state": {
            "_view_name": "StyleView",
            "_model_name": "DescriptionStyleModel",
            "description_width": "",
            "_view_module": "@jupyter-widgets/base",
            "_model_module_version": "1.5.0",
            "_view_count": null,
            "_view_module_version": "1.2.0",
            "_model_module": "@jupyter-widgets/controls"
          }
        },
        "cc820ac41188474fbc198f4f6bad1242": {
          "model_module": "@jupyter-widgets/base",
          "model_name": "LayoutModel",
          "state": {
            "_view_name": "LayoutView",
            "grid_template_rows": null,
            "right": null,
            "justify_content": null,
            "_view_module": "@jupyter-widgets/base",
            "overflow": null,
            "_model_module_version": "1.2.0",
            "_view_count": null,
            "flex_flow": null,
            "width": null,
            "min_width": null,
            "border": null,
            "align_items": null,
            "bottom": null,
            "_model_module": "@jupyter-widgets/base",
            "top": null,
            "grid_column": null,
            "overflow_y": null,
            "overflow_x": null,
            "grid_auto_flow": null,
            "grid_area": null,
            "grid_template_columns": null,
            "flex": null,
            "_model_name": "LayoutModel",
            "justify_items": null,
            "grid_row": null,
            "max_height": null,
            "align_content": null,
            "visibility": null,
            "align_self": null,
            "height": null,
            "min_height": null,
            "padding": null,
            "grid_auto_rows": null,
            "grid_gap": null,
            "max_width": null,
            "order": null,
            "_view_module_version": "1.2.0",
            "grid_template_areas": null,
            "object_position": null,
            "object_fit": null,
            "grid_auto_columns": null,
            "margin": null,
            "display": null,
            "left": null
          }
        },
        "64922352a5354136b220dc6ead9eb647": {
          "model_module": "@jupyter-widgets/controls",
          "model_name": "HBoxModel",
          "state": {
            "_view_name": "HBoxView",
            "_dom_classes": [],
            "_model_name": "HBoxModel",
            "_view_module": "@jupyter-widgets/controls",
            "_model_module_version": "1.5.0",
            "_view_count": null,
            "_view_module_version": "1.5.0",
            "box_style": "",
            "layout": "IPY_MODEL_5bd06f08e0584858995d00832189f6eb",
            "_model_module": "@jupyter-widgets/controls",
            "children": [
              "IPY_MODEL_af240b1fa8174cdbb56f5be1e059fa28",
              "IPY_MODEL_f68ba75e05894996a12dcef407e7e239"
            ]
          }
        },
        "5bd06f08e0584858995d00832189f6eb": {
          "model_module": "@jupyter-widgets/base",
          "model_name": "LayoutModel",
          "state": {
            "_view_name": "LayoutView",
            "grid_template_rows": null,
            "right": null,
            "justify_content": null,
            "_view_module": "@jupyter-widgets/base",
            "overflow": null,
            "_model_module_version": "1.2.0",
            "_view_count": null,
            "flex_flow": null,
            "width": null,
            "min_width": null,
            "border": null,
            "align_items": null,
            "bottom": null,
            "_model_module": "@jupyter-widgets/base",
            "top": null,
            "grid_column": null,
            "overflow_y": null,
            "overflow_x": null,
            "grid_auto_flow": null,
            "grid_area": null,
            "grid_template_columns": null,
            "flex": null,
            "_model_name": "LayoutModel",
            "justify_items": null,
            "grid_row": null,
            "max_height": null,
            "align_content": null,
            "visibility": null,
            "align_self": null,
            "height": null,
            "min_height": null,
            "padding": null,
            "grid_auto_rows": null,
            "grid_gap": null,
            "max_width": null,
            "order": null,
            "_view_module_version": "1.2.0",
            "grid_template_areas": null,
            "object_position": null,
            "object_fit": null,
            "grid_auto_columns": null,
            "margin": null,
            "display": null,
            "left": null
          }
        },
        "af240b1fa8174cdbb56f5be1e059fa28": {
          "model_module": "@jupyter-widgets/controls",
          "model_name": "FloatProgressModel",
          "state": {
            "_view_name": "ProgressView",
            "style": "IPY_MODEL_ac8d98054a0b4d238d01f332dd946c04",
            "_dom_classes": [],
            "description": "",
            "_model_name": "FloatProgressModel",
            "bar_style": "info",
            "max": 1,
            "_view_module": "@jupyter-widgets/controls",
            "_model_module_version": "1.5.0",
            "value": 1,
            "_view_count": null,
            "_view_module_version": "1.5.0",
            "orientation": "horizontal",
            "min": 0,
            "description_tooltip": null,
            "_model_module": "@jupyter-widgets/controls",
            "layout": "IPY_MODEL_5159c8b1388241d689dae5d3a29d34ec"
          }
        },
        "f68ba75e05894996a12dcef407e7e239": {
          "model_module": "@jupyter-widgets/controls",
          "model_name": "HTMLModel",
          "state": {
            "_view_name": "HTMLView",
            "style": "IPY_MODEL_7ea25a97b9b640d6b75475fe6fcc7349",
            "_dom_classes": [],
            "description": "",
            "_model_name": "HTMLModel",
            "placeholder": "​",
            "_view_module": "@jupyter-widgets/controls",
            "_model_module_version": "1.5.0",
            "value": " 4620/0 [00:08&lt;00:00, 1336.23 examples/s]",
            "_view_count": null,
            "_view_module_version": "1.5.0",
            "description_tooltip": null,
            "_model_module": "@jupyter-widgets/controls",
            "layout": "IPY_MODEL_237cbe8ca8c9485fb9d1848cde412a00"
          }
        },
        "ac8d98054a0b4d238d01f332dd946c04": {
          "model_module": "@jupyter-widgets/controls",
          "model_name": "ProgressStyleModel",
          "state": {
            "_view_name": "StyleView",
            "_model_name": "ProgressStyleModel",
            "description_width": "initial",
            "_view_module": "@jupyter-widgets/base",
            "_model_module_version": "1.5.0",
            "_view_count": null,
            "_view_module_version": "1.2.0",
            "bar_color": null,
            "_model_module": "@jupyter-widgets/controls"
          }
        },
        "5159c8b1388241d689dae5d3a29d34ec": {
          "model_module": "@jupyter-widgets/base",
          "model_name": "LayoutModel",
          "state": {
            "_view_name": "LayoutView",
            "grid_template_rows": null,
            "right": null,
            "justify_content": null,
            "_view_module": "@jupyter-widgets/base",
            "overflow": null,
            "_model_module_version": "1.2.0",
            "_view_count": null,
            "flex_flow": null,
            "width": null,
            "min_width": null,
            "border": null,
            "align_items": null,
            "bottom": null,
            "_model_module": "@jupyter-widgets/base",
            "top": null,
            "grid_column": null,
            "overflow_y": null,
            "overflow_x": null,
            "grid_auto_flow": null,
            "grid_area": null,
            "grid_template_columns": null,
            "flex": null,
            "_model_name": "LayoutModel",
            "justify_items": null,
            "grid_row": null,
            "max_height": null,
            "align_content": null,
            "visibility": null,
            "align_self": null,
            "height": null,
            "min_height": null,
            "padding": null,
            "grid_auto_rows": null,
            "grid_gap": null,
            "max_width": null,
            "order": null,
            "_view_module_version": "1.2.0",
            "grid_template_areas": null,
            "object_position": null,
            "object_fit": null,
            "grid_auto_columns": null,
            "margin": null,
            "display": null,
            "left": null
          }
        },
        "7ea25a97b9b640d6b75475fe6fcc7349": {
          "model_module": "@jupyter-widgets/controls",
          "model_name": "DescriptionStyleModel",
          "state": {
            "_view_name": "StyleView",
            "_model_name": "DescriptionStyleModel",
            "description_width": "",
            "_view_module": "@jupyter-widgets/base",
            "_model_module_version": "1.5.0",
            "_view_count": null,
            "_view_module_version": "1.2.0",
            "_model_module": "@jupyter-widgets/controls"
          }
        },
        "237cbe8ca8c9485fb9d1848cde412a00": {
          "model_module": "@jupyter-widgets/base",
          "model_name": "LayoutModel",
          "state": {
            "_view_name": "LayoutView",
            "grid_template_rows": null,
            "right": null,
            "justify_content": null,
            "_view_module": "@jupyter-widgets/base",
            "overflow": null,
            "_model_module_version": "1.2.0",
            "_view_count": null,
            "flex_flow": null,
            "width": null,
            "min_width": null,
            "border": null,
            "align_items": null,
            "bottom": null,
            "_model_module": "@jupyter-widgets/base",
            "top": null,
            "grid_column": null,
            "overflow_y": null,
            "overflow_x": null,
            "grid_auto_flow": null,
            "grid_area": null,
            "grid_template_columns": null,
            "flex": null,
            "_model_name": "LayoutModel",
            "justify_items": null,
            "grid_row": null,
            "max_height": null,
            "align_content": null,
            "visibility": null,
            "align_self": null,
            "height": null,
            "min_height": null,
            "padding": null,
            "grid_auto_rows": null,
            "grid_gap": null,
            "max_width": null,
            "order": null,
            "_view_module_version": "1.2.0",
            "grid_template_areas": null,
            "object_position": null,
            "object_fit": null,
            "grid_auto_columns": null,
            "margin": null,
            "display": null,
            "left": null
          }
        },
        "9654a59a4dfb4421889509e45c826efc": {
          "model_module": "@jupyter-widgets/controls",
          "model_name": "HBoxModel",
          "state": {
            "_view_name": "HBoxView",
            "_dom_classes": [],
            "_model_name": "HBoxModel",
            "_view_module": "@jupyter-widgets/controls",
            "_model_module_version": "1.5.0",
            "_view_count": null,
            "_view_module_version": "1.5.0",
            "box_style": "",
            "layout": "IPY_MODEL_dd6798da15484a12a5f0d5b6470bf06e",
            "_model_module": "@jupyter-widgets/controls",
            "children": [
              "IPY_MODEL_263da547abb94f01a21e1e7f1e1b985a",
              "IPY_MODEL_293af1a1b9c84583b04539dd9af186c4"
            ]
          }
        },
        "dd6798da15484a12a5f0d5b6470bf06e": {
          "model_module": "@jupyter-widgets/base",
          "model_name": "LayoutModel",
          "state": {
            "_view_name": "LayoutView",
            "grid_template_rows": null,
            "right": null,
            "justify_content": null,
            "_view_module": "@jupyter-widgets/base",
            "overflow": null,
            "_model_module_version": "1.2.0",
            "_view_count": null,
            "flex_flow": null,
            "width": null,
            "min_width": null,
            "border": null,
            "align_items": null,
            "bottom": null,
            "_model_module": "@jupyter-widgets/base",
            "top": null,
            "grid_column": null,
            "overflow_y": null,
            "overflow_x": null,
            "grid_auto_flow": null,
            "grid_area": null,
            "grid_template_columns": null,
            "flex": null,
            "_model_name": "LayoutModel",
            "justify_items": null,
            "grid_row": null,
            "max_height": null,
            "align_content": null,
            "visibility": null,
            "align_self": null,
            "height": null,
            "min_height": null,
            "padding": null,
            "grid_auto_rows": null,
            "grid_gap": null,
            "max_width": null,
            "order": null,
            "_view_module_version": "1.2.0",
            "grid_template_areas": null,
            "object_position": null,
            "object_fit": null,
            "grid_auto_columns": null,
            "margin": null,
            "display": null,
            "left": null
          }
        },
        "263da547abb94f01a21e1e7f1e1b985a": {
          "model_module": "@jupyter-widgets/controls",
          "model_name": "FloatProgressModel",
          "state": {
            "_view_name": "ProgressView",
            "style": "IPY_MODEL_e7b5987e7eb94b369db5cf39a237374c",
            "_dom_classes": [],
            "description": "",
            "_model_name": "FloatProgressModel",
            "bar_style": "info",
            "max": 1,
            "_view_module": "@jupyter-widgets/controls",
            "_model_module_version": "1.5.0",
            "value": 1,
            "_view_count": null,
            "_view_module_version": "1.5.0",
            "orientation": "horizontal",
            "min": 0,
            "description_tooltip": null,
            "_model_module": "@jupyter-widgets/controls",
            "layout": "IPY_MODEL_8e7e2167b815485692eea685d24d8b4d"
          }
        },
        "293af1a1b9c84583b04539dd9af186c4": {
          "model_module": "@jupyter-widgets/controls",
          "model_name": "HTMLModel",
          "state": {
            "_view_name": "HTMLView",
            "style": "IPY_MODEL_d4247f2dd70746dbbe8408e8bd4dea96",
            "_dom_classes": [],
            "description": "",
            "_model_name": "HTMLModel",
            "placeholder": "​",
            "_view_module": "@jupyter-widgets/controls",
            "_model_module_version": "1.5.0",
            "value": " 1680/0 [00:01&lt;00:00, 1222.56 examples/s]",
            "_view_count": null,
            "_view_module_version": "1.5.0",
            "description_tooltip": null,
            "_model_module": "@jupyter-widgets/controls",
            "layout": "IPY_MODEL_0a07e3837de54ca4a835aa280d462290"
          }
        },
        "e7b5987e7eb94b369db5cf39a237374c": {
          "model_module": "@jupyter-widgets/controls",
          "model_name": "ProgressStyleModel",
          "state": {
            "_view_name": "StyleView",
            "_model_name": "ProgressStyleModel",
            "description_width": "initial",
            "_view_module": "@jupyter-widgets/base",
            "_model_module_version": "1.5.0",
            "_view_count": null,
            "_view_module_version": "1.2.0",
            "bar_color": null,
            "_model_module": "@jupyter-widgets/controls"
          }
        },
        "8e7e2167b815485692eea685d24d8b4d": {
          "model_module": "@jupyter-widgets/base",
          "model_name": "LayoutModel",
          "state": {
            "_view_name": "LayoutView",
            "grid_template_rows": null,
            "right": null,
            "justify_content": null,
            "_view_module": "@jupyter-widgets/base",
            "overflow": null,
            "_model_module_version": "1.2.0",
            "_view_count": null,
            "flex_flow": null,
            "width": null,
            "min_width": null,
            "border": null,
            "align_items": null,
            "bottom": null,
            "_model_module": "@jupyter-widgets/base",
            "top": null,
            "grid_column": null,
            "overflow_y": null,
            "overflow_x": null,
            "grid_auto_flow": null,
            "grid_area": null,
            "grid_template_columns": null,
            "flex": null,
            "_model_name": "LayoutModel",
            "justify_items": null,
            "grid_row": null,
            "max_height": null,
            "align_content": null,
            "visibility": null,
            "align_self": null,
            "height": null,
            "min_height": null,
            "padding": null,
            "grid_auto_rows": null,
            "grid_gap": null,
            "max_width": null,
            "order": null,
            "_view_module_version": "1.2.0",
            "grid_template_areas": null,
            "object_position": null,
            "object_fit": null,
            "grid_auto_columns": null,
            "margin": null,
            "display": null,
            "left": null
          }
        },
        "d4247f2dd70746dbbe8408e8bd4dea96": {
          "model_module": "@jupyter-widgets/controls",
          "model_name": "DescriptionStyleModel",
          "state": {
            "_view_name": "StyleView",
            "_model_name": "DescriptionStyleModel",
            "description_width": "",
            "_view_module": "@jupyter-widgets/base",
            "_model_module_version": "1.5.0",
            "_view_count": null,
            "_view_module_version": "1.2.0",
            "_model_module": "@jupyter-widgets/controls"
          }
        },
        "0a07e3837de54ca4a835aa280d462290": {
          "model_module": "@jupyter-widgets/base",
          "model_name": "LayoutModel",
          "state": {
            "_view_name": "LayoutView",
            "grid_template_rows": null,
            "right": null,
            "justify_content": null,
            "_view_module": "@jupyter-widgets/base",
            "overflow": null,
            "_model_module_version": "1.2.0",
            "_view_count": null,
            "flex_flow": null,
            "width": null,
            "min_width": null,
            "border": null,
            "align_items": null,
            "bottom": null,
            "_model_module": "@jupyter-widgets/base",
            "top": null,
            "grid_column": null,
            "overflow_y": null,
            "overflow_x": null,
            "grid_auto_flow": null,
            "grid_area": null,
            "grid_template_columns": null,
            "flex": null,
            "_model_name": "LayoutModel",
            "justify_items": null,
            "grid_row": null,
            "max_height": null,
            "align_content": null,
            "visibility": null,
            "align_self": null,
            "height": null,
            "min_height": null,
            "padding": null,
            "grid_auto_rows": null,
            "grid_gap": null,
            "max_width": null,
            "order": null,
            "_view_module_version": "1.2.0",
            "grid_template_areas": null,
            "object_position": null,
            "object_fit": null,
            "grid_auto_columns": null,
            "margin": null,
            "display": null,
            "left": null
          }
        },
        "6398124407104d46b14a73b2e8abf3d5": {
          "model_module": "@jupyter-widgets/controls",
          "model_name": "HBoxModel",
          "state": {
            "_view_name": "HBoxView",
            "_dom_classes": [],
            "_model_name": "HBoxModel",
            "_view_module": "@jupyter-widgets/controls",
            "_model_module_version": "1.5.0",
            "_view_count": null,
            "_view_module_version": "1.5.0",
            "box_style": "",
            "layout": "IPY_MODEL_2b31ef1dff404e47bb444ad858071b72",
            "_model_module": "@jupyter-widgets/controls",
            "children": [
              "IPY_MODEL_2fb7b78d2fc344e98b2782a857465b75",
              "IPY_MODEL_894901d9d8a44251853fe55c8184c131"
            ]
          }
        },
        "2b31ef1dff404e47bb444ad858071b72": {
          "model_module": "@jupyter-widgets/base",
          "model_name": "LayoutModel",
          "state": {
            "_view_name": "LayoutView",
            "grid_template_rows": null,
            "right": null,
            "justify_content": null,
            "_view_module": "@jupyter-widgets/base",
            "overflow": null,
            "_model_module_version": "1.2.0",
            "_view_count": null,
            "flex_flow": null,
            "width": null,
            "min_width": null,
            "border": null,
            "align_items": null,
            "bottom": null,
            "_model_module": "@jupyter-widgets/base",
            "top": null,
            "grid_column": null,
            "overflow_y": null,
            "overflow_x": null,
            "grid_auto_flow": null,
            "grid_area": null,
            "grid_template_columns": null,
            "flex": null,
            "_model_name": "LayoutModel",
            "justify_items": null,
            "grid_row": null,
            "max_height": null,
            "align_content": null,
            "visibility": null,
            "align_self": null,
            "height": null,
            "min_height": null,
            "padding": null,
            "grid_auto_rows": null,
            "grid_gap": null,
            "max_width": null,
            "order": null,
            "_view_module_version": "1.2.0",
            "grid_template_areas": null,
            "object_position": null,
            "object_fit": null,
            "grid_auto_columns": null,
            "margin": null,
            "display": null,
            "left": null
          }
        },
        "2fb7b78d2fc344e98b2782a857465b75": {
          "model_module": "@jupyter-widgets/controls",
          "model_name": "FloatProgressModel",
          "state": {
            "_view_name": "ProgressView",
            "style": "IPY_MODEL_11fe8366ecf043bca366faa2c72391cf",
            "_dom_classes": [],
            "description": "100%",
            "_model_name": "FloatProgressModel",
            "bar_style": "success",
            "max": 4620,
            "_view_module": "@jupyter-widgets/controls",
            "_model_module_version": "1.5.0",
            "value": 4620,
            "_view_count": null,
            "_view_module_version": "1.5.0",
            "orientation": "horizontal",
            "min": 0,
            "description_tooltip": null,
            "_model_module": "@jupyter-widgets/controls",
            "layout": "IPY_MODEL_99bf7c882b70412c87eaac10f483d0d2"
          }
        },
        "894901d9d8a44251853fe55c8184c131": {
          "model_module": "@jupyter-widgets/controls",
          "model_name": "HTMLModel",
          "state": {
            "_view_name": "HTMLView",
            "style": "IPY_MODEL_512add842bf144428ce4a24320fe98bb",
            "_dom_classes": [],
            "description": "",
            "_model_name": "HTMLModel",
            "placeholder": "​",
            "_view_module": "@jupyter-widgets/controls",
            "_model_module_version": "1.5.0",
            "value": " 4620/4620 [02:35&lt;00:00, 29.62ex/s]",
            "_view_count": null,
            "_view_module_version": "1.5.0",
            "description_tooltip": null,
            "_model_module": "@jupyter-widgets/controls",
            "layout": "IPY_MODEL_d5540b203c5a49538e0d26a4ebf528ef"
          }
        },
        "11fe8366ecf043bca366faa2c72391cf": {
          "model_module": "@jupyter-widgets/controls",
          "model_name": "ProgressStyleModel",
          "state": {
            "_view_name": "StyleView",
            "_model_name": "ProgressStyleModel",
            "description_width": "initial",
            "_view_module": "@jupyter-widgets/base",
            "_model_module_version": "1.5.0",
            "_view_count": null,
            "_view_module_version": "1.2.0",
            "bar_color": null,
            "_model_module": "@jupyter-widgets/controls"
          }
        },
        "99bf7c882b70412c87eaac10f483d0d2": {
          "model_module": "@jupyter-widgets/base",
          "model_name": "LayoutModel",
          "state": {
            "_view_name": "LayoutView",
            "grid_template_rows": null,
            "right": null,
            "justify_content": null,
            "_view_module": "@jupyter-widgets/base",
            "overflow": null,
            "_model_module_version": "1.2.0",
            "_view_count": null,
            "flex_flow": null,
            "width": null,
            "min_width": null,
            "border": null,
            "align_items": null,
            "bottom": null,
            "_model_module": "@jupyter-widgets/base",
            "top": null,
            "grid_column": null,
            "overflow_y": null,
            "overflow_x": null,
            "grid_auto_flow": null,
            "grid_area": null,
            "grid_template_columns": null,
            "flex": null,
            "_model_name": "LayoutModel",
            "justify_items": null,
            "grid_row": null,
            "max_height": null,
            "align_content": null,
            "visibility": null,
            "align_self": null,
            "height": null,
            "min_height": null,
            "padding": null,
            "grid_auto_rows": null,
            "grid_gap": null,
            "max_width": null,
            "order": null,
            "_view_module_version": "1.2.0",
            "grid_template_areas": null,
            "object_position": null,
            "object_fit": null,
            "grid_auto_columns": null,
            "margin": null,
            "display": null,
            "left": null
          }
        },
        "512add842bf144428ce4a24320fe98bb": {
          "model_module": "@jupyter-widgets/controls",
          "model_name": "DescriptionStyleModel",
          "state": {
            "_view_name": "StyleView",
            "_model_name": "DescriptionStyleModel",
            "description_width": "",
            "_view_module": "@jupyter-widgets/base",
            "_model_module_version": "1.5.0",
            "_view_count": null,
            "_view_module_version": "1.2.0",
            "_model_module": "@jupyter-widgets/controls"
          }
        },
        "d5540b203c5a49538e0d26a4ebf528ef": {
          "model_module": "@jupyter-widgets/base",
          "model_name": "LayoutModel",
          "state": {
            "_view_name": "LayoutView",
            "grid_template_rows": null,
            "right": null,
            "justify_content": null,
            "_view_module": "@jupyter-widgets/base",
            "overflow": null,
            "_model_module_version": "1.2.0",
            "_view_count": null,
            "flex_flow": null,
            "width": null,
            "min_width": null,
            "border": null,
            "align_items": null,
            "bottom": null,
            "_model_module": "@jupyter-widgets/base",
            "top": null,
            "grid_column": null,
            "overflow_y": null,
            "overflow_x": null,
            "grid_auto_flow": null,
            "grid_area": null,
            "grid_template_columns": null,
            "flex": null,
            "_model_name": "LayoutModel",
            "justify_items": null,
            "grid_row": null,
            "max_height": null,
            "align_content": null,
            "visibility": null,
            "align_self": null,
            "height": null,
            "min_height": null,
            "padding": null,
            "grid_auto_rows": null,
            "grid_gap": null,
            "max_width": null,
            "order": null,
            "_view_module_version": "1.2.0",
            "grid_template_areas": null,
            "object_position": null,
            "object_fit": null,
            "grid_auto_columns": null,
            "margin": null,
            "display": null,
            "left": null
          }
        },
        "b48f0930999940f4b0c94c5e6a12c17b": {
          "model_module": "@jupyter-widgets/controls",
          "model_name": "HBoxModel",
          "state": {
            "_view_name": "HBoxView",
            "_dom_classes": [],
            "_model_name": "HBoxModel",
            "_view_module": "@jupyter-widgets/controls",
            "_model_module_version": "1.5.0",
            "_view_count": null,
            "_view_module_version": "1.5.0",
            "box_style": "",
            "layout": "IPY_MODEL_63179d7983b64efb869e0b9ec54e8eb4",
            "_model_module": "@jupyter-widgets/controls",
            "children": [
              "IPY_MODEL_0987141bc11a4d278d9f02d3dbd601da",
              "IPY_MODEL_e4c81dfe1c544ca08971f332f5d01f61"
            ]
          }
        },
        "63179d7983b64efb869e0b9ec54e8eb4": {
          "model_module": "@jupyter-widgets/base",
          "model_name": "LayoutModel",
          "state": {
            "_view_name": "LayoutView",
            "grid_template_rows": null,
            "right": null,
            "justify_content": null,
            "_view_module": "@jupyter-widgets/base",
            "overflow": null,
            "_model_module_version": "1.2.0",
            "_view_count": null,
            "flex_flow": null,
            "width": null,
            "min_width": null,
            "border": null,
            "align_items": null,
            "bottom": null,
            "_model_module": "@jupyter-widgets/base",
            "top": null,
            "grid_column": null,
            "overflow_y": null,
            "overflow_x": null,
            "grid_auto_flow": null,
            "grid_area": null,
            "grid_template_columns": null,
            "flex": null,
            "_model_name": "LayoutModel",
            "justify_items": null,
            "grid_row": null,
            "max_height": null,
            "align_content": null,
            "visibility": null,
            "align_self": null,
            "height": null,
            "min_height": null,
            "padding": null,
            "grid_auto_rows": null,
            "grid_gap": null,
            "max_width": null,
            "order": null,
            "_view_module_version": "1.2.0",
            "grid_template_areas": null,
            "object_position": null,
            "object_fit": null,
            "grid_auto_columns": null,
            "margin": null,
            "display": null,
            "left": null
          }
        },
        "0987141bc11a4d278d9f02d3dbd601da": {
          "model_module": "@jupyter-widgets/controls",
          "model_name": "FloatProgressModel",
          "state": {
            "_view_name": "ProgressView",
            "style": "IPY_MODEL_b5152970431e4e2c9d6fca4671c65bfd",
            "_dom_classes": [],
            "description": "100%",
            "_model_name": "FloatProgressModel",
            "bar_style": "success",
            "max": 1680,
            "_view_module": "@jupyter-widgets/controls",
            "_model_module_version": "1.5.0",
            "value": 1680,
            "_view_count": null,
            "_view_module_version": "1.5.0",
            "orientation": "horizontal",
            "min": 0,
            "description_tooltip": null,
            "_model_module": "@jupyter-widgets/controls",
            "layout": "IPY_MODEL_a016ab07046742789a871915add80abf"
          }
        },
        "e4c81dfe1c544ca08971f332f5d01f61": {
          "model_module": "@jupyter-widgets/controls",
          "model_name": "HTMLModel",
          "state": {
            "_view_name": "HTMLView",
            "style": "IPY_MODEL_0414e63280bb41d49581ab9584cd8c1b",
            "_dom_classes": [],
            "description": "",
            "_model_name": "HTMLModel",
            "placeholder": "​",
            "_view_module": "@jupyter-widgets/controls",
            "_model_module_version": "1.5.0",
            "value": " 1680/1680 [02:34&lt;00:00, 10.85ex/s]",
            "_view_count": null,
            "_view_module_version": "1.5.0",
            "description_tooltip": null,
            "_model_module": "@jupyter-widgets/controls",
            "layout": "IPY_MODEL_3ec5fa9413f34ff6acf468237d26e94f"
          }
        },
        "b5152970431e4e2c9d6fca4671c65bfd": {
          "model_module": "@jupyter-widgets/controls",
          "model_name": "ProgressStyleModel",
          "state": {
            "_view_name": "StyleView",
            "_model_name": "ProgressStyleModel",
            "description_width": "initial",
            "_view_module": "@jupyter-widgets/base",
            "_model_module_version": "1.5.0",
            "_view_count": null,
            "_view_module_version": "1.2.0",
            "bar_color": null,
            "_model_module": "@jupyter-widgets/controls"
          }
        },
        "a016ab07046742789a871915add80abf": {
          "model_module": "@jupyter-widgets/base",
          "model_name": "LayoutModel",
          "state": {
            "_view_name": "LayoutView",
            "grid_template_rows": null,
            "right": null,
            "justify_content": null,
            "_view_module": "@jupyter-widgets/base",
            "overflow": null,
            "_model_module_version": "1.2.0",
            "_view_count": null,
            "flex_flow": null,
            "width": null,
            "min_width": null,
            "border": null,
            "align_items": null,
            "bottom": null,
            "_model_module": "@jupyter-widgets/base",
            "top": null,
            "grid_column": null,
            "overflow_y": null,
            "overflow_x": null,
            "grid_auto_flow": null,
            "grid_area": null,
            "grid_template_columns": null,
            "flex": null,
            "_model_name": "LayoutModel",
            "justify_items": null,
            "grid_row": null,
            "max_height": null,
            "align_content": null,
            "visibility": null,
            "align_self": null,
            "height": null,
            "min_height": null,
            "padding": null,
            "grid_auto_rows": null,
            "grid_gap": null,
            "max_width": null,
            "order": null,
            "_view_module_version": "1.2.0",
            "grid_template_areas": null,
            "object_position": null,
            "object_fit": null,
            "grid_auto_columns": null,
            "margin": null,
            "display": null,
            "left": null
          }
        },
        "0414e63280bb41d49581ab9584cd8c1b": {
          "model_module": "@jupyter-widgets/controls",
          "model_name": "DescriptionStyleModel",
          "state": {
            "_view_name": "StyleView",
            "_model_name": "DescriptionStyleModel",
            "description_width": "",
            "_view_module": "@jupyter-widgets/base",
            "_model_module_version": "1.5.0",
            "_view_count": null,
            "_view_module_version": "1.2.0",
            "_model_module": "@jupyter-widgets/controls"
          }
        },
        "3ec5fa9413f34ff6acf468237d26e94f": {
          "model_module": "@jupyter-widgets/base",
          "model_name": "LayoutModel",
          "state": {
            "_view_name": "LayoutView",
            "grid_template_rows": null,
            "right": null,
            "justify_content": null,
            "_view_module": "@jupyter-widgets/base",
            "overflow": null,
            "_model_module_version": "1.2.0",
            "_view_count": null,
            "flex_flow": null,
            "width": null,
            "min_width": null,
            "border": null,
            "align_items": null,
            "bottom": null,
            "_model_module": "@jupyter-widgets/base",
            "top": null,
            "grid_column": null,
            "overflow_y": null,
            "overflow_x": null,
            "grid_auto_flow": null,
            "grid_area": null,
            "grid_template_columns": null,
            "flex": null,
            "_model_name": "LayoutModel",
            "justify_items": null,
            "grid_row": null,
            "max_height": null,
            "align_content": null,
            "visibility": null,
            "align_self": null,
            "height": null,
            "min_height": null,
            "padding": null,
            "grid_auto_rows": null,
            "grid_gap": null,
            "max_width": null,
            "order": null,
            "_view_module_version": "1.2.0",
            "grid_template_areas": null,
            "object_position": null,
            "object_fit": null,
            "grid_auto_columns": null,
            "margin": null,
            "display": null,
            "left": null
          }
        },
        "b9204baecbd445cfbea16efaa608282c": {
          "model_module": "@jupyter-widgets/controls",
          "model_name": "HBoxModel",
          "state": {
            "_view_name": "HBoxView",
            "_dom_classes": [],
            "_model_name": "HBoxModel",
            "_view_module": "@jupyter-widgets/controls",
            "_model_module_version": "1.5.0",
            "_view_count": null,
            "_view_module_version": "1.5.0",
            "box_style": "",
            "layout": "IPY_MODEL_bf657ac39d554a24922baaae783daf34",
            "_model_module": "@jupyter-widgets/controls",
            "children": [
              "IPY_MODEL_38aa96ec0c9a4863a44f72cf3e8bad06",
              "IPY_MODEL_0bfe4abb159942c7a3c45bd9dcf3383e"
            ]
          }
        },
        "bf657ac39d554a24922baaae783daf34": {
          "model_module": "@jupyter-widgets/base",
          "model_name": "LayoutModel",
          "state": {
            "_view_name": "LayoutView",
            "grid_template_rows": null,
            "right": null,
            "justify_content": null,
            "_view_module": "@jupyter-widgets/base",
            "overflow": null,
            "_model_module_version": "1.2.0",
            "_view_count": null,
            "flex_flow": null,
            "width": null,
            "min_width": null,
            "border": null,
            "align_items": null,
            "bottom": null,
            "_model_module": "@jupyter-widgets/base",
            "top": null,
            "grid_column": null,
            "overflow_y": null,
            "overflow_x": null,
            "grid_auto_flow": null,
            "grid_area": null,
            "grid_template_columns": null,
            "flex": null,
            "_model_name": "LayoutModel",
            "justify_items": null,
            "grid_row": null,
            "max_height": null,
            "align_content": null,
            "visibility": null,
            "align_self": null,
            "height": null,
            "min_height": null,
            "padding": null,
            "grid_auto_rows": null,
            "grid_gap": null,
            "max_width": null,
            "order": null,
            "_view_module_version": "1.2.0",
            "grid_template_areas": null,
            "object_position": null,
            "object_fit": null,
            "grid_auto_columns": null,
            "margin": null,
            "display": null,
            "left": null
          }
        },
        "38aa96ec0c9a4863a44f72cf3e8bad06": {
          "model_module": "@jupyter-widgets/controls",
          "model_name": "FloatProgressModel",
          "state": {
            "_view_name": "ProgressView",
            "style": "IPY_MODEL_ff37b22257f04e2eaeb5e4cd02ddc5f7",
            "_dom_classes": [],
            "description": "100%",
            "_model_name": "FloatProgressModel",
            "bar_style": "success",
            "max": 4620,
            "_view_module": "@jupyter-widgets/controls",
            "_model_module_version": "1.5.0",
            "value": 4620,
            "_view_count": null,
            "_view_module_version": "1.5.0",
            "orientation": "horizontal",
            "min": 0,
            "description_tooltip": null,
            "_model_module": "@jupyter-widgets/controls",
            "layout": "IPY_MODEL_7ef5d0f5267544b9a0c5f1baba4c2f18"
          }
        },
        "0bfe4abb159942c7a3c45bd9dcf3383e": {
          "model_module": "@jupyter-widgets/controls",
          "model_name": "HTMLModel",
          "state": {
            "_view_name": "HTMLView",
            "style": "IPY_MODEL_a4313346ddc3412eabc673282adb4581",
            "_dom_classes": [],
            "description": "",
            "_model_name": "HTMLModel",
            "placeholder": "​",
            "_view_module": "@jupyter-widgets/controls",
            "_model_module_version": "1.5.0",
            "value": " 4620/4620 [02:39&lt;00:00, 28.97ex/s]",
            "_view_count": null,
            "_view_module_version": "1.5.0",
            "description_tooltip": null,
            "_model_module": "@jupyter-widgets/controls",
            "layout": "IPY_MODEL_059d6ac964d14e99881ce3e60b1f4cda"
          }
        },
        "ff37b22257f04e2eaeb5e4cd02ddc5f7": {
          "model_module": "@jupyter-widgets/controls",
          "model_name": "ProgressStyleModel",
          "state": {
            "_view_name": "StyleView",
            "_model_name": "ProgressStyleModel",
            "description_width": "initial",
            "_view_module": "@jupyter-widgets/base",
            "_model_module_version": "1.5.0",
            "_view_count": null,
            "_view_module_version": "1.2.0",
            "bar_color": null,
            "_model_module": "@jupyter-widgets/controls"
          }
        },
        "7ef5d0f5267544b9a0c5f1baba4c2f18": {
          "model_module": "@jupyter-widgets/base",
          "model_name": "LayoutModel",
          "state": {
            "_view_name": "LayoutView",
            "grid_template_rows": null,
            "right": null,
            "justify_content": null,
            "_view_module": "@jupyter-widgets/base",
            "overflow": null,
            "_model_module_version": "1.2.0",
            "_view_count": null,
            "flex_flow": null,
            "width": null,
            "min_width": null,
            "border": null,
            "align_items": null,
            "bottom": null,
            "_model_module": "@jupyter-widgets/base",
            "top": null,
            "grid_column": null,
            "overflow_y": null,
            "overflow_x": null,
            "grid_auto_flow": null,
            "grid_area": null,
            "grid_template_columns": null,
            "flex": null,
            "_model_name": "LayoutModel",
            "justify_items": null,
            "grid_row": null,
            "max_height": null,
            "align_content": null,
            "visibility": null,
            "align_self": null,
            "height": null,
            "min_height": null,
            "padding": null,
            "grid_auto_rows": null,
            "grid_gap": null,
            "max_width": null,
            "order": null,
            "_view_module_version": "1.2.0",
            "grid_template_areas": null,
            "object_position": null,
            "object_fit": null,
            "grid_auto_columns": null,
            "margin": null,
            "display": null,
            "left": null
          }
        },
        "a4313346ddc3412eabc673282adb4581": {
          "model_module": "@jupyter-widgets/controls",
          "model_name": "DescriptionStyleModel",
          "state": {
            "_view_name": "StyleView",
            "_model_name": "DescriptionStyleModel",
            "description_width": "",
            "_view_module": "@jupyter-widgets/base",
            "_model_module_version": "1.5.0",
            "_view_count": null,
            "_view_module_version": "1.2.0",
            "_model_module": "@jupyter-widgets/controls"
          }
        },
        "059d6ac964d14e99881ce3e60b1f4cda": {
          "model_module": "@jupyter-widgets/base",
          "model_name": "LayoutModel",
          "state": {
            "_view_name": "LayoutView",
            "grid_template_rows": null,
            "right": null,
            "justify_content": null,
            "_view_module": "@jupyter-widgets/base",
            "overflow": null,
            "_model_module_version": "1.2.0",
            "_view_count": null,
            "flex_flow": null,
            "width": null,
            "min_width": null,
            "border": null,
            "align_items": null,
            "bottom": null,
            "_model_module": "@jupyter-widgets/base",
            "top": null,
            "grid_column": null,
            "overflow_y": null,
            "overflow_x": null,
            "grid_auto_flow": null,
            "grid_area": null,
            "grid_template_columns": null,
            "flex": null,
            "_model_name": "LayoutModel",
            "justify_items": null,
            "grid_row": null,
            "max_height": null,
            "align_content": null,
            "visibility": null,
            "align_self": null,
            "height": null,
            "min_height": null,
            "padding": null,
            "grid_auto_rows": null,
            "grid_gap": null,
            "max_width": null,
            "order": null,
            "_view_module_version": "1.2.0",
            "grid_template_areas": null,
            "object_position": null,
            "object_fit": null,
            "grid_auto_columns": null,
            "margin": null,
            "display": null,
            "left": null
          }
        },
        "28d1062331f64e3991726b948275b279": {
          "model_module": "@jupyter-widgets/controls",
          "model_name": "HBoxModel",
          "state": {
            "_view_name": "HBoxView",
            "_dom_classes": [],
            "_model_name": "HBoxModel",
            "_view_module": "@jupyter-widgets/controls",
            "_model_module_version": "1.5.0",
            "_view_count": null,
            "_view_module_version": "1.5.0",
            "box_style": "",
            "layout": "IPY_MODEL_da25a8fe586543df86266ec9a111c038",
            "_model_module": "@jupyter-widgets/controls",
            "children": [
              "IPY_MODEL_4c8d0c62994d4ce99d1604835bce6abe",
              "IPY_MODEL_3bc4980709fd4c7594afcaab142a7c81"
            ]
          }
        },
        "da25a8fe586543df86266ec9a111c038": {
          "model_module": "@jupyter-widgets/base",
          "model_name": "LayoutModel",
          "state": {
            "_view_name": "LayoutView",
            "grid_template_rows": null,
            "right": null,
            "justify_content": null,
            "_view_module": "@jupyter-widgets/base",
            "overflow": null,
            "_model_module_version": "1.2.0",
            "_view_count": null,
            "flex_flow": null,
            "width": null,
            "min_width": null,
            "border": null,
            "align_items": null,
            "bottom": null,
            "_model_module": "@jupyter-widgets/base",
            "top": null,
            "grid_column": null,
            "overflow_y": null,
            "overflow_x": null,
            "grid_auto_flow": null,
            "grid_area": null,
            "grid_template_columns": null,
            "flex": null,
            "_model_name": "LayoutModel",
            "justify_items": null,
            "grid_row": null,
            "max_height": null,
            "align_content": null,
            "visibility": null,
            "align_self": null,
            "height": null,
            "min_height": null,
            "padding": null,
            "grid_auto_rows": null,
            "grid_gap": null,
            "max_width": null,
            "order": null,
            "_view_module_version": "1.2.0",
            "grid_template_areas": null,
            "object_position": null,
            "object_fit": null,
            "grid_auto_columns": null,
            "margin": null,
            "display": null,
            "left": null
          }
        },
        "4c8d0c62994d4ce99d1604835bce6abe": {
          "model_module": "@jupyter-widgets/controls",
          "model_name": "FloatProgressModel",
          "state": {
            "_view_name": "ProgressView",
            "style": "IPY_MODEL_10f208b548e94a0ba5e88c51969d1360",
            "_dom_classes": [],
            "description": "100%",
            "_model_name": "FloatProgressModel",
            "bar_style": "success",
            "max": 1680,
            "_view_module": "@jupyter-widgets/controls",
            "_model_module_version": "1.5.0",
            "value": 1680,
            "_view_count": null,
            "_view_module_version": "1.5.0",
            "orientation": "horizontal",
            "min": 0,
            "description_tooltip": null,
            "_model_module": "@jupyter-widgets/controls",
            "layout": "IPY_MODEL_fed0bf947eb34747929c7fb785a04173"
          }
        },
        "3bc4980709fd4c7594afcaab142a7c81": {
          "model_module": "@jupyter-widgets/controls",
          "model_name": "HTMLModel",
          "state": {
            "_view_name": "HTMLView",
            "style": "IPY_MODEL_d0e754eea6684c14b8064a83491d08f9",
            "_dom_classes": [],
            "description": "",
            "_model_name": "HTMLModel",
            "placeholder": "​",
            "_view_module": "@jupyter-widgets/controls",
            "_model_module_version": "1.5.0",
            "value": " 1680/1680 [02:39&lt;00:00, 10.56ex/s]",
            "_view_count": null,
            "_view_module_version": "1.5.0",
            "description_tooltip": null,
            "_model_module": "@jupyter-widgets/controls",
            "layout": "IPY_MODEL_92499f2f86a14483baeb7c84e54e27b0"
          }
        },
        "10f208b548e94a0ba5e88c51969d1360": {
          "model_module": "@jupyter-widgets/controls",
          "model_name": "ProgressStyleModel",
          "state": {
            "_view_name": "StyleView",
            "_model_name": "ProgressStyleModel",
            "description_width": "initial",
            "_view_module": "@jupyter-widgets/base",
            "_model_module_version": "1.5.0",
            "_view_count": null,
            "_view_module_version": "1.2.0",
            "bar_color": null,
            "_model_module": "@jupyter-widgets/controls"
          }
        },
        "fed0bf947eb34747929c7fb785a04173": {
          "model_module": "@jupyter-widgets/base",
          "model_name": "LayoutModel",
          "state": {
            "_view_name": "LayoutView",
            "grid_template_rows": null,
            "right": null,
            "justify_content": null,
            "_view_module": "@jupyter-widgets/base",
            "overflow": null,
            "_model_module_version": "1.2.0",
            "_view_count": null,
            "flex_flow": null,
            "width": null,
            "min_width": null,
            "border": null,
            "align_items": null,
            "bottom": null,
            "_model_module": "@jupyter-widgets/base",
            "top": null,
            "grid_column": null,
            "overflow_y": null,
            "overflow_x": null,
            "grid_auto_flow": null,
            "grid_area": null,
            "grid_template_columns": null,
            "flex": null,
            "_model_name": "LayoutModel",
            "justify_items": null,
            "grid_row": null,
            "max_height": null,
            "align_content": null,
            "visibility": null,
            "align_self": null,
            "height": null,
            "min_height": null,
            "padding": null,
            "grid_auto_rows": null,
            "grid_gap": null,
            "max_width": null,
            "order": null,
            "_view_module_version": "1.2.0",
            "grid_template_areas": null,
            "object_position": null,
            "object_fit": null,
            "grid_auto_columns": null,
            "margin": null,
            "display": null,
            "left": null
          }
        },
        "d0e754eea6684c14b8064a83491d08f9": {
          "model_module": "@jupyter-widgets/controls",
          "model_name": "DescriptionStyleModel",
          "state": {
            "_view_name": "StyleView",
            "_model_name": "DescriptionStyleModel",
            "description_width": "",
            "_view_module": "@jupyter-widgets/base",
            "_model_module_version": "1.5.0",
            "_view_count": null,
            "_view_module_version": "1.2.0",
            "_model_module": "@jupyter-widgets/controls"
          }
        },
        "92499f2f86a14483baeb7c84e54e27b0": {
          "model_module": "@jupyter-widgets/base",
          "model_name": "LayoutModel",
          "state": {
            "_view_name": "LayoutView",
            "grid_template_rows": null,
            "right": null,
            "justify_content": null,
            "_view_module": "@jupyter-widgets/base",
            "overflow": null,
            "_model_module_version": "1.2.0",
            "_view_count": null,
            "flex_flow": null,
            "width": null,
            "min_width": null,
            "border": null,
            "align_items": null,
            "bottom": null,
            "_model_module": "@jupyter-widgets/base",
            "top": null,
            "grid_column": null,
            "overflow_y": null,
            "overflow_x": null,
            "grid_auto_flow": null,
            "grid_area": null,
            "grid_template_columns": null,
            "flex": null,
            "_model_name": "LayoutModel",
            "justify_items": null,
            "grid_row": null,
            "max_height": null,
            "align_content": null,
            "visibility": null,
            "align_self": null,
            "height": null,
            "min_height": null,
            "padding": null,
            "grid_auto_rows": null,
            "grid_gap": null,
            "max_width": null,
            "order": null,
            "_view_module_version": "1.2.0",
            "grid_template_areas": null,
            "object_position": null,
            "object_fit": null,
            "grid_auto_columns": null,
            "margin": null,
            "display": null,
            "left": null
          }
        },
        "ef58c13c5cea4c8bbd03df5f06b2dd17": {
          "model_module": "@jupyter-widgets/controls",
          "model_name": "HBoxModel",
          "state": {
            "_view_name": "HBoxView",
            "_dom_classes": [],
            "_model_name": "HBoxModel",
            "_view_module": "@jupyter-widgets/controls",
            "_model_module_version": "1.5.0",
            "_view_count": null,
            "_view_module_version": "1.5.0",
            "box_style": "",
            "layout": "IPY_MODEL_2f9d3d5392784a5dad5c15f50d281a24",
            "_model_module": "@jupyter-widgets/controls",
            "children": [
              "IPY_MODEL_3c1df7c7213848aaa443a4ae9fbf0562",
              "IPY_MODEL_53a9ed101d9942e8b2971e8ba2e91c51"
            ]
          }
        },
        "2f9d3d5392784a5dad5c15f50d281a24": {
          "model_module": "@jupyter-widgets/base",
          "model_name": "LayoutModel",
          "state": {
            "_view_name": "LayoutView",
            "grid_template_rows": null,
            "right": null,
            "justify_content": null,
            "_view_module": "@jupyter-widgets/base",
            "overflow": null,
            "_model_module_version": "1.2.0",
            "_view_count": null,
            "flex_flow": null,
            "width": null,
            "min_width": null,
            "border": null,
            "align_items": null,
            "bottom": null,
            "_model_module": "@jupyter-widgets/base",
            "top": null,
            "grid_column": null,
            "overflow_y": null,
            "overflow_x": null,
            "grid_auto_flow": null,
            "grid_area": null,
            "grid_template_columns": null,
            "flex": null,
            "_model_name": "LayoutModel",
            "justify_items": null,
            "grid_row": null,
            "max_height": null,
            "align_content": null,
            "visibility": null,
            "align_self": null,
            "height": null,
            "min_height": null,
            "padding": null,
            "grid_auto_rows": null,
            "grid_gap": null,
            "max_width": null,
            "order": null,
            "_view_module_version": "1.2.0",
            "grid_template_areas": null,
            "object_position": null,
            "object_fit": null,
            "grid_auto_columns": null,
            "margin": null,
            "display": null,
            "left": null
          }
        },
        "3c1df7c7213848aaa443a4ae9fbf0562": {
          "model_module": "@jupyter-widgets/controls",
          "model_name": "FloatProgressModel",
          "state": {
            "_view_name": "ProgressView",
            "style": "IPY_MODEL_315c707ae37d4782860744a0936ce042",
            "_dom_classes": [],
            "description": "100%",
            "_model_name": "FloatProgressModel",
            "bar_style": "success",
            "max": 1,
            "_view_module": "@jupyter-widgets/controls",
            "_model_module_version": "1.5.0",
            "value": 1,
            "_view_count": null,
            "_view_module_version": "1.5.0",
            "orientation": "horizontal",
            "min": 0,
            "description_tooltip": null,
            "_model_module": "@jupyter-widgets/controls",
            "layout": "IPY_MODEL_dbae3baea88b4dccb6a30a92b3ebd38f"
          }
        },
        "53a9ed101d9942e8b2971e8ba2e91c51": {
          "model_module": "@jupyter-widgets/controls",
          "model_name": "HTMLModel",
          "state": {
            "_view_name": "HTMLView",
            "style": "IPY_MODEL_992404bcc35c4d6b9e2698ebeca16859",
            "_dom_classes": [],
            "description": "",
            "_model_name": "HTMLModel",
            "placeholder": "​",
            "_view_module": "@jupyter-widgets/controls",
            "_model_module_version": "1.5.0",
            "value": " 1/1 [02:36&lt;00:00, 156.68s/ba]",
            "_view_count": null,
            "_view_module_version": "1.5.0",
            "description_tooltip": null,
            "_model_module": "@jupyter-widgets/controls",
            "layout": "IPY_MODEL_de594c3478e8498f9fd7970ad1293c35"
          }
        },
        "315c707ae37d4782860744a0936ce042": {
          "model_module": "@jupyter-widgets/controls",
          "model_name": "ProgressStyleModel",
          "state": {
            "_view_name": "StyleView",
            "_model_name": "ProgressStyleModel",
            "description_width": "initial",
            "_view_module": "@jupyter-widgets/base",
            "_model_module_version": "1.5.0",
            "_view_count": null,
            "_view_module_version": "1.2.0",
            "bar_color": null,
            "_model_module": "@jupyter-widgets/controls"
          }
        },
        "dbae3baea88b4dccb6a30a92b3ebd38f": {
          "model_module": "@jupyter-widgets/base",
          "model_name": "LayoutModel",
          "state": {
            "_view_name": "LayoutView",
            "grid_template_rows": null,
            "right": null,
            "justify_content": null,
            "_view_module": "@jupyter-widgets/base",
            "overflow": null,
            "_model_module_version": "1.2.0",
            "_view_count": null,
            "flex_flow": null,
            "width": null,
            "min_width": null,
            "border": null,
            "align_items": null,
            "bottom": null,
            "_model_module": "@jupyter-widgets/base",
            "top": null,
            "grid_column": null,
            "overflow_y": null,
            "overflow_x": null,
            "grid_auto_flow": null,
            "grid_area": null,
            "grid_template_columns": null,
            "flex": null,
            "_model_name": "LayoutModel",
            "justify_items": null,
            "grid_row": null,
            "max_height": null,
            "align_content": null,
            "visibility": null,
            "align_self": null,
            "height": null,
            "min_height": null,
            "padding": null,
            "grid_auto_rows": null,
            "grid_gap": null,
            "max_width": null,
            "order": null,
            "_view_module_version": "1.2.0",
            "grid_template_areas": null,
            "object_position": null,
            "object_fit": null,
            "grid_auto_columns": null,
            "margin": null,
            "display": null,
            "left": null
          }
        },
        "992404bcc35c4d6b9e2698ebeca16859": {
          "model_module": "@jupyter-widgets/controls",
          "model_name": "DescriptionStyleModel",
          "state": {
            "_view_name": "StyleView",
            "_model_name": "DescriptionStyleModel",
            "description_width": "",
            "_view_module": "@jupyter-widgets/base",
            "_model_module_version": "1.5.0",
            "_view_count": null,
            "_view_module_version": "1.2.0",
            "_model_module": "@jupyter-widgets/controls"
          }
        },
        "de594c3478e8498f9fd7970ad1293c35": {
          "model_module": "@jupyter-widgets/base",
          "model_name": "LayoutModel",
          "state": {
            "_view_name": "LayoutView",
            "grid_template_rows": null,
            "right": null,
            "justify_content": null,
            "_view_module": "@jupyter-widgets/base",
            "overflow": null,
            "_model_module_version": "1.2.0",
            "_view_count": null,
            "flex_flow": null,
            "width": null,
            "min_width": null,
            "border": null,
            "align_items": null,
            "bottom": null,
            "_model_module": "@jupyter-widgets/base",
            "top": null,
            "grid_column": null,
            "overflow_y": null,
            "overflow_x": null,
            "grid_auto_flow": null,
            "grid_area": null,
            "grid_template_columns": null,
            "flex": null,
            "_model_name": "LayoutModel",
            "justify_items": null,
            "grid_row": null,
            "max_height": null,
            "align_content": null,
            "visibility": null,
            "align_self": null,
            "height": null,
            "min_height": null,
            "padding": null,
            "grid_auto_rows": null,
            "grid_gap": null,
            "max_width": null,
            "order": null,
            "_view_module_version": "1.2.0",
            "grid_template_areas": null,
            "object_position": null,
            "object_fit": null,
            "grid_auto_columns": null,
            "margin": null,
            "display": null,
            "left": null
          }
        },
        "e0cacc900c1e487487ed58bc7f7c0371": {
          "model_module": "@jupyter-widgets/controls",
          "model_name": "HBoxModel",
          "state": {
            "_view_name": "HBoxView",
            "_dom_classes": [],
            "_model_name": "HBoxModel",
            "_view_module": "@jupyter-widgets/controls",
            "_model_module_version": "1.5.0",
            "_view_count": null,
            "_view_module_version": "1.5.0",
            "box_style": "",
            "layout": "IPY_MODEL_62961098f81d49b1a4766ac0f9375c87",
            "_model_module": "@jupyter-widgets/controls",
            "children": [
              "IPY_MODEL_377239e424c845baa6ed8f48bdfd437b",
              "IPY_MODEL_668fbf8d75d54fbe97ce858e39ce4c5b"
            ]
          }
        },
        "62961098f81d49b1a4766ac0f9375c87": {
          "model_module": "@jupyter-widgets/base",
          "model_name": "LayoutModel",
          "state": {
            "_view_name": "LayoutView",
            "grid_template_rows": null,
            "right": null,
            "justify_content": null,
            "_view_module": "@jupyter-widgets/base",
            "overflow": null,
            "_model_module_version": "1.2.0",
            "_view_count": null,
            "flex_flow": null,
            "width": null,
            "min_width": null,
            "border": null,
            "align_items": null,
            "bottom": null,
            "_model_module": "@jupyter-widgets/base",
            "top": null,
            "grid_column": null,
            "overflow_y": null,
            "overflow_x": null,
            "grid_auto_flow": null,
            "grid_area": null,
            "grid_template_columns": null,
            "flex": null,
            "_model_name": "LayoutModel",
            "justify_items": null,
            "grid_row": null,
            "max_height": null,
            "align_content": null,
            "visibility": null,
            "align_self": null,
            "height": null,
            "min_height": null,
            "padding": null,
            "grid_auto_rows": null,
            "grid_gap": null,
            "max_width": null,
            "order": null,
            "_view_module_version": "1.2.0",
            "grid_template_areas": null,
            "object_position": null,
            "object_fit": null,
            "grid_auto_columns": null,
            "margin": null,
            "display": null,
            "left": null
          }
        },
        "377239e424c845baa6ed8f48bdfd437b": {
          "model_module": "@jupyter-widgets/controls",
          "model_name": "FloatProgressModel",
          "state": {
            "_view_name": "ProgressView",
            "style": "IPY_MODEL_d4362b5d1dcc46ff91124c7ffce46abd",
            "_dom_classes": [],
            "description": "100%",
            "_model_name": "FloatProgressModel",
            "bar_style": "success",
            "max": 1,
            "_view_module": "@jupyter-widgets/controls",
            "_model_module_version": "1.5.0",
            "value": 1,
            "_view_count": null,
            "_view_module_version": "1.5.0",
            "orientation": "horizontal",
            "min": 0,
            "description_tooltip": null,
            "_model_module": "@jupyter-widgets/controls",
            "layout": "IPY_MODEL_2a183f23cb6746209778eadd019c80d8"
          }
        },
        "668fbf8d75d54fbe97ce858e39ce4c5b": {
          "model_module": "@jupyter-widgets/controls",
          "model_name": "HTMLModel",
          "state": {
            "_view_name": "HTMLView",
            "style": "IPY_MODEL_1324f32182e349729467948f29496348",
            "_dom_classes": [],
            "description": "",
            "_model_name": "HTMLModel",
            "placeholder": "​",
            "_view_module": "@jupyter-widgets/controls",
            "_model_module_version": "1.5.0",
            "value": " 1/1 [00:09&lt;00:00,  9.66s/ba]",
            "_view_count": null,
            "_view_module_version": "1.5.0",
            "description_tooltip": null,
            "_model_module": "@jupyter-widgets/controls",
            "layout": "IPY_MODEL_101a3c1ea3c64995a8667def3bc70565"
          }
        },
        "d4362b5d1dcc46ff91124c7ffce46abd": {
          "model_module": "@jupyter-widgets/controls",
          "model_name": "ProgressStyleModel",
          "state": {
            "_view_name": "StyleView",
            "_model_name": "ProgressStyleModel",
            "description_width": "initial",
            "_view_module": "@jupyter-widgets/base",
            "_model_module_version": "1.5.0",
            "_view_count": null,
            "_view_module_version": "1.2.0",
            "bar_color": null,
            "_model_module": "@jupyter-widgets/controls"
          }
        },
        "2a183f23cb6746209778eadd019c80d8": {
          "model_module": "@jupyter-widgets/base",
          "model_name": "LayoutModel",
          "state": {
            "_view_name": "LayoutView",
            "grid_template_rows": null,
            "right": null,
            "justify_content": null,
            "_view_module": "@jupyter-widgets/base",
            "overflow": null,
            "_model_module_version": "1.2.0",
            "_view_count": null,
            "flex_flow": null,
            "width": null,
            "min_width": null,
            "border": null,
            "align_items": null,
            "bottom": null,
            "_model_module": "@jupyter-widgets/base",
            "top": null,
            "grid_column": null,
            "overflow_y": null,
            "overflow_x": null,
            "grid_auto_flow": null,
            "grid_area": null,
            "grid_template_columns": null,
            "flex": null,
            "_model_name": "LayoutModel",
            "justify_items": null,
            "grid_row": null,
            "max_height": null,
            "align_content": null,
            "visibility": null,
            "align_self": null,
            "height": null,
            "min_height": null,
            "padding": null,
            "grid_auto_rows": null,
            "grid_gap": null,
            "max_width": null,
            "order": null,
            "_view_module_version": "1.2.0",
            "grid_template_areas": null,
            "object_position": null,
            "object_fit": null,
            "grid_auto_columns": null,
            "margin": null,
            "display": null,
            "left": null
          }
        },
        "1324f32182e349729467948f29496348": {
          "model_module": "@jupyter-widgets/controls",
          "model_name": "DescriptionStyleModel",
          "state": {
            "_view_name": "StyleView",
            "_model_name": "DescriptionStyleModel",
            "description_width": "",
            "_view_module": "@jupyter-widgets/base",
            "_model_module_version": "1.5.0",
            "_view_count": null,
            "_view_module_version": "1.2.0",
            "_model_module": "@jupyter-widgets/controls"
          }
        },
        "101a3c1ea3c64995a8667def3bc70565": {
          "model_module": "@jupyter-widgets/base",
          "model_name": "LayoutModel",
          "state": {
            "_view_name": "LayoutView",
            "grid_template_rows": null,
            "right": null,
            "justify_content": null,
            "_view_module": "@jupyter-widgets/base",
            "overflow": null,
            "_model_module_version": "1.2.0",
            "_view_count": null,
            "flex_flow": null,
            "width": null,
            "min_width": null,
            "border": null,
            "align_items": null,
            "bottom": null,
            "_model_module": "@jupyter-widgets/base",
            "top": null,
            "grid_column": null,
            "overflow_y": null,
            "overflow_x": null,
            "grid_auto_flow": null,
            "grid_area": null,
            "grid_template_columns": null,
            "flex": null,
            "_model_name": "LayoutModel",
            "justify_items": null,
            "grid_row": null,
            "max_height": null,
            "align_content": null,
            "visibility": null,
            "align_self": null,
            "height": null,
            "min_height": null,
            "padding": null,
            "grid_auto_rows": null,
            "grid_gap": null,
            "max_width": null,
            "order": null,
            "_view_module_version": "1.2.0",
            "grid_template_areas": null,
            "object_position": null,
            "object_fit": null,
            "grid_auto_columns": null,
            "margin": null,
            "display": null,
            "left": null
          }
        },
        "23d87678cb9a4fed818a6e28feba6ebf": {
          "model_module": "@jupyter-widgets/controls",
          "model_name": "HBoxModel",
          "state": {
            "_view_name": "HBoxView",
            "_dom_classes": [],
            "_model_name": "HBoxModel",
            "_view_module": "@jupyter-widgets/controls",
            "_model_module_version": "1.5.0",
            "_view_count": null,
            "_view_module_version": "1.5.0",
            "box_style": "",
            "layout": "IPY_MODEL_cbd8808d5631466c9dc3589e8d9f6a2c",
            "_model_module": "@jupyter-widgets/controls",
            "children": [
              "IPY_MODEL_c1f1c932d6254996840d498ee7f7475e",
              "IPY_MODEL_0626bd0b35eb483dac6177d16b310b7e"
            ]
          }
        },
        "cbd8808d5631466c9dc3589e8d9f6a2c": {
          "model_module": "@jupyter-widgets/base",
          "model_name": "LayoutModel",
          "state": {
            "_view_name": "LayoutView",
            "grid_template_rows": null,
            "right": null,
            "justify_content": null,
            "_view_module": "@jupyter-widgets/base",
            "overflow": null,
            "_model_module_version": "1.2.0",
            "_view_count": null,
            "flex_flow": null,
            "width": null,
            "min_width": null,
            "border": null,
            "align_items": null,
            "bottom": null,
            "_model_module": "@jupyter-widgets/base",
            "top": null,
            "grid_column": null,
            "overflow_y": null,
            "overflow_x": null,
            "grid_auto_flow": null,
            "grid_area": null,
            "grid_template_columns": null,
            "flex": null,
            "_model_name": "LayoutModel",
            "justify_items": null,
            "grid_row": null,
            "max_height": null,
            "align_content": null,
            "visibility": null,
            "align_self": null,
            "height": null,
            "min_height": null,
            "padding": null,
            "grid_auto_rows": null,
            "grid_gap": null,
            "max_width": null,
            "order": null,
            "_view_module_version": "1.2.0",
            "grid_template_areas": null,
            "object_position": null,
            "object_fit": null,
            "grid_auto_columns": null,
            "margin": null,
            "display": null,
            "left": null
          }
        },
        "c1f1c932d6254996840d498ee7f7475e": {
          "model_module": "@jupyter-widgets/controls",
          "model_name": "FloatProgressModel",
          "state": {
            "_view_name": "ProgressView",
            "style": "IPY_MODEL_081afff9e9a64ff782cc13c5b60452d6",
            "_dom_classes": [],
            "description": "#2: 100%",
            "_model_name": "FloatProgressModel",
            "bar_style": "success",
            "max": 1155,
            "_view_module": "@jupyter-widgets/controls",
            "_model_module_version": "1.5.0",
            "value": 1155,
            "_view_count": null,
            "_view_module_version": "1.5.0",
            "orientation": "horizontal",
            "min": 0,
            "description_tooltip": null,
            "_model_module": "@jupyter-widgets/controls",
            "layout": "IPY_MODEL_cf849225928943f9b265fbbd2582bbe0"
          }
        },
        "0626bd0b35eb483dac6177d16b310b7e": {
          "model_module": "@jupyter-widgets/controls",
          "model_name": "HTMLModel",
          "state": {
            "_view_name": "HTMLView",
            "style": "IPY_MODEL_5c084acf3d024715868a323a67abdd99",
            "_dom_classes": [],
            "description": "",
            "_model_name": "HTMLModel",
            "placeholder": "​",
            "_view_module": "@jupyter-widgets/controls",
            "_model_module_version": "1.5.0",
            "value": " 1155/1155 [00:12&lt;00:00, 94.41ex/s]",
            "_view_count": null,
            "_view_module_version": "1.5.0",
            "description_tooltip": null,
            "_model_module": "@jupyter-widgets/controls",
            "layout": "IPY_MODEL_56a3f16cbc5d4ce7a5efa6792d23d3fe"
          }
        },
        "081afff9e9a64ff782cc13c5b60452d6": {
          "model_module": "@jupyter-widgets/controls",
          "model_name": "ProgressStyleModel",
          "state": {
            "_view_name": "StyleView",
            "_model_name": "ProgressStyleModel",
            "description_width": "initial",
            "_view_module": "@jupyter-widgets/base",
            "_model_module_version": "1.5.0",
            "_view_count": null,
            "_view_module_version": "1.2.0",
            "bar_color": null,
            "_model_module": "@jupyter-widgets/controls"
          }
        },
        "cf849225928943f9b265fbbd2582bbe0": {
          "model_module": "@jupyter-widgets/base",
          "model_name": "LayoutModel",
          "state": {
            "_view_name": "LayoutView",
            "grid_template_rows": null,
            "right": null,
            "justify_content": null,
            "_view_module": "@jupyter-widgets/base",
            "overflow": null,
            "_model_module_version": "1.2.0",
            "_view_count": null,
            "flex_flow": null,
            "width": null,
            "min_width": null,
            "border": null,
            "align_items": null,
            "bottom": null,
            "_model_module": "@jupyter-widgets/base",
            "top": null,
            "grid_column": null,
            "overflow_y": null,
            "overflow_x": null,
            "grid_auto_flow": null,
            "grid_area": null,
            "grid_template_columns": null,
            "flex": null,
            "_model_name": "LayoutModel",
            "justify_items": null,
            "grid_row": null,
            "max_height": null,
            "align_content": null,
            "visibility": null,
            "align_self": null,
            "height": null,
            "min_height": null,
            "padding": null,
            "grid_auto_rows": null,
            "grid_gap": null,
            "max_width": null,
            "order": null,
            "_view_module_version": "1.2.0",
            "grid_template_areas": null,
            "object_position": null,
            "object_fit": null,
            "grid_auto_columns": null,
            "margin": null,
            "display": null,
            "left": null
          }
        },
        "5c084acf3d024715868a323a67abdd99": {
          "model_module": "@jupyter-widgets/controls",
          "model_name": "DescriptionStyleModel",
          "state": {
            "_view_name": "StyleView",
            "_model_name": "DescriptionStyleModel",
            "description_width": "",
            "_view_module": "@jupyter-widgets/base",
            "_model_module_version": "1.5.0",
            "_view_count": null,
            "_view_module_version": "1.2.0",
            "_model_module": "@jupyter-widgets/controls"
          }
        },
        "56a3f16cbc5d4ce7a5efa6792d23d3fe": {
          "model_module": "@jupyter-widgets/base",
          "model_name": "LayoutModel",
          "state": {
            "_view_name": "LayoutView",
            "grid_template_rows": null,
            "right": null,
            "justify_content": null,
            "_view_module": "@jupyter-widgets/base",
            "overflow": null,
            "_model_module_version": "1.2.0",
            "_view_count": null,
            "flex_flow": null,
            "width": null,
            "min_width": null,
            "border": null,
            "align_items": null,
            "bottom": null,
            "_model_module": "@jupyter-widgets/base",
            "top": null,
            "grid_column": null,
            "overflow_y": null,
            "overflow_x": null,
            "grid_auto_flow": null,
            "grid_area": null,
            "grid_template_columns": null,
            "flex": null,
            "_model_name": "LayoutModel",
            "justify_items": null,
            "grid_row": null,
            "max_height": null,
            "align_content": null,
            "visibility": null,
            "align_self": null,
            "height": null,
            "min_height": null,
            "padding": null,
            "grid_auto_rows": null,
            "grid_gap": null,
            "max_width": null,
            "order": null,
            "_view_module_version": "1.2.0",
            "grid_template_areas": null,
            "object_position": null,
            "object_fit": null,
            "grid_auto_columns": null,
            "margin": null,
            "display": null,
            "left": null
          }
        },
        "9596225fed92410884c3553047be34aa": {
          "model_module": "@jupyter-widgets/controls",
          "model_name": "HBoxModel",
          "state": {
            "_view_name": "HBoxView",
            "_dom_classes": [],
            "_model_name": "HBoxModel",
            "_view_module": "@jupyter-widgets/controls",
            "_model_module_version": "1.5.0",
            "_view_count": null,
            "_view_module_version": "1.5.0",
            "box_style": "",
            "layout": "IPY_MODEL_ed53565176b54968baf4498a7ee728be",
            "_model_module": "@jupyter-widgets/controls",
            "children": [
              "IPY_MODEL_beb1bed843014f229b6ed062073d870b",
              "IPY_MODEL_0c92200a0fd94fc49458cf07650e42f3"
            ]
          }
        },
        "ed53565176b54968baf4498a7ee728be": {
          "model_module": "@jupyter-widgets/base",
          "model_name": "LayoutModel",
          "state": {
            "_view_name": "LayoutView",
            "grid_template_rows": null,
            "right": null,
            "justify_content": null,
            "_view_module": "@jupyter-widgets/base",
            "overflow": null,
            "_model_module_version": "1.2.0",
            "_view_count": null,
            "flex_flow": null,
            "width": null,
            "min_width": null,
            "border": null,
            "align_items": null,
            "bottom": null,
            "_model_module": "@jupyter-widgets/base",
            "top": null,
            "grid_column": null,
            "overflow_y": null,
            "overflow_x": null,
            "grid_auto_flow": null,
            "grid_area": null,
            "grid_template_columns": null,
            "flex": null,
            "_model_name": "LayoutModel",
            "justify_items": null,
            "grid_row": null,
            "max_height": null,
            "align_content": null,
            "visibility": null,
            "align_self": null,
            "height": null,
            "min_height": null,
            "padding": null,
            "grid_auto_rows": null,
            "grid_gap": null,
            "max_width": null,
            "order": null,
            "_view_module_version": "1.2.0",
            "grid_template_areas": null,
            "object_position": null,
            "object_fit": null,
            "grid_auto_columns": null,
            "margin": null,
            "display": null,
            "left": null
          }
        },
        "beb1bed843014f229b6ed062073d870b": {
          "model_module": "@jupyter-widgets/controls",
          "model_name": "FloatProgressModel",
          "state": {
            "_view_name": "ProgressView",
            "style": "IPY_MODEL_8c8e86fd2f3b4c60ad9f183341bd791f",
            "_dom_classes": [],
            "description": "#0: 100%",
            "_model_name": "FloatProgressModel",
            "bar_style": "success",
            "max": 1155,
            "_view_module": "@jupyter-widgets/controls",
            "_model_module_version": "1.5.0",
            "value": 1155,
            "_view_count": null,
            "_view_module_version": "1.5.0",
            "orientation": "horizontal",
            "min": 0,
            "description_tooltip": null,
            "_model_module": "@jupyter-widgets/controls",
            "layout": "IPY_MODEL_baf88a028ea347c680bafa85d73e206c"
          }
        },
        "0c92200a0fd94fc49458cf07650e42f3": {
          "model_module": "@jupyter-widgets/controls",
          "model_name": "HTMLModel",
          "state": {
            "_view_name": "HTMLView",
            "style": "IPY_MODEL_d25c1e2ee6214c4cafae4f5c49b8e17d",
            "_dom_classes": [],
            "description": "",
            "_model_name": "HTMLModel",
            "placeholder": "​",
            "_view_module": "@jupyter-widgets/controls",
            "_model_module_version": "1.5.0",
            "value": " 1155/1155 [00:11&lt;00:00, 101.84ex/s]",
            "_view_count": null,
            "_view_module_version": "1.5.0",
            "description_tooltip": null,
            "_model_module": "@jupyter-widgets/controls",
            "layout": "IPY_MODEL_4f430d2825244250a15b2fde42035543"
          }
        },
        "8c8e86fd2f3b4c60ad9f183341bd791f": {
          "model_module": "@jupyter-widgets/controls",
          "model_name": "ProgressStyleModel",
          "state": {
            "_view_name": "StyleView",
            "_model_name": "ProgressStyleModel",
            "description_width": "initial",
            "_view_module": "@jupyter-widgets/base",
            "_model_module_version": "1.5.0",
            "_view_count": null,
            "_view_module_version": "1.2.0",
            "bar_color": null,
            "_model_module": "@jupyter-widgets/controls"
          }
        },
        "baf88a028ea347c680bafa85d73e206c": {
          "model_module": "@jupyter-widgets/base",
          "model_name": "LayoutModel",
          "state": {
            "_view_name": "LayoutView",
            "grid_template_rows": null,
            "right": null,
            "justify_content": null,
            "_view_module": "@jupyter-widgets/base",
            "overflow": null,
            "_model_module_version": "1.2.0",
            "_view_count": null,
            "flex_flow": null,
            "width": null,
            "min_width": null,
            "border": null,
            "align_items": null,
            "bottom": null,
            "_model_module": "@jupyter-widgets/base",
            "top": null,
            "grid_column": null,
            "overflow_y": null,
            "overflow_x": null,
            "grid_auto_flow": null,
            "grid_area": null,
            "grid_template_columns": null,
            "flex": null,
            "_model_name": "LayoutModel",
            "justify_items": null,
            "grid_row": null,
            "max_height": null,
            "align_content": null,
            "visibility": null,
            "align_self": null,
            "height": null,
            "min_height": null,
            "padding": null,
            "grid_auto_rows": null,
            "grid_gap": null,
            "max_width": null,
            "order": null,
            "_view_module_version": "1.2.0",
            "grid_template_areas": null,
            "object_position": null,
            "object_fit": null,
            "grid_auto_columns": null,
            "margin": null,
            "display": null,
            "left": null
          }
        },
        "d25c1e2ee6214c4cafae4f5c49b8e17d": {
          "model_module": "@jupyter-widgets/controls",
          "model_name": "DescriptionStyleModel",
          "state": {
            "_view_name": "StyleView",
            "_model_name": "DescriptionStyleModel",
            "description_width": "",
            "_view_module": "@jupyter-widgets/base",
            "_model_module_version": "1.5.0",
            "_view_count": null,
            "_view_module_version": "1.2.0",
            "_model_module": "@jupyter-widgets/controls"
          }
        },
        "4f430d2825244250a15b2fde42035543": {
          "model_module": "@jupyter-widgets/base",
          "model_name": "LayoutModel",
          "state": {
            "_view_name": "LayoutView",
            "grid_template_rows": null,
            "right": null,
            "justify_content": null,
            "_view_module": "@jupyter-widgets/base",
            "overflow": null,
            "_model_module_version": "1.2.0",
            "_view_count": null,
            "flex_flow": null,
            "width": null,
            "min_width": null,
            "border": null,
            "align_items": null,
            "bottom": null,
            "_model_module": "@jupyter-widgets/base",
            "top": null,
            "grid_column": null,
            "overflow_y": null,
            "overflow_x": null,
            "grid_auto_flow": null,
            "grid_area": null,
            "grid_template_columns": null,
            "flex": null,
            "_model_name": "LayoutModel",
            "justify_items": null,
            "grid_row": null,
            "max_height": null,
            "align_content": null,
            "visibility": null,
            "align_self": null,
            "height": null,
            "min_height": null,
            "padding": null,
            "grid_auto_rows": null,
            "grid_gap": null,
            "max_width": null,
            "order": null,
            "_view_module_version": "1.2.0",
            "grid_template_areas": null,
            "object_position": null,
            "object_fit": null,
            "grid_auto_columns": null,
            "margin": null,
            "display": null,
            "left": null
          }
        },
        "a085a662ea49488ca05434842b82e0f1": {
          "model_module": "@jupyter-widgets/controls",
          "model_name": "HBoxModel",
          "state": {
            "_view_name": "HBoxView",
            "_dom_classes": [],
            "_model_name": "HBoxModel",
            "_view_module": "@jupyter-widgets/controls",
            "_model_module_version": "1.5.0",
            "_view_count": null,
            "_view_module_version": "1.5.0",
            "box_style": "",
            "layout": "IPY_MODEL_6e22ea23ac59497eb6733992c1ce0dbc",
            "_model_module": "@jupyter-widgets/controls",
            "children": [
              "IPY_MODEL_dcecc591a023412c83387c639d86d2eb",
              "IPY_MODEL_1cc059472b524f2986a2ef2e6bc0ec38"
            ]
          }
        },
        "6e22ea23ac59497eb6733992c1ce0dbc": {
          "model_module": "@jupyter-widgets/base",
          "model_name": "LayoutModel",
          "state": {
            "_view_name": "LayoutView",
            "grid_template_rows": null,
            "right": null,
            "justify_content": null,
            "_view_module": "@jupyter-widgets/base",
            "overflow": null,
            "_model_module_version": "1.2.0",
            "_view_count": null,
            "flex_flow": null,
            "width": null,
            "min_width": null,
            "border": null,
            "align_items": null,
            "bottom": null,
            "_model_module": "@jupyter-widgets/base",
            "top": null,
            "grid_column": null,
            "overflow_y": null,
            "overflow_x": null,
            "grid_auto_flow": null,
            "grid_area": null,
            "grid_template_columns": null,
            "flex": null,
            "_model_name": "LayoutModel",
            "justify_items": null,
            "grid_row": null,
            "max_height": null,
            "align_content": null,
            "visibility": null,
            "align_self": null,
            "height": null,
            "min_height": null,
            "padding": null,
            "grid_auto_rows": null,
            "grid_gap": null,
            "max_width": null,
            "order": null,
            "_view_module_version": "1.2.0",
            "grid_template_areas": null,
            "object_position": null,
            "object_fit": null,
            "grid_auto_columns": null,
            "margin": null,
            "display": null,
            "left": null
          }
        },
        "dcecc591a023412c83387c639d86d2eb": {
          "model_module": "@jupyter-widgets/controls",
          "model_name": "FloatProgressModel",
          "state": {
            "_view_name": "ProgressView",
            "style": "IPY_MODEL_926ed80163e2454898a6821900d3c09b",
            "_dom_classes": [],
            "description": "#1: 100%",
            "_model_name": "FloatProgressModel",
            "bar_style": "success",
            "max": 1155,
            "_view_module": "@jupyter-widgets/controls",
            "_model_module_version": "1.5.0",
            "value": 1155,
            "_view_count": null,
            "_view_module_version": "1.5.0",
            "orientation": "horizontal",
            "min": 0,
            "description_tooltip": null,
            "_model_module": "@jupyter-widgets/controls",
            "layout": "IPY_MODEL_364cb10011e142028d03a59ac2263c15"
          }
        },
        "1cc059472b524f2986a2ef2e6bc0ec38": {
          "model_module": "@jupyter-widgets/controls",
          "model_name": "HTMLModel",
          "state": {
            "_view_name": "HTMLView",
            "style": "IPY_MODEL_a2889194d50e426799db55630d623804",
            "_dom_classes": [],
            "description": "",
            "_model_name": "HTMLModel",
            "placeholder": "​",
            "_view_module": "@jupyter-widgets/controls",
            "_model_module_version": "1.5.0",
            "value": " 1155/1155 [00:07&lt;00:00, 144.88ex/s]",
            "_view_count": null,
            "_view_module_version": "1.5.0",
            "description_tooltip": null,
            "_model_module": "@jupyter-widgets/controls",
            "layout": "IPY_MODEL_a33221f90ace4b87b298e1f2d0c5da0a"
          }
        },
        "926ed80163e2454898a6821900d3c09b": {
          "model_module": "@jupyter-widgets/controls",
          "model_name": "ProgressStyleModel",
          "state": {
            "_view_name": "StyleView",
            "_model_name": "ProgressStyleModel",
            "description_width": "initial",
            "_view_module": "@jupyter-widgets/base",
            "_model_module_version": "1.5.0",
            "_view_count": null,
            "_view_module_version": "1.2.0",
            "bar_color": null,
            "_model_module": "@jupyter-widgets/controls"
          }
        },
        "364cb10011e142028d03a59ac2263c15": {
          "model_module": "@jupyter-widgets/base",
          "model_name": "LayoutModel",
          "state": {
            "_view_name": "LayoutView",
            "grid_template_rows": null,
            "right": null,
            "justify_content": null,
            "_view_module": "@jupyter-widgets/base",
            "overflow": null,
            "_model_module_version": "1.2.0",
            "_view_count": null,
            "flex_flow": null,
            "width": null,
            "min_width": null,
            "border": null,
            "align_items": null,
            "bottom": null,
            "_model_module": "@jupyter-widgets/base",
            "top": null,
            "grid_column": null,
            "overflow_y": null,
            "overflow_x": null,
            "grid_auto_flow": null,
            "grid_area": null,
            "grid_template_columns": null,
            "flex": null,
            "_model_name": "LayoutModel",
            "justify_items": null,
            "grid_row": null,
            "max_height": null,
            "align_content": null,
            "visibility": null,
            "align_self": null,
            "height": null,
            "min_height": null,
            "padding": null,
            "grid_auto_rows": null,
            "grid_gap": null,
            "max_width": null,
            "order": null,
            "_view_module_version": "1.2.0",
            "grid_template_areas": null,
            "object_position": null,
            "object_fit": null,
            "grid_auto_columns": null,
            "margin": null,
            "display": null,
            "left": null
          }
        },
        "a2889194d50e426799db55630d623804": {
          "model_module": "@jupyter-widgets/controls",
          "model_name": "DescriptionStyleModel",
          "state": {
            "_view_name": "StyleView",
            "_model_name": "DescriptionStyleModel",
            "description_width": "",
            "_view_module": "@jupyter-widgets/base",
            "_model_module_version": "1.5.0",
            "_view_count": null,
            "_view_module_version": "1.2.0",
            "_model_module": "@jupyter-widgets/controls"
          }
        },
        "a33221f90ace4b87b298e1f2d0c5da0a": {
          "model_module": "@jupyter-widgets/base",
          "model_name": "LayoutModel",
          "state": {
            "_view_name": "LayoutView",
            "grid_template_rows": null,
            "right": null,
            "justify_content": null,
            "_view_module": "@jupyter-widgets/base",
            "overflow": null,
            "_model_module_version": "1.2.0",
            "_view_count": null,
            "flex_flow": null,
            "width": null,
            "min_width": null,
            "border": null,
            "align_items": null,
            "bottom": null,
            "_model_module": "@jupyter-widgets/base",
            "top": null,
            "grid_column": null,
            "overflow_y": null,
            "overflow_x": null,
            "grid_auto_flow": null,
            "grid_area": null,
            "grid_template_columns": null,
            "flex": null,
            "_model_name": "LayoutModel",
            "justify_items": null,
            "grid_row": null,
            "max_height": null,
            "align_content": null,
            "visibility": null,
            "align_self": null,
            "height": null,
            "min_height": null,
            "padding": null,
            "grid_auto_rows": null,
            "grid_gap": null,
            "max_width": null,
            "order": null,
            "_view_module_version": "1.2.0",
            "grid_template_areas": null,
            "object_position": null,
            "object_fit": null,
            "grid_auto_columns": null,
            "margin": null,
            "display": null,
            "left": null
          }
        },
        "25f5064ba1494b12a80869f8badc575d": {
          "model_module": "@jupyter-widgets/controls",
          "model_name": "HBoxModel",
          "state": {
            "_view_name": "HBoxView",
            "_dom_classes": [],
            "_model_name": "HBoxModel",
            "_view_module": "@jupyter-widgets/controls",
            "_model_module_version": "1.5.0",
            "_view_count": null,
            "_view_module_version": "1.5.0",
            "box_style": "",
            "layout": "IPY_MODEL_ade360b4da39487e87f994fcdfe72578",
            "_model_module": "@jupyter-widgets/controls",
            "children": [
              "IPY_MODEL_da10cf4dc1a443e5a99e7628a0a43f20",
              "IPY_MODEL_745102fcdaf54119a7b1beb70f6a9049"
            ]
          }
        },
        "ade360b4da39487e87f994fcdfe72578": {
          "model_module": "@jupyter-widgets/base",
          "model_name": "LayoutModel",
          "state": {
            "_view_name": "LayoutView",
            "grid_template_rows": null,
            "right": null,
            "justify_content": null,
            "_view_module": "@jupyter-widgets/base",
            "overflow": null,
            "_model_module_version": "1.2.0",
            "_view_count": null,
            "flex_flow": null,
            "width": null,
            "min_width": null,
            "border": null,
            "align_items": null,
            "bottom": null,
            "_model_module": "@jupyter-widgets/base",
            "top": null,
            "grid_column": null,
            "overflow_y": null,
            "overflow_x": null,
            "grid_auto_flow": null,
            "grid_area": null,
            "grid_template_columns": null,
            "flex": null,
            "_model_name": "LayoutModel",
            "justify_items": null,
            "grid_row": null,
            "max_height": null,
            "align_content": null,
            "visibility": null,
            "align_self": null,
            "height": null,
            "min_height": null,
            "padding": null,
            "grid_auto_rows": null,
            "grid_gap": null,
            "max_width": null,
            "order": null,
            "_view_module_version": "1.2.0",
            "grid_template_areas": null,
            "object_position": null,
            "object_fit": null,
            "grid_auto_columns": null,
            "margin": null,
            "display": null,
            "left": null
          }
        },
        "da10cf4dc1a443e5a99e7628a0a43f20": {
          "model_module": "@jupyter-widgets/controls",
          "model_name": "FloatProgressModel",
          "state": {
            "_view_name": "ProgressView",
            "style": "IPY_MODEL_525a856b21514fb3a175057d4017f7b2",
            "_dom_classes": [],
            "description": "#3: 100%",
            "_model_name": "FloatProgressModel",
            "bar_style": "success",
            "max": 1155,
            "_view_module": "@jupyter-widgets/controls",
            "_model_module_version": "1.5.0",
            "value": 1155,
            "_view_count": null,
            "_view_module_version": "1.5.0",
            "orientation": "horizontal",
            "min": 0,
            "description_tooltip": null,
            "_model_module": "@jupyter-widgets/controls",
            "layout": "IPY_MODEL_655ad6490753424cab14b28d7ca2a0a5"
          }
        },
        "745102fcdaf54119a7b1beb70f6a9049": {
          "model_module": "@jupyter-widgets/controls",
          "model_name": "HTMLModel",
          "state": {
            "_view_name": "HTMLView",
            "style": "IPY_MODEL_11492cf42095407885778d06f5e715d6",
            "_dom_classes": [],
            "description": "",
            "_model_name": "HTMLModel",
            "placeholder": "​",
            "_view_module": "@jupyter-widgets/controls",
            "_model_module_version": "1.5.0",
            "value": " 1155/1155 [00:12&lt;00:00, 94.41ex/s]",
            "_view_count": null,
            "_view_module_version": "1.5.0",
            "description_tooltip": null,
            "_model_module": "@jupyter-widgets/controls",
            "layout": "IPY_MODEL_4eb8dabac6c54222ac453813ef6dff39"
          }
        },
        "525a856b21514fb3a175057d4017f7b2": {
          "model_module": "@jupyter-widgets/controls",
          "model_name": "ProgressStyleModel",
          "state": {
            "_view_name": "StyleView",
            "_model_name": "ProgressStyleModel",
            "description_width": "initial",
            "_view_module": "@jupyter-widgets/base",
            "_model_module_version": "1.5.0",
            "_view_count": null,
            "_view_module_version": "1.2.0",
            "bar_color": null,
            "_model_module": "@jupyter-widgets/controls"
          }
        },
        "655ad6490753424cab14b28d7ca2a0a5": {
          "model_module": "@jupyter-widgets/base",
          "model_name": "LayoutModel",
          "state": {
            "_view_name": "LayoutView",
            "grid_template_rows": null,
            "right": null,
            "justify_content": null,
            "_view_module": "@jupyter-widgets/base",
            "overflow": null,
            "_model_module_version": "1.2.0",
            "_view_count": null,
            "flex_flow": null,
            "width": null,
            "min_width": null,
            "border": null,
            "align_items": null,
            "bottom": null,
            "_model_module": "@jupyter-widgets/base",
            "top": null,
            "grid_column": null,
            "overflow_y": null,
            "overflow_x": null,
            "grid_auto_flow": null,
            "grid_area": null,
            "grid_template_columns": null,
            "flex": null,
            "_model_name": "LayoutModel",
            "justify_items": null,
            "grid_row": null,
            "max_height": null,
            "align_content": null,
            "visibility": null,
            "align_self": null,
            "height": null,
            "min_height": null,
            "padding": null,
            "grid_auto_rows": null,
            "grid_gap": null,
            "max_width": null,
            "order": null,
            "_view_module_version": "1.2.0",
            "grid_template_areas": null,
            "object_position": null,
            "object_fit": null,
            "grid_auto_columns": null,
            "margin": null,
            "display": null,
            "left": null
          }
        },
        "11492cf42095407885778d06f5e715d6": {
          "model_module": "@jupyter-widgets/controls",
          "model_name": "DescriptionStyleModel",
          "state": {
            "_view_name": "StyleView",
            "_model_name": "DescriptionStyleModel",
            "description_width": "",
            "_view_module": "@jupyter-widgets/base",
            "_model_module_version": "1.5.0",
            "_view_count": null,
            "_view_module_version": "1.2.0",
            "_model_module": "@jupyter-widgets/controls"
          }
        },
        "4eb8dabac6c54222ac453813ef6dff39": {
          "model_module": "@jupyter-widgets/base",
          "model_name": "LayoutModel",
          "state": {
            "_view_name": "LayoutView",
            "grid_template_rows": null,
            "right": null,
            "justify_content": null,
            "_view_module": "@jupyter-widgets/base",
            "overflow": null,
            "_model_module_version": "1.2.0",
            "_view_count": null,
            "flex_flow": null,
            "width": null,
            "min_width": null,
            "border": null,
            "align_items": null,
            "bottom": null,
            "_model_module": "@jupyter-widgets/base",
            "top": null,
            "grid_column": null,
            "overflow_y": null,
            "overflow_x": null,
            "grid_auto_flow": null,
            "grid_area": null,
            "grid_template_columns": null,
            "flex": null,
            "_model_name": "LayoutModel",
            "justify_items": null,
            "grid_row": null,
            "max_height": null,
            "align_content": null,
            "visibility": null,
            "align_self": null,
            "height": null,
            "min_height": null,
            "padding": null,
            "grid_auto_rows": null,
            "grid_gap": null,
            "max_width": null,
            "order": null,
            "_view_module_version": "1.2.0",
            "grid_template_areas": null,
            "object_position": null,
            "object_fit": null,
            "grid_auto_columns": null,
            "margin": null,
            "display": null,
            "left": null
          }
        },
        "cfef4eae64124f9186b8a533d9435842": {
          "model_module": "@jupyter-widgets/controls",
          "model_name": "HBoxModel",
          "state": {
            "_view_name": "HBoxView",
            "_dom_classes": [],
            "_model_name": "HBoxModel",
            "_view_module": "@jupyter-widgets/controls",
            "_model_module_version": "1.5.0",
            "_view_count": null,
            "_view_module_version": "1.5.0",
            "box_style": "",
            "layout": "IPY_MODEL_2cd0b85086aa479b81f366b5b302bd47",
            "_model_module": "@jupyter-widgets/controls",
            "children": [
              "IPY_MODEL_8d3ae1c147ff4c64aa58d563895aaa38",
              "IPY_MODEL_e2c45f04da934dddb9d81fdafa6daed8"
            ]
          }
        },
        "2cd0b85086aa479b81f366b5b302bd47": {
          "model_module": "@jupyter-widgets/base",
          "model_name": "LayoutModel",
          "state": {
            "_view_name": "LayoutView",
            "grid_template_rows": null,
            "right": null,
            "justify_content": null,
            "_view_module": "@jupyter-widgets/base",
            "overflow": null,
            "_model_module_version": "1.2.0",
            "_view_count": null,
            "flex_flow": null,
            "width": null,
            "min_width": null,
            "border": null,
            "align_items": null,
            "bottom": null,
            "_model_module": "@jupyter-widgets/base",
            "top": null,
            "grid_column": null,
            "overflow_y": null,
            "overflow_x": null,
            "grid_auto_flow": null,
            "grid_area": null,
            "grid_template_columns": null,
            "flex": null,
            "_model_name": "LayoutModel",
            "justify_items": null,
            "grid_row": null,
            "max_height": null,
            "align_content": null,
            "visibility": null,
            "align_self": null,
            "height": null,
            "min_height": null,
            "padding": null,
            "grid_auto_rows": null,
            "grid_gap": null,
            "max_width": null,
            "order": null,
            "_view_module_version": "1.2.0",
            "grid_template_areas": null,
            "object_position": null,
            "object_fit": null,
            "grid_auto_columns": null,
            "margin": null,
            "display": null,
            "left": null
          }
        },
        "8d3ae1c147ff4c64aa58d563895aaa38": {
          "model_module": "@jupyter-widgets/controls",
          "model_name": "FloatProgressModel",
          "state": {
            "_view_name": "ProgressView",
            "style": "IPY_MODEL_e543a597449546b6b07261e63f7bd8cd",
            "_dom_classes": [],
            "description": "#0: 100%",
            "_model_name": "FloatProgressModel",
            "bar_style": "success",
            "max": 420,
            "_view_module": "@jupyter-widgets/controls",
            "_model_module_version": "1.5.0",
            "value": 420,
            "_view_count": null,
            "_view_module_version": "1.5.0",
            "orientation": "horizontal",
            "min": 0,
            "description_tooltip": null,
            "_model_module": "@jupyter-widgets/controls",
            "layout": "IPY_MODEL_cee243f0c774454a9647ee285813a256"
          }
        },
        "e2c45f04da934dddb9d81fdafa6daed8": {
          "model_module": "@jupyter-widgets/controls",
          "model_name": "HTMLModel",
          "state": {
            "_view_name": "HTMLView",
            "style": "IPY_MODEL_cb48bd1eb0b9468db9139d098d1839d8",
            "_dom_classes": [],
            "description": "",
            "_model_name": "HTMLModel",
            "placeholder": "​",
            "_view_module": "@jupyter-widgets/controls",
            "_model_module_version": "1.5.0",
            "value": " 420/420 [00:01&lt;00:00, 243.50ex/s]",
            "_view_count": null,
            "_view_module_version": "1.5.0",
            "description_tooltip": null,
            "_model_module": "@jupyter-widgets/controls",
            "layout": "IPY_MODEL_7581f72867e443e790af8ef28c1daf21"
          }
        },
        "e543a597449546b6b07261e63f7bd8cd": {
          "model_module": "@jupyter-widgets/controls",
          "model_name": "ProgressStyleModel",
          "state": {
            "_view_name": "StyleView",
            "_model_name": "ProgressStyleModel",
            "description_width": "initial",
            "_view_module": "@jupyter-widgets/base",
            "_model_module_version": "1.5.0",
            "_view_count": null,
            "_view_module_version": "1.2.0",
            "bar_color": null,
            "_model_module": "@jupyter-widgets/controls"
          }
        },
        "cee243f0c774454a9647ee285813a256": {
          "model_module": "@jupyter-widgets/base",
          "model_name": "LayoutModel",
          "state": {
            "_view_name": "LayoutView",
            "grid_template_rows": null,
            "right": null,
            "justify_content": null,
            "_view_module": "@jupyter-widgets/base",
            "overflow": null,
            "_model_module_version": "1.2.0",
            "_view_count": null,
            "flex_flow": null,
            "width": null,
            "min_width": null,
            "border": null,
            "align_items": null,
            "bottom": null,
            "_model_module": "@jupyter-widgets/base",
            "top": null,
            "grid_column": null,
            "overflow_y": null,
            "overflow_x": null,
            "grid_auto_flow": null,
            "grid_area": null,
            "grid_template_columns": null,
            "flex": null,
            "_model_name": "LayoutModel",
            "justify_items": null,
            "grid_row": null,
            "max_height": null,
            "align_content": null,
            "visibility": null,
            "align_self": null,
            "height": null,
            "min_height": null,
            "padding": null,
            "grid_auto_rows": null,
            "grid_gap": null,
            "max_width": null,
            "order": null,
            "_view_module_version": "1.2.0",
            "grid_template_areas": null,
            "object_position": null,
            "object_fit": null,
            "grid_auto_columns": null,
            "margin": null,
            "display": null,
            "left": null
          }
        },
        "cb48bd1eb0b9468db9139d098d1839d8": {
          "model_module": "@jupyter-widgets/controls",
          "model_name": "DescriptionStyleModel",
          "state": {
            "_view_name": "StyleView",
            "_model_name": "DescriptionStyleModel",
            "description_width": "",
            "_view_module": "@jupyter-widgets/base",
            "_model_module_version": "1.5.0",
            "_view_count": null,
            "_view_module_version": "1.2.0",
            "_model_module": "@jupyter-widgets/controls"
          }
        },
        "7581f72867e443e790af8ef28c1daf21": {
          "model_module": "@jupyter-widgets/base",
          "model_name": "LayoutModel",
          "state": {
            "_view_name": "LayoutView",
            "grid_template_rows": null,
            "right": null,
            "justify_content": null,
            "_view_module": "@jupyter-widgets/base",
            "overflow": null,
            "_model_module_version": "1.2.0",
            "_view_count": null,
            "flex_flow": null,
            "width": null,
            "min_width": null,
            "border": null,
            "align_items": null,
            "bottom": null,
            "_model_module": "@jupyter-widgets/base",
            "top": null,
            "grid_column": null,
            "overflow_y": null,
            "overflow_x": null,
            "grid_auto_flow": null,
            "grid_area": null,
            "grid_template_columns": null,
            "flex": null,
            "_model_name": "LayoutModel",
            "justify_items": null,
            "grid_row": null,
            "max_height": null,
            "align_content": null,
            "visibility": null,
            "align_self": null,
            "height": null,
            "min_height": null,
            "padding": null,
            "grid_auto_rows": null,
            "grid_gap": null,
            "max_width": null,
            "order": null,
            "_view_module_version": "1.2.0",
            "grid_template_areas": null,
            "object_position": null,
            "object_fit": null,
            "grid_auto_columns": null,
            "margin": null,
            "display": null,
            "left": null
          }
        },
        "6fbd1ec9b5c848939479543977153cf6": {
          "model_module": "@jupyter-widgets/controls",
          "model_name": "HBoxModel",
          "state": {
            "_view_name": "HBoxView",
            "_dom_classes": [],
            "_model_name": "HBoxModel",
            "_view_module": "@jupyter-widgets/controls",
            "_model_module_version": "1.5.0",
            "_view_count": null,
            "_view_module_version": "1.5.0",
            "box_style": "",
            "layout": "IPY_MODEL_1966201edb0e40de91617d481fba7b10",
            "_model_module": "@jupyter-widgets/controls",
            "children": [
              "IPY_MODEL_9f44bfbaac964976869aad6e4eca4e8b",
              "IPY_MODEL_858f7855f321444a9febdadc7c895b0d"
            ]
          }
        },
        "1966201edb0e40de91617d481fba7b10": {
          "model_module": "@jupyter-widgets/base",
          "model_name": "LayoutModel",
          "state": {
            "_view_name": "LayoutView",
            "grid_template_rows": null,
            "right": null,
            "justify_content": null,
            "_view_module": "@jupyter-widgets/base",
            "overflow": null,
            "_model_module_version": "1.2.0",
            "_view_count": null,
            "flex_flow": null,
            "width": null,
            "min_width": null,
            "border": null,
            "align_items": null,
            "bottom": null,
            "_model_module": "@jupyter-widgets/base",
            "top": null,
            "grid_column": null,
            "overflow_y": null,
            "overflow_x": null,
            "grid_auto_flow": null,
            "grid_area": null,
            "grid_template_columns": null,
            "flex": null,
            "_model_name": "LayoutModel",
            "justify_items": null,
            "grid_row": null,
            "max_height": null,
            "align_content": null,
            "visibility": null,
            "align_self": null,
            "height": null,
            "min_height": null,
            "padding": null,
            "grid_auto_rows": null,
            "grid_gap": null,
            "max_width": null,
            "order": null,
            "_view_module_version": "1.2.0",
            "grid_template_areas": null,
            "object_position": null,
            "object_fit": null,
            "grid_auto_columns": null,
            "margin": null,
            "display": null,
            "left": null
          }
        },
        "9f44bfbaac964976869aad6e4eca4e8b": {
          "model_module": "@jupyter-widgets/controls",
          "model_name": "FloatProgressModel",
          "state": {
            "_view_name": "ProgressView",
            "style": "IPY_MODEL_0213e4ded6cc4d23a017f451dc469492",
            "_dom_classes": [],
            "description": "#3: 100%",
            "_model_name": "FloatProgressModel",
            "bar_style": "success",
            "max": 420,
            "_view_module": "@jupyter-widgets/controls",
            "_model_module_version": "1.5.0",
            "value": 420,
            "_view_count": null,
            "_view_module_version": "1.5.0",
            "orientation": "horizontal",
            "min": 0,
            "description_tooltip": null,
            "_model_module": "@jupyter-widgets/controls",
            "layout": "IPY_MODEL_1e82ec7ec62e472395ce9109452c4319"
          }
        },
        "858f7855f321444a9febdadc7c895b0d": {
          "model_module": "@jupyter-widgets/controls",
          "model_name": "HTMLModel",
          "state": {
            "_view_name": "HTMLView",
            "style": "IPY_MODEL_479c0168251d43b9b8626d0ec66a1984",
            "_dom_classes": [],
            "description": "",
            "_model_name": "HTMLModel",
            "placeholder": "​",
            "_view_module": "@jupyter-widgets/controls",
            "_model_module_version": "1.5.0",
            "value": " 420/420 [00:02&lt;00:00, 205.78ex/s]",
            "_view_count": null,
            "_view_module_version": "1.5.0",
            "description_tooltip": null,
            "_model_module": "@jupyter-widgets/controls",
            "layout": "IPY_MODEL_a71c5cbd64be4f79a63d254523184e2a"
          }
        },
        "0213e4ded6cc4d23a017f451dc469492": {
          "model_module": "@jupyter-widgets/controls",
          "model_name": "ProgressStyleModel",
          "state": {
            "_view_name": "StyleView",
            "_model_name": "ProgressStyleModel",
            "description_width": "initial",
            "_view_module": "@jupyter-widgets/base",
            "_model_module_version": "1.5.0",
            "_view_count": null,
            "_view_module_version": "1.2.0",
            "bar_color": null,
            "_model_module": "@jupyter-widgets/controls"
          }
        },
        "1e82ec7ec62e472395ce9109452c4319": {
          "model_module": "@jupyter-widgets/base",
          "model_name": "LayoutModel",
          "state": {
            "_view_name": "LayoutView",
            "grid_template_rows": null,
            "right": null,
            "justify_content": null,
            "_view_module": "@jupyter-widgets/base",
            "overflow": null,
            "_model_module_version": "1.2.0",
            "_view_count": null,
            "flex_flow": null,
            "width": null,
            "min_width": null,
            "border": null,
            "align_items": null,
            "bottom": null,
            "_model_module": "@jupyter-widgets/base",
            "top": null,
            "grid_column": null,
            "overflow_y": null,
            "overflow_x": null,
            "grid_auto_flow": null,
            "grid_area": null,
            "grid_template_columns": null,
            "flex": null,
            "_model_name": "LayoutModel",
            "justify_items": null,
            "grid_row": null,
            "max_height": null,
            "align_content": null,
            "visibility": null,
            "align_self": null,
            "height": null,
            "min_height": null,
            "padding": null,
            "grid_auto_rows": null,
            "grid_gap": null,
            "max_width": null,
            "order": null,
            "_view_module_version": "1.2.0",
            "grid_template_areas": null,
            "object_position": null,
            "object_fit": null,
            "grid_auto_columns": null,
            "margin": null,
            "display": null,
            "left": null
          }
        },
        "479c0168251d43b9b8626d0ec66a1984": {
          "model_module": "@jupyter-widgets/controls",
          "model_name": "DescriptionStyleModel",
          "state": {
            "_view_name": "StyleView",
            "_model_name": "DescriptionStyleModel",
            "description_width": "",
            "_view_module": "@jupyter-widgets/base",
            "_model_module_version": "1.5.0",
            "_view_count": null,
            "_view_module_version": "1.2.0",
            "_model_module": "@jupyter-widgets/controls"
          }
        },
        "a71c5cbd64be4f79a63d254523184e2a": {
          "model_module": "@jupyter-widgets/base",
          "model_name": "LayoutModel",
          "state": {
            "_view_name": "LayoutView",
            "grid_template_rows": null,
            "right": null,
            "justify_content": null,
            "_view_module": "@jupyter-widgets/base",
            "overflow": null,
            "_model_module_version": "1.2.0",
            "_view_count": null,
            "flex_flow": null,
            "width": null,
            "min_width": null,
            "border": null,
            "align_items": null,
            "bottom": null,
            "_model_module": "@jupyter-widgets/base",
            "top": null,
            "grid_column": null,
            "overflow_y": null,
            "overflow_x": null,
            "grid_auto_flow": null,
            "grid_area": null,
            "grid_template_columns": null,
            "flex": null,
            "_model_name": "LayoutModel",
            "justify_items": null,
            "grid_row": null,
            "max_height": null,
            "align_content": null,
            "visibility": null,
            "align_self": null,
            "height": null,
            "min_height": null,
            "padding": null,
            "grid_auto_rows": null,
            "grid_gap": null,
            "max_width": null,
            "order": null,
            "_view_module_version": "1.2.0",
            "grid_template_areas": null,
            "object_position": null,
            "object_fit": null,
            "grid_auto_columns": null,
            "margin": null,
            "display": null,
            "left": null
          }
        },
        "027675b169054ee7865a4b89e33d820c": {
          "model_module": "@jupyter-widgets/controls",
          "model_name": "HBoxModel",
          "state": {
            "_view_name": "HBoxView",
            "_dom_classes": [],
            "_model_name": "HBoxModel",
            "_view_module": "@jupyter-widgets/controls",
            "_model_module_version": "1.5.0",
            "_view_count": null,
            "_view_module_version": "1.5.0",
            "box_style": "",
            "layout": "IPY_MODEL_533862ebea83407db26786d65958dd02",
            "_model_module": "@jupyter-widgets/controls",
            "children": [
              "IPY_MODEL_aab057b6b6764b139aa0cb2783c16e4c",
              "IPY_MODEL_31b79d7231ce46f9905a3eda00d66a25"
            ]
          }
        },
        "533862ebea83407db26786d65958dd02": {
          "model_module": "@jupyter-widgets/base",
          "model_name": "LayoutModel",
          "state": {
            "_view_name": "LayoutView",
            "grid_template_rows": null,
            "right": null,
            "justify_content": null,
            "_view_module": "@jupyter-widgets/base",
            "overflow": null,
            "_model_module_version": "1.2.0",
            "_view_count": null,
            "flex_flow": null,
            "width": null,
            "min_width": null,
            "border": null,
            "align_items": null,
            "bottom": null,
            "_model_module": "@jupyter-widgets/base",
            "top": null,
            "grid_column": null,
            "overflow_y": null,
            "overflow_x": null,
            "grid_auto_flow": null,
            "grid_area": null,
            "grid_template_columns": null,
            "flex": null,
            "_model_name": "LayoutModel",
            "justify_items": null,
            "grid_row": null,
            "max_height": null,
            "align_content": null,
            "visibility": null,
            "align_self": null,
            "height": null,
            "min_height": null,
            "padding": null,
            "grid_auto_rows": null,
            "grid_gap": null,
            "max_width": null,
            "order": null,
            "_view_module_version": "1.2.0",
            "grid_template_areas": null,
            "object_position": null,
            "object_fit": null,
            "grid_auto_columns": null,
            "margin": null,
            "display": null,
            "left": null
          }
        },
        "aab057b6b6764b139aa0cb2783c16e4c": {
          "model_module": "@jupyter-widgets/controls",
          "model_name": "FloatProgressModel",
          "state": {
            "_view_name": "ProgressView",
            "style": "IPY_MODEL_a246ecaa1b69422481c49cbf9e6b8026",
            "_dom_classes": [],
            "description": "#2: 100%",
            "_model_name": "FloatProgressModel",
            "bar_style": "success",
            "max": 420,
            "_view_module": "@jupyter-widgets/controls",
            "_model_module_version": "1.5.0",
            "value": 420,
            "_view_count": null,
            "_view_module_version": "1.5.0",
            "orientation": "horizontal",
            "min": 0,
            "description_tooltip": null,
            "_model_module": "@jupyter-widgets/controls",
            "layout": "IPY_MODEL_480be28ecaba4ae5a976de227585834d"
          }
        },
        "31b79d7231ce46f9905a3eda00d66a25": {
          "model_module": "@jupyter-widgets/controls",
          "model_name": "HTMLModel",
          "state": {
            "_view_name": "HTMLView",
            "style": "IPY_MODEL_6a92ac23088c4e5eb8012dee73180c47",
            "_dom_classes": [],
            "description": "",
            "_model_name": "HTMLModel",
            "placeholder": "​",
            "_view_module": "@jupyter-widgets/controls",
            "_model_module_version": "1.5.0",
            "value": " 420/420 [00:01&lt;00:00, 248.23ex/s]",
            "_view_count": null,
            "_view_module_version": "1.5.0",
            "description_tooltip": null,
            "_model_module": "@jupyter-widgets/controls",
            "layout": "IPY_MODEL_519a061933f64203a61c18d151710a51"
          }
        },
        "a246ecaa1b69422481c49cbf9e6b8026": {
          "model_module": "@jupyter-widgets/controls",
          "model_name": "ProgressStyleModel",
          "state": {
            "_view_name": "StyleView",
            "_model_name": "ProgressStyleModel",
            "description_width": "initial",
            "_view_module": "@jupyter-widgets/base",
            "_model_module_version": "1.5.0",
            "_view_count": null,
            "_view_module_version": "1.2.0",
            "bar_color": null,
            "_model_module": "@jupyter-widgets/controls"
          }
        },
        "480be28ecaba4ae5a976de227585834d": {
          "model_module": "@jupyter-widgets/base",
          "model_name": "LayoutModel",
          "state": {
            "_view_name": "LayoutView",
            "grid_template_rows": null,
            "right": null,
            "justify_content": null,
            "_view_module": "@jupyter-widgets/base",
            "overflow": null,
            "_model_module_version": "1.2.0",
            "_view_count": null,
            "flex_flow": null,
            "width": null,
            "min_width": null,
            "border": null,
            "align_items": null,
            "bottom": null,
            "_model_module": "@jupyter-widgets/base",
            "top": null,
            "grid_column": null,
            "overflow_y": null,
            "overflow_x": null,
            "grid_auto_flow": null,
            "grid_area": null,
            "grid_template_columns": null,
            "flex": null,
            "_model_name": "LayoutModel",
            "justify_items": null,
            "grid_row": null,
            "max_height": null,
            "align_content": null,
            "visibility": null,
            "align_self": null,
            "height": null,
            "min_height": null,
            "padding": null,
            "grid_auto_rows": null,
            "grid_gap": null,
            "max_width": null,
            "order": null,
            "_view_module_version": "1.2.0",
            "grid_template_areas": null,
            "object_position": null,
            "object_fit": null,
            "grid_auto_columns": null,
            "margin": null,
            "display": null,
            "left": null
          }
        },
        "6a92ac23088c4e5eb8012dee73180c47": {
          "model_module": "@jupyter-widgets/controls",
          "model_name": "DescriptionStyleModel",
          "state": {
            "_view_name": "StyleView",
            "_model_name": "DescriptionStyleModel",
            "description_width": "",
            "_view_module": "@jupyter-widgets/base",
            "_model_module_version": "1.5.0",
            "_view_count": null,
            "_view_module_version": "1.2.0",
            "_model_module": "@jupyter-widgets/controls"
          }
        },
        "519a061933f64203a61c18d151710a51": {
          "model_module": "@jupyter-widgets/base",
          "model_name": "LayoutModel",
          "state": {
            "_view_name": "LayoutView",
            "grid_template_rows": null,
            "right": null,
            "justify_content": null,
            "_view_module": "@jupyter-widgets/base",
            "overflow": null,
            "_model_module_version": "1.2.0",
            "_view_count": null,
            "flex_flow": null,
            "width": null,
            "min_width": null,
            "border": null,
            "align_items": null,
            "bottom": null,
            "_model_module": "@jupyter-widgets/base",
            "top": null,
            "grid_column": null,
            "overflow_y": null,
            "overflow_x": null,
            "grid_auto_flow": null,
            "grid_area": null,
            "grid_template_columns": null,
            "flex": null,
            "_model_name": "LayoutModel",
            "justify_items": null,
            "grid_row": null,
            "max_height": null,
            "align_content": null,
            "visibility": null,
            "align_self": null,
            "height": null,
            "min_height": null,
            "padding": null,
            "grid_auto_rows": null,
            "grid_gap": null,
            "max_width": null,
            "order": null,
            "_view_module_version": "1.2.0",
            "grid_template_areas": null,
            "object_position": null,
            "object_fit": null,
            "grid_auto_columns": null,
            "margin": null,
            "display": null,
            "left": null
          }
        },
        "8d2c14d3f2a4442bb0631b39f20ce165": {
          "model_module": "@jupyter-widgets/controls",
          "model_name": "HBoxModel",
          "state": {
            "_view_name": "HBoxView",
            "_dom_classes": [],
            "_model_name": "HBoxModel",
            "_view_module": "@jupyter-widgets/controls",
            "_model_module_version": "1.5.0",
            "_view_count": null,
            "_view_module_version": "1.5.0",
            "box_style": "",
            "layout": "IPY_MODEL_7580c702fe8d42038e90fd0fc22a506d",
            "_model_module": "@jupyter-widgets/controls",
            "children": [
              "IPY_MODEL_212f9356d00548e48f3d6fc48aa30dae",
              "IPY_MODEL_53a46455514a4a70828a376ab53e62ca"
            ]
          }
        },
        "7580c702fe8d42038e90fd0fc22a506d": {
          "model_module": "@jupyter-widgets/base",
          "model_name": "LayoutModel",
          "state": {
            "_view_name": "LayoutView",
            "grid_template_rows": null,
            "right": null,
            "justify_content": null,
            "_view_module": "@jupyter-widgets/base",
            "overflow": null,
            "_model_module_version": "1.2.0",
            "_view_count": null,
            "flex_flow": null,
            "width": null,
            "min_width": null,
            "border": null,
            "align_items": null,
            "bottom": null,
            "_model_module": "@jupyter-widgets/base",
            "top": null,
            "grid_column": null,
            "overflow_y": null,
            "overflow_x": null,
            "grid_auto_flow": null,
            "grid_area": null,
            "grid_template_columns": null,
            "flex": null,
            "_model_name": "LayoutModel",
            "justify_items": null,
            "grid_row": null,
            "max_height": null,
            "align_content": null,
            "visibility": null,
            "align_self": null,
            "height": null,
            "min_height": null,
            "padding": null,
            "grid_auto_rows": null,
            "grid_gap": null,
            "max_width": null,
            "order": null,
            "_view_module_version": "1.2.0",
            "grid_template_areas": null,
            "object_position": null,
            "object_fit": null,
            "grid_auto_columns": null,
            "margin": null,
            "display": null,
            "left": null
          }
        },
        "212f9356d00548e48f3d6fc48aa30dae": {
          "model_module": "@jupyter-widgets/controls",
          "model_name": "FloatProgressModel",
          "state": {
            "_view_name": "ProgressView",
            "style": "IPY_MODEL_953cd15cb96646f3b3b9838210023fb7",
            "_dom_classes": [],
            "description": "#1: 100%",
            "_model_name": "FloatProgressModel",
            "bar_style": "success",
            "max": 420,
            "_view_module": "@jupyter-widgets/controls",
            "_model_module_version": "1.5.0",
            "value": 420,
            "_view_count": null,
            "_view_module_version": "1.5.0",
            "orientation": "horizontal",
            "min": 0,
            "description_tooltip": null,
            "_model_module": "@jupyter-widgets/controls",
            "layout": "IPY_MODEL_7da78a1ce5c848289d980100cd33b48c"
          }
        },
        "53a46455514a4a70828a376ab53e62ca": {
          "model_module": "@jupyter-widgets/controls",
          "model_name": "HTMLModel",
          "state": {
            "_view_name": "HTMLView",
            "style": "IPY_MODEL_cd64a430d30f4d089e73f02c69c3801f",
            "_dom_classes": [],
            "description": "",
            "_model_name": "HTMLModel",
            "placeholder": "​",
            "_view_module": "@jupyter-widgets/controls",
            "_model_module_version": "1.5.0",
            "value": " 420/420 [00:01&lt;00:00, 217.77ex/s]",
            "_view_count": null,
            "_view_module_version": "1.5.0",
            "description_tooltip": null,
            "_model_module": "@jupyter-widgets/controls",
            "layout": "IPY_MODEL_98fe73fa2ca74b8f90c30086a4ebdd6a"
          }
        },
        "953cd15cb96646f3b3b9838210023fb7": {
          "model_module": "@jupyter-widgets/controls",
          "model_name": "ProgressStyleModel",
          "state": {
            "_view_name": "StyleView",
            "_model_name": "ProgressStyleModel",
            "description_width": "initial",
            "_view_module": "@jupyter-widgets/base",
            "_model_module_version": "1.5.0",
            "_view_count": null,
            "_view_module_version": "1.2.0",
            "bar_color": null,
            "_model_module": "@jupyter-widgets/controls"
          }
        },
        "7da78a1ce5c848289d980100cd33b48c": {
          "model_module": "@jupyter-widgets/base",
          "model_name": "LayoutModel",
          "state": {
            "_view_name": "LayoutView",
            "grid_template_rows": null,
            "right": null,
            "justify_content": null,
            "_view_module": "@jupyter-widgets/base",
            "overflow": null,
            "_model_module_version": "1.2.0",
            "_view_count": null,
            "flex_flow": null,
            "width": null,
            "min_width": null,
            "border": null,
            "align_items": null,
            "bottom": null,
            "_model_module": "@jupyter-widgets/base",
            "top": null,
            "grid_column": null,
            "overflow_y": null,
            "overflow_x": null,
            "grid_auto_flow": null,
            "grid_area": null,
            "grid_template_columns": null,
            "flex": null,
            "_model_name": "LayoutModel",
            "justify_items": null,
            "grid_row": null,
            "max_height": null,
            "align_content": null,
            "visibility": null,
            "align_self": null,
            "height": null,
            "min_height": null,
            "padding": null,
            "grid_auto_rows": null,
            "grid_gap": null,
            "max_width": null,
            "order": null,
            "_view_module_version": "1.2.0",
            "grid_template_areas": null,
            "object_position": null,
            "object_fit": null,
            "grid_auto_columns": null,
            "margin": null,
            "display": null,
            "left": null
          }
        },
        "cd64a430d30f4d089e73f02c69c3801f": {
          "model_module": "@jupyter-widgets/controls",
          "model_name": "DescriptionStyleModel",
          "state": {
            "_view_name": "StyleView",
            "_model_name": "DescriptionStyleModel",
            "description_width": "",
            "_view_module": "@jupyter-widgets/base",
            "_model_module_version": "1.5.0",
            "_view_count": null,
            "_view_module_version": "1.2.0",
            "_model_module": "@jupyter-widgets/controls"
          }
        },
        "98fe73fa2ca74b8f90c30086a4ebdd6a": {
          "model_module": "@jupyter-widgets/base",
          "model_name": "LayoutModel",
          "state": {
            "_view_name": "LayoutView",
            "grid_template_rows": null,
            "right": null,
            "justify_content": null,
            "_view_module": "@jupyter-widgets/base",
            "overflow": null,
            "_model_module_version": "1.2.0",
            "_view_count": null,
            "flex_flow": null,
            "width": null,
            "min_width": null,
            "border": null,
            "align_items": null,
            "bottom": null,
            "_model_module": "@jupyter-widgets/base",
            "top": null,
            "grid_column": null,
            "overflow_y": null,
            "overflow_x": null,
            "grid_auto_flow": null,
            "grid_area": null,
            "grid_template_columns": null,
            "flex": null,
            "_model_name": "LayoutModel",
            "justify_items": null,
            "grid_row": null,
            "max_height": null,
            "align_content": null,
            "visibility": null,
            "align_self": null,
            "height": null,
            "min_height": null,
            "padding": null,
            "grid_auto_rows": null,
            "grid_gap": null,
            "max_width": null,
            "order": null,
            "_view_module_version": "1.2.0",
            "grid_template_areas": null,
            "object_position": null,
            "object_fit": null,
            "grid_auto_columns": null,
            "margin": null,
            "display": null,
            "left": null
          }
        },
        "9ae8b478e51b42438866c2018f371ba2": {
          "model_module": "@jupyter-widgets/controls",
          "model_name": "HBoxModel",
          "state": {
            "_view_name": "HBoxView",
            "_dom_classes": [],
            "_model_name": "HBoxModel",
            "_view_module": "@jupyter-widgets/controls",
            "_model_module_version": "1.5.0",
            "_view_count": null,
            "_view_module_version": "1.5.0",
            "box_style": "",
            "layout": "IPY_MODEL_bcf4bdd1f2cd4edcb9b448701fafe3fb",
            "_model_module": "@jupyter-widgets/controls",
            "children": [
              "IPY_MODEL_e360100afa514246b26a9a023ff9ed51",
              "IPY_MODEL_ddf57c2ab7914558a1fde4983b831e52"
            ]
          }
        },
        "bcf4bdd1f2cd4edcb9b448701fafe3fb": {
          "model_module": "@jupyter-widgets/base",
          "model_name": "LayoutModel",
          "state": {
            "_view_name": "LayoutView",
            "grid_template_rows": null,
            "right": null,
            "justify_content": null,
            "_view_module": "@jupyter-widgets/base",
            "overflow": null,
            "_model_module_version": "1.2.0",
            "_view_count": null,
            "flex_flow": null,
            "width": null,
            "min_width": null,
            "border": null,
            "align_items": null,
            "bottom": null,
            "_model_module": "@jupyter-widgets/base",
            "top": null,
            "grid_column": null,
            "overflow_y": null,
            "overflow_x": null,
            "grid_auto_flow": null,
            "grid_area": null,
            "grid_template_columns": null,
            "flex": null,
            "_model_name": "LayoutModel",
            "justify_items": null,
            "grid_row": null,
            "max_height": null,
            "align_content": null,
            "visibility": null,
            "align_self": null,
            "height": null,
            "min_height": null,
            "padding": null,
            "grid_auto_rows": null,
            "grid_gap": null,
            "max_width": null,
            "order": null,
            "_view_module_version": "1.2.0",
            "grid_template_areas": null,
            "object_position": null,
            "object_fit": null,
            "grid_auto_columns": null,
            "margin": null,
            "display": null,
            "left": null
          }
        },
        "e360100afa514246b26a9a023ff9ed51": {
          "model_module": "@jupyter-widgets/controls",
          "model_name": "FloatProgressModel",
          "state": {
            "_view_name": "ProgressView",
            "style": "IPY_MODEL_e8cf486f66f94b3599ab9ce810600156",
            "_dom_classes": [],
            "description": "#1: 100%",
            "_model_name": "FloatProgressModel",
            "bar_style": "success",
            "max": 145,
            "_view_module": "@jupyter-widgets/controls",
            "_model_module_version": "1.5.0",
            "value": 145,
            "_view_count": null,
            "_view_module_version": "1.5.0",
            "orientation": "horizontal",
            "min": 0,
            "description_tooltip": null,
            "_model_module": "@jupyter-widgets/controls",
            "layout": "IPY_MODEL_ecbad553ec2b4893878e349b3d0452ef"
          }
        },
        "ddf57c2ab7914558a1fde4983b831e52": {
          "model_module": "@jupyter-widgets/controls",
          "model_name": "HTMLModel",
          "state": {
            "_view_name": "HTMLView",
            "style": "IPY_MODEL_1d5b67b98a0d4ec4b362580b86474763",
            "_dom_classes": [],
            "description": "",
            "_model_name": "HTMLModel",
            "placeholder": "​",
            "_view_module": "@jupyter-widgets/controls",
            "_model_module_version": "1.5.0",
            "value": " 145/145 [00:45&lt;00:00,  3.20ba/s]",
            "_view_count": null,
            "_view_module_version": "1.5.0",
            "description_tooltip": null,
            "_model_module": "@jupyter-widgets/controls",
            "layout": "IPY_MODEL_795948cb00af48d5a6c35cbed061bf3e"
          }
        },
        "e8cf486f66f94b3599ab9ce810600156": {
          "model_module": "@jupyter-widgets/controls",
          "model_name": "ProgressStyleModel",
          "state": {
            "_view_name": "StyleView",
            "_model_name": "ProgressStyleModel",
            "description_width": "initial",
            "_view_module": "@jupyter-widgets/base",
            "_model_module_version": "1.5.0",
            "_view_count": null,
            "_view_module_version": "1.2.0",
            "bar_color": null,
            "_model_module": "@jupyter-widgets/controls"
          }
        },
        "ecbad553ec2b4893878e349b3d0452ef": {
          "model_module": "@jupyter-widgets/base",
          "model_name": "LayoutModel",
          "state": {
            "_view_name": "LayoutView",
            "grid_template_rows": null,
            "right": null,
            "justify_content": null,
            "_view_module": "@jupyter-widgets/base",
            "overflow": null,
            "_model_module_version": "1.2.0",
            "_view_count": null,
            "flex_flow": null,
            "width": null,
            "min_width": null,
            "border": null,
            "align_items": null,
            "bottom": null,
            "_model_module": "@jupyter-widgets/base",
            "top": null,
            "grid_column": null,
            "overflow_y": null,
            "overflow_x": null,
            "grid_auto_flow": null,
            "grid_area": null,
            "grid_template_columns": null,
            "flex": null,
            "_model_name": "LayoutModel",
            "justify_items": null,
            "grid_row": null,
            "max_height": null,
            "align_content": null,
            "visibility": null,
            "align_self": null,
            "height": null,
            "min_height": null,
            "padding": null,
            "grid_auto_rows": null,
            "grid_gap": null,
            "max_width": null,
            "order": null,
            "_view_module_version": "1.2.0",
            "grid_template_areas": null,
            "object_position": null,
            "object_fit": null,
            "grid_auto_columns": null,
            "margin": null,
            "display": null,
            "left": null
          }
        },
        "1d5b67b98a0d4ec4b362580b86474763": {
          "model_module": "@jupyter-widgets/controls",
          "model_name": "DescriptionStyleModel",
          "state": {
            "_view_name": "StyleView",
            "_model_name": "DescriptionStyleModel",
            "description_width": "",
            "_view_module": "@jupyter-widgets/base",
            "_model_module_version": "1.5.0",
            "_view_count": null,
            "_view_module_version": "1.2.0",
            "_model_module": "@jupyter-widgets/controls"
          }
        },
        "795948cb00af48d5a6c35cbed061bf3e": {
          "model_module": "@jupyter-widgets/base",
          "model_name": "LayoutModel",
          "state": {
            "_view_name": "LayoutView",
            "grid_template_rows": null,
            "right": null,
            "justify_content": null,
            "_view_module": "@jupyter-widgets/base",
            "overflow": null,
            "_model_module_version": "1.2.0",
            "_view_count": null,
            "flex_flow": null,
            "width": null,
            "min_width": null,
            "border": null,
            "align_items": null,
            "bottom": null,
            "_model_module": "@jupyter-widgets/base",
            "top": null,
            "grid_column": null,
            "overflow_y": null,
            "overflow_x": null,
            "grid_auto_flow": null,
            "grid_area": null,
            "grid_template_columns": null,
            "flex": null,
            "_model_name": "LayoutModel",
            "justify_items": null,
            "grid_row": null,
            "max_height": null,
            "align_content": null,
            "visibility": null,
            "align_self": null,
            "height": null,
            "min_height": null,
            "padding": null,
            "grid_auto_rows": null,
            "grid_gap": null,
            "max_width": null,
            "order": null,
            "_view_module_version": "1.2.0",
            "grid_template_areas": null,
            "object_position": null,
            "object_fit": null,
            "grid_auto_columns": null,
            "margin": null,
            "display": null,
            "left": null
          }
        },
        "defd86dae75e4b288cb836a3637c0a4c": {
          "model_module": "@jupyter-widgets/controls",
          "model_name": "HBoxModel",
          "state": {
            "_view_name": "HBoxView",
            "_dom_classes": [],
            "_model_name": "HBoxModel",
            "_view_module": "@jupyter-widgets/controls",
            "_model_module_version": "1.5.0",
            "_view_count": null,
            "_view_module_version": "1.5.0",
            "box_style": "",
            "layout": "IPY_MODEL_a26a9874a2b441909b6bda18c581827d",
            "_model_module": "@jupyter-widgets/controls",
            "children": [
              "IPY_MODEL_f36832bafc6044359c5a3154057666b3",
              "IPY_MODEL_7a1a5f1d9b3a46eeb0cc8644094e89f6"
            ]
          }
        },
        "a26a9874a2b441909b6bda18c581827d": {
          "model_module": "@jupyter-widgets/base",
          "model_name": "LayoutModel",
          "state": {
            "_view_name": "LayoutView",
            "grid_template_rows": null,
            "right": null,
            "justify_content": null,
            "_view_module": "@jupyter-widgets/base",
            "overflow": null,
            "_model_module_version": "1.2.0",
            "_view_count": null,
            "flex_flow": null,
            "width": null,
            "min_width": null,
            "border": null,
            "align_items": null,
            "bottom": null,
            "_model_module": "@jupyter-widgets/base",
            "top": null,
            "grid_column": null,
            "overflow_y": null,
            "overflow_x": null,
            "grid_auto_flow": null,
            "grid_area": null,
            "grid_template_columns": null,
            "flex": null,
            "_model_name": "LayoutModel",
            "justify_items": null,
            "grid_row": null,
            "max_height": null,
            "align_content": null,
            "visibility": null,
            "align_self": null,
            "height": null,
            "min_height": null,
            "padding": null,
            "grid_auto_rows": null,
            "grid_gap": null,
            "max_width": null,
            "order": null,
            "_view_module_version": "1.2.0",
            "grid_template_areas": null,
            "object_position": null,
            "object_fit": null,
            "grid_auto_columns": null,
            "margin": null,
            "display": null,
            "left": null
          }
        },
        "f36832bafc6044359c5a3154057666b3": {
          "model_module": "@jupyter-widgets/controls",
          "model_name": "FloatProgressModel",
          "state": {
            "_view_name": "ProgressView",
            "style": "IPY_MODEL_1903b6f973ec4690a9192cac2c3e7d34",
            "_dom_classes": [],
            "description": "#0: 100%",
            "_model_name": "FloatProgressModel",
            "bar_style": "success",
            "max": 145,
            "_view_module": "@jupyter-widgets/controls",
            "_model_module_version": "1.5.0",
            "value": 145,
            "_view_count": null,
            "_view_module_version": "1.5.0",
            "orientation": "horizontal",
            "min": 0,
            "description_tooltip": null,
            "_model_module": "@jupyter-widgets/controls",
            "layout": "IPY_MODEL_62344d4161c74bbbaba91b275d2d1092"
          }
        },
        "7a1a5f1d9b3a46eeb0cc8644094e89f6": {
          "model_module": "@jupyter-widgets/controls",
          "model_name": "HTMLModel",
          "state": {
            "_view_name": "HTMLView",
            "style": "IPY_MODEL_9f188bd127464300b3f2a0c77e72ac87",
            "_dom_classes": [],
            "description": "",
            "_model_name": "HTMLModel",
            "placeholder": "​",
            "_view_module": "@jupyter-widgets/controls",
            "_model_module_version": "1.5.0",
            "value": " 145/145 [00:45&lt;00:00,  3.20ba/s]",
            "_view_count": null,
            "_view_module_version": "1.5.0",
            "description_tooltip": null,
            "_model_module": "@jupyter-widgets/controls",
            "layout": "IPY_MODEL_e07e0d6c082a4d54a02d42078620c203"
          }
        },
        "1903b6f973ec4690a9192cac2c3e7d34": {
          "model_module": "@jupyter-widgets/controls",
          "model_name": "ProgressStyleModel",
          "state": {
            "_view_name": "StyleView",
            "_model_name": "ProgressStyleModel",
            "description_width": "initial",
            "_view_module": "@jupyter-widgets/base",
            "_model_module_version": "1.5.0",
            "_view_count": null,
            "_view_module_version": "1.2.0",
            "bar_color": null,
            "_model_module": "@jupyter-widgets/controls"
          }
        },
        "62344d4161c74bbbaba91b275d2d1092": {
          "model_module": "@jupyter-widgets/base",
          "model_name": "LayoutModel",
          "state": {
            "_view_name": "LayoutView",
            "grid_template_rows": null,
            "right": null,
            "justify_content": null,
            "_view_module": "@jupyter-widgets/base",
            "overflow": null,
            "_model_module_version": "1.2.0",
            "_view_count": null,
            "flex_flow": null,
            "width": null,
            "min_width": null,
            "border": null,
            "align_items": null,
            "bottom": null,
            "_model_module": "@jupyter-widgets/base",
            "top": null,
            "grid_column": null,
            "overflow_y": null,
            "overflow_x": null,
            "grid_auto_flow": null,
            "grid_area": null,
            "grid_template_columns": null,
            "flex": null,
            "_model_name": "LayoutModel",
            "justify_items": null,
            "grid_row": null,
            "max_height": null,
            "align_content": null,
            "visibility": null,
            "align_self": null,
            "height": null,
            "min_height": null,
            "padding": null,
            "grid_auto_rows": null,
            "grid_gap": null,
            "max_width": null,
            "order": null,
            "_view_module_version": "1.2.0",
            "grid_template_areas": null,
            "object_position": null,
            "object_fit": null,
            "grid_auto_columns": null,
            "margin": null,
            "display": null,
            "left": null
          }
        },
        "9f188bd127464300b3f2a0c77e72ac87": {
          "model_module": "@jupyter-widgets/controls",
          "model_name": "DescriptionStyleModel",
          "state": {
            "_view_name": "StyleView",
            "_model_name": "DescriptionStyleModel",
            "description_width": "",
            "_view_module": "@jupyter-widgets/base",
            "_model_module_version": "1.5.0",
            "_view_count": null,
            "_view_module_version": "1.2.0",
            "_model_module": "@jupyter-widgets/controls"
          }
        },
        "e07e0d6c082a4d54a02d42078620c203": {
          "model_module": "@jupyter-widgets/base",
          "model_name": "LayoutModel",
          "state": {
            "_view_name": "LayoutView",
            "grid_template_rows": null,
            "right": null,
            "justify_content": null,
            "_view_module": "@jupyter-widgets/base",
            "overflow": null,
            "_model_module_version": "1.2.0",
            "_view_count": null,
            "flex_flow": null,
            "width": null,
            "min_width": null,
            "border": null,
            "align_items": null,
            "bottom": null,
            "_model_module": "@jupyter-widgets/base",
            "top": null,
            "grid_column": null,
            "overflow_y": null,
            "overflow_x": null,
            "grid_auto_flow": null,
            "grid_area": null,
            "grid_template_columns": null,
            "flex": null,
            "_model_name": "LayoutModel",
            "justify_items": null,
            "grid_row": null,
            "max_height": null,
            "align_content": null,
            "visibility": null,
            "align_self": null,
            "height": null,
            "min_height": null,
            "padding": null,
            "grid_auto_rows": null,
            "grid_gap": null,
            "max_width": null,
            "order": null,
            "_view_module_version": "1.2.0",
            "grid_template_areas": null,
            "object_position": null,
            "object_fit": null,
            "grid_auto_columns": null,
            "margin": null,
            "display": null,
            "left": null
          }
        },
        "373e6436f919493bab13a58bfbbcc598": {
          "model_module": "@jupyter-widgets/controls",
          "model_name": "HBoxModel",
          "state": {
            "_view_name": "HBoxView",
            "_dom_classes": [],
            "_model_name": "HBoxModel",
            "_view_module": "@jupyter-widgets/controls",
            "_model_module_version": "1.5.0",
            "_view_count": null,
            "_view_module_version": "1.5.0",
            "box_style": "",
            "layout": "IPY_MODEL_b2de5d7b72934284b50648fb1685c3d7",
            "_model_module": "@jupyter-widgets/controls",
            "children": [
              "IPY_MODEL_473f861fb103469a8dba1ab45281af40",
              "IPY_MODEL_1725aad6a5da48b8b17b2241acb993c3"
            ]
          }
        },
        "b2de5d7b72934284b50648fb1685c3d7": {
          "model_module": "@jupyter-widgets/base",
          "model_name": "LayoutModel",
          "state": {
            "_view_name": "LayoutView",
            "grid_template_rows": null,
            "right": null,
            "justify_content": null,
            "_view_module": "@jupyter-widgets/base",
            "overflow": null,
            "_model_module_version": "1.2.0",
            "_view_count": null,
            "flex_flow": null,
            "width": null,
            "min_width": null,
            "border": null,
            "align_items": null,
            "bottom": null,
            "_model_module": "@jupyter-widgets/base",
            "top": null,
            "grid_column": null,
            "overflow_y": null,
            "overflow_x": null,
            "grid_auto_flow": null,
            "grid_area": null,
            "grid_template_columns": null,
            "flex": null,
            "_model_name": "LayoutModel",
            "justify_items": null,
            "grid_row": null,
            "max_height": null,
            "align_content": null,
            "visibility": null,
            "align_self": null,
            "height": null,
            "min_height": null,
            "padding": null,
            "grid_auto_rows": null,
            "grid_gap": null,
            "max_width": null,
            "order": null,
            "_view_module_version": "1.2.0",
            "grid_template_areas": null,
            "object_position": null,
            "object_fit": null,
            "grid_auto_columns": null,
            "margin": null,
            "display": null,
            "left": null
          }
        },
        "473f861fb103469a8dba1ab45281af40": {
          "model_module": "@jupyter-widgets/controls",
          "model_name": "FloatProgressModel",
          "state": {
            "_view_name": "ProgressView",
            "style": "IPY_MODEL_293b5978a8c94f918884ed6d6edb39ba",
            "_dom_classes": [],
            "description": "#3: 100%",
            "_model_name": "FloatProgressModel",
            "bar_style": "success",
            "max": 145,
            "_view_module": "@jupyter-widgets/controls",
            "_model_module_version": "1.5.0",
            "value": 145,
            "_view_count": null,
            "_view_module_version": "1.5.0",
            "orientation": "horizontal",
            "min": 0,
            "description_tooltip": null,
            "_model_module": "@jupyter-widgets/controls",
            "layout": "IPY_MODEL_537badd03085446e9fafe0fc39c42364"
          }
        },
        "1725aad6a5da48b8b17b2241acb993c3": {
          "model_module": "@jupyter-widgets/controls",
          "model_name": "HTMLModel",
          "state": {
            "_view_name": "HTMLView",
            "style": "IPY_MODEL_a7d5b08eedd6480da2aa63ef19292da7",
            "_dom_classes": [],
            "description": "",
            "_model_name": "HTMLModel",
            "placeholder": "​",
            "_view_module": "@jupyter-widgets/controls",
            "_model_module_version": "1.5.0",
            "value": " 145/145 [00:45&lt;00:00,  3.22ba/s]",
            "_view_count": null,
            "_view_module_version": "1.5.0",
            "description_tooltip": null,
            "_model_module": "@jupyter-widgets/controls",
            "layout": "IPY_MODEL_0d516ca551ee49fc9e9c5bc3fee54d73"
          }
        },
        "293b5978a8c94f918884ed6d6edb39ba": {
          "model_module": "@jupyter-widgets/controls",
          "model_name": "ProgressStyleModel",
          "state": {
            "_view_name": "StyleView",
            "_model_name": "ProgressStyleModel",
            "description_width": "initial",
            "_view_module": "@jupyter-widgets/base",
            "_model_module_version": "1.5.0",
            "_view_count": null,
            "_view_module_version": "1.2.0",
            "bar_color": null,
            "_model_module": "@jupyter-widgets/controls"
          }
        },
        "537badd03085446e9fafe0fc39c42364": {
          "model_module": "@jupyter-widgets/base",
          "model_name": "LayoutModel",
          "state": {
            "_view_name": "LayoutView",
            "grid_template_rows": null,
            "right": null,
            "justify_content": null,
            "_view_module": "@jupyter-widgets/base",
            "overflow": null,
            "_model_module_version": "1.2.0",
            "_view_count": null,
            "flex_flow": null,
            "width": null,
            "min_width": null,
            "border": null,
            "align_items": null,
            "bottom": null,
            "_model_module": "@jupyter-widgets/base",
            "top": null,
            "grid_column": null,
            "overflow_y": null,
            "overflow_x": null,
            "grid_auto_flow": null,
            "grid_area": null,
            "grid_template_columns": null,
            "flex": null,
            "_model_name": "LayoutModel",
            "justify_items": null,
            "grid_row": null,
            "max_height": null,
            "align_content": null,
            "visibility": null,
            "align_self": null,
            "height": null,
            "min_height": null,
            "padding": null,
            "grid_auto_rows": null,
            "grid_gap": null,
            "max_width": null,
            "order": null,
            "_view_module_version": "1.2.0",
            "grid_template_areas": null,
            "object_position": null,
            "object_fit": null,
            "grid_auto_columns": null,
            "margin": null,
            "display": null,
            "left": null
          }
        },
        "a7d5b08eedd6480da2aa63ef19292da7": {
          "model_module": "@jupyter-widgets/controls",
          "model_name": "DescriptionStyleModel",
          "state": {
            "_view_name": "StyleView",
            "_model_name": "DescriptionStyleModel",
            "description_width": "",
            "_view_module": "@jupyter-widgets/base",
            "_model_module_version": "1.5.0",
            "_view_count": null,
            "_view_module_version": "1.2.0",
            "_model_module": "@jupyter-widgets/controls"
          }
        },
        "0d516ca551ee49fc9e9c5bc3fee54d73": {
          "model_module": "@jupyter-widgets/base",
          "model_name": "LayoutModel",
          "state": {
            "_view_name": "LayoutView",
            "grid_template_rows": null,
            "right": null,
            "justify_content": null,
            "_view_module": "@jupyter-widgets/base",
            "overflow": null,
            "_model_module_version": "1.2.0",
            "_view_count": null,
            "flex_flow": null,
            "width": null,
            "min_width": null,
            "border": null,
            "align_items": null,
            "bottom": null,
            "_model_module": "@jupyter-widgets/base",
            "top": null,
            "grid_column": null,
            "overflow_y": null,
            "overflow_x": null,
            "grid_auto_flow": null,
            "grid_area": null,
            "grid_template_columns": null,
            "flex": null,
            "_model_name": "LayoutModel",
            "justify_items": null,
            "grid_row": null,
            "max_height": null,
            "align_content": null,
            "visibility": null,
            "align_self": null,
            "height": null,
            "min_height": null,
            "padding": null,
            "grid_auto_rows": null,
            "grid_gap": null,
            "max_width": null,
            "order": null,
            "_view_module_version": "1.2.0",
            "grid_template_areas": null,
            "object_position": null,
            "object_fit": null,
            "grid_auto_columns": null,
            "margin": null,
            "display": null,
            "left": null
          }
        },
        "379f3336c99a470f914890b2465aabcb": {
          "model_module": "@jupyter-widgets/controls",
          "model_name": "HBoxModel",
          "state": {
            "_view_name": "HBoxView",
            "_dom_classes": [],
            "_model_name": "HBoxModel",
            "_view_module": "@jupyter-widgets/controls",
            "_model_module_version": "1.5.0",
            "_view_count": null,
            "_view_module_version": "1.5.0",
            "box_style": "",
            "layout": "IPY_MODEL_c60b87084e084ec6bf9fe3acbf0e5a28",
            "_model_module": "@jupyter-widgets/controls",
            "children": [
              "IPY_MODEL_6a95fa4423254a6391d1b0e28e420134",
              "IPY_MODEL_025abaf52bc949c38396a4011cd3e8bb"
            ]
          }
        },
        "c60b87084e084ec6bf9fe3acbf0e5a28": {
          "model_module": "@jupyter-widgets/base",
          "model_name": "LayoutModel",
          "state": {
            "_view_name": "LayoutView",
            "grid_template_rows": null,
            "right": null,
            "justify_content": null,
            "_view_module": "@jupyter-widgets/base",
            "overflow": null,
            "_model_module_version": "1.2.0",
            "_view_count": null,
            "flex_flow": null,
            "width": null,
            "min_width": null,
            "border": null,
            "align_items": null,
            "bottom": null,
            "_model_module": "@jupyter-widgets/base",
            "top": null,
            "grid_column": null,
            "overflow_y": null,
            "overflow_x": null,
            "grid_auto_flow": null,
            "grid_area": null,
            "grid_template_columns": null,
            "flex": null,
            "_model_name": "LayoutModel",
            "justify_items": null,
            "grid_row": null,
            "max_height": null,
            "align_content": null,
            "visibility": null,
            "align_self": null,
            "height": null,
            "min_height": null,
            "padding": null,
            "grid_auto_rows": null,
            "grid_gap": null,
            "max_width": null,
            "order": null,
            "_view_module_version": "1.2.0",
            "grid_template_areas": null,
            "object_position": null,
            "object_fit": null,
            "grid_auto_columns": null,
            "margin": null,
            "display": null,
            "left": null
          }
        },
        "6a95fa4423254a6391d1b0e28e420134": {
          "model_module": "@jupyter-widgets/controls",
          "model_name": "FloatProgressModel",
          "state": {
            "_view_name": "ProgressView",
            "style": "IPY_MODEL_e91ffd8efcad43669ca8d250ce1a96c5",
            "_dom_classes": [],
            "description": "#2: 100%",
            "_model_name": "FloatProgressModel",
            "bar_style": "success",
            "max": 145,
            "_view_module": "@jupyter-widgets/controls",
            "_model_module_version": "1.5.0",
            "value": 145,
            "_view_count": null,
            "_view_module_version": "1.5.0",
            "orientation": "horizontal",
            "min": 0,
            "description_tooltip": null,
            "_model_module": "@jupyter-widgets/controls",
            "layout": "IPY_MODEL_0060194e6e5d4675bd37fc2b83f6c59c"
          }
        },
        "025abaf52bc949c38396a4011cd3e8bb": {
          "model_module": "@jupyter-widgets/controls",
          "model_name": "HTMLModel",
          "state": {
            "_view_name": "HTMLView",
            "style": "IPY_MODEL_2cb12a0d0cf6458d9b2bae159e221edd",
            "_dom_classes": [],
            "description": "",
            "_model_name": "HTMLModel",
            "placeholder": "​",
            "_view_module": "@jupyter-widgets/controls",
            "_model_module_version": "1.5.0",
            "value": " 145/145 [00:45&lt;00:00,  3.18ba/s]",
            "_view_count": null,
            "_view_module_version": "1.5.0",
            "description_tooltip": null,
            "_model_module": "@jupyter-widgets/controls",
            "layout": "IPY_MODEL_c78169a047cc43c4904d086101aa0a7d"
          }
        },
        "e91ffd8efcad43669ca8d250ce1a96c5": {
          "model_module": "@jupyter-widgets/controls",
          "model_name": "ProgressStyleModel",
          "state": {
            "_view_name": "StyleView",
            "_model_name": "ProgressStyleModel",
            "description_width": "initial",
            "_view_module": "@jupyter-widgets/base",
            "_model_module_version": "1.5.0",
            "_view_count": null,
            "_view_module_version": "1.2.0",
            "bar_color": null,
            "_model_module": "@jupyter-widgets/controls"
          }
        },
        "0060194e6e5d4675bd37fc2b83f6c59c": {
          "model_module": "@jupyter-widgets/base",
          "model_name": "LayoutModel",
          "state": {
            "_view_name": "LayoutView",
            "grid_template_rows": null,
            "right": null,
            "justify_content": null,
            "_view_module": "@jupyter-widgets/base",
            "overflow": null,
            "_model_module_version": "1.2.0",
            "_view_count": null,
            "flex_flow": null,
            "width": null,
            "min_width": null,
            "border": null,
            "align_items": null,
            "bottom": null,
            "_model_module": "@jupyter-widgets/base",
            "top": null,
            "grid_column": null,
            "overflow_y": null,
            "overflow_x": null,
            "grid_auto_flow": null,
            "grid_area": null,
            "grid_template_columns": null,
            "flex": null,
            "_model_name": "LayoutModel",
            "justify_items": null,
            "grid_row": null,
            "max_height": null,
            "align_content": null,
            "visibility": null,
            "align_self": null,
            "height": null,
            "min_height": null,
            "padding": null,
            "grid_auto_rows": null,
            "grid_gap": null,
            "max_width": null,
            "order": null,
            "_view_module_version": "1.2.0",
            "grid_template_areas": null,
            "object_position": null,
            "object_fit": null,
            "grid_auto_columns": null,
            "margin": null,
            "display": null,
            "left": null
          }
        },
        "2cb12a0d0cf6458d9b2bae159e221edd": {
          "model_module": "@jupyter-widgets/controls",
          "model_name": "DescriptionStyleModel",
          "state": {
            "_view_name": "StyleView",
            "_model_name": "DescriptionStyleModel",
            "description_width": "",
            "_view_module": "@jupyter-widgets/base",
            "_model_module_version": "1.5.0",
            "_view_count": null,
            "_view_module_version": "1.2.0",
            "_model_module": "@jupyter-widgets/controls"
          }
        },
        "c78169a047cc43c4904d086101aa0a7d": {
          "model_module": "@jupyter-widgets/base",
          "model_name": "LayoutModel",
          "state": {
            "_view_name": "LayoutView",
            "grid_template_rows": null,
            "right": null,
            "justify_content": null,
            "_view_module": "@jupyter-widgets/base",
            "overflow": null,
            "_model_module_version": "1.2.0",
            "_view_count": null,
            "flex_flow": null,
            "width": null,
            "min_width": null,
            "border": null,
            "align_items": null,
            "bottom": null,
            "_model_module": "@jupyter-widgets/base",
            "top": null,
            "grid_column": null,
            "overflow_y": null,
            "overflow_x": null,
            "grid_auto_flow": null,
            "grid_area": null,
            "grid_template_columns": null,
            "flex": null,
            "_model_name": "LayoutModel",
            "justify_items": null,
            "grid_row": null,
            "max_height": null,
            "align_content": null,
            "visibility": null,
            "align_self": null,
            "height": null,
            "min_height": null,
            "padding": null,
            "grid_auto_rows": null,
            "grid_gap": null,
            "max_width": null,
            "order": null,
            "_view_module_version": "1.2.0",
            "grid_template_areas": null,
            "object_position": null,
            "object_fit": null,
            "grid_auto_columns": null,
            "margin": null,
            "display": null,
            "left": null
          }
        },
        "641551c449014ae79b9d5376516e7a13": {
          "model_module": "@jupyter-widgets/controls",
          "model_name": "HBoxModel",
          "state": {
            "_view_name": "HBoxView",
            "_dom_classes": [],
            "_model_name": "HBoxModel",
            "_view_module": "@jupyter-widgets/controls",
            "_model_module_version": "1.5.0",
            "_view_count": null,
            "_view_module_version": "1.5.0",
            "box_style": "",
            "layout": "IPY_MODEL_ac1ae532c5f04db09ac5afcc8b5191a6",
            "_model_module": "@jupyter-widgets/controls",
            "children": [
              "IPY_MODEL_35d1e7fa08a44bb28d48e8561754ffb2",
              "IPY_MODEL_b7358b78e15d447f880d41f39599e6ba"
            ]
          }
        },
        "ac1ae532c5f04db09ac5afcc8b5191a6": {
          "model_module": "@jupyter-widgets/base",
          "model_name": "LayoutModel",
          "state": {
            "_view_name": "LayoutView",
            "grid_template_rows": null,
            "right": null,
            "justify_content": null,
            "_view_module": "@jupyter-widgets/base",
            "overflow": null,
            "_model_module_version": "1.2.0",
            "_view_count": null,
            "flex_flow": null,
            "width": null,
            "min_width": null,
            "border": null,
            "align_items": null,
            "bottom": null,
            "_model_module": "@jupyter-widgets/base",
            "top": null,
            "grid_column": null,
            "overflow_y": null,
            "overflow_x": null,
            "grid_auto_flow": null,
            "grid_area": null,
            "grid_template_columns": null,
            "flex": null,
            "_model_name": "LayoutModel",
            "justify_items": null,
            "grid_row": null,
            "max_height": null,
            "align_content": null,
            "visibility": null,
            "align_self": null,
            "height": null,
            "min_height": null,
            "padding": null,
            "grid_auto_rows": null,
            "grid_gap": null,
            "max_width": null,
            "order": null,
            "_view_module_version": "1.2.0",
            "grid_template_areas": null,
            "object_position": null,
            "object_fit": null,
            "grid_auto_columns": null,
            "margin": null,
            "display": null,
            "left": null
          }
        },
        "35d1e7fa08a44bb28d48e8561754ffb2": {
          "model_module": "@jupyter-widgets/controls",
          "model_name": "FloatProgressModel",
          "state": {
            "_view_name": "ProgressView",
            "style": "IPY_MODEL_8da0ebc270a04962b553b197645af589",
            "_dom_classes": [],
            "description": "#2: 100%",
            "_model_name": "FloatProgressModel",
            "bar_style": "success",
            "max": 53,
            "_view_module": "@jupyter-widgets/controls",
            "_model_module_version": "1.5.0",
            "value": 53,
            "_view_count": null,
            "_view_module_version": "1.5.0",
            "orientation": "horizontal",
            "min": 0,
            "description_tooltip": null,
            "_model_module": "@jupyter-widgets/controls",
            "layout": "IPY_MODEL_0f2f8c4fc95448d8b71e04c690c1d33c"
          }
        },
        "b7358b78e15d447f880d41f39599e6ba": {
          "model_module": "@jupyter-widgets/controls",
          "model_name": "HTMLModel",
          "state": {
            "_view_name": "HTMLView",
            "style": "IPY_MODEL_b803054c094243e8913190c4d701b077",
            "_dom_classes": [],
            "description": "",
            "_model_name": "HTMLModel",
            "placeholder": "​",
            "_view_module": "@jupyter-widgets/controls",
            "_model_module_version": "1.5.0",
            "value": " 53/53 [00:16&lt;00:00,  3.12ba/s]",
            "_view_count": null,
            "_view_module_version": "1.5.0",
            "description_tooltip": null,
            "_model_module": "@jupyter-widgets/controls",
            "layout": "IPY_MODEL_9e9dd12cfaeb495cae6c00b7c3e0b350"
          }
        },
        "8da0ebc270a04962b553b197645af589": {
          "model_module": "@jupyter-widgets/controls",
          "model_name": "ProgressStyleModel",
          "state": {
            "_view_name": "StyleView",
            "_model_name": "ProgressStyleModel",
            "description_width": "initial",
            "_view_module": "@jupyter-widgets/base",
            "_model_module_version": "1.5.0",
            "_view_count": null,
            "_view_module_version": "1.2.0",
            "bar_color": null,
            "_model_module": "@jupyter-widgets/controls"
          }
        },
        "0f2f8c4fc95448d8b71e04c690c1d33c": {
          "model_module": "@jupyter-widgets/base",
          "model_name": "LayoutModel",
          "state": {
            "_view_name": "LayoutView",
            "grid_template_rows": null,
            "right": null,
            "justify_content": null,
            "_view_module": "@jupyter-widgets/base",
            "overflow": null,
            "_model_module_version": "1.2.0",
            "_view_count": null,
            "flex_flow": null,
            "width": null,
            "min_width": null,
            "border": null,
            "align_items": null,
            "bottom": null,
            "_model_module": "@jupyter-widgets/base",
            "top": null,
            "grid_column": null,
            "overflow_y": null,
            "overflow_x": null,
            "grid_auto_flow": null,
            "grid_area": null,
            "grid_template_columns": null,
            "flex": null,
            "_model_name": "LayoutModel",
            "justify_items": null,
            "grid_row": null,
            "max_height": null,
            "align_content": null,
            "visibility": null,
            "align_self": null,
            "height": null,
            "min_height": null,
            "padding": null,
            "grid_auto_rows": null,
            "grid_gap": null,
            "max_width": null,
            "order": null,
            "_view_module_version": "1.2.0",
            "grid_template_areas": null,
            "object_position": null,
            "object_fit": null,
            "grid_auto_columns": null,
            "margin": null,
            "display": null,
            "left": null
          }
        },
        "b803054c094243e8913190c4d701b077": {
          "model_module": "@jupyter-widgets/controls",
          "model_name": "DescriptionStyleModel",
          "state": {
            "_view_name": "StyleView",
            "_model_name": "DescriptionStyleModel",
            "description_width": "",
            "_view_module": "@jupyter-widgets/base",
            "_model_module_version": "1.5.0",
            "_view_count": null,
            "_view_module_version": "1.2.0",
            "_model_module": "@jupyter-widgets/controls"
          }
        },
        "9e9dd12cfaeb495cae6c00b7c3e0b350": {
          "model_module": "@jupyter-widgets/base",
          "model_name": "LayoutModel",
          "state": {
            "_view_name": "LayoutView",
            "grid_template_rows": null,
            "right": null,
            "justify_content": null,
            "_view_module": "@jupyter-widgets/base",
            "overflow": null,
            "_model_module_version": "1.2.0",
            "_view_count": null,
            "flex_flow": null,
            "width": null,
            "min_width": null,
            "border": null,
            "align_items": null,
            "bottom": null,
            "_model_module": "@jupyter-widgets/base",
            "top": null,
            "grid_column": null,
            "overflow_y": null,
            "overflow_x": null,
            "grid_auto_flow": null,
            "grid_area": null,
            "grid_template_columns": null,
            "flex": null,
            "_model_name": "LayoutModel",
            "justify_items": null,
            "grid_row": null,
            "max_height": null,
            "align_content": null,
            "visibility": null,
            "align_self": null,
            "height": null,
            "min_height": null,
            "padding": null,
            "grid_auto_rows": null,
            "grid_gap": null,
            "max_width": null,
            "order": null,
            "_view_module_version": "1.2.0",
            "grid_template_areas": null,
            "object_position": null,
            "object_fit": null,
            "grid_auto_columns": null,
            "margin": null,
            "display": null,
            "left": null
          }
        },
        "4ce631401a754286b45ab34aff45840a": {
          "model_module": "@jupyter-widgets/controls",
          "model_name": "HBoxModel",
          "state": {
            "_view_name": "HBoxView",
            "_dom_classes": [],
            "_model_name": "HBoxModel",
            "_view_module": "@jupyter-widgets/controls",
            "_model_module_version": "1.5.0",
            "_view_count": null,
            "_view_module_version": "1.5.0",
            "box_style": "",
            "layout": "IPY_MODEL_648334555679484fa37b3a39c301b6ab",
            "_model_module": "@jupyter-widgets/controls",
            "children": [
              "IPY_MODEL_722bcef5a8e846c8b330fa540d2308eb",
              "IPY_MODEL_fc3bd0a599fb4d7fa185cbeec65e1b8a"
            ]
          }
        },
        "648334555679484fa37b3a39c301b6ab": {
          "model_module": "@jupyter-widgets/base",
          "model_name": "LayoutModel",
          "state": {
            "_view_name": "LayoutView",
            "grid_template_rows": null,
            "right": null,
            "justify_content": null,
            "_view_module": "@jupyter-widgets/base",
            "overflow": null,
            "_model_module_version": "1.2.0",
            "_view_count": null,
            "flex_flow": null,
            "width": null,
            "min_width": null,
            "border": null,
            "align_items": null,
            "bottom": null,
            "_model_module": "@jupyter-widgets/base",
            "top": null,
            "grid_column": null,
            "overflow_y": null,
            "overflow_x": null,
            "grid_auto_flow": null,
            "grid_area": null,
            "grid_template_columns": null,
            "flex": null,
            "_model_name": "LayoutModel",
            "justify_items": null,
            "grid_row": null,
            "max_height": null,
            "align_content": null,
            "visibility": null,
            "align_self": null,
            "height": null,
            "min_height": null,
            "padding": null,
            "grid_auto_rows": null,
            "grid_gap": null,
            "max_width": null,
            "order": null,
            "_view_module_version": "1.2.0",
            "grid_template_areas": null,
            "object_position": null,
            "object_fit": null,
            "grid_auto_columns": null,
            "margin": null,
            "display": null,
            "left": null
          }
        },
        "722bcef5a8e846c8b330fa540d2308eb": {
          "model_module": "@jupyter-widgets/controls",
          "model_name": "FloatProgressModel",
          "state": {
            "_view_name": "ProgressView",
            "style": "IPY_MODEL_807afb48a82d4faf9e04b991b5c86b15",
            "_dom_classes": [],
            "description": "#1: 100%",
            "_model_name": "FloatProgressModel",
            "bar_style": "success",
            "max": 53,
            "_view_module": "@jupyter-widgets/controls",
            "_model_module_version": "1.5.0",
            "value": 53,
            "_view_count": null,
            "_view_module_version": "1.5.0",
            "orientation": "horizontal",
            "min": 0,
            "description_tooltip": null,
            "_model_module": "@jupyter-widgets/controls",
            "layout": "IPY_MODEL_d845a8a4acef4bb095652a51d8adf529"
          }
        },
        "fc3bd0a599fb4d7fa185cbeec65e1b8a": {
          "model_module": "@jupyter-widgets/controls",
          "model_name": "HTMLModel",
          "state": {
            "_view_name": "HTMLView",
            "style": "IPY_MODEL_725d4ba0b73e4fc5937a794dda5fa36a",
            "_dom_classes": [],
            "description": "",
            "_model_name": "HTMLModel",
            "placeholder": "​",
            "_view_module": "@jupyter-widgets/controls",
            "_model_module_version": "1.5.0",
            "value": " 53/53 [00:16&lt;00:00,  3.12ba/s]",
            "_view_count": null,
            "_view_module_version": "1.5.0",
            "description_tooltip": null,
            "_model_module": "@jupyter-widgets/controls",
            "layout": "IPY_MODEL_24846a0457cb43e89943f1f7ce3317ba"
          }
        },
        "807afb48a82d4faf9e04b991b5c86b15": {
          "model_module": "@jupyter-widgets/controls",
          "model_name": "ProgressStyleModel",
          "state": {
            "_view_name": "StyleView",
            "_model_name": "ProgressStyleModel",
            "description_width": "initial",
            "_view_module": "@jupyter-widgets/base",
            "_model_module_version": "1.5.0",
            "_view_count": null,
            "_view_module_version": "1.2.0",
            "bar_color": null,
            "_model_module": "@jupyter-widgets/controls"
          }
        },
        "d845a8a4acef4bb095652a51d8adf529": {
          "model_module": "@jupyter-widgets/base",
          "model_name": "LayoutModel",
          "state": {
            "_view_name": "LayoutView",
            "grid_template_rows": null,
            "right": null,
            "justify_content": null,
            "_view_module": "@jupyter-widgets/base",
            "overflow": null,
            "_model_module_version": "1.2.0",
            "_view_count": null,
            "flex_flow": null,
            "width": null,
            "min_width": null,
            "border": null,
            "align_items": null,
            "bottom": null,
            "_model_module": "@jupyter-widgets/base",
            "top": null,
            "grid_column": null,
            "overflow_y": null,
            "overflow_x": null,
            "grid_auto_flow": null,
            "grid_area": null,
            "grid_template_columns": null,
            "flex": null,
            "_model_name": "LayoutModel",
            "justify_items": null,
            "grid_row": null,
            "max_height": null,
            "align_content": null,
            "visibility": null,
            "align_self": null,
            "height": null,
            "min_height": null,
            "padding": null,
            "grid_auto_rows": null,
            "grid_gap": null,
            "max_width": null,
            "order": null,
            "_view_module_version": "1.2.0",
            "grid_template_areas": null,
            "object_position": null,
            "object_fit": null,
            "grid_auto_columns": null,
            "margin": null,
            "display": null,
            "left": null
          }
        },
        "725d4ba0b73e4fc5937a794dda5fa36a": {
          "model_module": "@jupyter-widgets/controls",
          "model_name": "DescriptionStyleModel",
          "state": {
            "_view_name": "StyleView",
            "_model_name": "DescriptionStyleModel",
            "description_width": "",
            "_view_module": "@jupyter-widgets/base",
            "_model_module_version": "1.5.0",
            "_view_count": null,
            "_view_module_version": "1.2.0",
            "_model_module": "@jupyter-widgets/controls"
          }
        },
        "24846a0457cb43e89943f1f7ce3317ba": {
          "model_module": "@jupyter-widgets/base",
          "model_name": "LayoutModel",
          "state": {
            "_view_name": "LayoutView",
            "grid_template_rows": null,
            "right": null,
            "justify_content": null,
            "_view_module": "@jupyter-widgets/base",
            "overflow": null,
            "_model_module_version": "1.2.0",
            "_view_count": null,
            "flex_flow": null,
            "width": null,
            "min_width": null,
            "border": null,
            "align_items": null,
            "bottom": null,
            "_model_module": "@jupyter-widgets/base",
            "top": null,
            "grid_column": null,
            "overflow_y": null,
            "overflow_x": null,
            "grid_auto_flow": null,
            "grid_area": null,
            "grid_template_columns": null,
            "flex": null,
            "_model_name": "LayoutModel",
            "justify_items": null,
            "grid_row": null,
            "max_height": null,
            "align_content": null,
            "visibility": null,
            "align_self": null,
            "height": null,
            "min_height": null,
            "padding": null,
            "grid_auto_rows": null,
            "grid_gap": null,
            "max_width": null,
            "order": null,
            "_view_module_version": "1.2.0",
            "grid_template_areas": null,
            "object_position": null,
            "object_fit": null,
            "grid_auto_columns": null,
            "margin": null,
            "display": null,
            "left": null
          }
        },
        "5d0b69327a8f4faf82f11b43540b0953": {
          "model_module": "@jupyter-widgets/controls",
          "model_name": "HBoxModel",
          "state": {
            "_view_name": "HBoxView",
            "_dom_classes": [],
            "_model_name": "HBoxModel",
            "_view_module": "@jupyter-widgets/controls",
            "_model_module_version": "1.5.0",
            "_view_count": null,
            "_view_module_version": "1.5.0",
            "box_style": "",
            "layout": "IPY_MODEL_5927146dd3ff49a7acbf4fab511d41bc",
            "_model_module": "@jupyter-widgets/controls",
            "children": [
              "IPY_MODEL_ad7df7f055d84e2c84887e84696367e7",
              "IPY_MODEL_3e90a3f6c7994e45b53810de43bc15d3"
            ]
          }
        },
        "5927146dd3ff49a7acbf4fab511d41bc": {
          "model_module": "@jupyter-widgets/base",
          "model_name": "LayoutModel",
          "state": {
            "_view_name": "LayoutView",
            "grid_template_rows": null,
            "right": null,
            "justify_content": null,
            "_view_module": "@jupyter-widgets/base",
            "overflow": null,
            "_model_module_version": "1.2.0",
            "_view_count": null,
            "flex_flow": null,
            "width": null,
            "min_width": null,
            "border": null,
            "align_items": null,
            "bottom": null,
            "_model_module": "@jupyter-widgets/base",
            "top": null,
            "grid_column": null,
            "overflow_y": null,
            "overflow_x": null,
            "grid_auto_flow": null,
            "grid_area": null,
            "grid_template_columns": null,
            "flex": null,
            "_model_name": "LayoutModel",
            "justify_items": null,
            "grid_row": null,
            "max_height": null,
            "align_content": null,
            "visibility": null,
            "align_self": null,
            "height": null,
            "min_height": null,
            "padding": null,
            "grid_auto_rows": null,
            "grid_gap": null,
            "max_width": null,
            "order": null,
            "_view_module_version": "1.2.0",
            "grid_template_areas": null,
            "object_position": null,
            "object_fit": null,
            "grid_auto_columns": null,
            "margin": null,
            "display": null,
            "left": null
          }
        },
        "ad7df7f055d84e2c84887e84696367e7": {
          "model_module": "@jupyter-widgets/controls",
          "model_name": "FloatProgressModel",
          "state": {
            "_view_name": "ProgressView",
            "style": "IPY_MODEL_699b1895713d46d8bf5f219369c59b9d",
            "_dom_classes": [],
            "description": "#3: 100%",
            "_model_name": "FloatProgressModel",
            "bar_style": "success",
            "max": 53,
            "_view_module": "@jupyter-widgets/controls",
            "_model_module_version": "1.5.0",
            "value": 53,
            "_view_count": null,
            "_view_module_version": "1.5.0",
            "orientation": "horizontal",
            "min": 0,
            "description_tooltip": null,
            "_model_module": "@jupyter-widgets/controls",
            "layout": "IPY_MODEL_3879b2716e2c440b806426478636b533"
          }
        },
        "3e90a3f6c7994e45b53810de43bc15d3": {
          "model_module": "@jupyter-widgets/controls",
          "model_name": "HTMLModel",
          "state": {
            "_view_name": "HTMLView",
            "style": "IPY_MODEL_c7b2bda0357c4101b9669ac452c58ccd",
            "_dom_classes": [],
            "description": "",
            "_model_name": "HTMLModel",
            "placeholder": "​",
            "_view_module": "@jupyter-widgets/controls",
            "_model_module_version": "1.5.0",
            "value": " 53/53 [00:16&lt;00:00,  3.13ba/s]",
            "_view_count": null,
            "_view_module_version": "1.5.0",
            "description_tooltip": null,
            "_model_module": "@jupyter-widgets/controls",
            "layout": "IPY_MODEL_b4cbb8f4e8704c75b42f988dc01aae94"
          }
        },
        "699b1895713d46d8bf5f219369c59b9d": {
          "model_module": "@jupyter-widgets/controls",
          "model_name": "ProgressStyleModel",
          "state": {
            "_view_name": "StyleView",
            "_model_name": "ProgressStyleModel",
            "description_width": "initial",
            "_view_module": "@jupyter-widgets/base",
            "_model_module_version": "1.5.0",
            "_view_count": null,
            "_view_module_version": "1.2.0",
            "bar_color": null,
            "_model_module": "@jupyter-widgets/controls"
          }
        },
        "3879b2716e2c440b806426478636b533": {
          "model_module": "@jupyter-widgets/base",
          "model_name": "LayoutModel",
          "state": {
            "_view_name": "LayoutView",
            "grid_template_rows": null,
            "right": null,
            "justify_content": null,
            "_view_module": "@jupyter-widgets/base",
            "overflow": null,
            "_model_module_version": "1.2.0",
            "_view_count": null,
            "flex_flow": null,
            "width": null,
            "min_width": null,
            "border": null,
            "align_items": null,
            "bottom": null,
            "_model_module": "@jupyter-widgets/base",
            "top": null,
            "grid_column": null,
            "overflow_y": null,
            "overflow_x": null,
            "grid_auto_flow": null,
            "grid_area": null,
            "grid_template_columns": null,
            "flex": null,
            "_model_name": "LayoutModel",
            "justify_items": null,
            "grid_row": null,
            "max_height": null,
            "align_content": null,
            "visibility": null,
            "align_self": null,
            "height": null,
            "min_height": null,
            "padding": null,
            "grid_auto_rows": null,
            "grid_gap": null,
            "max_width": null,
            "order": null,
            "_view_module_version": "1.2.0",
            "grid_template_areas": null,
            "object_position": null,
            "object_fit": null,
            "grid_auto_columns": null,
            "margin": null,
            "display": null,
            "left": null
          }
        },
        "c7b2bda0357c4101b9669ac452c58ccd": {
          "model_module": "@jupyter-widgets/controls",
          "model_name": "DescriptionStyleModel",
          "state": {
            "_view_name": "StyleView",
            "_model_name": "DescriptionStyleModel",
            "description_width": "",
            "_view_module": "@jupyter-widgets/base",
            "_model_module_version": "1.5.0",
            "_view_count": null,
            "_view_module_version": "1.2.0",
            "_model_module": "@jupyter-widgets/controls"
          }
        },
        "b4cbb8f4e8704c75b42f988dc01aae94": {
          "model_module": "@jupyter-widgets/base",
          "model_name": "LayoutModel",
          "state": {
            "_view_name": "LayoutView",
            "grid_template_rows": null,
            "right": null,
            "justify_content": null,
            "_view_module": "@jupyter-widgets/base",
            "overflow": null,
            "_model_module_version": "1.2.0",
            "_view_count": null,
            "flex_flow": null,
            "width": null,
            "min_width": null,
            "border": null,
            "align_items": null,
            "bottom": null,
            "_model_module": "@jupyter-widgets/base",
            "top": null,
            "grid_column": null,
            "overflow_y": null,
            "overflow_x": null,
            "grid_auto_flow": null,
            "grid_area": null,
            "grid_template_columns": null,
            "flex": null,
            "_model_name": "LayoutModel",
            "justify_items": null,
            "grid_row": null,
            "max_height": null,
            "align_content": null,
            "visibility": null,
            "align_self": null,
            "height": null,
            "min_height": null,
            "padding": null,
            "grid_auto_rows": null,
            "grid_gap": null,
            "max_width": null,
            "order": null,
            "_view_module_version": "1.2.0",
            "grid_template_areas": null,
            "object_position": null,
            "object_fit": null,
            "grid_auto_columns": null,
            "margin": null,
            "display": null,
            "left": null
          }
        },
        "6ca092e05149478690287a3a5d32e4f8": {
          "model_module": "@jupyter-widgets/controls",
          "model_name": "HBoxModel",
          "state": {
            "_view_name": "HBoxView",
            "_dom_classes": [],
            "_model_name": "HBoxModel",
            "_view_module": "@jupyter-widgets/controls",
            "_model_module_version": "1.5.0",
            "_view_count": null,
            "_view_module_version": "1.5.0",
            "box_style": "",
            "layout": "IPY_MODEL_c455cf16ee4b4649a88dace304ad9e3c",
            "_model_module": "@jupyter-widgets/controls",
            "children": [
              "IPY_MODEL_98161fdb97734c58bda4bbf536202f49",
              "IPY_MODEL_b31b85d0d2a14aa1809f0911049afa72"
            ]
          }
        },
        "c455cf16ee4b4649a88dace304ad9e3c": {
          "model_module": "@jupyter-widgets/base",
          "model_name": "LayoutModel",
          "state": {
            "_view_name": "LayoutView",
            "grid_template_rows": null,
            "right": null,
            "justify_content": null,
            "_view_module": "@jupyter-widgets/base",
            "overflow": null,
            "_model_module_version": "1.2.0",
            "_view_count": null,
            "flex_flow": null,
            "width": null,
            "min_width": null,
            "border": null,
            "align_items": null,
            "bottom": null,
            "_model_module": "@jupyter-widgets/base",
            "top": null,
            "grid_column": null,
            "overflow_y": null,
            "overflow_x": null,
            "grid_auto_flow": null,
            "grid_area": null,
            "grid_template_columns": null,
            "flex": null,
            "_model_name": "LayoutModel",
            "justify_items": null,
            "grid_row": null,
            "max_height": null,
            "align_content": null,
            "visibility": null,
            "align_self": null,
            "height": null,
            "min_height": null,
            "padding": null,
            "grid_auto_rows": null,
            "grid_gap": null,
            "max_width": null,
            "order": null,
            "_view_module_version": "1.2.0",
            "grid_template_areas": null,
            "object_position": null,
            "object_fit": null,
            "grid_auto_columns": null,
            "margin": null,
            "display": null,
            "left": null
          }
        },
        "98161fdb97734c58bda4bbf536202f49": {
          "model_module": "@jupyter-widgets/controls",
          "model_name": "FloatProgressModel",
          "state": {
            "_view_name": "ProgressView",
            "style": "IPY_MODEL_7b74a28a67bb4a6ebd01d5874d0c4168",
            "_dom_classes": [],
            "description": "#0: 100%",
            "_model_name": "FloatProgressModel",
            "bar_style": "success",
            "max": 53,
            "_view_module": "@jupyter-widgets/controls",
            "_model_module_version": "1.5.0",
            "value": 53,
            "_view_count": null,
            "_view_module_version": "1.5.0",
            "orientation": "horizontal",
            "min": 0,
            "description_tooltip": null,
            "_model_module": "@jupyter-widgets/controls",
            "layout": "IPY_MODEL_995d498b65464791b12faf89f05c9c45"
          }
        },
        "b31b85d0d2a14aa1809f0911049afa72": {
          "model_module": "@jupyter-widgets/controls",
          "model_name": "HTMLModel",
          "state": {
            "_view_name": "HTMLView",
            "style": "IPY_MODEL_fa23970c2f944a118baa94f2d02340d0",
            "_dom_classes": [],
            "description": "",
            "_model_name": "HTMLModel",
            "placeholder": "​",
            "_view_module": "@jupyter-widgets/controls",
            "_model_module_version": "1.5.0",
            "value": " 53/53 [00:16&lt;00:00,  3.14ba/s]",
            "_view_count": null,
            "_view_module_version": "1.5.0",
            "description_tooltip": null,
            "_model_module": "@jupyter-widgets/controls",
            "layout": "IPY_MODEL_e24905e8debd430c94b62c9f6cb03ed3"
          }
        },
        "7b74a28a67bb4a6ebd01d5874d0c4168": {
          "model_module": "@jupyter-widgets/controls",
          "model_name": "ProgressStyleModel",
          "state": {
            "_view_name": "StyleView",
            "_model_name": "ProgressStyleModel",
            "description_width": "initial",
            "_view_module": "@jupyter-widgets/base",
            "_model_module_version": "1.5.0",
            "_view_count": null,
            "_view_module_version": "1.2.0",
            "bar_color": null,
            "_model_module": "@jupyter-widgets/controls"
          }
        },
        "995d498b65464791b12faf89f05c9c45": {
          "model_module": "@jupyter-widgets/base",
          "model_name": "LayoutModel",
          "state": {
            "_view_name": "LayoutView",
            "grid_template_rows": null,
            "right": null,
            "justify_content": null,
            "_view_module": "@jupyter-widgets/base",
            "overflow": null,
            "_model_module_version": "1.2.0",
            "_view_count": null,
            "flex_flow": null,
            "width": null,
            "min_width": null,
            "border": null,
            "align_items": null,
            "bottom": null,
            "_model_module": "@jupyter-widgets/base",
            "top": null,
            "grid_column": null,
            "overflow_y": null,
            "overflow_x": null,
            "grid_auto_flow": null,
            "grid_area": null,
            "grid_template_columns": null,
            "flex": null,
            "_model_name": "LayoutModel",
            "justify_items": null,
            "grid_row": null,
            "max_height": null,
            "align_content": null,
            "visibility": null,
            "align_self": null,
            "height": null,
            "min_height": null,
            "padding": null,
            "grid_auto_rows": null,
            "grid_gap": null,
            "max_width": null,
            "order": null,
            "_view_module_version": "1.2.0",
            "grid_template_areas": null,
            "object_position": null,
            "object_fit": null,
            "grid_auto_columns": null,
            "margin": null,
            "display": null,
            "left": null
          }
        },
        "fa23970c2f944a118baa94f2d02340d0": {
          "model_module": "@jupyter-widgets/controls",
          "model_name": "DescriptionStyleModel",
          "state": {
            "_view_name": "StyleView",
            "_model_name": "DescriptionStyleModel",
            "description_width": "",
            "_view_module": "@jupyter-widgets/base",
            "_model_module_version": "1.5.0",
            "_view_count": null,
            "_view_module_version": "1.2.0",
            "_model_module": "@jupyter-widgets/controls"
          }
        },
        "e24905e8debd430c94b62c9f6cb03ed3": {
          "model_module": "@jupyter-widgets/base",
          "model_name": "LayoutModel",
          "state": {
            "_view_name": "LayoutView",
            "grid_template_rows": null,
            "right": null,
            "justify_content": null,
            "_view_module": "@jupyter-widgets/base",
            "overflow": null,
            "_model_module_version": "1.2.0",
            "_view_count": null,
            "flex_flow": null,
            "width": null,
            "min_width": null,
            "border": null,
            "align_items": null,
            "bottom": null,
            "_model_module": "@jupyter-widgets/base",
            "top": null,
            "grid_column": null,
            "overflow_y": null,
            "overflow_x": null,
            "grid_auto_flow": null,
            "grid_area": null,
            "grid_template_columns": null,
            "flex": null,
            "_model_name": "LayoutModel",
            "justify_items": null,
            "grid_row": null,
            "max_height": null,
            "align_content": null,
            "visibility": null,
            "align_self": null,
            "height": null,
            "min_height": null,
            "padding": null,
            "grid_auto_rows": null,
            "grid_gap": null,
            "max_width": null,
            "order": null,
            "_view_module_version": "1.2.0",
            "grid_template_areas": null,
            "object_position": null,
            "object_fit": null,
            "grid_auto_columns": null,
            "margin": null,
            "display": null,
            "left": null
          }
        },
        "633442edf3d2462ea367e07675074758": {
          "model_module": "@jupyter-widgets/controls",
          "model_name": "HBoxModel",
          "state": {
            "_view_name": "HBoxView",
            "_dom_classes": [],
            "_model_name": "HBoxModel",
            "_view_module": "@jupyter-widgets/controls",
            "_model_module_version": "1.5.0",
            "_view_count": null,
            "_view_module_version": "1.5.0",
            "box_style": "",
            "layout": "IPY_MODEL_dd40f14ec8be4a029a4c4aa4496e9e8a",
            "_model_module": "@jupyter-widgets/controls",
            "children": [
              "IPY_MODEL_2a11ce090db2479c9be9b45f07f13c3c",
              "IPY_MODEL_5e76222c24f242669718f4593291d95d"
            ]
          }
        },
        "dd40f14ec8be4a029a4c4aa4496e9e8a": {
          "model_module": "@jupyter-widgets/base",
          "model_name": "LayoutModel",
          "state": {
            "_view_name": "LayoutView",
            "grid_template_rows": null,
            "right": null,
            "justify_content": null,
            "_view_module": "@jupyter-widgets/base",
            "overflow": null,
            "_model_module_version": "1.2.0",
            "_view_count": null,
            "flex_flow": null,
            "width": null,
            "min_width": null,
            "border": null,
            "align_items": null,
            "bottom": null,
            "_model_module": "@jupyter-widgets/base",
            "top": null,
            "grid_column": null,
            "overflow_y": null,
            "overflow_x": null,
            "grid_auto_flow": null,
            "grid_area": null,
            "grid_template_columns": null,
            "flex": null,
            "_model_name": "LayoutModel",
            "justify_items": null,
            "grid_row": null,
            "max_height": null,
            "align_content": null,
            "visibility": null,
            "align_self": null,
            "height": null,
            "min_height": null,
            "padding": null,
            "grid_auto_rows": null,
            "grid_gap": null,
            "max_width": null,
            "order": null,
            "_view_module_version": "1.2.0",
            "grid_template_areas": null,
            "object_position": null,
            "object_fit": null,
            "grid_auto_columns": null,
            "margin": null,
            "display": null,
            "left": null
          }
        },
        "2a11ce090db2479c9be9b45f07f13c3c": {
          "model_module": "@jupyter-widgets/controls",
          "model_name": "FloatProgressModel",
          "state": {
            "_view_name": "ProgressView",
            "style": "IPY_MODEL_871694efabe744e4aadf410717fc3ea6",
            "_dom_classes": [],
            "description": "Downloading: ",
            "_model_name": "FloatProgressModel",
            "bar_style": "success",
            "max": 1764,
            "_view_module": "@jupyter-widgets/controls",
            "_model_module_version": "1.5.0",
            "value": 1764,
            "_view_count": null,
            "_view_module_version": "1.5.0",
            "orientation": "horizontal",
            "min": 0,
            "description_tooltip": null,
            "_model_module": "@jupyter-widgets/controls",
            "layout": "IPY_MODEL_eb8e9dd2f1d9436aacf9246bd173394a"
          }
        },
        "5e76222c24f242669718f4593291d95d": {
          "model_module": "@jupyter-widgets/controls",
          "model_name": "HTMLModel",
          "state": {
            "_view_name": "HTMLView",
            "style": "IPY_MODEL_02d0c54a14b240c988774a936818ed84",
            "_dom_classes": [],
            "description": "",
            "_model_name": "HTMLModel",
            "placeholder": "​",
            "_view_module": "@jupyter-widgets/controls",
            "_model_module_version": "1.5.0",
            "value": " 3.90k/? [00:00&lt;00:00, 16.0kB/s]",
            "_view_count": null,
            "_view_module_version": "1.5.0",
            "description_tooltip": null,
            "_model_module": "@jupyter-widgets/controls",
            "layout": "IPY_MODEL_bfae02d124cb4aa19f822b5cd00d29cc"
          }
        },
        "871694efabe744e4aadf410717fc3ea6": {
          "model_module": "@jupyter-widgets/controls",
          "model_name": "ProgressStyleModel",
          "state": {
            "_view_name": "StyleView",
            "_model_name": "ProgressStyleModel",
            "description_width": "initial",
            "_view_module": "@jupyter-widgets/base",
            "_model_module_version": "1.5.0",
            "_view_count": null,
            "_view_module_version": "1.2.0",
            "bar_color": null,
            "_model_module": "@jupyter-widgets/controls"
          }
        },
        "eb8e9dd2f1d9436aacf9246bd173394a": {
          "model_module": "@jupyter-widgets/base",
          "model_name": "LayoutModel",
          "state": {
            "_view_name": "LayoutView",
            "grid_template_rows": null,
            "right": null,
            "justify_content": null,
            "_view_module": "@jupyter-widgets/base",
            "overflow": null,
            "_model_module_version": "1.2.0",
            "_view_count": null,
            "flex_flow": null,
            "width": null,
            "min_width": null,
            "border": null,
            "align_items": null,
            "bottom": null,
            "_model_module": "@jupyter-widgets/base",
            "top": null,
            "grid_column": null,
            "overflow_y": null,
            "overflow_x": null,
            "grid_auto_flow": null,
            "grid_area": null,
            "grid_template_columns": null,
            "flex": null,
            "_model_name": "LayoutModel",
            "justify_items": null,
            "grid_row": null,
            "max_height": null,
            "align_content": null,
            "visibility": null,
            "align_self": null,
            "height": null,
            "min_height": null,
            "padding": null,
            "grid_auto_rows": null,
            "grid_gap": null,
            "max_width": null,
            "order": null,
            "_view_module_version": "1.2.0",
            "grid_template_areas": null,
            "object_position": null,
            "object_fit": null,
            "grid_auto_columns": null,
            "margin": null,
            "display": null,
            "left": null
          }
        },
        "02d0c54a14b240c988774a936818ed84": {
          "model_module": "@jupyter-widgets/controls",
          "model_name": "DescriptionStyleModel",
          "state": {
            "_view_name": "StyleView",
            "_model_name": "DescriptionStyleModel",
            "description_width": "",
            "_view_module": "@jupyter-widgets/base",
            "_model_module_version": "1.5.0",
            "_view_count": null,
            "_view_module_version": "1.2.0",
            "_model_module": "@jupyter-widgets/controls"
          }
        },
        "bfae02d124cb4aa19f822b5cd00d29cc": {
          "model_module": "@jupyter-widgets/base",
          "model_name": "LayoutModel",
          "state": {
            "_view_name": "LayoutView",
            "grid_template_rows": null,
            "right": null,
            "justify_content": null,
            "_view_module": "@jupyter-widgets/base",
            "overflow": null,
            "_model_module_version": "1.2.0",
            "_view_count": null,
            "flex_flow": null,
            "width": null,
            "min_width": null,
            "border": null,
            "align_items": null,
            "bottom": null,
            "_model_module": "@jupyter-widgets/base",
            "top": null,
            "grid_column": null,
            "overflow_y": null,
            "overflow_x": null,
            "grid_auto_flow": null,
            "grid_area": null,
            "grid_template_columns": null,
            "flex": null,
            "_model_name": "LayoutModel",
            "justify_items": null,
            "grid_row": null,
            "max_height": null,
            "align_content": null,
            "visibility": null,
            "align_self": null,
            "height": null,
            "min_height": null,
            "padding": null,
            "grid_auto_rows": null,
            "grid_gap": null,
            "max_width": null,
            "order": null,
            "_view_module_version": "1.2.0",
            "grid_template_areas": null,
            "object_position": null,
            "object_fit": null,
            "grid_auto_columns": null,
            "margin": null,
            "display": null,
            "left": null
          }
        },
        "8207225ad02e4144b62364b4a6b3467b": {
          "model_module": "@jupyter-widgets/controls",
          "model_name": "HBoxModel",
          "state": {
            "_view_name": "HBoxView",
            "_dom_classes": [],
            "_model_name": "HBoxModel",
            "_view_module": "@jupyter-widgets/controls",
            "_model_module_version": "1.5.0",
            "_view_count": null,
            "_view_module_version": "1.5.0",
            "box_style": "",
            "layout": "IPY_MODEL_e700d9a112714a058afc5c048e258ebd",
            "_model_module": "@jupyter-widgets/controls",
            "children": [
              "IPY_MODEL_0dc5191b803e4a349b9d61b2d0516024",
              "IPY_MODEL_476f2f0fb3d545b88d26586a28ea8c4c"
            ]
          }
        },
        "e700d9a112714a058afc5c048e258ebd": {
          "model_module": "@jupyter-widgets/base",
          "model_name": "LayoutModel",
          "state": {
            "_view_name": "LayoutView",
            "grid_template_rows": null,
            "right": null,
            "justify_content": null,
            "_view_module": "@jupyter-widgets/base",
            "overflow": null,
            "_model_module_version": "1.2.0",
            "_view_count": null,
            "flex_flow": null,
            "width": null,
            "min_width": null,
            "border": null,
            "align_items": null,
            "bottom": null,
            "_model_module": "@jupyter-widgets/base",
            "top": null,
            "grid_column": null,
            "overflow_y": null,
            "overflow_x": null,
            "grid_auto_flow": null,
            "grid_area": null,
            "grid_template_columns": null,
            "flex": null,
            "_model_name": "LayoutModel",
            "justify_items": null,
            "grid_row": null,
            "max_height": null,
            "align_content": null,
            "visibility": null,
            "align_self": null,
            "height": null,
            "min_height": null,
            "padding": null,
            "grid_auto_rows": null,
            "grid_gap": null,
            "max_width": null,
            "order": null,
            "_view_module_version": "1.2.0",
            "grid_template_areas": null,
            "object_position": null,
            "object_fit": null,
            "grid_auto_columns": null,
            "margin": null,
            "display": null,
            "left": null
          }
        },
        "0dc5191b803e4a349b9d61b2d0516024": {
          "model_module": "@jupyter-widgets/controls",
          "model_name": "FloatProgressModel",
          "state": {
            "_view_name": "ProgressView",
            "style": "IPY_MODEL_fda951d6db3041e29e838c2258c8d5c0",
            "_dom_classes": [],
            "description": "Downloading: 100%",
            "_model_name": "FloatProgressModel",
            "bar_style": "success",
            "max": 1451,
            "_view_module": "@jupyter-widgets/controls",
            "_model_module_version": "1.5.0",
            "value": 1451,
            "_view_count": null,
            "_view_module_version": "1.5.0",
            "orientation": "horizontal",
            "min": 0,
            "description_tooltip": null,
            "_model_module": "@jupyter-widgets/controls",
            "layout": "IPY_MODEL_b307792edd7d429b8534aad833a8f6a9"
          }
        },
        "476f2f0fb3d545b88d26586a28ea8c4c": {
          "model_module": "@jupyter-widgets/controls",
          "model_name": "HTMLModel",
          "state": {
            "_view_name": "HTMLView",
            "style": "IPY_MODEL_dbb1387685384a8c93fe0bf789ca5038",
            "_dom_classes": [],
            "description": "",
            "_model_name": "HTMLModel",
            "placeholder": "​",
            "_view_module": "@jupyter-widgets/controls",
            "_model_module_version": "1.5.0",
            "value": " 1.45k/1.45k [00:36&lt;00:00, 39.8B/s]",
            "_view_count": null,
            "_view_module_version": "1.5.0",
            "description_tooltip": null,
            "_model_module": "@jupyter-widgets/controls",
            "layout": "IPY_MODEL_3e1c630ba1fe4a18af3433f48a9ca7e5"
          }
        },
        "fda951d6db3041e29e838c2258c8d5c0": {
          "model_module": "@jupyter-widgets/controls",
          "model_name": "ProgressStyleModel",
          "state": {
            "_view_name": "StyleView",
            "_model_name": "ProgressStyleModel",
            "description_width": "initial",
            "_view_module": "@jupyter-widgets/base",
            "_model_module_version": "1.5.0",
            "_view_count": null,
            "_view_module_version": "1.2.0",
            "bar_color": null,
            "_model_module": "@jupyter-widgets/controls"
          }
        },
        "b307792edd7d429b8534aad833a8f6a9": {
          "model_module": "@jupyter-widgets/base",
          "model_name": "LayoutModel",
          "state": {
            "_view_name": "LayoutView",
            "grid_template_rows": null,
            "right": null,
            "justify_content": null,
            "_view_module": "@jupyter-widgets/base",
            "overflow": null,
            "_model_module_version": "1.2.0",
            "_view_count": null,
            "flex_flow": null,
            "width": null,
            "min_width": null,
            "border": null,
            "align_items": null,
            "bottom": null,
            "_model_module": "@jupyter-widgets/base",
            "top": null,
            "grid_column": null,
            "overflow_y": null,
            "overflow_x": null,
            "grid_auto_flow": null,
            "grid_area": null,
            "grid_template_columns": null,
            "flex": null,
            "_model_name": "LayoutModel",
            "justify_items": null,
            "grid_row": null,
            "max_height": null,
            "align_content": null,
            "visibility": null,
            "align_self": null,
            "height": null,
            "min_height": null,
            "padding": null,
            "grid_auto_rows": null,
            "grid_gap": null,
            "max_width": null,
            "order": null,
            "_view_module_version": "1.2.0",
            "grid_template_areas": null,
            "object_position": null,
            "object_fit": null,
            "grid_auto_columns": null,
            "margin": null,
            "display": null,
            "left": null
          }
        },
        "dbb1387685384a8c93fe0bf789ca5038": {
          "model_module": "@jupyter-widgets/controls",
          "model_name": "DescriptionStyleModel",
          "state": {
            "_view_name": "StyleView",
            "_model_name": "DescriptionStyleModel",
            "description_width": "",
            "_view_module": "@jupyter-widgets/base",
            "_model_module_version": "1.5.0",
            "_view_count": null,
            "_view_module_version": "1.2.0",
            "_model_module": "@jupyter-widgets/controls"
          }
        },
        "3e1c630ba1fe4a18af3433f48a9ca7e5": {
          "model_module": "@jupyter-widgets/base",
          "model_name": "LayoutModel",
          "state": {
            "_view_name": "LayoutView",
            "grid_template_rows": null,
            "right": null,
            "justify_content": null,
            "_view_module": "@jupyter-widgets/base",
            "overflow": null,
            "_model_module_version": "1.2.0",
            "_view_count": null,
            "flex_flow": null,
            "width": null,
            "min_width": null,
            "border": null,
            "align_items": null,
            "bottom": null,
            "_model_module": "@jupyter-widgets/base",
            "top": null,
            "grid_column": null,
            "overflow_y": null,
            "overflow_x": null,
            "grid_auto_flow": null,
            "grid_area": null,
            "grid_template_columns": null,
            "flex": null,
            "_model_name": "LayoutModel",
            "justify_items": null,
            "grid_row": null,
            "max_height": null,
            "align_content": null,
            "visibility": null,
            "align_self": null,
            "height": null,
            "min_height": null,
            "padding": null,
            "grid_auto_rows": null,
            "grid_gap": null,
            "max_width": null,
            "order": null,
            "_view_module_version": "1.2.0",
            "grid_template_areas": null,
            "object_position": null,
            "object_fit": null,
            "grid_auto_columns": null,
            "margin": null,
            "display": null,
            "left": null
          }
        },
        "e33d66c2b4bb48e8b752396484692ec8": {
          "model_module": "@jupyter-widgets/controls",
          "model_name": "HBoxModel",
          "state": {
            "_view_name": "HBoxView",
            "_dom_classes": [],
            "_model_name": "HBoxModel",
            "_view_module": "@jupyter-widgets/controls",
            "_model_module_version": "1.5.0",
            "_view_count": null,
            "_view_module_version": "1.5.0",
            "box_style": "",
            "layout": "IPY_MODEL_35f2ae796bd4462b9108d864098e19a6",
            "_model_module": "@jupyter-widgets/controls",
            "children": [
              "IPY_MODEL_e7f1d1296bba4934a8d3aa3c7d6fe75a",
              "IPY_MODEL_27202e5244d24d35a885979f4d57218e"
            ]
          }
        },
        "35f2ae796bd4462b9108d864098e19a6": {
          "model_module": "@jupyter-widgets/base",
          "model_name": "LayoutModel",
          "state": {
            "_view_name": "LayoutView",
            "grid_template_rows": null,
            "right": null,
            "justify_content": null,
            "_view_module": "@jupyter-widgets/base",
            "overflow": null,
            "_model_module_version": "1.2.0",
            "_view_count": null,
            "flex_flow": null,
            "width": null,
            "min_width": null,
            "border": null,
            "align_items": null,
            "bottom": null,
            "_model_module": "@jupyter-widgets/base",
            "top": null,
            "grid_column": null,
            "overflow_y": null,
            "overflow_x": null,
            "grid_auto_flow": null,
            "grid_area": null,
            "grid_template_columns": null,
            "flex": null,
            "_model_name": "LayoutModel",
            "justify_items": null,
            "grid_row": null,
            "max_height": null,
            "align_content": null,
            "visibility": null,
            "align_self": null,
            "height": null,
            "min_height": null,
            "padding": null,
            "grid_auto_rows": null,
            "grid_gap": null,
            "max_width": null,
            "order": null,
            "_view_module_version": "1.2.0",
            "grid_template_areas": null,
            "object_position": null,
            "object_fit": null,
            "grid_auto_columns": null,
            "margin": null,
            "display": null,
            "left": null
          }
        },
        "e7f1d1296bba4934a8d3aa3c7d6fe75a": {
          "model_module": "@jupyter-widgets/controls",
          "model_name": "FloatProgressModel",
          "state": {
            "_view_name": "ProgressView",
            "style": "IPY_MODEL_b36670d0631c4d19af2fc31c1745c2ea",
            "_dom_classes": [],
            "description": "Downloading: 100%",
            "_model_name": "FloatProgressModel",
            "bar_style": "success",
            "max": 1261920069,
            "_view_module": "@jupyter-widgets/controls",
            "_model_module_version": "1.5.0",
            "value": 1261920069,
            "_view_count": null,
            "_view_module_version": "1.5.0",
            "orientation": "horizontal",
            "min": 0,
            "description_tooltip": null,
            "_model_module": "@jupyter-widgets/controls",
            "layout": "IPY_MODEL_b66fa26671304c59a6deb586096754d3"
          }
        },
        "27202e5244d24d35a885979f4d57218e": {
          "model_module": "@jupyter-widgets/controls",
          "model_name": "HTMLModel",
          "state": {
            "_view_name": "HTMLView",
            "style": "IPY_MODEL_6417de05c3fa443b92cd767468d4723e",
            "_dom_classes": [],
            "description": "",
            "_model_name": "HTMLModel",
            "placeholder": "​",
            "_view_module": "@jupyter-widgets/controls",
            "_model_module_version": "1.5.0",
            "value": " 1.26G/1.26G [00:36&lt;00:00, 35.0MB/s]",
            "_view_count": null,
            "_view_module_version": "1.5.0",
            "description_tooltip": null,
            "_model_module": "@jupyter-widgets/controls",
            "layout": "IPY_MODEL_550a2c1fb25c4906b0a76952b694f589"
          }
        },
        "b36670d0631c4d19af2fc31c1745c2ea": {
          "model_module": "@jupyter-widgets/controls",
          "model_name": "ProgressStyleModel",
          "state": {
            "_view_name": "StyleView",
            "_model_name": "ProgressStyleModel",
            "description_width": "initial",
            "_view_module": "@jupyter-widgets/base",
            "_model_module_version": "1.5.0",
            "_view_count": null,
            "_view_module_version": "1.2.0",
            "bar_color": null,
            "_model_module": "@jupyter-widgets/controls"
          }
        },
        "b66fa26671304c59a6deb586096754d3": {
          "model_module": "@jupyter-widgets/base",
          "model_name": "LayoutModel",
          "state": {
            "_view_name": "LayoutView",
            "grid_template_rows": null,
            "right": null,
            "justify_content": null,
            "_view_module": "@jupyter-widgets/base",
            "overflow": null,
            "_model_module_version": "1.2.0",
            "_view_count": null,
            "flex_flow": null,
            "width": null,
            "min_width": null,
            "border": null,
            "align_items": null,
            "bottom": null,
            "_model_module": "@jupyter-widgets/base",
            "top": null,
            "grid_column": null,
            "overflow_y": null,
            "overflow_x": null,
            "grid_auto_flow": null,
            "grid_area": null,
            "grid_template_columns": null,
            "flex": null,
            "_model_name": "LayoutModel",
            "justify_items": null,
            "grid_row": null,
            "max_height": null,
            "align_content": null,
            "visibility": null,
            "align_self": null,
            "height": null,
            "min_height": null,
            "padding": null,
            "grid_auto_rows": null,
            "grid_gap": null,
            "max_width": null,
            "order": null,
            "_view_module_version": "1.2.0",
            "grid_template_areas": null,
            "object_position": null,
            "object_fit": null,
            "grid_auto_columns": null,
            "margin": null,
            "display": null,
            "left": null
          }
        },
        "6417de05c3fa443b92cd767468d4723e": {
          "model_module": "@jupyter-widgets/controls",
          "model_name": "DescriptionStyleModel",
          "state": {
            "_view_name": "StyleView",
            "_model_name": "DescriptionStyleModel",
            "description_width": "",
            "_view_module": "@jupyter-widgets/base",
            "_model_module_version": "1.5.0",
            "_view_count": null,
            "_view_module_version": "1.2.0",
            "_model_module": "@jupyter-widgets/controls"
          }
        },
        "550a2c1fb25c4906b0a76952b694f589": {
          "model_module": "@jupyter-widgets/base",
          "model_name": "LayoutModel",
          "state": {
            "_view_name": "LayoutView",
            "grid_template_rows": null,
            "right": null,
            "justify_content": null,
            "_view_module": "@jupyter-widgets/base",
            "overflow": null,
            "_model_module_version": "1.2.0",
            "_view_count": null,
            "flex_flow": null,
            "width": null,
            "min_width": null,
            "border": null,
            "align_items": null,
            "bottom": null,
            "_model_module": "@jupyter-widgets/base",
            "top": null,
            "grid_column": null,
            "overflow_y": null,
            "overflow_x": null,
            "grid_auto_flow": null,
            "grid_area": null,
            "grid_template_columns": null,
            "flex": null,
            "_model_name": "LayoutModel",
            "justify_items": null,
            "grid_row": null,
            "max_height": null,
            "align_content": null,
            "visibility": null,
            "align_self": null,
            "height": null,
            "min_height": null,
            "padding": null,
            "grid_auto_rows": null,
            "grid_gap": null,
            "max_width": null,
            "order": null,
            "_view_module_version": "1.2.0",
            "grid_template_areas": null,
            "object_position": null,
            "object_fit": null,
            "grid_auto_columns": null,
            "margin": null,
            "display": null,
            "left": null
          }
        }
      }
    }
  },
  "cells": [
    {
      "cell_type": "markdown",
      "metadata": {
        "id": "view-in-github",
        "colab_type": "text"
      },
      "source": [
        "<a href=\"https://colab.research.google.com/github/kosuke-kitahara/xlsr-wav2vec2-phoneme-recognition/blob/main/Fine_tuning_XLSR_Wav2Vec2_for_Phoneme_Recognition.ipynb\" target=\"_parent\"><img src=\"https://colab.research.google.com/assets/colab-badge.svg\" alt=\"Open In Colab\"/></a>"
      ]
    },
    {
      "cell_type": "markdown",
      "metadata": {
        "id": "LBSYoWbi-45k"
      },
      "source": [
        "# **Fine-tuning Wav2Vec2 for English ASR with 🤗 Transformers**"
      ]
    },
    {
      "cell_type": "markdown",
      "metadata": {
        "id": "V7YOT2mnUiea"
      },
      "source": [
        "Wav2Vec2 is a pretrained model for Automatic Speech Recognition (ASR) and was released in [September 2020](https://ai.facebook.com/blog/wav2vec-20-learning-the-structure-of-speech-from-raw-audio/) by Alexei Baevski, Michael Auli, and Alex Conneau.\n",
        "\n",
        "Using a novel contrastive pretraining objective, Wav2Vec2 learns powerful speech representations from more than 50.000 hours of unlabeled speech. Similar, to [BERT's masked language modeling](http://jalammar.github.io/illustrated-bert/), the model learns contextualized speech representations by randomly masking feature vectors before passing them to a transformer network.\n",
        "\n",
        "![wav2vec2_structure](https://raw.githubusercontent.com/patrickvonplaten/scientific_images/master/wav2vec2.png)\n",
        "\n",
        "For the first time, it has been shown that pretraining, followed by fine-tuning on very little labeled speech data achieves competitive results to state-of-the-art ASR systems. Using as little as 10 minutes of labeled data, Wav2Vec2 yields a word error rate (WER) of less than 5% on the clean test set of [LibriSpeech](https://huggingface.co/datasets/librispeech_asr) - *cf.* with Table 9 of the [paper](https://arxiv.org/pdf/2006.11477.pdf)."
      ]
    },
    {
      "cell_type": "markdown",
      "metadata": {
        "id": "nT_QrfWtsxIz"
      },
      "source": [
        "In this notebook, we will give an in-detail explanation of how Wav2Vec2's pretrained checkpoints can be fine-tuned on any English ASR dataset. Note that in this notebook, we will fine-tune Wav2Vec2 without making use of a language model. It is much simpler to use Wav2Vec2 without a language model as an end-to-end ASR system and it has been shown that a standalone Wav2Vec2 acoustic model achieves impressive results. For demonstration purposes, we fine-tune the \"base\"-sized [pretrained checkpoint](https://huggingface.co/facebook/wav2vec2-base) on the rather small [Timit](https://huggingface.co/datasets/timit_asr) dataset that contains just 5h of training data."
      ]
    },
    {
      "cell_type": "markdown",
      "metadata": {
        "id": "Gx9OdDYrCtQ1"
      },
      "source": [
        "Wav2Vec2 is fine-tuned using Connectionist Temporal Classification (CTC), which is an algorithm that is used to train neural networks for sequence-to-sequence problems and mainly in Automatic Speech Recognition and handwriting recognition. \n",
        "\n",
        "I highly recommend reading the blog post [Sequence Modeling with CTC (2017)](https://distill.pub/2017/ctc/) very well-written blog post by Awni Hannun."
      ]
    },
    {
      "cell_type": "markdown",
      "metadata": {
        "id": "e335hPmdtASZ"
      },
      "source": [
        "Before we start, let's install both `datasets` and `transformers` from master. Also, we need the `soundfile` package to load audio files and the `jiwer` to evaluate our fine-tuned model using the [word error rate (WER)](https://huggingface.co/metrics/wer) metric ${}^1$."
      ]
    },
    {
      "cell_type": "code",
      "metadata": {
        "id": "c8eh87Hoee5d"
      },
      "source": [
        "%%capture\n",
        "!pip install datasets==1.4.1\n",
        "!pip install transformers==4.4.0\n",
        "!pip install soundfile\n",
        "!pip install jiwer\n",
        "!pip install git+https://github.com/huggingface/datasets"
      ],
      "execution_count": 1,
      "outputs": []
    },
    {
      "cell_type": "markdown",
      "metadata": {
        "id": "Mn9swf6EQ9Vd"
      },
      "source": [
        "\n",
        "\n",
        "\n",
        "---\n",
        "\n",
        "${}^1$ Timit is usually evaluated using the phoneme error rate (PER), but by far the most common metric in ASR is the word error rate (WER). To keep this notebook as general as possible we decided to evaluate the model using WER."
      ]
    },
    {
      "cell_type": "markdown",
      "metadata": {
        "id": "0mW-C1Nt-j7k"
      },
      "source": [
        "## Prepare Data, Tokenizer, Feature Extractor"
      ]
    },
    {
      "cell_type": "markdown",
      "metadata": {
        "id": "BeBosnY9BH3e"
      },
      "source": [
        "ASR models transcribe speech to text, which means that we both need a feature extractor that processes the speech signal to the model's input format, *e.g.* a feature vector, and a tokenizer that processes the model's output format to text. \n",
        "\n",
        "In 🤗 Transformers, the Wav2Vec2 model is thus accompanied by both a tokenizer, called [Wav2Vec2CTCTokenizer](https://huggingface.co/transformers/master/model_doc/wav2vec2.html#wav2vec2ctctokenizer), and a feature extractor, called [Wav2Vec2FeatureExtractor](https://huggingface.co/transformers/master/model_doc/wav2vec2.html#wav2vec2featureextractor).\n",
        "\n",
        "Let's start by creating the tokenizer responsible for decoding the model's predictions."
      ]
    },
    {
      "cell_type": "markdown",
      "metadata": {
        "id": "sEXEWEJGQPqD"
      },
      "source": [
        "### Create Wav2Vec2CTCTokenizer"
      ]
    },
    {
      "cell_type": "markdown",
      "metadata": {
        "id": "tWmMikuNEKl_"
      },
      "source": [
        "The [pretrained Wav2Vec2 checkpoint]( ) maps the speech signal to a sequence of context representations as illustrated in the figure above. A fine-tuned Wav2Vec2 checkpoint needs to map this sequence of context representations to its corresponding transcription so that a linear layer has to be added on top of the transformer block (shown in yellow). This linear layer is used to classifies each context representation to a token class analogous how, *e.g.*, after pretraining a linear layer is added on top of BERT's embeddings for further classification - *cf.* with *\"BERT\"* section of this [blog post](https://huggingface.co/blog/warm-starting-encoder-decoder).\n",
        "\n",
        "The output size of this layer corresponds to the number of tokens in the vocabulary, which does **not** depend on Wav2Vec2's pretraining task, but only on the labeled dataset used for fine-tuning. So in the first step, we will take a look at Timit and define a vocabulary based on the dataset's transcriptions."
      ]
    },
    {
      "cell_type": "markdown",
      "metadata": {
        "id": "bee4g9rpLxll"
      },
      "source": [
        "Let's start by loading the dataset and taking a look at its structure."
      ]
    },
    {
      "cell_type": "code",
      "metadata": {
        "id": "2MMXcWFFgCXU",
        "colab": {
          "base_uri": "https://localhost:8080/",
          "height": 218,
          "referenced_widgets": [
            "cf8624f6d971403b80145dd37465affe",
            "c6b4cb73e006457abc3ba0c21aa22c7a",
            "edd0b0a01e534502835aaba56b56a7d9",
            "076b6eaffe394ac7a7f046deff05f95f",
            "c4137ba6fe1b4a12aade10611fd3445b",
            "893d58a5e959415d9b4deae7cc935e4b",
            "4f145bda66ea463ab25f9f4d75abcc89",
            "a18be4a56b304bcfbbb9f935ba5c9d10",
            "ac5d8daea5d346d88d9cd7191aaaaa7b",
            "8741f90b9cce46d78596d4458586a7d8",
            "7d9765696021411ab87398b5ed21cbff",
            "570b66d08e814383ae7b8c1834ccd0c6",
            "3f7c701492984e8aba36469469c6140c",
            "9072641795164018bce103397399b874",
            "39d78277d260492c82604e0ac591bf81",
            "d0e2b7338f224d27bdd8cce81085368e",
            "f7858db1fd2943de8b66ad80c24fcdcc",
            "4fe1edf68f76445180204470b1cf0173",
            "89db0ddc64324deda9fa19c4025a2067",
            "7fb35d2701814b4f92a464f5f586da6b",
            "77759d75db1943a79e5cd2d428bc3c75",
            "bd5c85d255034c2d9523f4bd791a3316",
            "304aa1a335b746baba7f15fadebd4204",
            "cc820ac41188474fbc198f4f6bad1242",
            "64922352a5354136b220dc6ead9eb647",
            "5bd06f08e0584858995d00832189f6eb",
            "af240b1fa8174cdbb56f5be1e059fa28",
            "f68ba75e05894996a12dcef407e7e239",
            "ac8d98054a0b4d238d01f332dd946c04",
            "5159c8b1388241d689dae5d3a29d34ec",
            "7ea25a97b9b640d6b75475fe6fcc7349",
            "237cbe8ca8c9485fb9d1848cde412a00",
            "9654a59a4dfb4421889509e45c826efc",
            "dd6798da15484a12a5f0d5b6470bf06e",
            "263da547abb94f01a21e1e7f1e1b985a",
            "293af1a1b9c84583b04539dd9af186c4",
            "e7b5987e7eb94b369db5cf39a237374c",
            "8e7e2167b815485692eea685d24d8b4d",
            "d4247f2dd70746dbbe8408e8bd4dea96",
            "0a07e3837de54ca4a835aa280d462290"
          ]
        },
        "outputId": "733ae562-ddd7-47af-8d7f-70dce80ff1aa"
      },
      "source": [
        "from datasets import load_dataset, load_metric\n",
        "\n",
        "timit = load_dataset(\"timit_asr\")"
      ],
      "execution_count": 2,
      "outputs": [
        {
          "output_type": "display_data",
          "data": {
            "application/vnd.jupyter.widget-view+json": {
              "model_id": "cf8624f6d971403b80145dd37465affe",
              "version_minor": 0,
              "version_major": 2
            },
            "text/plain": [
              "HBox(children=(FloatProgress(value=0.0, description='Downloading', max=2349.0, style=ProgressStyle(description…"
            ]
          },
          "metadata": {
            "tags": []
          }
        },
        {
          "output_type": "stream",
          "text": [
            "\n"
          ],
          "name": "stdout"
        },
        {
          "output_type": "display_data",
          "data": {
            "application/vnd.jupyter.widget-view+json": {
              "model_id": "ac5d8daea5d346d88d9cd7191aaaaa7b",
              "version_minor": 0,
              "version_major": 2
            },
            "text/plain": [
              "HBox(children=(FloatProgress(value=0.0, description='Downloading', max=1004.0, style=ProgressStyle(description…"
            ]
          },
          "metadata": {
            "tags": []
          }
        },
        {
          "output_type": "stream",
          "text": [
            "\n",
            "Downloading and preparing dataset timit_asr/clean (download: 828.75 MiB, generated: 7.90 MiB, post-processed: Unknown size, total: 836.65 MiB) to /root/.cache/huggingface/datasets/timit_asr/clean/2.0.1/e7245f262bb418c1a5c67d67e00297322b1ad19eb65223676b790aa8003449e4...\n"
          ],
          "name": "stdout"
        },
        {
          "output_type": "display_data",
          "data": {
            "application/vnd.jupyter.widget-view+json": {
              "model_id": "f7858db1fd2943de8b66ad80c24fcdcc",
              "version_minor": 0,
              "version_major": 2
            },
            "text/plain": [
              "HBox(children=(FloatProgress(value=0.0, description='Downloading', max=869007403.0, style=ProgressStyle(descri…"
            ]
          },
          "metadata": {
            "tags": []
          }
        },
        {
          "output_type": "stream",
          "text": [
            "\n"
          ],
          "name": "stdout"
        },
        {
          "output_type": "display_data",
          "data": {
            "application/vnd.jupyter.widget-view+json": {
              "model_id": "64922352a5354136b220dc6ead9eb647",
              "version_minor": 0,
              "version_major": 2
            },
            "text/plain": [
              "HBox(children=(FloatProgress(value=1.0, bar_style='info', max=1.0), HTML(value='')))"
            ]
          },
          "metadata": {
            "tags": []
          }
        },
        {
          "output_type": "stream",
          "text": [
            "\r"
          ],
          "name": "stdout"
        },
        {
          "output_type": "display_data",
          "data": {
            "application/vnd.jupyter.widget-view+json": {
              "model_id": "9654a59a4dfb4421889509e45c826efc",
              "version_minor": 0,
              "version_major": 2
            },
            "text/plain": [
              "HBox(children=(FloatProgress(value=1.0, bar_style='info', max=1.0), HTML(value='')))"
            ]
          },
          "metadata": {
            "tags": []
          }
        },
        {
          "output_type": "stream",
          "text": [
            "\rDataset timit_asr downloaded and prepared to /root/.cache/huggingface/datasets/timit_asr/clean/2.0.1/e7245f262bb418c1a5c67d67e00297322b1ad19eb65223676b790aa8003449e4. Subsequent calls will reuse this data.\n"
          ],
          "name": "stdout"
        }
      ]
    },
    {
      "cell_type": "code",
      "metadata": {
        "id": "QbIM-L0xdvf4",
        "colab": {
          "base_uri": "https://localhost:8080/"
        },
        "outputId": "8b796336-d52c-4149-c959-ca09329def26"
      },
      "source": [
        "timit"
      ],
      "execution_count": 3,
      "outputs": [
        {
          "output_type": "execute_result",
          "data": {
            "text/plain": [
              "DatasetDict({\n",
              "    train: Dataset({\n",
              "        features: ['file', 'text', 'phonetic_detail', 'word_detail', 'dialect_region', 'sentence_type', 'speaker_id', 'id'],\n",
              "        num_rows: 4620\n",
              "    })\n",
              "    test: Dataset({\n",
              "        features: ['file', 'text', 'phonetic_detail', 'word_detail', 'dialect_region', 'sentence_type', 'speaker_id', 'id'],\n",
              "        num_rows: 1680\n",
              "    })\n",
              "})"
            ]
          },
          "metadata": {
            "tags": []
          },
          "execution_count": 3
        }
      ]
    },
    {
      "cell_type": "markdown",
      "metadata": {
        "id": "ri5y5N_HMANq"
      },
      "source": [
        "Many ASR datasets only provide the target text, `'text'` for each audio file `'file'`. Timit actually provides much more information about each audio file, such as the `'phonetic_detail'`, etc., which is why many researchers choose to evaluate their models on phoneme classification instead of speech recognition when working with Timit. However, we want to keep the notebook as general as possible, so that we will only consider the transcribed text for fine-tuning.\n",
        "\n"
      ]
    },
    {
      "cell_type": "code",
      "metadata": {
        "id": "axHrUHezyJef",
        "colab": {
          "base_uri": "https://localhost:8080/",
          "height": 669
        },
        "outputId": "13235523-031f-4e40-aa16-f70acaffdcef"
      },
      "source": [
        "from datasets import ClassLabel\n",
        "import random\n",
        "import pandas as pd\n",
        "from IPython.display import display, HTML\n",
        "\n",
        "def show_random_elements(dataset, num_examples=10):\n",
        "    assert num_examples <= len(dataset), \"Can't pick more elements than there are in the dataset.\"\n",
        "    picks = []\n",
        "    for _ in range(num_examples):\n",
        "        pick = random.randint(0, len(dataset)-1)\n",
        "        while pick in picks:\n",
        "            pick = random.randint(0, len(dataset)-1)\n",
        "        picks.append(pick)\n",
        "\n",
        "    df = pd.DataFrame(dataset[picks])\n",
        "    display(HTML(df.to_html()))\n",
        "\n",
        "\n",
        "show_random_elements(timit['train'].remove_columns([\"file\", \"phonetic_detail\", \"word_detail\", \"dialect_region\", \"id\", \n",
        "                                                    \"sentence_type\", \"speaker_id\"]), num_examples=20)"
      ],
      "execution_count": 4,
      "outputs": [
        {
          "output_type": "display_data",
          "data": {
            "text/html": [
              "<table border=\"1\" class=\"dataframe\">\n",
              "  <thead>\n",
              "    <tr style=\"text-align: right;\">\n",
              "      <th></th>\n",
              "      <th>text</th>\n",
              "    </tr>\n",
              "  </thead>\n",
              "  <tbody>\n",
              "    <tr>\n",
              "      <th>0</th>\n",
              "      <td>In every major cloverleaf, traffic sometimes gets backed up.</td>\n",
              "    </tr>\n",
              "    <tr>\n",
              "      <th>1</th>\n",
              "      <td>To what extent such low density applies to micrometeorites is unknown.</td>\n",
              "    </tr>\n",
              "    <tr>\n",
              "      <th>2</th>\n",
              "      <td>The paper boy bought two apples and three ices.</td>\n",
              "    </tr>\n",
              "    <tr>\n",
              "      <th>3</th>\n",
              "      <td>Don't ask me to carry an oily rag like that.</td>\n",
              "    </tr>\n",
              "    <tr>\n",
              "      <th>4</th>\n",
              "      <td>Don't ask me to carry an oily rag like that.</td>\n",
              "    </tr>\n",
              "    <tr>\n",
              "      <th>5</th>\n",
              "      <td>She didn't donate anything of yours, did she?</td>\n",
              "    </tr>\n",
              "    <tr>\n",
              "      <th>6</th>\n",
              "      <td>She had your dark suit in greasy wash water all year.</td>\n",
              "    </tr>\n",
              "    <tr>\n",
              "      <th>7</th>\n",
              "      <td>Tornados often destroy acres of farm land.</td>\n",
              "    </tr>\n",
              "    <tr>\n",
              "      <th>8</th>\n",
              "      <td>She had your dark suit in greasy wash water all year.</td>\n",
              "    </tr>\n",
              "    <tr>\n",
              "      <th>9</th>\n",
              "      <td>She had your dark suit in greasy wash water all year.</td>\n",
              "    </tr>\n",
              "    <tr>\n",
              "      <th>10</th>\n",
              "      <td>The groundhog clearly saw his shadow, but stayed out only a moment.</td>\n",
              "    </tr>\n",
              "    <tr>\n",
              "      <th>11</th>\n",
              "      <td>She had your dark suit in greasy wash water all year.</td>\n",
              "    </tr>\n",
              "    <tr>\n",
              "      <th>12</th>\n",
              "      <td>It helps those people who help themselves.</td>\n",
              "    </tr>\n",
              "    <tr>\n",
              "      <th>13</th>\n",
              "      <td>Good service should be rewarded by big tips.</td>\n",
              "    </tr>\n",
              "    <tr>\n",
              "      <th>14</th>\n",
              "      <td>Regular attendance is seldom required.</td>\n",
              "    </tr>\n",
              "    <tr>\n",
              "      <th>15</th>\n",
              "      <td>His prescription: hot and cold compresses to increase her absorption of water.</td>\n",
              "    </tr>\n",
              "    <tr>\n",
              "      <th>16</th>\n",
              "      <td>She had your dark suit in greasy wash water all year.</td>\n",
              "    </tr>\n",
              "    <tr>\n",
              "      <th>17</th>\n",
              "      <td>The willowy woman wore a muskrat coat.</td>\n",
              "    </tr>\n",
              "    <tr>\n",
              "      <th>18</th>\n",
              "      <td>She encouraged her children to make their own Halloween costumes.</td>\n",
              "    </tr>\n",
              "    <tr>\n",
              "      <th>19</th>\n",
              "      <td>His sweet whisper came after great effort.</td>\n",
              "    </tr>\n",
              "  </tbody>\n",
              "</table>"
            ],
            "text/plain": [
              "<IPython.core.display.HTML object>"
            ]
          },
          "metadata": {
            "tags": []
          }
        }
      ]
    },
    {
      "cell_type": "code",
      "metadata": {
        "id": "lxq03l87q8SG"
      },
      "source": [
        "def get_phonetic_code(x):\n",
        "    # print(x)\n",
        "    x['phonetic_codes'] = \\\n",
        "        x['phonetic_detail']['utterance'][1:-1]\n",
        "    return x"
      ],
      "execution_count": 5,
      "outputs": []
    },
    {
      "cell_type": "code",
      "metadata": {
        "id": "0nmqvs8gq7sR",
        "colab": {
          "base_uri": "https://localhost:8080/",
          "height": 115,
          "referenced_widgets": [
            "6398124407104d46b14a73b2e8abf3d5",
            "2b31ef1dff404e47bb444ad858071b72",
            "2fb7b78d2fc344e98b2782a857465b75",
            "894901d9d8a44251853fe55c8184c131",
            "11fe8366ecf043bca366faa2c72391cf",
            "99bf7c882b70412c87eaac10f483d0d2",
            "512add842bf144428ce4a24320fe98bb",
            "d5540b203c5a49538e0d26a4ebf528ef",
            "b48f0930999940f4b0c94c5e6a12c17b",
            "63179d7983b64efb869e0b9ec54e8eb4",
            "0987141bc11a4d278d9f02d3dbd601da",
            "e4c81dfe1c544ca08971f332f5d01f61",
            "b5152970431e4e2c9d6fca4671c65bfd",
            "a016ab07046742789a871915add80abf",
            "0414e63280bb41d49581ab9584cd8c1b",
            "3ec5fa9413f34ff6acf468237d26e94f"
          ]
        },
        "outputId": "34ac115e-010a-4661-e14b-d78562d687cd"
      },
      "source": [
        "timit = timit.map(get_phonetic_code)"
      ],
      "execution_count": 6,
      "outputs": [
        {
          "output_type": "display_data",
          "data": {
            "application/vnd.jupyter.widget-view+json": {
              "model_id": "6398124407104d46b14a73b2e8abf3d5",
              "version_minor": 0,
              "version_major": 2
            },
            "text/plain": [
              "HBox(children=(FloatProgress(value=0.0, max=4620.0), HTML(value='')))"
            ]
          },
          "metadata": {
            "tags": []
          }
        },
        {
          "output_type": "stream",
          "text": [
            "\n"
          ],
          "name": "stdout"
        },
        {
          "output_type": "display_data",
          "data": {
            "application/vnd.jupyter.widget-view+json": {
              "model_id": "b48f0930999940f4b0c94c5e6a12c17b",
              "version_minor": 0,
              "version_major": 2
            },
            "text/plain": [
              "HBox(children=(FloatProgress(value=0.0, max=1680.0), HTML(value='')))"
            ]
          },
          "metadata": {
            "tags": []
          }
        },
        {
          "output_type": "stream",
          "text": [
            "\n"
          ],
          "name": "stdout"
        }
      ]
    },
    {
      "cell_type": "code",
      "metadata": {
        "id": "h3_grkp_tNDx",
        "colab": {
          "base_uri": "https://localhost:8080/"
        },
        "outputId": "8cf4c933-36c2-4c76-8ba4-49a9e422b370"
      },
      "source": [
        "print(timit['train']['text'][0])\n",
        "print(timit['train']['phonetic_codes'][0])"
      ],
      "execution_count": 7,
      "outputs": [
        {
          "output_type": "stream",
          "text": [
            "Would such an act of refusal be useful?\n",
            "['w', 'ix', 'dcl', 's', 'ah', 'tcl', 'ch', 'ix', 'n', 'ae', 'kcl', 't', 'ix', 'v', 'r', 'ix', 'f', 'y', 'ux', 'zh', 'el', 'bcl', 'b', 'iy', 'y', 'ux', 's', 'f', 'el']\n"
          ],
          "name": "stdout"
        }
      ]
    },
    {
      "cell_type": "code",
      "metadata": {
        "id": "SmQzuHcZtY66"
      },
      "source": [
        "# IPAに変換\n",
        "# ref: https://en.wikipedia.org/wiki/ARPABET\n",
        "arphabet_to_ipa = {\n",
        "    'aa': 'ɑ',\n",
        "    'ae': 'æ',\n",
        "    'ah':'ʌ',\n",
        "    'ao':'ɔ',\n",
        "    'aw':'W',\n",
        "    'ax':'ə',\n",
        "    'axr':'ɚ',\n",
        "    'ay':'Y',\n",
        "    'eh':'ɛ',\n",
        "    'er':'ɝ',\n",
        "    'ey':'e',\n",
        "    'ih':'ɪ',\n",
        "    'ix':'ɨ',\n",
        "    'iy':'i',\n",
        "    'ow':'o',\n",
        "    'oy':'O',\n",
        "    'uh':'ʊ',\n",
        "    'uw':'u',\n",
        "    'ux':'ʉ',\n",
        "    'b':'b',\n",
        "    'ch':'C',\n",
        "    'd':'d',\n",
        "    'dh':'ð',\n",
        "    'dx':'ɾ',\n",
        "    'el':'l̩',\n",
        "    'em':'m̩',\n",
        "    'en':'n̩',\n",
        "    'f':'f',\n",
        "    'g':'g',\n",
        "    'hh':'h',\n",
        "    'h':'h',\n",
        "    'jh':'J',\n",
        "    'k':'k',\n",
        "    'l':'l',    \n",
        "    'm':'m',    \n",
        "    'n':'n',    \n",
        "    'ng':'ŋ',    \n",
        "    'nx':'ɾ̃',    \n",
        "    'p':'p',    \n",
        "    'q':'ʔ',    \n",
        "    'r':'ɹ',    \n",
        "    's':'s',    \n",
        "    'sh':'ʃ',    \n",
        "    't':'t',    \n",
        "    'th':'θ',    \n",
        "    'v':'v',    \n",
        "    'w':'w',    \n",
        "    'wh':'ʍ',    \n",
        "    'y':'j',    \n",
        "    'z':'z',    \n",
        "    'zh':'ʒ',    \n",
        "    'ax-h':'ə̥',    \n",
        "    'bcl':'b̚',    \n",
        "    'dcl':'d̚',    \n",
        "    'eng':'ŋ̍',    \n",
        "    'gcl':'ɡ̚',    \n",
        "    'hv':'ɦ',    \n",
        "    'kcl':'k̚',    \n",
        "    'pcl':'p̚',    \n",
        "    'tcl':'t̚',\n",
        "    'epi':'S', \n",
        "    'pau':'P',   \n",
        "}"
      ],
      "execution_count": 16,
      "outputs": []
    },
    {
      "cell_type": "code",
      "metadata": {
        "id": "_zbWDbmCw2pK",
        "colab": {
          "base_uri": "https://localhost:8080/"
        },
        "outputId": "08dfcf7d-dc70-4810-fb28-ddac6c31cb32"
      },
      "source": [
        "print(len(set(arphabet_to_ipa.keys())))\n",
        "print(len(set(arphabet_to_ipa.values())))"
      ],
      "execution_count": 17,
      "outputs": [
        {
          "output_type": "stream",
          "text": [
            "62\n",
            "61\n"
          ],
          "name": "stdout"
        }
      ]
    },
    {
      "cell_type": "code",
      "metadata": {
        "id": "AjzcT0DYw5_Z",
        "colab": {
          "base_uri": "https://localhost:8080/"
        },
        "outputId": "b9d12495-e2c7-4379-ebea-ec335f8545a0"
      },
      "source": [
        "# hhとhだけvalueがhで重複していることを確認\n",
        "from collections import Counter\n",
        "Counter(arphabet_to_ipa.values())"
      ],
      "execution_count": 20,
      "outputs": [
        {
          "output_type": "execute_result",
          "data": {
            "text/plain": [
              "Counter({'C': 1,\n",
              "         'J': 1,\n",
              "         'O': 1,\n",
              "         'P': 1,\n",
              "         'S': 1,\n",
              "         'W': 1,\n",
              "         'Y': 1,\n",
              "         'b': 1,\n",
              "         'b̚': 1,\n",
              "         'd': 1,\n",
              "         'd̚': 1,\n",
              "         'e': 1,\n",
              "         'f': 1,\n",
              "         'g': 1,\n",
              "         'h': 2,\n",
              "         'i': 1,\n",
              "         'j': 1,\n",
              "         'k': 1,\n",
              "         'k̚': 1,\n",
              "         'l': 1,\n",
              "         'l̩': 1,\n",
              "         'm': 1,\n",
              "         'm̩': 1,\n",
              "         'n': 1,\n",
              "         'n̩': 1,\n",
              "         'o': 1,\n",
              "         'p': 1,\n",
              "         'p̚': 1,\n",
              "         's': 1,\n",
              "         't': 1,\n",
              "         't̚': 1,\n",
              "         'u': 1,\n",
              "         'v': 1,\n",
              "         'w': 1,\n",
              "         'z': 1,\n",
              "         'æ': 1,\n",
              "         'ð': 1,\n",
              "         'ŋ': 1,\n",
              "         'ŋ̍': 1,\n",
              "         'ɑ': 1,\n",
              "         'ɔ': 1,\n",
              "         'ə': 1,\n",
              "         'ə̥': 1,\n",
              "         'ɚ': 1,\n",
              "         'ɛ': 1,\n",
              "         'ɝ': 1,\n",
              "         'ɡ̚': 1,\n",
              "         'ɦ': 1,\n",
              "         'ɨ': 1,\n",
              "         'ɪ': 1,\n",
              "         'ɹ': 1,\n",
              "         'ɾ': 1,\n",
              "         'ɾ̃': 1,\n",
              "         'ʃ': 1,\n",
              "         'ʉ': 1,\n",
              "         'ʊ': 1,\n",
              "         'ʌ': 1,\n",
              "         'ʍ': 1,\n",
              "         'ʒ': 1,\n",
              "         'ʔ': 1,\n",
              "         'θ': 1})"
            ]
          },
          "metadata": {
            "tags": []
          },
          "execution_count": 20
        }
      ]
    },
    {
      "cell_type": "code",
      "metadata": {
        "id": "bMUs86-lxXBw",
        "colab": {
          "base_uri": "https://localhost:8080/",
          "height": 198
        },
        "outputId": "6d71c865-fcea-4255-b56b-aaf8e92e4b7b"
      },
      "source": [
        "# Convert phonetic code to IPA represented in one character\n",
        "def convert_to_ipa(x):\n",
        "    # x['ipa'] = ' '.join([arphabet_to_ipa[code] for code in x['phonetic_codes']])\n",
        "    x['ipa'] = ''.join([arphabet_to_ipa[code] for code in x['phonetic_codes']])\n",
        "    return x\n",
        "\n",
        "timit = timit.map(convert_to_ipa)"
      ],
      "execution_count": 1,
      "outputs": [
        {
          "output_type": "error",
          "ename": "NameError",
          "evalue": "ignored",
          "traceback": [
            "\u001b[0;31m---------------------------------------------------------------------------\u001b[0m",
            "\u001b[0;31mNameError\u001b[0m                                 Traceback (most recent call last)",
            "\u001b[0;32m<ipython-input-1-be4250768757>\u001b[0m in \u001b[0;36m<module>\u001b[0;34m()\u001b[0m\n\u001b[1;32m      5\u001b[0m     \u001b[0;32mreturn\u001b[0m \u001b[0mx\u001b[0m\u001b[0;34m\u001b[0m\u001b[0;34m\u001b[0m\u001b[0m\n\u001b[1;32m      6\u001b[0m \u001b[0;34m\u001b[0m\u001b[0m\n\u001b[0;32m----> 7\u001b[0;31m \u001b[0mtimit\u001b[0m \u001b[0;34m=\u001b[0m \u001b[0mtimit\u001b[0m\u001b[0;34m.\u001b[0m\u001b[0mmap\u001b[0m\u001b[0;34m(\u001b[0m\u001b[0mconvert_to_ipa\u001b[0m\u001b[0;34m)\u001b[0m\u001b[0;34m\u001b[0m\u001b[0;34m\u001b[0m\u001b[0m\n\u001b[0m",
            "\u001b[0;31mNameError\u001b[0m: name 'timit' is not defined"
          ]
        }
      ]
    },
    {
      "cell_type": "code",
      "metadata": {
        "id": "5ZYCRWw1x4Oo",
        "colab": {
          "base_uri": "https://localhost:8080/",
          "height": 198
        },
        "outputId": "73ae2219-655d-4c3b-97fb-e5aa13b1d017"
      },
      "source": [
        "print(timit['train']['text'][0])\n",
        "print(timit['train']['phonetic_codes'][0])\n",
        "print(timit['train']['ipa'][0])"
      ],
      "execution_count": 2,
      "outputs": [
        {
          "output_type": "error",
          "ename": "NameError",
          "evalue": "ignored",
          "traceback": [
            "\u001b[0;31m---------------------------------------------------------------------------\u001b[0m",
            "\u001b[0;31mNameError\u001b[0m                                 Traceback (most recent call last)",
            "\u001b[0;32m<ipython-input-2-70fbbfcb5b32>\u001b[0m in \u001b[0;36m<module>\u001b[0;34m()\u001b[0m\n\u001b[0;32m----> 1\u001b[0;31m \u001b[0mprint\u001b[0m\u001b[0;34m(\u001b[0m\u001b[0mtimit\u001b[0m\u001b[0;34m[\u001b[0m\u001b[0;34m'train'\u001b[0m\u001b[0;34m]\u001b[0m\u001b[0;34m[\u001b[0m\u001b[0;34m'text'\u001b[0m\u001b[0;34m]\u001b[0m\u001b[0;34m[\u001b[0m\u001b[0;36m0\u001b[0m\u001b[0;34m]\u001b[0m\u001b[0;34m)\u001b[0m\u001b[0;34m\u001b[0m\u001b[0;34m\u001b[0m\u001b[0m\n\u001b[0m\u001b[1;32m      2\u001b[0m \u001b[0mprint\u001b[0m\u001b[0;34m(\u001b[0m\u001b[0mtimit\u001b[0m\u001b[0;34m[\u001b[0m\u001b[0;34m'train'\u001b[0m\u001b[0;34m]\u001b[0m\u001b[0;34m[\u001b[0m\u001b[0;34m'phonetic_codes'\u001b[0m\u001b[0;34m]\u001b[0m\u001b[0;34m[\u001b[0m\u001b[0;36m0\u001b[0m\u001b[0;34m]\u001b[0m\u001b[0;34m)\u001b[0m\u001b[0;34m\u001b[0m\u001b[0;34m\u001b[0m\u001b[0m\n\u001b[1;32m      3\u001b[0m \u001b[0mprint\u001b[0m\u001b[0;34m(\u001b[0m\u001b[0mtimit\u001b[0m\u001b[0;34m[\u001b[0m\u001b[0;34m'train'\u001b[0m\u001b[0;34m]\u001b[0m\u001b[0;34m[\u001b[0m\u001b[0;34m'ipa'\u001b[0m\u001b[0;34m]\u001b[0m\u001b[0;34m[\u001b[0m\u001b[0;36m0\u001b[0m\u001b[0;34m]\u001b[0m\u001b[0;34m)\u001b[0m\u001b[0;34m\u001b[0m\u001b[0;34m\u001b[0m\u001b[0m\n",
            "\u001b[0;31mNameError\u001b[0m: name 'timit' is not defined"
          ]
        }
      ]
    },
    {
      "cell_type": "code",
      "metadata": {
        "id": "kbyq6lDgQc2a",
        "colab": {
          "base_uri": "https://localhost:8080/",
          "height": 164
        },
        "outputId": "9c4a38f4-bbdd-44ff-bad7-274804d15c81"
      },
      "source": [
        "timit = timit.remove_columns([\"text\", \"phonetic_detail\", \"word_detail\", \"dialect_region\", \"id\", \"sentence_type\", \"speaker_id\"])"
      ],
      "execution_count": 3,
      "outputs": [
        {
          "output_type": "error",
          "ename": "NameError",
          "evalue": "ignored",
          "traceback": [
            "\u001b[0;31m---------------------------------------------------------------------------\u001b[0m",
            "\u001b[0;31mNameError\u001b[0m                                 Traceback (most recent call last)",
            "\u001b[0;32m<ipython-input-3-5a81be116e01>\u001b[0m in \u001b[0;36m<module>\u001b[0;34m()\u001b[0m\n\u001b[0;32m----> 1\u001b[0;31m \u001b[0mtimit\u001b[0m \u001b[0;34m=\u001b[0m \u001b[0mtimit\u001b[0m\u001b[0;34m.\u001b[0m\u001b[0mremove_columns\u001b[0m\u001b[0;34m(\u001b[0m\u001b[0;34m[\u001b[0m\u001b[0;34m\"text\"\u001b[0m\u001b[0;34m,\u001b[0m \u001b[0;34m\"phonetic_detail\"\u001b[0m\u001b[0;34m,\u001b[0m \u001b[0;34m\"word_detail\"\u001b[0m\u001b[0;34m,\u001b[0m \u001b[0;34m\"dialect_region\"\u001b[0m\u001b[0;34m,\u001b[0m \u001b[0;34m\"id\"\u001b[0m\u001b[0;34m,\u001b[0m \u001b[0;34m\"sentence_type\"\u001b[0m\u001b[0;34m,\u001b[0m \u001b[0;34m\"speaker_id\"\u001b[0m\u001b[0;34m]\u001b[0m\u001b[0;34m)\u001b[0m\u001b[0;34m\u001b[0m\u001b[0;34m\u001b[0m\u001b[0m\n\u001b[0m",
            "\u001b[0;31mNameError\u001b[0m: name 'timit' is not defined"
          ]
        }
      ]
    },
    {
      "cell_type": "code",
      "metadata": {
        "id": "7XKp1Gqa1y0k",
        "colab": {
          "base_uri": "https://localhost:8080/",
          "height": 164
        },
        "outputId": "abb522a3-e209-4078-e9b8-e541c4334035"
      },
      "source": [
        "timit"
      ],
      "execution_count": 4,
      "outputs": [
        {
          "output_type": "error",
          "ename": "NameError",
          "evalue": "ignored",
          "traceback": [
            "\u001b[0;31m---------------------------------------------------------------------------\u001b[0m",
            "\u001b[0;31mNameError\u001b[0m                                 Traceback (most recent call last)",
            "\u001b[0;32m<ipython-input-4-b7c7a94852d3>\u001b[0m in \u001b[0;36m<module>\u001b[0;34m()\u001b[0m\n\u001b[0;32m----> 1\u001b[0;31m \u001b[0mtimit\u001b[0m\u001b[0;34m\u001b[0m\u001b[0;34m\u001b[0m\u001b[0m\n\u001b[0m",
            "\u001b[0;31mNameError\u001b[0m: name 'timit' is not defined"
          ]
        }
      ]
    },
    {
      "cell_type": "markdown",
      "metadata": {
        "id": "Go9Hq4e4NDT9"
      },
      "source": [
        "Let's write a short function to display some random samples of the dataset and run it a couple of times to get a feeling for the transcriptions."
      ]
    },
    {
      "cell_type": "code",
      "metadata": {
        "id": "72737oog2F6U"
      },
      "source": [
        "from datasets import ClassLabel\n",
        "import random\n",
        "import pandas as pd\n",
        "from IPython.display import display, HTML\n",
        "\n",
        "def show_random_elements(dataset, num_examples=10):\n",
        "    assert num_examples <= len(dataset), \"Can't pick more elements than there are in the dataset.\"\n",
        "    picks = []\n",
        "    for _ in range(num_examples):\n",
        "        pick = random.randint(0, len(dataset)-1)\n",
        "        while pick in picks:\n",
        "            pick = random.randint(0, len(dataset)-1)\n",
        "        picks.append(pick)\n",
        "    \n",
        "    df = pd.DataFrame(dataset[picks])\n",
        "    display(HTML(df.to_html()))"
      ],
      "execution_count": null,
      "outputs": []
    },
    {
      "cell_type": "code",
      "metadata": {
        "id": "K_JUmf3G3b9S",
        "colab": {
          "base_uri": "https://localhost:8080/",
          "height": 164
        },
        "outputId": "580647c4-697a-4784-a83b-588c03a7138f"
      },
      "source": [
        "show_random_elements(timit[\"train\"].remove_columns([\"file\"]), num_examples=20)"
      ],
      "execution_count": 5,
      "outputs": [
        {
          "output_type": "error",
          "ename": "NameError",
          "evalue": "ignored",
          "traceback": [
            "\u001b[0;31m---------------------------------------------------------------------------\u001b[0m",
            "\u001b[0;31mNameError\u001b[0m                                 Traceback (most recent call last)",
            "\u001b[0;32m<ipython-input-5-71c928abb50d>\u001b[0m in \u001b[0;36m<module>\u001b[0;34m()\u001b[0m\n\u001b[0;32m----> 1\u001b[0;31m \u001b[0mshow_random_elements\u001b[0m\u001b[0;34m(\u001b[0m\u001b[0mtimit\u001b[0m\u001b[0;34m[\u001b[0m\u001b[0;34m\"train\"\u001b[0m\u001b[0;34m]\u001b[0m\u001b[0;34m.\u001b[0m\u001b[0mremove_columns\u001b[0m\u001b[0;34m(\u001b[0m\u001b[0;34m[\u001b[0m\u001b[0;34m\"file\"\u001b[0m\u001b[0;34m]\u001b[0m\u001b[0;34m)\u001b[0m\u001b[0;34m,\u001b[0m \u001b[0mnum_examples\u001b[0m\u001b[0;34m=\u001b[0m\u001b[0;36m20\u001b[0m\u001b[0;34m)\u001b[0m\u001b[0;34m\u001b[0m\u001b[0;34m\u001b[0m\u001b[0m\n\u001b[0m",
            "\u001b[0;31mNameError\u001b[0m: name 'show_random_elements' is not defined"
          ]
        }
      ]
    },
    {
      "cell_type": "markdown",
      "metadata": {
        "id": "fowcOllGNNju"
      },
      "source": [
        "Alright! The transcriptions look very clean and the language seems to correspond more to written text than dialogue. This makes sense taking into account that [Timit](https://huggingface.co/datasets/timit_asr) is a read speech corpus."
      ]
    },
    {
      "cell_type": "markdown",
      "metadata": {
        "id": "vq7OR50LN49m"
      },
      "source": [
        "We can see that the transcriptions contain some special characters, such as `,.?!;:`. Without a language model, it is much harder to classify speech chunks to such special characters because they don't really correspond to a characteristic sound unit. *E.g.*, the letter `\"s\"` has a more or less clear sound, whereas the special character `\".\"` does not.\n",
        "Also in order to understand the meaning of a speech signal, it is usually not necessary to include special characters in the transcription.\n",
        "\n",
        "In addition, we normalize the text to only have lower case letters and append a word separator token at the end."
      ]
    },
    {
      "cell_type": "code",
      "metadata": {
        "id": "svKzVJ_hQGK6"
      },
      "source": [
        "import re\n",
        "# chars_to_ignore_regex = '[\\,\\?\\.\\!\\-\\;\\:\\\"]'\n",
        "chars_to_ignore_regex = '[\\,\\?\\.\\!\\-\\;\\:\\\"\\“\\%\\‘\\”\\�]'\n",
        "\n",
        "def remove_special_characters(batch):\n",
        "    # batch[\"ipa\"] = re.sub(chars_to_ignore_regex, '', batch[\"ipa\"]).lower() + \" \"\n",
        "    batch[\"ipa\"] = re.sub(chars_to_ignore_regex, '', batch[\"ipa\"]) + \" \"\n",
        "    return batch"
      ],
      "execution_count": 26,
      "outputs": []
    },
    {
      "cell_type": "code",
      "metadata": {
        "id": "XIHocAuTQbBR",
        "colab": {
          "base_uri": "https://localhost:8080/",
          "height": 115,
          "referenced_widgets": [
            "b9204baecbd445cfbea16efaa608282c",
            "bf657ac39d554a24922baaae783daf34",
            "38aa96ec0c9a4863a44f72cf3e8bad06",
            "0bfe4abb159942c7a3c45bd9dcf3383e",
            "ff37b22257f04e2eaeb5e4cd02ddc5f7",
            "7ef5d0f5267544b9a0c5f1baba4c2f18",
            "a4313346ddc3412eabc673282adb4581",
            "059d6ac964d14e99881ce3e60b1f4cda",
            "28d1062331f64e3991726b948275b279",
            "da25a8fe586543df86266ec9a111c038",
            "4c8d0c62994d4ce99d1604835bce6abe",
            "3bc4980709fd4c7594afcaab142a7c81",
            "10f208b548e94a0ba5e88c51969d1360",
            "fed0bf947eb34747929c7fb785a04173",
            "d0e754eea6684c14b8064a83491d08f9",
            "92499f2f86a14483baeb7c84e54e27b0"
          ]
        },
        "outputId": "f987db0e-6bcf-42d8-b8bc-7aa160034210"
      },
      "source": [
        "timit = timit.map(remove_special_characters)"
      ],
      "execution_count": 27,
      "outputs": [
        {
          "output_type": "display_data",
          "data": {
            "application/vnd.jupyter.widget-view+json": {
              "model_id": "b9204baecbd445cfbea16efaa608282c",
              "version_minor": 0,
              "version_major": 2
            },
            "text/plain": [
              "HBox(children=(FloatProgress(value=0.0, max=4620.0), HTML(value='')))"
            ]
          },
          "metadata": {
            "tags": []
          }
        },
        {
          "output_type": "stream",
          "text": [
            "\n"
          ],
          "name": "stdout"
        },
        {
          "output_type": "display_data",
          "data": {
            "application/vnd.jupyter.widget-view+json": {
              "model_id": "28d1062331f64e3991726b948275b279",
              "version_minor": 0,
              "version_major": 2
            },
            "text/plain": [
              "HBox(children=(FloatProgress(value=0.0, max=1680.0), HTML(value='')))"
            ]
          },
          "metadata": {
            "tags": []
          }
        },
        {
          "output_type": "stream",
          "text": [
            "\n"
          ],
          "name": "stdout"
        }
      ]
    },
    {
      "cell_type": "code",
      "metadata": {
        "id": "RBDRAAYxRE6n",
        "colab": {
          "base_uri": "https://localhost:8080/",
          "height": 461
        },
        "outputId": "7ae4fdd0-f8eb-4ede-d0ce-384347c2c19c"
      },
      "source": [
        "show_random_elements(timit[\"train\"].remove_columns([\"file\"]))"
      ],
      "execution_count": 28,
      "outputs": [
        {
          "output_type": "display_data",
          "data": {
            "text/html": [
              "<table border=\"1\" class=\"dataframe\">\n",
              "  <thead>\n",
              "    <tr style=\"text-align: right;\">\n",
              "      <th></th>\n",
              "      <th>ipa</th>\n",
              "      <th>phonetic_codes</th>\n",
              "    </tr>\n",
              "  </thead>\n",
              "  <tbody>\n",
              "    <tr>\n",
              "      <th>0</th>\n",
              "      <td>ʔ ʌ p̚ g ɹ e d̚ J ʊ s t̚ t æ ɾ ɨ s t̚ t ʉ ɹ ɨ f l ɛ k̚ t j ɚ w ɛ l θ</td>\n",
              "      <td>[q, ah, pcl, g, r, ey, dcl, jh, uh, s, tcl, t, ae, dx, ix, s, tcl, t, ux, r, ix, f, l, eh, kcl, t, y, axr, w, eh, l, th]</td>\n",
              "    </tr>\n",
              "    <tr>\n",
              "      <th>1</th>\n",
              "      <td>f ɪ ɾ ʌ l s k̚ k ɹ i t̚ C t̚ t ɨ p̚ p j ɛ ɾ̃ o t̚ t ɪ ŋ k̚ k ə l d̚ d</td>\n",
              "      <td>[f, ih, dx, ah, l, s, kcl, k, r, iy, tcl, ch, tcl, t, ix, pcl, p, y, eh, nx, ow, tcl, t, ih, ng, kcl, k, ax, l, dcl, d]</td>\n",
              "    </tr>\n",
              "    <tr>\n",
              "      <th>2</th>\n",
              "      <td>ʃ i ɦ æ d̚ d j ɚ d̚ d ɑ ɹ k̚ k s ʉ ʔ ɪ ŋ ɡ̚ g ɹ i z i w ɑ ʃ S w ɔ ɾ ɚ ʔ ɔ l j ɪ ɚ</td>\n",
              "      <td>[sh, iy, hv, ae, dcl, d, y, axr, dcl, d, aa, r, kcl, k, s, ux, q, ih, ng, gcl, g, r, iy, z, iy, w, aa, sh, epi, w, ao, dx, axr, q, ao, l, y, ih, axr]</td>\n",
              "    </tr>\n",
              "    <tr>\n",
              "      <th>3</th>\n",
              "      <td>w i k̚ k ʊ b̚ b ɛ ɹ l i s i ð ɨ f j ɔ ɹ d̚ z P θ ɹ ʉ ð ɨ s S n o f l ɝ i z</td>\n",
              "      <td>[w, iy, kcl, k, uh, bcl, b, eh, r, l, iy, s, iy, dh, ix, f, y, ao, r, dcl, z, pau, th, r, ux, dh, ix, s, epi, n, ow, f, l, er, iy, z]</td>\n",
              "    </tr>\n",
              "    <tr>\n",
              "      <th>4</th>\n",
              "      <td>ð ə ɹ ɪ t̚ C ʊ ɾ ɪ n v ɛ s t̚ t ʔ ɪ n b̚ b l æ k̚ k z ɝ k̚ k ɑ n z n̩ s t̚ t ɛ ɾ ɨ v s t̚ t Y l ɨ ʃ ʉ z</td>\n",
              "      <td>[dh, ax, r, ih, tcl, ch, uh, dx, ih, n, v, eh, s, tcl, t, q, ih, n, bcl, b, l, ae, kcl, k, z, er, kcl, k, aa, n, z, en, s, tcl, t, eh, dx, ix, v, s, tcl, t, ay, l, ix, sh, ux, z]</td>\n",
              "    </tr>\n",
              "    <tr>\n",
              "      <th>5</th>\n",
              "      <td>n ɑ n p̚ p ɹ ɑ f ɨ t̚ ʔ ɔ ɹ ɡ̚ ɨ n ɨ z e ʃ n̩ z h æ f ɹ i k̚ k w ɪ n t̚ f ʌ n ɹ e z ɚ z</td>\n",
              "      <td>[n, aa, n, pcl, p, r, aa, f, ix, tcl, q, ao, r, gcl, ix, n, ix, z, ey, sh, en, z, hh, ae, f, r, iy, kcl, k, w, ih, n, tcl, f, ah, n, r, ey, z, axr, z]</td>\n",
              "    </tr>\n",
              "    <tr>\n",
              "      <th>6</th>\n",
              "      <td>ʃ i ɦ æ d̚ J ɝ d̚ d ɑ ɹ k̚ k s ʉ t̚ t ɨ ŋ ɡ̚ g ɹ i s i w ɔ ʃ S w ʌ ɾ ɚ ʔ ɔ l j ɪ ɚ</td>\n",
              "      <td>[sh, iy, hv, ae, dcl, jh, er, dcl, d, aa, r, kcl, k, s, ux, tcl, t, ix, ng, gcl, g, r, iy, s, iy, w, ao, sh, epi, w, ah, dx, axr, q, ao, l, y, ih, axr]</td>\n",
              "    </tr>\n",
              "    <tr>\n",
              "      <th>7</th>\n",
              "      <td>ð e ɔ l Y k̚ k l ɔ ŋ ɦ ɑ t̚ t ʃ W ɝ z</td>\n",
              "      <td>[dh, ey, ao, l, ay, kcl, k, l, ao, ng, hv, aa, tcl, t, sh, aw, er, z]</td>\n",
              "    </tr>\n",
              "    <tr>\n",
              "      <th>8</th>\n",
              "      <td>ʃ i ɦ æ d̚ J ɚ d̚ d ɑ ɹ k̚ k s ʉ t̚ ʔ ɨ n ɡ̚ g ɹ i s i w ɑ ʃ S w ɑ ɾ ɚ ʔ ɔ l j ɪ ɚ</td>\n",
              "      <td>[sh, iy, hv, ae, dcl, jh, axr, dcl, d, aa, r, kcl, k, s, ux, tcl, q, ix, n, gcl, g, r, iy, s, iy, w, aa, sh, epi, w, aa, dx, axr, q, ao, l, y, ih, axr]</td>\n",
              "    </tr>\n",
              "    <tr>\n",
              "      <th>9</th>\n",
              "      <td>d ɹ ɔ ʔ i t̚ C ɡ̚ g ɹ æ f ɔ ɾ̃ ɨ n u æ k̚ k s ɨ s</td>\n",
              "      <td>[d, r, ao, q, iy, tcl, ch, gcl, g, r, ae, f, ao, nx, ix, n, uw, ae, kcl, k, s, ix, s]</td>\n",
              "    </tr>\n",
              "  </tbody>\n",
              "</table>"
            ],
            "text/plain": [
              "<IPython.core.display.HTML object>"
            ]
          },
          "metadata": {
            "tags": []
          }
        }
      ]
    },
    {
      "cell_type": "markdown",
      "metadata": {
        "id": "jwfaptH5RJwA"
      },
      "source": [
        "Good! This looks better. We have removed most special characters from transcriptions and normalized them to lower-case only.\n",
        "\n",
        "In CTC, it is common to classify speech chunks into letters, so we will do the same here. \n",
        "Let's extract all distinct letters of the training and test data and build our vocabulary from this set of letters.\n",
        "\n",
        "We write a mapping function that concatenates all transcriptions into one long transcription and then transforms the string into a set of chars. \n",
        "It is important to pass the argument `batched=True` to the `map(...)` function so that the mapping function has access to all transcriptions at once."
      ]
    },
    {
      "cell_type": "code",
      "metadata": {
        "id": "LwCshNbbeRZR"
      },
      "source": [
        "def extract_all_chars(batch):\n",
        "  all_text = \" \".join(batch[\"ipa\"])\n",
        "  vocab = list(set(all_text))\n",
        "  return {\"vocab\": [vocab], \"all_text\": [all_text]}"
      ],
      "execution_count": 29,
      "outputs": []
    },
    {
      "cell_type": "code",
      "metadata": {
        "id": "_m6uUjjcfbjH",
        "colab": {
          "base_uri": "https://localhost:8080/",
          "height": 115,
          "referenced_widgets": [
            "ef58c13c5cea4c8bbd03df5f06b2dd17",
            "2f9d3d5392784a5dad5c15f50d281a24",
            "3c1df7c7213848aaa443a4ae9fbf0562",
            "53a9ed101d9942e8b2971e8ba2e91c51",
            "315c707ae37d4782860744a0936ce042",
            "dbae3baea88b4dccb6a30a92b3ebd38f",
            "992404bcc35c4d6b9e2698ebeca16859",
            "de594c3478e8498f9fd7970ad1293c35",
            "e0cacc900c1e487487ed58bc7f7c0371",
            "62961098f81d49b1a4766ac0f9375c87",
            "377239e424c845baa6ed8f48bdfd437b",
            "668fbf8d75d54fbe97ce858e39ce4c5b",
            "d4362b5d1dcc46ff91124c7ffce46abd",
            "2a183f23cb6746209778eadd019c80d8",
            "1324f32182e349729467948f29496348",
            "101a3c1ea3c64995a8667def3bc70565"
          ]
        },
        "outputId": "22f3d0b5-8a09-4aa3-c5e4-5a6f9da2a5fb"
      },
      "source": [
        "vocabs = timit.map(extract_all_chars, batched=True, batch_size=-1, keep_in_memory=True, remove_columns=timit.column_names[\"train\"])"
      ],
      "execution_count": 30,
      "outputs": [
        {
          "output_type": "display_data",
          "data": {
            "application/vnd.jupyter.widget-view+json": {
              "model_id": "ef58c13c5cea4c8bbd03df5f06b2dd17",
              "version_minor": 0,
              "version_major": 2
            },
            "text/plain": [
              "HBox(children=(FloatProgress(value=0.0, max=1.0), HTML(value='')))"
            ]
          },
          "metadata": {
            "tags": []
          }
        },
        {
          "output_type": "stream",
          "text": [
            "\n"
          ],
          "name": "stdout"
        },
        {
          "output_type": "display_data",
          "data": {
            "application/vnd.jupyter.widget-view+json": {
              "model_id": "e0cacc900c1e487487ed58bc7f7c0371",
              "version_minor": 0,
              "version_major": 2
            },
            "text/plain": [
              "HBox(children=(FloatProgress(value=0.0, max=1.0), HTML(value='')))"
            ]
          },
          "metadata": {
            "tags": []
          }
        },
        {
          "output_type": "stream",
          "text": [
            "\n"
          ],
          "name": "stdout"
        }
      ]
    },
    {
      "cell_type": "markdown",
      "metadata": {
        "id": "7oVgE8RZSJNP"
      },
      "source": [
        "Now, we create the union of all distinct letters in the training dataset and test dataset and convert the resulting list into an enumerated dictionary."
      ]
    },
    {
      "cell_type": "code",
      "metadata": {
        "id": "aQfneNsmlJI0"
      },
      "source": [
        "vocab_list = list(set(vocabs[\"train\"][\"vocab\"][0]) | set(vocabs[\"test\"][\"vocab\"][0]))"
      ],
      "execution_count": 31,
      "outputs": []
    },
    {
      "cell_type": "code",
      "metadata": {
        "id": "_0kRndSvqaKk",
        "colab": {
          "base_uri": "https://localhost:8080/"
        },
        "outputId": "5f58f674-0bf2-4f83-8142-ecd1efcfd9bb"
      },
      "source": [
        "vocab_dict = {v: k for k, v in enumerate(vocab_list)}\n",
        "vocab_dict"
      ],
      "execution_count": 32,
      "outputs": [
        {
          "output_type": "execute_result",
          "data": {
            "text/plain": [
              "{' ': 43,\n",
              " 'C': 39,\n",
              " 'J': 13,\n",
              " 'O': 54,\n",
              " 'P': 41,\n",
              " 'S': 4,\n",
              " 'W': 32,\n",
              " 'Y': 42,\n",
              " 'b': 48,\n",
              " 'd': 26,\n",
              " 'e': 40,\n",
              " 'f': 21,\n",
              " 'g': 34,\n",
              " 'h': 17,\n",
              " 'i': 8,\n",
              " 'j': 33,\n",
              " 'k': 36,\n",
              " 'l': 30,\n",
              " 'm': 24,\n",
              " 'n': 28,\n",
              " 'o': 22,\n",
              " 'p': 20,\n",
              " 's': 25,\n",
              " 't': 35,\n",
              " 'u': 16,\n",
              " 'v': 19,\n",
              " 'w': 50,\n",
              " 'z': 53,\n",
              " 'æ': 51,\n",
              " 'ð': 38,\n",
              " 'ŋ': 49,\n",
              " 'ɑ': 46,\n",
              " 'ɔ': 23,\n",
              " 'ə': 18,\n",
              " 'ɚ': 27,\n",
              " 'ɛ': 52,\n",
              " 'ɝ': 44,\n",
              " 'ɡ': 3,\n",
              " 'ɦ': 7,\n",
              " 'ɨ': 6,\n",
              " 'ɪ': 37,\n",
              " 'ɹ': 11,\n",
              " 'ɾ': 45,\n",
              " 'ʃ': 2,\n",
              " 'ʉ': 29,\n",
              " 'ʊ': 10,\n",
              " 'ʌ': 12,\n",
              " 'ʒ': 14,\n",
              " 'ʔ': 47,\n",
              " '̃': 5,\n",
              " '̍': 0,\n",
              " '̚': 31,\n",
              " '̥': 9,\n",
              " '̩': 15,\n",
              " 'θ': 1}"
            ]
          },
          "metadata": {
            "tags": []
          },
          "execution_count": 32
        }
      ]
    },
    {
      "cell_type": "markdown",
      "metadata": {
        "id": "JOSzbvs9SXT1"
      },
      "source": [
        "Cool, we see that all letters of the alphabet occur in the dataset (which is not really surprising) and we also extracted the special characters `\" \"` and `'`. Note that we did not exclude those special characters because: \n",
        "\n",
        "- The model has to learn to predict when a word finished or else the model prediction would always be a sequence of chars which would make it impossible to separate words from each other.\n",
        "- In English, we need to keep the `'` character to differentiate between words, *e.g.*, `\"it's\"` and `\"its\"` which have very different meanings."
      ]
    },
    {
      "cell_type": "markdown",
      "metadata": {
        "id": "b1fBRCn-TRaO"
      },
      "source": [
        "To make it clearer that `\" \"` has its own token class, we give it a more visible character `|`. In addition, we also add an \"unknown\" token so that the model can later deal with characters not encountered in Timit's training set. \n",
        "\n",
        "Finally, we also add a padding token that corresponds to CTC's \"*blank token*\". The \"blank token\" is a core component of the CTC algorithm. For more information, please take a look at the \"Alignment\" section [here](https://distill.pub/2017/ctc/)."
      ]
    },
    {
      "cell_type": "code",
      "metadata": {
        "id": "npbIbBoLgaFX"
      },
      "source": [
        "vocab_dict[\"|\"] = vocab_dict[\" \"]\n",
        "del vocab_dict[\" \"]"
      ],
      "execution_count": 33,
      "outputs": []
    },
    {
      "cell_type": "code",
      "metadata": {
        "id": "znF0bNunsjbl",
        "colab": {
          "base_uri": "https://localhost:8080/"
        },
        "outputId": "83e56fa0-7e94-492c-b4e2-2ac3535c2801"
      },
      "source": [
        "vocab_dict[\"[UNK]\"] = len(vocab_dict)\n",
        "vocab_dict[\"[PAD]\"] = len(vocab_dict)\n",
        "len(vocab_dict)"
      ],
      "execution_count": 34,
      "outputs": [
        {
          "output_type": "execute_result",
          "data": {
            "text/plain": [
              "57"
            ]
          },
          "metadata": {
            "tags": []
          },
          "execution_count": 34
        }
      ]
    },
    {
      "cell_type": "markdown",
      "metadata": {
        "id": "SFPGfet8U5sL"
      },
      "source": [
        "Cool, now our vocabulary is complete and consists of 30 tokens, which means that the linear layer that we will add on top of the pretrained Wav2Vec2 checkpoint will have an output dimension of 30."
      ]
    },
    {
      "cell_type": "markdown",
      "metadata": {
        "id": "1CujRgBNVRaD"
      },
      "source": [
        "Let's now save the vocabulary as a json file."
      ]
    },
    {
      "cell_type": "code",
      "metadata": {
        "id": "ehyUoh9vk191"
      },
      "source": [
        "import json\n",
        "with open('vocab.json', 'w') as vocab_file:\n",
        "    json.dump(vocab_dict, vocab_file)"
      ],
      "execution_count": 35,
      "outputs": []
    },
    {
      "cell_type": "markdown",
      "metadata": {
        "id": "SHJDaKlIVVim"
      },
      "source": [
        "In a final step, we use the json file to instantiate an object of the `Wav2Vec2CTCTokenizer` class."
      ]
    },
    {
      "cell_type": "code",
      "metadata": {
        "id": "xriFGEWQkO4M"
      },
      "source": [
        "from transformers import Wav2Vec2CTCTokenizer\n",
        "\n",
        "tokenizer = Wav2Vec2CTCTokenizer(\"./vocab.json\", unk_token=\"[UNK]\", pad_token=\"[PAD]\", word_delimiter_token=\"|\")"
      ],
      "execution_count": 36,
      "outputs": []
    },
    {
      "cell_type": "markdown",
      "metadata": {
        "id": "KvL12DrNV4cx"
      },
      "source": [
        "Next, we will create the feature extractor."
      ]
    },
    {
      "cell_type": "markdown",
      "metadata": {
        "id": "mYcIiR2FQ96i"
      },
      "source": [
        "### Create Wav2Vec2 Feature Extractor"
      ]
    },
    {
      "cell_type": "markdown",
      "metadata": {
        "id": "Y6mDEyW719rx"
      },
      "source": [
        "Speech is a continuous signal and to be treated by computers, it first has to be discretized, which is usually called **sampling**. The sampling rate hereby plays an important role in that it defines how many data points of the speech signal are measured per second. Therefore, sampling with a higher sampling rate results in a better approximation of the *real* speech signal but also necessitates more values per second.\n",
        "\n",
        "A pretrained checkpoint expects its input data to have been sampled more or less from the same distribution as the data it was trained on. The same speech signals sampled at two different rates have a very different distribution, *e.g.*, doubling the sampling rate results in data points being twice as long. Thus, \n",
        "before fine-tuning a pretrained checkpoint of an ASR model, it is crucial to verify that the sampling rate of the data that was used to pretrain the model matches the sampling rate of the dataset used to fine-tune the model.\n",
        "\n",
        "Wav2Vec2 was pretrained on the audio data of [LibriSpeech](https://huggingface.co/datasets/librispeech_asr) and LibriVox which both were sampling with 16kHz. Our fine-tuning dataset, [Timit](hhtps://huggingface.co/datasets/timit_asr), was luckily also sampled with 16kHz. If the fine-tuning dataset would have been sampled with a rate lower or higher than 16kHz, we first would have had to up or downsample the speech signal to match the sampling rate of the data used for pretraining. \n",
        "\n"
      ]
    },
    {
      "cell_type": "markdown",
      "metadata": {
        "id": "KuUbPW7oV-B5"
      },
      "source": [
        "A Wav2Vec2 feature extractor object requires the following parameters to be instantiated:\n",
        "\n",
        "- `feature_size`: Speech models take a sequence of feature vectors as an input. While the length of this sequence obviously varies, the feature size should not. In the case of Wav2Vec2, the feature size is 1 because the model was trained on the raw speech signal ${}^2$.\n",
        "- `sampling_rate`: The sampling rate at which the model is trained on.\n",
        "- `padding_value`: For batched inference, shorter inputs need to be padded with a specific value\n",
        "- `do_normalize`: Whether the input should be *zero-mean-unit-variance* normalized or not. Usually, speech models perform better when normalizing the input\n",
        "- `return_attention_mask`: Whether the model should make use of an `attention_mask` for batched inference. In general, models should **always** make use of the `attention_mask` to mask padded tokens. However, due to a very specific design choice of `Wav2Vec2`'s \"base\" checkpoint, better results are achieved when using no `attention_mask`. This is **not** recommended for other speech models. For more information, one can take a look at [this](https://github.com/pytorch/fairseq/issues/3227) issue. **Important** If you want to use this notebook to fine-tune [large-lv60](https://huggingface.co/facebook/wav2vec2-large-lv60), this parameter should be set to `True`."
      ]
    },
    {
      "cell_type": "code",
      "metadata": {
        "id": "kAR0-2KLkopp"
      },
      "source": [
        "from transformers import Wav2Vec2FeatureExtractor\n",
        "\n",
        "feature_extractor = Wav2Vec2FeatureExtractor(feature_size=1, sampling_rate=16000, padding_value=0.0, do_normalize=True, return_attention_mask=False)"
      ],
      "execution_count": 37,
      "outputs": []
    },
    {
      "cell_type": "markdown",
      "metadata": {
        "id": "qUETetgqYC3W"
      },
      "source": [
        "Great, Wav2Vec2's feature extraction pipeline is thereby fully defined!\n",
        "\n",
        "To make the usage of Wav2Vec2 as user-friendly as possible, the feature extractor and tokenizer are *wrapped* into a single `Wav2Vec2Processor` class so that one only needs a `model` and `processor` object."
      ]
    },
    {
      "cell_type": "code",
      "metadata": {
        "id": "KYZtoW-tlZgl"
      },
      "source": [
        "from transformers import Wav2Vec2Processor\n",
        "\n",
        "processor = Wav2Vec2Processor(feature_extractor=feature_extractor, tokenizer=tokenizer)"
      ],
      "execution_count": 38,
      "outputs": []
    },
    {
      "cell_type": "markdown",
      "metadata": {
        "id": "fTfFDSS0YfMN"
      },
      "source": [
        "If one wants to re-use the just created processor and the fine-tuned model of this notebook, one can mount his/her google drive to the notebook and save all relevant files there. To do so, please uncomment the following lines. \n",
        "\n",
        "We will give the fine-tuned model the name `\"wav2vec2-base-timit-demo\"`."
      ]
    },
    {
      "cell_type": "code",
      "metadata": {
        "id": "yq7Bzuzz4zjQ"
      },
      "source": [
        "# from google.colab import drive\n",
        "# drive.mount('/content/gdrive/')"
      ],
      "execution_count": 39,
      "outputs": []
    },
    {
      "cell_type": "code",
      "metadata": {
        "id": "Par9rpypPsml"
      },
      "source": [
        "# processor.save_pretrained(\"/content/gdrive/MyDrive/wav2vec2-base-timit-demo\")"
      ],
      "execution_count": 40,
      "outputs": []
    },
    {
      "cell_type": "markdown",
      "metadata": {
        "id": "DrKnYuvDIoOO"
      },
      "source": [
        "Next, we can prepare the dataset."
      ]
    },
    {
      "cell_type": "markdown",
      "metadata": {
        "id": "YFmShnl7RE35"
      },
      "source": [
        "### Preprocess Data\n",
        "\n",
        "So far, we have not looked at the actual values of the speech signal but just kept the path to its file in the dataset. `Wav2Vec2` expects the audio file in the format of a 1-dimensional array, so in the first step, let's load all audio files into the dataset object.\n",
        "\n",
        "Let's first check the serialization format of the downloaded audio files by looking at the first training sample."
      ]
    },
    {
      "cell_type": "code",
      "metadata": {
        "id": "TTCS7W6XJ9BG",
        "colab": {
          "base_uri": "https://localhost:8080/"
        },
        "outputId": "dd36b270-5bf2-401e-a34f-48b37fe8b6b7"
      },
      "source": [
        "timit[\"test\"][0]"
      ],
      "execution_count": 41,
      "outputs": [
        {
          "output_type": "execute_result",
          "data": {
            "text/plain": [
              "{'file': '/root/.cache/huggingface/datasets/downloads/extracted/404950a46da14eac65eb4e2a8317b1372fb3971d980d91d5d5b221275b1fd7e0/data/TEST/DR4/MGMM0/SX139.WAV',\n",
              " 'ipa': 'ð ə b̚ b ʌ ŋ g ə l o w ə z p̚ p l ɛ z ə n ʔ l i s ɪ t̚ C u w e ɾ ɨ d̚ n ɪ ɚ ð ɨ ʃ ɔ ɹ ',\n",
              " 'phonetic_codes': ['dh',\n",
              "  'ax',\n",
              "  'bcl',\n",
              "  'b',\n",
              "  'ah',\n",
              "  'ng',\n",
              "  'g',\n",
              "  'ax',\n",
              "  'l',\n",
              "  'ow',\n",
              "  'w',\n",
              "  'ax',\n",
              "  'z',\n",
              "  'pcl',\n",
              "  'p',\n",
              "  'l',\n",
              "  'eh',\n",
              "  'z',\n",
              "  'ax',\n",
              "  'n',\n",
              "  'q',\n",
              "  'l',\n",
              "  'iy',\n",
              "  's',\n",
              "  'ih',\n",
              "  'tcl',\n",
              "  'ch',\n",
              "  'uw',\n",
              "  'w',\n",
              "  'ey',\n",
              "  'dx',\n",
              "  'ix',\n",
              "  'dcl',\n",
              "  'n',\n",
              "  'ih',\n",
              "  'axr',\n",
              "  'dh',\n",
              "  'ix',\n",
              "  'sh',\n",
              "  'ao',\n",
              "  'r']}"
            ]
          },
          "metadata": {
            "tags": []
          },
          "execution_count": 41
        }
      ]
    },
    {
      "cell_type": "markdown",
      "metadata": {
        "id": "wSBIGEiaKHMn"
      },
      "source": [
        "Alright, the audio file is saved in the `.WAV` format. There are a couple of python-based libraries to read and process audio files, such as [librosa](https://github.com/librosa/librosa), [soundfile](https://github.com/bastibe/python-soundfile), and [audioread](https://github.com/beetbox/audioread). \n",
        "\n",
        "`librosa` seems to be the most active and prominent library, but since it depends on `soundfile` for loading of audio files, we will just use `soundfile` directly in this notebook.\n",
        "\n",
        "An audio file usually stores both its values and the sampling rate with which the speech signal was digitalized. We want to store both in the dataset and write a `map(...)` function accordingly."
      ]
    },
    {
      "cell_type": "code",
      "metadata": {
        "id": "al9Luo4LPpwJ"
      },
      "source": [
        "import soundfile as sf\n",
        "\n",
        "def speech_file_to_array_fn(batch):\n",
        "    speech_array, sampling_rate = sf.read(batch[\"file\"])\n",
        "    batch[\"speech\"] = speech_array\n",
        "    batch[\"sampling_rate\"] = sampling_rate\n",
        "    batch[\"target_text\"] = batch[\"ipa\"]\n",
        "    return batch"
      ],
      "execution_count": 42,
      "outputs": []
    },
    {
      "cell_type": "code",
      "metadata": {
        "id": "afeicUeWlrRL",
        "colab": {
          "base_uri": "https://localhost:8080/",
          "height": 443,
          "referenced_widgets": [
            "23d87678cb9a4fed818a6e28feba6ebf",
            "cbd8808d5631466c9dc3589e8d9f6a2c",
            "c1f1c932d6254996840d498ee7f7475e",
            "0626bd0b35eb483dac6177d16b310b7e",
            "081afff9e9a64ff782cc13c5b60452d6",
            "cf849225928943f9b265fbbd2582bbe0",
            "5c084acf3d024715868a323a67abdd99",
            "56a3f16cbc5d4ce7a5efa6792d23d3fe",
            "9596225fed92410884c3553047be34aa",
            "ed53565176b54968baf4498a7ee728be",
            "beb1bed843014f229b6ed062073d870b",
            "0c92200a0fd94fc49458cf07650e42f3",
            "8c8e86fd2f3b4c60ad9f183341bd791f",
            "baf88a028ea347c680bafa85d73e206c",
            "d25c1e2ee6214c4cafae4f5c49b8e17d",
            "4f430d2825244250a15b2fde42035543",
            "a085a662ea49488ca05434842b82e0f1",
            "6e22ea23ac59497eb6733992c1ce0dbc",
            "dcecc591a023412c83387c639d86d2eb",
            "1cc059472b524f2986a2ef2e6bc0ec38",
            "926ed80163e2454898a6821900d3c09b",
            "364cb10011e142028d03a59ac2263c15",
            "a2889194d50e426799db55630d623804",
            "a33221f90ace4b87b298e1f2d0c5da0a",
            "25f5064ba1494b12a80869f8badc575d",
            "ade360b4da39487e87f994fcdfe72578",
            "da10cf4dc1a443e5a99e7628a0a43f20",
            "745102fcdaf54119a7b1beb70f6a9049",
            "525a856b21514fb3a175057d4017f7b2",
            "655ad6490753424cab14b28d7ca2a0a5",
            "11492cf42095407885778d06f5e715d6",
            "4eb8dabac6c54222ac453813ef6dff39",
            "cfef4eae64124f9186b8a533d9435842",
            "2cd0b85086aa479b81f366b5b302bd47",
            "8d3ae1c147ff4c64aa58d563895aaa38",
            "e2c45f04da934dddb9d81fdafa6daed8",
            "e543a597449546b6b07261e63f7bd8cd",
            "cee243f0c774454a9647ee285813a256",
            "cb48bd1eb0b9468db9139d098d1839d8",
            "7581f72867e443e790af8ef28c1daf21",
            "6fbd1ec9b5c848939479543977153cf6",
            "1966201edb0e40de91617d481fba7b10",
            "9f44bfbaac964976869aad6e4eca4e8b",
            "858f7855f321444a9febdadc7c895b0d",
            "0213e4ded6cc4d23a017f451dc469492",
            "1e82ec7ec62e472395ce9109452c4319",
            "479c0168251d43b9b8626d0ec66a1984",
            "a71c5cbd64be4f79a63d254523184e2a",
            "027675b169054ee7865a4b89e33d820c",
            "533862ebea83407db26786d65958dd02",
            "aab057b6b6764b139aa0cb2783c16e4c",
            "31b79d7231ce46f9905a3eda00d66a25",
            "a246ecaa1b69422481c49cbf9e6b8026",
            "480be28ecaba4ae5a976de227585834d",
            "6a92ac23088c4e5eb8012dee73180c47",
            "519a061933f64203a61c18d151710a51",
            "8d2c14d3f2a4442bb0631b39f20ce165",
            "7580c702fe8d42038e90fd0fc22a506d",
            "212f9356d00548e48f3d6fc48aa30dae",
            "53a46455514a4a70828a376ab53e62ca",
            "953cd15cb96646f3b3b9838210023fb7",
            "7da78a1ce5c848289d980100cd33b48c",
            "cd64a430d30f4d089e73f02c69c3801f",
            "98fe73fa2ca74b8f90c30086a4ebdd6a"
          ]
        },
        "outputId": "9b3680b9-2410-402c-8e9f-ff30c3fc387f"
      },
      "source": [
        "timit = timit.map(speech_file_to_array_fn, remove_columns=timit.column_names[\"train\"], num_proc=4)"
      ],
      "execution_count": 43,
      "outputs": [
        {
          "output_type": "stream",
          "text": [
            "    "
          ],
          "name": "stdout"
        },
        {
          "output_type": "display_data",
          "data": {
            "application/vnd.jupyter.widget-view+json": {
              "model_id": "23d87678cb9a4fed818a6e28feba6ebf",
              "version_minor": 0,
              "version_major": 2
            },
            "text/plain": [
              "HBox(children=(FloatProgress(value=0.0, description='#2', max=1155.0, style=ProgressStyle(description_width='i…"
            ]
          },
          "metadata": {
            "tags": []
          }
        },
        {
          "output_type": "display_data",
          "data": {
            "application/vnd.jupyter.widget-view+json": {
              "model_id": "9596225fed92410884c3553047be34aa",
              "version_minor": 0,
              "version_major": 2
            },
            "text/plain": [
              "HBox(children=(FloatProgress(value=0.0, description='#0', max=1155.0, style=ProgressStyle(description_width='i…"
            ]
          },
          "metadata": {
            "tags": []
          }
        },
        {
          "output_type": "display_data",
          "data": {
            "application/vnd.jupyter.widget-view+json": {
              "model_id": "a085a662ea49488ca05434842b82e0f1",
              "version_minor": 0,
              "version_major": 2
            },
            "text/plain": [
              "HBox(children=(FloatProgress(value=0.0, description='#1', max=1155.0, style=ProgressStyle(description_width='i…"
            ]
          },
          "metadata": {
            "tags": []
          }
        },
        {
          "output_type": "display_data",
          "data": {
            "application/vnd.jupyter.widget-view+json": {
              "model_id": "25f5064ba1494b12a80869f8badc575d",
              "version_minor": 0,
              "version_major": 2
            },
            "text/plain": [
              "HBox(children=(FloatProgress(value=0.0, description='#3', max=1155.0, style=ProgressStyle(description_width='i…"
            ]
          },
          "metadata": {
            "tags": []
          }
        },
        {
          "output_type": "stream",
          "text": [
            "\n",
            "\n",
            "\n",
            "\n",
            "    "
          ],
          "name": "stdout"
        },
        {
          "output_type": "display_data",
          "data": {
            "application/vnd.jupyter.widget-view+json": {
              "model_id": "cfef4eae64124f9186b8a533d9435842",
              "version_minor": 0,
              "version_major": 2
            },
            "text/plain": [
              "HBox(children=(FloatProgress(value=0.0, description='#0', max=420.0, style=ProgressStyle(description_width='in…"
            ]
          },
          "metadata": {
            "tags": []
          }
        },
        {
          "output_type": "display_data",
          "data": {
            "application/vnd.jupyter.widget-view+json": {
              "model_id": "6fbd1ec9b5c848939479543977153cf6",
              "version_minor": 0,
              "version_major": 2
            },
            "text/plain": [
              "HBox(children=(FloatProgress(value=0.0, description='#3', max=420.0, style=ProgressStyle(description_width='in…"
            ]
          },
          "metadata": {
            "tags": []
          }
        },
        {
          "output_type": "display_data",
          "data": {
            "application/vnd.jupyter.widget-view+json": {
              "model_id": "027675b169054ee7865a4b89e33d820c",
              "version_minor": 0,
              "version_major": 2
            },
            "text/plain": [
              "HBox(children=(FloatProgress(value=0.0, description='#2', max=420.0, style=ProgressStyle(description_width='in…"
            ]
          },
          "metadata": {
            "tags": []
          }
        },
        {
          "output_type": "display_data",
          "data": {
            "application/vnd.jupyter.widget-view+json": {
              "model_id": "8d2c14d3f2a4442bb0631b39f20ce165",
              "version_minor": 0,
              "version_major": 2
            },
            "text/plain": [
              "HBox(children=(FloatProgress(value=0.0, description='#1', max=420.0, style=ProgressStyle(description_width='in…"
            ]
          },
          "metadata": {
            "tags": []
          }
        },
        {
          "output_type": "stream",
          "text": [
            "\n",
            "\n",
            "\n",
            "\n"
          ],
          "name": "stdout"
        }
      ]
    },
    {
      "cell_type": "markdown",
      "metadata": {
        "id": "SOckzFd4Mbzq"
      },
      "source": [
        "Great, let's listen to a couple of audio files to better understand the dataset and verify that the audio was correctly loaded. \n",
        "\n",
        "**Note**: *You can click the following cell a couple of times to listen to different speech samples.*"
      ]
    },
    {
      "cell_type": "code",
      "metadata": {
        "id": "dueM6U7Ev0OA",
        "colab": {
          "base_uri": "https://localhost:8080/",
          "height": 75
        },
        "outputId": "5865377b-fdfd-476a-abd1-e1aebc21fd56"
      },
      "source": [
        "import IPython.display as ipd\n",
        "import numpy as np\n",
        "import random\n",
        "\n",
        "rand_int = random.randint(0, len(timit[\"train\"]))\n",
        "\n",
        "ipd.Audio(data=np.asarray(timit[\"train\"][rand_int][\"speech\"]), autoplay=True, rate=16000)"
      ],
      "execution_count": 44,
      "outputs": [
        {
          "output_type": "execute_result",
          "data": {
            "text/html": [
              "\n",
              "                <audio controls=\"controls\" autoplay=\"autoplay\">\n",
              "                    <source src=\"data:audio/wav;base64,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\" type=\"audio/wav\" />\n",
              "                    Your browser does not support the audio element.\n",
              "                </audio>\n",
              "              "
            ],
            "text/plain": [
              "<IPython.lib.display.Audio object>"
            ]
          },
          "metadata": {
            "tags": []
          },
          "execution_count": 44
        }
      ]
    },
    {
      "cell_type": "markdown",
      "metadata": {
        "id": "1MaL9J2dNVtG"
      },
      "source": [
        "It can be heard, that the speakers change along with their speaking rate, accent, etc. Overall, the recordings sound relatively clear though, which is to be expected from a read speech corpus.\n",
        "\n",
        "Let's do a final check that the data is correctly prepared, but printing the shape of the speech input, its transcription, and the corresponding sampling rate.\n",
        "\n",
        "**Note**: *You can click the following cell a couple of times to verify multiple samples.*"
      ]
    },
    {
      "cell_type": "code",
      "metadata": {
        "id": "1Po2g7YPuRTx",
        "colab": {
          "base_uri": "https://localhost:8080/"
        },
        "outputId": "d81a4803-6a3b-4055-e102-d8186fd764d4"
      },
      "source": [
        "rand_int = random.randint(0, len(timit[\"train\"]))\n",
        "\n",
        "print(\"Target text:\", timit[\"train\"][rand_int][\"target_text\"])\n",
        "print(\"Input array shape:\", np.asarray(timit[\"train\"][rand_int][\"speech\"]).shape)\n",
        "print(\"Sampling rate:\", timit[\"train\"][rand_int][\"sampling_rate\"])"
      ],
      "execution_count": 45,
      "outputs": [
        {
          "output_type": "stream",
          "text": [
            "Target text: ʔ ɔ l m o s t̚ t ʔ ɔ l k̚ k ɑ l ɪ d̚ J ɨ z ɚ n W k̚ k o ɛ d̚ J ɨ k̚ k e ʃ n̩ l̩ \n",
            "Input array shape: (46285,)\n",
            "Sampling rate: 16000\n"
          ],
          "name": "stdout"
        }
      ]
    },
    {
      "cell_type": "markdown",
      "metadata": {
        "id": "M9teZcSwOBJ4"
      },
      "source": [
        "Good! Everything looks fine - the data is a 1-dimensional array, the sampling rate always corresponds to 16kHz, and the target text is normalized."
      ]
    },
    {
      "cell_type": "markdown",
      "metadata": {
        "id": "k3Pbn5WvOYZF"
      },
      "source": [
        "Finally, we can process the dataset to the format expected by the model for training. We will again make use of the `map(...)` function.\n",
        "\n",
        "First, we check that all data samples have the same sampling rate (of 16kHz).\n",
        "Second, we extract the `input_values` from the loaded audio file. In our case, this includes only normalization, but for other speech models, this step could correspond to extracting, *e.g.* [Log-Mel features](https://en.wikipedia.org/wiki/Mel-frequency_cepstrum). \n",
        "Third, we encode the transcriptions to label ids.\n",
        "\n",
        "**Note**: This mapping function is a good example of how the `Wav2Vec2Processor` class should be used. In \"normal\" context, calling `processor(...)` is redirected to `Wav2Vec2FeatureExtractor`'s call method. When wrapping the processor into the `as_target_processor` context, however, the same method is redirected to `Wav2Vec2CTCTokenizer`'s call method.\n",
        "For more information please check the [docs](https://huggingface.co/transformers/master/model_doc/wav2vec2.html#transformers.Wav2Vec2Processor.__call__)."
      ]
    },
    {
      "cell_type": "code",
      "metadata": {
        "id": "eJY7I0XAwe9p"
      },
      "source": [
        "def prepare_dataset(batch):\n",
        "    # check that all files have the correct sampling rate\n",
        "    assert (\n",
        "        len(set(batch[\"sampling_rate\"])) == 1\n",
        "    ), f\"Make sure all inputs have the same sampling rate of {processor.feature_extractor.sampling_rate}.\"\n",
        "\n",
        "    batch[\"input_values\"] = processor(batch[\"speech\"], sampling_rate=batch[\"sampling_rate\"][0]).input_values\n",
        "    \n",
        "    with processor.as_target_processor():\n",
        "        batch[\"labels\"] = processor(batch[\"target_text\"]).input_ids\n",
        "    return batch"
      ],
      "execution_count": 46,
      "outputs": []
    },
    {
      "cell_type": "code",
      "metadata": {
        "id": "-np9xYK-wl8q",
        "colab": {
          "base_uri": "https://localhost:8080/",
          "height": 735,
          "referenced_widgets": [
            "9ae8b478e51b42438866c2018f371ba2",
            "bcf4bdd1f2cd4edcb9b448701fafe3fb",
            "e360100afa514246b26a9a023ff9ed51",
            "ddf57c2ab7914558a1fde4983b831e52",
            "e8cf486f66f94b3599ab9ce810600156",
            "ecbad553ec2b4893878e349b3d0452ef",
            "1d5b67b98a0d4ec4b362580b86474763",
            "795948cb00af48d5a6c35cbed061bf3e",
            "defd86dae75e4b288cb836a3637c0a4c",
            "a26a9874a2b441909b6bda18c581827d",
            "f36832bafc6044359c5a3154057666b3",
            "7a1a5f1d9b3a46eeb0cc8644094e89f6",
            "1903b6f973ec4690a9192cac2c3e7d34",
            "62344d4161c74bbbaba91b275d2d1092",
            "9f188bd127464300b3f2a0c77e72ac87",
            "e07e0d6c082a4d54a02d42078620c203",
            "373e6436f919493bab13a58bfbbcc598",
            "b2de5d7b72934284b50648fb1685c3d7",
            "473f861fb103469a8dba1ab45281af40",
            "1725aad6a5da48b8b17b2241acb993c3",
            "293b5978a8c94f918884ed6d6edb39ba",
            "537badd03085446e9fafe0fc39c42364",
            "a7d5b08eedd6480da2aa63ef19292da7",
            "0d516ca551ee49fc9e9c5bc3fee54d73",
            "379f3336c99a470f914890b2465aabcb",
            "c60b87084e084ec6bf9fe3acbf0e5a28",
            "6a95fa4423254a6391d1b0e28e420134",
            "025abaf52bc949c38396a4011cd3e8bb",
            "e91ffd8efcad43669ca8d250ce1a96c5",
            "0060194e6e5d4675bd37fc2b83f6c59c",
            "2cb12a0d0cf6458d9b2bae159e221edd",
            "c78169a047cc43c4904d086101aa0a7d",
            "641551c449014ae79b9d5376516e7a13",
            "ac1ae532c5f04db09ac5afcc8b5191a6",
            "35d1e7fa08a44bb28d48e8561754ffb2",
            "b7358b78e15d447f880d41f39599e6ba",
            "8da0ebc270a04962b553b197645af589",
            "0f2f8c4fc95448d8b71e04c690c1d33c",
            "b803054c094243e8913190c4d701b077",
            "9e9dd12cfaeb495cae6c00b7c3e0b350",
            "4ce631401a754286b45ab34aff45840a",
            "648334555679484fa37b3a39c301b6ab",
            "722bcef5a8e846c8b330fa540d2308eb",
            "fc3bd0a599fb4d7fa185cbeec65e1b8a",
            "807afb48a82d4faf9e04b991b5c86b15",
            "d845a8a4acef4bb095652a51d8adf529",
            "725d4ba0b73e4fc5937a794dda5fa36a",
            "24846a0457cb43e89943f1f7ce3317ba",
            "5d0b69327a8f4faf82f11b43540b0953",
            "5927146dd3ff49a7acbf4fab511d41bc",
            "ad7df7f055d84e2c84887e84696367e7",
            "3e90a3f6c7994e45b53810de43bc15d3",
            "699b1895713d46d8bf5f219369c59b9d",
            "3879b2716e2c440b806426478636b533",
            "c7b2bda0357c4101b9669ac452c58ccd",
            "b4cbb8f4e8704c75b42f988dc01aae94",
            "6ca092e05149478690287a3a5d32e4f8",
            "c455cf16ee4b4649a88dace304ad9e3c",
            "98161fdb97734c58bda4bbf536202f49",
            "b31b85d0d2a14aa1809f0911049afa72",
            "7b74a28a67bb4a6ebd01d5874d0c4168",
            "995d498b65464791b12faf89f05c9c45",
            "fa23970c2f944a118baa94f2d02340d0",
            "e24905e8debd430c94b62c9f6cb03ed3"
          ]
        },
        "outputId": "f0769057-2289-4d92-8fa2-27685f546bcb"
      },
      "source": [
        "timit_prepared = timit.map(prepare_dataset, remove_columns=timit.column_names[\"train\"], batch_size=8, num_proc=4, batched=True)"
      ],
      "execution_count": 47,
      "outputs": [
        {
          "output_type": "stream",
          "text": [
            "    "
          ],
          "name": "stdout"
        },
        {
          "output_type": "display_data",
          "data": {
            "application/vnd.jupyter.widget-view+json": {
              "model_id": "9ae8b478e51b42438866c2018f371ba2",
              "version_minor": 0,
              "version_major": 2
            },
            "text/plain": [
              "HBox(children=(FloatProgress(value=0.0, description='#1', max=145.0, style=ProgressStyle(description_width='in…"
            ]
          },
          "metadata": {
            "tags": []
          }
        },
        {
          "output_type": "display_data",
          "data": {
            "application/vnd.jupyter.widget-view+json": {
              "model_id": "defd86dae75e4b288cb836a3637c0a4c",
              "version_minor": 0,
              "version_major": 2
            },
            "text/plain": [
              "HBox(children=(FloatProgress(value=0.0, description='#0', max=145.0, style=ProgressStyle(description_width='in…"
            ]
          },
          "metadata": {
            "tags": []
          }
        },
        {
          "output_type": "display_data",
          "data": {
            "application/vnd.jupyter.widget-view+json": {
              "model_id": "373e6436f919493bab13a58bfbbcc598",
              "version_minor": 0,
              "version_major": 2
            },
            "text/plain": [
              "HBox(children=(FloatProgress(value=0.0, description='#3', max=145.0, style=ProgressStyle(description_width='in…"
            ]
          },
          "metadata": {
            "tags": []
          }
        },
        {
          "output_type": "display_data",
          "data": {
            "application/vnd.jupyter.widget-view+json": {
              "model_id": "379f3336c99a470f914890b2465aabcb",
              "version_minor": 0,
              "version_major": 2
            },
            "text/plain": [
              "HBox(children=(FloatProgress(value=0.0, description='#2', max=145.0, style=ProgressStyle(description_width='in…"
            ]
          },
          "metadata": {
            "tags": []
          }
        },
        {
          "output_type": "stream",
          "text": [
            "/usr/local/lib/python3.7/dist-packages/numpy/core/_asarray.py:83: VisibleDeprecationWarning: Creating an ndarray from ragged nested sequences (which is a list-or-tuple of lists-or-tuples-or ndarrays with different lengths or shapes) is deprecated. If you meant to do this, you must specify 'dtype=object' when creating the ndarray\n",
            "  return array(a, dtype, copy=False, order=order)\n",
            "/usr/local/lib/python3.7/dist-packages/numpy/core/_asarray.py:83: VisibleDeprecationWarning: Creating an ndarray from ragged nested sequences (which is a list-or-tuple of lists-or-tuples-or ndarrays with different lengths or shapes) is deprecated. If you meant to do this, you must specify 'dtype=object' when creating the ndarray\n",
            "  return array(a, dtype, copy=False, order=order)\n",
            "/usr/local/lib/python3.7/dist-packages/numpy/core/_asarray.py:83: VisibleDeprecationWarning: Creating an ndarray from ragged nested sequences (which is a list-or-tuple of lists-or-tuples-or ndarrays with different lengths or shapes) is deprecated. If you meant to do this, you must specify 'dtype=object' when creating the ndarray\n",
            "  return array(a, dtype, copy=False, order=order)\n",
            "/usr/local/lib/python3.7/dist-packages/numpy/core/_asarray.py:83: VisibleDeprecationWarning: Creating an ndarray from ragged nested sequences (which is a list-or-tuple of lists-or-tuples-or ndarrays with different lengths or shapes) is deprecated. If you meant to do this, you must specify 'dtype=object' when creating the ndarray\n",
            "  return array(a, dtype, copy=False, order=order)\n"
          ],
          "name": "stderr"
        },
        {
          "output_type": "stream",
          "text": [
            "\n",
            "\n",
            "\n",
            "\n",
            "    "
          ],
          "name": "stdout"
        },
        {
          "output_type": "display_data",
          "data": {
            "application/vnd.jupyter.widget-view+json": {
              "model_id": "641551c449014ae79b9d5376516e7a13",
              "version_minor": 0,
              "version_major": 2
            },
            "text/plain": [
              "HBox(children=(FloatProgress(value=0.0, description='#2', max=53.0, style=ProgressStyle(description_width='ini…"
            ]
          },
          "metadata": {
            "tags": []
          }
        },
        {
          "output_type": "display_data",
          "data": {
            "application/vnd.jupyter.widget-view+json": {
              "model_id": "4ce631401a754286b45ab34aff45840a",
              "version_minor": 0,
              "version_major": 2
            },
            "text/plain": [
              "HBox(children=(FloatProgress(value=0.0, description='#1', max=53.0, style=ProgressStyle(description_width='ini…"
            ]
          },
          "metadata": {
            "tags": []
          }
        },
        {
          "output_type": "display_data",
          "data": {
            "application/vnd.jupyter.widget-view+json": {
              "model_id": "5d0b69327a8f4faf82f11b43540b0953",
              "version_minor": 0,
              "version_major": 2
            },
            "text/plain": [
              "HBox(children=(FloatProgress(value=0.0, description='#3', max=53.0, style=ProgressStyle(description_width='ini…"
            ]
          },
          "metadata": {
            "tags": []
          }
        },
        {
          "output_type": "display_data",
          "data": {
            "application/vnd.jupyter.widget-view+json": {
              "model_id": "6ca092e05149478690287a3a5d32e4f8",
              "version_minor": 0,
              "version_major": 2
            },
            "text/plain": [
              "HBox(children=(FloatProgress(value=0.0, description='#0', max=53.0, style=ProgressStyle(description_width='ini…"
            ]
          },
          "metadata": {
            "tags": []
          }
        },
        {
          "output_type": "stream",
          "text": [
            "/usr/local/lib/python3.7/dist-packages/numpy/core/_asarray.py:83: VisibleDeprecationWarning: Creating an ndarray from ragged nested sequences (which is a list-or-tuple of lists-or-tuples-or ndarrays with different lengths or shapes) is deprecated. If you meant to do this, you must specify 'dtype=object' when creating the ndarray\n",
            "  return array(a, dtype, copy=False, order=order)\n",
            "/usr/local/lib/python3.7/dist-packages/numpy/core/_asarray.py:83: VisibleDeprecationWarning: Creating an ndarray from ragged nested sequences (which is a list-or-tuple of lists-or-tuples-or ndarrays with different lengths or shapes) is deprecated. If you meant to do this, you must specify 'dtype=object' when creating the ndarray\n",
            "  return array(a, dtype, copy=False, order=order)\n",
            "/usr/local/lib/python3.7/dist-packages/numpy/core/_asarray.py:83: VisibleDeprecationWarning: Creating an ndarray from ragged nested sequences (which is a list-or-tuple of lists-or-tuples-or ndarrays with different lengths or shapes) is deprecated. If you meant to do this, you must specify 'dtype=object' when creating the ndarray\n",
            "  return array(a, dtype, copy=False, order=order)\n",
            "/usr/local/lib/python3.7/dist-packages/numpy/core/_asarray.py:83: VisibleDeprecationWarning: Creating an ndarray from ragged nested sequences (which is a list-or-tuple of lists-or-tuples-or ndarrays with different lengths or shapes) is deprecated. If you meant to do this, you must specify 'dtype=object' when creating the ndarray\n",
            "  return array(a, dtype, copy=False, order=order)\n"
          ],
          "name": "stderr"
        },
        {
          "output_type": "stream",
          "text": [
            "\n",
            "\n",
            "\n",
            "\n"
          ],
          "name": "stdout"
        }
      ]
    },
    {
      "cell_type": "markdown",
      "metadata": {
        "id": "gYlQkKVoRUos"
      },
      "source": [
        "## Training & Evaluation\n",
        "\n",
        "The data is processed so that we are ready to start setting up the training pipeline. We will make use of 🤗's [Trainer](https://huggingface.co/transformers/master/main_classes/trainer.html?highlight=trainer) for which we essentially need to do the following:\n",
        "\n",
        "- Define a data collator. In contrast to most NLP models, Wav2Vec2 has a much larger input length than output length. *E.g.*, a sample of input length 50000 has an output length of no more than 100. Given the large input sizes, it is much more efficient to pad the training batches dynamically meaning that all training samples should only be padded to the longest sample in their batch and not the overall longest sample. Therefore, fine-tuning Wav2Vec2 requires a special padding data collator, which we will define below\n",
        "\n",
        "- Evaluation metric. During training, the model should be evaluated on the word error rate. We should define a `compute_metrics` function accordingly\n",
        "\n",
        "- Load a pretrained checkpoint. We need to load a pretrained checkpoint and configure it correctly for training.\n",
        "\n",
        "- Define the training configuration.\n",
        "\n",
        "After having fine-tuned the model, we will correctly evaluate it on the test data and verify that it has indeed learned to correctly transcribe speech."
      ]
    },
    {
      "cell_type": "markdown",
      "metadata": {
        "id": "Slk403unUS91"
      },
      "source": [
        "### Set-up Trainer\n",
        "\n",
        "Let's start by defining the data collator. The code for the data collator was copied from [this example](https://github.com/huggingface/transformers/blob/9a06b6b11bdfc42eea08fa91d0c737d1863c99e3/examples/research_projects/wav2vec2/run_asr.py#L81).\n",
        "\n",
        "Without going into too many details, in contrast to the common data collators, this data collator treats the `input_values` and `labels` differently and thus applies to separate padding functions on them (again making use of Wav2Vec2's context manager). This is necessary because in speech input and output are of different modalities meaning that they should not be treated by the same padding function.\n",
        "Analogous to the common data collators, the padding tokens in the labels with `-100` so that those tokens are **not** taken into account when computing the loss."
      ]
    },
    {
      "cell_type": "code",
      "metadata": {
        "id": "tborvC9hx88e"
      },
      "source": [
        "import torch\n",
        "\n",
        "from dataclasses import dataclass, field\n",
        "from typing import Any, Dict, List, Optional, Union\n",
        "\n",
        "@dataclass\n",
        "class DataCollatorCTCWithPadding:\n",
        "    \"\"\"\n",
        "    Data collator that will dynamically pad the inputs received.\n",
        "    Args:\n",
        "        processor (:class:`~transformers.Wav2Vec2Processor`)\n",
        "            The processor used for proccessing the data.\n",
        "        padding (:obj:`bool`, :obj:`str` or :class:`~transformers.tokenization_utils_base.PaddingStrategy`, `optional`, defaults to :obj:`True`):\n",
        "            Select a strategy to pad the returned sequences (according to the model's padding side and padding index)\n",
        "            among:\n",
        "            * :obj:`True` or :obj:`'longest'`: Pad to the longest sequence in the batch (or no padding if only a single\n",
        "              sequence if provided).\n",
        "            * :obj:`'max_length'`: Pad to a maximum length specified with the argument :obj:`max_length` or to the\n",
        "              maximum acceptable input length for the model if that argument is not provided.\n",
        "            * :obj:`False` or :obj:`'do_not_pad'` (default): No padding (i.e., can output a batch with sequences of\n",
        "              different lengths).\n",
        "        max_length (:obj:`int`, `optional`):\n",
        "            Maximum length of the ``input_values`` of the returned list and optionally padding length (see above).\n",
        "        max_length_labels (:obj:`int`, `optional`):\n",
        "            Maximum length of the ``labels`` returned list and optionally padding length (see above).\n",
        "        pad_to_multiple_of (:obj:`int`, `optional`):\n",
        "            If set will pad the sequence to a multiple of the provided value.\n",
        "            This is especially useful to enable the use of Tensor Cores on NVIDIA hardware with compute capability >=\n",
        "            7.5 (Volta).\n",
        "    \"\"\"\n",
        "\n",
        "    processor: Wav2Vec2Processor\n",
        "    padding: Union[bool, str] = True\n",
        "    max_length: Optional[int] = None\n",
        "    max_length_labels: Optional[int] = None\n",
        "    pad_to_multiple_of: Optional[int] = None\n",
        "    pad_to_multiple_of_labels: Optional[int] = None\n",
        "\n",
        "    def __call__(self, features: List[Dict[str, Union[List[int], torch.Tensor]]]) -> Dict[str, torch.Tensor]:\n",
        "        # split inputs and labels since they have to be of different lenghts and need\n",
        "        # different padding methods\n",
        "        input_features = [{\"input_values\": feature[\"input_values\"]} for feature in features]\n",
        "        label_features = [{\"input_ids\": feature[\"labels\"]} for feature in features]\n",
        "\n",
        "        batch = self.processor.pad(\n",
        "            input_features,\n",
        "            padding=self.padding,\n",
        "            max_length=self.max_length,\n",
        "            pad_to_multiple_of=self.pad_to_multiple_of,\n",
        "            return_tensors=\"pt\",\n",
        "        )\n",
        "        with self.processor.as_target_processor():\n",
        "            labels_batch = self.processor.pad(\n",
        "                label_features,\n",
        "                padding=self.padding,\n",
        "                max_length=self.max_length_labels,\n",
        "                pad_to_multiple_of=self.pad_to_multiple_of_labels,\n",
        "                return_tensors=\"pt\",\n",
        "            )\n",
        "\n",
        "        # replace padding with -100 to ignore loss correctly\n",
        "        labels = labels_batch[\"input_ids\"].masked_fill(labels_batch.attention_mask.ne(1), -100)\n",
        "\n",
        "        batch[\"labels\"] = labels\n",
        "\n",
        "        return batch"
      ],
      "execution_count": 48,
      "outputs": []
    },
    {
      "cell_type": "code",
      "metadata": {
        "id": "lbQf5GuZyQ4_"
      },
      "source": [
        "data_collator = DataCollatorCTCWithPadding(processor=processor, padding=True)"
      ],
      "execution_count": 49,
      "outputs": []
    },
    {
      "cell_type": "markdown",
      "metadata": {
        "id": "xO-Zdj-5cxXp"
      },
      "source": [
        "Next, the evaluation metric is defined. As mentioned earlier, the \n",
        "predominant metric in ASR is the word error rate (WER), hence we will use it in this notebook as well."
      ]
    },
    {
      "cell_type": "code",
      "metadata": {
        "id": "9Xsux2gmyXso",
        "colab": {
          "base_uri": "https://localhost:8080/",
          "height": 66,
          "referenced_widgets": [
            "633442edf3d2462ea367e07675074758",
            "dd40f14ec8be4a029a4c4aa4496e9e8a",
            "2a11ce090db2479c9be9b45f07f13c3c",
            "5e76222c24f242669718f4593291d95d",
            "871694efabe744e4aadf410717fc3ea6",
            "eb8e9dd2f1d9436aacf9246bd173394a",
            "02d0c54a14b240c988774a936818ed84",
            "bfae02d124cb4aa19f822b5cd00d29cc"
          ]
        },
        "outputId": "489e683d-3889-4836-c66e-d2b605aa0ae4"
      },
      "source": [
        "wer_metric = load_metric(\"wer\")"
      ],
      "execution_count": 50,
      "outputs": [
        {
          "output_type": "display_data",
          "data": {
            "application/vnd.jupyter.widget-view+json": {
              "model_id": "633442edf3d2462ea367e07675074758",
              "version_minor": 0,
              "version_major": 2
            },
            "text/plain": [
              "HBox(children=(FloatProgress(value=0.0, description='Downloading', max=1764.0, style=ProgressStyle(description…"
            ]
          },
          "metadata": {
            "tags": []
          }
        },
        {
          "output_type": "stream",
          "text": [
            "\n"
          ],
          "name": "stdout"
        }
      ]
    },
    {
      "cell_type": "markdown",
      "metadata": {
        "id": "E1qZU5p-deqB"
      },
      "source": [
        "The model will return a sequence of logit vectors:\n",
        "$\\mathbf{y}_1, \\ldots, \\mathbf{y}_m$ with $\\mathbf{y}_1 = f_{\\theta}(x_1, \\ldots, x_n)[0]$ and $n >> m$.\n",
        "\n",
        "A logit vector $\\mathbf{y}_1$ contains the log-odds for each word in the vocabulary we defined earlier, thus $\\text{len}(\\mathbf{y}_i) =$ `config.vocab_size`. We are interested in the most likely prediction of the model and thus take the `argmax(...)` of the logits. Also, we transform the encoded labels back to the original string by replacing `-100` with the `pad_token_id` and decoding the ids while making sure that consecutive tokens are **not** grouped to the same token in CTC style ${}^1$."
      ]
    },
    {
      "cell_type": "code",
      "metadata": {
        "id": "1XZ-kjweyTy_"
      },
      "source": [
        "def compute_metrics(pred):\n",
        "    pred_logits = pred.predictions\n",
        "    pred_ids = np.argmax(pred_logits, axis=-1)\n",
        "\n",
        "    pred.label_ids[pred.label_ids == -100] = processor.tokenizer.pad_token_id\n",
        "\n",
        "    pred_str = processor.batch_decode(pred_ids)\n",
        "    # we do not want to group tokens when computing the metrics\n",
        "    label_str = processor.batch_decode(pred.label_ids, group_tokens=False)\n",
        "\n",
        "    wer = wer_metric.compute(predictions=pred_str, references=label_str)\n",
        "\n",
        "    return {\"wer\": wer}"
      ],
      "execution_count": 51,
      "outputs": []
    },
    {
      "cell_type": "markdown",
      "metadata": {
        "id": "Xmgrx4bRwLIH"
      },
      "source": [
        "Now, we can load the pretrained `Wav2Vec2` checkpoint. The tokenizer's `pad_token_id` must be to define the model's `pad_token_id` or in the case of `Wav2Vec2ForCTC` also CTC's *blank token* ${}^2$. To save GPU memory, we enable PyTorch's [gradient checkpointing](https://pytorch.org/docs/stable/checkpoint.html) and also set the loss reduction to \"*mean*\"."
      ]
    },
    {
      "cell_type": "code",
      "metadata": {
        "id": "e7cqAWIayn6w",
        "colab": {
          "base_uri": "https://localhost:8080/",
          "height": 169,
          "referenced_widgets": [
            "8207225ad02e4144b62364b4a6b3467b",
            "e700d9a112714a058afc5c048e258ebd",
            "0dc5191b803e4a349b9d61b2d0516024",
            "476f2f0fb3d545b88d26586a28ea8c4c",
            "fda951d6db3041e29e838c2258c8d5c0",
            "b307792edd7d429b8534aad833a8f6a9",
            "dbb1387685384a8c93fe0bf789ca5038",
            "3e1c630ba1fe4a18af3433f48a9ca7e5",
            "e33d66c2b4bb48e8b752396484692ec8",
            "35f2ae796bd4462b9108d864098e19a6",
            "e7f1d1296bba4934a8d3aa3c7d6fe75a",
            "27202e5244d24d35a885979f4d57218e",
            "b36670d0631c4d19af2fc31c1745c2ea",
            "b66fa26671304c59a6deb586096754d3",
            "6417de05c3fa443b92cd767468d4723e",
            "550a2c1fb25c4906b0a76952b694f589"
          ]
        },
        "outputId": "fb83b6a2-c5d7-4437-b7d8-35a1953a990c"
      },
      "source": [
        "from transformers import Wav2Vec2ForCTC\n",
        "\n",
        "# model = Wav2Vec2ForCTC.from_pretrained(\n",
        "#     \"facebook/wav2vec2-base\", \n",
        "#     gradient_checkpointing=True, \n",
        "#     ctc_loss_reduction=\"mean\", \n",
        "#     pad_token_id=processor.tokenizer.pad_token_id,\n",
        "# )\n",
        "\n",
        "model = Wav2Vec2ForCTC.from_pretrained(\n",
        "    \"facebook/wav2vec2-large-xlsr-53\", \n",
        "    attention_dropout=0.1,\n",
        "    hidden_dropout=0.1,\n",
        "    feat_proj_dropout=0.0,\n",
        "    mask_time_prob=0.05,\n",
        "    layerdrop=0.1,\n",
        "    gradient_checkpointing=True, \n",
        "    ctc_loss_reduction=\"mean\", \n",
        "    pad_token_id=processor.tokenizer.pad_token_id,\n",
        "    vocab_size=len(processor.tokenizer)\n",
        ")"
      ],
      "execution_count": 52,
      "outputs": [
        {
          "output_type": "display_data",
          "data": {
            "application/vnd.jupyter.widget-view+json": {
              "model_id": "8207225ad02e4144b62364b4a6b3467b",
              "version_minor": 0,
              "version_major": 2
            },
            "text/plain": [
              "HBox(children=(FloatProgress(value=0.0, description='Downloading', max=1451.0, style=ProgressStyle(description…"
            ]
          },
          "metadata": {
            "tags": []
          }
        },
        {
          "output_type": "stream",
          "text": [
            "\n"
          ],
          "name": "stdout"
        },
        {
          "output_type": "display_data",
          "data": {
            "application/vnd.jupyter.widget-view+json": {
              "model_id": "e33d66c2b4bb48e8b752396484692ec8",
              "version_minor": 0,
              "version_major": 2
            },
            "text/plain": [
              "HBox(children=(FloatProgress(value=0.0, description='Downloading', max=1261920069.0, style=ProgressStyle(descr…"
            ]
          },
          "metadata": {
            "tags": []
          }
        },
        {
          "output_type": "stream",
          "text": [
            "\n"
          ],
          "name": "stdout"
        },
        {
          "output_type": "stream",
          "text": [
            "Some weights of Wav2Vec2ForCTC were not initialized from the model checkpoint at facebook/wav2vec2-large-xlsr-53 and are newly initialized: ['lm_head.bias', 'lm_head.weight']\n",
            "You should probably TRAIN this model on a down-stream task to be able to use it for predictions and inference.\n"
          ],
          "name": "stderr"
        }
      ]
    },
    {
      "cell_type": "markdown",
      "metadata": {
        "id": "1DwR3XLSzGDD"
      },
      "source": [
        "The first component of Wav2Vec2 consists of a stack of CNN layers that are used to extract acoustically meaningful - but contextually independent - features from the raw speech signal. This part of the model has already been sufficiently trained during pretrainind and as stated in the [paper](https://arxiv.org/abs/2006.11477) does not need to be fine-tuned anymore. \n",
        "Thus, we can set the `requires_grad` to `False` for all parameters of the *feature extraction* part."
      ]
    },
    {
      "cell_type": "code",
      "metadata": {
        "id": "oGI8zObtZ3V0"
      },
      "source": [
        "model.freeze_feature_extractor()"
      ],
      "execution_count": 53,
      "outputs": []
    },
    {
      "cell_type": "markdown",
      "metadata": {
        "id": "lD4aGhQM0K-D"
      },
      "source": [
        "In a final step, we define all parameters related to training. \n",
        "To give more explanation on some of the parameters:\n",
        "- `group_by_length` makes training more efficient by grouping training samples of similar input length into one batch. This can significantly speed up training time by heavily reducing the overall number of useless padding tokens that are passed through the model\n",
        "- `learning_rate` and `weight_decay` were heuristically tuned until fine-tuning has become stable. Note that those parameters strongly depend on the Timit dataset and might be suboptimal for other speech datasets.\n",
        "\n",
        "For more explanations on other parameters, one can take a look at the [docs](https://huggingface.co/transformers/master/main_classes/trainer.html?highlight=trainer#trainingarguments).\n",
        "\n",
        "**Note**: If one wants to save the trained models in his/her google drive the commented-out `output_dir` can be used instead."
      ]
    },
    {
      "cell_type": "code",
      "metadata": {
        "id": "KbeKSV7uzGPP"
      },
      "source": [
        "# from transformers import TrainingArguments\n",
        "\n",
        "# training_args = TrainingArguments(\n",
        "#   # output_dir=\"/content/gdrive/MyDrive/wav2vec2-base-timit-demo\",\n",
        "#   output_dir=\"./wav2vec2-base-timit-demo\",\n",
        "#   group_by_length=True,\n",
        "#   per_device_train_batch_size=32,\n",
        "#   evaluation_strategy=\"steps\",\n",
        "#   num_train_epochs=30,\n",
        "#   fp16=True,\n",
        "#   save_steps=500,\n",
        "#   eval_steps=500,\n",
        "#   logging_steps=500,\n",
        "#   learning_rate=1e-4,\n",
        "#   weight_decay=0.005,\n",
        "#   warmup_steps=1000,\n",
        "#   save_total_limit=2,\n",
        "# )\n",
        "\n",
        "from transformers import TrainingArguments\n",
        "\n",
        "training_args = TrainingArguments(\n",
        "  # output_dir=model_dir,\n",
        "  output_dir=\"./wav2vec2-base-timit-demo\",\n",
        "  # output_dir=\"./wav2vec2-large-xlsr-turkish-demo\",\n",
        "  group_by_length=True,\n",
        "  per_device_train_batch_size=16,\n",
        "  gradient_accumulation_steps=2,\n",
        "  evaluation_strategy=\"steps\",\n",
        "  num_train_epochs=50,\n",
        "  fp16=True,\n",
        "  save_steps=100,\n",
        "  eval_steps=100,\n",
        "  logging_steps=100,\n",
        "  learning_rate=3e-4,\n",
        "  warmup_steps=50,\n",
        "  save_total_limit=2,\n",
        ")"
      ],
      "execution_count": 54,
      "outputs": []
    },
    {
      "cell_type": "markdown",
      "metadata": {
        "id": "OsW-WZcL1ZtN"
      },
      "source": [
        "Now, all instances can be passed to Trainer and we are ready to start training!"
      ]
    },
    {
      "cell_type": "code",
      "metadata": {
        "id": "rY7vBmFCPFgC"
      },
      "source": [
        "from transformers import Trainer\n",
        "\n",
        "trainer = Trainer(\n",
        "    model=model,\n",
        "    data_collator=data_collator,\n",
        "    args=training_args,\n",
        "    compute_metrics=compute_metrics,\n",
        "    train_dataset=timit_prepared[\"train\"],\n",
        "    eval_dataset=timit_prepared[\"test\"],\n",
        "    tokenizer=processor.feature_extractor,\n",
        ")"
      ],
      "execution_count": 55,
      "outputs": []
    },
    {
      "cell_type": "markdown",
      "metadata": {
        "id": "UoXBx1JAA0DX"
      },
      "source": [
        "\n",
        "\n",
        "---\n",
        "\n",
        "${}^1$ To allow models to become independent of the speaker rate, in CTC, consecutive tokens that are identical are simply grouped as a single token. However, the encoded labels should not be grouped when decoding since they don't correspond to the predicted tokens of the model, which is why the `group_tokens=False` parameter has to be passed. If we wouldn't pass this parameter a word like `\"hello\"` would incorrectly be encoded, and decoded as `\"helo\"`.\n",
        "\n",
        "${}^2$ The blank token allows the model to predict a word, such as `\"hello\"` by forcing it to insert the blank token between the two l's. A CTC-conform prediction of `\"hello\"` of our model would be `[PAD] [PAD] \"h\" \"e\" \"e\" \"l\" \"l\" [PAD] \"l\" \"o\" \"o\" [PAD]`."
      ]
    },
    {
      "cell_type": "markdown",
      "metadata": {
        "id": "rpvZHM1xReIW"
      },
      "source": [
        "### Training"
      ]
    },
    {
      "cell_type": "markdown",
      "metadata": {
        "id": "j-3oKSzZ1hGq"
      },
      "source": [
        "Training will take between 90 and 180 minutes depending on the GPU allocated to this notebook. While the trained model yields satisfying results on *Timit*'s test data, it is by no means an optimally fine-tuned model. The purpose of this notebook is to demonstrate how Wav2Vec2's [base](https://huggingface.co/facebook/wav2vec2-base), [large](https://huggingface.co/facebook/wav2vec2-large), and [large-lv60](https://huggingface.co/facebook/wav2vec2-large-lv60) checkpoints can be fine-tuned on any English dataset.\n",
        "\n",
        "In case you want to use this google colab to fine-tune your model, you should make sure that your training doesn't stop due to inactivity. A simple hack to prevent this is to paste the following code into the console of this tab (*right mouse click -> inspect -> Console tab and insert code*)."
      ]
    },
    {
      "cell_type": "markdown",
      "metadata": {
        "id": "VYYAvgkW4P0m"
      },
      "source": [
        "```javascript\n",
        "function ConnectButton(){\n",
        "    console.log(\"Connect pushed\"); \n",
        "    document.querySelector(\"#top-toolbar > colab-connect-button\").shadowRoot.querySelector(\"#connect\").click() \n",
        "}\n",
        "setInterval(ConnectButton,60000);\n",
        "```"
      ]
    },
    {
      "cell_type": "code",
      "metadata": {
        "id": "_UEjJqGsQw24",
        "colab": {
          "base_uri": "https://localhost:8080/",
          "height": 242
        },
        "outputId": "61efdb27-437f-4eb1-8ffe-6f988899b9ff"
      },
      "source": [
        "trainer.train()"
      ],
      "execution_count": null,
      "outputs": [
        {
          "output_type": "stream",
          "text": [
            "/usr/local/lib/python3.7/dist-packages/torch/optim/lr_scheduler.py:134: UserWarning: Detected call of `lr_scheduler.step()` before `optimizer.step()`. In PyTorch 1.1.0 and later, you should call them in the opposite order: `optimizer.step()` before `lr_scheduler.step()`.  Failure to do this will result in PyTorch skipping the first value of the learning rate schedule. See more details at https://pytorch.org/docs/stable/optim.html#how-to-adjust-learning-rate\n",
            "  \"https://pytorch.org/docs/stable/optim.html#how-to-adjust-learning-rate\", UserWarning)\n"
          ],
          "name": "stderr"
        },
        {
          "output_type": "display_data",
          "data": {
            "text/html": [
              "\n",
              "    <div>\n",
              "        <style>\n",
              "            /* Turns off some styling */\n",
              "            progress {\n",
              "                /* gets rid of default border in Firefox and Opera. */\n",
              "                border: none;\n",
              "                /* Needs to be in here for Safari polyfill so background images work as expected. */\n",
              "                background-size: auto;\n",
              "            }\n",
              "        </style>\n",
              "      \n",
              "      <progress value='401' max='7200' style='width:300px; height:20px; vertical-align: middle;'></progress>\n",
              "      [ 401/7200 32:30 < 9:13:59, 0.20 it/s, Epoch 2.78/50]\n",
              "    </div>\n",
              "    <table border=\"1\" class=\"dataframe\">\n",
              "  <thead>\n",
              "    <tr style=\"text-align: left;\">\n",
              "      <th>Step</th>\n",
              "      <th>Training Loss</th>\n",
              "      <th>Validation Loss</th>\n",
              "      <th>Wer</th>\n",
              "      <th>Runtime</th>\n",
              "      <th>Samples Per Second</th>\n",
              "    </tr>\n",
              "  </thead>\n",
              "  <tbody>\n",
              "    <tr>\n",
              "      <td>100</td>\n",
              "      <td>3.362500</td>\n",
              "      <td>2.328400</td>\n",
              "      <td>1.000000</td>\n",
              "      <td>125.929000</td>\n",
              "      <td>13.341000</td>\n",
              "    </tr>\n",
              "    <tr>\n",
              "      <td>200</td>\n",
              "      <td>2.238000</td>\n",
              "      <td>2.245774</td>\n",
              "      <td>0.982677</td>\n",
              "      <td>126.683300</td>\n",
              "      <td>13.261000</td>\n",
              "    </tr>\n",
              "    <tr>\n",
              "      <td>300</td>\n",
              "      <td>2.214000</td>\n",
              "      <td>2.158619</td>\n",
              "      <td>0.982677</td>\n",
              "      <td>128.843900</td>\n",
              "      <td>13.039000</td>\n",
              "    </tr>\n",
              "  </tbody>\n",
              "</table><p>\n",
              "    <div>\n",
              "        <style>\n",
              "            /* Turns off some styling */\n",
              "            progress {\n",
              "                /* gets rid of default border in Firefox and Opera. */\n",
              "                border: none;\n",
              "                /* Needs to be in here for Safari polyfill so background images work as expected. */\n",
              "                background-size: auto;\n",
              "            }\n",
              "        </style>\n",
              "      \n",
              "      <progress value='210' max='210' style='width:300px; height:20px; vertical-align: middle;'></progress>\n",
              "      [210/210 02:07]\n",
              "    </div>\n",
              "    "
            ],
            "text/plain": [
              "<IPython.core.display.HTML object>"
            ]
          },
          "metadata": {
            "tags": []
          }
        }
      ]
    },
    {
      "cell_type": "markdown",
      "metadata": {
        "id": "UCyp-v3n4Zlt"
      },
      "source": [
        "The final WER should be below 0.3 which is reasonable given that state-of-the-art phoneme error rates (PER) are just below 0.1 (see [leaderboard](https://paperswithcode.com/sota/speech-recognition-on-timit)) and that WER is usually worse than PER.\n",
        "\n",
        "The resulting model of this notebook has been saved to [patrickvonplaten/wav2vec2-base-timit-demo](https://huggingface.co/patrickvonplaten/wav2vec2-base-timit-demo)."
      ]
    },
    {
      "cell_type": "markdown",
      "metadata": {
        "id": "nD4XP5IHncsY"
      },
      "source": [
        "### Evaluate\n",
        "\n",
        "In the final part, we evaluate our fine-tuned model on the test set and play around with it a bit.\n",
        "\n",
        "Let's load the `processor` and `model`."
      ]
    },
    {
      "cell_type": "code",
      "metadata": {
        "id": "-rg0USDCnbo6"
      },
      "source": [
        "processor = Wav2Vec2Processor.from_pretrained(\"patrickvonplaten/wav2vec2-base-timit-demo\")"
      ],
      "execution_count": null,
      "outputs": []
    },
    {
      "cell_type": "code",
      "metadata": {
        "id": "sSpFW3pDn23P"
      },
      "source": [
        "model = Wav2Vec2ForCTC.from_pretrained(\"patrickvonplaten/wav2vec2-base-timit-demo\")"
      ],
      "execution_count": null,
      "outputs": []
    },
    {
      "cell_type": "markdown",
      "metadata": {
        "id": "TUuZpB0v5jn_"
      },
      "source": [
        "Now, we will make use of the `map(...)` function to predict the transcription of every test sample and to save the prediction in the dataset itself. We will call the resulting dictionary `\"results\"`. \n",
        "\n",
        "**Note**: we evaluate the test data set with `batch_size=1` on purpose due to this [issue](https://github.com/pytorch/fairseq/issues/3227). Since padded inputs don't yield the exact same output as non-padded inputs, a better WER can be achieved by not padding the input at all."
      ]
    },
    {
      "cell_type": "code",
      "metadata": {
        "id": "40naJl53n7jT"
      },
      "source": [
        "def map_to_result(batch):\n",
        "  model.to(\"cuda\")\n",
        "  input_values = processor(\n",
        "      batch[\"speech\"], \n",
        "      sampling_rate=batch[\"sampling_rate\"], \n",
        "      return_tensors=\"pt\"\n",
        "  ).input_values.to(\"cuda\")\n",
        "\n",
        "  with torch.no_grad():\n",
        "    logits = model(input_values).logits\n",
        "\n",
        "  pred_ids = torch.argmax(logits, dim=-1)\n",
        "  batch[\"pred_str\"] = processor.batch_decode(pred_ids)[0]\n",
        "  \n",
        "  return batch"
      ],
      "execution_count": null,
      "outputs": []
    },
    {
      "cell_type": "code",
      "metadata": {
        "id": "uPqH7gZqrGPi"
      },
      "source": [
        "results = timit[\"test\"].map(map_to_result)"
      ],
      "execution_count": null,
      "outputs": []
    },
    {
      "cell_type": "markdown",
      "metadata": {
        "id": "-mqpdB8R6rty"
      },
      "source": [
        "Let's compute the overall WER now."
      ]
    },
    {
      "cell_type": "code",
      "metadata": {
        "id": "PmqAb4Isx8OK"
      },
      "source": [
        "print(\"Test WER: {:.3f}\".format(wer_metric.compute(predictions=results[\"pred_str\"], references=results[\"target_text\"])))"
      ],
      "execution_count": null,
      "outputs": []
    },
    {
      "cell_type": "markdown",
      "metadata": {
        "id": "6Va94d8Y7Q98"
      },
      "source": [
        "18.6% WER - not bad! Our model would have surely made the top 20 on the official [leaderboard](https://paperswithcode.com/sota/speech-recognition-on-timit).\n",
        "\n",
        "Let's take a look at some predictions to see what errors are made by the model."
      ]
    },
    {
      "cell_type": "code",
      "metadata": {
        "id": "odNDiFVRy53w"
      },
      "source": [
        "show_random_elements(results.remove_columns([\"speech\", \"sampling_rate\"]))"
      ],
      "execution_count": null,
      "outputs": []
    },
    {
      "cell_type": "markdown",
      "metadata": {
        "id": "5HFCujhd9n4N"
      },
      "source": [
        "It becomes clear that the predicted transcriptions are acoustically very similar to the target transcriptions, but often contain spelling or grammatical errors. This shouldn't be very surprising though given that we purely rely on Wav2Vec2 without making use of a language model."
      ]
    },
    {
      "cell_type": "markdown",
      "metadata": {
        "id": "a3ydKvUl9FTK"
      },
      "source": [
        "Finally, to better understand how CTC works, it is worth taking a deeper look at the exact output of the model. Let's run the first test sample through the model, take the predicted ids and convert them to their corresponding tokens."
      ]
    },
    {
      "cell_type": "code",
      "metadata": {
        "id": "AqaM45t87uM4"
      },
      "source": [
        "model.to(\"cuda\")\n",
        "input_values = processor(timit[\"test\"][0][\"speech\"], sampling_rate=timit[\"test\"][0][\"sampling_rate\"], return_tensors=\"pt\").input_values.to(\"cuda\")\n",
        "\n",
        "with torch.no_grad():\n",
        "  logits = model(input_values).logits\n",
        "\n",
        "pred_ids = torch.argmax(logits, dim=-1)\n",
        "\n",
        "# convert ids to tokens\n",
        "\" \".join(processor.tokenizer.convert_ids_to_tokens(pred_ids[0].tolist()))"
      ],
      "execution_count": null,
      "outputs": []
    },
    {
      "cell_type": "markdown",
      "metadata": {
        "id": "tdO8E28g-n5C"
      },
      "source": [
        "The output should make it a bit clearer how CTC works in practice. The model is to some extent invariant to speaking rate since it has learned to either just repeat the same token in case the speech chunk to be classified still corresponds to the same token. This makes CTC a very powerful algorithm for speech recognition since the speech file's transcription is often very much independent of its length.\n",
        "\n",
        "I again advise the reader to take a look at [this](https://distill.pub/2017/ctc) very nice blog post to better understand CTC."
      ]
    },
    {
      "cell_type": "code",
      "metadata": {
        "id": "0yBeyAd840JX"
      },
      "source": [
        ""
      ],
      "execution_count": null,
      "outputs": []
    }
  ]
}