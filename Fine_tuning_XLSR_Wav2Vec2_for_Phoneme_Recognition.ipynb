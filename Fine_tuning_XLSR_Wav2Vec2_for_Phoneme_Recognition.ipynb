{
  "nbformat": 4,
  "nbformat_minor": 0,
  "metadata": {
    "colab": {
      "name": "Fine-tuning XLSR-Wav2Vec2 for Phoneme Recognition",
      "provenance": [],
      "collapsed_sections": [],
      "toc_visible": true,
      "machine_shape": "hm",
      "include_colab_link": true
    },
    "kernelspec": {
      "name": "python3",
      "display_name": "Python 3"
    },
    "accelerator": "GPU",
    "widgets": {
      "application/vnd.jupyter.widget-state+json": {
        "601ba48abe6c4371ae966176ce495d7a": {
          "model_module": "@jupyter-widgets/controls",
          "model_name": "HBoxModel",
          "state": {
            "_view_name": "HBoxView",
            "_dom_classes": [],
            "_model_name": "HBoxModel",
            "_view_module": "@jupyter-widgets/controls",
            "_model_module_version": "1.5.0",
            "_view_count": null,
            "_view_module_version": "1.5.0",
            "box_style": "",
            "layout": "IPY_MODEL_0a15bd152e0c4ab79cc4807fae0512db",
            "_model_module": "@jupyter-widgets/controls",
            "children": [
              "IPY_MODEL_f49d946160234c12b7436027c7e02509",
              "IPY_MODEL_ab62e631a98f42e290052566c9c39761"
            ]
          }
        },
        "0a15bd152e0c4ab79cc4807fae0512db": {
          "model_module": "@jupyter-widgets/base",
          "model_name": "LayoutModel",
          "state": {
            "_view_name": "LayoutView",
            "grid_template_rows": null,
            "right": null,
            "justify_content": null,
            "_view_module": "@jupyter-widgets/base",
            "overflow": null,
            "_model_module_version": "1.2.0",
            "_view_count": null,
            "flex_flow": null,
            "width": null,
            "min_width": null,
            "border": null,
            "align_items": null,
            "bottom": null,
            "_model_module": "@jupyter-widgets/base",
            "top": null,
            "grid_column": null,
            "overflow_y": null,
            "overflow_x": null,
            "grid_auto_flow": null,
            "grid_area": null,
            "grid_template_columns": null,
            "flex": null,
            "_model_name": "LayoutModel",
            "justify_items": null,
            "grid_row": null,
            "max_height": null,
            "align_content": null,
            "visibility": null,
            "align_self": null,
            "height": null,
            "min_height": null,
            "padding": null,
            "grid_auto_rows": null,
            "grid_gap": null,
            "max_width": null,
            "order": null,
            "_view_module_version": "1.2.0",
            "grid_template_areas": null,
            "object_position": null,
            "object_fit": null,
            "grid_auto_columns": null,
            "margin": null,
            "display": null,
            "left": null
          }
        },
        "f49d946160234c12b7436027c7e02509": {
          "model_module": "@jupyter-widgets/controls",
          "model_name": "FloatProgressModel",
          "state": {
            "_view_name": "ProgressView",
            "style": "IPY_MODEL_34abcc5c04c44afcaf6a41ffeedb46d5",
            "_dom_classes": [],
            "description": "Downloading: 100%",
            "_model_name": "FloatProgressModel",
            "bar_style": "success",
            "max": 869007403,
            "_view_module": "@jupyter-widgets/controls",
            "_model_module_version": "1.5.0",
            "value": 869007403,
            "_view_count": null,
            "_view_module_version": "1.5.0",
            "orientation": "horizontal",
            "min": 0,
            "description_tooltip": null,
            "_model_module": "@jupyter-widgets/controls",
            "layout": "IPY_MODEL_1206203a385d4243bdf77fdecdb154de"
          }
        },
        "ab62e631a98f42e290052566c9c39761": {
          "model_module": "@jupyter-widgets/controls",
          "model_name": "HTMLModel",
          "state": {
            "_view_name": "HTMLView",
            "style": "IPY_MODEL_83388281b298458c9570636179e3868f",
            "_dom_classes": [],
            "description": "",
            "_model_name": "HTMLModel",
            "placeholder": "​",
            "_view_module": "@jupyter-widgets/controls",
            "_model_module_version": "1.5.0",
            "value": " 869M/869M [01:02&lt;00:00, 13.9MB/s]",
            "_view_count": null,
            "_view_module_version": "1.5.0",
            "description_tooltip": null,
            "_model_module": "@jupyter-widgets/controls",
            "layout": "IPY_MODEL_cc8895b064044cf1aa84a5dfe121965e"
          }
        },
        "34abcc5c04c44afcaf6a41ffeedb46d5": {
          "model_module": "@jupyter-widgets/controls",
          "model_name": "ProgressStyleModel",
          "state": {
            "_view_name": "StyleView",
            "_model_name": "ProgressStyleModel",
            "description_width": "initial",
            "_view_module": "@jupyter-widgets/base",
            "_model_module_version": "1.5.0",
            "_view_count": null,
            "_view_module_version": "1.2.0",
            "bar_color": null,
            "_model_module": "@jupyter-widgets/controls"
          }
        },
        "1206203a385d4243bdf77fdecdb154de": {
          "model_module": "@jupyter-widgets/base",
          "model_name": "LayoutModel",
          "state": {
            "_view_name": "LayoutView",
            "grid_template_rows": null,
            "right": null,
            "justify_content": null,
            "_view_module": "@jupyter-widgets/base",
            "overflow": null,
            "_model_module_version": "1.2.0",
            "_view_count": null,
            "flex_flow": null,
            "width": null,
            "min_width": null,
            "border": null,
            "align_items": null,
            "bottom": null,
            "_model_module": "@jupyter-widgets/base",
            "top": null,
            "grid_column": null,
            "overflow_y": null,
            "overflow_x": null,
            "grid_auto_flow": null,
            "grid_area": null,
            "grid_template_columns": null,
            "flex": null,
            "_model_name": "LayoutModel",
            "justify_items": null,
            "grid_row": null,
            "max_height": null,
            "align_content": null,
            "visibility": null,
            "align_self": null,
            "height": null,
            "min_height": null,
            "padding": null,
            "grid_auto_rows": null,
            "grid_gap": null,
            "max_width": null,
            "order": null,
            "_view_module_version": "1.2.0",
            "grid_template_areas": null,
            "object_position": null,
            "object_fit": null,
            "grid_auto_columns": null,
            "margin": null,
            "display": null,
            "left": null
          }
        },
        "83388281b298458c9570636179e3868f": {
          "model_module": "@jupyter-widgets/controls",
          "model_name": "DescriptionStyleModel",
          "state": {
            "_view_name": "StyleView",
            "_model_name": "DescriptionStyleModel",
            "description_width": "",
            "_view_module": "@jupyter-widgets/base",
            "_model_module_version": "1.5.0",
            "_view_count": null,
            "_view_module_version": "1.2.0",
            "_model_module": "@jupyter-widgets/controls"
          }
        },
        "cc8895b064044cf1aa84a5dfe121965e": {
          "model_module": "@jupyter-widgets/base",
          "model_name": "LayoutModel",
          "state": {
            "_view_name": "LayoutView",
            "grid_template_rows": null,
            "right": null,
            "justify_content": null,
            "_view_module": "@jupyter-widgets/base",
            "overflow": null,
            "_model_module_version": "1.2.0",
            "_view_count": null,
            "flex_flow": null,
            "width": null,
            "min_width": null,
            "border": null,
            "align_items": null,
            "bottom": null,
            "_model_module": "@jupyter-widgets/base",
            "top": null,
            "grid_column": null,
            "overflow_y": null,
            "overflow_x": null,
            "grid_auto_flow": null,
            "grid_area": null,
            "grid_template_columns": null,
            "flex": null,
            "_model_name": "LayoutModel",
            "justify_items": null,
            "grid_row": null,
            "max_height": null,
            "align_content": null,
            "visibility": null,
            "align_self": null,
            "height": null,
            "min_height": null,
            "padding": null,
            "grid_auto_rows": null,
            "grid_gap": null,
            "max_width": null,
            "order": null,
            "_view_module_version": "1.2.0",
            "grid_template_areas": null,
            "object_position": null,
            "object_fit": null,
            "grid_auto_columns": null,
            "margin": null,
            "display": null,
            "left": null
          }
        },
        "3a5075e60e0645bc889dadc8566d67f3": {
          "model_module": "@jupyter-widgets/controls",
          "model_name": "HBoxModel",
          "state": {
            "_view_name": "HBoxView",
            "_dom_classes": [],
            "_model_name": "HBoxModel",
            "_view_module": "@jupyter-widgets/controls",
            "_model_module_version": "1.5.0",
            "_view_count": null,
            "_view_module_version": "1.5.0",
            "box_style": "",
            "layout": "IPY_MODEL_d8992d0638374bdf8ab50526f291aa61",
            "_model_module": "@jupyter-widgets/controls",
            "children": [
              "IPY_MODEL_8528d5ed870e492e99ff81a84746bd2e",
              "IPY_MODEL_3e7ab2c8721947f9afc7c30dfcf7ff10"
            ]
          }
        },
        "d8992d0638374bdf8ab50526f291aa61": {
          "model_module": "@jupyter-widgets/base",
          "model_name": "LayoutModel",
          "state": {
            "_view_name": "LayoutView",
            "grid_template_rows": null,
            "right": null,
            "justify_content": null,
            "_view_module": "@jupyter-widgets/base",
            "overflow": null,
            "_model_module_version": "1.2.0",
            "_view_count": null,
            "flex_flow": null,
            "width": null,
            "min_width": null,
            "border": null,
            "align_items": null,
            "bottom": null,
            "_model_module": "@jupyter-widgets/base",
            "top": null,
            "grid_column": null,
            "overflow_y": null,
            "overflow_x": null,
            "grid_auto_flow": null,
            "grid_area": null,
            "grid_template_columns": null,
            "flex": null,
            "_model_name": "LayoutModel",
            "justify_items": null,
            "grid_row": null,
            "max_height": null,
            "align_content": null,
            "visibility": null,
            "align_self": null,
            "height": null,
            "min_height": null,
            "padding": null,
            "grid_auto_rows": null,
            "grid_gap": null,
            "max_width": null,
            "order": null,
            "_view_module_version": "1.2.0",
            "grid_template_areas": null,
            "object_position": null,
            "object_fit": null,
            "grid_auto_columns": null,
            "margin": null,
            "display": null,
            "left": null
          }
        },
        "8528d5ed870e492e99ff81a84746bd2e": {
          "model_module": "@jupyter-widgets/controls",
          "model_name": "FloatProgressModel",
          "state": {
            "_view_name": "ProgressView",
            "style": "IPY_MODEL_899b07b03a6d497fa60abeeb1b036ab7",
            "_dom_classes": [],
            "description": "",
            "_model_name": "FloatProgressModel",
            "bar_style": "info",
            "max": 1,
            "_view_module": "@jupyter-widgets/controls",
            "_model_module_version": "1.5.0",
            "value": 1,
            "_view_count": null,
            "_view_module_version": "1.5.0",
            "orientation": "horizontal",
            "min": 0,
            "description_tooltip": null,
            "_model_module": "@jupyter-widgets/controls",
            "layout": "IPY_MODEL_25955b796424492f8240c9964f88e28b"
          }
        },
        "3e7ab2c8721947f9afc7c30dfcf7ff10": {
          "model_module": "@jupyter-widgets/controls",
          "model_name": "HTMLModel",
          "state": {
            "_view_name": "HTMLView",
            "style": "IPY_MODEL_bf7d721f0f744fb6a2738485f406ced6",
            "_dom_classes": [],
            "description": "",
            "_model_name": "HTMLModel",
            "placeholder": "​",
            "_view_module": "@jupyter-widgets/controls",
            "_model_module_version": "1.5.0",
            "value": " 4620/0 [00:07&lt;00:00, 1174.16 examples/s]",
            "_view_count": null,
            "_view_module_version": "1.5.0",
            "description_tooltip": null,
            "_model_module": "@jupyter-widgets/controls",
            "layout": "IPY_MODEL_99edfaba739d44e499a2e6adbff66ced"
          }
        },
        "899b07b03a6d497fa60abeeb1b036ab7": {
          "model_module": "@jupyter-widgets/controls",
          "model_name": "ProgressStyleModel",
          "state": {
            "_view_name": "StyleView",
            "_model_name": "ProgressStyleModel",
            "description_width": "initial",
            "_view_module": "@jupyter-widgets/base",
            "_model_module_version": "1.5.0",
            "_view_count": null,
            "_view_module_version": "1.2.0",
            "bar_color": null,
            "_model_module": "@jupyter-widgets/controls"
          }
        },
        "25955b796424492f8240c9964f88e28b": {
          "model_module": "@jupyter-widgets/base",
          "model_name": "LayoutModel",
          "state": {
            "_view_name": "LayoutView",
            "grid_template_rows": null,
            "right": null,
            "justify_content": null,
            "_view_module": "@jupyter-widgets/base",
            "overflow": null,
            "_model_module_version": "1.2.0",
            "_view_count": null,
            "flex_flow": null,
            "width": null,
            "min_width": null,
            "border": null,
            "align_items": null,
            "bottom": null,
            "_model_module": "@jupyter-widgets/base",
            "top": null,
            "grid_column": null,
            "overflow_y": null,
            "overflow_x": null,
            "grid_auto_flow": null,
            "grid_area": null,
            "grid_template_columns": null,
            "flex": null,
            "_model_name": "LayoutModel",
            "justify_items": null,
            "grid_row": null,
            "max_height": null,
            "align_content": null,
            "visibility": null,
            "align_self": null,
            "height": null,
            "min_height": null,
            "padding": null,
            "grid_auto_rows": null,
            "grid_gap": null,
            "max_width": null,
            "order": null,
            "_view_module_version": "1.2.0",
            "grid_template_areas": null,
            "object_position": null,
            "object_fit": null,
            "grid_auto_columns": null,
            "margin": null,
            "display": null,
            "left": null
          }
        },
        "bf7d721f0f744fb6a2738485f406ced6": {
          "model_module": "@jupyter-widgets/controls",
          "model_name": "DescriptionStyleModel",
          "state": {
            "_view_name": "StyleView",
            "_model_name": "DescriptionStyleModel",
            "description_width": "",
            "_view_module": "@jupyter-widgets/base",
            "_model_module_version": "1.5.0",
            "_view_count": null,
            "_view_module_version": "1.2.0",
            "_model_module": "@jupyter-widgets/controls"
          }
        },
        "99edfaba739d44e499a2e6adbff66ced": {
          "model_module": "@jupyter-widgets/base",
          "model_name": "LayoutModel",
          "state": {
            "_view_name": "LayoutView",
            "grid_template_rows": null,
            "right": null,
            "justify_content": null,
            "_view_module": "@jupyter-widgets/base",
            "overflow": null,
            "_model_module_version": "1.2.0",
            "_view_count": null,
            "flex_flow": null,
            "width": null,
            "min_width": null,
            "border": null,
            "align_items": null,
            "bottom": null,
            "_model_module": "@jupyter-widgets/base",
            "top": null,
            "grid_column": null,
            "overflow_y": null,
            "overflow_x": null,
            "grid_auto_flow": null,
            "grid_area": null,
            "grid_template_columns": null,
            "flex": null,
            "_model_name": "LayoutModel",
            "justify_items": null,
            "grid_row": null,
            "max_height": null,
            "align_content": null,
            "visibility": null,
            "align_self": null,
            "height": null,
            "min_height": null,
            "padding": null,
            "grid_auto_rows": null,
            "grid_gap": null,
            "max_width": null,
            "order": null,
            "_view_module_version": "1.2.0",
            "grid_template_areas": null,
            "object_position": null,
            "object_fit": null,
            "grid_auto_columns": null,
            "margin": null,
            "display": null,
            "left": null
          }
        },
        "e54b6797e38d4d75a3153ae2e0e90656": {
          "model_module": "@jupyter-widgets/controls",
          "model_name": "HBoxModel",
          "state": {
            "_view_name": "HBoxView",
            "_dom_classes": [],
            "_model_name": "HBoxModel",
            "_view_module": "@jupyter-widgets/controls",
            "_model_module_version": "1.5.0",
            "_view_count": null,
            "_view_module_version": "1.5.0",
            "box_style": "",
            "layout": "IPY_MODEL_a490aa661fa948259e6544428e74cd66",
            "_model_module": "@jupyter-widgets/controls",
            "children": [
              "IPY_MODEL_51d4f124ae734cde86e1df613222b218",
              "IPY_MODEL_1b93d4a7b3e44011a69b4669794e3e39"
            ]
          }
        },
        "a490aa661fa948259e6544428e74cd66": {
          "model_module": "@jupyter-widgets/base",
          "model_name": "LayoutModel",
          "state": {
            "_view_name": "LayoutView",
            "grid_template_rows": null,
            "right": null,
            "justify_content": null,
            "_view_module": "@jupyter-widgets/base",
            "overflow": null,
            "_model_module_version": "1.2.0",
            "_view_count": null,
            "flex_flow": null,
            "width": null,
            "min_width": null,
            "border": null,
            "align_items": null,
            "bottom": null,
            "_model_module": "@jupyter-widgets/base",
            "top": null,
            "grid_column": null,
            "overflow_y": null,
            "overflow_x": null,
            "grid_auto_flow": null,
            "grid_area": null,
            "grid_template_columns": null,
            "flex": null,
            "_model_name": "LayoutModel",
            "justify_items": null,
            "grid_row": null,
            "max_height": null,
            "align_content": null,
            "visibility": null,
            "align_self": null,
            "height": null,
            "min_height": null,
            "padding": null,
            "grid_auto_rows": null,
            "grid_gap": null,
            "max_width": null,
            "order": null,
            "_view_module_version": "1.2.0",
            "grid_template_areas": null,
            "object_position": null,
            "object_fit": null,
            "grid_auto_columns": null,
            "margin": null,
            "display": null,
            "left": null
          }
        },
        "51d4f124ae734cde86e1df613222b218": {
          "model_module": "@jupyter-widgets/controls",
          "model_name": "FloatProgressModel",
          "state": {
            "_view_name": "ProgressView",
            "style": "IPY_MODEL_5987b7eff9cb486cb7843809d7ecab65",
            "_dom_classes": [],
            "description": "",
            "_model_name": "FloatProgressModel",
            "bar_style": "info",
            "max": 1,
            "_view_module": "@jupyter-widgets/controls",
            "_model_module_version": "1.5.0",
            "value": 1,
            "_view_count": null,
            "_view_module_version": "1.5.0",
            "orientation": "horizontal",
            "min": 0,
            "description_tooltip": null,
            "_model_module": "@jupyter-widgets/controls",
            "layout": "IPY_MODEL_f0a9d27aec784f5cafebbf75528a452e"
          }
        },
        "1b93d4a7b3e44011a69b4669794e3e39": {
          "model_module": "@jupyter-widgets/controls",
          "model_name": "HTMLModel",
          "state": {
            "_view_name": "HTMLView",
            "style": "IPY_MODEL_df37eb6e115d492bb31f57d8b08b9a76",
            "_dom_classes": [],
            "description": "",
            "_model_name": "HTMLModel",
            "placeholder": "​",
            "_view_module": "@jupyter-widgets/controls",
            "_model_module_version": "1.5.0",
            "value": " 1680/0 [00:01&lt;00:00, 1245.81 examples/s]",
            "_view_count": null,
            "_view_module_version": "1.5.0",
            "description_tooltip": null,
            "_model_module": "@jupyter-widgets/controls",
            "layout": "IPY_MODEL_3c5eb82360734182995d52fd5cec6704"
          }
        },
        "5987b7eff9cb486cb7843809d7ecab65": {
          "model_module": "@jupyter-widgets/controls",
          "model_name": "ProgressStyleModel",
          "state": {
            "_view_name": "StyleView",
            "_model_name": "ProgressStyleModel",
            "description_width": "initial",
            "_view_module": "@jupyter-widgets/base",
            "_model_module_version": "1.5.0",
            "_view_count": null,
            "_view_module_version": "1.2.0",
            "bar_color": null,
            "_model_module": "@jupyter-widgets/controls"
          }
        },
        "f0a9d27aec784f5cafebbf75528a452e": {
          "model_module": "@jupyter-widgets/base",
          "model_name": "LayoutModel",
          "state": {
            "_view_name": "LayoutView",
            "grid_template_rows": null,
            "right": null,
            "justify_content": null,
            "_view_module": "@jupyter-widgets/base",
            "overflow": null,
            "_model_module_version": "1.2.0",
            "_view_count": null,
            "flex_flow": null,
            "width": null,
            "min_width": null,
            "border": null,
            "align_items": null,
            "bottom": null,
            "_model_module": "@jupyter-widgets/base",
            "top": null,
            "grid_column": null,
            "overflow_y": null,
            "overflow_x": null,
            "grid_auto_flow": null,
            "grid_area": null,
            "grid_template_columns": null,
            "flex": null,
            "_model_name": "LayoutModel",
            "justify_items": null,
            "grid_row": null,
            "max_height": null,
            "align_content": null,
            "visibility": null,
            "align_self": null,
            "height": null,
            "min_height": null,
            "padding": null,
            "grid_auto_rows": null,
            "grid_gap": null,
            "max_width": null,
            "order": null,
            "_view_module_version": "1.2.0",
            "grid_template_areas": null,
            "object_position": null,
            "object_fit": null,
            "grid_auto_columns": null,
            "margin": null,
            "display": null,
            "left": null
          }
        },
        "df37eb6e115d492bb31f57d8b08b9a76": {
          "model_module": "@jupyter-widgets/controls",
          "model_name": "DescriptionStyleModel",
          "state": {
            "_view_name": "StyleView",
            "_model_name": "DescriptionStyleModel",
            "description_width": "",
            "_view_module": "@jupyter-widgets/base",
            "_model_module_version": "1.5.0",
            "_view_count": null,
            "_view_module_version": "1.2.0",
            "_model_module": "@jupyter-widgets/controls"
          }
        },
        "3c5eb82360734182995d52fd5cec6704": {
          "model_module": "@jupyter-widgets/base",
          "model_name": "LayoutModel",
          "state": {
            "_view_name": "LayoutView",
            "grid_template_rows": null,
            "right": null,
            "justify_content": null,
            "_view_module": "@jupyter-widgets/base",
            "overflow": null,
            "_model_module_version": "1.2.0",
            "_view_count": null,
            "flex_flow": null,
            "width": null,
            "min_width": null,
            "border": null,
            "align_items": null,
            "bottom": null,
            "_model_module": "@jupyter-widgets/base",
            "top": null,
            "grid_column": null,
            "overflow_y": null,
            "overflow_x": null,
            "grid_auto_flow": null,
            "grid_area": null,
            "grid_template_columns": null,
            "flex": null,
            "_model_name": "LayoutModel",
            "justify_items": null,
            "grid_row": null,
            "max_height": null,
            "align_content": null,
            "visibility": null,
            "align_self": null,
            "height": null,
            "min_height": null,
            "padding": null,
            "grid_auto_rows": null,
            "grid_gap": null,
            "max_width": null,
            "order": null,
            "_view_module_version": "1.2.0",
            "grid_template_areas": null,
            "object_position": null,
            "object_fit": null,
            "grid_auto_columns": null,
            "margin": null,
            "display": null,
            "left": null
          }
        },
        "3ac0e92b574d42c9a52a1e4831870294": {
          "model_module": "@jupyter-widgets/controls",
          "model_name": "HBoxModel",
          "state": {
            "_view_name": "HBoxView",
            "_dom_classes": [],
            "_model_name": "HBoxModel",
            "_view_module": "@jupyter-widgets/controls",
            "_model_module_version": "1.5.0",
            "_view_count": null,
            "_view_module_version": "1.5.0",
            "box_style": "",
            "layout": "IPY_MODEL_0626980e60f44170be50db1333445eeb",
            "_model_module": "@jupyter-widgets/controls",
            "children": [
              "IPY_MODEL_230a936708ba4b62a38e18d842f597ba",
              "IPY_MODEL_8c7c3290cdd74529989ca24c3161b9fb"
            ]
          }
        },
        "0626980e60f44170be50db1333445eeb": {
          "model_module": "@jupyter-widgets/base",
          "model_name": "LayoutModel",
          "state": {
            "_view_name": "LayoutView",
            "grid_template_rows": null,
            "right": null,
            "justify_content": null,
            "_view_module": "@jupyter-widgets/base",
            "overflow": null,
            "_model_module_version": "1.2.0",
            "_view_count": null,
            "flex_flow": null,
            "width": null,
            "min_width": null,
            "border": null,
            "align_items": null,
            "bottom": null,
            "_model_module": "@jupyter-widgets/base",
            "top": null,
            "grid_column": null,
            "overflow_y": null,
            "overflow_x": null,
            "grid_auto_flow": null,
            "grid_area": null,
            "grid_template_columns": null,
            "flex": null,
            "_model_name": "LayoutModel",
            "justify_items": null,
            "grid_row": null,
            "max_height": null,
            "align_content": null,
            "visibility": null,
            "align_self": null,
            "height": null,
            "min_height": null,
            "padding": null,
            "grid_auto_rows": null,
            "grid_gap": null,
            "max_width": null,
            "order": null,
            "_view_module_version": "1.2.0",
            "grid_template_areas": null,
            "object_position": null,
            "object_fit": null,
            "grid_auto_columns": null,
            "margin": null,
            "display": null,
            "left": null
          }
        },
        "230a936708ba4b62a38e18d842f597ba": {
          "model_module": "@jupyter-widgets/controls",
          "model_name": "FloatProgressModel",
          "state": {
            "_view_name": "ProgressView",
            "style": "IPY_MODEL_f6f57a972822467d87b62ce54cfd01ed",
            "_dom_classes": [],
            "description": "100%",
            "_model_name": "FloatProgressModel",
            "bar_style": "success",
            "max": 4620,
            "_view_module": "@jupyter-widgets/controls",
            "_model_module_version": "1.5.0",
            "value": 4620,
            "_view_count": null,
            "_view_module_version": "1.5.0",
            "orientation": "horizontal",
            "min": 0,
            "description_tooltip": null,
            "_model_module": "@jupyter-widgets/controls",
            "layout": "IPY_MODEL_1a55522c4f1a41fd9637794c7a21fd92"
          }
        },
        "8c7c3290cdd74529989ca24c3161b9fb": {
          "model_module": "@jupyter-widgets/controls",
          "model_name": "HTMLModel",
          "state": {
            "_view_name": "HTMLView",
            "style": "IPY_MODEL_3cf28cb02b9943b98d82adecd91a0ba8",
            "_dom_classes": [],
            "description": "",
            "_model_name": "HTMLModel",
            "placeholder": "​",
            "_view_module": "@jupyter-widgets/controls",
            "_model_module_version": "1.5.0",
            "value": " 4620/4620 [02:12&lt;00:00, 34.94ex/s]",
            "_view_count": null,
            "_view_module_version": "1.5.0",
            "description_tooltip": null,
            "_model_module": "@jupyter-widgets/controls",
            "layout": "IPY_MODEL_e89bba625f214630a5f967597a8bcbab"
          }
        },
        "f6f57a972822467d87b62ce54cfd01ed": {
          "model_module": "@jupyter-widgets/controls",
          "model_name": "ProgressStyleModel",
          "state": {
            "_view_name": "StyleView",
            "_model_name": "ProgressStyleModel",
            "description_width": "initial",
            "_view_module": "@jupyter-widgets/base",
            "_model_module_version": "1.5.0",
            "_view_count": null,
            "_view_module_version": "1.2.0",
            "bar_color": null,
            "_model_module": "@jupyter-widgets/controls"
          }
        },
        "1a55522c4f1a41fd9637794c7a21fd92": {
          "model_module": "@jupyter-widgets/base",
          "model_name": "LayoutModel",
          "state": {
            "_view_name": "LayoutView",
            "grid_template_rows": null,
            "right": null,
            "justify_content": null,
            "_view_module": "@jupyter-widgets/base",
            "overflow": null,
            "_model_module_version": "1.2.0",
            "_view_count": null,
            "flex_flow": null,
            "width": null,
            "min_width": null,
            "border": null,
            "align_items": null,
            "bottom": null,
            "_model_module": "@jupyter-widgets/base",
            "top": null,
            "grid_column": null,
            "overflow_y": null,
            "overflow_x": null,
            "grid_auto_flow": null,
            "grid_area": null,
            "grid_template_columns": null,
            "flex": null,
            "_model_name": "LayoutModel",
            "justify_items": null,
            "grid_row": null,
            "max_height": null,
            "align_content": null,
            "visibility": null,
            "align_self": null,
            "height": null,
            "min_height": null,
            "padding": null,
            "grid_auto_rows": null,
            "grid_gap": null,
            "max_width": null,
            "order": null,
            "_view_module_version": "1.2.0",
            "grid_template_areas": null,
            "object_position": null,
            "object_fit": null,
            "grid_auto_columns": null,
            "margin": null,
            "display": null,
            "left": null
          }
        },
        "3cf28cb02b9943b98d82adecd91a0ba8": {
          "model_module": "@jupyter-widgets/controls",
          "model_name": "DescriptionStyleModel",
          "state": {
            "_view_name": "StyleView",
            "_model_name": "DescriptionStyleModel",
            "description_width": "",
            "_view_module": "@jupyter-widgets/base",
            "_model_module_version": "1.5.0",
            "_view_count": null,
            "_view_module_version": "1.2.0",
            "_model_module": "@jupyter-widgets/controls"
          }
        },
        "e89bba625f214630a5f967597a8bcbab": {
          "model_module": "@jupyter-widgets/base",
          "model_name": "LayoutModel",
          "state": {
            "_view_name": "LayoutView",
            "grid_template_rows": null,
            "right": null,
            "justify_content": null,
            "_view_module": "@jupyter-widgets/base",
            "overflow": null,
            "_model_module_version": "1.2.0",
            "_view_count": null,
            "flex_flow": null,
            "width": null,
            "min_width": null,
            "border": null,
            "align_items": null,
            "bottom": null,
            "_model_module": "@jupyter-widgets/base",
            "top": null,
            "grid_column": null,
            "overflow_y": null,
            "overflow_x": null,
            "grid_auto_flow": null,
            "grid_area": null,
            "grid_template_columns": null,
            "flex": null,
            "_model_name": "LayoutModel",
            "justify_items": null,
            "grid_row": null,
            "max_height": null,
            "align_content": null,
            "visibility": null,
            "align_self": null,
            "height": null,
            "min_height": null,
            "padding": null,
            "grid_auto_rows": null,
            "grid_gap": null,
            "max_width": null,
            "order": null,
            "_view_module_version": "1.2.0",
            "grid_template_areas": null,
            "object_position": null,
            "object_fit": null,
            "grid_auto_columns": null,
            "margin": null,
            "display": null,
            "left": null
          }
        },
        "ae90545dfe8d47609ce1cd556e20a8c7": {
          "model_module": "@jupyter-widgets/controls",
          "model_name": "HBoxModel",
          "state": {
            "_view_name": "HBoxView",
            "_dom_classes": [],
            "_model_name": "HBoxModel",
            "_view_module": "@jupyter-widgets/controls",
            "_model_module_version": "1.5.0",
            "_view_count": null,
            "_view_module_version": "1.5.0",
            "box_style": "",
            "layout": "IPY_MODEL_fd45dd913cae43988ddb638520f2e7d5",
            "_model_module": "@jupyter-widgets/controls",
            "children": [
              "IPY_MODEL_d4b0d72054314069b849cd452046280d",
              "IPY_MODEL_6cfe5642c83d41c389ccf283619add8b"
            ]
          }
        },
        "fd45dd913cae43988ddb638520f2e7d5": {
          "model_module": "@jupyter-widgets/base",
          "model_name": "LayoutModel",
          "state": {
            "_view_name": "LayoutView",
            "grid_template_rows": null,
            "right": null,
            "justify_content": null,
            "_view_module": "@jupyter-widgets/base",
            "overflow": null,
            "_model_module_version": "1.2.0",
            "_view_count": null,
            "flex_flow": null,
            "width": null,
            "min_width": null,
            "border": null,
            "align_items": null,
            "bottom": null,
            "_model_module": "@jupyter-widgets/base",
            "top": null,
            "grid_column": null,
            "overflow_y": null,
            "overflow_x": null,
            "grid_auto_flow": null,
            "grid_area": null,
            "grid_template_columns": null,
            "flex": null,
            "_model_name": "LayoutModel",
            "justify_items": null,
            "grid_row": null,
            "max_height": null,
            "align_content": null,
            "visibility": null,
            "align_self": null,
            "height": null,
            "min_height": null,
            "padding": null,
            "grid_auto_rows": null,
            "grid_gap": null,
            "max_width": null,
            "order": null,
            "_view_module_version": "1.2.0",
            "grid_template_areas": null,
            "object_position": null,
            "object_fit": null,
            "grid_auto_columns": null,
            "margin": null,
            "display": null,
            "left": null
          }
        },
        "d4b0d72054314069b849cd452046280d": {
          "model_module": "@jupyter-widgets/controls",
          "model_name": "FloatProgressModel",
          "state": {
            "_view_name": "ProgressView",
            "style": "IPY_MODEL_9e63ee7f603b48d4875013347ce25b6b",
            "_dom_classes": [],
            "description": "100%",
            "_model_name": "FloatProgressModel",
            "bar_style": "success",
            "max": 1680,
            "_view_module": "@jupyter-widgets/controls",
            "_model_module_version": "1.5.0",
            "value": 1680,
            "_view_count": null,
            "_view_module_version": "1.5.0",
            "orientation": "horizontal",
            "min": 0,
            "description_tooltip": null,
            "_model_module": "@jupyter-widgets/controls",
            "layout": "IPY_MODEL_97129fa1abfd43c6b37ed4e847290136"
          }
        },
        "6cfe5642c83d41c389ccf283619add8b": {
          "model_module": "@jupyter-widgets/controls",
          "model_name": "HTMLModel",
          "state": {
            "_view_name": "HTMLView",
            "style": "IPY_MODEL_7cd55304e52a4133a9782c1ee75326b3",
            "_dom_classes": [],
            "description": "",
            "_model_name": "HTMLModel",
            "placeholder": "​",
            "_view_module": "@jupyter-widgets/controls",
            "_model_module_version": "1.5.0",
            "value": " 1680/1680 [00:02&lt;00:00, 656.61ex/s]",
            "_view_count": null,
            "_view_module_version": "1.5.0",
            "description_tooltip": null,
            "_model_module": "@jupyter-widgets/controls",
            "layout": "IPY_MODEL_5609402a768649a4992739c7f86beb73"
          }
        },
        "9e63ee7f603b48d4875013347ce25b6b": {
          "model_module": "@jupyter-widgets/controls",
          "model_name": "ProgressStyleModel",
          "state": {
            "_view_name": "StyleView",
            "_model_name": "ProgressStyleModel",
            "description_width": "initial",
            "_view_module": "@jupyter-widgets/base",
            "_model_module_version": "1.5.0",
            "_view_count": null,
            "_view_module_version": "1.2.0",
            "bar_color": null,
            "_model_module": "@jupyter-widgets/controls"
          }
        },
        "97129fa1abfd43c6b37ed4e847290136": {
          "model_module": "@jupyter-widgets/base",
          "model_name": "LayoutModel",
          "state": {
            "_view_name": "LayoutView",
            "grid_template_rows": null,
            "right": null,
            "justify_content": null,
            "_view_module": "@jupyter-widgets/base",
            "overflow": null,
            "_model_module_version": "1.2.0",
            "_view_count": null,
            "flex_flow": null,
            "width": null,
            "min_width": null,
            "border": null,
            "align_items": null,
            "bottom": null,
            "_model_module": "@jupyter-widgets/base",
            "top": null,
            "grid_column": null,
            "overflow_y": null,
            "overflow_x": null,
            "grid_auto_flow": null,
            "grid_area": null,
            "grid_template_columns": null,
            "flex": null,
            "_model_name": "LayoutModel",
            "justify_items": null,
            "grid_row": null,
            "max_height": null,
            "align_content": null,
            "visibility": null,
            "align_self": null,
            "height": null,
            "min_height": null,
            "padding": null,
            "grid_auto_rows": null,
            "grid_gap": null,
            "max_width": null,
            "order": null,
            "_view_module_version": "1.2.0",
            "grid_template_areas": null,
            "object_position": null,
            "object_fit": null,
            "grid_auto_columns": null,
            "margin": null,
            "display": null,
            "left": null
          }
        },
        "7cd55304e52a4133a9782c1ee75326b3": {
          "model_module": "@jupyter-widgets/controls",
          "model_name": "DescriptionStyleModel",
          "state": {
            "_view_name": "StyleView",
            "_model_name": "DescriptionStyleModel",
            "description_width": "",
            "_view_module": "@jupyter-widgets/base",
            "_model_module_version": "1.5.0",
            "_view_count": null,
            "_view_module_version": "1.2.0",
            "_model_module": "@jupyter-widgets/controls"
          }
        },
        "5609402a768649a4992739c7f86beb73": {
          "model_module": "@jupyter-widgets/base",
          "model_name": "LayoutModel",
          "state": {
            "_view_name": "LayoutView",
            "grid_template_rows": null,
            "right": null,
            "justify_content": null,
            "_view_module": "@jupyter-widgets/base",
            "overflow": null,
            "_model_module_version": "1.2.0",
            "_view_count": null,
            "flex_flow": null,
            "width": null,
            "min_width": null,
            "border": null,
            "align_items": null,
            "bottom": null,
            "_model_module": "@jupyter-widgets/base",
            "top": null,
            "grid_column": null,
            "overflow_y": null,
            "overflow_x": null,
            "grid_auto_flow": null,
            "grid_area": null,
            "grid_template_columns": null,
            "flex": null,
            "_model_name": "LayoutModel",
            "justify_items": null,
            "grid_row": null,
            "max_height": null,
            "align_content": null,
            "visibility": null,
            "align_self": null,
            "height": null,
            "min_height": null,
            "padding": null,
            "grid_auto_rows": null,
            "grid_gap": null,
            "max_width": null,
            "order": null,
            "_view_module_version": "1.2.0",
            "grid_template_areas": null,
            "object_position": null,
            "object_fit": null,
            "grid_auto_columns": null,
            "margin": null,
            "display": null,
            "left": null
          }
        },
        "681b876c2d30450bad8e142366543ea4": {
          "model_module": "@jupyter-widgets/controls",
          "model_name": "HBoxModel",
          "state": {
            "_view_name": "HBoxView",
            "_dom_classes": [],
            "_model_name": "HBoxModel",
            "_view_module": "@jupyter-widgets/controls",
            "_model_module_version": "1.5.0",
            "_view_count": null,
            "_view_module_version": "1.5.0",
            "box_style": "",
            "layout": "IPY_MODEL_525a40c0c60a4c18bd3a24e831ad5106",
            "_model_module": "@jupyter-widgets/controls",
            "children": [
              "IPY_MODEL_582c9317470042388784983db9e6730b",
              "IPY_MODEL_15dbd85ea64449ffa76352a412e619d8"
            ]
          }
        },
        "525a40c0c60a4c18bd3a24e831ad5106": {
          "model_module": "@jupyter-widgets/base",
          "model_name": "LayoutModel",
          "state": {
            "_view_name": "LayoutView",
            "grid_template_rows": null,
            "right": null,
            "justify_content": null,
            "_view_module": "@jupyter-widgets/base",
            "overflow": null,
            "_model_module_version": "1.2.0",
            "_view_count": null,
            "flex_flow": null,
            "width": null,
            "min_width": null,
            "border": null,
            "align_items": null,
            "bottom": null,
            "_model_module": "@jupyter-widgets/base",
            "top": null,
            "grid_column": null,
            "overflow_y": null,
            "overflow_x": null,
            "grid_auto_flow": null,
            "grid_area": null,
            "grid_template_columns": null,
            "flex": null,
            "_model_name": "LayoutModel",
            "justify_items": null,
            "grid_row": null,
            "max_height": null,
            "align_content": null,
            "visibility": null,
            "align_self": null,
            "height": null,
            "min_height": null,
            "padding": null,
            "grid_auto_rows": null,
            "grid_gap": null,
            "max_width": null,
            "order": null,
            "_view_module_version": "1.2.0",
            "grid_template_areas": null,
            "object_position": null,
            "object_fit": null,
            "grid_auto_columns": null,
            "margin": null,
            "display": null,
            "left": null
          }
        },
        "582c9317470042388784983db9e6730b": {
          "model_module": "@jupyter-widgets/controls",
          "model_name": "FloatProgressModel",
          "state": {
            "_view_name": "ProgressView",
            "style": "IPY_MODEL_2affb86c5a63402ca55d3ed8a37fe782",
            "_dom_classes": [],
            "description": "100%",
            "_model_name": "FloatProgressModel",
            "bar_style": "success",
            "max": 4620,
            "_view_module": "@jupyter-widgets/controls",
            "_model_module_version": "1.5.0",
            "value": 4620,
            "_view_count": null,
            "_view_module_version": "1.5.0",
            "orientation": "horizontal",
            "min": 0,
            "description_tooltip": null,
            "_model_module": "@jupyter-widgets/controls",
            "layout": "IPY_MODEL_da94c40ca4a94db5b51ad2a2b78d98a4"
          }
        },
        "15dbd85ea64449ffa76352a412e619d8": {
          "model_module": "@jupyter-widgets/controls",
          "model_name": "HTMLModel",
          "state": {
            "_view_name": "HTMLView",
            "style": "IPY_MODEL_543d652b3bf846588bc83edddb4d0466",
            "_dom_classes": [],
            "description": "",
            "_model_name": "HTMLModel",
            "placeholder": "​",
            "_view_module": "@jupyter-widgets/controls",
            "_model_module_version": "1.5.0",
            "value": " 4620/4620 [00:01&lt;00:00, 2347.52ex/s]",
            "_view_count": null,
            "_view_module_version": "1.5.0",
            "description_tooltip": null,
            "_model_module": "@jupyter-widgets/controls",
            "layout": "IPY_MODEL_a64b87943f3f454393f41f41ebbae8bf"
          }
        },
        "2affb86c5a63402ca55d3ed8a37fe782": {
          "model_module": "@jupyter-widgets/controls",
          "model_name": "ProgressStyleModel",
          "state": {
            "_view_name": "StyleView",
            "_model_name": "ProgressStyleModel",
            "description_width": "initial",
            "_view_module": "@jupyter-widgets/base",
            "_model_module_version": "1.5.0",
            "_view_count": null,
            "_view_module_version": "1.2.0",
            "bar_color": null,
            "_model_module": "@jupyter-widgets/controls"
          }
        },
        "da94c40ca4a94db5b51ad2a2b78d98a4": {
          "model_module": "@jupyter-widgets/base",
          "model_name": "LayoutModel",
          "state": {
            "_view_name": "LayoutView",
            "grid_template_rows": null,
            "right": null,
            "justify_content": null,
            "_view_module": "@jupyter-widgets/base",
            "overflow": null,
            "_model_module_version": "1.2.0",
            "_view_count": null,
            "flex_flow": null,
            "width": null,
            "min_width": null,
            "border": null,
            "align_items": null,
            "bottom": null,
            "_model_module": "@jupyter-widgets/base",
            "top": null,
            "grid_column": null,
            "overflow_y": null,
            "overflow_x": null,
            "grid_auto_flow": null,
            "grid_area": null,
            "grid_template_columns": null,
            "flex": null,
            "_model_name": "LayoutModel",
            "justify_items": null,
            "grid_row": null,
            "max_height": null,
            "align_content": null,
            "visibility": null,
            "align_self": null,
            "height": null,
            "min_height": null,
            "padding": null,
            "grid_auto_rows": null,
            "grid_gap": null,
            "max_width": null,
            "order": null,
            "_view_module_version": "1.2.0",
            "grid_template_areas": null,
            "object_position": null,
            "object_fit": null,
            "grid_auto_columns": null,
            "margin": null,
            "display": null,
            "left": null
          }
        },
        "543d652b3bf846588bc83edddb4d0466": {
          "model_module": "@jupyter-widgets/controls",
          "model_name": "DescriptionStyleModel",
          "state": {
            "_view_name": "StyleView",
            "_model_name": "DescriptionStyleModel",
            "description_width": "",
            "_view_module": "@jupyter-widgets/base",
            "_model_module_version": "1.5.0",
            "_view_count": null,
            "_view_module_version": "1.2.0",
            "_model_module": "@jupyter-widgets/controls"
          }
        },
        "a64b87943f3f454393f41f41ebbae8bf": {
          "model_module": "@jupyter-widgets/base",
          "model_name": "LayoutModel",
          "state": {
            "_view_name": "LayoutView",
            "grid_template_rows": null,
            "right": null,
            "justify_content": null,
            "_view_module": "@jupyter-widgets/base",
            "overflow": null,
            "_model_module_version": "1.2.0",
            "_view_count": null,
            "flex_flow": null,
            "width": null,
            "min_width": null,
            "border": null,
            "align_items": null,
            "bottom": null,
            "_model_module": "@jupyter-widgets/base",
            "top": null,
            "grid_column": null,
            "overflow_y": null,
            "overflow_x": null,
            "grid_auto_flow": null,
            "grid_area": null,
            "grid_template_columns": null,
            "flex": null,
            "_model_name": "LayoutModel",
            "justify_items": null,
            "grid_row": null,
            "max_height": null,
            "align_content": null,
            "visibility": null,
            "align_self": null,
            "height": null,
            "min_height": null,
            "padding": null,
            "grid_auto_rows": null,
            "grid_gap": null,
            "max_width": null,
            "order": null,
            "_view_module_version": "1.2.0",
            "grid_template_areas": null,
            "object_position": null,
            "object_fit": null,
            "grid_auto_columns": null,
            "margin": null,
            "display": null,
            "left": null
          }
        },
        "5bbe9d8dbd1844cba25bd385635f8a80": {
          "model_module": "@jupyter-widgets/controls",
          "model_name": "HBoxModel",
          "state": {
            "_view_name": "HBoxView",
            "_dom_classes": [],
            "_model_name": "HBoxModel",
            "_view_module": "@jupyter-widgets/controls",
            "_model_module_version": "1.5.0",
            "_view_count": null,
            "_view_module_version": "1.5.0",
            "box_style": "",
            "layout": "IPY_MODEL_9aee7b8795e94a40a466a0e680ef0d8d",
            "_model_module": "@jupyter-widgets/controls",
            "children": [
              "IPY_MODEL_a2c71a60016f45988f16494b2781defc",
              "IPY_MODEL_93125b0699f945ac924ffadf76d01fd3"
            ]
          }
        },
        "9aee7b8795e94a40a466a0e680ef0d8d": {
          "model_module": "@jupyter-widgets/base",
          "model_name": "LayoutModel",
          "state": {
            "_view_name": "LayoutView",
            "grid_template_rows": null,
            "right": null,
            "justify_content": null,
            "_view_module": "@jupyter-widgets/base",
            "overflow": null,
            "_model_module_version": "1.2.0",
            "_view_count": null,
            "flex_flow": null,
            "width": null,
            "min_width": null,
            "border": null,
            "align_items": null,
            "bottom": null,
            "_model_module": "@jupyter-widgets/base",
            "top": null,
            "grid_column": null,
            "overflow_y": null,
            "overflow_x": null,
            "grid_auto_flow": null,
            "grid_area": null,
            "grid_template_columns": null,
            "flex": null,
            "_model_name": "LayoutModel",
            "justify_items": null,
            "grid_row": null,
            "max_height": null,
            "align_content": null,
            "visibility": null,
            "align_self": null,
            "height": null,
            "min_height": null,
            "padding": null,
            "grid_auto_rows": null,
            "grid_gap": null,
            "max_width": null,
            "order": null,
            "_view_module_version": "1.2.0",
            "grid_template_areas": null,
            "object_position": null,
            "object_fit": null,
            "grid_auto_columns": null,
            "margin": null,
            "display": null,
            "left": null
          }
        },
        "a2c71a60016f45988f16494b2781defc": {
          "model_module": "@jupyter-widgets/controls",
          "model_name": "FloatProgressModel",
          "state": {
            "_view_name": "ProgressView",
            "style": "IPY_MODEL_a8f78e417dee444f95208896a854975f",
            "_dom_classes": [],
            "description": "100%",
            "_model_name": "FloatProgressModel",
            "bar_style": "success",
            "max": 1680,
            "_view_module": "@jupyter-widgets/controls",
            "_model_module_version": "1.5.0",
            "value": 1680,
            "_view_count": null,
            "_view_module_version": "1.5.0",
            "orientation": "horizontal",
            "min": 0,
            "description_tooltip": null,
            "_model_module": "@jupyter-widgets/controls",
            "layout": "IPY_MODEL_32a376035f014e1c9ba6f373de0e33d0"
          }
        },
        "93125b0699f945ac924ffadf76d01fd3": {
          "model_module": "@jupyter-widgets/controls",
          "model_name": "HTMLModel",
          "state": {
            "_view_name": "HTMLView",
            "style": "IPY_MODEL_b9d6114e25254492b88c39567c60b4ab",
            "_dom_classes": [],
            "description": "",
            "_model_name": "HTMLModel",
            "placeholder": "​",
            "_view_module": "@jupyter-widgets/controls",
            "_model_module_version": "1.5.0",
            "value": " 1680/1680 [00:00&lt;00:00, 2170.07ex/s]",
            "_view_count": null,
            "_view_module_version": "1.5.0",
            "description_tooltip": null,
            "_model_module": "@jupyter-widgets/controls",
            "layout": "IPY_MODEL_7d7ebf6eb58b47b9b54167cd95e8b80d"
          }
        },
        "a8f78e417dee444f95208896a854975f": {
          "model_module": "@jupyter-widgets/controls",
          "model_name": "ProgressStyleModel",
          "state": {
            "_view_name": "StyleView",
            "_model_name": "ProgressStyleModel",
            "description_width": "initial",
            "_view_module": "@jupyter-widgets/base",
            "_model_module_version": "1.5.0",
            "_view_count": null,
            "_view_module_version": "1.2.0",
            "bar_color": null,
            "_model_module": "@jupyter-widgets/controls"
          }
        },
        "32a376035f014e1c9ba6f373de0e33d0": {
          "model_module": "@jupyter-widgets/base",
          "model_name": "LayoutModel",
          "state": {
            "_view_name": "LayoutView",
            "grid_template_rows": null,
            "right": null,
            "justify_content": null,
            "_view_module": "@jupyter-widgets/base",
            "overflow": null,
            "_model_module_version": "1.2.0",
            "_view_count": null,
            "flex_flow": null,
            "width": null,
            "min_width": null,
            "border": null,
            "align_items": null,
            "bottom": null,
            "_model_module": "@jupyter-widgets/base",
            "top": null,
            "grid_column": null,
            "overflow_y": null,
            "overflow_x": null,
            "grid_auto_flow": null,
            "grid_area": null,
            "grid_template_columns": null,
            "flex": null,
            "_model_name": "LayoutModel",
            "justify_items": null,
            "grid_row": null,
            "max_height": null,
            "align_content": null,
            "visibility": null,
            "align_self": null,
            "height": null,
            "min_height": null,
            "padding": null,
            "grid_auto_rows": null,
            "grid_gap": null,
            "max_width": null,
            "order": null,
            "_view_module_version": "1.2.0",
            "grid_template_areas": null,
            "object_position": null,
            "object_fit": null,
            "grid_auto_columns": null,
            "margin": null,
            "display": null,
            "left": null
          }
        },
        "b9d6114e25254492b88c39567c60b4ab": {
          "model_module": "@jupyter-widgets/controls",
          "model_name": "DescriptionStyleModel",
          "state": {
            "_view_name": "StyleView",
            "_model_name": "DescriptionStyleModel",
            "description_width": "",
            "_view_module": "@jupyter-widgets/base",
            "_model_module_version": "1.5.0",
            "_view_count": null,
            "_view_module_version": "1.2.0",
            "_model_module": "@jupyter-widgets/controls"
          }
        },
        "7d7ebf6eb58b47b9b54167cd95e8b80d": {
          "model_module": "@jupyter-widgets/base",
          "model_name": "LayoutModel",
          "state": {
            "_view_name": "LayoutView",
            "grid_template_rows": null,
            "right": null,
            "justify_content": null,
            "_view_module": "@jupyter-widgets/base",
            "overflow": null,
            "_model_module_version": "1.2.0",
            "_view_count": null,
            "flex_flow": null,
            "width": null,
            "min_width": null,
            "border": null,
            "align_items": null,
            "bottom": null,
            "_model_module": "@jupyter-widgets/base",
            "top": null,
            "grid_column": null,
            "overflow_y": null,
            "overflow_x": null,
            "grid_auto_flow": null,
            "grid_area": null,
            "grid_template_columns": null,
            "flex": null,
            "_model_name": "LayoutModel",
            "justify_items": null,
            "grid_row": null,
            "max_height": null,
            "align_content": null,
            "visibility": null,
            "align_self": null,
            "height": null,
            "min_height": null,
            "padding": null,
            "grid_auto_rows": null,
            "grid_gap": null,
            "max_width": null,
            "order": null,
            "_view_module_version": "1.2.0",
            "grid_template_areas": null,
            "object_position": null,
            "object_fit": null,
            "grid_auto_columns": null,
            "margin": null,
            "display": null,
            "left": null
          }
        },
        "7ebd1761eb5b4170a94ff09c970492d7": {
          "model_module": "@jupyter-widgets/controls",
          "model_name": "HBoxModel",
          "state": {
            "_view_name": "HBoxView",
            "_dom_classes": [],
            "_model_name": "HBoxModel",
            "_view_module": "@jupyter-widgets/controls",
            "_model_module_version": "1.5.0",
            "_view_count": null,
            "_view_module_version": "1.5.0",
            "box_style": "",
            "layout": "IPY_MODEL_4702a1afc8cc4f94b34fba7911d33aaf",
            "_model_module": "@jupyter-widgets/controls",
            "children": [
              "IPY_MODEL_2c5bb4d456254324bbefe02b0306a7af",
              "IPY_MODEL_6df901dc72624339b4f2a678915b4f32"
            ]
          }
        },
        "4702a1afc8cc4f94b34fba7911d33aaf": {
          "model_module": "@jupyter-widgets/base",
          "model_name": "LayoutModel",
          "state": {
            "_view_name": "LayoutView",
            "grid_template_rows": null,
            "right": null,
            "justify_content": null,
            "_view_module": "@jupyter-widgets/base",
            "overflow": null,
            "_model_module_version": "1.2.0",
            "_view_count": null,
            "flex_flow": null,
            "width": null,
            "min_width": null,
            "border": null,
            "align_items": null,
            "bottom": null,
            "_model_module": "@jupyter-widgets/base",
            "top": null,
            "grid_column": null,
            "overflow_y": null,
            "overflow_x": null,
            "grid_auto_flow": null,
            "grid_area": null,
            "grid_template_columns": null,
            "flex": null,
            "_model_name": "LayoutModel",
            "justify_items": null,
            "grid_row": null,
            "max_height": null,
            "align_content": null,
            "visibility": null,
            "align_self": null,
            "height": null,
            "min_height": null,
            "padding": null,
            "grid_auto_rows": null,
            "grid_gap": null,
            "max_width": null,
            "order": null,
            "_view_module_version": "1.2.0",
            "grid_template_areas": null,
            "object_position": null,
            "object_fit": null,
            "grid_auto_columns": null,
            "margin": null,
            "display": null,
            "left": null
          }
        },
        "2c5bb4d456254324bbefe02b0306a7af": {
          "model_module": "@jupyter-widgets/controls",
          "model_name": "FloatProgressModel",
          "state": {
            "_view_name": "ProgressView",
            "style": "IPY_MODEL_be520962446f4f2987d9368ca95c1a6a",
            "_dom_classes": [],
            "description": "100%",
            "_model_name": "FloatProgressModel",
            "bar_style": "success",
            "max": 4620,
            "_view_module": "@jupyter-widgets/controls",
            "_model_module_version": "1.5.0",
            "value": 4620,
            "_view_count": null,
            "_view_module_version": "1.5.0",
            "orientation": "horizontal",
            "min": 0,
            "description_tooltip": null,
            "_model_module": "@jupyter-widgets/controls",
            "layout": "IPY_MODEL_48459b0d4cee40888605626b79783434"
          }
        },
        "6df901dc72624339b4f2a678915b4f32": {
          "model_module": "@jupyter-widgets/controls",
          "model_name": "HTMLModel",
          "state": {
            "_view_name": "HTMLView",
            "style": "IPY_MODEL_863bc65d17c84218ab4b103fec472221",
            "_dom_classes": [],
            "description": "",
            "_model_name": "HTMLModel",
            "placeholder": "​",
            "_view_module": "@jupyter-widgets/controls",
            "_model_module_version": "1.5.0",
            "value": " 4620/4620 [02:08&lt;00:00, 35.92ex/s]",
            "_view_count": null,
            "_view_module_version": "1.5.0",
            "description_tooltip": null,
            "_model_module": "@jupyter-widgets/controls",
            "layout": "IPY_MODEL_243f26456bf54be0ad872dc2679dae65"
          }
        },
        "be520962446f4f2987d9368ca95c1a6a": {
          "model_module": "@jupyter-widgets/controls",
          "model_name": "ProgressStyleModel",
          "state": {
            "_view_name": "StyleView",
            "_model_name": "ProgressStyleModel",
            "description_width": "initial",
            "_view_module": "@jupyter-widgets/base",
            "_model_module_version": "1.5.0",
            "_view_count": null,
            "_view_module_version": "1.2.0",
            "bar_color": null,
            "_model_module": "@jupyter-widgets/controls"
          }
        },
        "48459b0d4cee40888605626b79783434": {
          "model_module": "@jupyter-widgets/base",
          "model_name": "LayoutModel",
          "state": {
            "_view_name": "LayoutView",
            "grid_template_rows": null,
            "right": null,
            "justify_content": null,
            "_view_module": "@jupyter-widgets/base",
            "overflow": null,
            "_model_module_version": "1.2.0",
            "_view_count": null,
            "flex_flow": null,
            "width": null,
            "min_width": null,
            "border": null,
            "align_items": null,
            "bottom": null,
            "_model_module": "@jupyter-widgets/base",
            "top": null,
            "grid_column": null,
            "overflow_y": null,
            "overflow_x": null,
            "grid_auto_flow": null,
            "grid_area": null,
            "grid_template_columns": null,
            "flex": null,
            "_model_name": "LayoutModel",
            "justify_items": null,
            "grid_row": null,
            "max_height": null,
            "align_content": null,
            "visibility": null,
            "align_self": null,
            "height": null,
            "min_height": null,
            "padding": null,
            "grid_auto_rows": null,
            "grid_gap": null,
            "max_width": null,
            "order": null,
            "_view_module_version": "1.2.0",
            "grid_template_areas": null,
            "object_position": null,
            "object_fit": null,
            "grid_auto_columns": null,
            "margin": null,
            "display": null,
            "left": null
          }
        },
        "863bc65d17c84218ab4b103fec472221": {
          "model_module": "@jupyter-widgets/controls",
          "model_name": "DescriptionStyleModel",
          "state": {
            "_view_name": "StyleView",
            "_model_name": "DescriptionStyleModel",
            "description_width": "",
            "_view_module": "@jupyter-widgets/base",
            "_model_module_version": "1.5.0",
            "_view_count": null,
            "_view_module_version": "1.2.0",
            "_model_module": "@jupyter-widgets/controls"
          }
        },
        "243f26456bf54be0ad872dc2679dae65": {
          "model_module": "@jupyter-widgets/base",
          "model_name": "LayoutModel",
          "state": {
            "_view_name": "LayoutView",
            "grid_template_rows": null,
            "right": null,
            "justify_content": null,
            "_view_module": "@jupyter-widgets/base",
            "overflow": null,
            "_model_module_version": "1.2.0",
            "_view_count": null,
            "flex_flow": null,
            "width": null,
            "min_width": null,
            "border": null,
            "align_items": null,
            "bottom": null,
            "_model_module": "@jupyter-widgets/base",
            "top": null,
            "grid_column": null,
            "overflow_y": null,
            "overflow_x": null,
            "grid_auto_flow": null,
            "grid_area": null,
            "grid_template_columns": null,
            "flex": null,
            "_model_name": "LayoutModel",
            "justify_items": null,
            "grid_row": null,
            "max_height": null,
            "align_content": null,
            "visibility": null,
            "align_self": null,
            "height": null,
            "min_height": null,
            "padding": null,
            "grid_auto_rows": null,
            "grid_gap": null,
            "max_width": null,
            "order": null,
            "_view_module_version": "1.2.0",
            "grid_template_areas": null,
            "object_position": null,
            "object_fit": null,
            "grid_auto_columns": null,
            "margin": null,
            "display": null,
            "left": null
          }
        },
        "161450e80fb948dfb53a5c7dcbcb6d6d": {
          "model_module": "@jupyter-widgets/controls",
          "model_name": "HBoxModel",
          "state": {
            "_view_name": "HBoxView",
            "_dom_classes": [],
            "_model_name": "HBoxModel",
            "_view_module": "@jupyter-widgets/controls",
            "_model_module_version": "1.5.0",
            "_view_count": null,
            "_view_module_version": "1.5.0",
            "box_style": "",
            "layout": "IPY_MODEL_aec3ea62d3c14d5eab0ef8288ee88ece",
            "_model_module": "@jupyter-widgets/controls",
            "children": [
              "IPY_MODEL_340cd65e23d34d41b9f0dc7f3dbfe8b8",
              "IPY_MODEL_fe53288dd16c42cf84feafdbf4304483"
            ]
          }
        },
        "aec3ea62d3c14d5eab0ef8288ee88ece": {
          "model_module": "@jupyter-widgets/base",
          "model_name": "LayoutModel",
          "state": {
            "_view_name": "LayoutView",
            "grid_template_rows": null,
            "right": null,
            "justify_content": null,
            "_view_module": "@jupyter-widgets/base",
            "overflow": null,
            "_model_module_version": "1.2.0",
            "_view_count": null,
            "flex_flow": null,
            "width": null,
            "min_width": null,
            "border": null,
            "align_items": null,
            "bottom": null,
            "_model_module": "@jupyter-widgets/base",
            "top": null,
            "grid_column": null,
            "overflow_y": null,
            "overflow_x": null,
            "grid_auto_flow": null,
            "grid_area": null,
            "grid_template_columns": null,
            "flex": null,
            "_model_name": "LayoutModel",
            "justify_items": null,
            "grid_row": null,
            "max_height": null,
            "align_content": null,
            "visibility": null,
            "align_self": null,
            "height": null,
            "min_height": null,
            "padding": null,
            "grid_auto_rows": null,
            "grid_gap": null,
            "max_width": null,
            "order": null,
            "_view_module_version": "1.2.0",
            "grid_template_areas": null,
            "object_position": null,
            "object_fit": null,
            "grid_auto_columns": null,
            "margin": null,
            "display": null,
            "left": null
          }
        },
        "340cd65e23d34d41b9f0dc7f3dbfe8b8": {
          "model_module": "@jupyter-widgets/controls",
          "model_name": "FloatProgressModel",
          "state": {
            "_view_name": "ProgressView",
            "style": "IPY_MODEL_85df2281868b43a3a3d2bf724f275bd5",
            "_dom_classes": [],
            "description": "100%",
            "_model_name": "FloatProgressModel",
            "bar_style": "success",
            "max": 1680,
            "_view_module": "@jupyter-widgets/controls",
            "_model_module_version": "1.5.0",
            "value": 1680,
            "_view_count": null,
            "_view_module_version": "1.5.0",
            "orientation": "horizontal",
            "min": 0,
            "description_tooltip": null,
            "_model_module": "@jupyter-widgets/controls",
            "layout": "IPY_MODEL_cb3aa27b964a411daf6ca3535e4f78ed"
          }
        },
        "fe53288dd16c42cf84feafdbf4304483": {
          "model_module": "@jupyter-widgets/controls",
          "model_name": "HTMLModel",
          "state": {
            "_view_name": "HTMLView",
            "style": "IPY_MODEL_44356154f0154b73b120d4bd9198df0a",
            "_dom_classes": [],
            "description": "",
            "_model_name": "HTMLModel",
            "placeholder": "​",
            "_view_module": "@jupyter-widgets/controls",
            "_model_module_version": "1.5.0",
            "value": " 1680/1680 [00:00&lt;00:00, 4090.19ex/s]",
            "_view_count": null,
            "_view_module_version": "1.5.0",
            "description_tooltip": null,
            "_model_module": "@jupyter-widgets/controls",
            "layout": "IPY_MODEL_f0e5c11099f64c0ca7ea55ee6819011c"
          }
        },
        "85df2281868b43a3a3d2bf724f275bd5": {
          "model_module": "@jupyter-widgets/controls",
          "model_name": "ProgressStyleModel",
          "state": {
            "_view_name": "StyleView",
            "_model_name": "ProgressStyleModel",
            "description_width": "initial",
            "_view_module": "@jupyter-widgets/base",
            "_model_module_version": "1.5.0",
            "_view_count": null,
            "_view_module_version": "1.2.0",
            "bar_color": null,
            "_model_module": "@jupyter-widgets/controls"
          }
        },
        "cb3aa27b964a411daf6ca3535e4f78ed": {
          "model_module": "@jupyter-widgets/base",
          "model_name": "LayoutModel",
          "state": {
            "_view_name": "LayoutView",
            "grid_template_rows": null,
            "right": null,
            "justify_content": null,
            "_view_module": "@jupyter-widgets/base",
            "overflow": null,
            "_model_module_version": "1.2.0",
            "_view_count": null,
            "flex_flow": null,
            "width": null,
            "min_width": null,
            "border": null,
            "align_items": null,
            "bottom": null,
            "_model_module": "@jupyter-widgets/base",
            "top": null,
            "grid_column": null,
            "overflow_y": null,
            "overflow_x": null,
            "grid_auto_flow": null,
            "grid_area": null,
            "grid_template_columns": null,
            "flex": null,
            "_model_name": "LayoutModel",
            "justify_items": null,
            "grid_row": null,
            "max_height": null,
            "align_content": null,
            "visibility": null,
            "align_self": null,
            "height": null,
            "min_height": null,
            "padding": null,
            "grid_auto_rows": null,
            "grid_gap": null,
            "max_width": null,
            "order": null,
            "_view_module_version": "1.2.0",
            "grid_template_areas": null,
            "object_position": null,
            "object_fit": null,
            "grid_auto_columns": null,
            "margin": null,
            "display": null,
            "left": null
          }
        },
        "44356154f0154b73b120d4bd9198df0a": {
          "model_module": "@jupyter-widgets/controls",
          "model_name": "DescriptionStyleModel",
          "state": {
            "_view_name": "StyleView",
            "_model_name": "DescriptionStyleModel",
            "description_width": "",
            "_view_module": "@jupyter-widgets/base",
            "_model_module_version": "1.5.0",
            "_view_count": null,
            "_view_module_version": "1.2.0",
            "_model_module": "@jupyter-widgets/controls"
          }
        },
        "f0e5c11099f64c0ca7ea55ee6819011c": {
          "model_module": "@jupyter-widgets/base",
          "model_name": "LayoutModel",
          "state": {
            "_view_name": "LayoutView",
            "grid_template_rows": null,
            "right": null,
            "justify_content": null,
            "_view_module": "@jupyter-widgets/base",
            "overflow": null,
            "_model_module_version": "1.2.0",
            "_view_count": null,
            "flex_flow": null,
            "width": null,
            "min_width": null,
            "border": null,
            "align_items": null,
            "bottom": null,
            "_model_module": "@jupyter-widgets/base",
            "top": null,
            "grid_column": null,
            "overflow_y": null,
            "overflow_x": null,
            "grid_auto_flow": null,
            "grid_area": null,
            "grid_template_columns": null,
            "flex": null,
            "_model_name": "LayoutModel",
            "justify_items": null,
            "grid_row": null,
            "max_height": null,
            "align_content": null,
            "visibility": null,
            "align_self": null,
            "height": null,
            "min_height": null,
            "padding": null,
            "grid_auto_rows": null,
            "grid_gap": null,
            "max_width": null,
            "order": null,
            "_view_module_version": "1.2.0",
            "grid_template_areas": null,
            "object_position": null,
            "object_fit": null,
            "grid_auto_columns": null,
            "margin": null,
            "display": null,
            "left": null
          }
        },
        "283f8d624d874e058bbab264772d4a75": {
          "model_module": "@jupyter-widgets/controls",
          "model_name": "HBoxModel",
          "state": {
            "_view_name": "HBoxView",
            "_dom_classes": [],
            "_model_name": "HBoxModel",
            "_view_module": "@jupyter-widgets/controls",
            "_model_module_version": "1.5.0",
            "_view_count": null,
            "_view_module_version": "1.5.0",
            "box_style": "",
            "layout": "IPY_MODEL_1dc1194705cf460991427b3f3290dc99",
            "_model_module": "@jupyter-widgets/controls",
            "children": [
              "IPY_MODEL_7fc48edefdaf4d7c880b43c776046c9b",
              "IPY_MODEL_016ff191d5fa4b26be24a435cd808b13"
            ]
          }
        },
        "1dc1194705cf460991427b3f3290dc99": {
          "model_module": "@jupyter-widgets/base",
          "model_name": "LayoutModel",
          "state": {
            "_view_name": "LayoutView",
            "grid_template_rows": null,
            "right": null,
            "justify_content": null,
            "_view_module": "@jupyter-widgets/base",
            "overflow": null,
            "_model_module_version": "1.2.0",
            "_view_count": null,
            "flex_flow": null,
            "width": null,
            "min_width": null,
            "border": null,
            "align_items": null,
            "bottom": null,
            "_model_module": "@jupyter-widgets/base",
            "top": null,
            "grid_column": null,
            "overflow_y": null,
            "overflow_x": null,
            "grid_auto_flow": null,
            "grid_area": null,
            "grid_template_columns": null,
            "flex": null,
            "_model_name": "LayoutModel",
            "justify_items": null,
            "grid_row": null,
            "max_height": null,
            "align_content": null,
            "visibility": null,
            "align_self": null,
            "height": null,
            "min_height": null,
            "padding": null,
            "grid_auto_rows": null,
            "grid_gap": null,
            "max_width": null,
            "order": null,
            "_view_module_version": "1.2.0",
            "grid_template_areas": null,
            "object_position": null,
            "object_fit": null,
            "grid_auto_columns": null,
            "margin": null,
            "display": null,
            "left": null
          }
        },
        "7fc48edefdaf4d7c880b43c776046c9b": {
          "model_module": "@jupyter-widgets/controls",
          "model_name": "FloatProgressModel",
          "state": {
            "_view_name": "ProgressView",
            "style": "IPY_MODEL_9255da2e468c46ceb89a9505e706f9d6",
            "_dom_classes": [],
            "description": "100%",
            "_model_name": "FloatProgressModel",
            "bar_style": "success",
            "max": 1,
            "_view_module": "@jupyter-widgets/controls",
            "_model_module_version": "1.5.0",
            "value": 1,
            "_view_count": null,
            "_view_module_version": "1.5.0",
            "orientation": "horizontal",
            "min": 0,
            "description_tooltip": null,
            "_model_module": "@jupyter-widgets/controls",
            "layout": "IPY_MODEL_b76a78f23db145dc88035ea47d05c5df"
          }
        },
        "016ff191d5fa4b26be24a435cd808b13": {
          "model_module": "@jupyter-widgets/controls",
          "model_name": "HTMLModel",
          "state": {
            "_view_name": "HTMLView",
            "style": "IPY_MODEL_f6c8d4aa936446349505a4c506e03b58",
            "_dom_classes": [],
            "description": "",
            "_model_name": "HTMLModel",
            "placeholder": "​",
            "_view_module": "@jupyter-widgets/controls",
            "_model_module_version": "1.5.0",
            "value": " 1/1 [00:00&lt;00:00,  4.64ba/s]",
            "_view_count": null,
            "_view_module_version": "1.5.0",
            "description_tooltip": null,
            "_model_module": "@jupyter-widgets/controls",
            "layout": "IPY_MODEL_366fa65915ec40ae87861058a59a2a45"
          }
        },
        "9255da2e468c46ceb89a9505e706f9d6": {
          "model_module": "@jupyter-widgets/controls",
          "model_name": "ProgressStyleModel",
          "state": {
            "_view_name": "StyleView",
            "_model_name": "ProgressStyleModel",
            "description_width": "initial",
            "_view_module": "@jupyter-widgets/base",
            "_model_module_version": "1.5.0",
            "_view_count": null,
            "_view_module_version": "1.2.0",
            "bar_color": null,
            "_model_module": "@jupyter-widgets/controls"
          }
        },
        "b76a78f23db145dc88035ea47d05c5df": {
          "model_module": "@jupyter-widgets/base",
          "model_name": "LayoutModel",
          "state": {
            "_view_name": "LayoutView",
            "grid_template_rows": null,
            "right": null,
            "justify_content": null,
            "_view_module": "@jupyter-widgets/base",
            "overflow": null,
            "_model_module_version": "1.2.0",
            "_view_count": null,
            "flex_flow": null,
            "width": null,
            "min_width": null,
            "border": null,
            "align_items": null,
            "bottom": null,
            "_model_module": "@jupyter-widgets/base",
            "top": null,
            "grid_column": null,
            "overflow_y": null,
            "overflow_x": null,
            "grid_auto_flow": null,
            "grid_area": null,
            "grid_template_columns": null,
            "flex": null,
            "_model_name": "LayoutModel",
            "justify_items": null,
            "grid_row": null,
            "max_height": null,
            "align_content": null,
            "visibility": null,
            "align_self": null,
            "height": null,
            "min_height": null,
            "padding": null,
            "grid_auto_rows": null,
            "grid_gap": null,
            "max_width": null,
            "order": null,
            "_view_module_version": "1.2.0",
            "grid_template_areas": null,
            "object_position": null,
            "object_fit": null,
            "grid_auto_columns": null,
            "margin": null,
            "display": null,
            "left": null
          }
        },
        "f6c8d4aa936446349505a4c506e03b58": {
          "model_module": "@jupyter-widgets/controls",
          "model_name": "DescriptionStyleModel",
          "state": {
            "_view_name": "StyleView",
            "_model_name": "DescriptionStyleModel",
            "description_width": "",
            "_view_module": "@jupyter-widgets/base",
            "_model_module_version": "1.5.0",
            "_view_count": null,
            "_view_module_version": "1.2.0",
            "_model_module": "@jupyter-widgets/controls"
          }
        },
        "366fa65915ec40ae87861058a59a2a45": {
          "model_module": "@jupyter-widgets/base",
          "model_name": "LayoutModel",
          "state": {
            "_view_name": "LayoutView",
            "grid_template_rows": null,
            "right": null,
            "justify_content": null,
            "_view_module": "@jupyter-widgets/base",
            "overflow": null,
            "_model_module_version": "1.2.0",
            "_view_count": null,
            "flex_flow": null,
            "width": null,
            "min_width": null,
            "border": null,
            "align_items": null,
            "bottom": null,
            "_model_module": "@jupyter-widgets/base",
            "top": null,
            "grid_column": null,
            "overflow_y": null,
            "overflow_x": null,
            "grid_auto_flow": null,
            "grid_area": null,
            "grid_template_columns": null,
            "flex": null,
            "_model_name": "LayoutModel",
            "justify_items": null,
            "grid_row": null,
            "max_height": null,
            "align_content": null,
            "visibility": null,
            "align_self": null,
            "height": null,
            "min_height": null,
            "padding": null,
            "grid_auto_rows": null,
            "grid_gap": null,
            "max_width": null,
            "order": null,
            "_view_module_version": "1.2.0",
            "grid_template_areas": null,
            "object_position": null,
            "object_fit": null,
            "grid_auto_columns": null,
            "margin": null,
            "display": null,
            "left": null
          }
        },
        "4c33f7dd96f64c50acb537ba5cde2bec": {
          "model_module": "@jupyter-widgets/controls",
          "model_name": "HBoxModel",
          "state": {
            "_view_name": "HBoxView",
            "_dom_classes": [],
            "_model_name": "HBoxModel",
            "_view_module": "@jupyter-widgets/controls",
            "_model_module_version": "1.5.0",
            "_view_count": null,
            "_view_module_version": "1.5.0",
            "box_style": "",
            "layout": "IPY_MODEL_a2ed8fb1b5704897abd700d4628c0d4e",
            "_model_module": "@jupyter-widgets/controls",
            "children": [
              "IPY_MODEL_1b228b9f71404615a05f230578c43c79",
              "IPY_MODEL_ca3711acaaa445889d1179c8721acda8"
            ]
          }
        },
        "a2ed8fb1b5704897abd700d4628c0d4e": {
          "model_module": "@jupyter-widgets/base",
          "model_name": "LayoutModel",
          "state": {
            "_view_name": "LayoutView",
            "grid_template_rows": null,
            "right": null,
            "justify_content": null,
            "_view_module": "@jupyter-widgets/base",
            "overflow": null,
            "_model_module_version": "1.2.0",
            "_view_count": null,
            "flex_flow": null,
            "width": null,
            "min_width": null,
            "border": null,
            "align_items": null,
            "bottom": null,
            "_model_module": "@jupyter-widgets/base",
            "top": null,
            "grid_column": null,
            "overflow_y": null,
            "overflow_x": null,
            "grid_auto_flow": null,
            "grid_area": null,
            "grid_template_columns": null,
            "flex": null,
            "_model_name": "LayoutModel",
            "justify_items": null,
            "grid_row": null,
            "max_height": null,
            "align_content": null,
            "visibility": null,
            "align_self": null,
            "height": null,
            "min_height": null,
            "padding": null,
            "grid_auto_rows": null,
            "grid_gap": null,
            "max_width": null,
            "order": null,
            "_view_module_version": "1.2.0",
            "grid_template_areas": null,
            "object_position": null,
            "object_fit": null,
            "grid_auto_columns": null,
            "margin": null,
            "display": null,
            "left": null
          }
        },
        "1b228b9f71404615a05f230578c43c79": {
          "model_module": "@jupyter-widgets/controls",
          "model_name": "FloatProgressModel",
          "state": {
            "_view_name": "ProgressView",
            "style": "IPY_MODEL_76b3829760c8450e9273808599d8e27a",
            "_dom_classes": [],
            "description": "100%",
            "_model_name": "FloatProgressModel",
            "bar_style": "success",
            "max": 1,
            "_view_module": "@jupyter-widgets/controls",
            "_model_module_version": "1.5.0",
            "value": 1,
            "_view_count": null,
            "_view_module_version": "1.5.0",
            "orientation": "horizontal",
            "min": 0,
            "description_tooltip": null,
            "_model_module": "@jupyter-widgets/controls",
            "layout": "IPY_MODEL_ec7250270b3548f493216ac99957e83a"
          }
        },
        "ca3711acaaa445889d1179c8721acda8": {
          "model_module": "@jupyter-widgets/controls",
          "model_name": "HTMLModel",
          "state": {
            "_view_name": "HTMLView",
            "style": "IPY_MODEL_800a63600ce84e41ab1be2d826101e29",
            "_dom_classes": [],
            "description": "",
            "_model_name": "HTMLModel",
            "placeholder": "​",
            "_view_module": "@jupyter-widgets/controls",
            "_model_module_version": "1.5.0",
            "value": " 1/1 [02:07&lt;00:00, 127.88s/ba]",
            "_view_count": null,
            "_view_module_version": "1.5.0",
            "description_tooltip": null,
            "_model_module": "@jupyter-widgets/controls",
            "layout": "IPY_MODEL_090c7c7f7e1b4e11b7b9be2e512b927c"
          }
        },
        "76b3829760c8450e9273808599d8e27a": {
          "model_module": "@jupyter-widgets/controls",
          "model_name": "ProgressStyleModel",
          "state": {
            "_view_name": "StyleView",
            "_model_name": "ProgressStyleModel",
            "description_width": "initial",
            "_view_module": "@jupyter-widgets/base",
            "_model_module_version": "1.5.0",
            "_view_count": null,
            "_view_module_version": "1.2.0",
            "bar_color": null,
            "_model_module": "@jupyter-widgets/controls"
          }
        },
        "ec7250270b3548f493216ac99957e83a": {
          "model_module": "@jupyter-widgets/base",
          "model_name": "LayoutModel",
          "state": {
            "_view_name": "LayoutView",
            "grid_template_rows": null,
            "right": null,
            "justify_content": null,
            "_view_module": "@jupyter-widgets/base",
            "overflow": null,
            "_model_module_version": "1.2.0",
            "_view_count": null,
            "flex_flow": null,
            "width": null,
            "min_width": null,
            "border": null,
            "align_items": null,
            "bottom": null,
            "_model_module": "@jupyter-widgets/base",
            "top": null,
            "grid_column": null,
            "overflow_y": null,
            "overflow_x": null,
            "grid_auto_flow": null,
            "grid_area": null,
            "grid_template_columns": null,
            "flex": null,
            "_model_name": "LayoutModel",
            "justify_items": null,
            "grid_row": null,
            "max_height": null,
            "align_content": null,
            "visibility": null,
            "align_self": null,
            "height": null,
            "min_height": null,
            "padding": null,
            "grid_auto_rows": null,
            "grid_gap": null,
            "max_width": null,
            "order": null,
            "_view_module_version": "1.2.0",
            "grid_template_areas": null,
            "object_position": null,
            "object_fit": null,
            "grid_auto_columns": null,
            "margin": null,
            "display": null,
            "left": null
          }
        },
        "800a63600ce84e41ab1be2d826101e29": {
          "model_module": "@jupyter-widgets/controls",
          "model_name": "DescriptionStyleModel",
          "state": {
            "_view_name": "StyleView",
            "_model_name": "DescriptionStyleModel",
            "description_width": "",
            "_view_module": "@jupyter-widgets/base",
            "_model_module_version": "1.5.0",
            "_view_count": null,
            "_view_module_version": "1.2.0",
            "_model_module": "@jupyter-widgets/controls"
          }
        },
        "090c7c7f7e1b4e11b7b9be2e512b927c": {
          "model_module": "@jupyter-widgets/base",
          "model_name": "LayoutModel",
          "state": {
            "_view_name": "LayoutView",
            "grid_template_rows": null,
            "right": null,
            "justify_content": null,
            "_view_module": "@jupyter-widgets/base",
            "overflow": null,
            "_model_module_version": "1.2.0",
            "_view_count": null,
            "flex_flow": null,
            "width": null,
            "min_width": null,
            "border": null,
            "align_items": null,
            "bottom": null,
            "_model_module": "@jupyter-widgets/base",
            "top": null,
            "grid_column": null,
            "overflow_y": null,
            "overflow_x": null,
            "grid_auto_flow": null,
            "grid_area": null,
            "grid_template_columns": null,
            "flex": null,
            "_model_name": "LayoutModel",
            "justify_items": null,
            "grid_row": null,
            "max_height": null,
            "align_content": null,
            "visibility": null,
            "align_self": null,
            "height": null,
            "min_height": null,
            "padding": null,
            "grid_auto_rows": null,
            "grid_gap": null,
            "max_width": null,
            "order": null,
            "_view_module_version": "1.2.0",
            "grid_template_areas": null,
            "object_position": null,
            "object_fit": null,
            "grid_auto_columns": null,
            "margin": null,
            "display": null,
            "left": null
          }
        },
        "d92dadb4085c4f2685def6d371b13335": {
          "model_module": "@jupyter-widgets/controls",
          "model_name": "HBoxModel",
          "state": {
            "_view_name": "HBoxView",
            "_dom_classes": [],
            "_model_name": "HBoxModel",
            "_view_module": "@jupyter-widgets/controls",
            "_model_module_version": "1.5.0",
            "_view_count": null,
            "_view_module_version": "1.5.0",
            "box_style": "",
            "layout": "IPY_MODEL_dd87f7858b0f4a4e8cd78b92f29d41fa",
            "_model_module": "@jupyter-widgets/controls",
            "children": [
              "IPY_MODEL_8a3d1c5ce12b4fa9b99840be13fd14a9",
              "IPY_MODEL_cd7cce09aede4be6a48e44e3cc7291c1"
            ]
          }
        },
        "dd87f7858b0f4a4e8cd78b92f29d41fa": {
          "model_module": "@jupyter-widgets/base",
          "model_name": "LayoutModel",
          "state": {
            "_view_name": "LayoutView",
            "grid_template_rows": null,
            "right": null,
            "justify_content": null,
            "_view_module": "@jupyter-widgets/base",
            "overflow": null,
            "_model_module_version": "1.2.0",
            "_view_count": null,
            "flex_flow": null,
            "width": null,
            "min_width": null,
            "border": null,
            "align_items": null,
            "bottom": null,
            "_model_module": "@jupyter-widgets/base",
            "top": null,
            "grid_column": null,
            "overflow_y": null,
            "overflow_x": null,
            "grid_auto_flow": null,
            "grid_area": null,
            "grid_template_columns": null,
            "flex": null,
            "_model_name": "LayoutModel",
            "justify_items": null,
            "grid_row": null,
            "max_height": null,
            "align_content": null,
            "visibility": null,
            "align_self": null,
            "height": null,
            "min_height": null,
            "padding": null,
            "grid_auto_rows": null,
            "grid_gap": null,
            "max_width": null,
            "order": null,
            "_view_module_version": "1.2.0",
            "grid_template_areas": null,
            "object_position": null,
            "object_fit": null,
            "grid_auto_columns": null,
            "margin": null,
            "display": null,
            "left": null
          }
        },
        "8a3d1c5ce12b4fa9b99840be13fd14a9": {
          "model_module": "@jupyter-widgets/controls",
          "model_name": "FloatProgressModel",
          "state": {
            "_view_name": "ProgressView",
            "style": "IPY_MODEL_88acad16480742ce9f045dd5c0de235d",
            "_dom_classes": [],
            "description": "#1: 100%",
            "_model_name": "FloatProgressModel",
            "bar_style": "success",
            "max": 1155,
            "_view_module": "@jupyter-widgets/controls",
            "_model_module_version": "1.5.0",
            "value": 1155,
            "_view_count": null,
            "_view_module_version": "1.5.0",
            "orientation": "horizontal",
            "min": 0,
            "description_tooltip": null,
            "_model_module": "@jupyter-widgets/controls",
            "layout": "IPY_MODEL_2805d00306ad41a0b0225e193e33796a"
          }
        },
        "cd7cce09aede4be6a48e44e3cc7291c1": {
          "model_module": "@jupyter-widgets/controls",
          "model_name": "HTMLModel",
          "state": {
            "_view_name": "HTMLView",
            "style": "IPY_MODEL_8caab09c38074d1aa348f72df18294db",
            "_dom_classes": [],
            "description": "",
            "_model_name": "HTMLModel",
            "placeholder": "​",
            "_view_module": "@jupyter-widgets/controls",
            "_model_module_version": "1.5.0",
            "value": " 1155/1155 [00:08&lt;00:00, 129.33ex/s]",
            "_view_count": null,
            "_view_module_version": "1.5.0",
            "description_tooltip": null,
            "_model_module": "@jupyter-widgets/controls",
            "layout": "IPY_MODEL_6134405d325f493dbe5fd6ecc477010f"
          }
        },
        "88acad16480742ce9f045dd5c0de235d": {
          "model_module": "@jupyter-widgets/controls",
          "model_name": "ProgressStyleModel",
          "state": {
            "_view_name": "StyleView",
            "_model_name": "ProgressStyleModel",
            "description_width": "initial",
            "_view_module": "@jupyter-widgets/base",
            "_model_module_version": "1.5.0",
            "_view_count": null,
            "_view_module_version": "1.2.0",
            "bar_color": null,
            "_model_module": "@jupyter-widgets/controls"
          }
        },
        "2805d00306ad41a0b0225e193e33796a": {
          "model_module": "@jupyter-widgets/base",
          "model_name": "LayoutModel",
          "state": {
            "_view_name": "LayoutView",
            "grid_template_rows": null,
            "right": null,
            "justify_content": null,
            "_view_module": "@jupyter-widgets/base",
            "overflow": null,
            "_model_module_version": "1.2.0",
            "_view_count": null,
            "flex_flow": null,
            "width": null,
            "min_width": null,
            "border": null,
            "align_items": null,
            "bottom": null,
            "_model_module": "@jupyter-widgets/base",
            "top": null,
            "grid_column": null,
            "overflow_y": null,
            "overflow_x": null,
            "grid_auto_flow": null,
            "grid_area": null,
            "grid_template_columns": null,
            "flex": null,
            "_model_name": "LayoutModel",
            "justify_items": null,
            "grid_row": null,
            "max_height": null,
            "align_content": null,
            "visibility": null,
            "align_self": null,
            "height": null,
            "min_height": null,
            "padding": null,
            "grid_auto_rows": null,
            "grid_gap": null,
            "max_width": null,
            "order": null,
            "_view_module_version": "1.2.0",
            "grid_template_areas": null,
            "object_position": null,
            "object_fit": null,
            "grid_auto_columns": null,
            "margin": null,
            "display": null,
            "left": null
          }
        },
        "8caab09c38074d1aa348f72df18294db": {
          "model_module": "@jupyter-widgets/controls",
          "model_name": "DescriptionStyleModel",
          "state": {
            "_view_name": "StyleView",
            "_model_name": "DescriptionStyleModel",
            "description_width": "",
            "_view_module": "@jupyter-widgets/base",
            "_model_module_version": "1.5.0",
            "_view_count": null,
            "_view_module_version": "1.2.0",
            "_model_module": "@jupyter-widgets/controls"
          }
        },
        "6134405d325f493dbe5fd6ecc477010f": {
          "model_module": "@jupyter-widgets/base",
          "model_name": "LayoutModel",
          "state": {
            "_view_name": "LayoutView",
            "grid_template_rows": null,
            "right": null,
            "justify_content": null,
            "_view_module": "@jupyter-widgets/base",
            "overflow": null,
            "_model_module_version": "1.2.0",
            "_view_count": null,
            "flex_flow": null,
            "width": null,
            "min_width": null,
            "border": null,
            "align_items": null,
            "bottom": null,
            "_model_module": "@jupyter-widgets/base",
            "top": null,
            "grid_column": null,
            "overflow_y": null,
            "overflow_x": null,
            "grid_auto_flow": null,
            "grid_area": null,
            "grid_template_columns": null,
            "flex": null,
            "_model_name": "LayoutModel",
            "justify_items": null,
            "grid_row": null,
            "max_height": null,
            "align_content": null,
            "visibility": null,
            "align_self": null,
            "height": null,
            "min_height": null,
            "padding": null,
            "grid_auto_rows": null,
            "grid_gap": null,
            "max_width": null,
            "order": null,
            "_view_module_version": "1.2.0",
            "grid_template_areas": null,
            "object_position": null,
            "object_fit": null,
            "grid_auto_columns": null,
            "margin": null,
            "display": null,
            "left": null
          }
        },
        "8d372a6dd9104ab39b8e1ac8b5513356": {
          "model_module": "@jupyter-widgets/controls",
          "model_name": "HBoxModel",
          "state": {
            "_view_name": "HBoxView",
            "_dom_classes": [],
            "_model_name": "HBoxModel",
            "_view_module": "@jupyter-widgets/controls",
            "_model_module_version": "1.5.0",
            "_view_count": null,
            "_view_module_version": "1.5.0",
            "box_style": "",
            "layout": "IPY_MODEL_a2cfbf4db8e3431d963383a50d9002bb",
            "_model_module": "@jupyter-widgets/controls",
            "children": [
              "IPY_MODEL_0c271dc3cd934aef81ad204ddb036771",
              "IPY_MODEL_90b406d0f882432b94f3c99e3972f0c4"
            ]
          }
        },
        "a2cfbf4db8e3431d963383a50d9002bb": {
          "model_module": "@jupyter-widgets/base",
          "model_name": "LayoutModel",
          "state": {
            "_view_name": "LayoutView",
            "grid_template_rows": null,
            "right": null,
            "justify_content": null,
            "_view_module": "@jupyter-widgets/base",
            "overflow": null,
            "_model_module_version": "1.2.0",
            "_view_count": null,
            "flex_flow": null,
            "width": null,
            "min_width": null,
            "border": null,
            "align_items": null,
            "bottom": null,
            "_model_module": "@jupyter-widgets/base",
            "top": null,
            "grid_column": null,
            "overflow_y": null,
            "overflow_x": null,
            "grid_auto_flow": null,
            "grid_area": null,
            "grid_template_columns": null,
            "flex": null,
            "_model_name": "LayoutModel",
            "justify_items": null,
            "grid_row": null,
            "max_height": null,
            "align_content": null,
            "visibility": null,
            "align_self": null,
            "height": null,
            "min_height": null,
            "padding": null,
            "grid_auto_rows": null,
            "grid_gap": null,
            "max_width": null,
            "order": null,
            "_view_module_version": "1.2.0",
            "grid_template_areas": null,
            "object_position": null,
            "object_fit": null,
            "grid_auto_columns": null,
            "margin": null,
            "display": null,
            "left": null
          }
        },
        "0c271dc3cd934aef81ad204ddb036771": {
          "model_module": "@jupyter-widgets/controls",
          "model_name": "FloatProgressModel",
          "state": {
            "_view_name": "ProgressView",
            "style": "IPY_MODEL_91cf91cbfdb249a3810eb726416eafa0",
            "_dom_classes": [],
            "description": "#2: 100%",
            "_model_name": "FloatProgressModel",
            "bar_style": "success",
            "max": 1155,
            "_view_module": "@jupyter-widgets/controls",
            "_model_module_version": "1.5.0",
            "value": 1155,
            "_view_count": null,
            "_view_module_version": "1.5.0",
            "orientation": "horizontal",
            "min": 0,
            "description_tooltip": null,
            "_model_module": "@jupyter-widgets/controls",
            "layout": "IPY_MODEL_b9015a5f4c164c6f83207576f2c7c95b"
          }
        },
        "90b406d0f882432b94f3c99e3972f0c4": {
          "model_module": "@jupyter-widgets/controls",
          "model_name": "HTMLModel",
          "state": {
            "_view_name": "HTMLView",
            "style": "IPY_MODEL_d5eabed49b9542c2b692a3df9a6a287b",
            "_dom_classes": [],
            "description": "",
            "_model_name": "HTMLModel",
            "placeholder": "​",
            "_view_module": "@jupyter-widgets/controls",
            "_model_module_version": "1.5.0",
            "value": " 1155/1155 [00:09&lt;00:00, 121.27ex/s]",
            "_view_count": null,
            "_view_module_version": "1.5.0",
            "description_tooltip": null,
            "_model_module": "@jupyter-widgets/controls",
            "layout": "IPY_MODEL_115d6d4565934ec4b1a741e70212bc92"
          }
        },
        "91cf91cbfdb249a3810eb726416eafa0": {
          "model_module": "@jupyter-widgets/controls",
          "model_name": "ProgressStyleModel",
          "state": {
            "_view_name": "StyleView",
            "_model_name": "ProgressStyleModel",
            "description_width": "initial",
            "_view_module": "@jupyter-widgets/base",
            "_model_module_version": "1.5.0",
            "_view_count": null,
            "_view_module_version": "1.2.0",
            "bar_color": null,
            "_model_module": "@jupyter-widgets/controls"
          }
        },
        "b9015a5f4c164c6f83207576f2c7c95b": {
          "model_module": "@jupyter-widgets/base",
          "model_name": "LayoutModel",
          "state": {
            "_view_name": "LayoutView",
            "grid_template_rows": null,
            "right": null,
            "justify_content": null,
            "_view_module": "@jupyter-widgets/base",
            "overflow": null,
            "_model_module_version": "1.2.0",
            "_view_count": null,
            "flex_flow": null,
            "width": null,
            "min_width": null,
            "border": null,
            "align_items": null,
            "bottom": null,
            "_model_module": "@jupyter-widgets/base",
            "top": null,
            "grid_column": null,
            "overflow_y": null,
            "overflow_x": null,
            "grid_auto_flow": null,
            "grid_area": null,
            "grid_template_columns": null,
            "flex": null,
            "_model_name": "LayoutModel",
            "justify_items": null,
            "grid_row": null,
            "max_height": null,
            "align_content": null,
            "visibility": null,
            "align_self": null,
            "height": null,
            "min_height": null,
            "padding": null,
            "grid_auto_rows": null,
            "grid_gap": null,
            "max_width": null,
            "order": null,
            "_view_module_version": "1.2.0",
            "grid_template_areas": null,
            "object_position": null,
            "object_fit": null,
            "grid_auto_columns": null,
            "margin": null,
            "display": null,
            "left": null
          }
        },
        "d5eabed49b9542c2b692a3df9a6a287b": {
          "model_module": "@jupyter-widgets/controls",
          "model_name": "DescriptionStyleModel",
          "state": {
            "_view_name": "StyleView",
            "_model_name": "DescriptionStyleModel",
            "description_width": "",
            "_view_module": "@jupyter-widgets/base",
            "_model_module_version": "1.5.0",
            "_view_count": null,
            "_view_module_version": "1.2.0",
            "_model_module": "@jupyter-widgets/controls"
          }
        },
        "115d6d4565934ec4b1a741e70212bc92": {
          "model_module": "@jupyter-widgets/base",
          "model_name": "LayoutModel",
          "state": {
            "_view_name": "LayoutView",
            "grid_template_rows": null,
            "right": null,
            "justify_content": null,
            "_view_module": "@jupyter-widgets/base",
            "overflow": null,
            "_model_module_version": "1.2.0",
            "_view_count": null,
            "flex_flow": null,
            "width": null,
            "min_width": null,
            "border": null,
            "align_items": null,
            "bottom": null,
            "_model_module": "@jupyter-widgets/base",
            "top": null,
            "grid_column": null,
            "overflow_y": null,
            "overflow_x": null,
            "grid_auto_flow": null,
            "grid_area": null,
            "grid_template_columns": null,
            "flex": null,
            "_model_name": "LayoutModel",
            "justify_items": null,
            "grid_row": null,
            "max_height": null,
            "align_content": null,
            "visibility": null,
            "align_self": null,
            "height": null,
            "min_height": null,
            "padding": null,
            "grid_auto_rows": null,
            "grid_gap": null,
            "max_width": null,
            "order": null,
            "_view_module_version": "1.2.0",
            "grid_template_areas": null,
            "object_position": null,
            "object_fit": null,
            "grid_auto_columns": null,
            "margin": null,
            "display": null,
            "left": null
          }
        },
        "b3fe0e57b5184d6599d724376bea0f3d": {
          "model_module": "@jupyter-widgets/controls",
          "model_name": "HBoxModel",
          "state": {
            "_view_name": "HBoxView",
            "_dom_classes": [],
            "_model_name": "HBoxModel",
            "_view_module": "@jupyter-widgets/controls",
            "_model_module_version": "1.5.0",
            "_view_count": null,
            "_view_module_version": "1.5.0",
            "box_style": "",
            "layout": "IPY_MODEL_d4600b41e12a4ee7a3e3986633b1db77",
            "_model_module": "@jupyter-widgets/controls",
            "children": [
              "IPY_MODEL_3a14f5d7c95d470797c2f9ada3f453da",
              "IPY_MODEL_39c4bf922cd2451a87488ece5e9760dc"
            ]
          }
        },
        "d4600b41e12a4ee7a3e3986633b1db77": {
          "model_module": "@jupyter-widgets/base",
          "model_name": "LayoutModel",
          "state": {
            "_view_name": "LayoutView",
            "grid_template_rows": null,
            "right": null,
            "justify_content": null,
            "_view_module": "@jupyter-widgets/base",
            "overflow": null,
            "_model_module_version": "1.2.0",
            "_view_count": null,
            "flex_flow": null,
            "width": null,
            "min_width": null,
            "border": null,
            "align_items": null,
            "bottom": null,
            "_model_module": "@jupyter-widgets/base",
            "top": null,
            "grid_column": null,
            "overflow_y": null,
            "overflow_x": null,
            "grid_auto_flow": null,
            "grid_area": null,
            "grid_template_columns": null,
            "flex": null,
            "_model_name": "LayoutModel",
            "justify_items": null,
            "grid_row": null,
            "max_height": null,
            "align_content": null,
            "visibility": null,
            "align_self": null,
            "height": null,
            "min_height": null,
            "padding": null,
            "grid_auto_rows": null,
            "grid_gap": null,
            "max_width": null,
            "order": null,
            "_view_module_version": "1.2.0",
            "grid_template_areas": null,
            "object_position": null,
            "object_fit": null,
            "grid_auto_columns": null,
            "margin": null,
            "display": null,
            "left": null
          }
        },
        "3a14f5d7c95d470797c2f9ada3f453da": {
          "model_module": "@jupyter-widgets/controls",
          "model_name": "FloatProgressModel",
          "state": {
            "_view_name": "ProgressView",
            "style": "IPY_MODEL_b1f056dc99f74689b5b0eb7d61cc4b53",
            "_dom_classes": [],
            "description": "#0: 100%",
            "_model_name": "FloatProgressModel",
            "bar_style": "success",
            "max": 1155,
            "_view_module": "@jupyter-widgets/controls",
            "_model_module_version": "1.5.0",
            "value": 1155,
            "_view_count": null,
            "_view_module_version": "1.5.0",
            "orientation": "horizontal",
            "min": 0,
            "description_tooltip": null,
            "_model_module": "@jupyter-widgets/controls",
            "layout": "IPY_MODEL_fcc67a7ef7e74e2ab7596f37a2ef40f7"
          }
        },
        "39c4bf922cd2451a87488ece5e9760dc": {
          "model_module": "@jupyter-widgets/controls",
          "model_name": "HTMLModel",
          "state": {
            "_view_name": "HTMLView",
            "style": "IPY_MODEL_b99726b3e13747aa859e8f64d3dba400",
            "_dom_classes": [],
            "description": "",
            "_model_name": "HTMLModel",
            "placeholder": "​",
            "_view_module": "@jupyter-widgets/controls",
            "_model_module_version": "1.5.0",
            "value": " 1155/1155 [00:08&lt;00:00, 136.10ex/s]",
            "_view_count": null,
            "_view_module_version": "1.5.0",
            "description_tooltip": null,
            "_model_module": "@jupyter-widgets/controls",
            "layout": "IPY_MODEL_621695ea1edc41dc80bf4f784161c40b"
          }
        },
        "b1f056dc99f74689b5b0eb7d61cc4b53": {
          "model_module": "@jupyter-widgets/controls",
          "model_name": "ProgressStyleModel",
          "state": {
            "_view_name": "StyleView",
            "_model_name": "ProgressStyleModel",
            "description_width": "initial",
            "_view_module": "@jupyter-widgets/base",
            "_model_module_version": "1.5.0",
            "_view_count": null,
            "_view_module_version": "1.2.0",
            "bar_color": null,
            "_model_module": "@jupyter-widgets/controls"
          }
        },
        "fcc67a7ef7e74e2ab7596f37a2ef40f7": {
          "model_module": "@jupyter-widgets/base",
          "model_name": "LayoutModel",
          "state": {
            "_view_name": "LayoutView",
            "grid_template_rows": null,
            "right": null,
            "justify_content": null,
            "_view_module": "@jupyter-widgets/base",
            "overflow": null,
            "_model_module_version": "1.2.0",
            "_view_count": null,
            "flex_flow": null,
            "width": null,
            "min_width": null,
            "border": null,
            "align_items": null,
            "bottom": null,
            "_model_module": "@jupyter-widgets/base",
            "top": null,
            "grid_column": null,
            "overflow_y": null,
            "overflow_x": null,
            "grid_auto_flow": null,
            "grid_area": null,
            "grid_template_columns": null,
            "flex": null,
            "_model_name": "LayoutModel",
            "justify_items": null,
            "grid_row": null,
            "max_height": null,
            "align_content": null,
            "visibility": null,
            "align_self": null,
            "height": null,
            "min_height": null,
            "padding": null,
            "grid_auto_rows": null,
            "grid_gap": null,
            "max_width": null,
            "order": null,
            "_view_module_version": "1.2.0",
            "grid_template_areas": null,
            "object_position": null,
            "object_fit": null,
            "grid_auto_columns": null,
            "margin": null,
            "display": null,
            "left": null
          }
        },
        "b99726b3e13747aa859e8f64d3dba400": {
          "model_module": "@jupyter-widgets/controls",
          "model_name": "DescriptionStyleModel",
          "state": {
            "_view_name": "StyleView",
            "_model_name": "DescriptionStyleModel",
            "description_width": "",
            "_view_module": "@jupyter-widgets/base",
            "_model_module_version": "1.5.0",
            "_view_count": null,
            "_view_module_version": "1.2.0",
            "_model_module": "@jupyter-widgets/controls"
          }
        },
        "621695ea1edc41dc80bf4f784161c40b": {
          "model_module": "@jupyter-widgets/base",
          "model_name": "LayoutModel",
          "state": {
            "_view_name": "LayoutView",
            "grid_template_rows": null,
            "right": null,
            "justify_content": null,
            "_view_module": "@jupyter-widgets/base",
            "overflow": null,
            "_model_module_version": "1.2.0",
            "_view_count": null,
            "flex_flow": null,
            "width": null,
            "min_width": null,
            "border": null,
            "align_items": null,
            "bottom": null,
            "_model_module": "@jupyter-widgets/base",
            "top": null,
            "grid_column": null,
            "overflow_y": null,
            "overflow_x": null,
            "grid_auto_flow": null,
            "grid_area": null,
            "grid_template_columns": null,
            "flex": null,
            "_model_name": "LayoutModel",
            "justify_items": null,
            "grid_row": null,
            "max_height": null,
            "align_content": null,
            "visibility": null,
            "align_self": null,
            "height": null,
            "min_height": null,
            "padding": null,
            "grid_auto_rows": null,
            "grid_gap": null,
            "max_width": null,
            "order": null,
            "_view_module_version": "1.2.0",
            "grid_template_areas": null,
            "object_position": null,
            "object_fit": null,
            "grid_auto_columns": null,
            "margin": null,
            "display": null,
            "left": null
          }
        },
        "c3048f5d33ce4e86a168273bfeb6d703": {
          "model_module": "@jupyter-widgets/controls",
          "model_name": "HBoxModel",
          "state": {
            "_view_name": "HBoxView",
            "_dom_classes": [],
            "_model_name": "HBoxModel",
            "_view_module": "@jupyter-widgets/controls",
            "_model_module_version": "1.5.0",
            "_view_count": null,
            "_view_module_version": "1.5.0",
            "box_style": "",
            "layout": "IPY_MODEL_6a64805b9059465397422178a90de67c",
            "_model_module": "@jupyter-widgets/controls",
            "children": [
              "IPY_MODEL_aab761d548c44fbb9eded151f2b1c289",
              "IPY_MODEL_925a46b4753d4f3b9b8f26ac07823e0b"
            ]
          }
        },
        "6a64805b9059465397422178a90de67c": {
          "model_module": "@jupyter-widgets/base",
          "model_name": "LayoutModel",
          "state": {
            "_view_name": "LayoutView",
            "grid_template_rows": null,
            "right": null,
            "justify_content": null,
            "_view_module": "@jupyter-widgets/base",
            "overflow": null,
            "_model_module_version": "1.2.0",
            "_view_count": null,
            "flex_flow": null,
            "width": null,
            "min_width": null,
            "border": null,
            "align_items": null,
            "bottom": null,
            "_model_module": "@jupyter-widgets/base",
            "top": null,
            "grid_column": null,
            "overflow_y": null,
            "overflow_x": null,
            "grid_auto_flow": null,
            "grid_area": null,
            "grid_template_columns": null,
            "flex": null,
            "_model_name": "LayoutModel",
            "justify_items": null,
            "grid_row": null,
            "max_height": null,
            "align_content": null,
            "visibility": null,
            "align_self": null,
            "height": null,
            "min_height": null,
            "padding": null,
            "grid_auto_rows": null,
            "grid_gap": null,
            "max_width": null,
            "order": null,
            "_view_module_version": "1.2.0",
            "grid_template_areas": null,
            "object_position": null,
            "object_fit": null,
            "grid_auto_columns": null,
            "margin": null,
            "display": null,
            "left": null
          }
        },
        "aab761d548c44fbb9eded151f2b1c289": {
          "model_module": "@jupyter-widgets/controls",
          "model_name": "FloatProgressModel",
          "state": {
            "_view_name": "ProgressView",
            "style": "IPY_MODEL_2c66fb49dff5468ca154866766698d82",
            "_dom_classes": [],
            "description": "#3: 100%",
            "_model_name": "FloatProgressModel",
            "bar_style": "success",
            "max": 1155,
            "_view_module": "@jupyter-widgets/controls",
            "_model_module_version": "1.5.0",
            "value": 1155,
            "_view_count": null,
            "_view_module_version": "1.5.0",
            "orientation": "horizontal",
            "min": 0,
            "description_tooltip": null,
            "_model_module": "@jupyter-widgets/controls",
            "layout": "IPY_MODEL_26b224ee80d24f09afe9f1b24d4720eb"
          }
        },
        "925a46b4753d4f3b9b8f26ac07823e0b": {
          "model_module": "@jupyter-widgets/controls",
          "model_name": "HTMLModel",
          "state": {
            "_view_name": "HTMLView",
            "style": "IPY_MODEL_b9e46adba1c94d5bbfa27a3deea6c2db",
            "_dom_classes": [],
            "description": "",
            "_model_name": "HTMLModel",
            "placeholder": "​",
            "_view_module": "@jupyter-widgets/controls",
            "_model_module_version": "1.5.0",
            "value": " 1155/1155 [00:09&lt;00:00, 122.34ex/s]",
            "_view_count": null,
            "_view_module_version": "1.5.0",
            "description_tooltip": null,
            "_model_module": "@jupyter-widgets/controls",
            "layout": "IPY_MODEL_b16ec31201484a63af77568cefd23088"
          }
        },
        "2c66fb49dff5468ca154866766698d82": {
          "model_module": "@jupyter-widgets/controls",
          "model_name": "ProgressStyleModel",
          "state": {
            "_view_name": "StyleView",
            "_model_name": "ProgressStyleModel",
            "description_width": "initial",
            "_view_module": "@jupyter-widgets/base",
            "_model_module_version": "1.5.0",
            "_view_count": null,
            "_view_module_version": "1.2.0",
            "bar_color": null,
            "_model_module": "@jupyter-widgets/controls"
          }
        },
        "26b224ee80d24f09afe9f1b24d4720eb": {
          "model_module": "@jupyter-widgets/base",
          "model_name": "LayoutModel",
          "state": {
            "_view_name": "LayoutView",
            "grid_template_rows": null,
            "right": null,
            "justify_content": null,
            "_view_module": "@jupyter-widgets/base",
            "overflow": null,
            "_model_module_version": "1.2.0",
            "_view_count": null,
            "flex_flow": null,
            "width": null,
            "min_width": null,
            "border": null,
            "align_items": null,
            "bottom": null,
            "_model_module": "@jupyter-widgets/base",
            "top": null,
            "grid_column": null,
            "overflow_y": null,
            "overflow_x": null,
            "grid_auto_flow": null,
            "grid_area": null,
            "grid_template_columns": null,
            "flex": null,
            "_model_name": "LayoutModel",
            "justify_items": null,
            "grid_row": null,
            "max_height": null,
            "align_content": null,
            "visibility": null,
            "align_self": null,
            "height": null,
            "min_height": null,
            "padding": null,
            "grid_auto_rows": null,
            "grid_gap": null,
            "max_width": null,
            "order": null,
            "_view_module_version": "1.2.0",
            "grid_template_areas": null,
            "object_position": null,
            "object_fit": null,
            "grid_auto_columns": null,
            "margin": null,
            "display": null,
            "left": null
          }
        },
        "b9e46adba1c94d5bbfa27a3deea6c2db": {
          "model_module": "@jupyter-widgets/controls",
          "model_name": "DescriptionStyleModel",
          "state": {
            "_view_name": "StyleView",
            "_model_name": "DescriptionStyleModel",
            "description_width": "",
            "_view_module": "@jupyter-widgets/base",
            "_model_module_version": "1.5.0",
            "_view_count": null,
            "_view_module_version": "1.2.0",
            "_model_module": "@jupyter-widgets/controls"
          }
        },
        "b16ec31201484a63af77568cefd23088": {
          "model_module": "@jupyter-widgets/base",
          "model_name": "LayoutModel",
          "state": {
            "_view_name": "LayoutView",
            "grid_template_rows": null,
            "right": null,
            "justify_content": null,
            "_view_module": "@jupyter-widgets/base",
            "overflow": null,
            "_model_module_version": "1.2.0",
            "_view_count": null,
            "flex_flow": null,
            "width": null,
            "min_width": null,
            "border": null,
            "align_items": null,
            "bottom": null,
            "_model_module": "@jupyter-widgets/base",
            "top": null,
            "grid_column": null,
            "overflow_y": null,
            "overflow_x": null,
            "grid_auto_flow": null,
            "grid_area": null,
            "grid_template_columns": null,
            "flex": null,
            "_model_name": "LayoutModel",
            "justify_items": null,
            "grid_row": null,
            "max_height": null,
            "align_content": null,
            "visibility": null,
            "align_self": null,
            "height": null,
            "min_height": null,
            "padding": null,
            "grid_auto_rows": null,
            "grid_gap": null,
            "max_width": null,
            "order": null,
            "_view_module_version": "1.2.0",
            "grid_template_areas": null,
            "object_position": null,
            "object_fit": null,
            "grid_auto_columns": null,
            "margin": null,
            "display": null,
            "left": null
          }
        },
        "5b2bac1cee3a4d208264f4098a56b085": {
          "model_module": "@jupyter-widgets/controls",
          "model_name": "HBoxModel",
          "state": {
            "_view_name": "HBoxView",
            "_dom_classes": [],
            "_model_name": "HBoxModel",
            "_view_module": "@jupyter-widgets/controls",
            "_model_module_version": "1.5.0",
            "_view_count": null,
            "_view_module_version": "1.5.0",
            "box_style": "",
            "layout": "IPY_MODEL_aeab32fed6254305836397e53a0c741a",
            "_model_module": "@jupyter-widgets/controls",
            "children": [
              "IPY_MODEL_1bd7b65cca144913895772d237f2abf2",
              "IPY_MODEL_eaec8cf26a6a4c909bf6cac0a97458c7"
            ]
          }
        },
        "aeab32fed6254305836397e53a0c741a": {
          "model_module": "@jupyter-widgets/base",
          "model_name": "LayoutModel",
          "state": {
            "_view_name": "LayoutView",
            "grid_template_rows": null,
            "right": null,
            "justify_content": null,
            "_view_module": "@jupyter-widgets/base",
            "overflow": null,
            "_model_module_version": "1.2.0",
            "_view_count": null,
            "flex_flow": null,
            "width": null,
            "min_width": null,
            "border": null,
            "align_items": null,
            "bottom": null,
            "_model_module": "@jupyter-widgets/base",
            "top": null,
            "grid_column": null,
            "overflow_y": null,
            "overflow_x": null,
            "grid_auto_flow": null,
            "grid_area": null,
            "grid_template_columns": null,
            "flex": null,
            "_model_name": "LayoutModel",
            "justify_items": null,
            "grid_row": null,
            "max_height": null,
            "align_content": null,
            "visibility": null,
            "align_self": null,
            "height": null,
            "min_height": null,
            "padding": null,
            "grid_auto_rows": null,
            "grid_gap": null,
            "max_width": null,
            "order": null,
            "_view_module_version": "1.2.0",
            "grid_template_areas": null,
            "object_position": null,
            "object_fit": null,
            "grid_auto_columns": null,
            "margin": null,
            "display": null,
            "left": null
          }
        },
        "1bd7b65cca144913895772d237f2abf2": {
          "model_module": "@jupyter-widgets/controls",
          "model_name": "FloatProgressModel",
          "state": {
            "_view_name": "ProgressView",
            "style": "IPY_MODEL_4755eee78d634315a8cc4601cb9a71eb",
            "_dom_classes": [],
            "description": "#0: 100%",
            "_model_name": "FloatProgressModel",
            "bar_style": "success",
            "max": 420,
            "_view_module": "@jupyter-widgets/controls",
            "_model_module_version": "1.5.0",
            "value": 420,
            "_view_count": null,
            "_view_module_version": "1.5.0",
            "orientation": "horizontal",
            "min": 0,
            "description_tooltip": null,
            "_model_module": "@jupyter-widgets/controls",
            "layout": "IPY_MODEL_096304a192864c8d8f0301e8bcedba75"
          }
        },
        "eaec8cf26a6a4c909bf6cac0a97458c7": {
          "model_module": "@jupyter-widgets/controls",
          "model_name": "HTMLModel",
          "state": {
            "_view_name": "HTMLView",
            "style": "IPY_MODEL_607eb59723934ca49ac4b7cac19bb520",
            "_dom_classes": [],
            "description": "",
            "_model_name": "HTMLModel",
            "placeholder": "​",
            "_view_module": "@jupyter-widgets/controls",
            "_model_module_version": "1.5.0",
            "value": " 420/420 [00:01&lt;00:00, 215.55ex/s]",
            "_view_count": null,
            "_view_module_version": "1.5.0",
            "description_tooltip": null,
            "_model_module": "@jupyter-widgets/controls",
            "layout": "IPY_MODEL_704f62b2290a41a2b5ab50313df64edd"
          }
        },
        "4755eee78d634315a8cc4601cb9a71eb": {
          "model_module": "@jupyter-widgets/controls",
          "model_name": "ProgressStyleModel",
          "state": {
            "_view_name": "StyleView",
            "_model_name": "ProgressStyleModel",
            "description_width": "initial",
            "_view_module": "@jupyter-widgets/base",
            "_model_module_version": "1.5.0",
            "_view_count": null,
            "_view_module_version": "1.2.0",
            "bar_color": null,
            "_model_module": "@jupyter-widgets/controls"
          }
        },
        "096304a192864c8d8f0301e8bcedba75": {
          "model_module": "@jupyter-widgets/base",
          "model_name": "LayoutModel",
          "state": {
            "_view_name": "LayoutView",
            "grid_template_rows": null,
            "right": null,
            "justify_content": null,
            "_view_module": "@jupyter-widgets/base",
            "overflow": null,
            "_model_module_version": "1.2.0",
            "_view_count": null,
            "flex_flow": null,
            "width": null,
            "min_width": null,
            "border": null,
            "align_items": null,
            "bottom": null,
            "_model_module": "@jupyter-widgets/base",
            "top": null,
            "grid_column": null,
            "overflow_y": null,
            "overflow_x": null,
            "grid_auto_flow": null,
            "grid_area": null,
            "grid_template_columns": null,
            "flex": null,
            "_model_name": "LayoutModel",
            "justify_items": null,
            "grid_row": null,
            "max_height": null,
            "align_content": null,
            "visibility": null,
            "align_self": null,
            "height": null,
            "min_height": null,
            "padding": null,
            "grid_auto_rows": null,
            "grid_gap": null,
            "max_width": null,
            "order": null,
            "_view_module_version": "1.2.0",
            "grid_template_areas": null,
            "object_position": null,
            "object_fit": null,
            "grid_auto_columns": null,
            "margin": null,
            "display": null,
            "left": null
          }
        },
        "607eb59723934ca49ac4b7cac19bb520": {
          "model_module": "@jupyter-widgets/controls",
          "model_name": "DescriptionStyleModel",
          "state": {
            "_view_name": "StyleView",
            "_model_name": "DescriptionStyleModel",
            "description_width": "",
            "_view_module": "@jupyter-widgets/base",
            "_model_module_version": "1.5.0",
            "_view_count": null,
            "_view_module_version": "1.2.0",
            "_model_module": "@jupyter-widgets/controls"
          }
        },
        "704f62b2290a41a2b5ab50313df64edd": {
          "model_module": "@jupyter-widgets/base",
          "model_name": "LayoutModel",
          "state": {
            "_view_name": "LayoutView",
            "grid_template_rows": null,
            "right": null,
            "justify_content": null,
            "_view_module": "@jupyter-widgets/base",
            "overflow": null,
            "_model_module_version": "1.2.0",
            "_view_count": null,
            "flex_flow": null,
            "width": null,
            "min_width": null,
            "border": null,
            "align_items": null,
            "bottom": null,
            "_model_module": "@jupyter-widgets/base",
            "top": null,
            "grid_column": null,
            "overflow_y": null,
            "overflow_x": null,
            "grid_auto_flow": null,
            "grid_area": null,
            "grid_template_columns": null,
            "flex": null,
            "_model_name": "LayoutModel",
            "justify_items": null,
            "grid_row": null,
            "max_height": null,
            "align_content": null,
            "visibility": null,
            "align_self": null,
            "height": null,
            "min_height": null,
            "padding": null,
            "grid_auto_rows": null,
            "grid_gap": null,
            "max_width": null,
            "order": null,
            "_view_module_version": "1.2.0",
            "grid_template_areas": null,
            "object_position": null,
            "object_fit": null,
            "grid_auto_columns": null,
            "margin": null,
            "display": null,
            "left": null
          }
        },
        "7699a4c37edc4ff5b6711741d9942658": {
          "model_module": "@jupyter-widgets/controls",
          "model_name": "HBoxModel",
          "state": {
            "_view_name": "HBoxView",
            "_dom_classes": [],
            "_model_name": "HBoxModel",
            "_view_module": "@jupyter-widgets/controls",
            "_model_module_version": "1.5.0",
            "_view_count": null,
            "_view_module_version": "1.5.0",
            "box_style": "",
            "layout": "IPY_MODEL_273093a26ad94141a203138d77347cf2",
            "_model_module": "@jupyter-widgets/controls",
            "children": [
              "IPY_MODEL_d82b7bcee6534f869727d510cdd70558",
              "IPY_MODEL_01c0c5a22a5447fa9dc5e08656a67778"
            ]
          }
        },
        "273093a26ad94141a203138d77347cf2": {
          "model_module": "@jupyter-widgets/base",
          "model_name": "LayoutModel",
          "state": {
            "_view_name": "LayoutView",
            "grid_template_rows": null,
            "right": null,
            "justify_content": null,
            "_view_module": "@jupyter-widgets/base",
            "overflow": null,
            "_model_module_version": "1.2.0",
            "_view_count": null,
            "flex_flow": null,
            "width": null,
            "min_width": null,
            "border": null,
            "align_items": null,
            "bottom": null,
            "_model_module": "@jupyter-widgets/base",
            "top": null,
            "grid_column": null,
            "overflow_y": null,
            "overflow_x": null,
            "grid_auto_flow": null,
            "grid_area": null,
            "grid_template_columns": null,
            "flex": null,
            "_model_name": "LayoutModel",
            "justify_items": null,
            "grid_row": null,
            "max_height": null,
            "align_content": null,
            "visibility": null,
            "align_self": null,
            "height": null,
            "min_height": null,
            "padding": null,
            "grid_auto_rows": null,
            "grid_gap": null,
            "max_width": null,
            "order": null,
            "_view_module_version": "1.2.0",
            "grid_template_areas": null,
            "object_position": null,
            "object_fit": null,
            "grid_auto_columns": null,
            "margin": null,
            "display": null,
            "left": null
          }
        },
        "d82b7bcee6534f869727d510cdd70558": {
          "model_module": "@jupyter-widgets/controls",
          "model_name": "FloatProgressModel",
          "state": {
            "_view_name": "ProgressView",
            "style": "IPY_MODEL_d4fd4556dadc4b4e9e4705f6b8a7c260",
            "_dom_classes": [],
            "description": "#2: 100%",
            "_model_name": "FloatProgressModel",
            "bar_style": "success",
            "max": 420,
            "_view_module": "@jupyter-widgets/controls",
            "_model_module_version": "1.5.0",
            "value": 420,
            "_view_count": null,
            "_view_module_version": "1.5.0",
            "orientation": "horizontal",
            "min": 0,
            "description_tooltip": null,
            "_model_module": "@jupyter-widgets/controls",
            "layout": "IPY_MODEL_7eac4a0c788b471b97f7854b94cfcf82"
          }
        },
        "01c0c5a22a5447fa9dc5e08656a67778": {
          "model_module": "@jupyter-widgets/controls",
          "model_name": "HTMLModel",
          "state": {
            "_view_name": "HTMLView",
            "style": "IPY_MODEL_a1166a32e51344adb2910dfb2e9526f8",
            "_dom_classes": [],
            "description": "",
            "_model_name": "HTMLModel",
            "placeholder": "​",
            "_view_module": "@jupyter-widgets/controls",
            "_model_module_version": "1.5.0",
            "value": " 420/420 [00:01&lt;00:00, 213.43ex/s]",
            "_view_count": null,
            "_view_module_version": "1.5.0",
            "description_tooltip": null,
            "_model_module": "@jupyter-widgets/controls",
            "layout": "IPY_MODEL_bc09b14316fa48c1a517c9336e0b003e"
          }
        },
        "d4fd4556dadc4b4e9e4705f6b8a7c260": {
          "model_module": "@jupyter-widgets/controls",
          "model_name": "ProgressStyleModel",
          "state": {
            "_view_name": "StyleView",
            "_model_name": "ProgressStyleModel",
            "description_width": "initial",
            "_view_module": "@jupyter-widgets/base",
            "_model_module_version": "1.5.0",
            "_view_count": null,
            "_view_module_version": "1.2.0",
            "bar_color": null,
            "_model_module": "@jupyter-widgets/controls"
          }
        },
        "7eac4a0c788b471b97f7854b94cfcf82": {
          "model_module": "@jupyter-widgets/base",
          "model_name": "LayoutModel",
          "state": {
            "_view_name": "LayoutView",
            "grid_template_rows": null,
            "right": null,
            "justify_content": null,
            "_view_module": "@jupyter-widgets/base",
            "overflow": null,
            "_model_module_version": "1.2.0",
            "_view_count": null,
            "flex_flow": null,
            "width": null,
            "min_width": null,
            "border": null,
            "align_items": null,
            "bottom": null,
            "_model_module": "@jupyter-widgets/base",
            "top": null,
            "grid_column": null,
            "overflow_y": null,
            "overflow_x": null,
            "grid_auto_flow": null,
            "grid_area": null,
            "grid_template_columns": null,
            "flex": null,
            "_model_name": "LayoutModel",
            "justify_items": null,
            "grid_row": null,
            "max_height": null,
            "align_content": null,
            "visibility": null,
            "align_self": null,
            "height": null,
            "min_height": null,
            "padding": null,
            "grid_auto_rows": null,
            "grid_gap": null,
            "max_width": null,
            "order": null,
            "_view_module_version": "1.2.0",
            "grid_template_areas": null,
            "object_position": null,
            "object_fit": null,
            "grid_auto_columns": null,
            "margin": null,
            "display": null,
            "left": null
          }
        },
        "a1166a32e51344adb2910dfb2e9526f8": {
          "model_module": "@jupyter-widgets/controls",
          "model_name": "DescriptionStyleModel",
          "state": {
            "_view_name": "StyleView",
            "_model_name": "DescriptionStyleModel",
            "description_width": "",
            "_view_module": "@jupyter-widgets/base",
            "_model_module_version": "1.5.0",
            "_view_count": null,
            "_view_module_version": "1.2.0",
            "_model_module": "@jupyter-widgets/controls"
          }
        },
        "bc09b14316fa48c1a517c9336e0b003e": {
          "model_module": "@jupyter-widgets/base",
          "model_name": "LayoutModel",
          "state": {
            "_view_name": "LayoutView",
            "grid_template_rows": null,
            "right": null,
            "justify_content": null,
            "_view_module": "@jupyter-widgets/base",
            "overflow": null,
            "_model_module_version": "1.2.0",
            "_view_count": null,
            "flex_flow": null,
            "width": null,
            "min_width": null,
            "border": null,
            "align_items": null,
            "bottom": null,
            "_model_module": "@jupyter-widgets/base",
            "top": null,
            "grid_column": null,
            "overflow_y": null,
            "overflow_x": null,
            "grid_auto_flow": null,
            "grid_area": null,
            "grid_template_columns": null,
            "flex": null,
            "_model_name": "LayoutModel",
            "justify_items": null,
            "grid_row": null,
            "max_height": null,
            "align_content": null,
            "visibility": null,
            "align_self": null,
            "height": null,
            "min_height": null,
            "padding": null,
            "grid_auto_rows": null,
            "grid_gap": null,
            "max_width": null,
            "order": null,
            "_view_module_version": "1.2.0",
            "grid_template_areas": null,
            "object_position": null,
            "object_fit": null,
            "grid_auto_columns": null,
            "margin": null,
            "display": null,
            "left": null
          }
        },
        "bf362e7a01634aa2ab71030276155f57": {
          "model_module": "@jupyter-widgets/controls",
          "model_name": "HBoxModel",
          "state": {
            "_view_name": "HBoxView",
            "_dom_classes": [],
            "_model_name": "HBoxModel",
            "_view_module": "@jupyter-widgets/controls",
            "_model_module_version": "1.5.0",
            "_view_count": null,
            "_view_module_version": "1.5.0",
            "box_style": "",
            "layout": "IPY_MODEL_27d286aea9ea4bb6a4e790a25fd5b706",
            "_model_module": "@jupyter-widgets/controls",
            "children": [
              "IPY_MODEL_31b3109c12934a218be88e1cabd49720",
              "IPY_MODEL_8c72e08e8a174ef98629101907e08b5b"
            ]
          }
        },
        "27d286aea9ea4bb6a4e790a25fd5b706": {
          "model_module": "@jupyter-widgets/base",
          "model_name": "LayoutModel",
          "state": {
            "_view_name": "LayoutView",
            "grid_template_rows": null,
            "right": null,
            "justify_content": null,
            "_view_module": "@jupyter-widgets/base",
            "overflow": null,
            "_model_module_version": "1.2.0",
            "_view_count": null,
            "flex_flow": null,
            "width": null,
            "min_width": null,
            "border": null,
            "align_items": null,
            "bottom": null,
            "_model_module": "@jupyter-widgets/base",
            "top": null,
            "grid_column": null,
            "overflow_y": null,
            "overflow_x": null,
            "grid_auto_flow": null,
            "grid_area": null,
            "grid_template_columns": null,
            "flex": null,
            "_model_name": "LayoutModel",
            "justify_items": null,
            "grid_row": null,
            "max_height": null,
            "align_content": null,
            "visibility": null,
            "align_self": null,
            "height": null,
            "min_height": null,
            "padding": null,
            "grid_auto_rows": null,
            "grid_gap": null,
            "max_width": null,
            "order": null,
            "_view_module_version": "1.2.0",
            "grid_template_areas": null,
            "object_position": null,
            "object_fit": null,
            "grid_auto_columns": null,
            "margin": null,
            "display": null,
            "left": null
          }
        },
        "31b3109c12934a218be88e1cabd49720": {
          "model_module": "@jupyter-widgets/controls",
          "model_name": "FloatProgressModel",
          "state": {
            "_view_name": "ProgressView",
            "style": "IPY_MODEL_2006cec10218410e92e407578057ed63",
            "_dom_classes": [],
            "description": "#1: 100%",
            "_model_name": "FloatProgressModel",
            "bar_style": "success",
            "max": 420,
            "_view_module": "@jupyter-widgets/controls",
            "_model_module_version": "1.5.0",
            "value": 420,
            "_view_count": null,
            "_view_module_version": "1.5.0",
            "orientation": "horizontal",
            "min": 0,
            "description_tooltip": null,
            "_model_module": "@jupyter-widgets/controls",
            "layout": "IPY_MODEL_a21759d10867499e8625eb43d71701de"
          }
        },
        "8c72e08e8a174ef98629101907e08b5b": {
          "model_module": "@jupyter-widgets/controls",
          "model_name": "HTMLModel",
          "state": {
            "_view_name": "HTMLView",
            "style": "IPY_MODEL_d6d5a3351c084f9696bec1ddf47c50eb",
            "_dom_classes": [],
            "description": "",
            "_model_name": "HTMLModel",
            "placeholder": "​",
            "_view_module": "@jupyter-widgets/controls",
            "_model_module_version": "1.5.0",
            "value": " 420/420 [00:01&lt;00:00, 262.08ex/s]",
            "_view_count": null,
            "_view_module_version": "1.5.0",
            "description_tooltip": null,
            "_model_module": "@jupyter-widgets/controls",
            "layout": "IPY_MODEL_f21448b6d6cf4be18908f705f9d7fd4c"
          }
        },
        "2006cec10218410e92e407578057ed63": {
          "model_module": "@jupyter-widgets/controls",
          "model_name": "ProgressStyleModel",
          "state": {
            "_view_name": "StyleView",
            "_model_name": "ProgressStyleModel",
            "description_width": "initial",
            "_view_module": "@jupyter-widgets/base",
            "_model_module_version": "1.5.0",
            "_view_count": null,
            "_view_module_version": "1.2.0",
            "bar_color": null,
            "_model_module": "@jupyter-widgets/controls"
          }
        },
        "a21759d10867499e8625eb43d71701de": {
          "model_module": "@jupyter-widgets/base",
          "model_name": "LayoutModel",
          "state": {
            "_view_name": "LayoutView",
            "grid_template_rows": null,
            "right": null,
            "justify_content": null,
            "_view_module": "@jupyter-widgets/base",
            "overflow": null,
            "_model_module_version": "1.2.0",
            "_view_count": null,
            "flex_flow": null,
            "width": null,
            "min_width": null,
            "border": null,
            "align_items": null,
            "bottom": null,
            "_model_module": "@jupyter-widgets/base",
            "top": null,
            "grid_column": null,
            "overflow_y": null,
            "overflow_x": null,
            "grid_auto_flow": null,
            "grid_area": null,
            "grid_template_columns": null,
            "flex": null,
            "_model_name": "LayoutModel",
            "justify_items": null,
            "grid_row": null,
            "max_height": null,
            "align_content": null,
            "visibility": null,
            "align_self": null,
            "height": null,
            "min_height": null,
            "padding": null,
            "grid_auto_rows": null,
            "grid_gap": null,
            "max_width": null,
            "order": null,
            "_view_module_version": "1.2.0",
            "grid_template_areas": null,
            "object_position": null,
            "object_fit": null,
            "grid_auto_columns": null,
            "margin": null,
            "display": null,
            "left": null
          }
        },
        "d6d5a3351c084f9696bec1ddf47c50eb": {
          "model_module": "@jupyter-widgets/controls",
          "model_name": "DescriptionStyleModel",
          "state": {
            "_view_name": "StyleView",
            "_model_name": "DescriptionStyleModel",
            "description_width": "",
            "_view_module": "@jupyter-widgets/base",
            "_model_module_version": "1.5.0",
            "_view_count": null,
            "_view_module_version": "1.2.0",
            "_model_module": "@jupyter-widgets/controls"
          }
        },
        "f21448b6d6cf4be18908f705f9d7fd4c": {
          "model_module": "@jupyter-widgets/base",
          "model_name": "LayoutModel",
          "state": {
            "_view_name": "LayoutView",
            "grid_template_rows": null,
            "right": null,
            "justify_content": null,
            "_view_module": "@jupyter-widgets/base",
            "overflow": null,
            "_model_module_version": "1.2.0",
            "_view_count": null,
            "flex_flow": null,
            "width": null,
            "min_width": null,
            "border": null,
            "align_items": null,
            "bottom": null,
            "_model_module": "@jupyter-widgets/base",
            "top": null,
            "grid_column": null,
            "overflow_y": null,
            "overflow_x": null,
            "grid_auto_flow": null,
            "grid_area": null,
            "grid_template_columns": null,
            "flex": null,
            "_model_name": "LayoutModel",
            "justify_items": null,
            "grid_row": null,
            "max_height": null,
            "align_content": null,
            "visibility": null,
            "align_self": null,
            "height": null,
            "min_height": null,
            "padding": null,
            "grid_auto_rows": null,
            "grid_gap": null,
            "max_width": null,
            "order": null,
            "_view_module_version": "1.2.0",
            "grid_template_areas": null,
            "object_position": null,
            "object_fit": null,
            "grid_auto_columns": null,
            "margin": null,
            "display": null,
            "left": null
          }
        },
        "1f01d3905e4f4f11b550cc4d97d4f7d2": {
          "model_module": "@jupyter-widgets/controls",
          "model_name": "HBoxModel",
          "state": {
            "_view_name": "HBoxView",
            "_dom_classes": [],
            "_model_name": "HBoxModel",
            "_view_module": "@jupyter-widgets/controls",
            "_model_module_version": "1.5.0",
            "_view_count": null,
            "_view_module_version": "1.5.0",
            "box_style": "",
            "layout": "IPY_MODEL_f98a2a4ff2ac44e884dcc8bda04d5dce",
            "_model_module": "@jupyter-widgets/controls",
            "children": [
              "IPY_MODEL_c48e87285aae4fe099f954d10591de9c",
              "IPY_MODEL_df28da0c82b94a0fba728d6abf671df6"
            ]
          }
        },
        "f98a2a4ff2ac44e884dcc8bda04d5dce": {
          "model_module": "@jupyter-widgets/base",
          "model_name": "LayoutModel",
          "state": {
            "_view_name": "LayoutView",
            "grid_template_rows": null,
            "right": null,
            "justify_content": null,
            "_view_module": "@jupyter-widgets/base",
            "overflow": null,
            "_model_module_version": "1.2.0",
            "_view_count": null,
            "flex_flow": null,
            "width": null,
            "min_width": null,
            "border": null,
            "align_items": null,
            "bottom": null,
            "_model_module": "@jupyter-widgets/base",
            "top": null,
            "grid_column": null,
            "overflow_y": null,
            "overflow_x": null,
            "grid_auto_flow": null,
            "grid_area": null,
            "grid_template_columns": null,
            "flex": null,
            "_model_name": "LayoutModel",
            "justify_items": null,
            "grid_row": null,
            "max_height": null,
            "align_content": null,
            "visibility": null,
            "align_self": null,
            "height": null,
            "min_height": null,
            "padding": null,
            "grid_auto_rows": null,
            "grid_gap": null,
            "max_width": null,
            "order": null,
            "_view_module_version": "1.2.0",
            "grid_template_areas": null,
            "object_position": null,
            "object_fit": null,
            "grid_auto_columns": null,
            "margin": null,
            "display": null,
            "left": null
          }
        },
        "c48e87285aae4fe099f954d10591de9c": {
          "model_module": "@jupyter-widgets/controls",
          "model_name": "FloatProgressModel",
          "state": {
            "_view_name": "ProgressView",
            "style": "IPY_MODEL_4565e4dd2bd5452bb0bf0ad1e8ae9630",
            "_dom_classes": [],
            "description": "#3: 100%",
            "_model_name": "FloatProgressModel",
            "bar_style": "success",
            "max": 420,
            "_view_module": "@jupyter-widgets/controls",
            "_model_module_version": "1.5.0",
            "value": 420,
            "_view_count": null,
            "_view_module_version": "1.5.0",
            "orientation": "horizontal",
            "min": 0,
            "description_tooltip": null,
            "_model_module": "@jupyter-widgets/controls",
            "layout": "IPY_MODEL_c8326f71338b4d918dc66caddff66a1e"
          }
        },
        "df28da0c82b94a0fba728d6abf671df6": {
          "model_module": "@jupyter-widgets/controls",
          "model_name": "HTMLModel",
          "state": {
            "_view_name": "HTMLView",
            "style": "IPY_MODEL_33255652cf7f403fb892ff146f21d1c7",
            "_dom_classes": [],
            "description": "",
            "_model_name": "HTMLModel",
            "placeholder": "​",
            "_view_module": "@jupyter-widgets/controls",
            "_model_module_version": "1.5.0",
            "value": " 420/420 [00:01&lt;00:00, 211.10ex/s]",
            "_view_count": null,
            "_view_module_version": "1.5.0",
            "description_tooltip": null,
            "_model_module": "@jupyter-widgets/controls",
            "layout": "IPY_MODEL_3e6e40a838a24eb2b63da19665b802fe"
          }
        },
        "4565e4dd2bd5452bb0bf0ad1e8ae9630": {
          "model_module": "@jupyter-widgets/controls",
          "model_name": "ProgressStyleModel",
          "state": {
            "_view_name": "StyleView",
            "_model_name": "ProgressStyleModel",
            "description_width": "initial",
            "_view_module": "@jupyter-widgets/base",
            "_model_module_version": "1.5.0",
            "_view_count": null,
            "_view_module_version": "1.2.0",
            "bar_color": null,
            "_model_module": "@jupyter-widgets/controls"
          }
        },
        "c8326f71338b4d918dc66caddff66a1e": {
          "model_module": "@jupyter-widgets/base",
          "model_name": "LayoutModel",
          "state": {
            "_view_name": "LayoutView",
            "grid_template_rows": null,
            "right": null,
            "justify_content": null,
            "_view_module": "@jupyter-widgets/base",
            "overflow": null,
            "_model_module_version": "1.2.0",
            "_view_count": null,
            "flex_flow": null,
            "width": null,
            "min_width": null,
            "border": null,
            "align_items": null,
            "bottom": null,
            "_model_module": "@jupyter-widgets/base",
            "top": null,
            "grid_column": null,
            "overflow_y": null,
            "overflow_x": null,
            "grid_auto_flow": null,
            "grid_area": null,
            "grid_template_columns": null,
            "flex": null,
            "_model_name": "LayoutModel",
            "justify_items": null,
            "grid_row": null,
            "max_height": null,
            "align_content": null,
            "visibility": null,
            "align_self": null,
            "height": null,
            "min_height": null,
            "padding": null,
            "grid_auto_rows": null,
            "grid_gap": null,
            "max_width": null,
            "order": null,
            "_view_module_version": "1.2.0",
            "grid_template_areas": null,
            "object_position": null,
            "object_fit": null,
            "grid_auto_columns": null,
            "margin": null,
            "display": null,
            "left": null
          }
        },
        "33255652cf7f403fb892ff146f21d1c7": {
          "model_module": "@jupyter-widgets/controls",
          "model_name": "DescriptionStyleModel",
          "state": {
            "_view_name": "StyleView",
            "_model_name": "DescriptionStyleModel",
            "description_width": "",
            "_view_module": "@jupyter-widgets/base",
            "_model_module_version": "1.5.0",
            "_view_count": null,
            "_view_module_version": "1.2.0",
            "_model_module": "@jupyter-widgets/controls"
          }
        },
        "3e6e40a838a24eb2b63da19665b802fe": {
          "model_module": "@jupyter-widgets/base",
          "model_name": "LayoutModel",
          "state": {
            "_view_name": "LayoutView",
            "grid_template_rows": null,
            "right": null,
            "justify_content": null,
            "_view_module": "@jupyter-widgets/base",
            "overflow": null,
            "_model_module_version": "1.2.0",
            "_view_count": null,
            "flex_flow": null,
            "width": null,
            "min_width": null,
            "border": null,
            "align_items": null,
            "bottom": null,
            "_model_module": "@jupyter-widgets/base",
            "top": null,
            "grid_column": null,
            "overflow_y": null,
            "overflow_x": null,
            "grid_auto_flow": null,
            "grid_area": null,
            "grid_template_columns": null,
            "flex": null,
            "_model_name": "LayoutModel",
            "justify_items": null,
            "grid_row": null,
            "max_height": null,
            "align_content": null,
            "visibility": null,
            "align_self": null,
            "height": null,
            "min_height": null,
            "padding": null,
            "grid_auto_rows": null,
            "grid_gap": null,
            "max_width": null,
            "order": null,
            "_view_module_version": "1.2.0",
            "grid_template_areas": null,
            "object_position": null,
            "object_fit": null,
            "grid_auto_columns": null,
            "margin": null,
            "display": null,
            "left": null
          }
        },
        "05a65e498fc54a04a63c88ebfc774b2e": {
          "model_module": "@jupyter-widgets/controls",
          "model_name": "HBoxModel",
          "state": {
            "_view_name": "HBoxView",
            "_dom_classes": [],
            "_model_name": "HBoxModel",
            "_view_module": "@jupyter-widgets/controls",
            "_model_module_version": "1.5.0",
            "_view_count": null,
            "_view_module_version": "1.5.0",
            "box_style": "",
            "layout": "IPY_MODEL_7ef6e1fe8e2648829098b9828facffbe",
            "_model_module": "@jupyter-widgets/controls",
            "children": [
              "IPY_MODEL_bcfdfceaa05741308dfd476a1e9b4f35",
              "IPY_MODEL_e9cfa1c4fecd47c4956b92c0102361b2"
            ]
          }
        },
        "7ef6e1fe8e2648829098b9828facffbe": {
          "model_module": "@jupyter-widgets/base",
          "model_name": "LayoutModel",
          "state": {
            "_view_name": "LayoutView",
            "grid_template_rows": null,
            "right": null,
            "justify_content": null,
            "_view_module": "@jupyter-widgets/base",
            "overflow": null,
            "_model_module_version": "1.2.0",
            "_view_count": null,
            "flex_flow": null,
            "width": null,
            "min_width": null,
            "border": null,
            "align_items": null,
            "bottom": null,
            "_model_module": "@jupyter-widgets/base",
            "top": null,
            "grid_column": null,
            "overflow_y": null,
            "overflow_x": null,
            "grid_auto_flow": null,
            "grid_area": null,
            "grid_template_columns": null,
            "flex": null,
            "_model_name": "LayoutModel",
            "justify_items": null,
            "grid_row": null,
            "max_height": null,
            "align_content": null,
            "visibility": null,
            "align_self": null,
            "height": null,
            "min_height": null,
            "padding": null,
            "grid_auto_rows": null,
            "grid_gap": null,
            "max_width": null,
            "order": null,
            "_view_module_version": "1.2.0",
            "grid_template_areas": null,
            "object_position": null,
            "object_fit": null,
            "grid_auto_columns": null,
            "margin": null,
            "display": null,
            "left": null
          }
        },
        "bcfdfceaa05741308dfd476a1e9b4f35": {
          "model_module": "@jupyter-widgets/controls",
          "model_name": "FloatProgressModel",
          "state": {
            "_view_name": "ProgressView",
            "style": "IPY_MODEL_9a668a6f84ca43e09e497f538948e069",
            "_dom_classes": [],
            "description": "#0: 100%",
            "_model_name": "FloatProgressModel",
            "bar_style": "success",
            "max": 145,
            "_view_module": "@jupyter-widgets/controls",
            "_model_module_version": "1.5.0",
            "value": 145,
            "_view_count": null,
            "_view_module_version": "1.5.0",
            "orientation": "horizontal",
            "min": 0,
            "description_tooltip": null,
            "_model_module": "@jupyter-widgets/controls",
            "layout": "IPY_MODEL_5b058ce49a2e40b18857b7a7058d9b0b"
          }
        },
        "e9cfa1c4fecd47c4956b92c0102361b2": {
          "model_module": "@jupyter-widgets/controls",
          "model_name": "HTMLModel",
          "state": {
            "_view_name": "HTMLView",
            "style": "IPY_MODEL_4e3bad7107d74a9bbc824cf9dc0cb0bf",
            "_dom_classes": [],
            "description": "",
            "_model_name": "HTMLModel",
            "placeholder": "​",
            "_view_module": "@jupyter-widgets/controls",
            "_model_module_version": "1.5.0",
            "value": " 145/145 [00:44&lt;00:00,  3.29ba/s]",
            "_view_count": null,
            "_view_module_version": "1.5.0",
            "description_tooltip": null,
            "_model_module": "@jupyter-widgets/controls",
            "layout": "IPY_MODEL_f690b3306cf44b0ca570909b559387c1"
          }
        },
        "9a668a6f84ca43e09e497f538948e069": {
          "model_module": "@jupyter-widgets/controls",
          "model_name": "ProgressStyleModel",
          "state": {
            "_view_name": "StyleView",
            "_model_name": "ProgressStyleModel",
            "description_width": "initial",
            "_view_module": "@jupyter-widgets/base",
            "_model_module_version": "1.5.0",
            "_view_count": null,
            "_view_module_version": "1.2.0",
            "bar_color": null,
            "_model_module": "@jupyter-widgets/controls"
          }
        },
        "5b058ce49a2e40b18857b7a7058d9b0b": {
          "model_module": "@jupyter-widgets/base",
          "model_name": "LayoutModel",
          "state": {
            "_view_name": "LayoutView",
            "grid_template_rows": null,
            "right": null,
            "justify_content": null,
            "_view_module": "@jupyter-widgets/base",
            "overflow": null,
            "_model_module_version": "1.2.0",
            "_view_count": null,
            "flex_flow": null,
            "width": null,
            "min_width": null,
            "border": null,
            "align_items": null,
            "bottom": null,
            "_model_module": "@jupyter-widgets/base",
            "top": null,
            "grid_column": null,
            "overflow_y": null,
            "overflow_x": null,
            "grid_auto_flow": null,
            "grid_area": null,
            "grid_template_columns": null,
            "flex": null,
            "_model_name": "LayoutModel",
            "justify_items": null,
            "grid_row": null,
            "max_height": null,
            "align_content": null,
            "visibility": null,
            "align_self": null,
            "height": null,
            "min_height": null,
            "padding": null,
            "grid_auto_rows": null,
            "grid_gap": null,
            "max_width": null,
            "order": null,
            "_view_module_version": "1.2.0",
            "grid_template_areas": null,
            "object_position": null,
            "object_fit": null,
            "grid_auto_columns": null,
            "margin": null,
            "display": null,
            "left": null
          }
        },
        "4e3bad7107d74a9bbc824cf9dc0cb0bf": {
          "model_module": "@jupyter-widgets/controls",
          "model_name": "DescriptionStyleModel",
          "state": {
            "_view_name": "StyleView",
            "_model_name": "DescriptionStyleModel",
            "description_width": "",
            "_view_module": "@jupyter-widgets/base",
            "_model_module_version": "1.5.0",
            "_view_count": null,
            "_view_module_version": "1.2.0",
            "_model_module": "@jupyter-widgets/controls"
          }
        },
        "f690b3306cf44b0ca570909b559387c1": {
          "model_module": "@jupyter-widgets/base",
          "model_name": "LayoutModel",
          "state": {
            "_view_name": "LayoutView",
            "grid_template_rows": null,
            "right": null,
            "justify_content": null,
            "_view_module": "@jupyter-widgets/base",
            "overflow": null,
            "_model_module_version": "1.2.0",
            "_view_count": null,
            "flex_flow": null,
            "width": null,
            "min_width": null,
            "border": null,
            "align_items": null,
            "bottom": null,
            "_model_module": "@jupyter-widgets/base",
            "top": null,
            "grid_column": null,
            "overflow_y": null,
            "overflow_x": null,
            "grid_auto_flow": null,
            "grid_area": null,
            "grid_template_columns": null,
            "flex": null,
            "_model_name": "LayoutModel",
            "justify_items": null,
            "grid_row": null,
            "max_height": null,
            "align_content": null,
            "visibility": null,
            "align_self": null,
            "height": null,
            "min_height": null,
            "padding": null,
            "grid_auto_rows": null,
            "grid_gap": null,
            "max_width": null,
            "order": null,
            "_view_module_version": "1.2.0",
            "grid_template_areas": null,
            "object_position": null,
            "object_fit": null,
            "grid_auto_columns": null,
            "margin": null,
            "display": null,
            "left": null
          }
        },
        "73e7537c939441e0826c0d6c5e31f9f1": {
          "model_module": "@jupyter-widgets/controls",
          "model_name": "HBoxModel",
          "state": {
            "_view_name": "HBoxView",
            "_dom_classes": [],
            "_model_name": "HBoxModel",
            "_view_module": "@jupyter-widgets/controls",
            "_model_module_version": "1.5.0",
            "_view_count": null,
            "_view_module_version": "1.5.0",
            "box_style": "",
            "layout": "IPY_MODEL_4802194d178846038ce290684273750c",
            "_model_module": "@jupyter-widgets/controls",
            "children": [
              "IPY_MODEL_c959844d84b64871be239cd40778680a",
              "IPY_MODEL_f199407c438843c49cb6b476c423780c"
            ]
          }
        },
        "4802194d178846038ce290684273750c": {
          "model_module": "@jupyter-widgets/base",
          "model_name": "LayoutModel",
          "state": {
            "_view_name": "LayoutView",
            "grid_template_rows": null,
            "right": null,
            "justify_content": null,
            "_view_module": "@jupyter-widgets/base",
            "overflow": null,
            "_model_module_version": "1.2.0",
            "_view_count": null,
            "flex_flow": null,
            "width": null,
            "min_width": null,
            "border": null,
            "align_items": null,
            "bottom": null,
            "_model_module": "@jupyter-widgets/base",
            "top": null,
            "grid_column": null,
            "overflow_y": null,
            "overflow_x": null,
            "grid_auto_flow": null,
            "grid_area": null,
            "grid_template_columns": null,
            "flex": null,
            "_model_name": "LayoutModel",
            "justify_items": null,
            "grid_row": null,
            "max_height": null,
            "align_content": null,
            "visibility": null,
            "align_self": null,
            "height": null,
            "min_height": null,
            "padding": null,
            "grid_auto_rows": null,
            "grid_gap": null,
            "max_width": null,
            "order": null,
            "_view_module_version": "1.2.0",
            "grid_template_areas": null,
            "object_position": null,
            "object_fit": null,
            "grid_auto_columns": null,
            "margin": null,
            "display": null,
            "left": null
          }
        },
        "c959844d84b64871be239cd40778680a": {
          "model_module": "@jupyter-widgets/controls",
          "model_name": "FloatProgressModel",
          "state": {
            "_view_name": "ProgressView",
            "style": "IPY_MODEL_41eb4a7cf1b64bef95a7b2ebab5d0d83",
            "_dom_classes": [],
            "description": "#2: 100%",
            "_model_name": "FloatProgressModel",
            "bar_style": "success",
            "max": 145,
            "_view_module": "@jupyter-widgets/controls",
            "_model_module_version": "1.5.0",
            "value": 145,
            "_view_count": null,
            "_view_module_version": "1.5.0",
            "orientation": "horizontal",
            "min": 0,
            "description_tooltip": null,
            "_model_module": "@jupyter-widgets/controls",
            "layout": "IPY_MODEL_1bb70ddc890a4f83a193486042247bc9"
          }
        },
        "f199407c438843c49cb6b476c423780c": {
          "model_module": "@jupyter-widgets/controls",
          "model_name": "HTMLModel",
          "state": {
            "_view_name": "HTMLView",
            "style": "IPY_MODEL_1be85e09037248f886f73f6170e0e40a",
            "_dom_classes": [],
            "description": "",
            "_model_name": "HTMLModel",
            "placeholder": "​",
            "_view_module": "@jupyter-widgets/controls",
            "_model_module_version": "1.5.0",
            "value": " 145/145 [00:43&lt;00:00,  3.30ba/s]",
            "_view_count": null,
            "_view_module_version": "1.5.0",
            "description_tooltip": null,
            "_model_module": "@jupyter-widgets/controls",
            "layout": "IPY_MODEL_1e55fe8ed7734c489cbc3697e86fa13e"
          }
        },
        "41eb4a7cf1b64bef95a7b2ebab5d0d83": {
          "model_module": "@jupyter-widgets/controls",
          "model_name": "ProgressStyleModel",
          "state": {
            "_view_name": "StyleView",
            "_model_name": "ProgressStyleModel",
            "description_width": "initial",
            "_view_module": "@jupyter-widgets/base",
            "_model_module_version": "1.5.0",
            "_view_count": null,
            "_view_module_version": "1.2.0",
            "bar_color": null,
            "_model_module": "@jupyter-widgets/controls"
          }
        },
        "1bb70ddc890a4f83a193486042247bc9": {
          "model_module": "@jupyter-widgets/base",
          "model_name": "LayoutModel",
          "state": {
            "_view_name": "LayoutView",
            "grid_template_rows": null,
            "right": null,
            "justify_content": null,
            "_view_module": "@jupyter-widgets/base",
            "overflow": null,
            "_model_module_version": "1.2.0",
            "_view_count": null,
            "flex_flow": null,
            "width": null,
            "min_width": null,
            "border": null,
            "align_items": null,
            "bottom": null,
            "_model_module": "@jupyter-widgets/base",
            "top": null,
            "grid_column": null,
            "overflow_y": null,
            "overflow_x": null,
            "grid_auto_flow": null,
            "grid_area": null,
            "grid_template_columns": null,
            "flex": null,
            "_model_name": "LayoutModel",
            "justify_items": null,
            "grid_row": null,
            "max_height": null,
            "align_content": null,
            "visibility": null,
            "align_self": null,
            "height": null,
            "min_height": null,
            "padding": null,
            "grid_auto_rows": null,
            "grid_gap": null,
            "max_width": null,
            "order": null,
            "_view_module_version": "1.2.0",
            "grid_template_areas": null,
            "object_position": null,
            "object_fit": null,
            "grid_auto_columns": null,
            "margin": null,
            "display": null,
            "left": null
          }
        },
        "1be85e09037248f886f73f6170e0e40a": {
          "model_module": "@jupyter-widgets/controls",
          "model_name": "DescriptionStyleModel",
          "state": {
            "_view_name": "StyleView",
            "_model_name": "DescriptionStyleModel",
            "description_width": "",
            "_view_module": "@jupyter-widgets/base",
            "_model_module_version": "1.5.0",
            "_view_count": null,
            "_view_module_version": "1.2.0",
            "_model_module": "@jupyter-widgets/controls"
          }
        },
        "1e55fe8ed7734c489cbc3697e86fa13e": {
          "model_module": "@jupyter-widgets/base",
          "model_name": "LayoutModel",
          "state": {
            "_view_name": "LayoutView",
            "grid_template_rows": null,
            "right": null,
            "justify_content": null,
            "_view_module": "@jupyter-widgets/base",
            "overflow": null,
            "_model_module_version": "1.2.0",
            "_view_count": null,
            "flex_flow": null,
            "width": null,
            "min_width": null,
            "border": null,
            "align_items": null,
            "bottom": null,
            "_model_module": "@jupyter-widgets/base",
            "top": null,
            "grid_column": null,
            "overflow_y": null,
            "overflow_x": null,
            "grid_auto_flow": null,
            "grid_area": null,
            "grid_template_columns": null,
            "flex": null,
            "_model_name": "LayoutModel",
            "justify_items": null,
            "grid_row": null,
            "max_height": null,
            "align_content": null,
            "visibility": null,
            "align_self": null,
            "height": null,
            "min_height": null,
            "padding": null,
            "grid_auto_rows": null,
            "grid_gap": null,
            "max_width": null,
            "order": null,
            "_view_module_version": "1.2.0",
            "grid_template_areas": null,
            "object_position": null,
            "object_fit": null,
            "grid_auto_columns": null,
            "margin": null,
            "display": null,
            "left": null
          }
        },
        "6d94737cd7b24cd3ab1c1baf56560de5": {
          "model_module": "@jupyter-widgets/controls",
          "model_name": "HBoxModel",
          "state": {
            "_view_name": "HBoxView",
            "_dom_classes": [],
            "_model_name": "HBoxModel",
            "_view_module": "@jupyter-widgets/controls",
            "_model_module_version": "1.5.0",
            "_view_count": null,
            "_view_module_version": "1.5.0",
            "box_style": "",
            "layout": "IPY_MODEL_4ea7c1a235594b4e96c092885060db11",
            "_model_module": "@jupyter-widgets/controls",
            "children": [
              "IPY_MODEL_4d1d5b2993344612852c61f4428d3696",
              "IPY_MODEL_e9771d22643f4e19ad42f0891398a206"
            ]
          }
        },
        "4ea7c1a235594b4e96c092885060db11": {
          "model_module": "@jupyter-widgets/base",
          "model_name": "LayoutModel",
          "state": {
            "_view_name": "LayoutView",
            "grid_template_rows": null,
            "right": null,
            "justify_content": null,
            "_view_module": "@jupyter-widgets/base",
            "overflow": null,
            "_model_module_version": "1.2.0",
            "_view_count": null,
            "flex_flow": null,
            "width": null,
            "min_width": null,
            "border": null,
            "align_items": null,
            "bottom": null,
            "_model_module": "@jupyter-widgets/base",
            "top": null,
            "grid_column": null,
            "overflow_y": null,
            "overflow_x": null,
            "grid_auto_flow": null,
            "grid_area": null,
            "grid_template_columns": null,
            "flex": null,
            "_model_name": "LayoutModel",
            "justify_items": null,
            "grid_row": null,
            "max_height": null,
            "align_content": null,
            "visibility": null,
            "align_self": null,
            "height": null,
            "min_height": null,
            "padding": null,
            "grid_auto_rows": null,
            "grid_gap": null,
            "max_width": null,
            "order": null,
            "_view_module_version": "1.2.0",
            "grid_template_areas": null,
            "object_position": null,
            "object_fit": null,
            "grid_auto_columns": null,
            "margin": null,
            "display": null,
            "left": null
          }
        },
        "4d1d5b2993344612852c61f4428d3696": {
          "model_module": "@jupyter-widgets/controls",
          "model_name": "FloatProgressModel",
          "state": {
            "_view_name": "ProgressView",
            "style": "IPY_MODEL_8af3490b335c4a1cbb684bfd7200aa18",
            "_dom_classes": [],
            "description": "#1: 100%",
            "_model_name": "FloatProgressModel",
            "bar_style": "success",
            "max": 145,
            "_view_module": "@jupyter-widgets/controls",
            "_model_module_version": "1.5.0",
            "value": 145,
            "_view_count": null,
            "_view_module_version": "1.5.0",
            "orientation": "horizontal",
            "min": 0,
            "description_tooltip": null,
            "_model_module": "@jupyter-widgets/controls",
            "layout": "IPY_MODEL_f14321d5d9234894b0bcc29d7ee01fa0"
          }
        },
        "e9771d22643f4e19ad42f0891398a206": {
          "model_module": "@jupyter-widgets/controls",
          "model_name": "HTMLModel",
          "state": {
            "_view_name": "HTMLView",
            "style": "IPY_MODEL_6d2cb7bb2af344a0a029ee1f7d189b3b",
            "_dom_classes": [],
            "description": "",
            "_model_name": "HTMLModel",
            "placeholder": "​",
            "_view_module": "@jupyter-widgets/controls",
            "_model_module_version": "1.5.0",
            "value": " 145/145 [00:44&lt;00:00,  3.29ba/s]",
            "_view_count": null,
            "_view_module_version": "1.5.0",
            "description_tooltip": null,
            "_model_module": "@jupyter-widgets/controls",
            "layout": "IPY_MODEL_ecb96c9e984c4444bb399acb4ae98e91"
          }
        },
        "8af3490b335c4a1cbb684bfd7200aa18": {
          "model_module": "@jupyter-widgets/controls",
          "model_name": "ProgressStyleModel",
          "state": {
            "_view_name": "StyleView",
            "_model_name": "ProgressStyleModel",
            "description_width": "initial",
            "_view_module": "@jupyter-widgets/base",
            "_model_module_version": "1.5.0",
            "_view_count": null,
            "_view_module_version": "1.2.0",
            "bar_color": null,
            "_model_module": "@jupyter-widgets/controls"
          }
        },
        "f14321d5d9234894b0bcc29d7ee01fa0": {
          "model_module": "@jupyter-widgets/base",
          "model_name": "LayoutModel",
          "state": {
            "_view_name": "LayoutView",
            "grid_template_rows": null,
            "right": null,
            "justify_content": null,
            "_view_module": "@jupyter-widgets/base",
            "overflow": null,
            "_model_module_version": "1.2.0",
            "_view_count": null,
            "flex_flow": null,
            "width": null,
            "min_width": null,
            "border": null,
            "align_items": null,
            "bottom": null,
            "_model_module": "@jupyter-widgets/base",
            "top": null,
            "grid_column": null,
            "overflow_y": null,
            "overflow_x": null,
            "grid_auto_flow": null,
            "grid_area": null,
            "grid_template_columns": null,
            "flex": null,
            "_model_name": "LayoutModel",
            "justify_items": null,
            "grid_row": null,
            "max_height": null,
            "align_content": null,
            "visibility": null,
            "align_self": null,
            "height": null,
            "min_height": null,
            "padding": null,
            "grid_auto_rows": null,
            "grid_gap": null,
            "max_width": null,
            "order": null,
            "_view_module_version": "1.2.0",
            "grid_template_areas": null,
            "object_position": null,
            "object_fit": null,
            "grid_auto_columns": null,
            "margin": null,
            "display": null,
            "left": null
          }
        },
        "6d2cb7bb2af344a0a029ee1f7d189b3b": {
          "model_module": "@jupyter-widgets/controls",
          "model_name": "DescriptionStyleModel",
          "state": {
            "_view_name": "StyleView",
            "_model_name": "DescriptionStyleModel",
            "description_width": "",
            "_view_module": "@jupyter-widgets/base",
            "_model_module_version": "1.5.0",
            "_view_count": null,
            "_view_module_version": "1.2.0",
            "_model_module": "@jupyter-widgets/controls"
          }
        },
        "ecb96c9e984c4444bb399acb4ae98e91": {
          "model_module": "@jupyter-widgets/base",
          "model_name": "LayoutModel",
          "state": {
            "_view_name": "LayoutView",
            "grid_template_rows": null,
            "right": null,
            "justify_content": null,
            "_view_module": "@jupyter-widgets/base",
            "overflow": null,
            "_model_module_version": "1.2.0",
            "_view_count": null,
            "flex_flow": null,
            "width": null,
            "min_width": null,
            "border": null,
            "align_items": null,
            "bottom": null,
            "_model_module": "@jupyter-widgets/base",
            "top": null,
            "grid_column": null,
            "overflow_y": null,
            "overflow_x": null,
            "grid_auto_flow": null,
            "grid_area": null,
            "grid_template_columns": null,
            "flex": null,
            "_model_name": "LayoutModel",
            "justify_items": null,
            "grid_row": null,
            "max_height": null,
            "align_content": null,
            "visibility": null,
            "align_self": null,
            "height": null,
            "min_height": null,
            "padding": null,
            "grid_auto_rows": null,
            "grid_gap": null,
            "max_width": null,
            "order": null,
            "_view_module_version": "1.2.0",
            "grid_template_areas": null,
            "object_position": null,
            "object_fit": null,
            "grid_auto_columns": null,
            "margin": null,
            "display": null,
            "left": null
          }
        },
        "3ae1fefbd2fd4809be425f11868ac8b5": {
          "model_module": "@jupyter-widgets/controls",
          "model_name": "HBoxModel",
          "state": {
            "_view_name": "HBoxView",
            "_dom_classes": [],
            "_model_name": "HBoxModel",
            "_view_module": "@jupyter-widgets/controls",
            "_model_module_version": "1.5.0",
            "_view_count": null,
            "_view_module_version": "1.5.0",
            "box_style": "",
            "layout": "IPY_MODEL_05ebf25d6baf446d81d669eaa4105826",
            "_model_module": "@jupyter-widgets/controls",
            "children": [
              "IPY_MODEL_9eee77d7a36f453193526101129caa48",
              "IPY_MODEL_4c2d32007b2a4b60a037d28bbb64ef4a"
            ]
          }
        },
        "05ebf25d6baf446d81d669eaa4105826": {
          "model_module": "@jupyter-widgets/base",
          "model_name": "LayoutModel",
          "state": {
            "_view_name": "LayoutView",
            "grid_template_rows": null,
            "right": null,
            "justify_content": null,
            "_view_module": "@jupyter-widgets/base",
            "overflow": null,
            "_model_module_version": "1.2.0",
            "_view_count": null,
            "flex_flow": null,
            "width": null,
            "min_width": null,
            "border": null,
            "align_items": null,
            "bottom": null,
            "_model_module": "@jupyter-widgets/base",
            "top": null,
            "grid_column": null,
            "overflow_y": null,
            "overflow_x": null,
            "grid_auto_flow": null,
            "grid_area": null,
            "grid_template_columns": null,
            "flex": null,
            "_model_name": "LayoutModel",
            "justify_items": null,
            "grid_row": null,
            "max_height": null,
            "align_content": null,
            "visibility": null,
            "align_self": null,
            "height": null,
            "min_height": null,
            "padding": null,
            "grid_auto_rows": null,
            "grid_gap": null,
            "max_width": null,
            "order": null,
            "_view_module_version": "1.2.0",
            "grid_template_areas": null,
            "object_position": null,
            "object_fit": null,
            "grid_auto_columns": null,
            "margin": null,
            "display": null,
            "left": null
          }
        },
        "9eee77d7a36f453193526101129caa48": {
          "model_module": "@jupyter-widgets/controls",
          "model_name": "FloatProgressModel",
          "state": {
            "_view_name": "ProgressView",
            "style": "IPY_MODEL_ab4316ede4564b4cbab6ce89fcec0023",
            "_dom_classes": [],
            "description": "#3: 100%",
            "_model_name": "FloatProgressModel",
            "bar_style": "success",
            "max": 145,
            "_view_module": "@jupyter-widgets/controls",
            "_model_module_version": "1.5.0",
            "value": 145,
            "_view_count": null,
            "_view_module_version": "1.5.0",
            "orientation": "horizontal",
            "min": 0,
            "description_tooltip": null,
            "_model_module": "@jupyter-widgets/controls",
            "layout": "IPY_MODEL_1e3be6a9ca574496b8eca23957fc77d0"
          }
        },
        "4c2d32007b2a4b60a037d28bbb64ef4a": {
          "model_module": "@jupyter-widgets/controls",
          "model_name": "HTMLModel",
          "state": {
            "_view_name": "HTMLView",
            "style": "IPY_MODEL_56f93360bcab4ce79f349cf8ad4882f4",
            "_dom_classes": [],
            "description": "",
            "_model_name": "HTMLModel",
            "placeholder": "​",
            "_view_module": "@jupyter-widgets/controls",
            "_model_module_version": "1.5.0",
            "value": " 145/145 [00:44&lt;00:00,  3.29ba/s]",
            "_view_count": null,
            "_view_module_version": "1.5.0",
            "description_tooltip": null,
            "_model_module": "@jupyter-widgets/controls",
            "layout": "IPY_MODEL_86469586418d410293488100405e0f94"
          }
        },
        "ab4316ede4564b4cbab6ce89fcec0023": {
          "model_module": "@jupyter-widgets/controls",
          "model_name": "ProgressStyleModel",
          "state": {
            "_view_name": "StyleView",
            "_model_name": "ProgressStyleModel",
            "description_width": "initial",
            "_view_module": "@jupyter-widgets/base",
            "_model_module_version": "1.5.0",
            "_view_count": null,
            "_view_module_version": "1.2.0",
            "bar_color": null,
            "_model_module": "@jupyter-widgets/controls"
          }
        },
        "1e3be6a9ca574496b8eca23957fc77d0": {
          "model_module": "@jupyter-widgets/base",
          "model_name": "LayoutModel",
          "state": {
            "_view_name": "LayoutView",
            "grid_template_rows": null,
            "right": null,
            "justify_content": null,
            "_view_module": "@jupyter-widgets/base",
            "overflow": null,
            "_model_module_version": "1.2.0",
            "_view_count": null,
            "flex_flow": null,
            "width": null,
            "min_width": null,
            "border": null,
            "align_items": null,
            "bottom": null,
            "_model_module": "@jupyter-widgets/base",
            "top": null,
            "grid_column": null,
            "overflow_y": null,
            "overflow_x": null,
            "grid_auto_flow": null,
            "grid_area": null,
            "grid_template_columns": null,
            "flex": null,
            "_model_name": "LayoutModel",
            "justify_items": null,
            "grid_row": null,
            "max_height": null,
            "align_content": null,
            "visibility": null,
            "align_self": null,
            "height": null,
            "min_height": null,
            "padding": null,
            "grid_auto_rows": null,
            "grid_gap": null,
            "max_width": null,
            "order": null,
            "_view_module_version": "1.2.0",
            "grid_template_areas": null,
            "object_position": null,
            "object_fit": null,
            "grid_auto_columns": null,
            "margin": null,
            "display": null,
            "left": null
          }
        },
        "56f93360bcab4ce79f349cf8ad4882f4": {
          "model_module": "@jupyter-widgets/controls",
          "model_name": "DescriptionStyleModel",
          "state": {
            "_view_name": "StyleView",
            "_model_name": "DescriptionStyleModel",
            "description_width": "",
            "_view_module": "@jupyter-widgets/base",
            "_model_module_version": "1.5.0",
            "_view_count": null,
            "_view_module_version": "1.2.0",
            "_model_module": "@jupyter-widgets/controls"
          }
        },
        "86469586418d410293488100405e0f94": {
          "model_module": "@jupyter-widgets/base",
          "model_name": "LayoutModel",
          "state": {
            "_view_name": "LayoutView",
            "grid_template_rows": null,
            "right": null,
            "justify_content": null,
            "_view_module": "@jupyter-widgets/base",
            "overflow": null,
            "_model_module_version": "1.2.0",
            "_view_count": null,
            "flex_flow": null,
            "width": null,
            "min_width": null,
            "border": null,
            "align_items": null,
            "bottom": null,
            "_model_module": "@jupyter-widgets/base",
            "top": null,
            "grid_column": null,
            "overflow_y": null,
            "overflow_x": null,
            "grid_auto_flow": null,
            "grid_area": null,
            "grid_template_columns": null,
            "flex": null,
            "_model_name": "LayoutModel",
            "justify_items": null,
            "grid_row": null,
            "max_height": null,
            "align_content": null,
            "visibility": null,
            "align_self": null,
            "height": null,
            "min_height": null,
            "padding": null,
            "grid_auto_rows": null,
            "grid_gap": null,
            "max_width": null,
            "order": null,
            "_view_module_version": "1.2.0",
            "grid_template_areas": null,
            "object_position": null,
            "object_fit": null,
            "grid_auto_columns": null,
            "margin": null,
            "display": null,
            "left": null
          }
        },
        "9c325ee9437b4a8fb9a24bfda75c3d71": {
          "model_module": "@jupyter-widgets/controls",
          "model_name": "HBoxModel",
          "state": {
            "_view_name": "HBoxView",
            "_dom_classes": [],
            "_model_name": "HBoxModel",
            "_view_module": "@jupyter-widgets/controls",
            "_model_module_version": "1.5.0",
            "_view_count": null,
            "_view_module_version": "1.5.0",
            "box_style": "",
            "layout": "IPY_MODEL_cf505939a46d439b8571ad94c33893ea",
            "_model_module": "@jupyter-widgets/controls",
            "children": [
              "IPY_MODEL_6c0b28486133414a8ed85f8d5b90dc8e",
              "IPY_MODEL_45eaaf9c7b5740b0b16a3ff79a102aee"
            ]
          }
        },
        "cf505939a46d439b8571ad94c33893ea": {
          "model_module": "@jupyter-widgets/base",
          "model_name": "LayoutModel",
          "state": {
            "_view_name": "LayoutView",
            "grid_template_rows": null,
            "right": null,
            "justify_content": null,
            "_view_module": "@jupyter-widgets/base",
            "overflow": null,
            "_model_module_version": "1.2.0",
            "_view_count": null,
            "flex_flow": null,
            "width": null,
            "min_width": null,
            "border": null,
            "align_items": null,
            "bottom": null,
            "_model_module": "@jupyter-widgets/base",
            "top": null,
            "grid_column": null,
            "overflow_y": null,
            "overflow_x": null,
            "grid_auto_flow": null,
            "grid_area": null,
            "grid_template_columns": null,
            "flex": null,
            "_model_name": "LayoutModel",
            "justify_items": null,
            "grid_row": null,
            "max_height": null,
            "align_content": null,
            "visibility": null,
            "align_self": null,
            "height": null,
            "min_height": null,
            "padding": null,
            "grid_auto_rows": null,
            "grid_gap": null,
            "max_width": null,
            "order": null,
            "_view_module_version": "1.2.0",
            "grid_template_areas": null,
            "object_position": null,
            "object_fit": null,
            "grid_auto_columns": null,
            "margin": null,
            "display": null,
            "left": null
          }
        },
        "6c0b28486133414a8ed85f8d5b90dc8e": {
          "model_module": "@jupyter-widgets/controls",
          "model_name": "FloatProgressModel",
          "state": {
            "_view_name": "ProgressView",
            "style": "IPY_MODEL_1bcb316f24524dd7b5d91bfea31dd0ea",
            "_dom_classes": [],
            "description": "#0: 100%",
            "_model_name": "FloatProgressModel",
            "bar_style": "success",
            "max": 53,
            "_view_module": "@jupyter-widgets/controls",
            "_model_module_version": "1.5.0",
            "value": 53,
            "_view_count": null,
            "_view_module_version": "1.5.0",
            "orientation": "horizontal",
            "min": 0,
            "description_tooltip": null,
            "_model_module": "@jupyter-widgets/controls",
            "layout": "IPY_MODEL_932653a9b397494296c7a36a0de41f80"
          }
        },
        "45eaaf9c7b5740b0b16a3ff79a102aee": {
          "model_module": "@jupyter-widgets/controls",
          "model_name": "HTMLModel",
          "state": {
            "_view_name": "HTMLView",
            "style": "IPY_MODEL_c061de7125b7422191a6c87028eecf66",
            "_dom_classes": [],
            "description": "",
            "_model_name": "HTMLModel",
            "placeholder": "​",
            "_view_module": "@jupyter-widgets/controls",
            "_model_module_version": "1.5.0",
            "value": " 53/53 [00:17&lt;00:00,  3.09ba/s]",
            "_view_count": null,
            "_view_module_version": "1.5.0",
            "description_tooltip": null,
            "_model_module": "@jupyter-widgets/controls",
            "layout": "IPY_MODEL_6be15fb1ccba4cd9bd7ebaeb3a248651"
          }
        },
        "1bcb316f24524dd7b5d91bfea31dd0ea": {
          "model_module": "@jupyter-widgets/controls",
          "model_name": "ProgressStyleModel",
          "state": {
            "_view_name": "StyleView",
            "_model_name": "ProgressStyleModel",
            "description_width": "initial",
            "_view_module": "@jupyter-widgets/base",
            "_model_module_version": "1.5.0",
            "_view_count": null,
            "_view_module_version": "1.2.0",
            "bar_color": null,
            "_model_module": "@jupyter-widgets/controls"
          }
        },
        "932653a9b397494296c7a36a0de41f80": {
          "model_module": "@jupyter-widgets/base",
          "model_name": "LayoutModel",
          "state": {
            "_view_name": "LayoutView",
            "grid_template_rows": null,
            "right": null,
            "justify_content": null,
            "_view_module": "@jupyter-widgets/base",
            "overflow": null,
            "_model_module_version": "1.2.0",
            "_view_count": null,
            "flex_flow": null,
            "width": null,
            "min_width": null,
            "border": null,
            "align_items": null,
            "bottom": null,
            "_model_module": "@jupyter-widgets/base",
            "top": null,
            "grid_column": null,
            "overflow_y": null,
            "overflow_x": null,
            "grid_auto_flow": null,
            "grid_area": null,
            "grid_template_columns": null,
            "flex": null,
            "_model_name": "LayoutModel",
            "justify_items": null,
            "grid_row": null,
            "max_height": null,
            "align_content": null,
            "visibility": null,
            "align_self": null,
            "height": null,
            "min_height": null,
            "padding": null,
            "grid_auto_rows": null,
            "grid_gap": null,
            "max_width": null,
            "order": null,
            "_view_module_version": "1.2.0",
            "grid_template_areas": null,
            "object_position": null,
            "object_fit": null,
            "grid_auto_columns": null,
            "margin": null,
            "display": null,
            "left": null
          }
        },
        "c061de7125b7422191a6c87028eecf66": {
          "model_module": "@jupyter-widgets/controls",
          "model_name": "DescriptionStyleModel",
          "state": {
            "_view_name": "StyleView",
            "_model_name": "DescriptionStyleModel",
            "description_width": "",
            "_view_module": "@jupyter-widgets/base",
            "_model_module_version": "1.5.0",
            "_view_count": null,
            "_view_module_version": "1.2.0",
            "_model_module": "@jupyter-widgets/controls"
          }
        },
        "6be15fb1ccba4cd9bd7ebaeb3a248651": {
          "model_module": "@jupyter-widgets/base",
          "model_name": "LayoutModel",
          "state": {
            "_view_name": "LayoutView",
            "grid_template_rows": null,
            "right": null,
            "justify_content": null,
            "_view_module": "@jupyter-widgets/base",
            "overflow": null,
            "_model_module_version": "1.2.0",
            "_view_count": null,
            "flex_flow": null,
            "width": null,
            "min_width": null,
            "border": null,
            "align_items": null,
            "bottom": null,
            "_model_module": "@jupyter-widgets/base",
            "top": null,
            "grid_column": null,
            "overflow_y": null,
            "overflow_x": null,
            "grid_auto_flow": null,
            "grid_area": null,
            "grid_template_columns": null,
            "flex": null,
            "_model_name": "LayoutModel",
            "justify_items": null,
            "grid_row": null,
            "max_height": null,
            "align_content": null,
            "visibility": null,
            "align_self": null,
            "height": null,
            "min_height": null,
            "padding": null,
            "grid_auto_rows": null,
            "grid_gap": null,
            "max_width": null,
            "order": null,
            "_view_module_version": "1.2.0",
            "grid_template_areas": null,
            "object_position": null,
            "object_fit": null,
            "grid_auto_columns": null,
            "margin": null,
            "display": null,
            "left": null
          }
        },
        "45830c99910746c7ad2bfe0b12006e61": {
          "model_module": "@jupyter-widgets/controls",
          "model_name": "HBoxModel",
          "state": {
            "_view_name": "HBoxView",
            "_dom_classes": [],
            "_model_name": "HBoxModel",
            "_view_module": "@jupyter-widgets/controls",
            "_model_module_version": "1.5.0",
            "_view_count": null,
            "_view_module_version": "1.5.0",
            "box_style": "",
            "layout": "IPY_MODEL_2d032b9f89cd46cc81fe779f2a4bf3fb",
            "_model_module": "@jupyter-widgets/controls",
            "children": [
              "IPY_MODEL_426b47dd14b64dc99373d834615fcaa1",
              "IPY_MODEL_cd90eb0be3e84727a9324197411a2ce2"
            ]
          }
        },
        "2d032b9f89cd46cc81fe779f2a4bf3fb": {
          "model_module": "@jupyter-widgets/base",
          "model_name": "LayoutModel",
          "state": {
            "_view_name": "LayoutView",
            "grid_template_rows": null,
            "right": null,
            "justify_content": null,
            "_view_module": "@jupyter-widgets/base",
            "overflow": null,
            "_model_module_version": "1.2.0",
            "_view_count": null,
            "flex_flow": null,
            "width": null,
            "min_width": null,
            "border": null,
            "align_items": null,
            "bottom": null,
            "_model_module": "@jupyter-widgets/base",
            "top": null,
            "grid_column": null,
            "overflow_y": null,
            "overflow_x": null,
            "grid_auto_flow": null,
            "grid_area": null,
            "grid_template_columns": null,
            "flex": null,
            "_model_name": "LayoutModel",
            "justify_items": null,
            "grid_row": null,
            "max_height": null,
            "align_content": null,
            "visibility": null,
            "align_self": null,
            "height": null,
            "min_height": null,
            "padding": null,
            "grid_auto_rows": null,
            "grid_gap": null,
            "max_width": null,
            "order": null,
            "_view_module_version": "1.2.0",
            "grid_template_areas": null,
            "object_position": null,
            "object_fit": null,
            "grid_auto_columns": null,
            "margin": null,
            "display": null,
            "left": null
          }
        },
        "426b47dd14b64dc99373d834615fcaa1": {
          "model_module": "@jupyter-widgets/controls",
          "model_name": "FloatProgressModel",
          "state": {
            "_view_name": "ProgressView",
            "style": "IPY_MODEL_8c0aa5800a2c469d8dfdea0a2e310256",
            "_dom_classes": [],
            "description": "#2: 100%",
            "_model_name": "FloatProgressModel",
            "bar_style": "success",
            "max": 53,
            "_view_module": "@jupyter-widgets/controls",
            "_model_module_version": "1.5.0",
            "value": 53,
            "_view_count": null,
            "_view_module_version": "1.5.0",
            "orientation": "horizontal",
            "min": 0,
            "description_tooltip": null,
            "_model_module": "@jupyter-widgets/controls",
            "layout": "IPY_MODEL_2cc56aa6930e4cb9a86d2a91f64b65d3"
          }
        },
        "cd90eb0be3e84727a9324197411a2ce2": {
          "model_module": "@jupyter-widgets/controls",
          "model_name": "HTMLModel",
          "state": {
            "_view_name": "HTMLView",
            "style": "IPY_MODEL_fac447722cb542ea84ff04bc983eab72",
            "_dom_classes": [],
            "description": "",
            "_model_name": "HTMLModel",
            "placeholder": "​",
            "_view_module": "@jupyter-widgets/controls",
            "_model_module_version": "1.5.0",
            "value": " 53/53 [00:17&lt;00:00,  3.07ba/s]",
            "_view_count": null,
            "_view_module_version": "1.5.0",
            "description_tooltip": null,
            "_model_module": "@jupyter-widgets/controls",
            "layout": "IPY_MODEL_e9a080ba1e3d43d59910d595854e3f13"
          }
        },
        "8c0aa5800a2c469d8dfdea0a2e310256": {
          "model_module": "@jupyter-widgets/controls",
          "model_name": "ProgressStyleModel",
          "state": {
            "_view_name": "StyleView",
            "_model_name": "ProgressStyleModel",
            "description_width": "initial",
            "_view_module": "@jupyter-widgets/base",
            "_model_module_version": "1.5.0",
            "_view_count": null,
            "_view_module_version": "1.2.0",
            "bar_color": null,
            "_model_module": "@jupyter-widgets/controls"
          }
        },
        "2cc56aa6930e4cb9a86d2a91f64b65d3": {
          "model_module": "@jupyter-widgets/base",
          "model_name": "LayoutModel",
          "state": {
            "_view_name": "LayoutView",
            "grid_template_rows": null,
            "right": null,
            "justify_content": null,
            "_view_module": "@jupyter-widgets/base",
            "overflow": null,
            "_model_module_version": "1.2.0",
            "_view_count": null,
            "flex_flow": null,
            "width": null,
            "min_width": null,
            "border": null,
            "align_items": null,
            "bottom": null,
            "_model_module": "@jupyter-widgets/base",
            "top": null,
            "grid_column": null,
            "overflow_y": null,
            "overflow_x": null,
            "grid_auto_flow": null,
            "grid_area": null,
            "grid_template_columns": null,
            "flex": null,
            "_model_name": "LayoutModel",
            "justify_items": null,
            "grid_row": null,
            "max_height": null,
            "align_content": null,
            "visibility": null,
            "align_self": null,
            "height": null,
            "min_height": null,
            "padding": null,
            "grid_auto_rows": null,
            "grid_gap": null,
            "max_width": null,
            "order": null,
            "_view_module_version": "1.2.0",
            "grid_template_areas": null,
            "object_position": null,
            "object_fit": null,
            "grid_auto_columns": null,
            "margin": null,
            "display": null,
            "left": null
          }
        },
        "fac447722cb542ea84ff04bc983eab72": {
          "model_module": "@jupyter-widgets/controls",
          "model_name": "DescriptionStyleModel",
          "state": {
            "_view_name": "StyleView",
            "_model_name": "DescriptionStyleModel",
            "description_width": "",
            "_view_module": "@jupyter-widgets/base",
            "_model_module_version": "1.5.0",
            "_view_count": null,
            "_view_module_version": "1.2.0",
            "_model_module": "@jupyter-widgets/controls"
          }
        },
        "e9a080ba1e3d43d59910d595854e3f13": {
          "model_module": "@jupyter-widgets/base",
          "model_name": "LayoutModel",
          "state": {
            "_view_name": "LayoutView",
            "grid_template_rows": null,
            "right": null,
            "justify_content": null,
            "_view_module": "@jupyter-widgets/base",
            "overflow": null,
            "_model_module_version": "1.2.0",
            "_view_count": null,
            "flex_flow": null,
            "width": null,
            "min_width": null,
            "border": null,
            "align_items": null,
            "bottom": null,
            "_model_module": "@jupyter-widgets/base",
            "top": null,
            "grid_column": null,
            "overflow_y": null,
            "overflow_x": null,
            "grid_auto_flow": null,
            "grid_area": null,
            "grid_template_columns": null,
            "flex": null,
            "_model_name": "LayoutModel",
            "justify_items": null,
            "grid_row": null,
            "max_height": null,
            "align_content": null,
            "visibility": null,
            "align_self": null,
            "height": null,
            "min_height": null,
            "padding": null,
            "grid_auto_rows": null,
            "grid_gap": null,
            "max_width": null,
            "order": null,
            "_view_module_version": "1.2.0",
            "grid_template_areas": null,
            "object_position": null,
            "object_fit": null,
            "grid_auto_columns": null,
            "margin": null,
            "display": null,
            "left": null
          }
        },
        "5b22c692e70c4595bc58e685608a7e3b": {
          "model_module": "@jupyter-widgets/controls",
          "model_name": "HBoxModel",
          "state": {
            "_view_name": "HBoxView",
            "_dom_classes": [],
            "_model_name": "HBoxModel",
            "_view_module": "@jupyter-widgets/controls",
            "_model_module_version": "1.5.0",
            "_view_count": null,
            "_view_module_version": "1.5.0",
            "box_style": "",
            "layout": "IPY_MODEL_a0929409f8d544deb51ba7018713689f",
            "_model_module": "@jupyter-widgets/controls",
            "children": [
              "IPY_MODEL_9e8f4d2df12546d7b20ff5318b8a0597",
              "IPY_MODEL_f46cc4d587db477d88630e53cd511ec9"
            ]
          }
        },
        "a0929409f8d544deb51ba7018713689f": {
          "model_module": "@jupyter-widgets/base",
          "model_name": "LayoutModel",
          "state": {
            "_view_name": "LayoutView",
            "grid_template_rows": null,
            "right": null,
            "justify_content": null,
            "_view_module": "@jupyter-widgets/base",
            "overflow": null,
            "_model_module_version": "1.2.0",
            "_view_count": null,
            "flex_flow": null,
            "width": null,
            "min_width": null,
            "border": null,
            "align_items": null,
            "bottom": null,
            "_model_module": "@jupyter-widgets/base",
            "top": null,
            "grid_column": null,
            "overflow_y": null,
            "overflow_x": null,
            "grid_auto_flow": null,
            "grid_area": null,
            "grid_template_columns": null,
            "flex": null,
            "_model_name": "LayoutModel",
            "justify_items": null,
            "grid_row": null,
            "max_height": null,
            "align_content": null,
            "visibility": null,
            "align_self": null,
            "height": null,
            "min_height": null,
            "padding": null,
            "grid_auto_rows": null,
            "grid_gap": null,
            "max_width": null,
            "order": null,
            "_view_module_version": "1.2.0",
            "grid_template_areas": null,
            "object_position": null,
            "object_fit": null,
            "grid_auto_columns": null,
            "margin": null,
            "display": null,
            "left": null
          }
        },
        "9e8f4d2df12546d7b20ff5318b8a0597": {
          "model_module": "@jupyter-widgets/controls",
          "model_name": "FloatProgressModel",
          "state": {
            "_view_name": "ProgressView",
            "style": "IPY_MODEL_37c343386b2d479f8c676e38b396fc42",
            "_dom_classes": [],
            "description": "#1: 100%",
            "_model_name": "FloatProgressModel",
            "bar_style": "success",
            "max": 53,
            "_view_module": "@jupyter-widgets/controls",
            "_model_module_version": "1.5.0",
            "value": 53,
            "_view_count": null,
            "_view_module_version": "1.5.0",
            "orientation": "horizontal",
            "min": 0,
            "description_tooltip": null,
            "_model_module": "@jupyter-widgets/controls",
            "layout": "IPY_MODEL_833cd5d3da4b407da9cb1e3be876cc53"
          }
        },
        "f46cc4d587db477d88630e53cd511ec9": {
          "model_module": "@jupyter-widgets/controls",
          "model_name": "HTMLModel",
          "state": {
            "_view_name": "HTMLView",
            "style": "IPY_MODEL_3d41407f8c8444b2b84d1004f06c160f",
            "_dom_classes": [],
            "description": "",
            "_model_name": "HTMLModel",
            "placeholder": "​",
            "_view_module": "@jupyter-widgets/controls",
            "_model_module_version": "1.5.0",
            "value": " 53/53 [00:17&lt;00:00,  3.11ba/s]",
            "_view_count": null,
            "_view_module_version": "1.5.0",
            "description_tooltip": null,
            "_model_module": "@jupyter-widgets/controls",
            "layout": "IPY_MODEL_dd194aee7a3d4a16b5266e977077cdc6"
          }
        },
        "37c343386b2d479f8c676e38b396fc42": {
          "model_module": "@jupyter-widgets/controls",
          "model_name": "ProgressStyleModel",
          "state": {
            "_view_name": "StyleView",
            "_model_name": "ProgressStyleModel",
            "description_width": "initial",
            "_view_module": "@jupyter-widgets/base",
            "_model_module_version": "1.5.0",
            "_view_count": null,
            "_view_module_version": "1.2.0",
            "bar_color": null,
            "_model_module": "@jupyter-widgets/controls"
          }
        },
        "833cd5d3da4b407da9cb1e3be876cc53": {
          "model_module": "@jupyter-widgets/base",
          "model_name": "LayoutModel",
          "state": {
            "_view_name": "LayoutView",
            "grid_template_rows": null,
            "right": null,
            "justify_content": null,
            "_view_module": "@jupyter-widgets/base",
            "overflow": null,
            "_model_module_version": "1.2.0",
            "_view_count": null,
            "flex_flow": null,
            "width": null,
            "min_width": null,
            "border": null,
            "align_items": null,
            "bottom": null,
            "_model_module": "@jupyter-widgets/base",
            "top": null,
            "grid_column": null,
            "overflow_y": null,
            "overflow_x": null,
            "grid_auto_flow": null,
            "grid_area": null,
            "grid_template_columns": null,
            "flex": null,
            "_model_name": "LayoutModel",
            "justify_items": null,
            "grid_row": null,
            "max_height": null,
            "align_content": null,
            "visibility": null,
            "align_self": null,
            "height": null,
            "min_height": null,
            "padding": null,
            "grid_auto_rows": null,
            "grid_gap": null,
            "max_width": null,
            "order": null,
            "_view_module_version": "1.2.0",
            "grid_template_areas": null,
            "object_position": null,
            "object_fit": null,
            "grid_auto_columns": null,
            "margin": null,
            "display": null,
            "left": null
          }
        },
        "3d41407f8c8444b2b84d1004f06c160f": {
          "model_module": "@jupyter-widgets/controls",
          "model_name": "DescriptionStyleModel",
          "state": {
            "_view_name": "StyleView",
            "_model_name": "DescriptionStyleModel",
            "description_width": "",
            "_view_module": "@jupyter-widgets/base",
            "_model_module_version": "1.5.0",
            "_view_count": null,
            "_view_module_version": "1.2.0",
            "_model_module": "@jupyter-widgets/controls"
          }
        },
        "dd194aee7a3d4a16b5266e977077cdc6": {
          "model_module": "@jupyter-widgets/base",
          "model_name": "LayoutModel",
          "state": {
            "_view_name": "LayoutView",
            "grid_template_rows": null,
            "right": null,
            "justify_content": null,
            "_view_module": "@jupyter-widgets/base",
            "overflow": null,
            "_model_module_version": "1.2.0",
            "_view_count": null,
            "flex_flow": null,
            "width": null,
            "min_width": null,
            "border": null,
            "align_items": null,
            "bottom": null,
            "_model_module": "@jupyter-widgets/base",
            "top": null,
            "grid_column": null,
            "overflow_y": null,
            "overflow_x": null,
            "grid_auto_flow": null,
            "grid_area": null,
            "grid_template_columns": null,
            "flex": null,
            "_model_name": "LayoutModel",
            "justify_items": null,
            "grid_row": null,
            "max_height": null,
            "align_content": null,
            "visibility": null,
            "align_self": null,
            "height": null,
            "min_height": null,
            "padding": null,
            "grid_auto_rows": null,
            "grid_gap": null,
            "max_width": null,
            "order": null,
            "_view_module_version": "1.2.0",
            "grid_template_areas": null,
            "object_position": null,
            "object_fit": null,
            "grid_auto_columns": null,
            "margin": null,
            "display": null,
            "left": null
          }
        },
        "c743fecd157c4ca3bf58f0111d686473": {
          "model_module": "@jupyter-widgets/controls",
          "model_name": "HBoxModel",
          "state": {
            "_view_name": "HBoxView",
            "_dom_classes": [],
            "_model_name": "HBoxModel",
            "_view_module": "@jupyter-widgets/controls",
            "_model_module_version": "1.5.0",
            "_view_count": null,
            "_view_module_version": "1.5.0",
            "box_style": "",
            "layout": "IPY_MODEL_9f2d5585a1e64a5fb3596a75f3590a95",
            "_model_module": "@jupyter-widgets/controls",
            "children": [
              "IPY_MODEL_c26132fac7cf49ee98380fc83cface78",
              "IPY_MODEL_8ca9809669cb47369cb3c74127baaf23"
            ]
          }
        },
        "9f2d5585a1e64a5fb3596a75f3590a95": {
          "model_module": "@jupyter-widgets/base",
          "model_name": "LayoutModel",
          "state": {
            "_view_name": "LayoutView",
            "grid_template_rows": null,
            "right": null,
            "justify_content": null,
            "_view_module": "@jupyter-widgets/base",
            "overflow": null,
            "_model_module_version": "1.2.0",
            "_view_count": null,
            "flex_flow": null,
            "width": null,
            "min_width": null,
            "border": null,
            "align_items": null,
            "bottom": null,
            "_model_module": "@jupyter-widgets/base",
            "top": null,
            "grid_column": null,
            "overflow_y": null,
            "overflow_x": null,
            "grid_auto_flow": null,
            "grid_area": null,
            "grid_template_columns": null,
            "flex": null,
            "_model_name": "LayoutModel",
            "justify_items": null,
            "grid_row": null,
            "max_height": null,
            "align_content": null,
            "visibility": null,
            "align_self": null,
            "height": null,
            "min_height": null,
            "padding": null,
            "grid_auto_rows": null,
            "grid_gap": null,
            "max_width": null,
            "order": null,
            "_view_module_version": "1.2.0",
            "grid_template_areas": null,
            "object_position": null,
            "object_fit": null,
            "grid_auto_columns": null,
            "margin": null,
            "display": null,
            "left": null
          }
        },
        "c26132fac7cf49ee98380fc83cface78": {
          "model_module": "@jupyter-widgets/controls",
          "model_name": "FloatProgressModel",
          "state": {
            "_view_name": "ProgressView",
            "style": "IPY_MODEL_7347ae36b5e249dca297d623913c2ffc",
            "_dom_classes": [],
            "description": "#3: 100%",
            "_model_name": "FloatProgressModel",
            "bar_style": "success",
            "max": 53,
            "_view_module": "@jupyter-widgets/controls",
            "_model_module_version": "1.5.0",
            "value": 53,
            "_view_count": null,
            "_view_module_version": "1.5.0",
            "orientation": "horizontal",
            "min": 0,
            "description_tooltip": null,
            "_model_module": "@jupyter-widgets/controls",
            "layout": "IPY_MODEL_6f1768c324eb4a7cb2c1c0089dda4ae1"
          }
        },
        "8ca9809669cb47369cb3c74127baaf23": {
          "model_module": "@jupyter-widgets/controls",
          "model_name": "HTMLModel",
          "state": {
            "_view_name": "HTMLView",
            "style": "IPY_MODEL_deb5c379f4f84c0e9511bf250a959ac3",
            "_dom_classes": [],
            "description": "",
            "_model_name": "HTMLModel",
            "placeholder": "​",
            "_view_module": "@jupyter-widgets/controls",
            "_model_module_version": "1.5.0",
            "value": " 53/53 [00:17&lt;00:00,  3.09ba/s]",
            "_view_count": null,
            "_view_module_version": "1.5.0",
            "description_tooltip": null,
            "_model_module": "@jupyter-widgets/controls",
            "layout": "IPY_MODEL_8a6d4aad6eca49279ac056ca66a14c6d"
          }
        },
        "7347ae36b5e249dca297d623913c2ffc": {
          "model_module": "@jupyter-widgets/controls",
          "model_name": "ProgressStyleModel",
          "state": {
            "_view_name": "StyleView",
            "_model_name": "ProgressStyleModel",
            "description_width": "initial",
            "_view_module": "@jupyter-widgets/base",
            "_model_module_version": "1.5.0",
            "_view_count": null,
            "_view_module_version": "1.2.0",
            "bar_color": null,
            "_model_module": "@jupyter-widgets/controls"
          }
        },
        "6f1768c324eb4a7cb2c1c0089dda4ae1": {
          "model_module": "@jupyter-widgets/base",
          "model_name": "LayoutModel",
          "state": {
            "_view_name": "LayoutView",
            "grid_template_rows": null,
            "right": null,
            "justify_content": null,
            "_view_module": "@jupyter-widgets/base",
            "overflow": null,
            "_model_module_version": "1.2.0",
            "_view_count": null,
            "flex_flow": null,
            "width": null,
            "min_width": null,
            "border": null,
            "align_items": null,
            "bottom": null,
            "_model_module": "@jupyter-widgets/base",
            "top": null,
            "grid_column": null,
            "overflow_y": null,
            "overflow_x": null,
            "grid_auto_flow": null,
            "grid_area": null,
            "grid_template_columns": null,
            "flex": null,
            "_model_name": "LayoutModel",
            "justify_items": null,
            "grid_row": null,
            "max_height": null,
            "align_content": null,
            "visibility": null,
            "align_self": null,
            "height": null,
            "min_height": null,
            "padding": null,
            "grid_auto_rows": null,
            "grid_gap": null,
            "max_width": null,
            "order": null,
            "_view_module_version": "1.2.0",
            "grid_template_areas": null,
            "object_position": null,
            "object_fit": null,
            "grid_auto_columns": null,
            "margin": null,
            "display": null,
            "left": null
          }
        },
        "deb5c379f4f84c0e9511bf250a959ac3": {
          "model_module": "@jupyter-widgets/controls",
          "model_name": "DescriptionStyleModel",
          "state": {
            "_view_name": "StyleView",
            "_model_name": "DescriptionStyleModel",
            "description_width": "",
            "_view_module": "@jupyter-widgets/base",
            "_model_module_version": "1.5.0",
            "_view_count": null,
            "_view_module_version": "1.2.0",
            "_model_module": "@jupyter-widgets/controls"
          }
        },
        "8a6d4aad6eca49279ac056ca66a14c6d": {
          "model_module": "@jupyter-widgets/base",
          "model_name": "LayoutModel",
          "state": {
            "_view_name": "LayoutView",
            "grid_template_rows": null,
            "right": null,
            "justify_content": null,
            "_view_module": "@jupyter-widgets/base",
            "overflow": null,
            "_model_module_version": "1.2.0",
            "_view_count": null,
            "flex_flow": null,
            "width": null,
            "min_width": null,
            "border": null,
            "align_items": null,
            "bottom": null,
            "_model_module": "@jupyter-widgets/base",
            "top": null,
            "grid_column": null,
            "overflow_y": null,
            "overflow_x": null,
            "grid_auto_flow": null,
            "grid_area": null,
            "grid_template_columns": null,
            "flex": null,
            "_model_name": "LayoutModel",
            "justify_items": null,
            "grid_row": null,
            "max_height": null,
            "align_content": null,
            "visibility": null,
            "align_self": null,
            "height": null,
            "min_height": null,
            "padding": null,
            "grid_auto_rows": null,
            "grid_gap": null,
            "max_width": null,
            "order": null,
            "_view_module_version": "1.2.0",
            "grid_template_areas": null,
            "object_position": null,
            "object_fit": null,
            "grid_auto_columns": null,
            "margin": null,
            "display": null,
            "left": null
          }
        },
        "f2e5a194db724294b99a71d294b58d5d": {
          "model_module": "@jupyter-widgets/controls",
          "model_name": "HBoxModel",
          "state": {
            "_view_name": "HBoxView",
            "_dom_classes": [],
            "_model_name": "HBoxModel",
            "_view_module": "@jupyter-widgets/controls",
            "_model_module_version": "1.5.0",
            "_view_count": null,
            "_view_module_version": "1.5.0",
            "box_style": "",
            "layout": "IPY_MODEL_329b25469dd14e99b6b165d7a6b5379f",
            "_model_module": "@jupyter-widgets/controls",
            "children": [
              "IPY_MODEL_4cfbf680277849c1b862d725d2c82205",
              "IPY_MODEL_92c3121ec745413b9408bbff11b4a9a8"
            ]
          }
        },
        "329b25469dd14e99b6b165d7a6b5379f": {
          "model_module": "@jupyter-widgets/base",
          "model_name": "LayoutModel",
          "state": {
            "_view_name": "LayoutView",
            "grid_template_rows": null,
            "right": null,
            "justify_content": null,
            "_view_module": "@jupyter-widgets/base",
            "overflow": null,
            "_model_module_version": "1.2.0",
            "_view_count": null,
            "flex_flow": null,
            "width": null,
            "min_width": null,
            "border": null,
            "align_items": null,
            "bottom": null,
            "_model_module": "@jupyter-widgets/base",
            "top": null,
            "grid_column": null,
            "overflow_y": null,
            "overflow_x": null,
            "grid_auto_flow": null,
            "grid_area": null,
            "grid_template_columns": null,
            "flex": null,
            "_model_name": "LayoutModel",
            "justify_items": null,
            "grid_row": null,
            "max_height": null,
            "align_content": null,
            "visibility": null,
            "align_self": null,
            "height": null,
            "min_height": null,
            "padding": null,
            "grid_auto_rows": null,
            "grid_gap": null,
            "max_width": null,
            "order": null,
            "_view_module_version": "1.2.0",
            "grid_template_areas": null,
            "object_position": null,
            "object_fit": null,
            "grid_auto_columns": null,
            "margin": null,
            "display": null,
            "left": null
          }
        },
        "4cfbf680277849c1b862d725d2c82205": {
          "model_module": "@jupyter-widgets/controls",
          "model_name": "FloatProgressModel",
          "state": {
            "_view_name": "ProgressView",
            "style": "IPY_MODEL_f2b63415a3334c6bada10f30e793043a",
            "_dom_classes": [],
            "description": "Downloading: ",
            "_model_name": "FloatProgressModel",
            "bar_style": "success",
            "max": 1764,
            "_view_module": "@jupyter-widgets/controls",
            "_model_module_version": "1.5.0",
            "value": 1764,
            "_view_count": null,
            "_view_module_version": "1.5.0",
            "orientation": "horizontal",
            "min": 0,
            "description_tooltip": null,
            "_model_module": "@jupyter-widgets/controls",
            "layout": "IPY_MODEL_327f9e175eea436abc5b90ee96076f93"
          }
        },
        "92c3121ec745413b9408bbff11b4a9a8": {
          "model_module": "@jupyter-widgets/controls",
          "model_name": "HTMLModel",
          "state": {
            "_view_name": "HTMLView",
            "style": "IPY_MODEL_1eafea0c1a7b4a00ae3922d57253bbf6",
            "_dom_classes": [],
            "description": "",
            "_model_name": "HTMLModel",
            "placeholder": "​",
            "_view_module": "@jupyter-widgets/controls",
            "_model_module_version": "1.5.0",
            "value": " 3.90k/? [00:35&lt;00:00, 111B/s]",
            "_view_count": null,
            "_view_module_version": "1.5.0",
            "description_tooltip": null,
            "_model_module": "@jupyter-widgets/controls",
            "layout": "IPY_MODEL_7ed41cf5569448dc97893bb71896f098"
          }
        },
        "f2b63415a3334c6bada10f30e793043a": {
          "model_module": "@jupyter-widgets/controls",
          "model_name": "ProgressStyleModel",
          "state": {
            "_view_name": "StyleView",
            "_model_name": "ProgressStyleModel",
            "description_width": "initial",
            "_view_module": "@jupyter-widgets/base",
            "_model_module_version": "1.5.0",
            "_view_count": null,
            "_view_module_version": "1.2.0",
            "bar_color": null,
            "_model_module": "@jupyter-widgets/controls"
          }
        },
        "327f9e175eea436abc5b90ee96076f93": {
          "model_module": "@jupyter-widgets/base",
          "model_name": "LayoutModel",
          "state": {
            "_view_name": "LayoutView",
            "grid_template_rows": null,
            "right": null,
            "justify_content": null,
            "_view_module": "@jupyter-widgets/base",
            "overflow": null,
            "_model_module_version": "1.2.0",
            "_view_count": null,
            "flex_flow": null,
            "width": null,
            "min_width": null,
            "border": null,
            "align_items": null,
            "bottom": null,
            "_model_module": "@jupyter-widgets/base",
            "top": null,
            "grid_column": null,
            "overflow_y": null,
            "overflow_x": null,
            "grid_auto_flow": null,
            "grid_area": null,
            "grid_template_columns": null,
            "flex": null,
            "_model_name": "LayoutModel",
            "justify_items": null,
            "grid_row": null,
            "max_height": null,
            "align_content": null,
            "visibility": null,
            "align_self": null,
            "height": null,
            "min_height": null,
            "padding": null,
            "grid_auto_rows": null,
            "grid_gap": null,
            "max_width": null,
            "order": null,
            "_view_module_version": "1.2.0",
            "grid_template_areas": null,
            "object_position": null,
            "object_fit": null,
            "grid_auto_columns": null,
            "margin": null,
            "display": null,
            "left": null
          }
        },
        "1eafea0c1a7b4a00ae3922d57253bbf6": {
          "model_module": "@jupyter-widgets/controls",
          "model_name": "DescriptionStyleModel",
          "state": {
            "_view_name": "StyleView",
            "_model_name": "DescriptionStyleModel",
            "description_width": "",
            "_view_module": "@jupyter-widgets/base",
            "_model_module_version": "1.5.0",
            "_view_count": null,
            "_view_module_version": "1.2.0",
            "_model_module": "@jupyter-widgets/controls"
          }
        },
        "7ed41cf5569448dc97893bb71896f098": {
          "model_module": "@jupyter-widgets/base",
          "model_name": "LayoutModel",
          "state": {
            "_view_name": "LayoutView",
            "grid_template_rows": null,
            "right": null,
            "justify_content": null,
            "_view_module": "@jupyter-widgets/base",
            "overflow": null,
            "_model_module_version": "1.2.0",
            "_view_count": null,
            "flex_flow": null,
            "width": null,
            "min_width": null,
            "border": null,
            "align_items": null,
            "bottom": null,
            "_model_module": "@jupyter-widgets/base",
            "top": null,
            "grid_column": null,
            "overflow_y": null,
            "overflow_x": null,
            "grid_auto_flow": null,
            "grid_area": null,
            "grid_template_columns": null,
            "flex": null,
            "_model_name": "LayoutModel",
            "justify_items": null,
            "grid_row": null,
            "max_height": null,
            "align_content": null,
            "visibility": null,
            "align_self": null,
            "height": null,
            "min_height": null,
            "padding": null,
            "grid_auto_rows": null,
            "grid_gap": null,
            "max_width": null,
            "order": null,
            "_view_module_version": "1.2.0",
            "grid_template_areas": null,
            "object_position": null,
            "object_fit": null,
            "grid_auto_columns": null,
            "margin": null,
            "display": null,
            "left": null
          }
        },
        "bf6e1f38551045dc9bf27bf97c29fa1b": {
          "model_module": "@jupyter-widgets/controls",
          "model_name": "HBoxModel",
          "state": {
            "_view_name": "HBoxView",
            "_dom_classes": [],
            "_model_name": "HBoxModel",
            "_view_module": "@jupyter-widgets/controls",
            "_model_module_version": "1.5.0",
            "_view_count": null,
            "_view_module_version": "1.5.0",
            "box_style": "",
            "layout": "IPY_MODEL_44162083a70b47e391fc8b442a7794ee",
            "_model_module": "@jupyter-widgets/controls",
            "children": [
              "IPY_MODEL_b7495ad31a854013b75afec671a2161a",
              "IPY_MODEL_b246fb680b684480b679bb37c1c883a1"
            ]
          }
        },
        "44162083a70b47e391fc8b442a7794ee": {
          "model_module": "@jupyter-widgets/base",
          "model_name": "LayoutModel",
          "state": {
            "_view_name": "LayoutView",
            "grid_template_rows": null,
            "right": null,
            "justify_content": null,
            "_view_module": "@jupyter-widgets/base",
            "overflow": null,
            "_model_module_version": "1.2.0",
            "_view_count": null,
            "flex_flow": null,
            "width": null,
            "min_width": null,
            "border": null,
            "align_items": null,
            "bottom": null,
            "_model_module": "@jupyter-widgets/base",
            "top": null,
            "grid_column": null,
            "overflow_y": null,
            "overflow_x": null,
            "grid_auto_flow": null,
            "grid_area": null,
            "grid_template_columns": null,
            "flex": null,
            "_model_name": "LayoutModel",
            "justify_items": null,
            "grid_row": null,
            "max_height": null,
            "align_content": null,
            "visibility": null,
            "align_self": null,
            "height": null,
            "min_height": null,
            "padding": null,
            "grid_auto_rows": null,
            "grid_gap": null,
            "max_width": null,
            "order": null,
            "_view_module_version": "1.2.0",
            "grid_template_areas": null,
            "object_position": null,
            "object_fit": null,
            "grid_auto_columns": null,
            "margin": null,
            "display": null,
            "left": null
          }
        },
        "b7495ad31a854013b75afec671a2161a": {
          "model_module": "@jupyter-widgets/controls",
          "model_name": "FloatProgressModel",
          "state": {
            "_view_name": "ProgressView",
            "style": "IPY_MODEL_46993b54af32469a91fe786cfc5a0ca2",
            "_dom_classes": [],
            "description": "Downloading: 100%",
            "_model_name": "FloatProgressModel",
            "bar_style": "success",
            "max": 1451,
            "_view_module": "@jupyter-widgets/controls",
            "_model_module_version": "1.5.0",
            "value": 1451,
            "_view_count": null,
            "_view_module_version": "1.5.0",
            "orientation": "horizontal",
            "min": 0,
            "description_tooltip": null,
            "_model_module": "@jupyter-widgets/controls",
            "layout": "IPY_MODEL_82b3d709b1c94ca9b06a73eb2668859f"
          }
        },
        "b246fb680b684480b679bb37c1c883a1": {
          "model_module": "@jupyter-widgets/controls",
          "model_name": "HTMLModel",
          "state": {
            "_view_name": "HTMLView",
            "style": "IPY_MODEL_d7232951fe16446a8247d057c08c8d18",
            "_dom_classes": [],
            "description": "",
            "_model_name": "HTMLModel",
            "placeholder": "​",
            "_view_module": "@jupyter-widgets/controls",
            "_model_module_version": "1.5.0",
            "value": " 1.45k/1.45k [00:34&lt;00:00, 42.2B/s]",
            "_view_count": null,
            "_view_module_version": "1.5.0",
            "description_tooltip": null,
            "_model_module": "@jupyter-widgets/controls",
            "layout": "IPY_MODEL_f4e3049eac3544178066aa4af36391ae"
          }
        },
        "46993b54af32469a91fe786cfc5a0ca2": {
          "model_module": "@jupyter-widgets/controls",
          "model_name": "ProgressStyleModel",
          "state": {
            "_view_name": "StyleView",
            "_model_name": "ProgressStyleModel",
            "description_width": "initial",
            "_view_module": "@jupyter-widgets/base",
            "_model_module_version": "1.5.0",
            "_view_count": null,
            "_view_module_version": "1.2.0",
            "bar_color": null,
            "_model_module": "@jupyter-widgets/controls"
          }
        },
        "82b3d709b1c94ca9b06a73eb2668859f": {
          "model_module": "@jupyter-widgets/base",
          "model_name": "LayoutModel",
          "state": {
            "_view_name": "LayoutView",
            "grid_template_rows": null,
            "right": null,
            "justify_content": null,
            "_view_module": "@jupyter-widgets/base",
            "overflow": null,
            "_model_module_version": "1.2.0",
            "_view_count": null,
            "flex_flow": null,
            "width": null,
            "min_width": null,
            "border": null,
            "align_items": null,
            "bottom": null,
            "_model_module": "@jupyter-widgets/base",
            "top": null,
            "grid_column": null,
            "overflow_y": null,
            "overflow_x": null,
            "grid_auto_flow": null,
            "grid_area": null,
            "grid_template_columns": null,
            "flex": null,
            "_model_name": "LayoutModel",
            "justify_items": null,
            "grid_row": null,
            "max_height": null,
            "align_content": null,
            "visibility": null,
            "align_self": null,
            "height": null,
            "min_height": null,
            "padding": null,
            "grid_auto_rows": null,
            "grid_gap": null,
            "max_width": null,
            "order": null,
            "_view_module_version": "1.2.0",
            "grid_template_areas": null,
            "object_position": null,
            "object_fit": null,
            "grid_auto_columns": null,
            "margin": null,
            "display": null,
            "left": null
          }
        },
        "d7232951fe16446a8247d057c08c8d18": {
          "model_module": "@jupyter-widgets/controls",
          "model_name": "DescriptionStyleModel",
          "state": {
            "_view_name": "StyleView",
            "_model_name": "DescriptionStyleModel",
            "description_width": "",
            "_view_module": "@jupyter-widgets/base",
            "_model_module_version": "1.5.0",
            "_view_count": null,
            "_view_module_version": "1.2.0",
            "_model_module": "@jupyter-widgets/controls"
          }
        },
        "f4e3049eac3544178066aa4af36391ae": {
          "model_module": "@jupyter-widgets/base",
          "model_name": "LayoutModel",
          "state": {
            "_view_name": "LayoutView",
            "grid_template_rows": null,
            "right": null,
            "justify_content": null,
            "_view_module": "@jupyter-widgets/base",
            "overflow": null,
            "_model_module_version": "1.2.0",
            "_view_count": null,
            "flex_flow": null,
            "width": null,
            "min_width": null,
            "border": null,
            "align_items": null,
            "bottom": null,
            "_model_module": "@jupyter-widgets/base",
            "top": null,
            "grid_column": null,
            "overflow_y": null,
            "overflow_x": null,
            "grid_auto_flow": null,
            "grid_area": null,
            "grid_template_columns": null,
            "flex": null,
            "_model_name": "LayoutModel",
            "justify_items": null,
            "grid_row": null,
            "max_height": null,
            "align_content": null,
            "visibility": null,
            "align_self": null,
            "height": null,
            "min_height": null,
            "padding": null,
            "grid_auto_rows": null,
            "grid_gap": null,
            "max_width": null,
            "order": null,
            "_view_module_version": "1.2.0",
            "grid_template_areas": null,
            "object_position": null,
            "object_fit": null,
            "grid_auto_columns": null,
            "margin": null,
            "display": null,
            "left": null
          }
        },
        "c84b71eef0de4c0fa2808a80731aad6d": {
          "model_module": "@jupyter-widgets/controls",
          "model_name": "HBoxModel",
          "state": {
            "_view_name": "HBoxView",
            "_dom_classes": [],
            "_model_name": "HBoxModel",
            "_view_module": "@jupyter-widgets/controls",
            "_model_module_version": "1.5.0",
            "_view_count": null,
            "_view_module_version": "1.5.0",
            "box_style": "",
            "layout": "IPY_MODEL_fceb8f2a923647abb858de161cbf81e3",
            "_model_module": "@jupyter-widgets/controls",
            "children": [
              "IPY_MODEL_bf03db41b7594a8b92aa8d248624f117",
              "IPY_MODEL_0b7d0eee14694820b6bc11c028c70ff6"
            ]
          }
        },
        "fceb8f2a923647abb858de161cbf81e3": {
          "model_module": "@jupyter-widgets/base",
          "model_name": "LayoutModel",
          "state": {
            "_view_name": "LayoutView",
            "grid_template_rows": null,
            "right": null,
            "justify_content": null,
            "_view_module": "@jupyter-widgets/base",
            "overflow": null,
            "_model_module_version": "1.2.0",
            "_view_count": null,
            "flex_flow": null,
            "width": null,
            "min_width": null,
            "border": null,
            "align_items": null,
            "bottom": null,
            "_model_module": "@jupyter-widgets/base",
            "top": null,
            "grid_column": null,
            "overflow_y": null,
            "overflow_x": null,
            "grid_auto_flow": null,
            "grid_area": null,
            "grid_template_columns": null,
            "flex": null,
            "_model_name": "LayoutModel",
            "justify_items": null,
            "grid_row": null,
            "max_height": null,
            "align_content": null,
            "visibility": null,
            "align_self": null,
            "height": null,
            "min_height": null,
            "padding": null,
            "grid_auto_rows": null,
            "grid_gap": null,
            "max_width": null,
            "order": null,
            "_view_module_version": "1.2.0",
            "grid_template_areas": null,
            "object_position": null,
            "object_fit": null,
            "grid_auto_columns": null,
            "margin": null,
            "display": null,
            "left": null
          }
        },
        "bf03db41b7594a8b92aa8d248624f117": {
          "model_module": "@jupyter-widgets/controls",
          "model_name": "FloatProgressModel",
          "state": {
            "_view_name": "ProgressView",
            "style": "IPY_MODEL_9ee4191fcb534c669eeda2ed3b861e30",
            "_dom_classes": [],
            "description": "Downloading: 100%",
            "_model_name": "FloatProgressModel",
            "bar_style": "success",
            "max": 1261920069,
            "_view_module": "@jupyter-widgets/controls",
            "_model_module_version": "1.5.0",
            "value": 1261920069,
            "_view_count": null,
            "_view_module_version": "1.5.0",
            "orientation": "horizontal",
            "min": 0,
            "description_tooltip": null,
            "_model_module": "@jupyter-widgets/controls",
            "layout": "IPY_MODEL_5c04604cdb8849a2a92ae6ec092cf619"
          }
        },
        "0b7d0eee14694820b6bc11c028c70ff6": {
          "model_module": "@jupyter-widgets/controls",
          "model_name": "HTMLModel",
          "state": {
            "_view_name": "HTMLView",
            "style": "IPY_MODEL_51f7f02e731f47a08024c86fbf5960d2",
            "_dom_classes": [],
            "description": "",
            "_model_name": "HTMLModel",
            "placeholder": "​",
            "_view_module": "@jupyter-widgets/controls",
            "_model_module_version": "1.5.0",
            "value": " 1.26G/1.26G [00:31&lt;00:00, 40.5MB/s]",
            "_view_count": null,
            "_view_module_version": "1.5.0",
            "description_tooltip": null,
            "_model_module": "@jupyter-widgets/controls",
            "layout": "IPY_MODEL_65ef5a0842084ebda02bcf5401ade422"
          }
        },
        "9ee4191fcb534c669eeda2ed3b861e30": {
          "model_module": "@jupyter-widgets/controls",
          "model_name": "ProgressStyleModel",
          "state": {
            "_view_name": "StyleView",
            "_model_name": "ProgressStyleModel",
            "description_width": "initial",
            "_view_module": "@jupyter-widgets/base",
            "_model_module_version": "1.5.0",
            "_view_count": null,
            "_view_module_version": "1.2.0",
            "bar_color": null,
            "_model_module": "@jupyter-widgets/controls"
          }
        },
        "5c04604cdb8849a2a92ae6ec092cf619": {
          "model_module": "@jupyter-widgets/base",
          "model_name": "LayoutModel",
          "state": {
            "_view_name": "LayoutView",
            "grid_template_rows": null,
            "right": null,
            "justify_content": null,
            "_view_module": "@jupyter-widgets/base",
            "overflow": null,
            "_model_module_version": "1.2.0",
            "_view_count": null,
            "flex_flow": null,
            "width": null,
            "min_width": null,
            "border": null,
            "align_items": null,
            "bottom": null,
            "_model_module": "@jupyter-widgets/base",
            "top": null,
            "grid_column": null,
            "overflow_y": null,
            "overflow_x": null,
            "grid_auto_flow": null,
            "grid_area": null,
            "grid_template_columns": null,
            "flex": null,
            "_model_name": "LayoutModel",
            "justify_items": null,
            "grid_row": null,
            "max_height": null,
            "align_content": null,
            "visibility": null,
            "align_self": null,
            "height": null,
            "min_height": null,
            "padding": null,
            "grid_auto_rows": null,
            "grid_gap": null,
            "max_width": null,
            "order": null,
            "_view_module_version": "1.2.0",
            "grid_template_areas": null,
            "object_position": null,
            "object_fit": null,
            "grid_auto_columns": null,
            "margin": null,
            "display": null,
            "left": null
          }
        },
        "51f7f02e731f47a08024c86fbf5960d2": {
          "model_module": "@jupyter-widgets/controls",
          "model_name": "DescriptionStyleModel",
          "state": {
            "_view_name": "StyleView",
            "_model_name": "DescriptionStyleModel",
            "description_width": "",
            "_view_module": "@jupyter-widgets/base",
            "_model_module_version": "1.5.0",
            "_view_count": null,
            "_view_module_version": "1.2.0",
            "_model_module": "@jupyter-widgets/controls"
          }
        },
        "65ef5a0842084ebda02bcf5401ade422": {
          "model_module": "@jupyter-widgets/base",
          "model_name": "LayoutModel",
          "state": {
            "_view_name": "LayoutView",
            "grid_template_rows": null,
            "right": null,
            "justify_content": null,
            "_view_module": "@jupyter-widgets/base",
            "overflow": null,
            "_model_module_version": "1.2.0",
            "_view_count": null,
            "flex_flow": null,
            "width": null,
            "min_width": null,
            "border": null,
            "align_items": null,
            "bottom": null,
            "_model_module": "@jupyter-widgets/base",
            "top": null,
            "grid_column": null,
            "overflow_y": null,
            "overflow_x": null,
            "grid_auto_flow": null,
            "grid_area": null,
            "grid_template_columns": null,
            "flex": null,
            "_model_name": "LayoutModel",
            "justify_items": null,
            "grid_row": null,
            "max_height": null,
            "align_content": null,
            "visibility": null,
            "align_self": null,
            "height": null,
            "min_height": null,
            "padding": null,
            "grid_auto_rows": null,
            "grid_gap": null,
            "max_width": null,
            "order": null,
            "_view_module_version": "1.2.0",
            "grid_template_areas": null,
            "object_position": null,
            "object_fit": null,
            "grid_auto_columns": null,
            "margin": null,
            "display": null,
            "left": null
          }
        }
      }
    }
  },
  "cells": [
    {
      "cell_type": "markdown",
      "metadata": {
        "id": "view-in-github",
        "colab_type": "text"
      },
      "source": [
        "<a href=\"https://colab.research.google.com/github/kosuke-kitahara/xlsr-wav2vec2-phoneme-recognition/blob/main/Fine_tuning_XLSR_Wav2Vec2_for_Phoneme_Recognition.ipynb\" target=\"_parent\"><img src=\"https://colab.research.google.com/assets/colab-badge.svg\" alt=\"Open In Colab\"/></a>"
      ]
    },
    {
      "cell_type": "markdown",
      "metadata": {
        "id": "LBSYoWbi-45k"
      },
      "source": [
        "# **Fine-tuning Wav2Vec2 for English ASR with 🤗 Transformers**"
      ]
    },
    {
      "cell_type": "markdown",
      "metadata": {
        "id": "V7YOT2mnUiea"
      },
      "source": [
        "Wav2Vec2 is a pretrained model for Automatic Speech Recognition (ASR) and was released in [September 2020](https://ai.facebook.com/blog/wav2vec-20-learning-the-structure-of-speech-from-raw-audio/) by Alexei Baevski, Michael Auli, and Alex Conneau.\n",
        "\n",
        "Using a novel contrastive pretraining objective, Wav2Vec2 learns powerful speech representations from more than 50.000 hours of unlabeled speech. Similar, to [BERT's masked language modeling](http://jalammar.github.io/illustrated-bert/), the model learns contextualized speech representations by randomly masking feature vectors before passing them to a transformer network.\n",
        "\n",
        "![wav2vec2_structure](https://raw.githubusercontent.com/patrickvonplaten/scientific_images/master/wav2vec2.png)\n",
        "\n",
        "For the first time, it has been shown that pretraining, followed by fine-tuning on very little labeled speech data achieves competitive results to state-of-the-art ASR systems. Using as little as 10 minutes of labeled data, Wav2Vec2 yields a word error rate (WER) of less than 5% on the clean test set of [LibriSpeech](https://huggingface.co/datasets/librispeech_asr) - *cf.* with Table 9 of the [paper](https://arxiv.org/pdf/2006.11477.pdf)."
      ]
    },
    {
      "cell_type": "markdown",
      "metadata": {
        "id": "nT_QrfWtsxIz"
      },
      "source": [
        "In this notebook, we will give an in-detail explanation of how Wav2Vec2's pretrained checkpoints can be fine-tuned on any English ASR dataset. Note that in this notebook, we will fine-tune Wav2Vec2 without making use of a language model. It is much simpler to use Wav2Vec2 without a language model as an end-to-end ASR system and it has been shown that a standalone Wav2Vec2 acoustic model achieves impressive results. For demonstration purposes, we fine-tune the \"base\"-sized [pretrained checkpoint](https://huggingface.co/facebook/wav2vec2-base) on the rather small [Timit](https://huggingface.co/datasets/timit_asr) dataset that contains just 5h of training data."
      ]
    },
    {
      "cell_type": "markdown",
      "metadata": {
        "id": "Gx9OdDYrCtQ1"
      },
      "source": [
        "Wav2Vec2 is fine-tuned using Connectionist Temporal Classification (CTC), which is an algorithm that is used to train neural networks for sequence-to-sequence problems and mainly in Automatic Speech Recognition and handwriting recognition. \n",
        "\n",
        "I highly recommend reading the blog post [Sequence Modeling with CTC (2017)](https://distill.pub/2017/ctc/) very well-written blog post by Awni Hannun."
      ]
    },
    {
      "cell_type": "markdown",
      "metadata": {
        "id": "e335hPmdtASZ"
      },
      "source": [
        "Before we start, let's install both `datasets` and `transformers` from master. Also, we need the `soundfile` package to load audio files and the `jiwer` to evaluate our fine-tuned model using the [word error rate (WER)](https://huggingface.co/metrics/wer) metric ${}^1$."
      ]
    },
    {
      "cell_type": "code",
      "metadata": {
        "id": "c8eh87Hoee5d"
      },
      "source": [
        "%%capture\n",
        "!pip install datasets==1.4.1\n",
        "!pip install transformers==4.4.0\n",
        "!pip install soundfile\n",
        "!pip install jiwer"
      ],
      "execution_count": 3,
      "outputs": []
    },
    {
      "cell_type": "markdown",
      "metadata": {
        "id": "Mn9swf6EQ9Vd"
      },
      "source": [
        "\n",
        "\n",
        "\n",
        "---\n",
        "\n",
        "${}^1$ Timit is usually evaluated using the phoneme error rate (PER), but by far the most common metric in ASR is the word error rate (WER). To keep this notebook as general as possible we decided to evaluate the model using WER."
      ]
    },
    {
      "cell_type": "markdown",
      "metadata": {
        "id": "0mW-C1Nt-j7k"
      },
      "source": [
        "## Prepare Data, Tokenizer, Feature Extractor"
      ]
    },
    {
      "cell_type": "markdown",
      "metadata": {
        "id": "BeBosnY9BH3e"
      },
      "source": [
        "ASR models transcribe speech to text, which means that we both need a feature extractor that processes the speech signal to the model's input format, *e.g.* a feature vector, and a tokenizer that processes the model's output format to text. \n",
        "\n",
        "In 🤗 Transformers, the Wav2Vec2 model is thus accompanied by both a tokenizer, called [Wav2Vec2CTCTokenizer](https://huggingface.co/transformers/master/model_doc/wav2vec2.html#wav2vec2ctctokenizer), and a feature extractor, called [Wav2Vec2FeatureExtractor](https://huggingface.co/transformers/master/model_doc/wav2vec2.html#wav2vec2featureextractor).\n",
        "\n",
        "Let's start by creating the tokenizer responsible for decoding the model's predictions."
      ]
    },
    {
      "cell_type": "markdown",
      "metadata": {
        "id": "sEXEWEJGQPqD"
      },
      "source": [
        "### Create Wav2Vec2CTCTokenizer"
      ]
    },
    {
      "cell_type": "markdown",
      "metadata": {
        "id": "tWmMikuNEKl_"
      },
      "source": [
        "The [pretrained Wav2Vec2 checkpoint]( ) maps the speech signal to a sequence of context representations as illustrated in the figure above. A fine-tuned Wav2Vec2 checkpoint needs to map this sequence of context representations to its corresponding transcription so that a linear layer has to be added on top of the transformer block (shown in yellow). This linear layer is used to classifies each context representation to a token class analogous how, *e.g.*, after pretraining a linear layer is added on top of BERT's embeddings for further classification - *cf.* with *\"BERT\"* section of this [blog post](https://huggingface.co/blog/warm-starting-encoder-decoder).\n",
        "\n",
        "The output size of this layer corresponds to the number of tokens in the vocabulary, which does **not** depend on Wav2Vec2's pretraining task, but only on the labeled dataset used for fine-tuning. So in the first step, we will take a look at Timit and define a vocabulary based on the dataset's transcriptions."
      ]
    },
    {
      "cell_type": "markdown",
      "metadata": {
        "id": "bee4g9rpLxll"
      },
      "source": [
        "Let's start by loading the dataset and taking a look at its structure."
      ]
    },
    {
      "cell_type": "code",
      "metadata": {
        "id": "2MMXcWFFgCXU",
        "colab": {
          "base_uri": "https://localhost:8080/",
          "height": 120,
          "referenced_widgets": [
            "601ba48abe6c4371ae966176ce495d7a",
            "0a15bd152e0c4ab79cc4807fae0512db",
            "f49d946160234c12b7436027c7e02509",
            "ab62e631a98f42e290052566c9c39761",
            "34abcc5c04c44afcaf6a41ffeedb46d5",
            "1206203a385d4243bdf77fdecdb154de",
            "83388281b298458c9570636179e3868f",
            "cc8895b064044cf1aa84a5dfe121965e",
            "3a5075e60e0645bc889dadc8566d67f3",
            "d8992d0638374bdf8ab50526f291aa61",
            "8528d5ed870e492e99ff81a84746bd2e",
            "3e7ab2c8721947f9afc7c30dfcf7ff10",
            "899b07b03a6d497fa60abeeb1b036ab7",
            "25955b796424492f8240c9964f88e28b",
            "bf7d721f0f744fb6a2738485f406ced6",
            "99edfaba739d44e499a2e6adbff66ced",
            "e54b6797e38d4d75a3153ae2e0e90656",
            "a490aa661fa948259e6544428e74cd66",
            "51d4f124ae734cde86e1df613222b218",
            "1b93d4a7b3e44011a69b4669794e3e39",
            "5987b7eff9cb486cb7843809d7ecab65",
            "f0a9d27aec784f5cafebbf75528a452e",
            "df37eb6e115d492bb31f57d8b08b9a76",
            "3c5eb82360734182995d52fd5cec6704"
          ]
        },
        "outputId": "d8705527-7ee3-4f0c-d430-9d6fd291be69"
      },
      "source": [
        "from datasets import load_dataset, load_metric\n",
        "\n",
        "timit = load_dataset(\"timit_asr\", \n",
        "                    #  download_mode='force_redownload'\n",
        "                     )"
      ],
      "execution_count": 4,
      "outputs": [
        {
          "output_type": "stream",
          "text": [
            "Downloading and preparing dataset timit_asr/clean (download: 828.75 MiB, generated: 7.25 MiB, post-processed: Unknown size, total: 836.00 MiB) to /root/.cache/huggingface/datasets/timit_asr/clean/2.0.1/72abf9645fc2cfd87e21af1e381de0ab6ed1be4123c441ca97dc6766b96816a6...\n"
          ],
          "name": "stdout"
        },
        {
          "output_type": "display_data",
          "data": {
            "application/vnd.jupyter.widget-view+json": {
              "model_id": "601ba48abe6c4371ae966176ce495d7a",
              "version_minor": 0,
              "version_major": 2
            },
            "text/plain": [
              "HBox(children=(FloatProgress(value=0.0, description='Downloading', max=869007403.0, style=ProgressStyle(descri…"
            ]
          },
          "metadata": {
            "tags": []
          }
        },
        {
          "output_type": "stream",
          "text": [
            "\n"
          ],
          "name": "stdout"
        },
        {
          "output_type": "display_data",
          "data": {
            "application/vnd.jupyter.widget-view+json": {
              "model_id": "3a5075e60e0645bc889dadc8566d67f3",
              "version_minor": 0,
              "version_major": 2
            },
            "text/plain": [
              "HBox(children=(FloatProgress(value=1.0, bar_style='info', max=1.0), HTML(value='')))"
            ]
          },
          "metadata": {
            "tags": []
          }
        },
        {
          "output_type": "display_data",
          "data": {
            "application/vnd.jupyter.widget-view+json": {
              "model_id": "e54b6797e38d4d75a3153ae2e0e90656",
              "version_minor": 0,
              "version_major": 2
            },
            "text/plain": [
              "HBox(children=(FloatProgress(value=1.0, bar_style='info', max=1.0), HTML(value='')))"
            ]
          },
          "metadata": {
            "tags": []
          }
        },
        {
          "output_type": "stream",
          "text": [
            "Dataset timit_asr downloaded and prepared to /root/.cache/huggingface/datasets/timit_asr/clean/2.0.1/72abf9645fc2cfd87e21af1e381de0ab6ed1be4123c441ca97dc6766b96816a6. Subsequent calls will reuse this data.\n"
          ],
          "name": "stdout"
        }
      ]
    },
    {
      "cell_type": "code",
      "metadata": {
        "id": "QbIM-L0xdvf4",
        "colab": {
          "base_uri": "https://localhost:8080/"
        },
        "outputId": "7ccfe9be-f8ea-41e8-c001-907b1f544ddc"
      },
      "source": [
        "timit"
      ],
      "execution_count": 5,
      "outputs": [
        {
          "output_type": "execute_result",
          "data": {
            "text/plain": [
              "DatasetDict({\n",
              "    train: Dataset({\n",
              "        features: ['file', 'text', 'phonetic_detail', 'word_detail', 'dialect_region', 'sentence_type', 'speaker_id', 'id'],\n",
              "        num_rows: 4620\n",
              "    })\n",
              "    test: Dataset({\n",
              "        features: ['file', 'text', 'phonetic_detail', 'word_detail', 'dialect_region', 'sentence_type', 'speaker_id', 'id'],\n",
              "        num_rows: 1680\n",
              "    })\n",
              "})"
            ]
          },
          "metadata": {
            "tags": []
          },
          "execution_count": 5
        }
      ]
    },
    {
      "cell_type": "markdown",
      "metadata": {
        "id": "ri5y5N_HMANq"
      },
      "source": [
        "Many ASR datasets only provide the target text, `'text'` for each audio file `'file'`. Timit actually provides much more information about each audio file, such as the `'phonetic_detail'`, etc., which is why many researchers choose to evaluate their models on phoneme classification instead of speech recognition when working with Timit. However, we want to keep the notebook as general as possible, so that we will only consider the transcribed text for fine-tuning.\n",
        "\n"
      ]
    },
    {
      "cell_type": "code",
      "metadata": {
        "id": "axHrUHezyJef",
        "colab": {
          "base_uri": "https://localhost:8080/",
          "height": 669
        },
        "outputId": "ad4af1a4-a663-400c-8a6b-3a3955468d75"
      },
      "source": [
        "from datasets import ClassLabel\n",
        "import random\n",
        "import pandas as pd\n",
        "from IPython.display import display, HTML\n",
        "\n",
        "def show_random_elements(dataset, num_examples=10):\n",
        "    assert num_examples <= len(dataset), \"Can't pick more elements than there are in the dataset.\"\n",
        "    picks = []\n",
        "    for _ in range(num_examples):\n",
        "        pick = random.randint(0, len(dataset)-1)\n",
        "        while pick in picks:\n",
        "            pick = random.randint(0, len(dataset)-1)\n",
        "        picks.append(pick)\n",
        "\n",
        "    df = pd.DataFrame(dataset[picks])\n",
        "    display(HTML(df.to_html()))\n",
        "\n",
        "\n",
        "show_random_elements(timit['train'].remove_columns([\"file\", \"phonetic_detail\", \"word_detail\", \"dialect_region\", \"id\", \n",
        "                                                    \"sentence_type\", \"speaker_id\"]), num_examples=20)"
      ],
      "execution_count": 6,
      "outputs": [
        {
          "output_type": "display_data",
          "data": {
            "text/html": [
              "<table border=\"1\" class=\"dataframe\">\n",
              "  <thead>\n",
              "    <tr style=\"text-align: right;\">\n",
              "      <th></th>\n",
              "      <th>text</th>\n",
              "    </tr>\n",
              "  </thead>\n",
              "  <tbody>\n",
              "    <tr>\n",
              "      <th>0</th>\n",
              "      <td>Would such an act of refusal be useful?</td>\n",
              "    </tr>\n",
              "    <tr>\n",
              "      <th>1</th>\n",
              "      <td>Would such an act of refusal be useful?</td>\n",
              "    </tr>\n",
              "    <tr>\n",
              "      <th>2</th>\n",
              "      <td>Would such an act of refusal be useful?</td>\n",
              "    </tr>\n",
              "    <tr>\n",
              "      <th>3</th>\n",
              "      <td>Would such an act of refusal be useful?</td>\n",
              "    </tr>\n",
              "    <tr>\n",
              "      <th>4</th>\n",
              "      <td>Would such an act of refusal be useful?</td>\n",
              "    </tr>\n",
              "    <tr>\n",
              "      <th>5</th>\n",
              "      <td>Would such an act of refusal be useful?</td>\n",
              "    </tr>\n",
              "    <tr>\n",
              "      <th>6</th>\n",
              "      <td>Would such an act of refusal be useful?</td>\n",
              "    </tr>\n",
              "    <tr>\n",
              "      <th>7</th>\n",
              "      <td>Would such an act of refusal be useful?</td>\n",
              "    </tr>\n",
              "    <tr>\n",
              "      <th>8</th>\n",
              "      <td>Would such an act of refusal be useful?</td>\n",
              "    </tr>\n",
              "    <tr>\n",
              "      <th>9</th>\n",
              "      <td>Would such an act of refusal be useful?</td>\n",
              "    </tr>\n",
              "    <tr>\n",
              "      <th>10</th>\n",
              "      <td>Would such an act of refusal be useful?</td>\n",
              "    </tr>\n",
              "    <tr>\n",
              "      <th>11</th>\n",
              "      <td>Would such an act of refusal be useful?</td>\n",
              "    </tr>\n",
              "    <tr>\n",
              "      <th>12</th>\n",
              "      <td>Would such an act of refusal be useful?</td>\n",
              "    </tr>\n",
              "    <tr>\n",
              "      <th>13</th>\n",
              "      <td>Would such an act of refusal be useful?</td>\n",
              "    </tr>\n",
              "    <tr>\n",
              "      <th>14</th>\n",
              "      <td>Would such an act of refusal be useful?</td>\n",
              "    </tr>\n",
              "    <tr>\n",
              "      <th>15</th>\n",
              "      <td>Would such an act of refusal be useful?</td>\n",
              "    </tr>\n",
              "    <tr>\n",
              "      <th>16</th>\n",
              "      <td>Would such an act of refusal be useful?</td>\n",
              "    </tr>\n",
              "    <tr>\n",
              "      <th>17</th>\n",
              "      <td>Would such an act of refusal be useful?</td>\n",
              "    </tr>\n",
              "    <tr>\n",
              "      <th>18</th>\n",
              "      <td>Would such an act of refusal be useful?</td>\n",
              "    </tr>\n",
              "    <tr>\n",
              "      <th>19</th>\n",
              "      <td>Would such an act of refusal be useful?</td>\n",
              "    </tr>\n",
              "  </tbody>\n",
              "</table>"
            ],
            "text/plain": [
              "<IPython.core.display.HTML object>"
            ]
          },
          "metadata": {
            "tags": []
          }
        }
      ]
    },
    {
      "cell_type": "code",
      "metadata": {
        "id": "lxq03l87q8SG"
      },
      "source": [
        "def get_phonetic_code(x):\n",
        "    # print(x)\n",
        "    x['phonetic_codes'] = \\\n",
        "        x['phonetic_detail']['utterance'][1:-1]\n",
        "    return x"
      ],
      "execution_count": 7,
      "outputs": []
    },
    {
      "cell_type": "code",
      "metadata": {
        "id": "0nmqvs8gq7sR",
        "colab": {
          "base_uri": "https://localhost:8080/",
          "height": 115,
          "referenced_widgets": [
            "3ac0e92b574d42c9a52a1e4831870294",
            "0626980e60f44170be50db1333445eeb",
            "230a936708ba4b62a38e18d842f597ba",
            "8c7c3290cdd74529989ca24c3161b9fb",
            "f6f57a972822467d87b62ce54cfd01ed",
            "1a55522c4f1a41fd9637794c7a21fd92",
            "3cf28cb02b9943b98d82adecd91a0ba8",
            "e89bba625f214630a5f967597a8bcbab",
            "ae90545dfe8d47609ce1cd556e20a8c7",
            "fd45dd913cae43988ddb638520f2e7d5",
            "d4b0d72054314069b849cd452046280d",
            "6cfe5642c83d41c389ccf283619add8b",
            "9e63ee7f603b48d4875013347ce25b6b",
            "97129fa1abfd43c6b37ed4e847290136",
            "7cd55304e52a4133a9782c1ee75326b3",
            "5609402a768649a4992739c7f86beb73"
          ]
        },
        "outputId": "d796dc18-1864-4e2d-fe12-30975b7bf94c"
      },
      "source": [
        "timit = timit.map(get_phonetic_code)"
      ],
      "execution_count": 8,
      "outputs": [
        {
          "output_type": "display_data",
          "data": {
            "application/vnd.jupyter.widget-view+json": {
              "model_id": "3ac0e92b574d42c9a52a1e4831870294",
              "version_minor": 0,
              "version_major": 2
            },
            "text/plain": [
              "HBox(children=(FloatProgress(value=0.0, max=4620.0), HTML(value='')))"
            ]
          },
          "metadata": {
            "tags": []
          }
        },
        {
          "output_type": "stream",
          "text": [
            "\n"
          ],
          "name": "stdout"
        },
        {
          "output_type": "display_data",
          "data": {
            "application/vnd.jupyter.widget-view+json": {
              "model_id": "ae90545dfe8d47609ce1cd556e20a8c7",
              "version_minor": 0,
              "version_major": 2
            },
            "text/plain": [
              "HBox(children=(FloatProgress(value=0.0, max=1680.0), HTML(value='')))"
            ]
          },
          "metadata": {
            "tags": []
          }
        },
        {
          "output_type": "stream",
          "text": [
            "\n"
          ],
          "name": "stdout"
        }
      ]
    },
    {
      "cell_type": "code",
      "metadata": {
        "id": "h3_grkp_tNDx",
        "colab": {
          "base_uri": "https://localhost:8080/"
        },
        "outputId": "d763222a-a7fc-44a3-9b84-cdcfc7ab44ed"
      },
      "source": [
        "print(timit['train']['text'][0])\n",
        "print(timit['train']['phonetic_codes'][0])"
      ],
      "execution_count": 9,
      "outputs": [
        {
          "output_type": "stream",
          "text": [
            "Would such an act of refusal be useful?\n",
            "['w', 'ix', 'dcl', 's', 'ah', 'tcl', 'ch', 'ix', 'n', 'ae', 'kcl', 't', 'ix', 'v', 'r', 'ix', 'f', 'y', 'ux', 'zh', 'el', 'bcl', 'b', 'iy', 'y', 'ux', 's', 'f', 'el']\n"
          ],
          "name": "stdout"
        }
      ]
    },
    {
      "cell_type": "code",
      "metadata": {
        "id": "SmQzuHcZtY66"
      },
      "source": [
        "# IPAに変換\n",
        "# ref: https://en.wikipedia.org/wiki/ARPABET\n",
        "arphabet_to_ipa = {\n",
        "    'aa': 'ɑ',\n",
        "    'ae': 'æ',\n",
        "    'ah':'ʌ',\n",
        "    'ao':'ɔ',\n",
        "    'aw':'W',\n",
        "    'ax':'ə',\n",
        "    'axr':'ɚ',\n",
        "    'ay':'Y',\n",
        "    'eh':'ɛ',\n",
        "    'er':'ɝ',\n",
        "    'ey':'e',\n",
        "    'ih':'ɪ',\n",
        "    'ix':'ɨ',\n",
        "    'iy':'i',\n",
        "    'ow':'o',\n",
        "    'oy':'O',\n",
        "    'uh':'ʊ',\n",
        "    'uw':'u',\n",
        "    'ux':'ʉ',\n",
        "    'b':'b',\n",
        "    'ch':'C',\n",
        "    'd':'d',\n",
        "    'dh':'ð',\n",
        "    'dx':'ɾ',\n",
        "    'el':'l̩',\n",
        "    'em':'m̩',\n",
        "    'en':'n̩',\n",
        "    'f':'f',\n",
        "    'g':'g',\n",
        "    'hh':'h',\n",
        "    'h':'h',\n",
        "    'jh':'J',\n",
        "    'k':'k',\n",
        "    'l':'l',    \n",
        "    'm':'m',    \n",
        "    'n':'n',    \n",
        "    'ng':'ŋ',    \n",
        "    'nx':'ɾ̃',    \n",
        "    'p':'p',    \n",
        "    'q':'ʔ',    \n",
        "    'r':'ɹ',    \n",
        "    's':'s',    \n",
        "    'sh':'ʃ',    \n",
        "    't':'t',    \n",
        "    'th':'θ',    \n",
        "    'v':'v',    \n",
        "    'w':'w',    \n",
        "    'wh':'ʍ',    \n",
        "    'y':'j',    \n",
        "    'z':'z',    \n",
        "    'zh':'ʒ',    \n",
        "    'ax-h':'ə̥',    \n",
        "    'bcl':'b̚',    \n",
        "    'dcl':'d̚',    \n",
        "    'eng':'ŋ̍',    \n",
        "    'gcl':'ɡ̚',    \n",
        "    'hv':'ɦ',    \n",
        "    'kcl':'k̚',    \n",
        "    'pcl':'p̚',    \n",
        "    'tcl':'t̚',    \n",
        "}"
      ],
      "execution_count": 10,
      "outputs": []
    },
    {
      "cell_type": "code",
      "metadata": {
        "id": "_zbWDbmCw2pK",
        "colab": {
          "base_uri": "https://localhost:8080/"
        },
        "outputId": "757d1932-60f0-4d31-d025-cf223e790554"
      },
      "source": [
        "print(len(set(arphabet_to_ipa.keys())))\n",
        "print(len(set(arphabet_to_ipa.values())))"
      ],
      "execution_count": 11,
      "outputs": [
        {
          "output_type": "stream",
          "text": [
            "60\n",
            "59\n"
          ],
          "name": "stdout"
        }
      ]
    },
    {
      "cell_type": "code",
      "metadata": {
        "id": "AjzcT0DYw5_Z"
      },
      "source": [
        "# hhとhだけvalueがhで重複していることを確認\n",
        "# from collections import Counter\n",
        "# Counter(arphabet_to_ipa.values())"
      ],
      "execution_count": 12,
      "outputs": []
    },
    {
      "cell_type": "code",
      "metadata": {
        "id": "bMUs86-lxXBw",
        "colab": {
          "base_uri": "https://localhost:8080/",
          "height": 115,
          "referenced_widgets": [
            "681b876c2d30450bad8e142366543ea4",
            "525a40c0c60a4c18bd3a24e831ad5106",
            "582c9317470042388784983db9e6730b",
            "15dbd85ea64449ffa76352a412e619d8",
            "2affb86c5a63402ca55d3ed8a37fe782",
            "da94c40ca4a94db5b51ad2a2b78d98a4",
            "543d652b3bf846588bc83edddb4d0466",
            "a64b87943f3f454393f41f41ebbae8bf",
            "5bbe9d8dbd1844cba25bd385635f8a80",
            "9aee7b8795e94a40a466a0e680ef0d8d",
            "a2c71a60016f45988f16494b2781defc",
            "93125b0699f945ac924ffadf76d01fd3",
            "a8f78e417dee444f95208896a854975f",
            "32a376035f014e1c9ba6f373de0e33d0",
            "b9d6114e25254492b88c39567c60b4ab",
            "7d7ebf6eb58b47b9b54167cd95e8b80d"
          ]
        },
        "outputId": "6b1ece9b-238a-4a32-b5f7-8c53177d6263"
      },
      "source": [
        "# Convert phonetic code to IPA represented in one character\n",
        "def convert_to_ipa(x):\n",
        "    # x['ipa'] = ' '.join([arphabet_to_ipa[code] for code in x['phonetic_codes']])\n",
        "    x['ipa'] = ' '.join([arphabet_to_ipa[code] for code in x['phonetic_codes']])\n",
        "    return x\n",
        "\n",
        "timit = timit.map(convert_to_ipa)"
      ],
      "execution_count": 13,
      "outputs": [
        {
          "output_type": "display_data",
          "data": {
            "application/vnd.jupyter.widget-view+json": {
              "model_id": "681b876c2d30450bad8e142366543ea4",
              "version_minor": 0,
              "version_major": 2
            },
            "text/plain": [
              "HBox(children=(FloatProgress(value=0.0, max=4620.0), HTML(value='')))"
            ]
          },
          "metadata": {
            "tags": []
          }
        },
        {
          "output_type": "stream",
          "text": [
            "\n"
          ],
          "name": "stdout"
        },
        {
          "output_type": "display_data",
          "data": {
            "application/vnd.jupyter.widget-view+json": {
              "model_id": "5bbe9d8dbd1844cba25bd385635f8a80",
              "version_minor": 0,
              "version_major": 2
            },
            "text/plain": [
              "HBox(children=(FloatProgress(value=0.0, max=1680.0), HTML(value='')))"
            ]
          },
          "metadata": {
            "tags": []
          }
        },
        {
          "output_type": "stream",
          "text": [
            "\n"
          ],
          "name": "stdout"
        }
      ]
    },
    {
      "cell_type": "code",
      "metadata": {
        "id": "5ZYCRWw1x4Oo",
        "colab": {
          "base_uri": "https://localhost:8080/"
        },
        "outputId": "3bb2757e-a520-498b-edf9-ab8af524c855"
      },
      "source": [
        "print(timit['train']['text'][0])\n",
        "print(timit['train']['phonetic_codes'][0])\n",
        "print(timit['train']['ipa'][0])"
      ],
      "execution_count": 14,
      "outputs": [
        {
          "output_type": "stream",
          "text": [
            "Would such an act of refusal be useful?\n",
            "['w', 'ix', 'dcl', 's', 'ah', 'tcl', 'ch', 'ix', 'n', 'ae', 'kcl', 't', 'ix', 'v', 'r', 'ix', 'f', 'y', 'ux', 'zh', 'el', 'bcl', 'b', 'iy', 'y', 'ux', 's', 'f', 'el']\n",
            "w ɨ d̚ s ʌ t̚ C ɨ n æ k̚ t ɨ v ɹ ɨ f j ʉ ʒ l̩ b̚ b i j ʉ s f l̩\n"
          ],
          "name": "stdout"
        }
      ]
    },
    {
      "cell_type": "code",
      "metadata": {
        "id": "kbyq6lDgQc2a"
      },
      "source": [
        "timit = timit.remove_columns([\"text\", \"phonetic_detail\", \"word_detail\", \"dialect_region\", \"id\", \"sentence_type\", \"speaker_id\"])"
      ],
      "execution_count": 15,
      "outputs": []
    },
    {
      "cell_type": "code",
      "metadata": {
        "id": "7XKp1Gqa1y0k",
        "colab": {
          "base_uri": "https://localhost:8080/"
        },
        "outputId": "5b4f0c54-1532-4773-9fc2-24cf8699170f"
      },
      "source": [
        "timit"
      ],
      "execution_count": 16,
      "outputs": [
        {
          "output_type": "execute_result",
          "data": {
            "text/plain": [
              "DatasetDict({\n",
              "    train: Dataset({\n",
              "        features: ['file', 'ipa', 'phonetic_codes'],\n",
              "        num_rows: 4620\n",
              "    })\n",
              "    test: Dataset({\n",
              "        features: ['file', 'ipa', 'phonetic_codes'],\n",
              "        num_rows: 1680\n",
              "    })\n",
              "})"
            ]
          },
          "metadata": {
            "tags": []
          },
          "execution_count": 16
        }
      ]
    },
    {
      "cell_type": "markdown",
      "metadata": {
        "id": "Go9Hq4e4NDT9"
      },
      "source": [
        "Let's write a short function to display some random samples of the dataset and run it a couple of times to get a feeling for the transcriptions."
      ]
    },
    {
      "cell_type": "code",
      "metadata": {
        "id": "72737oog2F6U"
      },
      "source": [
        "from datasets import ClassLabel\n",
        "import random\n",
        "import pandas as pd\n",
        "from IPython.display import display, HTML\n",
        "\n",
        "def show_random_elements(dataset, num_examples=10):\n",
        "    assert num_examples <= len(dataset), \"Can't pick more elements than there are in the dataset.\"\n",
        "    picks = []\n",
        "    for _ in range(num_examples):\n",
        "        pick = random.randint(0, len(dataset)-1)\n",
        "        while pick in picks:\n",
        "            pick = random.randint(0, len(dataset)-1)\n",
        "        picks.append(pick)\n",
        "    \n",
        "    df = pd.DataFrame(dataset[picks])\n",
        "    display(HTML(df.to_html()))"
      ],
      "execution_count": 17,
      "outputs": []
    },
    {
      "cell_type": "code",
      "metadata": {
        "id": "K_JUmf3G3b9S",
        "colab": {
          "base_uri": "https://localhost:8080/",
          "height": 669
        },
        "outputId": "ebb76a5f-8fb7-4ff2-cd5d-4d1b08a286c6"
      },
      "source": [
        "show_random_elements(timit[\"train\"].remove_columns([\"file\"]), num_examples=20)"
      ],
      "execution_count": 18,
      "outputs": [
        {
          "output_type": "display_data",
          "data": {
            "text/html": [
              "<table border=\"1\" class=\"dataframe\">\n",
              "  <thead>\n",
              "    <tr style=\"text-align: right;\">\n",
              "      <th></th>\n",
              "      <th>ipa</th>\n",
              "      <th>phonetic_codes</th>\n",
              "    </tr>\n",
              "  </thead>\n",
              "  <tbody>\n",
              "    <tr>\n",
              "      <th>0</th>\n",
              "      <td>w ɨ d̚ s ʌ t̚ C ɨ n æ k̚ t ɨ v ɹ ɨ f j ʉ ʒ l̩ b̚ b i j ʉ s f l̩</td>\n",
              "      <td>[w, ix, dcl, s, ah, tcl, ch, ix, n, ae, kcl, t, ix, v, r, ix, f, y, ux, zh, el, bcl, b, iy, y, ux, s, f, el]</td>\n",
              "    </tr>\n",
              "    <tr>\n",
              "      <th>1</th>\n",
              "      <td>w ɨ d̚ s ʌ t̚ C ɨ n æ k̚ t ɨ v ɹ ɨ f j ʉ ʒ l̩ b̚ b i j ʉ s f l̩</td>\n",
              "      <td>[w, ix, dcl, s, ah, tcl, ch, ix, n, ae, kcl, t, ix, v, r, ix, f, y, ux, zh, el, bcl, b, iy, y, ux, s, f, el]</td>\n",
              "    </tr>\n",
              "    <tr>\n",
              "      <th>2</th>\n",
              "      <td>w ɨ d̚ s ʌ t̚ C ɨ n æ k̚ t ɨ v ɹ ɨ f j ʉ ʒ l̩ b̚ b i j ʉ s f l̩</td>\n",
              "      <td>[w, ix, dcl, s, ah, tcl, ch, ix, n, ae, kcl, t, ix, v, r, ix, f, y, ux, zh, el, bcl, b, iy, y, ux, s, f, el]</td>\n",
              "    </tr>\n",
              "    <tr>\n",
              "      <th>3</th>\n",
              "      <td>w ɨ d̚ s ʌ t̚ C ɨ n æ k̚ t ɨ v ɹ ɨ f j ʉ ʒ l̩ b̚ b i j ʉ s f l̩</td>\n",
              "      <td>[w, ix, dcl, s, ah, tcl, ch, ix, n, ae, kcl, t, ix, v, r, ix, f, y, ux, zh, el, bcl, b, iy, y, ux, s, f, el]</td>\n",
              "    </tr>\n",
              "    <tr>\n",
              "      <th>4</th>\n",
              "      <td>w ɨ d̚ s ʌ t̚ C ɨ n æ k̚ t ɨ v ɹ ɨ f j ʉ ʒ l̩ b̚ b i j ʉ s f l̩</td>\n",
              "      <td>[w, ix, dcl, s, ah, tcl, ch, ix, n, ae, kcl, t, ix, v, r, ix, f, y, ux, zh, el, bcl, b, iy, y, ux, s, f, el]</td>\n",
              "    </tr>\n",
              "    <tr>\n",
              "      <th>5</th>\n",
              "      <td>w ɨ d̚ s ʌ t̚ C ɨ n æ k̚ t ɨ v ɹ ɨ f j ʉ ʒ l̩ b̚ b i j ʉ s f l̩</td>\n",
              "      <td>[w, ix, dcl, s, ah, tcl, ch, ix, n, ae, kcl, t, ix, v, r, ix, f, y, ux, zh, el, bcl, b, iy, y, ux, s, f, el]</td>\n",
              "    </tr>\n",
              "    <tr>\n",
              "      <th>6</th>\n",
              "      <td>w ɨ d̚ s ʌ t̚ C ɨ n æ k̚ t ɨ v ɹ ɨ f j ʉ ʒ l̩ b̚ b i j ʉ s f l̩</td>\n",
              "      <td>[w, ix, dcl, s, ah, tcl, ch, ix, n, ae, kcl, t, ix, v, r, ix, f, y, ux, zh, el, bcl, b, iy, y, ux, s, f, el]</td>\n",
              "    </tr>\n",
              "    <tr>\n",
              "      <th>7</th>\n",
              "      <td>w ɨ d̚ s ʌ t̚ C ɨ n æ k̚ t ɨ v ɹ ɨ f j ʉ ʒ l̩ b̚ b i j ʉ s f l̩</td>\n",
              "      <td>[w, ix, dcl, s, ah, tcl, ch, ix, n, ae, kcl, t, ix, v, r, ix, f, y, ux, zh, el, bcl, b, iy, y, ux, s, f, el]</td>\n",
              "    </tr>\n",
              "    <tr>\n",
              "      <th>8</th>\n",
              "      <td>w ɨ d̚ s ʌ t̚ C ɨ n æ k̚ t ɨ v ɹ ɨ f j ʉ ʒ l̩ b̚ b i j ʉ s f l̩</td>\n",
              "      <td>[w, ix, dcl, s, ah, tcl, ch, ix, n, ae, kcl, t, ix, v, r, ix, f, y, ux, zh, el, bcl, b, iy, y, ux, s, f, el]</td>\n",
              "    </tr>\n",
              "    <tr>\n",
              "      <th>9</th>\n",
              "      <td>w ɨ d̚ s ʌ t̚ C ɨ n æ k̚ t ɨ v ɹ ɨ f j ʉ ʒ l̩ b̚ b i j ʉ s f l̩</td>\n",
              "      <td>[w, ix, dcl, s, ah, tcl, ch, ix, n, ae, kcl, t, ix, v, r, ix, f, y, ux, zh, el, bcl, b, iy, y, ux, s, f, el]</td>\n",
              "    </tr>\n",
              "    <tr>\n",
              "      <th>10</th>\n",
              "      <td>w ɨ d̚ s ʌ t̚ C ɨ n æ k̚ t ɨ v ɹ ɨ f j ʉ ʒ l̩ b̚ b i j ʉ s f l̩</td>\n",
              "      <td>[w, ix, dcl, s, ah, tcl, ch, ix, n, ae, kcl, t, ix, v, r, ix, f, y, ux, zh, el, bcl, b, iy, y, ux, s, f, el]</td>\n",
              "    </tr>\n",
              "    <tr>\n",
              "      <th>11</th>\n",
              "      <td>w ɨ d̚ s ʌ t̚ C ɨ n æ k̚ t ɨ v ɹ ɨ f j ʉ ʒ l̩ b̚ b i j ʉ s f l̩</td>\n",
              "      <td>[w, ix, dcl, s, ah, tcl, ch, ix, n, ae, kcl, t, ix, v, r, ix, f, y, ux, zh, el, bcl, b, iy, y, ux, s, f, el]</td>\n",
              "    </tr>\n",
              "    <tr>\n",
              "      <th>12</th>\n",
              "      <td>w ɨ d̚ s ʌ t̚ C ɨ n æ k̚ t ɨ v ɹ ɨ f j ʉ ʒ l̩ b̚ b i j ʉ s f l̩</td>\n",
              "      <td>[w, ix, dcl, s, ah, tcl, ch, ix, n, ae, kcl, t, ix, v, r, ix, f, y, ux, zh, el, bcl, b, iy, y, ux, s, f, el]</td>\n",
              "    </tr>\n",
              "    <tr>\n",
              "      <th>13</th>\n",
              "      <td>w ɨ d̚ s ʌ t̚ C ɨ n æ k̚ t ɨ v ɹ ɨ f j ʉ ʒ l̩ b̚ b i j ʉ s f l̩</td>\n",
              "      <td>[w, ix, dcl, s, ah, tcl, ch, ix, n, ae, kcl, t, ix, v, r, ix, f, y, ux, zh, el, bcl, b, iy, y, ux, s, f, el]</td>\n",
              "    </tr>\n",
              "    <tr>\n",
              "      <th>14</th>\n",
              "      <td>w ɨ d̚ s ʌ t̚ C ɨ n æ k̚ t ɨ v ɹ ɨ f j ʉ ʒ l̩ b̚ b i j ʉ s f l̩</td>\n",
              "      <td>[w, ix, dcl, s, ah, tcl, ch, ix, n, ae, kcl, t, ix, v, r, ix, f, y, ux, zh, el, bcl, b, iy, y, ux, s, f, el]</td>\n",
              "    </tr>\n",
              "    <tr>\n",
              "      <th>15</th>\n",
              "      <td>w ɨ d̚ s ʌ t̚ C ɨ n æ k̚ t ɨ v ɹ ɨ f j ʉ ʒ l̩ b̚ b i j ʉ s f l̩</td>\n",
              "      <td>[w, ix, dcl, s, ah, tcl, ch, ix, n, ae, kcl, t, ix, v, r, ix, f, y, ux, zh, el, bcl, b, iy, y, ux, s, f, el]</td>\n",
              "    </tr>\n",
              "    <tr>\n",
              "      <th>16</th>\n",
              "      <td>w ɨ d̚ s ʌ t̚ C ɨ n æ k̚ t ɨ v ɹ ɨ f j ʉ ʒ l̩ b̚ b i j ʉ s f l̩</td>\n",
              "      <td>[w, ix, dcl, s, ah, tcl, ch, ix, n, ae, kcl, t, ix, v, r, ix, f, y, ux, zh, el, bcl, b, iy, y, ux, s, f, el]</td>\n",
              "    </tr>\n",
              "    <tr>\n",
              "      <th>17</th>\n",
              "      <td>w ɨ d̚ s ʌ t̚ C ɨ n æ k̚ t ɨ v ɹ ɨ f j ʉ ʒ l̩ b̚ b i j ʉ s f l̩</td>\n",
              "      <td>[w, ix, dcl, s, ah, tcl, ch, ix, n, ae, kcl, t, ix, v, r, ix, f, y, ux, zh, el, bcl, b, iy, y, ux, s, f, el]</td>\n",
              "    </tr>\n",
              "    <tr>\n",
              "      <th>18</th>\n",
              "      <td>w ɨ d̚ s ʌ t̚ C ɨ n æ k̚ t ɨ v ɹ ɨ f j ʉ ʒ l̩ b̚ b i j ʉ s f l̩</td>\n",
              "      <td>[w, ix, dcl, s, ah, tcl, ch, ix, n, ae, kcl, t, ix, v, r, ix, f, y, ux, zh, el, bcl, b, iy, y, ux, s, f, el]</td>\n",
              "    </tr>\n",
              "    <tr>\n",
              "      <th>19</th>\n",
              "      <td>w ɨ d̚ s ʌ t̚ C ɨ n æ k̚ t ɨ v ɹ ɨ f j ʉ ʒ l̩ b̚ b i j ʉ s f l̩</td>\n",
              "      <td>[w, ix, dcl, s, ah, tcl, ch, ix, n, ae, kcl, t, ix, v, r, ix, f, y, ux, zh, el, bcl, b, iy, y, ux, s, f, el]</td>\n",
              "    </tr>\n",
              "  </tbody>\n",
              "</table>"
            ],
            "text/plain": [
              "<IPython.core.display.HTML object>"
            ]
          },
          "metadata": {
            "tags": []
          }
        }
      ]
    },
    {
      "cell_type": "markdown",
      "metadata": {
        "id": "fowcOllGNNju"
      },
      "source": [
        "Alright! The transcriptions look very clean and the language seems to correspond more to written text than dialogue. This makes sense taking into account that [Timit](https://huggingface.co/datasets/timit_asr) is a read speech corpus."
      ]
    },
    {
      "cell_type": "markdown",
      "metadata": {
        "id": "vq7OR50LN49m"
      },
      "source": [
        "We can see that the transcriptions contain some special characters, such as `,.?!;:`. Without a language model, it is much harder to classify speech chunks to such special characters because they don't really correspond to a characteristic sound unit. *E.g.*, the letter `\"s\"` has a more or less clear sound, whereas the special character `\".\"` does not.\n",
        "Also in order to understand the meaning of a speech signal, it is usually not necessary to include special characters in the transcription.\n",
        "\n",
        "In addition, we normalize the text to only have lower case letters and append a word separator token at the end."
      ]
    },
    {
      "cell_type": "code",
      "metadata": {
        "id": "svKzVJ_hQGK6"
      },
      "source": [
        "import re\n",
        "# chars_to_ignore_regex = '[\\,\\?\\.\\!\\-\\;\\:\\\"]'\n",
        "chars_to_ignore_regex = '[\\,\\?\\.\\!\\-\\;\\:\\\"\\“\\%\\‘\\”\\�]'\n",
        "\n",
        "def remove_special_characters(batch):\n",
        "    # batch[\"ipa\"] = re.sub(chars_to_ignore_regex, '', batch[\"ipa\"]).lower() + \" \"\n",
        "    batch[\"ipa\"] = re.sub(chars_to_ignore_regex, '', batch[\"ipa\"]) + \" \"\n",
        "    return batch"
      ],
      "execution_count": 19,
      "outputs": []
    },
    {
      "cell_type": "code",
      "metadata": {
        "id": "XIHocAuTQbBR",
        "colab": {
          "base_uri": "https://localhost:8080/",
          "height": 115,
          "referenced_widgets": [
            "7ebd1761eb5b4170a94ff09c970492d7",
            "4702a1afc8cc4f94b34fba7911d33aaf",
            "2c5bb4d456254324bbefe02b0306a7af",
            "6df901dc72624339b4f2a678915b4f32",
            "be520962446f4f2987d9368ca95c1a6a",
            "48459b0d4cee40888605626b79783434",
            "863bc65d17c84218ab4b103fec472221",
            "243f26456bf54be0ad872dc2679dae65",
            "161450e80fb948dfb53a5c7dcbcb6d6d",
            "aec3ea62d3c14d5eab0ef8288ee88ece",
            "340cd65e23d34d41b9f0dc7f3dbfe8b8",
            "fe53288dd16c42cf84feafdbf4304483",
            "85df2281868b43a3a3d2bf724f275bd5",
            "cb3aa27b964a411daf6ca3535e4f78ed",
            "44356154f0154b73b120d4bd9198df0a",
            "f0e5c11099f64c0ca7ea55ee6819011c"
          ]
        },
        "outputId": "61728450-2249-41e7-f6c2-d0db6bb7a1fc"
      },
      "source": [
        "timit = timit.map(remove_special_characters)"
      ],
      "execution_count": 20,
      "outputs": [
        {
          "output_type": "display_data",
          "data": {
            "application/vnd.jupyter.widget-view+json": {
              "model_id": "7ebd1761eb5b4170a94ff09c970492d7",
              "version_minor": 0,
              "version_major": 2
            },
            "text/plain": [
              "HBox(children=(FloatProgress(value=0.0, max=4620.0), HTML(value='')))"
            ]
          },
          "metadata": {
            "tags": []
          }
        },
        {
          "output_type": "stream",
          "text": [
            "\n"
          ],
          "name": "stdout"
        },
        {
          "output_type": "display_data",
          "data": {
            "application/vnd.jupyter.widget-view+json": {
              "model_id": "161450e80fb948dfb53a5c7dcbcb6d6d",
              "version_minor": 0,
              "version_major": 2
            },
            "text/plain": [
              "HBox(children=(FloatProgress(value=0.0, max=1680.0), HTML(value='')))"
            ]
          },
          "metadata": {
            "tags": []
          }
        },
        {
          "output_type": "stream",
          "text": [
            "\n"
          ],
          "name": "stdout"
        }
      ]
    },
    {
      "cell_type": "code",
      "metadata": {
        "id": "RBDRAAYxRE6n",
        "colab": {
          "base_uri": "https://localhost:8080/",
          "height": 359
        },
        "outputId": "f5462ad2-d231-44f3-d0e3-22ada2f4ccfe"
      },
      "source": [
        "show_random_elements(timit[\"train\"].remove_columns([\"file\"]))"
      ],
      "execution_count": 21,
      "outputs": [
        {
          "output_type": "display_data",
          "data": {
            "text/html": [
              "<table border=\"1\" class=\"dataframe\">\n",
              "  <thead>\n",
              "    <tr style=\"text-align: right;\">\n",
              "      <th></th>\n",
              "      <th>ipa</th>\n",
              "      <th>phonetic_codes</th>\n",
              "    </tr>\n",
              "  </thead>\n",
              "  <tbody>\n",
              "    <tr>\n",
              "      <th>0</th>\n",
              "      <td>w ɨ d̚ s ʌ t̚ C ɨ n æ k̚ t ɨ v ɹ ɨ f j ʉ ʒ l̩ b̚ b i j ʉ s f l̩</td>\n",
              "      <td>[w, ix, dcl, s, ah, tcl, ch, ix, n, ae, kcl, t, ix, v, r, ix, f, y, ux, zh, el, bcl, b, iy, y, ux, s, f, el]</td>\n",
              "    </tr>\n",
              "    <tr>\n",
              "      <th>1</th>\n",
              "      <td>w ɨ d̚ s ʌ t̚ C ɨ n æ k̚ t ɨ v ɹ ɨ f j ʉ ʒ l̩ b̚ b i j ʉ s f l̩</td>\n",
              "      <td>[w, ix, dcl, s, ah, tcl, ch, ix, n, ae, kcl, t, ix, v, r, ix, f, y, ux, zh, el, bcl, b, iy, y, ux, s, f, el]</td>\n",
              "    </tr>\n",
              "    <tr>\n",
              "      <th>2</th>\n",
              "      <td>w ɨ d̚ s ʌ t̚ C ɨ n æ k̚ t ɨ v ɹ ɨ f j ʉ ʒ l̩ b̚ b i j ʉ s f l̩</td>\n",
              "      <td>[w, ix, dcl, s, ah, tcl, ch, ix, n, ae, kcl, t, ix, v, r, ix, f, y, ux, zh, el, bcl, b, iy, y, ux, s, f, el]</td>\n",
              "    </tr>\n",
              "    <tr>\n",
              "      <th>3</th>\n",
              "      <td>w ɨ d̚ s ʌ t̚ C ɨ n æ k̚ t ɨ v ɹ ɨ f j ʉ ʒ l̩ b̚ b i j ʉ s f l̩</td>\n",
              "      <td>[w, ix, dcl, s, ah, tcl, ch, ix, n, ae, kcl, t, ix, v, r, ix, f, y, ux, zh, el, bcl, b, iy, y, ux, s, f, el]</td>\n",
              "    </tr>\n",
              "    <tr>\n",
              "      <th>4</th>\n",
              "      <td>w ɨ d̚ s ʌ t̚ C ɨ n æ k̚ t ɨ v ɹ ɨ f j ʉ ʒ l̩ b̚ b i j ʉ s f l̩</td>\n",
              "      <td>[w, ix, dcl, s, ah, tcl, ch, ix, n, ae, kcl, t, ix, v, r, ix, f, y, ux, zh, el, bcl, b, iy, y, ux, s, f, el]</td>\n",
              "    </tr>\n",
              "    <tr>\n",
              "      <th>5</th>\n",
              "      <td>w ɨ d̚ s ʌ t̚ C ɨ n æ k̚ t ɨ v ɹ ɨ f j ʉ ʒ l̩ b̚ b i j ʉ s f l̩</td>\n",
              "      <td>[w, ix, dcl, s, ah, tcl, ch, ix, n, ae, kcl, t, ix, v, r, ix, f, y, ux, zh, el, bcl, b, iy, y, ux, s, f, el]</td>\n",
              "    </tr>\n",
              "    <tr>\n",
              "      <th>6</th>\n",
              "      <td>w ɨ d̚ s ʌ t̚ C ɨ n æ k̚ t ɨ v ɹ ɨ f j ʉ ʒ l̩ b̚ b i j ʉ s f l̩</td>\n",
              "      <td>[w, ix, dcl, s, ah, tcl, ch, ix, n, ae, kcl, t, ix, v, r, ix, f, y, ux, zh, el, bcl, b, iy, y, ux, s, f, el]</td>\n",
              "    </tr>\n",
              "    <tr>\n",
              "      <th>7</th>\n",
              "      <td>w ɨ d̚ s ʌ t̚ C ɨ n æ k̚ t ɨ v ɹ ɨ f j ʉ ʒ l̩ b̚ b i j ʉ s f l̩</td>\n",
              "      <td>[w, ix, dcl, s, ah, tcl, ch, ix, n, ae, kcl, t, ix, v, r, ix, f, y, ux, zh, el, bcl, b, iy, y, ux, s, f, el]</td>\n",
              "    </tr>\n",
              "    <tr>\n",
              "      <th>8</th>\n",
              "      <td>w ɨ d̚ s ʌ t̚ C ɨ n æ k̚ t ɨ v ɹ ɨ f j ʉ ʒ l̩ b̚ b i j ʉ s f l̩</td>\n",
              "      <td>[w, ix, dcl, s, ah, tcl, ch, ix, n, ae, kcl, t, ix, v, r, ix, f, y, ux, zh, el, bcl, b, iy, y, ux, s, f, el]</td>\n",
              "    </tr>\n",
              "    <tr>\n",
              "      <th>9</th>\n",
              "      <td>w ɨ d̚ s ʌ t̚ C ɨ n æ k̚ t ɨ v ɹ ɨ f j ʉ ʒ l̩ b̚ b i j ʉ s f l̩</td>\n",
              "      <td>[w, ix, dcl, s, ah, tcl, ch, ix, n, ae, kcl, t, ix, v, r, ix, f, y, ux, zh, el, bcl, b, iy, y, ux, s, f, el]</td>\n",
              "    </tr>\n",
              "  </tbody>\n",
              "</table>"
            ],
            "text/plain": [
              "<IPython.core.display.HTML object>"
            ]
          },
          "metadata": {
            "tags": []
          }
        }
      ]
    },
    {
      "cell_type": "markdown",
      "metadata": {
        "id": "jwfaptH5RJwA"
      },
      "source": [
        "Good! This looks better. We have removed most special characters from transcriptions and normalized them to lower-case only.\n",
        "\n",
        "In CTC, it is common to classify speech chunks into letters, so we will do the same here. \n",
        "Let's extract all distinct letters of the training and test data and build our vocabulary from this set of letters.\n",
        "\n",
        "We write a mapping function that concatenates all transcriptions into one long transcription and then transforms the string into a set of chars. \n",
        "It is important to pass the argument `batched=True` to the `map(...)` function so that the mapping function has access to all transcriptions at once."
      ]
    },
    {
      "cell_type": "code",
      "metadata": {
        "id": "LwCshNbbeRZR"
      },
      "source": [
        "def extract_all_chars(batch):\n",
        "  all_text = \" \".join(batch[\"ipa\"])\n",
        "  vocab = list(set(all_text))\n",
        "  return {\"vocab\": [vocab], \"all_text\": [all_text]}"
      ],
      "execution_count": 22,
      "outputs": []
    },
    {
      "cell_type": "code",
      "metadata": {
        "id": "_m6uUjjcfbjH",
        "colab": {
          "base_uri": "https://localhost:8080/",
          "height": 115,
          "referenced_widgets": [
            "283f8d624d874e058bbab264772d4a75",
            "1dc1194705cf460991427b3f3290dc99",
            "7fc48edefdaf4d7c880b43c776046c9b",
            "016ff191d5fa4b26be24a435cd808b13",
            "9255da2e468c46ceb89a9505e706f9d6",
            "b76a78f23db145dc88035ea47d05c5df",
            "f6c8d4aa936446349505a4c506e03b58",
            "366fa65915ec40ae87861058a59a2a45",
            "4c33f7dd96f64c50acb537ba5cde2bec",
            "a2ed8fb1b5704897abd700d4628c0d4e",
            "1b228b9f71404615a05f230578c43c79",
            "ca3711acaaa445889d1179c8721acda8",
            "76b3829760c8450e9273808599d8e27a",
            "ec7250270b3548f493216ac99957e83a",
            "800a63600ce84e41ab1be2d826101e29",
            "090c7c7f7e1b4e11b7b9be2e512b927c"
          ]
        },
        "outputId": "ee0aedc4-707e-4a09-ceff-7e82dbbfb429"
      },
      "source": [
        "vocabs = timit.map(extract_all_chars, batched=True, batch_size=-1, keep_in_memory=True, remove_columns=timit.column_names[\"train\"])"
      ],
      "execution_count": 23,
      "outputs": [
        {
          "output_type": "display_data",
          "data": {
            "application/vnd.jupyter.widget-view+json": {
              "model_id": "283f8d624d874e058bbab264772d4a75",
              "version_minor": 0,
              "version_major": 2
            },
            "text/plain": [
              "HBox(children=(FloatProgress(value=0.0, max=1.0), HTML(value='')))"
            ]
          },
          "metadata": {
            "tags": []
          }
        },
        {
          "output_type": "stream",
          "text": [
            "\n"
          ],
          "name": "stdout"
        },
        {
          "output_type": "display_data",
          "data": {
            "application/vnd.jupyter.widget-view+json": {
              "model_id": "4c33f7dd96f64c50acb537ba5cde2bec",
              "version_minor": 0,
              "version_major": 2
            },
            "text/plain": [
              "HBox(children=(FloatProgress(value=0.0, max=1.0), HTML(value='')))"
            ]
          },
          "metadata": {
            "tags": []
          }
        },
        {
          "output_type": "stream",
          "text": [
            "\n"
          ],
          "name": "stdout"
        }
      ]
    },
    {
      "cell_type": "markdown",
      "metadata": {
        "id": "7oVgE8RZSJNP"
      },
      "source": [
        "Now, we create the union of all distinct letters in the training dataset and test dataset and convert the resulting list into an enumerated dictionary."
      ]
    },
    {
      "cell_type": "code",
      "metadata": {
        "id": "aQfneNsmlJI0"
      },
      "source": [
        "vocab_list = list(set(vocabs[\"train\"][\"vocab\"][0]) | set(vocabs[\"test\"][\"vocab\"][0]))"
      ],
      "execution_count": 24,
      "outputs": []
    },
    {
      "cell_type": "code",
      "metadata": {
        "id": "_0kRndSvqaKk",
        "colab": {
          "base_uri": "https://localhost:8080/"
        },
        "outputId": "ebc784b8-27fb-429c-fec2-ebb100394376"
      },
      "source": [
        "vocab_dict = {v: k for k, v in enumerate(vocab_list)}\n",
        "vocab_dict"
      ],
      "execution_count": 25,
      "outputs": [
        {
          "output_type": "execute_result",
          "data": {
            "text/plain": [
              "{' ': 1,\n",
              " 'C': 6,\n",
              " 'b': 28,\n",
              " 'd': 15,\n",
              " 'e': 10,\n",
              " 'f': 13,\n",
              " 'g': 20,\n",
              " 'i': 22,\n",
              " 'j': 17,\n",
              " 'k': 21,\n",
              " 'l': 2,\n",
              " 'n': 35,\n",
              " 'o': 8,\n",
              " 'p': 9,\n",
              " 's': 37,\n",
              " 't': 36,\n",
              " 'u': 26,\n",
              " 'v': 23,\n",
              " 'w': 11,\n",
              " 'z': 31,\n",
              " 'æ': 3,\n",
              " 'ð': 5,\n",
              " 'ŋ': 16,\n",
              " 'ɔ': 30,\n",
              " 'ə': 19,\n",
              " 'ɚ': 14,\n",
              " 'ɛ': 7,\n",
              " 'ɨ': 12,\n",
              " 'ɪ': 29,\n",
              " 'ɹ': 4,\n",
              " 'ɾ': 33,\n",
              " 'ʃ': 24,\n",
              " 'ʉ': 25,\n",
              " 'ʌ': 18,\n",
              " 'ʒ': 27,\n",
              " 'ʔ': 32,\n",
              " '̚': 34,\n",
              " '̩': 0}"
            ]
          },
          "metadata": {
            "tags": []
          },
          "execution_count": 25
        }
      ]
    },
    {
      "cell_type": "markdown",
      "metadata": {
        "id": "JOSzbvs9SXT1"
      },
      "source": [
        "Cool, we see that all letters of the alphabet occur in the dataset (which is not really surprising) and we also extracted the special characters `\" \"` and `'`. Note that we did not exclude those special characters because: \n",
        "\n",
        "- The model has to learn to predict when a word finished or else the model prediction would always be a sequence of chars which would make it impossible to separate words from each other.\n",
        "- In English, we need to keep the `'` character to differentiate between words, *e.g.*, `\"it's\"` and `\"its\"` which have very different meanings."
      ]
    },
    {
      "cell_type": "markdown",
      "metadata": {
        "id": "b1fBRCn-TRaO"
      },
      "source": [
        "To make it clearer that `\" \"` has its own token class, we give it a more visible character `|`. In addition, we also add an \"unknown\" token so that the model can later deal with characters not encountered in Timit's training set. \n",
        "\n",
        "Finally, we also add a padding token that corresponds to CTC's \"*blank token*\". The \"blank token\" is a core component of the CTC algorithm. For more information, please take a look at the \"Alignment\" section [here](https://distill.pub/2017/ctc/)."
      ]
    },
    {
      "cell_type": "code",
      "metadata": {
        "id": "npbIbBoLgaFX"
      },
      "source": [
        "vocab_dict[\"|\"] = vocab_dict[\" \"]\n",
        "del vocab_dict[\" \"]"
      ],
      "execution_count": 26,
      "outputs": []
    },
    {
      "cell_type": "code",
      "metadata": {
        "id": "znF0bNunsjbl",
        "colab": {
          "base_uri": "https://localhost:8080/"
        },
        "outputId": "eda3dadf-7378-4b29-d989-5970b25da96d"
      },
      "source": [
        "vocab_dict[\"[UNK]\"] = len(vocab_dict)\n",
        "vocab_dict[\"[PAD]\"] = len(vocab_dict)\n",
        "len(vocab_dict)"
      ],
      "execution_count": 27,
      "outputs": [
        {
          "output_type": "execute_result",
          "data": {
            "text/plain": [
              "40"
            ]
          },
          "metadata": {
            "tags": []
          },
          "execution_count": 27
        }
      ]
    },
    {
      "cell_type": "markdown",
      "metadata": {
        "id": "SFPGfet8U5sL"
      },
      "source": [
        "Cool, now our vocabulary is complete and consists of 30 tokens, which means that the linear layer that we will add on top of the pretrained Wav2Vec2 checkpoint will have an output dimension of 30."
      ]
    },
    {
      "cell_type": "markdown",
      "metadata": {
        "id": "1CujRgBNVRaD"
      },
      "source": [
        "Let's now save the vocabulary as a json file."
      ]
    },
    {
      "cell_type": "code",
      "metadata": {
        "id": "ehyUoh9vk191"
      },
      "source": [
        "import json\n",
        "with open('vocab.json', 'w') as vocab_file:\n",
        "    json.dump(vocab_dict, vocab_file)"
      ],
      "execution_count": 28,
      "outputs": []
    },
    {
      "cell_type": "markdown",
      "metadata": {
        "id": "SHJDaKlIVVim"
      },
      "source": [
        "In a final step, we use the json file to instantiate an object of the `Wav2Vec2CTCTokenizer` class."
      ]
    },
    {
      "cell_type": "code",
      "metadata": {
        "id": "xriFGEWQkO4M"
      },
      "source": [
        "from transformers import Wav2Vec2CTCTokenizer\n",
        "\n",
        "tokenizer = Wav2Vec2CTCTokenizer(\"./vocab.json\", unk_token=\"[UNK]\", pad_token=\"[PAD]\", word_delimiter_token=\"|\")"
      ],
      "execution_count": 29,
      "outputs": []
    },
    {
      "cell_type": "markdown",
      "metadata": {
        "id": "KvL12DrNV4cx"
      },
      "source": [
        "Next, we will create the feature extractor."
      ]
    },
    {
      "cell_type": "markdown",
      "metadata": {
        "id": "mYcIiR2FQ96i"
      },
      "source": [
        "### Create Wav2Vec2 Feature Extractor"
      ]
    },
    {
      "cell_type": "markdown",
      "metadata": {
        "id": "Y6mDEyW719rx"
      },
      "source": [
        "Speech is a continuous signal and to be treated by computers, it first has to be discretized, which is usually called **sampling**. The sampling rate hereby plays an important role in that it defines how many data points of the speech signal are measured per second. Therefore, sampling with a higher sampling rate results in a better approximation of the *real* speech signal but also necessitates more values per second.\n",
        "\n",
        "A pretrained checkpoint expects its input data to have been sampled more or less from the same distribution as the data it was trained on. The same speech signals sampled at two different rates have a very different distribution, *e.g.*, doubling the sampling rate results in data points being twice as long. Thus, \n",
        "before fine-tuning a pretrained checkpoint of an ASR model, it is crucial to verify that the sampling rate of the data that was used to pretrain the model matches the sampling rate of the dataset used to fine-tune the model.\n",
        "\n",
        "Wav2Vec2 was pretrained on the audio data of [LibriSpeech](https://huggingface.co/datasets/librispeech_asr) and LibriVox which both were sampling with 16kHz. Our fine-tuning dataset, [Timit](hhtps://huggingface.co/datasets/timit_asr), was luckily also sampled with 16kHz. If the fine-tuning dataset would have been sampled with a rate lower or higher than 16kHz, we first would have had to up or downsample the speech signal to match the sampling rate of the data used for pretraining. \n",
        "\n"
      ]
    },
    {
      "cell_type": "markdown",
      "metadata": {
        "id": "KuUbPW7oV-B5"
      },
      "source": [
        "A Wav2Vec2 feature extractor object requires the following parameters to be instantiated:\n",
        "\n",
        "- `feature_size`: Speech models take a sequence of feature vectors as an input. While the length of this sequence obviously varies, the feature size should not. In the case of Wav2Vec2, the feature size is 1 because the model was trained on the raw speech signal ${}^2$.\n",
        "- `sampling_rate`: The sampling rate at which the model is trained on.\n",
        "- `padding_value`: For batched inference, shorter inputs need to be padded with a specific value\n",
        "- `do_normalize`: Whether the input should be *zero-mean-unit-variance* normalized or not. Usually, speech models perform better when normalizing the input\n",
        "- `return_attention_mask`: Whether the model should make use of an `attention_mask` for batched inference. In general, models should **always** make use of the `attention_mask` to mask padded tokens. However, due to a very specific design choice of `Wav2Vec2`'s \"base\" checkpoint, better results are achieved when using no `attention_mask`. This is **not** recommended for other speech models. For more information, one can take a look at [this](https://github.com/pytorch/fairseq/issues/3227) issue. **Important** If you want to use this notebook to fine-tune [large-lv60](https://huggingface.co/facebook/wav2vec2-large-lv60), this parameter should be set to `True`."
      ]
    },
    {
      "cell_type": "code",
      "metadata": {
        "id": "kAR0-2KLkopp"
      },
      "source": [
        "from transformers import Wav2Vec2FeatureExtractor\n",
        "\n",
        "feature_extractor = Wav2Vec2FeatureExtractor(feature_size=1, sampling_rate=16000, padding_value=0.0, do_normalize=True, return_attention_mask=False)"
      ],
      "execution_count": 30,
      "outputs": []
    },
    {
      "cell_type": "markdown",
      "metadata": {
        "id": "qUETetgqYC3W"
      },
      "source": [
        "Great, Wav2Vec2's feature extraction pipeline is thereby fully defined!\n",
        "\n",
        "To make the usage of Wav2Vec2 as user-friendly as possible, the feature extractor and tokenizer are *wrapped* into a single `Wav2Vec2Processor` class so that one only needs a `model` and `processor` object."
      ]
    },
    {
      "cell_type": "code",
      "metadata": {
        "id": "KYZtoW-tlZgl"
      },
      "source": [
        "from transformers import Wav2Vec2Processor\n",
        "\n",
        "processor = Wav2Vec2Processor(feature_extractor=feature_extractor, tokenizer=tokenizer)"
      ],
      "execution_count": 31,
      "outputs": []
    },
    {
      "cell_type": "markdown",
      "metadata": {
        "id": "fTfFDSS0YfMN"
      },
      "source": [
        "If one wants to re-use the just created processor and the fine-tuned model of this notebook, one can mount his/her google drive to the notebook and save all relevant files there. To do so, please uncomment the following lines. \n",
        "\n",
        "We will give the fine-tuned model the name `\"wav2vec2-base-timit-demo\"`."
      ]
    },
    {
      "cell_type": "code",
      "metadata": {
        "id": "yq7Bzuzz4zjQ"
      },
      "source": [
        "# from google.colab import drive\n",
        "# drive.mount('/content/gdrive/')"
      ],
      "execution_count": 32,
      "outputs": []
    },
    {
      "cell_type": "code",
      "metadata": {
        "id": "Par9rpypPsml"
      },
      "source": [
        "# processor.save_pretrained(\"/content/gdrive/MyDrive/wav2vec2-base-timit-demo\")"
      ],
      "execution_count": 33,
      "outputs": []
    },
    {
      "cell_type": "markdown",
      "metadata": {
        "id": "DrKnYuvDIoOO"
      },
      "source": [
        "Next, we can prepare the dataset."
      ]
    },
    {
      "cell_type": "markdown",
      "metadata": {
        "id": "YFmShnl7RE35"
      },
      "source": [
        "### Preprocess Data\n",
        "\n",
        "So far, we have not looked at the actual values of the speech signal but just kept the path to its file in the dataset. `Wav2Vec2` expects the audio file in the format of a 1-dimensional array, so in the first step, let's load all audio files into the dataset object.\n",
        "\n",
        "Let's first check the serialization format of the downloaded audio files by looking at the first training sample."
      ]
    },
    {
      "cell_type": "code",
      "metadata": {
        "id": "TTCS7W6XJ9BG",
        "colab": {
          "base_uri": "https://localhost:8080/"
        },
        "outputId": "a8580514-b3c6-43c6-8d7b-f3b66c844f24"
      },
      "source": [
        "timit[\"test\"][0]"
      ],
      "execution_count": 34,
      "outputs": [
        {
          "output_type": "execute_result",
          "data": {
            "text/plain": [
              "{'file': '/root/.cache/huggingface/datasets/downloads/extracted/404950a46da14eac65eb4e2a8317b1372fb3971d980d91d5d5b221275b1fd7e0/data/TEST/DR4/MGMM0/SX139.WAV',\n",
              " 'ipa': 'ð ə b̚ b ʌ ŋ g ə l o w ə z p̚ p l ɛ z ə n ʔ l i s ɪ t̚ C u w e ɾ ɨ d̚ n ɪ ɚ ð ɨ ʃ ɔ ɹ ',\n",
              " 'phonetic_codes': ['dh',\n",
              "  'ax',\n",
              "  'bcl',\n",
              "  'b',\n",
              "  'ah',\n",
              "  'ng',\n",
              "  'g',\n",
              "  'ax',\n",
              "  'l',\n",
              "  'ow',\n",
              "  'w',\n",
              "  'ax',\n",
              "  'z',\n",
              "  'pcl',\n",
              "  'p',\n",
              "  'l',\n",
              "  'eh',\n",
              "  'z',\n",
              "  'ax',\n",
              "  'n',\n",
              "  'q',\n",
              "  'l',\n",
              "  'iy',\n",
              "  's',\n",
              "  'ih',\n",
              "  'tcl',\n",
              "  'ch',\n",
              "  'uw',\n",
              "  'w',\n",
              "  'ey',\n",
              "  'dx',\n",
              "  'ix',\n",
              "  'dcl',\n",
              "  'n',\n",
              "  'ih',\n",
              "  'axr',\n",
              "  'dh',\n",
              "  'ix',\n",
              "  'sh',\n",
              "  'ao',\n",
              "  'r']}"
            ]
          },
          "metadata": {
            "tags": []
          },
          "execution_count": 34
        }
      ]
    },
    {
      "cell_type": "markdown",
      "metadata": {
        "id": "wSBIGEiaKHMn"
      },
      "source": [
        "Alright, the audio file is saved in the `.WAV` format. There are a couple of python-based libraries to read and process audio files, such as [librosa](https://github.com/librosa/librosa), [soundfile](https://github.com/bastibe/python-soundfile), and [audioread](https://github.com/beetbox/audioread). \n",
        "\n",
        "`librosa` seems to be the most active and prominent library, but since it depends on `soundfile` for loading of audio files, we will just use `soundfile` directly in this notebook.\n",
        "\n",
        "An audio file usually stores both its values and the sampling rate with which the speech signal was digitalized. We want to store both in the dataset and write a `map(...)` function accordingly."
      ]
    },
    {
      "cell_type": "code",
      "metadata": {
        "id": "al9Luo4LPpwJ"
      },
      "source": [
        "import soundfile as sf\n",
        "\n",
        "def speech_file_to_array_fn(batch):\n",
        "    speech_array, sampling_rate = sf.read(batch[\"file\"])\n",
        "    batch[\"speech\"] = speech_array\n",
        "    batch[\"sampling_rate\"] = sampling_rate\n",
        "    batch[\"target_text\"] = batch[\"ipa\"]\n",
        "    return batch"
      ],
      "execution_count": 35,
      "outputs": []
    },
    {
      "cell_type": "code",
      "metadata": {
        "id": "afeicUeWlrRL",
        "colab": {
          "base_uri": "https://localhost:8080/",
          "height": 443,
          "referenced_widgets": [
            "d92dadb4085c4f2685def6d371b13335",
            "dd87f7858b0f4a4e8cd78b92f29d41fa",
            "8a3d1c5ce12b4fa9b99840be13fd14a9",
            "cd7cce09aede4be6a48e44e3cc7291c1",
            "88acad16480742ce9f045dd5c0de235d",
            "2805d00306ad41a0b0225e193e33796a",
            "8caab09c38074d1aa348f72df18294db",
            "6134405d325f493dbe5fd6ecc477010f",
            "8d372a6dd9104ab39b8e1ac8b5513356",
            "a2cfbf4db8e3431d963383a50d9002bb",
            "0c271dc3cd934aef81ad204ddb036771",
            "90b406d0f882432b94f3c99e3972f0c4",
            "91cf91cbfdb249a3810eb726416eafa0",
            "b9015a5f4c164c6f83207576f2c7c95b",
            "d5eabed49b9542c2b692a3df9a6a287b",
            "115d6d4565934ec4b1a741e70212bc92",
            "b3fe0e57b5184d6599d724376bea0f3d",
            "d4600b41e12a4ee7a3e3986633b1db77",
            "3a14f5d7c95d470797c2f9ada3f453da",
            "39c4bf922cd2451a87488ece5e9760dc",
            "b1f056dc99f74689b5b0eb7d61cc4b53",
            "fcc67a7ef7e74e2ab7596f37a2ef40f7",
            "b99726b3e13747aa859e8f64d3dba400",
            "621695ea1edc41dc80bf4f784161c40b",
            "c3048f5d33ce4e86a168273bfeb6d703",
            "6a64805b9059465397422178a90de67c",
            "aab761d548c44fbb9eded151f2b1c289",
            "925a46b4753d4f3b9b8f26ac07823e0b",
            "2c66fb49dff5468ca154866766698d82",
            "26b224ee80d24f09afe9f1b24d4720eb",
            "b9e46adba1c94d5bbfa27a3deea6c2db",
            "b16ec31201484a63af77568cefd23088",
            "5b2bac1cee3a4d208264f4098a56b085",
            "aeab32fed6254305836397e53a0c741a",
            "1bd7b65cca144913895772d237f2abf2",
            "eaec8cf26a6a4c909bf6cac0a97458c7",
            "4755eee78d634315a8cc4601cb9a71eb",
            "096304a192864c8d8f0301e8bcedba75",
            "607eb59723934ca49ac4b7cac19bb520",
            "704f62b2290a41a2b5ab50313df64edd",
            "7699a4c37edc4ff5b6711741d9942658",
            "273093a26ad94141a203138d77347cf2",
            "d82b7bcee6534f869727d510cdd70558",
            "01c0c5a22a5447fa9dc5e08656a67778",
            "d4fd4556dadc4b4e9e4705f6b8a7c260",
            "7eac4a0c788b471b97f7854b94cfcf82",
            "a1166a32e51344adb2910dfb2e9526f8",
            "bc09b14316fa48c1a517c9336e0b003e",
            "bf362e7a01634aa2ab71030276155f57",
            "27d286aea9ea4bb6a4e790a25fd5b706",
            "31b3109c12934a218be88e1cabd49720",
            "8c72e08e8a174ef98629101907e08b5b",
            "2006cec10218410e92e407578057ed63",
            "a21759d10867499e8625eb43d71701de",
            "d6d5a3351c084f9696bec1ddf47c50eb",
            "f21448b6d6cf4be18908f705f9d7fd4c",
            "1f01d3905e4f4f11b550cc4d97d4f7d2",
            "f98a2a4ff2ac44e884dcc8bda04d5dce",
            "c48e87285aae4fe099f954d10591de9c",
            "df28da0c82b94a0fba728d6abf671df6",
            "4565e4dd2bd5452bb0bf0ad1e8ae9630",
            "c8326f71338b4d918dc66caddff66a1e",
            "33255652cf7f403fb892ff146f21d1c7",
            "3e6e40a838a24eb2b63da19665b802fe"
          ]
        },
        "outputId": "216216dd-f832-4a69-bd5d-884dd7aa85c0"
      },
      "source": [
        "timit = timit.map(speech_file_to_array_fn, remove_columns=timit.column_names[\"train\"], num_proc=4)"
      ],
      "execution_count": 36,
      "outputs": [
        {
          "output_type": "stream",
          "text": [
            "    "
          ],
          "name": "stdout"
        },
        {
          "output_type": "display_data",
          "data": {
            "application/vnd.jupyter.widget-view+json": {
              "model_id": "d92dadb4085c4f2685def6d371b13335",
              "version_minor": 0,
              "version_major": 2
            },
            "text/plain": [
              "HBox(children=(FloatProgress(value=0.0, description='#1', max=1155.0, style=ProgressStyle(description_width='i…"
            ]
          },
          "metadata": {
            "tags": []
          }
        },
        {
          "output_type": "display_data",
          "data": {
            "application/vnd.jupyter.widget-view+json": {
              "model_id": "8d372a6dd9104ab39b8e1ac8b5513356",
              "version_minor": 0,
              "version_major": 2
            },
            "text/plain": [
              "HBox(children=(FloatProgress(value=0.0, description='#2', max=1155.0, style=ProgressStyle(description_width='i…"
            ]
          },
          "metadata": {
            "tags": []
          }
        },
        {
          "output_type": "display_data",
          "data": {
            "application/vnd.jupyter.widget-view+json": {
              "model_id": "b3fe0e57b5184d6599d724376bea0f3d",
              "version_minor": 0,
              "version_major": 2
            },
            "text/plain": [
              "HBox(children=(FloatProgress(value=0.0, description='#0', max=1155.0, style=ProgressStyle(description_width='i…"
            ]
          },
          "metadata": {
            "tags": []
          }
        },
        {
          "output_type": "display_data",
          "data": {
            "application/vnd.jupyter.widget-view+json": {
              "model_id": "c3048f5d33ce4e86a168273bfeb6d703",
              "version_minor": 0,
              "version_major": 2
            },
            "text/plain": [
              "HBox(children=(FloatProgress(value=0.0, description='#3', max=1155.0, style=ProgressStyle(description_width='i…"
            ]
          },
          "metadata": {
            "tags": []
          }
        },
        {
          "output_type": "stream",
          "text": [
            "\n",
            "\n",
            "\n",
            "\n",
            "    "
          ],
          "name": "stdout"
        },
        {
          "output_type": "display_data",
          "data": {
            "application/vnd.jupyter.widget-view+json": {
              "model_id": "5b2bac1cee3a4d208264f4098a56b085",
              "version_minor": 0,
              "version_major": 2
            },
            "text/plain": [
              "HBox(children=(FloatProgress(value=0.0, description='#0', max=420.0, style=ProgressStyle(description_width='in…"
            ]
          },
          "metadata": {
            "tags": []
          }
        },
        {
          "output_type": "display_data",
          "data": {
            "application/vnd.jupyter.widget-view+json": {
              "model_id": "7699a4c37edc4ff5b6711741d9942658",
              "version_minor": 0,
              "version_major": 2
            },
            "text/plain": [
              "HBox(children=(FloatProgress(value=0.0, description='#2', max=420.0, style=ProgressStyle(description_width='in…"
            ]
          },
          "metadata": {
            "tags": []
          }
        },
        {
          "output_type": "display_data",
          "data": {
            "application/vnd.jupyter.widget-view+json": {
              "model_id": "bf362e7a01634aa2ab71030276155f57",
              "version_minor": 0,
              "version_major": 2
            },
            "text/plain": [
              "HBox(children=(FloatProgress(value=0.0, description='#1', max=420.0, style=ProgressStyle(description_width='in…"
            ]
          },
          "metadata": {
            "tags": []
          }
        },
        {
          "output_type": "display_data",
          "data": {
            "application/vnd.jupyter.widget-view+json": {
              "model_id": "1f01d3905e4f4f11b550cc4d97d4f7d2",
              "version_minor": 0,
              "version_major": 2
            },
            "text/plain": [
              "HBox(children=(FloatProgress(value=0.0, description='#3', max=420.0, style=ProgressStyle(description_width='in…"
            ]
          },
          "metadata": {
            "tags": []
          }
        },
        {
          "output_type": "stream",
          "text": [
            "\n",
            "\n",
            "\n",
            "\n"
          ],
          "name": "stdout"
        }
      ]
    },
    {
      "cell_type": "markdown",
      "metadata": {
        "id": "SOckzFd4Mbzq"
      },
      "source": [
        "Great, let's listen to a couple of audio files to better understand the dataset and verify that the audio was correctly loaded. \n",
        "\n",
        "**Note**: *You can click the following cell a couple of times to listen to different speech samples.*"
      ]
    },
    {
      "cell_type": "code",
      "metadata": {
        "id": "dueM6U7Ev0OA",
        "colab": {
          "base_uri": "https://localhost:8080/",
          "height": 75
        },
        "outputId": "c96b8b03-f828-45ba-fe68-eaf6b6c74637"
      },
      "source": [
        "import IPython.display as ipd\n",
        "import numpy as np\n",
        "import random\n",
        "\n",
        "rand_int = random.randint(0, len(timit[\"train\"]))\n",
        "\n",
        "ipd.Audio(data=np.asarray(timit[\"train\"][rand_int][\"speech\"]), autoplay=True, rate=16000)"
      ],
      "execution_count": 37,
      "outputs": [
        {
          "output_type": "execute_result",
          "data": {
            "text/html": [
              "\n",
              "                <audio controls=\"controls\" autoplay=\"autoplay\">\n",
              "                    <source src=\"data:audio/wav;base64,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\" type=\"audio/wav\" />\n",
              "                    Your browser does not support the audio element.\n",
              "                </audio>\n",
              "              "
            ],
            "text/plain": [
              "<IPython.lib.display.Audio object>"
            ]
          },
          "metadata": {
            "tags": []
          },
          "execution_count": 37
        }
      ]
    },
    {
      "cell_type": "markdown",
      "metadata": {
        "id": "1MaL9J2dNVtG"
      },
      "source": [
        "It can be heard, that the speakers change along with their speaking rate, accent, etc. Overall, the recordings sound relatively clear though, which is to be expected from a read speech corpus.\n",
        "\n",
        "Let's do a final check that the data is correctly prepared, but printing the shape of the speech input, its transcription, and the corresponding sampling rate.\n",
        "\n",
        "**Note**: *You can click the following cell a couple of times to verify multiple samples.*"
      ]
    },
    {
      "cell_type": "code",
      "metadata": {
        "id": "1Po2g7YPuRTx",
        "colab": {
          "base_uri": "https://localhost:8080/"
        },
        "outputId": "63775c02-f012-4e87-a6e6-a2da2de41866"
      },
      "source": [
        "rand_int = random.randint(0, len(timit[\"train\"]))\n",
        "\n",
        "print(\"Target text:\", timit[\"train\"][rand_int][\"target_text\"])\n",
        "print(\"Input array shape:\", np.asarray(timit[\"train\"][rand_int][\"speech\"]).shape)\n",
        "print(\"Sampling rate:\", timit[\"train\"][rand_int][\"sampling_rate\"])"
      ],
      "execution_count": 38,
      "outputs": [
        {
          "output_type": "stream",
          "text": [
            "Target text: w ɨ d̚ s ʌ t̚ C ɨ n æ k̚ t ɨ v ɹ ɨ f j ʉ ʒ l̩ b̚ b i j ʉ s f l̩ \n",
            "Input array shape: (39936,)\n",
            "Sampling rate: 16000\n"
          ],
          "name": "stdout"
        }
      ]
    },
    {
      "cell_type": "markdown",
      "metadata": {
        "id": "M9teZcSwOBJ4"
      },
      "source": [
        "Good! Everything looks fine - the data is a 1-dimensional array, the sampling rate always corresponds to 16kHz, and the target text is normalized."
      ]
    },
    {
      "cell_type": "markdown",
      "metadata": {
        "id": "k3Pbn5WvOYZF"
      },
      "source": [
        "Finally, we can process the dataset to the format expected by the model for training. We will again make use of the `map(...)` function.\n",
        "\n",
        "First, we check that all data samples have the same sampling rate (of 16kHz).\n",
        "Second, we extract the `input_values` from the loaded audio file. In our case, this includes only normalization, but for other speech models, this step could correspond to extracting, *e.g.* [Log-Mel features](https://en.wikipedia.org/wiki/Mel-frequency_cepstrum). \n",
        "Third, we encode the transcriptions to label ids.\n",
        "\n",
        "**Note**: This mapping function is a good example of how the `Wav2Vec2Processor` class should be used. In \"normal\" context, calling `processor(...)` is redirected to `Wav2Vec2FeatureExtractor`'s call method. When wrapping the processor into the `as_target_processor` context, however, the same method is redirected to `Wav2Vec2CTCTokenizer`'s call method.\n",
        "For more information please check the [docs](https://huggingface.co/transformers/master/model_doc/wav2vec2.html#transformers.Wav2Vec2Processor.__call__)."
      ]
    },
    {
      "cell_type": "code",
      "metadata": {
        "id": "eJY7I0XAwe9p"
      },
      "source": [
        "def prepare_dataset(batch):\n",
        "    # check that all files have the correct sampling rate\n",
        "    assert (\n",
        "        len(set(batch[\"sampling_rate\"])) == 1\n",
        "    ), f\"Make sure all inputs have the same sampling rate of {processor.feature_extractor.sampling_rate}.\"\n",
        "\n",
        "    batch[\"input_values\"] = processor(batch[\"speech\"], sampling_rate=batch[\"sampling_rate\"][0]).input_values\n",
        "    \n",
        "    with processor.as_target_processor():\n",
        "        batch[\"labels\"] = processor(batch[\"target_text\"]).input_ids\n",
        "    return batch"
      ],
      "execution_count": 39,
      "outputs": []
    },
    {
      "cell_type": "code",
      "metadata": {
        "id": "-np9xYK-wl8q",
        "colab": {
          "base_uri": "https://localhost:8080/",
          "height": 443,
          "referenced_widgets": [
            "05a65e498fc54a04a63c88ebfc774b2e",
            "7ef6e1fe8e2648829098b9828facffbe",
            "bcfdfceaa05741308dfd476a1e9b4f35",
            "e9cfa1c4fecd47c4956b92c0102361b2",
            "9a668a6f84ca43e09e497f538948e069",
            "5b058ce49a2e40b18857b7a7058d9b0b",
            "4e3bad7107d74a9bbc824cf9dc0cb0bf",
            "f690b3306cf44b0ca570909b559387c1",
            "73e7537c939441e0826c0d6c5e31f9f1",
            "4802194d178846038ce290684273750c",
            "c959844d84b64871be239cd40778680a",
            "f199407c438843c49cb6b476c423780c",
            "41eb4a7cf1b64bef95a7b2ebab5d0d83",
            "1bb70ddc890a4f83a193486042247bc9",
            "1be85e09037248f886f73f6170e0e40a",
            "1e55fe8ed7734c489cbc3697e86fa13e",
            "6d94737cd7b24cd3ab1c1baf56560de5",
            "4ea7c1a235594b4e96c092885060db11",
            "4d1d5b2993344612852c61f4428d3696",
            "e9771d22643f4e19ad42f0891398a206",
            "8af3490b335c4a1cbb684bfd7200aa18",
            "f14321d5d9234894b0bcc29d7ee01fa0",
            "6d2cb7bb2af344a0a029ee1f7d189b3b",
            "ecb96c9e984c4444bb399acb4ae98e91",
            "3ae1fefbd2fd4809be425f11868ac8b5",
            "05ebf25d6baf446d81d669eaa4105826",
            "9eee77d7a36f453193526101129caa48",
            "4c2d32007b2a4b60a037d28bbb64ef4a",
            "ab4316ede4564b4cbab6ce89fcec0023",
            "1e3be6a9ca574496b8eca23957fc77d0",
            "56f93360bcab4ce79f349cf8ad4882f4",
            "86469586418d410293488100405e0f94",
            "9c325ee9437b4a8fb9a24bfda75c3d71",
            "cf505939a46d439b8571ad94c33893ea",
            "6c0b28486133414a8ed85f8d5b90dc8e",
            "45eaaf9c7b5740b0b16a3ff79a102aee",
            "1bcb316f24524dd7b5d91bfea31dd0ea",
            "932653a9b397494296c7a36a0de41f80",
            "c061de7125b7422191a6c87028eecf66",
            "6be15fb1ccba4cd9bd7ebaeb3a248651",
            "45830c99910746c7ad2bfe0b12006e61",
            "2d032b9f89cd46cc81fe779f2a4bf3fb",
            "426b47dd14b64dc99373d834615fcaa1",
            "cd90eb0be3e84727a9324197411a2ce2",
            "8c0aa5800a2c469d8dfdea0a2e310256",
            "2cc56aa6930e4cb9a86d2a91f64b65d3",
            "fac447722cb542ea84ff04bc983eab72",
            "e9a080ba1e3d43d59910d595854e3f13",
            "5b22c692e70c4595bc58e685608a7e3b",
            "a0929409f8d544deb51ba7018713689f",
            "9e8f4d2df12546d7b20ff5318b8a0597",
            "f46cc4d587db477d88630e53cd511ec9",
            "37c343386b2d479f8c676e38b396fc42",
            "833cd5d3da4b407da9cb1e3be876cc53",
            "3d41407f8c8444b2b84d1004f06c160f",
            "dd194aee7a3d4a16b5266e977077cdc6",
            "c743fecd157c4ca3bf58f0111d686473",
            "9f2d5585a1e64a5fb3596a75f3590a95",
            "c26132fac7cf49ee98380fc83cface78",
            "8ca9809669cb47369cb3c74127baaf23",
            "7347ae36b5e249dca297d623913c2ffc",
            "6f1768c324eb4a7cb2c1c0089dda4ae1",
            "deb5c379f4f84c0e9511bf250a959ac3",
            "8a6d4aad6eca49279ac056ca66a14c6d"
          ]
        },
        "outputId": "be1c4e54-7869-43a1-a1e7-1136278cbfb4"
      },
      "source": [
        "timit_prepared = timit.map(prepare_dataset, remove_columns=timit.column_names[\"train\"], batch_size=8, num_proc=4, batched=True)"
      ],
      "execution_count": 40,
      "outputs": [
        {
          "output_type": "stream",
          "text": [
            "    "
          ],
          "name": "stdout"
        },
        {
          "output_type": "display_data",
          "data": {
            "application/vnd.jupyter.widget-view+json": {
              "model_id": "05a65e498fc54a04a63c88ebfc774b2e",
              "version_minor": 0,
              "version_major": 2
            },
            "text/plain": [
              "HBox(children=(FloatProgress(value=0.0, description='#0', max=145.0, style=ProgressStyle(description_width='in…"
            ]
          },
          "metadata": {
            "tags": []
          }
        },
        {
          "output_type": "display_data",
          "data": {
            "application/vnd.jupyter.widget-view+json": {
              "model_id": "73e7537c939441e0826c0d6c5e31f9f1",
              "version_minor": 0,
              "version_major": 2
            },
            "text/plain": [
              "HBox(children=(FloatProgress(value=0.0, description='#2', max=145.0, style=ProgressStyle(description_width='in…"
            ]
          },
          "metadata": {
            "tags": []
          }
        },
        {
          "output_type": "display_data",
          "data": {
            "application/vnd.jupyter.widget-view+json": {
              "model_id": "6d94737cd7b24cd3ab1c1baf56560de5",
              "version_minor": 0,
              "version_major": 2
            },
            "text/plain": [
              "HBox(children=(FloatProgress(value=0.0, description='#1', max=145.0, style=ProgressStyle(description_width='in…"
            ]
          },
          "metadata": {
            "tags": []
          }
        },
        {
          "output_type": "display_data",
          "data": {
            "application/vnd.jupyter.widget-view+json": {
              "model_id": "3ae1fefbd2fd4809be425f11868ac8b5",
              "version_minor": 0,
              "version_major": 2
            },
            "text/plain": [
              "HBox(children=(FloatProgress(value=0.0, description='#3', max=145.0, style=ProgressStyle(description_width='in…"
            ]
          },
          "metadata": {
            "tags": []
          }
        },
        {
          "output_type": "stream",
          "text": [
            "\n",
            "\n",
            "\n",
            "\n",
            "    "
          ],
          "name": "stdout"
        },
        {
          "output_type": "display_data",
          "data": {
            "application/vnd.jupyter.widget-view+json": {
              "model_id": "9c325ee9437b4a8fb9a24bfda75c3d71",
              "version_minor": 0,
              "version_major": 2
            },
            "text/plain": [
              "HBox(children=(FloatProgress(value=0.0, description='#0', max=53.0, style=ProgressStyle(description_width='ini…"
            ]
          },
          "metadata": {
            "tags": []
          }
        },
        {
          "output_type": "display_data",
          "data": {
            "application/vnd.jupyter.widget-view+json": {
              "model_id": "45830c99910746c7ad2bfe0b12006e61",
              "version_minor": 0,
              "version_major": 2
            },
            "text/plain": [
              "HBox(children=(FloatProgress(value=0.0, description='#2', max=53.0, style=ProgressStyle(description_width='ini…"
            ]
          },
          "metadata": {
            "tags": []
          }
        },
        {
          "output_type": "display_data",
          "data": {
            "application/vnd.jupyter.widget-view+json": {
              "model_id": "5b22c692e70c4595bc58e685608a7e3b",
              "version_minor": 0,
              "version_major": 2
            },
            "text/plain": [
              "HBox(children=(FloatProgress(value=0.0, description='#1', max=53.0, style=ProgressStyle(description_width='ini…"
            ]
          },
          "metadata": {
            "tags": []
          }
        },
        {
          "output_type": "display_data",
          "data": {
            "application/vnd.jupyter.widget-view+json": {
              "model_id": "c743fecd157c4ca3bf58f0111d686473",
              "version_minor": 0,
              "version_major": 2
            },
            "text/plain": [
              "HBox(children=(FloatProgress(value=0.0, description='#3', max=53.0, style=ProgressStyle(description_width='ini…"
            ]
          },
          "metadata": {
            "tags": []
          }
        },
        {
          "output_type": "stream",
          "text": [
            "\n",
            "\n",
            "\n",
            "\n"
          ],
          "name": "stdout"
        }
      ]
    },
    {
      "cell_type": "markdown",
      "metadata": {
        "id": "gYlQkKVoRUos"
      },
      "source": [
        "## Training & Evaluation\n",
        "\n",
        "The data is processed so that we are ready to start setting up the training pipeline. We will make use of 🤗's [Trainer](https://huggingface.co/transformers/master/main_classes/trainer.html?highlight=trainer) for which we essentially need to do the following:\n",
        "\n",
        "- Define a data collator. In contrast to most NLP models, Wav2Vec2 has a much larger input length than output length. *E.g.*, a sample of input length 50000 has an output length of no more than 100. Given the large input sizes, it is much more efficient to pad the training batches dynamically meaning that all training samples should only be padded to the longest sample in their batch and not the overall longest sample. Therefore, fine-tuning Wav2Vec2 requires a special padding data collator, which we will define below\n",
        "\n",
        "- Evaluation metric. During training, the model should be evaluated on the word error rate. We should define a `compute_metrics` function accordingly\n",
        "\n",
        "- Load a pretrained checkpoint. We need to load a pretrained checkpoint and configure it correctly for training.\n",
        "\n",
        "- Define the training configuration.\n",
        "\n",
        "After having fine-tuned the model, we will correctly evaluate it on the test data and verify that it has indeed learned to correctly transcribe speech."
      ]
    },
    {
      "cell_type": "markdown",
      "metadata": {
        "id": "Slk403unUS91"
      },
      "source": [
        "### Set-up Trainer\n",
        "\n",
        "Let's start by defining the data collator. The code for the data collator was copied from [this example](https://github.com/huggingface/transformers/blob/9a06b6b11bdfc42eea08fa91d0c737d1863c99e3/examples/research_projects/wav2vec2/run_asr.py#L81).\n",
        "\n",
        "Without going into too many details, in contrast to the common data collators, this data collator treats the `input_values` and `labels` differently and thus applies to separate padding functions on them (again making use of Wav2Vec2's context manager). This is necessary because in speech input and output are of different modalities meaning that they should not be treated by the same padding function.\n",
        "Analogous to the common data collators, the padding tokens in the labels with `-100` so that those tokens are **not** taken into account when computing the loss."
      ]
    },
    {
      "cell_type": "code",
      "metadata": {
        "id": "tborvC9hx88e"
      },
      "source": [
        "import torch\n",
        "\n",
        "from dataclasses import dataclass, field\n",
        "from typing import Any, Dict, List, Optional, Union\n",
        "\n",
        "@dataclass\n",
        "class DataCollatorCTCWithPadding:\n",
        "    \"\"\"\n",
        "    Data collator that will dynamically pad the inputs received.\n",
        "    Args:\n",
        "        processor (:class:`~transformers.Wav2Vec2Processor`)\n",
        "            The processor used for proccessing the data.\n",
        "        padding (:obj:`bool`, :obj:`str` or :class:`~transformers.tokenization_utils_base.PaddingStrategy`, `optional`, defaults to :obj:`True`):\n",
        "            Select a strategy to pad the returned sequences (according to the model's padding side and padding index)\n",
        "            among:\n",
        "            * :obj:`True` or :obj:`'longest'`: Pad to the longest sequence in the batch (or no padding if only a single\n",
        "              sequence if provided).\n",
        "            * :obj:`'max_length'`: Pad to a maximum length specified with the argument :obj:`max_length` or to the\n",
        "              maximum acceptable input length for the model if that argument is not provided.\n",
        "            * :obj:`False` or :obj:`'do_not_pad'` (default): No padding (i.e., can output a batch with sequences of\n",
        "              different lengths).\n",
        "        max_length (:obj:`int`, `optional`):\n",
        "            Maximum length of the ``input_values`` of the returned list and optionally padding length (see above).\n",
        "        max_length_labels (:obj:`int`, `optional`):\n",
        "            Maximum length of the ``labels`` returned list and optionally padding length (see above).\n",
        "        pad_to_multiple_of (:obj:`int`, `optional`):\n",
        "            If set will pad the sequence to a multiple of the provided value.\n",
        "            This is especially useful to enable the use of Tensor Cores on NVIDIA hardware with compute capability >=\n",
        "            7.5 (Volta).\n",
        "    \"\"\"\n",
        "\n",
        "    processor: Wav2Vec2Processor\n",
        "    padding: Union[bool, str] = True\n",
        "    max_length: Optional[int] = None\n",
        "    max_length_labels: Optional[int] = None\n",
        "    pad_to_multiple_of: Optional[int] = None\n",
        "    pad_to_multiple_of_labels: Optional[int] = None\n",
        "\n",
        "    def __call__(self, features: List[Dict[str, Union[List[int], torch.Tensor]]]) -> Dict[str, torch.Tensor]:\n",
        "        # split inputs and labels since they have to be of different lenghts and need\n",
        "        # different padding methods\n",
        "        input_features = [{\"input_values\": feature[\"input_values\"]} for feature in features]\n",
        "        label_features = [{\"input_ids\": feature[\"labels\"]} for feature in features]\n",
        "\n",
        "        batch = self.processor.pad(\n",
        "            input_features,\n",
        "            padding=self.padding,\n",
        "            max_length=self.max_length,\n",
        "            pad_to_multiple_of=self.pad_to_multiple_of,\n",
        "            return_tensors=\"pt\",\n",
        "        )\n",
        "        with self.processor.as_target_processor():\n",
        "            labels_batch = self.processor.pad(\n",
        "                label_features,\n",
        "                padding=self.padding,\n",
        "                max_length=self.max_length_labels,\n",
        "                pad_to_multiple_of=self.pad_to_multiple_of_labels,\n",
        "                return_tensors=\"pt\",\n",
        "            )\n",
        "\n",
        "        # replace padding with -100 to ignore loss correctly\n",
        "        labels = labels_batch[\"input_ids\"].masked_fill(labels_batch.attention_mask.ne(1), -100)\n",
        "\n",
        "        batch[\"labels\"] = labels\n",
        "\n",
        "        return batch"
      ],
      "execution_count": 41,
      "outputs": []
    },
    {
      "cell_type": "code",
      "metadata": {
        "id": "lbQf5GuZyQ4_"
      },
      "source": [
        "data_collator = DataCollatorCTCWithPadding(processor=processor, padding=True)"
      ],
      "execution_count": 42,
      "outputs": []
    },
    {
      "cell_type": "markdown",
      "metadata": {
        "id": "xO-Zdj-5cxXp"
      },
      "source": [
        "Next, the evaluation metric is defined. As mentioned earlier, the \n",
        "predominant metric in ASR is the word error rate (WER), hence we will use it in this notebook as well."
      ]
    },
    {
      "cell_type": "code",
      "metadata": {
        "id": "9Xsux2gmyXso",
        "colab": {
          "base_uri": "https://localhost:8080/",
          "height": 66,
          "referenced_widgets": [
            "f2e5a194db724294b99a71d294b58d5d",
            "329b25469dd14e99b6b165d7a6b5379f",
            "4cfbf680277849c1b862d725d2c82205",
            "92c3121ec745413b9408bbff11b4a9a8",
            "f2b63415a3334c6bada10f30e793043a",
            "327f9e175eea436abc5b90ee96076f93",
            "1eafea0c1a7b4a00ae3922d57253bbf6",
            "7ed41cf5569448dc97893bb71896f098"
          ]
        },
        "outputId": "aeb9ea78-1020-47b7-ccca-279a8e2bfa7d"
      },
      "source": [
        "wer_metric = load_metric(\"wer\")"
      ],
      "execution_count": 43,
      "outputs": [
        {
          "output_type": "display_data",
          "data": {
            "application/vnd.jupyter.widget-view+json": {
              "model_id": "f2e5a194db724294b99a71d294b58d5d",
              "version_minor": 0,
              "version_major": 2
            },
            "text/plain": [
              "HBox(children=(FloatProgress(value=0.0, description='Downloading', max=1764.0, style=ProgressStyle(description…"
            ]
          },
          "metadata": {
            "tags": []
          }
        },
        {
          "output_type": "stream",
          "text": [
            "\n"
          ],
          "name": "stdout"
        }
      ]
    },
    {
      "cell_type": "markdown",
      "metadata": {
        "id": "E1qZU5p-deqB"
      },
      "source": [
        "The model will return a sequence of logit vectors:\n",
        "$\\mathbf{y}_1, \\ldots, \\mathbf{y}_m$ with $\\mathbf{y}_1 = f_{\\theta}(x_1, \\ldots, x_n)[0]$ and $n >> m$.\n",
        "\n",
        "A logit vector $\\mathbf{y}_1$ contains the log-odds for each word in the vocabulary we defined earlier, thus $\\text{len}(\\mathbf{y}_i) =$ `config.vocab_size`. We are interested in the most likely prediction of the model and thus take the `argmax(...)` of the logits. Also, we transform the encoded labels back to the original string by replacing `-100` with the `pad_token_id` and decoding the ids while making sure that consecutive tokens are **not** grouped to the same token in CTC style ${}^1$."
      ]
    },
    {
      "cell_type": "code",
      "metadata": {
        "id": "1XZ-kjweyTy_"
      },
      "source": [
        "def compute_metrics(pred):\n",
        "    pred_logits = pred.predictions\n",
        "    pred_ids = np.argmax(pred_logits, axis=-1)\n",
        "\n",
        "    pred.label_ids[pred.label_ids == -100] = processor.tokenizer.pad_token_id\n",
        "\n",
        "    pred_str = processor.batch_decode(pred_ids)\n",
        "    # we do not want to group tokens when computing the metrics\n",
        "    label_str = processor.batch_decode(pred.label_ids, group_tokens=False)\n",
        "\n",
        "    wer = wer_metric.compute(predictions=pred_str, references=label_str)\n",
        "\n",
        "    return {\"wer\": wer}"
      ],
      "execution_count": 44,
      "outputs": []
    },
    {
      "cell_type": "markdown",
      "metadata": {
        "id": "Xmgrx4bRwLIH"
      },
      "source": [
        "Now, we can load the pretrained `Wav2Vec2` checkpoint. The tokenizer's `pad_token_id` must be to define the model's `pad_token_id` or in the case of `Wav2Vec2ForCTC` also CTC's *blank token* ${}^2$. To save GPU memory, we enable PyTorch's [gradient checkpointing](https://pytorch.org/docs/stable/checkpoint.html) and also set the loss reduction to \"*mean*\"."
      ]
    },
    {
      "cell_type": "code",
      "metadata": {
        "id": "e7cqAWIayn6w",
        "colab": {
          "base_uri": "https://localhost:8080/",
          "height": 169,
          "referenced_widgets": [
            "bf6e1f38551045dc9bf27bf97c29fa1b",
            "44162083a70b47e391fc8b442a7794ee",
            "b7495ad31a854013b75afec671a2161a",
            "b246fb680b684480b679bb37c1c883a1",
            "46993b54af32469a91fe786cfc5a0ca2",
            "82b3d709b1c94ca9b06a73eb2668859f",
            "d7232951fe16446a8247d057c08c8d18",
            "f4e3049eac3544178066aa4af36391ae",
            "c84b71eef0de4c0fa2808a80731aad6d",
            "fceb8f2a923647abb858de161cbf81e3",
            "bf03db41b7594a8b92aa8d248624f117",
            "0b7d0eee14694820b6bc11c028c70ff6",
            "9ee4191fcb534c669eeda2ed3b861e30",
            "5c04604cdb8849a2a92ae6ec092cf619",
            "51f7f02e731f47a08024c86fbf5960d2",
            "65ef5a0842084ebda02bcf5401ade422"
          ]
        },
        "outputId": "2940ec0c-4f0e-4eeb-d685-93e2f0793056"
      },
      "source": [
        "from transformers import Wav2Vec2ForCTC\n",
        "\n",
        "# model = Wav2Vec2ForCTC.from_pretrained(\n",
        "#     \"facebook/wav2vec2-base\", \n",
        "#     gradient_checkpointing=True, \n",
        "#     ctc_loss_reduction=\"mean\", \n",
        "#     pad_token_id=processor.tokenizer.pad_token_id,\n",
        "# )\n",
        "\n",
        "model = Wav2Vec2ForCTC.from_pretrained(\n",
        "    \"facebook/wav2vec2-large-xlsr-53\", \n",
        "    attention_dropout=0.1,\n",
        "    hidden_dropout=0.1,\n",
        "    feat_proj_dropout=0.0,\n",
        "    mask_time_prob=0.05,\n",
        "    layerdrop=0.1,\n",
        "    gradient_checkpointing=True, \n",
        "    ctc_loss_reduction=\"mean\", \n",
        "    pad_token_id=processor.tokenizer.pad_token_id,\n",
        "    vocab_size=len(processor.tokenizer)\n",
        ")"
      ],
      "execution_count": 45,
      "outputs": [
        {
          "output_type": "display_data",
          "data": {
            "application/vnd.jupyter.widget-view+json": {
              "model_id": "bf6e1f38551045dc9bf27bf97c29fa1b",
              "version_minor": 0,
              "version_major": 2
            },
            "text/plain": [
              "HBox(children=(FloatProgress(value=0.0, description='Downloading', max=1451.0, style=ProgressStyle(description…"
            ]
          },
          "metadata": {
            "tags": []
          }
        },
        {
          "output_type": "stream",
          "text": [
            "\n"
          ],
          "name": "stdout"
        },
        {
          "output_type": "display_data",
          "data": {
            "application/vnd.jupyter.widget-view+json": {
              "model_id": "c84b71eef0de4c0fa2808a80731aad6d",
              "version_minor": 0,
              "version_major": 2
            },
            "text/plain": [
              "HBox(children=(FloatProgress(value=0.0, description='Downloading', max=1261920069.0, style=ProgressStyle(descr…"
            ]
          },
          "metadata": {
            "tags": []
          }
        },
        {
          "output_type": "stream",
          "text": [
            "\n"
          ],
          "name": "stdout"
        },
        {
          "output_type": "stream",
          "text": [
            "Some weights of Wav2Vec2ForCTC were not initialized from the model checkpoint at facebook/wav2vec2-large-xlsr-53 and are newly initialized: ['lm_head.weight', 'lm_head.bias']\n",
            "You should probably TRAIN this model on a down-stream task to be able to use it for predictions and inference.\n"
          ],
          "name": "stderr"
        }
      ]
    },
    {
      "cell_type": "markdown",
      "metadata": {
        "id": "1DwR3XLSzGDD"
      },
      "source": [
        "The first component of Wav2Vec2 consists of a stack of CNN layers that are used to extract acoustically meaningful - but contextually independent - features from the raw speech signal. This part of the model has already been sufficiently trained during pretrainind and as stated in the [paper](https://arxiv.org/abs/2006.11477) does not need to be fine-tuned anymore. \n",
        "Thus, we can set the `requires_grad` to `False` for all parameters of the *feature extraction* part."
      ]
    },
    {
      "cell_type": "code",
      "metadata": {
        "id": "oGI8zObtZ3V0"
      },
      "source": [
        "model.freeze_feature_extractor()"
      ],
      "execution_count": 46,
      "outputs": []
    },
    {
      "cell_type": "markdown",
      "metadata": {
        "id": "lD4aGhQM0K-D"
      },
      "source": [
        "In a final step, we define all parameters related to training. \n",
        "To give more explanation on some of the parameters:\n",
        "- `group_by_length` makes training more efficient by grouping training samples of similar input length into one batch. This can significantly speed up training time by heavily reducing the overall number of useless padding tokens that are passed through the model\n",
        "- `learning_rate` and `weight_decay` were heuristically tuned until fine-tuning has become stable. Note that those parameters strongly depend on the Timit dataset and might be suboptimal for other speech datasets.\n",
        "\n",
        "For more explanations on other parameters, one can take a look at the [docs](https://huggingface.co/transformers/master/main_classes/trainer.html?highlight=trainer#trainingarguments).\n",
        "\n",
        "**Note**: If one wants to save the trained models in his/her google drive the commented-out `output_dir` can be used instead."
      ]
    },
    {
      "cell_type": "code",
      "metadata": {
        "id": "KbeKSV7uzGPP"
      },
      "source": [
        "# from transformers import TrainingArguments\n",
        "\n",
        "# training_args = TrainingArguments(\n",
        "#   # output_dir=\"/content/gdrive/MyDrive/wav2vec2-base-timit-demo\",\n",
        "#   output_dir=\"./wav2vec2-base-timit-demo\",\n",
        "#   group_by_length=True,\n",
        "#   per_device_train_batch_size=32,\n",
        "#   evaluation_strategy=\"steps\",\n",
        "#   num_train_epochs=30,\n",
        "#   fp16=True,\n",
        "#   save_steps=500,\n",
        "#   eval_steps=500,\n",
        "#   logging_steps=500,\n",
        "#   learning_rate=1e-4,\n",
        "#   weight_decay=0.005,\n",
        "#   warmup_steps=1000,\n",
        "#   save_total_limit=2,\n",
        "# )\n",
        "\n",
        "from transformers import TrainingArguments\n",
        "\n",
        "training_args = TrainingArguments(\n",
        "  # output_dir=model_dir,\n",
        "  output_dir=\"./wav2vec2-base-timit-demo\",\n",
        "  # output_dir=\"./wav2vec2-large-xlsr-turkish-demo\",\n",
        "  group_by_length=True,\n",
        "  per_device_train_batch_size=16,\n",
        "  gradient_accumulation_steps=2,\n",
        "  evaluation_strategy=\"steps\",\n",
        "  num_train_epochs=50,\n",
        "  fp16=True,\n",
        "  save_steps=100,\n",
        "  eval_steps=100,\n",
        "  logging_steps=100,\n",
        "  learning_rate=3e-4,\n",
        "  warmup_steps=50,\n",
        "  save_total_limit=2,\n",
        ")"
      ],
      "execution_count": 47,
      "outputs": []
    },
    {
      "cell_type": "markdown",
      "metadata": {
        "id": "OsW-WZcL1ZtN"
      },
      "source": [
        "Now, all instances can be passed to Trainer and we are ready to start training!"
      ]
    },
    {
      "cell_type": "code",
      "metadata": {
        "id": "rY7vBmFCPFgC"
      },
      "source": [
        "from transformers import Trainer\n",
        "\n",
        "trainer = Trainer(\n",
        "    model=model,\n",
        "    data_collator=data_collator,\n",
        "    args=training_args,\n",
        "    compute_metrics=compute_metrics,\n",
        "    train_dataset=timit_prepared[\"train\"],\n",
        "    eval_dataset=timit_prepared[\"test\"],\n",
        "    tokenizer=processor.feature_extractor,\n",
        ")"
      ],
      "execution_count": 48,
      "outputs": []
    },
    {
      "cell_type": "markdown",
      "metadata": {
        "id": "UoXBx1JAA0DX"
      },
      "source": [
        "\n",
        "\n",
        "---\n",
        "\n",
        "${}^1$ To allow models to become independent of the speaker rate, in CTC, consecutive tokens that are identical are simply grouped as a single token. However, the encoded labels should not be grouped when decoding since they don't correspond to the predicted tokens of the model, which is why the `group_tokens=False` parameter has to be passed. If we wouldn't pass this parameter a word like `\"hello\"` would incorrectly be encoded, and decoded as `\"helo\"`.\n",
        "\n",
        "${}^2$ The blank token allows the model to predict a word, such as `\"hello\"` by forcing it to insert the blank token between the two l's. A CTC-conform prediction of `\"hello\"` of our model would be `[PAD] [PAD] \"h\" \"e\" \"e\" \"l\" \"l\" [PAD] \"l\" \"o\" \"o\" [PAD]`."
      ]
    },
    {
      "cell_type": "markdown",
      "metadata": {
        "id": "rpvZHM1xReIW"
      },
      "source": [
        "### Training"
      ]
    },
    {
      "cell_type": "markdown",
      "metadata": {
        "id": "j-3oKSzZ1hGq"
      },
      "source": [
        "Training will take between 90 and 180 minutes depending on the GPU allocated to this notebook. While the trained model yields satisfying results on *Timit*'s test data, it is by no means an optimally fine-tuned model. The purpose of this notebook is to demonstrate how Wav2Vec2's [base](https://huggingface.co/facebook/wav2vec2-base), [large](https://huggingface.co/facebook/wav2vec2-large), and [large-lv60](https://huggingface.co/facebook/wav2vec2-large-lv60) checkpoints can be fine-tuned on any English dataset.\n",
        "\n",
        "In case you want to use this google colab to fine-tune your model, you should make sure that your training doesn't stop due to inactivity. A simple hack to prevent this is to paste the following code into the console of this tab (*right mouse click -> inspect -> Console tab and insert code*)."
      ]
    },
    {
      "cell_type": "markdown",
      "metadata": {
        "id": "VYYAvgkW4P0m"
      },
      "source": [
        "```javascript\n",
        "function ConnectButton(){\n",
        "    console.log(\"Connect pushed\"); \n",
        "    document.querySelector(\"#top-toolbar > colab-connect-button\").shadowRoot.querySelector(\"#connect\").click() \n",
        "}\n",
        "setInterval(ConnectButton,60000);\n",
        "```"
      ]
    },
    {
      "cell_type": "code",
      "metadata": {
        "id": "_UEjJqGsQw24",
        "colab": {
          "base_uri": "https://localhost:8080/",
          "height": 157
        },
        "outputId": "2f983aa9-2eb6-4676-b5b0-61ac6576d084"
      },
      "source": [
        "trainer.train()"
      ],
      "execution_count": null,
      "outputs": [
        {
          "output_type": "display_data",
          "data": {
            "text/html": [
              "\n",
              "    <div>\n",
              "        <style>\n",
              "            /* Turns off some styling */\n",
              "            progress {\n",
              "                /* gets rid of default border in Firefox and Opera. */\n",
              "                border: none;\n",
              "                /* Needs to be in here for Safari polyfill so background images work as expected. */\n",
              "                background-size: auto;\n",
              "            }\n",
              "        </style>\n",
              "      \n",
              "      <progress value='301' max='7200' style='width:300px; height:20px; vertical-align: middle;'></progress>\n",
              "      [ 301/7200 19:20 < 7:26:07, 0.26 it/s, Epoch 2.08/50]\n",
              "    </div>\n",
              "    <table border=\"1\" class=\"dataframe\">\n",
              "  <thead>\n",
              "    <tr style=\"text-align: left;\">\n",
              "      <th>Step</th>\n",
              "      <th>Training Loss</th>\n",
              "      <th>Validation Loss</th>\n",
              "      <th>Wer</th>\n",
              "      <th>Runtime</th>\n",
              "      <th>Samples Per Second</th>\n",
              "    </tr>\n",
              "  </thead>\n",
              "  <tbody>\n",
              "    <tr>\n",
              "      <td>100</td>\n",
              "      <td>2.682200</td>\n",
              "      <td>2.961519</td>\n",
              "      <td>1.000000</td>\n",
              "      <td>93.636300</td>\n",
              "      <td>17.942000</td>\n",
              "    </tr>\n",
              "    <tr>\n",
              "      <td>200</td>\n",
              "      <td>0.318300</td>\n",
              "      <td>4.326068</td>\n",
              "      <td>0.878078</td>\n",
              "      <td>107.766700</td>\n",
              "      <td>15.589000</td>\n",
              "    </tr>\n",
              "  </tbody>\n",
              "</table><p>\n",
              "    <div>\n",
              "        <style>\n",
              "            /* Turns off some styling */\n",
              "            progress {\n",
              "                /* gets rid of default border in Firefox and Opera. */\n",
              "                border: none;\n",
              "                /* Needs to be in here for Safari polyfill so background images work as expected. */\n",
              "                background-size: auto;\n",
              "            }\n",
              "        </style>\n",
              "      \n",
              "      <progress value='83' max='210' style='width:300px; height:20px; vertical-align: middle;'></progress>\n",
              "      [ 83/210 00:37 < 00:57, 2.21 it/s]\n",
              "    </div>\n",
              "    "
            ],
            "text/plain": [
              "<IPython.core.display.HTML object>"
            ]
          },
          "metadata": {
            "tags": []
          }
        }
      ]
    },
    {
      "cell_type": "markdown",
      "metadata": {
        "id": "UCyp-v3n4Zlt"
      },
      "source": [
        "The final WER should be below 0.3 which is reasonable given that state-of-the-art phoneme error rates (PER) are just below 0.1 (see [leaderboard](https://paperswithcode.com/sota/speech-recognition-on-timit)) and that WER is usually worse than PER.\n",
        "\n",
        "The resulting model of this notebook has been saved to [patrickvonplaten/wav2vec2-base-timit-demo](https://huggingface.co/patrickvonplaten/wav2vec2-base-timit-demo)."
      ]
    },
    {
      "cell_type": "markdown",
      "metadata": {
        "id": "nD4XP5IHncsY"
      },
      "source": [
        "### Evaluate\n",
        "\n",
        "In the final part, we evaluate our fine-tuned model on the test set and play around with it a bit.\n",
        "\n",
        "Let's load the `processor` and `model`."
      ]
    },
    {
      "cell_type": "code",
      "metadata": {
        "id": "-rg0USDCnbo6"
      },
      "source": [
        "processor = Wav2Vec2Processor.from_pretrained(\"patrickvonplaten/wav2vec2-base-timit-demo\")"
      ],
      "execution_count": null,
      "outputs": []
    },
    {
      "cell_type": "code",
      "metadata": {
        "id": "sSpFW3pDn23P"
      },
      "source": [
        "model = Wav2Vec2ForCTC.from_pretrained(\"patrickvonplaten/wav2vec2-base-timit-demo\")"
      ],
      "execution_count": null,
      "outputs": []
    },
    {
      "cell_type": "markdown",
      "metadata": {
        "id": "TUuZpB0v5jn_"
      },
      "source": [
        "Now, we will make use of the `map(...)` function to predict the transcription of every test sample and to save the prediction in the dataset itself. We will call the resulting dictionary `\"results\"`. \n",
        "\n",
        "**Note**: we evaluate the test data set with `batch_size=1` on purpose due to this [issue](https://github.com/pytorch/fairseq/issues/3227). Since padded inputs don't yield the exact same output as non-padded inputs, a better WER can be achieved by not padding the input at all."
      ]
    },
    {
      "cell_type": "code",
      "metadata": {
        "id": "40naJl53n7jT"
      },
      "source": [
        "def map_to_result(batch):\n",
        "  model.to(\"cuda\")\n",
        "  input_values = processor(\n",
        "      batch[\"speech\"], \n",
        "      sampling_rate=batch[\"sampling_rate\"], \n",
        "      return_tensors=\"pt\"\n",
        "  ).input_values.to(\"cuda\")\n",
        "\n",
        "  with torch.no_grad():\n",
        "    logits = model(input_values).logits\n",
        "\n",
        "  pred_ids = torch.argmax(logits, dim=-1)\n",
        "  batch[\"pred_str\"] = processor.batch_decode(pred_ids)[0]\n",
        "  \n",
        "  return batch"
      ],
      "execution_count": null,
      "outputs": []
    },
    {
      "cell_type": "code",
      "metadata": {
        "id": "uPqH7gZqrGPi"
      },
      "source": [
        "results = timit[\"test\"].map(map_to_result)"
      ],
      "execution_count": null,
      "outputs": []
    },
    {
      "cell_type": "markdown",
      "metadata": {
        "id": "-mqpdB8R6rty"
      },
      "source": [
        "Let's compute the overall WER now."
      ]
    },
    {
      "cell_type": "code",
      "metadata": {
        "id": "PmqAb4Isx8OK"
      },
      "source": [
        "print(\"Test WER: {:.3f}\".format(wer_metric.compute(predictions=results[\"pred_str\"], references=results[\"target_text\"])))"
      ],
      "execution_count": null,
      "outputs": []
    },
    {
      "cell_type": "markdown",
      "metadata": {
        "id": "6Va94d8Y7Q98"
      },
      "source": [
        "18.6% WER - not bad! Our model would have surely made the top 20 on the official [leaderboard](https://paperswithcode.com/sota/speech-recognition-on-timit).\n",
        "\n",
        "Let's take a look at some predictions to see what errors are made by the model."
      ]
    },
    {
      "cell_type": "code",
      "metadata": {
        "id": "odNDiFVRy53w"
      },
      "source": [
        "show_random_elements(results.remove_columns([\"speech\", \"sampling_rate\"]))"
      ],
      "execution_count": null,
      "outputs": []
    },
    {
      "cell_type": "markdown",
      "metadata": {
        "id": "5HFCujhd9n4N"
      },
      "source": [
        "It becomes clear that the predicted transcriptions are acoustically very similar to the target transcriptions, but often contain spelling or grammatical errors. This shouldn't be very surprising though given that we purely rely on Wav2Vec2 without making use of a language model."
      ]
    },
    {
      "cell_type": "markdown",
      "metadata": {
        "id": "a3ydKvUl9FTK"
      },
      "source": [
        "Finally, to better understand how CTC works, it is worth taking a deeper look at the exact output of the model. Let's run the first test sample through the model, take the predicted ids and convert them to their corresponding tokens."
      ]
    },
    {
      "cell_type": "code",
      "metadata": {
        "id": "AqaM45t87uM4"
      },
      "source": [
        "model.to(\"cuda\")\n",
        "input_values = processor(timit[\"test\"][0][\"speech\"], sampling_rate=timit[\"test\"][0][\"sampling_rate\"], return_tensors=\"pt\").input_values.to(\"cuda\")\n",
        "\n",
        "with torch.no_grad():\n",
        "  logits = model(input_values).logits\n",
        "\n",
        "pred_ids = torch.argmax(logits, dim=-1)\n",
        "\n",
        "# convert ids to tokens\n",
        "\" \".join(processor.tokenizer.convert_ids_to_tokens(pred_ids[0].tolist()))"
      ],
      "execution_count": null,
      "outputs": []
    },
    {
      "cell_type": "markdown",
      "metadata": {
        "id": "tdO8E28g-n5C"
      },
      "source": [
        "The output should make it a bit clearer how CTC works in practice. The model is to some extent invariant to speaking rate since it has learned to either just repeat the same token in case the speech chunk to be classified still corresponds to the same token. This makes CTC a very powerful algorithm for speech recognition since the speech file's transcription is often very much independent of its length.\n",
        "\n",
        "I again advise the reader to take a look at [this](https://distill.pub/2017/ctc) very nice blog post to better understand CTC."
      ]
    },
    {
      "cell_type": "code",
      "metadata": {
        "id": "0yBeyAd840JX"
      },
      "source": [
        ""
      ],
      "execution_count": null,
      "outputs": []
    }
  ]
}