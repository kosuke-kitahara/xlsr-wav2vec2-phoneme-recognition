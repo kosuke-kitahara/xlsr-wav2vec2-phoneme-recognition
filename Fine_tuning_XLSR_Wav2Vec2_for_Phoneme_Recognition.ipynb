{
  "nbformat": 4,
  "nbformat_minor": 0,
  "metadata": {
    "colab": {
      "name": "Fine-tuning XLSR-Wav2Vec2 for Phoneme Recognition",
      "provenance": [],
      "collapsed_sections": [],
      "machine_shape": "hm",
      "include_colab_link": true
    },
    "kernelspec": {
      "name": "python3",
      "display_name": "Python 3"
    },
    "accelerator": "GPU",
    "widgets": {
      "application/vnd.jupyter.widget-state+json": {
        "e6cf4f0799c94e77827385899867943e": {
          "model_module": "@jupyter-widgets/controls",
          "model_name": "HBoxModel",
          "state": {
            "_view_name": "HBoxView",
            "_dom_classes": [],
            "_model_name": "HBoxModel",
            "_view_module": "@jupyter-widgets/controls",
            "_model_module_version": "1.5.0",
            "_view_count": null,
            "_view_module_version": "1.5.0",
            "box_style": "",
            "layout": "IPY_MODEL_c3e95481522f49bc87d56a8865e91638",
            "_model_module": "@jupyter-widgets/controls",
            "children": [
              "IPY_MODEL_704c7b0495dc4d52b2e1fc870f2876c2",
              "IPY_MODEL_9ce9548b953a42c9bdeef28d77663e60"
            ]
          }
        },
        "c3e95481522f49bc87d56a8865e91638": {
          "model_module": "@jupyter-widgets/base",
          "model_name": "LayoutModel",
          "state": {
            "_view_name": "LayoutView",
            "grid_template_rows": null,
            "right": null,
            "justify_content": null,
            "_view_module": "@jupyter-widgets/base",
            "overflow": null,
            "_model_module_version": "1.2.0",
            "_view_count": null,
            "flex_flow": null,
            "width": null,
            "min_width": null,
            "border": null,
            "align_items": null,
            "bottom": null,
            "_model_module": "@jupyter-widgets/base",
            "top": null,
            "grid_column": null,
            "overflow_y": null,
            "overflow_x": null,
            "grid_auto_flow": null,
            "grid_area": null,
            "grid_template_columns": null,
            "flex": null,
            "_model_name": "LayoutModel",
            "justify_items": null,
            "grid_row": null,
            "max_height": null,
            "align_content": null,
            "visibility": null,
            "align_self": null,
            "height": null,
            "min_height": null,
            "padding": null,
            "grid_auto_rows": null,
            "grid_gap": null,
            "max_width": null,
            "order": null,
            "_view_module_version": "1.2.0",
            "grid_template_areas": null,
            "object_position": null,
            "object_fit": null,
            "grid_auto_columns": null,
            "margin": null,
            "display": null,
            "left": null
          }
        },
        "704c7b0495dc4d52b2e1fc870f2876c2": {
          "model_module": "@jupyter-widgets/controls",
          "model_name": "FloatProgressModel",
          "state": {
            "_view_name": "ProgressView",
            "style": "IPY_MODEL_d9ce371e0cc34c13b48c5f23e81e9b5f",
            "_dom_classes": [],
            "description": "100%",
            "_model_name": "FloatProgressModel",
            "bar_style": "success",
            "max": 1,
            "_view_module": "@jupyter-widgets/controls",
            "_model_module_version": "1.5.0",
            "value": 1,
            "_view_count": null,
            "_view_module_version": "1.5.0",
            "orientation": "horizontal",
            "min": 0,
            "description_tooltip": null,
            "_model_module": "@jupyter-widgets/controls",
            "layout": "IPY_MODEL_724d1c4970f94c628b4f8693e6d1b7a5"
          }
        },
        "9ce9548b953a42c9bdeef28d77663e60": {
          "model_module": "@jupyter-widgets/controls",
          "model_name": "HTMLModel",
          "state": {
            "_view_name": "HTMLView",
            "style": "IPY_MODEL_73894ffd96fd4eb387a983c2d8744565",
            "_dom_classes": [],
            "description": "",
            "_model_name": "HTMLModel",
            "placeholder": "​",
            "_view_module": "@jupyter-widgets/controls",
            "_model_module_version": "1.5.0",
            "value": " 1/1 [00:56&lt;00:00, 56.65s/ba]",
            "_view_count": null,
            "_view_module_version": "1.5.0",
            "description_tooltip": null,
            "_model_module": "@jupyter-widgets/controls",
            "layout": "IPY_MODEL_7efbfabf9ba44b2d8c9905114cc2f70c"
          }
        },
        "d9ce371e0cc34c13b48c5f23e81e9b5f": {
          "model_module": "@jupyter-widgets/controls",
          "model_name": "ProgressStyleModel",
          "state": {
            "_view_name": "StyleView",
            "_model_name": "ProgressStyleModel",
            "description_width": "initial",
            "_view_module": "@jupyter-widgets/base",
            "_model_module_version": "1.5.0",
            "_view_count": null,
            "_view_module_version": "1.2.0",
            "bar_color": null,
            "_model_module": "@jupyter-widgets/controls"
          }
        },
        "724d1c4970f94c628b4f8693e6d1b7a5": {
          "model_module": "@jupyter-widgets/base",
          "model_name": "LayoutModel",
          "state": {
            "_view_name": "LayoutView",
            "grid_template_rows": null,
            "right": null,
            "justify_content": null,
            "_view_module": "@jupyter-widgets/base",
            "overflow": null,
            "_model_module_version": "1.2.0",
            "_view_count": null,
            "flex_flow": null,
            "width": null,
            "min_width": null,
            "border": null,
            "align_items": null,
            "bottom": null,
            "_model_module": "@jupyter-widgets/base",
            "top": null,
            "grid_column": null,
            "overflow_y": null,
            "overflow_x": null,
            "grid_auto_flow": null,
            "grid_area": null,
            "grid_template_columns": null,
            "flex": null,
            "_model_name": "LayoutModel",
            "justify_items": null,
            "grid_row": null,
            "max_height": null,
            "align_content": null,
            "visibility": null,
            "align_self": null,
            "height": null,
            "min_height": null,
            "padding": null,
            "grid_auto_rows": null,
            "grid_gap": null,
            "max_width": null,
            "order": null,
            "_view_module_version": "1.2.0",
            "grid_template_areas": null,
            "object_position": null,
            "object_fit": null,
            "grid_auto_columns": null,
            "margin": null,
            "display": null,
            "left": null
          }
        },
        "73894ffd96fd4eb387a983c2d8744565": {
          "model_module": "@jupyter-widgets/controls",
          "model_name": "DescriptionStyleModel",
          "state": {
            "_view_name": "StyleView",
            "_model_name": "DescriptionStyleModel",
            "description_width": "",
            "_view_module": "@jupyter-widgets/base",
            "_model_module_version": "1.5.0",
            "_view_count": null,
            "_view_module_version": "1.2.0",
            "_model_module": "@jupyter-widgets/controls"
          }
        },
        "7efbfabf9ba44b2d8c9905114cc2f70c": {
          "model_module": "@jupyter-widgets/base",
          "model_name": "LayoutModel",
          "state": {
            "_view_name": "LayoutView",
            "grid_template_rows": null,
            "right": null,
            "justify_content": null,
            "_view_module": "@jupyter-widgets/base",
            "overflow": null,
            "_model_module_version": "1.2.0",
            "_view_count": null,
            "flex_flow": null,
            "width": null,
            "min_width": null,
            "border": null,
            "align_items": null,
            "bottom": null,
            "_model_module": "@jupyter-widgets/base",
            "top": null,
            "grid_column": null,
            "overflow_y": null,
            "overflow_x": null,
            "grid_auto_flow": null,
            "grid_area": null,
            "grid_template_columns": null,
            "flex": null,
            "_model_name": "LayoutModel",
            "justify_items": null,
            "grid_row": null,
            "max_height": null,
            "align_content": null,
            "visibility": null,
            "align_self": null,
            "height": null,
            "min_height": null,
            "padding": null,
            "grid_auto_rows": null,
            "grid_gap": null,
            "max_width": null,
            "order": null,
            "_view_module_version": "1.2.0",
            "grid_template_areas": null,
            "object_position": null,
            "object_fit": null,
            "grid_auto_columns": null,
            "margin": null,
            "display": null,
            "left": null
          }
        },
        "db58cbb663c5428f8052b1b5a50f6d93": {
          "model_module": "@jupyter-widgets/controls",
          "model_name": "HBoxModel",
          "state": {
            "_view_name": "HBoxView",
            "_dom_classes": [],
            "_model_name": "HBoxModel",
            "_view_module": "@jupyter-widgets/controls",
            "_model_module_version": "1.5.0",
            "_view_count": null,
            "_view_module_version": "1.5.0",
            "box_style": "",
            "layout": "IPY_MODEL_34aa4c398e9c430cbbd6884a6bffd215",
            "_model_module": "@jupyter-widgets/controls",
            "children": [
              "IPY_MODEL_b1f039e26d4542d0890c845cd10d819f",
              "IPY_MODEL_73cdc847928c49a99f404ed8689efaac"
            ]
          }
        },
        "34aa4c398e9c430cbbd6884a6bffd215": {
          "model_module": "@jupyter-widgets/base",
          "model_name": "LayoutModel",
          "state": {
            "_view_name": "LayoutView",
            "grid_template_rows": null,
            "right": null,
            "justify_content": null,
            "_view_module": "@jupyter-widgets/base",
            "overflow": null,
            "_model_module_version": "1.2.0",
            "_view_count": null,
            "flex_flow": null,
            "width": null,
            "min_width": null,
            "border": null,
            "align_items": null,
            "bottom": null,
            "_model_module": "@jupyter-widgets/base",
            "top": null,
            "grid_column": null,
            "overflow_y": null,
            "overflow_x": null,
            "grid_auto_flow": null,
            "grid_area": null,
            "grid_template_columns": null,
            "flex": null,
            "_model_name": "LayoutModel",
            "justify_items": null,
            "grid_row": null,
            "max_height": null,
            "align_content": null,
            "visibility": null,
            "align_self": null,
            "height": null,
            "min_height": null,
            "padding": null,
            "grid_auto_rows": null,
            "grid_gap": null,
            "max_width": null,
            "order": null,
            "_view_module_version": "1.2.0",
            "grid_template_areas": null,
            "object_position": null,
            "object_fit": null,
            "grid_auto_columns": null,
            "margin": null,
            "display": null,
            "left": null
          }
        },
        "b1f039e26d4542d0890c845cd10d819f": {
          "model_module": "@jupyter-widgets/controls",
          "model_name": "FloatProgressModel",
          "state": {
            "_view_name": "ProgressView",
            "style": "IPY_MODEL_835386a9f6f44d798d9bd5dce56e88ca",
            "_dom_classes": [],
            "description": "100%",
            "_model_name": "FloatProgressModel",
            "bar_style": "success",
            "max": 1,
            "_view_module": "@jupyter-widgets/controls",
            "_model_module_version": "1.5.0",
            "value": 1,
            "_view_count": null,
            "_view_module_version": "1.5.0",
            "orientation": "horizontal",
            "min": 0,
            "description_tooltip": null,
            "_model_module": "@jupyter-widgets/controls",
            "layout": "IPY_MODEL_e187a8b813854455a43cb9868962c4a0"
          }
        },
        "73cdc847928c49a99f404ed8689efaac": {
          "model_module": "@jupyter-widgets/controls",
          "model_name": "HTMLModel",
          "state": {
            "_view_name": "HTMLView",
            "style": "IPY_MODEL_f7b8b9d8b9634eaa9817d1f8df8d54fb",
            "_dom_classes": [],
            "description": "",
            "_model_name": "HTMLModel",
            "placeholder": "​",
            "_view_module": "@jupyter-widgets/controls",
            "_model_module_version": "1.5.0",
            "value": " 1/1 [00:47&lt;00:00, 47.05s/ba]",
            "_view_count": null,
            "_view_module_version": "1.5.0",
            "description_tooltip": null,
            "_model_module": "@jupyter-widgets/controls",
            "layout": "IPY_MODEL_1c297360dc834eb8b8d7dd7844f1208b"
          }
        },
        "835386a9f6f44d798d9bd5dce56e88ca": {
          "model_module": "@jupyter-widgets/controls",
          "model_name": "ProgressStyleModel",
          "state": {
            "_view_name": "StyleView",
            "_model_name": "ProgressStyleModel",
            "description_width": "initial",
            "_view_module": "@jupyter-widgets/base",
            "_model_module_version": "1.5.0",
            "_view_count": null,
            "_view_module_version": "1.2.0",
            "bar_color": null,
            "_model_module": "@jupyter-widgets/controls"
          }
        },
        "e187a8b813854455a43cb9868962c4a0": {
          "model_module": "@jupyter-widgets/base",
          "model_name": "LayoutModel",
          "state": {
            "_view_name": "LayoutView",
            "grid_template_rows": null,
            "right": null,
            "justify_content": null,
            "_view_module": "@jupyter-widgets/base",
            "overflow": null,
            "_model_module_version": "1.2.0",
            "_view_count": null,
            "flex_flow": null,
            "width": null,
            "min_width": null,
            "border": null,
            "align_items": null,
            "bottom": null,
            "_model_module": "@jupyter-widgets/base",
            "top": null,
            "grid_column": null,
            "overflow_y": null,
            "overflow_x": null,
            "grid_auto_flow": null,
            "grid_area": null,
            "grid_template_columns": null,
            "flex": null,
            "_model_name": "LayoutModel",
            "justify_items": null,
            "grid_row": null,
            "max_height": null,
            "align_content": null,
            "visibility": null,
            "align_self": null,
            "height": null,
            "min_height": null,
            "padding": null,
            "grid_auto_rows": null,
            "grid_gap": null,
            "max_width": null,
            "order": null,
            "_view_module_version": "1.2.0",
            "grid_template_areas": null,
            "object_position": null,
            "object_fit": null,
            "grid_auto_columns": null,
            "margin": null,
            "display": null,
            "left": null
          }
        },
        "f7b8b9d8b9634eaa9817d1f8df8d54fb": {
          "model_module": "@jupyter-widgets/controls",
          "model_name": "DescriptionStyleModel",
          "state": {
            "_view_name": "StyleView",
            "_model_name": "DescriptionStyleModel",
            "description_width": "",
            "_view_module": "@jupyter-widgets/base",
            "_model_module_version": "1.5.0",
            "_view_count": null,
            "_view_module_version": "1.2.0",
            "_model_module": "@jupyter-widgets/controls"
          }
        },
        "1c297360dc834eb8b8d7dd7844f1208b": {
          "model_module": "@jupyter-widgets/base",
          "model_name": "LayoutModel",
          "state": {
            "_view_name": "LayoutView",
            "grid_template_rows": null,
            "right": null,
            "justify_content": null,
            "_view_module": "@jupyter-widgets/base",
            "overflow": null,
            "_model_module_version": "1.2.0",
            "_view_count": null,
            "flex_flow": null,
            "width": null,
            "min_width": null,
            "border": null,
            "align_items": null,
            "bottom": null,
            "_model_module": "@jupyter-widgets/base",
            "top": null,
            "grid_column": null,
            "overflow_y": null,
            "overflow_x": null,
            "grid_auto_flow": null,
            "grid_area": null,
            "grid_template_columns": null,
            "flex": null,
            "_model_name": "LayoutModel",
            "justify_items": null,
            "grid_row": null,
            "max_height": null,
            "align_content": null,
            "visibility": null,
            "align_self": null,
            "height": null,
            "min_height": null,
            "padding": null,
            "grid_auto_rows": null,
            "grid_gap": null,
            "max_width": null,
            "order": null,
            "_view_module_version": "1.2.0",
            "grid_template_areas": null,
            "object_position": null,
            "object_fit": null,
            "grid_auto_columns": null,
            "margin": null,
            "display": null,
            "left": null
          }
        },
        "d7b502b349ef4ae7979c392614d7921a": {
          "model_module": "@jupyter-widgets/controls",
          "model_name": "HBoxModel",
          "state": {
            "_view_name": "HBoxView",
            "_dom_classes": [],
            "_model_name": "HBoxModel",
            "_view_module": "@jupyter-widgets/controls",
            "_model_module_version": "1.5.0",
            "_view_count": null,
            "_view_module_version": "1.5.0",
            "box_style": "",
            "layout": "IPY_MODEL_99be4740a04b440895462f8c609b8ca2",
            "_model_module": "@jupyter-widgets/controls",
            "children": [
              "IPY_MODEL_38d1e3d38c69470f9aebf1462c1e77b5",
              "IPY_MODEL_b496b36c85db48b89581550b7bb61c72"
            ]
          }
        },
        "99be4740a04b440895462f8c609b8ca2": {
          "model_module": "@jupyter-widgets/base",
          "model_name": "LayoutModel",
          "state": {
            "_view_name": "LayoutView",
            "grid_template_rows": null,
            "right": null,
            "justify_content": null,
            "_view_module": "@jupyter-widgets/base",
            "overflow": null,
            "_model_module_version": "1.2.0",
            "_view_count": null,
            "flex_flow": null,
            "width": null,
            "min_width": null,
            "border": null,
            "align_items": null,
            "bottom": null,
            "_model_module": "@jupyter-widgets/base",
            "top": null,
            "grid_column": null,
            "overflow_y": null,
            "overflow_x": null,
            "grid_auto_flow": null,
            "grid_area": null,
            "grid_template_columns": null,
            "flex": null,
            "_model_name": "LayoutModel",
            "justify_items": null,
            "grid_row": null,
            "max_height": null,
            "align_content": null,
            "visibility": null,
            "align_self": null,
            "height": null,
            "min_height": null,
            "padding": null,
            "grid_auto_rows": null,
            "grid_gap": null,
            "max_width": null,
            "order": null,
            "_view_module_version": "1.2.0",
            "grid_template_areas": null,
            "object_position": null,
            "object_fit": null,
            "grid_auto_columns": null,
            "margin": null,
            "display": null,
            "left": null
          }
        },
        "38d1e3d38c69470f9aebf1462c1e77b5": {
          "model_module": "@jupyter-widgets/controls",
          "model_name": "FloatProgressModel",
          "state": {
            "_view_name": "ProgressView",
            "style": "IPY_MODEL_b4cefe57ba3048ffbb3f5e14e0893ce7",
            "_dom_classes": [],
            "description": "#0: 100%",
            "_model_name": "FloatProgressModel",
            "bar_style": "success",
            "max": 145,
            "_view_module": "@jupyter-widgets/controls",
            "_model_module_version": "1.5.0",
            "value": 145,
            "_view_count": null,
            "_view_module_version": "1.5.0",
            "orientation": "horizontal",
            "min": 0,
            "description_tooltip": null,
            "_model_module": "@jupyter-widgets/controls",
            "layout": "IPY_MODEL_1cdd25b721b54b618d651a90c6558c4d"
          }
        },
        "b496b36c85db48b89581550b7bb61c72": {
          "model_module": "@jupyter-widgets/controls",
          "model_name": "HTMLModel",
          "state": {
            "_view_name": "HTMLView",
            "style": "IPY_MODEL_26b3e153106a40a8bee51a43cc48ed40",
            "_dom_classes": [],
            "description": "",
            "_model_name": "HTMLModel",
            "placeholder": "​",
            "_view_module": "@jupyter-widgets/controls",
            "_model_module_version": "1.5.0",
            "value": " 145/145 [00:58&lt;00:00,  2.49ba/s]",
            "_view_count": null,
            "_view_module_version": "1.5.0",
            "description_tooltip": null,
            "_model_module": "@jupyter-widgets/controls",
            "layout": "IPY_MODEL_7f60e35fcec14a6a875fe60499d64866"
          }
        },
        "b4cefe57ba3048ffbb3f5e14e0893ce7": {
          "model_module": "@jupyter-widgets/controls",
          "model_name": "ProgressStyleModel",
          "state": {
            "_view_name": "StyleView",
            "_model_name": "ProgressStyleModel",
            "description_width": "initial",
            "_view_module": "@jupyter-widgets/base",
            "_model_module_version": "1.5.0",
            "_view_count": null,
            "_view_module_version": "1.2.0",
            "bar_color": null,
            "_model_module": "@jupyter-widgets/controls"
          }
        },
        "1cdd25b721b54b618d651a90c6558c4d": {
          "model_module": "@jupyter-widgets/base",
          "model_name": "LayoutModel",
          "state": {
            "_view_name": "LayoutView",
            "grid_template_rows": null,
            "right": null,
            "justify_content": null,
            "_view_module": "@jupyter-widgets/base",
            "overflow": null,
            "_model_module_version": "1.2.0",
            "_view_count": null,
            "flex_flow": null,
            "width": null,
            "min_width": null,
            "border": null,
            "align_items": null,
            "bottom": null,
            "_model_module": "@jupyter-widgets/base",
            "top": null,
            "grid_column": null,
            "overflow_y": null,
            "overflow_x": null,
            "grid_auto_flow": null,
            "grid_area": null,
            "grid_template_columns": null,
            "flex": null,
            "_model_name": "LayoutModel",
            "justify_items": null,
            "grid_row": null,
            "max_height": null,
            "align_content": null,
            "visibility": null,
            "align_self": null,
            "height": null,
            "min_height": null,
            "padding": null,
            "grid_auto_rows": null,
            "grid_gap": null,
            "max_width": null,
            "order": null,
            "_view_module_version": "1.2.0",
            "grid_template_areas": null,
            "object_position": null,
            "object_fit": null,
            "grid_auto_columns": null,
            "margin": null,
            "display": null,
            "left": null
          }
        },
        "26b3e153106a40a8bee51a43cc48ed40": {
          "model_module": "@jupyter-widgets/controls",
          "model_name": "DescriptionStyleModel",
          "state": {
            "_view_name": "StyleView",
            "_model_name": "DescriptionStyleModel",
            "description_width": "",
            "_view_module": "@jupyter-widgets/base",
            "_model_module_version": "1.5.0",
            "_view_count": null,
            "_view_module_version": "1.2.0",
            "_model_module": "@jupyter-widgets/controls"
          }
        },
        "7f60e35fcec14a6a875fe60499d64866": {
          "model_module": "@jupyter-widgets/base",
          "model_name": "LayoutModel",
          "state": {
            "_view_name": "LayoutView",
            "grid_template_rows": null,
            "right": null,
            "justify_content": null,
            "_view_module": "@jupyter-widgets/base",
            "overflow": null,
            "_model_module_version": "1.2.0",
            "_view_count": null,
            "flex_flow": null,
            "width": null,
            "min_width": null,
            "border": null,
            "align_items": null,
            "bottom": null,
            "_model_module": "@jupyter-widgets/base",
            "top": null,
            "grid_column": null,
            "overflow_y": null,
            "overflow_x": null,
            "grid_auto_flow": null,
            "grid_area": null,
            "grid_template_columns": null,
            "flex": null,
            "_model_name": "LayoutModel",
            "justify_items": null,
            "grid_row": null,
            "max_height": null,
            "align_content": null,
            "visibility": null,
            "align_self": null,
            "height": null,
            "min_height": null,
            "padding": null,
            "grid_auto_rows": null,
            "grid_gap": null,
            "max_width": null,
            "order": null,
            "_view_module_version": "1.2.0",
            "grid_template_areas": null,
            "object_position": null,
            "object_fit": null,
            "grid_auto_columns": null,
            "margin": null,
            "display": null,
            "left": null
          }
        },
        "45d3c6a41ebe44bd882bfdf483053971": {
          "model_module": "@jupyter-widgets/controls",
          "model_name": "HBoxModel",
          "state": {
            "_view_name": "HBoxView",
            "_dom_classes": [],
            "_model_name": "HBoxModel",
            "_view_module": "@jupyter-widgets/controls",
            "_model_module_version": "1.5.0",
            "_view_count": null,
            "_view_module_version": "1.5.0",
            "box_style": "",
            "layout": "IPY_MODEL_907a25248d694d4ea323339e9329463b",
            "_model_module": "@jupyter-widgets/controls",
            "children": [
              "IPY_MODEL_5a25bc22d13248659c80943ece36502a",
              "IPY_MODEL_4a1581d2df774145ac29b38a7c9bb566"
            ]
          }
        },
        "907a25248d694d4ea323339e9329463b": {
          "model_module": "@jupyter-widgets/base",
          "model_name": "LayoutModel",
          "state": {
            "_view_name": "LayoutView",
            "grid_template_rows": null,
            "right": null,
            "justify_content": null,
            "_view_module": "@jupyter-widgets/base",
            "overflow": null,
            "_model_module_version": "1.2.0",
            "_view_count": null,
            "flex_flow": null,
            "width": null,
            "min_width": null,
            "border": null,
            "align_items": null,
            "bottom": null,
            "_model_module": "@jupyter-widgets/base",
            "top": null,
            "grid_column": null,
            "overflow_y": null,
            "overflow_x": null,
            "grid_auto_flow": null,
            "grid_area": null,
            "grid_template_columns": null,
            "flex": null,
            "_model_name": "LayoutModel",
            "justify_items": null,
            "grid_row": null,
            "max_height": null,
            "align_content": null,
            "visibility": null,
            "align_self": null,
            "height": null,
            "min_height": null,
            "padding": null,
            "grid_auto_rows": null,
            "grid_gap": null,
            "max_width": null,
            "order": null,
            "_view_module_version": "1.2.0",
            "grid_template_areas": null,
            "object_position": null,
            "object_fit": null,
            "grid_auto_columns": null,
            "margin": null,
            "display": null,
            "left": null
          }
        },
        "5a25bc22d13248659c80943ece36502a": {
          "model_module": "@jupyter-widgets/controls",
          "model_name": "FloatProgressModel",
          "state": {
            "_view_name": "ProgressView",
            "style": "IPY_MODEL_4c072429588544c5af48a344f9848937",
            "_dom_classes": [],
            "description": "#1: 100%",
            "_model_name": "FloatProgressModel",
            "bar_style": "success",
            "max": 145,
            "_view_module": "@jupyter-widgets/controls",
            "_model_module_version": "1.5.0",
            "value": 145,
            "_view_count": null,
            "_view_module_version": "1.5.0",
            "orientation": "horizontal",
            "min": 0,
            "description_tooltip": null,
            "_model_module": "@jupyter-widgets/controls",
            "layout": "IPY_MODEL_8bdc91a879424cae99998259a191e195"
          }
        },
        "4a1581d2df774145ac29b38a7c9bb566": {
          "model_module": "@jupyter-widgets/controls",
          "model_name": "HTMLModel",
          "state": {
            "_view_name": "HTMLView",
            "style": "IPY_MODEL_0cd617b4eb2541c09ea02741a6449fd6",
            "_dom_classes": [],
            "description": "",
            "_model_name": "HTMLModel",
            "placeholder": "​",
            "_view_module": "@jupyter-widgets/controls",
            "_model_module_version": "1.5.0",
            "value": " 145/145 [00:57&lt;00:00,  2.51ba/s]",
            "_view_count": null,
            "_view_module_version": "1.5.0",
            "description_tooltip": null,
            "_model_module": "@jupyter-widgets/controls",
            "layout": "IPY_MODEL_1eda265ac01447c3bd50b54548478b03"
          }
        },
        "4c072429588544c5af48a344f9848937": {
          "model_module": "@jupyter-widgets/controls",
          "model_name": "ProgressStyleModel",
          "state": {
            "_view_name": "StyleView",
            "_model_name": "ProgressStyleModel",
            "description_width": "initial",
            "_view_module": "@jupyter-widgets/base",
            "_model_module_version": "1.5.0",
            "_view_count": null,
            "_view_module_version": "1.2.0",
            "bar_color": null,
            "_model_module": "@jupyter-widgets/controls"
          }
        },
        "8bdc91a879424cae99998259a191e195": {
          "model_module": "@jupyter-widgets/base",
          "model_name": "LayoutModel",
          "state": {
            "_view_name": "LayoutView",
            "grid_template_rows": null,
            "right": null,
            "justify_content": null,
            "_view_module": "@jupyter-widgets/base",
            "overflow": null,
            "_model_module_version": "1.2.0",
            "_view_count": null,
            "flex_flow": null,
            "width": null,
            "min_width": null,
            "border": null,
            "align_items": null,
            "bottom": null,
            "_model_module": "@jupyter-widgets/base",
            "top": null,
            "grid_column": null,
            "overflow_y": null,
            "overflow_x": null,
            "grid_auto_flow": null,
            "grid_area": null,
            "grid_template_columns": null,
            "flex": null,
            "_model_name": "LayoutModel",
            "justify_items": null,
            "grid_row": null,
            "max_height": null,
            "align_content": null,
            "visibility": null,
            "align_self": null,
            "height": null,
            "min_height": null,
            "padding": null,
            "grid_auto_rows": null,
            "grid_gap": null,
            "max_width": null,
            "order": null,
            "_view_module_version": "1.2.0",
            "grid_template_areas": null,
            "object_position": null,
            "object_fit": null,
            "grid_auto_columns": null,
            "margin": null,
            "display": null,
            "left": null
          }
        },
        "0cd617b4eb2541c09ea02741a6449fd6": {
          "model_module": "@jupyter-widgets/controls",
          "model_name": "DescriptionStyleModel",
          "state": {
            "_view_name": "StyleView",
            "_model_name": "DescriptionStyleModel",
            "description_width": "",
            "_view_module": "@jupyter-widgets/base",
            "_model_module_version": "1.5.0",
            "_view_count": null,
            "_view_module_version": "1.2.0",
            "_model_module": "@jupyter-widgets/controls"
          }
        },
        "1eda265ac01447c3bd50b54548478b03": {
          "model_module": "@jupyter-widgets/base",
          "model_name": "LayoutModel",
          "state": {
            "_view_name": "LayoutView",
            "grid_template_rows": null,
            "right": null,
            "justify_content": null,
            "_view_module": "@jupyter-widgets/base",
            "overflow": null,
            "_model_module_version": "1.2.0",
            "_view_count": null,
            "flex_flow": null,
            "width": null,
            "min_width": null,
            "border": null,
            "align_items": null,
            "bottom": null,
            "_model_module": "@jupyter-widgets/base",
            "top": null,
            "grid_column": null,
            "overflow_y": null,
            "overflow_x": null,
            "grid_auto_flow": null,
            "grid_area": null,
            "grid_template_columns": null,
            "flex": null,
            "_model_name": "LayoutModel",
            "justify_items": null,
            "grid_row": null,
            "max_height": null,
            "align_content": null,
            "visibility": null,
            "align_self": null,
            "height": null,
            "min_height": null,
            "padding": null,
            "grid_auto_rows": null,
            "grid_gap": null,
            "max_width": null,
            "order": null,
            "_view_module_version": "1.2.0",
            "grid_template_areas": null,
            "object_position": null,
            "object_fit": null,
            "grid_auto_columns": null,
            "margin": null,
            "display": null,
            "left": null
          }
        },
        "26ce1a9132a9438b8a44c52302d85b61": {
          "model_module": "@jupyter-widgets/controls",
          "model_name": "HBoxModel",
          "state": {
            "_view_name": "HBoxView",
            "_dom_classes": [],
            "_model_name": "HBoxModel",
            "_view_module": "@jupyter-widgets/controls",
            "_model_module_version": "1.5.0",
            "_view_count": null,
            "_view_module_version": "1.5.0",
            "box_style": "",
            "layout": "IPY_MODEL_5fdeaefc67a246fb9717778d53285973",
            "_model_module": "@jupyter-widgets/controls",
            "children": [
              "IPY_MODEL_8018b6fa50724d20adac39fb12fa148b",
              "IPY_MODEL_07cf20166d434d95970d1345305cbace"
            ]
          }
        },
        "5fdeaefc67a246fb9717778d53285973": {
          "model_module": "@jupyter-widgets/base",
          "model_name": "LayoutModel",
          "state": {
            "_view_name": "LayoutView",
            "grid_template_rows": null,
            "right": null,
            "justify_content": null,
            "_view_module": "@jupyter-widgets/base",
            "overflow": null,
            "_model_module_version": "1.2.0",
            "_view_count": null,
            "flex_flow": null,
            "width": null,
            "min_width": null,
            "border": null,
            "align_items": null,
            "bottom": null,
            "_model_module": "@jupyter-widgets/base",
            "top": null,
            "grid_column": null,
            "overflow_y": null,
            "overflow_x": null,
            "grid_auto_flow": null,
            "grid_area": null,
            "grid_template_columns": null,
            "flex": null,
            "_model_name": "LayoutModel",
            "justify_items": null,
            "grid_row": null,
            "max_height": null,
            "align_content": null,
            "visibility": null,
            "align_self": null,
            "height": null,
            "min_height": null,
            "padding": null,
            "grid_auto_rows": null,
            "grid_gap": null,
            "max_width": null,
            "order": null,
            "_view_module_version": "1.2.0",
            "grid_template_areas": null,
            "object_position": null,
            "object_fit": null,
            "grid_auto_columns": null,
            "margin": null,
            "display": null,
            "left": null
          }
        },
        "8018b6fa50724d20adac39fb12fa148b": {
          "model_module": "@jupyter-widgets/controls",
          "model_name": "FloatProgressModel",
          "state": {
            "_view_name": "ProgressView",
            "style": "IPY_MODEL_95620f3f3f204ac4839a6806e168fce3",
            "_dom_classes": [],
            "description": "#2: 100%",
            "_model_name": "FloatProgressModel",
            "bar_style": "success",
            "max": 145,
            "_view_module": "@jupyter-widgets/controls",
            "_model_module_version": "1.5.0",
            "value": 145,
            "_view_count": null,
            "_view_module_version": "1.5.0",
            "orientation": "horizontal",
            "min": 0,
            "description_tooltip": null,
            "_model_module": "@jupyter-widgets/controls",
            "layout": "IPY_MODEL_b87b31608ad94614ad9fedfcb685bc6e"
          }
        },
        "07cf20166d434d95970d1345305cbace": {
          "model_module": "@jupyter-widgets/controls",
          "model_name": "HTMLModel",
          "state": {
            "_view_name": "HTMLView",
            "style": "IPY_MODEL_30356a479da340ad9a17ed8f53c19ee6",
            "_dom_classes": [],
            "description": "",
            "_model_name": "HTMLModel",
            "placeholder": "​",
            "_view_module": "@jupyter-widgets/controls",
            "_model_module_version": "1.5.0",
            "value": " 145/145 [00:58&lt;00:00,  2.49ba/s]",
            "_view_count": null,
            "_view_module_version": "1.5.0",
            "description_tooltip": null,
            "_model_module": "@jupyter-widgets/controls",
            "layout": "IPY_MODEL_da098f72ac914e3c843101461c80958f"
          }
        },
        "95620f3f3f204ac4839a6806e168fce3": {
          "model_module": "@jupyter-widgets/controls",
          "model_name": "ProgressStyleModel",
          "state": {
            "_view_name": "StyleView",
            "_model_name": "ProgressStyleModel",
            "description_width": "initial",
            "_view_module": "@jupyter-widgets/base",
            "_model_module_version": "1.5.0",
            "_view_count": null,
            "_view_module_version": "1.2.0",
            "bar_color": null,
            "_model_module": "@jupyter-widgets/controls"
          }
        },
        "b87b31608ad94614ad9fedfcb685bc6e": {
          "model_module": "@jupyter-widgets/base",
          "model_name": "LayoutModel",
          "state": {
            "_view_name": "LayoutView",
            "grid_template_rows": null,
            "right": null,
            "justify_content": null,
            "_view_module": "@jupyter-widgets/base",
            "overflow": null,
            "_model_module_version": "1.2.0",
            "_view_count": null,
            "flex_flow": null,
            "width": null,
            "min_width": null,
            "border": null,
            "align_items": null,
            "bottom": null,
            "_model_module": "@jupyter-widgets/base",
            "top": null,
            "grid_column": null,
            "overflow_y": null,
            "overflow_x": null,
            "grid_auto_flow": null,
            "grid_area": null,
            "grid_template_columns": null,
            "flex": null,
            "_model_name": "LayoutModel",
            "justify_items": null,
            "grid_row": null,
            "max_height": null,
            "align_content": null,
            "visibility": null,
            "align_self": null,
            "height": null,
            "min_height": null,
            "padding": null,
            "grid_auto_rows": null,
            "grid_gap": null,
            "max_width": null,
            "order": null,
            "_view_module_version": "1.2.0",
            "grid_template_areas": null,
            "object_position": null,
            "object_fit": null,
            "grid_auto_columns": null,
            "margin": null,
            "display": null,
            "left": null
          }
        },
        "30356a479da340ad9a17ed8f53c19ee6": {
          "model_module": "@jupyter-widgets/controls",
          "model_name": "DescriptionStyleModel",
          "state": {
            "_view_name": "StyleView",
            "_model_name": "DescriptionStyleModel",
            "description_width": "",
            "_view_module": "@jupyter-widgets/base",
            "_model_module_version": "1.5.0",
            "_view_count": null,
            "_view_module_version": "1.2.0",
            "_model_module": "@jupyter-widgets/controls"
          }
        },
        "da098f72ac914e3c843101461c80958f": {
          "model_module": "@jupyter-widgets/base",
          "model_name": "LayoutModel",
          "state": {
            "_view_name": "LayoutView",
            "grid_template_rows": null,
            "right": null,
            "justify_content": null,
            "_view_module": "@jupyter-widgets/base",
            "overflow": null,
            "_model_module_version": "1.2.0",
            "_view_count": null,
            "flex_flow": null,
            "width": null,
            "min_width": null,
            "border": null,
            "align_items": null,
            "bottom": null,
            "_model_module": "@jupyter-widgets/base",
            "top": null,
            "grid_column": null,
            "overflow_y": null,
            "overflow_x": null,
            "grid_auto_flow": null,
            "grid_area": null,
            "grid_template_columns": null,
            "flex": null,
            "_model_name": "LayoutModel",
            "justify_items": null,
            "grid_row": null,
            "max_height": null,
            "align_content": null,
            "visibility": null,
            "align_self": null,
            "height": null,
            "min_height": null,
            "padding": null,
            "grid_auto_rows": null,
            "grid_gap": null,
            "max_width": null,
            "order": null,
            "_view_module_version": "1.2.0",
            "grid_template_areas": null,
            "object_position": null,
            "object_fit": null,
            "grid_auto_columns": null,
            "margin": null,
            "display": null,
            "left": null
          }
        },
        "9e73f99f1d1b4ecdbfe0f0dc5844955a": {
          "model_module": "@jupyter-widgets/controls",
          "model_name": "HBoxModel",
          "state": {
            "_view_name": "HBoxView",
            "_dom_classes": [],
            "_model_name": "HBoxModel",
            "_view_module": "@jupyter-widgets/controls",
            "_model_module_version": "1.5.0",
            "_view_count": null,
            "_view_module_version": "1.5.0",
            "box_style": "",
            "layout": "IPY_MODEL_306eb8a6a382423fb144b20f2aa34984",
            "_model_module": "@jupyter-widgets/controls",
            "children": [
              "IPY_MODEL_fe32247271f74190b10eef2bfcf2e507",
              "IPY_MODEL_e228a9304970445196c9df6fc27716d6"
            ]
          }
        },
        "306eb8a6a382423fb144b20f2aa34984": {
          "model_module": "@jupyter-widgets/base",
          "model_name": "LayoutModel",
          "state": {
            "_view_name": "LayoutView",
            "grid_template_rows": null,
            "right": null,
            "justify_content": null,
            "_view_module": "@jupyter-widgets/base",
            "overflow": null,
            "_model_module_version": "1.2.0",
            "_view_count": null,
            "flex_flow": null,
            "width": null,
            "min_width": null,
            "border": null,
            "align_items": null,
            "bottom": null,
            "_model_module": "@jupyter-widgets/base",
            "top": null,
            "grid_column": null,
            "overflow_y": null,
            "overflow_x": null,
            "grid_auto_flow": null,
            "grid_area": null,
            "grid_template_columns": null,
            "flex": null,
            "_model_name": "LayoutModel",
            "justify_items": null,
            "grid_row": null,
            "max_height": null,
            "align_content": null,
            "visibility": null,
            "align_self": null,
            "height": null,
            "min_height": null,
            "padding": null,
            "grid_auto_rows": null,
            "grid_gap": null,
            "max_width": null,
            "order": null,
            "_view_module_version": "1.2.0",
            "grid_template_areas": null,
            "object_position": null,
            "object_fit": null,
            "grid_auto_columns": null,
            "margin": null,
            "display": null,
            "left": null
          }
        },
        "fe32247271f74190b10eef2bfcf2e507": {
          "model_module": "@jupyter-widgets/controls",
          "model_name": "FloatProgressModel",
          "state": {
            "_view_name": "ProgressView",
            "style": "IPY_MODEL_e8ea82049c2443fdbb0bcf23d3764df9",
            "_dom_classes": [],
            "description": "#3: 100%",
            "_model_name": "FloatProgressModel",
            "bar_style": "success",
            "max": 145,
            "_view_module": "@jupyter-widgets/controls",
            "_model_module_version": "1.5.0",
            "value": 145,
            "_view_count": null,
            "_view_module_version": "1.5.0",
            "orientation": "horizontal",
            "min": 0,
            "description_tooltip": null,
            "_model_module": "@jupyter-widgets/controls",
            "layout": "IPY_MODEL_210165189f7d4a128aeb461290266fa0"
          }
        },
        "e228a9304970445196c9df6fc27716d6": {
          "model_module": "@jupyter-widgets/controls",
          "model_name": "HTMLModel",
          "state": {
            "_view_name": "HTMLView",
            "style": "IPY_MODEL_029cacd0917745e4805c430f90ca6fb8",
            "_dom_classes": [],
            "description": "",
            "_model_name": "HTMLModel",
            "placeholder": "​",
            "_view_module": "@jupyter-widgets/controls",
            "_model_module_version": "1.5.0",
            "value": " 145/145 [00:57&lt;00:00,  2.52ba/s]",
            "_view_count": null,
            "_view_module_version": "1.5.0",
            "description_tooltip": null,
            "_model_module": "@jupyter-widgets/controls",
            "layout": "IPY_MODEL_40c650a488a145a5b6f11c37f993ec6e"
          }
        },
        "e8ea82049c2443fdbb0bcf23d3764df9": {
          "model_module": "@jupyter-widgets/controls",
          "model_name": "ProgressStyleModel",
          "state": {
            "_view_name": "StyleView",
            "_model_name": "ProgressStyleModel",
            "description_width": "initial",
            "_view_module": "@jupyter-widgets/base",
            "_model_module_version": "1.5.0",
            "_view_count": null,
            "_view_module_version": "1.2.0",
            "bar_color": null,
            "_model_module": "@jupyter-widgets/controls"
          }
        },
        "210165189f7d4a128aeb461290266fa0": {
          "model_module": "@jupyter-widgets/base",
          "model_name": "LayoutModel",
          "state": {
            "_view_name": "LayoutView",
            "grid_template_rows": null,
            "right": null,
            "justify_content": null,
            "_view_module": "@jupyter-widgets/base",
            "overflow": null,
            "_model_module_version": "1.2.0",
            "_view_count": null,
            "flex_flow": null,
            "width": null,
            "min_width": null,
            "border": null,
            "align_items": null,
            "bottom": null,
            "_model_module": "@jupyter-widgets/base",
            "top": null,
            "grid_column": null,
            "overflow_y": null,
            "overflow_x": null,
            "grid_auto_flow": null,
            "grid_area": null,
            "grid_template_columns": null,
            "flex": null,
            "_model_name": "LayoutModel",
            "justify_items": null,
            "grid_row": null,
            "max_height": null,
            "align_content": null,
            "visibility": null,
            "align_self": null,
            "height": null,
            "min_height": null,
            "padding": null,
            "grid_auto_rows": null,
            "grid_gap": null,
            "max_width": null,
            "order": null,
            "_view_module_version": "1.2.0",
            "grid_template_areas": null,
            "object_position": null,
            "object_fit": null,
            "grid_auto_columns": null,
            "margin": null,
            "display": null,
            "left": null
          }
        },
        "029cacd0917745e4805c430f90ca6fb8": {
          "model_module": "@jupyter-widgets/controls",
          "model_name": "DescriptionStyleModel",
          "state": {
            "_view_name": "StyleView",
            "_model_name": "DescriptionStyleModel",
            "description_width": "",
            "_view_module": "@jupyter-widgets/base",
            "_model_module_version": "1.5.0",
            "_view_count": null,
            "_view_module_version": "1.2.0",
            "_model_module": "@jupyter-widgets/controls"
          }
        },
        "40c650a488a145a5b6f11c37f993ec6e": {
          "model_module": "@jupyter-widgets/base",
          "model_name": "LayoutModel",
          "state": {
            "_view_name": "LayoutView",
            "grid_template_rows": null,
            "right": null,
            "justify_content": null,
            "_view_module": "@jupyter-widgets/base",
            "overflow": null,
            "_model_module_version": "1.2.0",
            "_view_count": null,
            "flex_flow": null,
            "width": null,
            "min_width": null,
            "border": null,
            "align_items": null,
            "bottom": null,
            "_model_module": "@jupyter-widgets/base",
            "top": null,
            "grid_column": null,
            "overflow_y": null,
            "overflow_x": null,
            "grid_auto_flow": null,
            "grid_area": null,
            "grid_template_columns": null,
            "flex": null,
            "_model_name": "LayoutModel",
            "justify_items": null,
            "grid_row": null,
            "max_height": null,
            "align_content": null,
            "visibility": null,
            "align_self": null,
            "height": null,
            "min_height": null,
            "padding": null,
            "grid_auto_rows": null,
            "grid_gap": null,
            "max_width": null,
            "order": null,
            "_view_module_version": "1.2.0",
            "grid_template_areas": null,
            "object_position": null,
            "object_fit": null,
            "grid_auto_columns": null,
            "margin": null,
            "display": null,
            "left": null
          }
        },
        "6b9edb92d58b43569ccc25249bd0c5fc": {
          "model_module": "@jupyter-widgets/controls",
          "model_name": "HBoxModel",
          "state": {
            "_view_name": "HBoxView",
            "_dom_classes": [],
            "_model_name": "HBoxModel",
            "_view_module": "@jupyter-widgets/controls",
            "_model_module_version": "1.5.0",
            "_view_count": null,
            "_view_module_version": "1.5.0",
            "box_style": "",
            "layout": "IPY_MODEL_47f69f01f0d34ee1a237d00d45b3f398",
            "_model_module": "@jupyter-widgets/controls",
            "children": [
              "IPY_MODEL_4f8874fc37bd44f3ad2072216af11821",
              "IPY_MODEL_98bf606e152845f7af422dfb79e875c3"
            ]
          }
        },
        "47f69f01f0d34ee1a237d00d45b3f398": {
          "model_module": "@jupyter-widgets/base",
          "model_name": "LayoutModel",
          "state": {
            "_view_name": "LayoutView",
            "grid_template_rows": null,
            "right": null,
            "justify_content": null,
            "_view_module": "@jupyter-widgets/base",
            "overflow": null,
            "_model_module_version": "1.2.0",
            "_view_count": null,
            "flex_flow": null,
            "width": null,
            "min_width": null,
            "border": null,
            "align_items": null,
            "bottom": null,
            "_model_module": "@jupyter-widgets/base",
            "top": null,
            "grid_column": null,
            "overflow_y": null,
            "overflow_x": null,
            "grid_auto_flow": null,
            "grid_area": null,
            "grid_template_columns": null,
            "flex": null,
            "_model_name": "LayoutModel",
            "justify_items": null,
            "grid_row": null,
            "max_height": null,
            "align_content": null,
            "visibility": null,
            "align_self": null,
            "height": null,
            "min_height": null,
            "padding": null,
            "grid_auto_rows": null,
            "grid_gap": null,
            "max_width": null,
            "order": null,
            "_view_module_version": "1.2.0",
            "grid_template_areas": null,
            "object_position": null,
            "object_fit": null,
            "grid_auto_columns": null,
            "margin": null,
            "display": null,
            "left": null
          }
        },
        "4f8874fc37bd44f3ad2072216af11821": {
          "model_module": "@jupyter-widgets/controls",
          "model_name": "FloatProgressModel",
          "state": {
            "_view_name": "ProgressView",
            "style": "IPY_MODEL_354c4391de0d409f94b11a1cff331484",
            "_dom_classes": [],
            "description": "#0: 100%",
            "_model_name": "FloatProgressModel",
            "bar_style": "success",
            "max": 53,
            "_view_module": "@jupyter-widgets/controls",
            "_model_module_version": "1.5.0",
            "value": 53,
            "_view_count": null,
            "_view_module_version": "1.5.0",
            "orientation": "horizontal",
            "min": 0,
            "description_tooltip": null,
            "_model_module": "@jupyter-widgets/controls",
            "layout": "IPY_MODEL_4e521bce60634da6a4c64f9b6d34b4a9"
          }
        },
        "98bf606e152845f7af422dfb79e875c3": {
          "model_module": "@jupyter-widgets/controls",
          "model_name": "HTMLModel",
          "state": {
            "_view_name": "HTMLView",
            "style": "IPY_MODEL_42674dc5fcd0452b8128bf1401458f90",
            "_dom_classes": [],
            "description": "",
            "_model_name": "HTMLModel",
            "placeholder": "​",
            "_view_module": "@jupyter-widgets/controls",
            "_model_module_version": "1.5.0",
            "value": " 53/53 [00:21&lt;00:00,  2.45ba/s]",
            "_view_count": null,
            "_view_module_version": "1.5.0",
            "description_tooltip": null,
            "_model_module": "@jupyter-widgets/controls",
            "layout": "IPY_MODEL_8c74ee03e07f497088d72b3f55b521c3"
          }
        },
        "354c4391de0d409f94b11a1cff331484": {
          "model_module": "@jupyter-widgets/controls",
          "model_name": "ProgressStyleModel",
          "state": {
            "_view_name": "StyleView",
            "_model_name": "ProgressStyleModel",
            "description_width": "initial",
            "_view_module": "@jupyter-widgets/base",
            "_model_module_version": "1.5.0",
            "_view_count": null,
            "_view_module_version": "1.2.0",
            "bar_color": null,
            "_model_module": "@jupyter-widgets/controls"
          }
        },
        "4e521bce60634da6a4c64f9b6d34b4a9": {
          "model_module": "@jupyter-widgets/base",
          "model_name": "LayoutModel",
          "state": {
            "_view_name": "LayoutView",
            "grid_template_rows": null,
            "right": null,
            "justify_content": null,
            "_view_module": "@jupyter-widgets/base",
            "overflow": null,
            "_model_module_version": "1.2.0",
            "_view_count": null,
            "flex_flow": null,
            "width": null,
            "min_width": null,
            "border": null,
            "align_items": null,
            "bottom": null,
            "_model_module": "@jupyter-widgets/base",
            "top": null,
            "grid_column": null,
            "overflow_y": null,
            "overflow_x": null,
            "grid_auto_flow": null,
            "grid_area": null,
            "grid_template_columns": null,
            "flex": null,
            "_model_name": "LayoutModel",
            "justify_items": null,
            "grid_row": null,
            "max_height": null,
            "align_content": null,
            "visibility": null,
            "align_self": null,
            "height": null,
            "min_height": null,
            "padding": null,
            "grid_auto_rows": null,
            "grid_gap": null,
            "max_width": null,
            "order": null,
            "_view_module_version": "1.2.0",
            "grid_template_areas": null,
            "object_position": null,
            "object_fit": null,
            "grid_auto_columns": null,
            "margin": null,
            "display": null,
            "left": null
          }
        },
        "42674dc5fcd0452b8128bf1401458f90": {
          "model_module": "@jupyter-widgets/controls",
          "model_name": "DescriptionStyleModel",
          "state": {
            "_view_name": "StyleView",
            "_model_name": "DescriptionStyleModel",
            "description_width": "",
            "_view_module": "@jupyter-widgets/base",
            "_model_module_version": "1.5.0",
            "_view_count": null,
            "_view_module_version": "1.2.0",
            "_model_module": "@jupyter-widgets/controls"
          }
        },
        "8c74ee03e07f497088d72b3f55b521c3": {
          "model_module": "@jupyter-widgets/base",
          "model_name": "LayoutModel",
          "state": {
            "_view_name": "LayoutView",
            "grid_template_rows": null,
            "right": null,
            "justify_content": null,
            "_view_module": "@jupyter-widgets/base",
            "overflow": null,
            "_model_module_version": "1.2.0",
            "_view_count": null,
            "flex_flow": null,
            "width": null,
            "min_width": null,
            "border": null,
            "align_items": null,
            "bottom": null,
            "_model_module": "@jupyter-widgets/base",
            "top": null,
            "grid_column": null,
            "overflow_y": null,
            "overflow_x": null,
            "grid_auto_flow": null,
            "grid_area": null,
            "grid_template_columns": null,
            "flex": null,
            "_model_name": "LayoutModel",
            "justify_items": null,
            "grid_row": null,
            "max_height": null,
            "align_content": null,
            "visibility": null,
            "align_self": null,
            "height": null,
            "min_height": null,
            "padding": null,
            "grid_auto_rows": null,
            "grid_gap": null,
            "max_width": null,
            "order": null,
            "_view_module_version": "1.2.0",
            "grid_template_areas": null,
            "object_position": null,
            "object_fit": null,
            "grid_auto_columns": null,
            "margin": null,
            "display": null,
            "left": null
          }
        },
        "d9f69a77108e4a61a96dd4609fe4365c": {
          "model_module": "@jupyter-widgets/controls",
          "model_name": "HBoxModel",
          "state": {
            "_view_name": "HBoxView",
            "_dom_classes": [],
            "_model_name": "HBoxModel",
            "_view_module": "@jupyter-widgets/controls",
            "_model_module_version": "1.5.0",
            "_view_count": null,
            "_view_module_version": "1.5.0",
            "box_style": "",
            "layout": "IPY_MODEL_7f6de27e32554ba0943406b02b9a4b64",
            "_model_module": "@jupyter-widgets/controls",
            "children": [
              "IPY_MODEL_e6a7354b5e74480d92c3be073d05c6cf",
              "IPY_MODEL_fdeaaa2d47814caca542b6668ea219f1"
            ]
          }
        },
        "7f6de27e32554ba0943406b02b9a4b64": {
          "model_module": "@jupyter-widgets/base",
          "model_name": "LayoutModel",
          "state": {
            "_view_name": "LayoutView",
            "grid_template_rows": null,
            "right": null,
            "justify_content": null,
            "_view_module": "@jupyter-widgets/base",
            "overflow": null,
            "_model_module_version": "1.2.0",
            "_view_count": null,
            "flex_flow": null,
            "width": null,
            "min_width": null,
            "border": null,
            "align_items": null,
            "bottom": null,
            "_model_module": "@jupyter-widgets/base",
            "top": null,
            "grid_column": null,
            "overflow_y": null,
            "overflow_x": null,
            "grid_auto_flow": null,
            "grid_area": null,
            "grid_template_columns": null,
            "flex": null,
            "_model_name": "LayoutModel",
            "justify_items": null,
            "grid_row": null,
            "max_height": null,
            "align_content": null,
            "visibility": null,
            "align_self": null,
            "height": null,
            "min_height": null,
            "padding": null,
            "grid_auto_rows": null,
            "grid_gap": null,
            "max_width": null,
            "order": null,
            "_view_module_version": "1.2.0",
            "grid_template_areas": null,
            "object_position": null,
            "object_fit": null,
            "grid_auto_columns": null,
            "margin": null,
            "display": null,
            "left": null
          }
        },
        "e6a7354b5e74480d92c3be073d05c6cf": {
          "model_module": "@jupyter-widgets/controls",
          "model_name": "FloatProgressModel",
          "state": {
            "_view_name": "ProgressView",
            "style": "IPY_MODEL_f978fd9701024c08a2c7d6dfc1b00554",
            "_dom_classes": [],
            "description": "#2: 100%",
            "_model_name": "FloatProgressModel",
            "bar_style": "success",
            "max": 53,
            "_view_module": "@jupyter-widgets/controls",
            "_model_module_version": "1.5.0",
            "value": 53,
            "_view_count": null,
            "_view_module_version": "1.5.0",
            "orientation": "horizontal",
            "min": 0,
            "description_tooltip": null,
            "_model_module": "@jupyter-widgets/controls",
            "layout": "IPY_MODEL_e3b3911f8c54445b85fdb72141bebd9b"
          }
        },
        "fdeaaa2d47814caca542b6668ea219f1": {
          "model_module": "@jupyter-widgets/controls",
          "model_name": "HTMLModel",
          "state": {
            "_view_name": "HTMLView",
            "style": "IPY_MODEL_f4a32346155f4ef590b6d40288e68eb5",
            "_dom_classes": [],
            "description": "",
            "_model_name": "HTMLModel",
            "placeholder": "​",
            "_view_module": "@jupyter-widgets/controls",
            "_model_module_version": "1.5.0",
            "value": " 53/53 [00:21&lt;00:00,  2.50ba/s]",
            "_view_count": null,
            "_view_module_version": "1.5.0",
            "description_tooltip": null,
            "_model_module": "@jupyter-widgets/controls",
            "layout": "IPY_MODEL_ac0d30e3b3c9419d99b85ca6620d92b3"
          }
        },
        "f978fd9701024c08a2c7d6dfc1b00554": {
          "model_module": "@jupyter-widgets/controls",
          "model_name": "ProgressStyleModel",
          "state": {
            "_view_name": "StyleView",
            "_model_name": "ProgressStyleModel",
            "description_width": "initial",
            "_view_module": "@jupyter-widgets/base",
            "_model_module_version": "1.5.0",
            "_view_count": null,
            "_view_module_version": "1.2.0",
            "bar_color": null,
            "_model_module": "@jupyter-widgets/controls"
          }
        },
        "e3b3911f8c54445b85fdb72141bebd9b": {
          "model_module": "@jupyter-widgets/base",
          "model_name": "LayoutModel",
          "state": {
            "_view_name": "LayoutView",
            "grid_template_rows": null,
            "right": null,
            "justify_content": null,
            "_view_module": "@jupyter-widgets/base",
            "overflow": null,
            "_model_module_version": "1.2.0",
            "_view_count": null,
            "flex_flow": null,
            "width": null,
            "min_width": null,
            "border": null,
            "align_items": null,
            "bottom": null,
            "_model_module": "@jupyter-widgets/base",
            "top": null,
            "grid_column": null,
            "overflow_y": null,
            "overflow_x": null,
            "grid_auto_flow": null,
            "grid_area": null,
            "grid_template_columns": null,
            "flex": null,
            "_model_name": "LayoutModel",
            "justify_items": null,
            "grid_row": null,
            "max_height": null,
            "align_content": null,
            "visibility": null,
            "align_self": null,
            "height": null,
            "min_height": null,
            "padding": null,
            "grid_auto_rows": null,
            "grid_gap": null,
            "max_width": null,
            "order": null,
            "_view_module_version": "1.2.0",
            "grid_template_areas": null,
            "object_position": null,
            "object_fit": null,
            "grid_auto_columns": null,
            "margin": null,
            "display": null,
            "left": null
          }
        },
        "f4a32346155f4ef590b6d40288e68eb5": {
          "model_module": "@jupyter-widgets/controls",
          "model_name": "DescriptionStyleModel",
          "state": {
            "_view_name": "StyleView",
            "_model_name": "DescriptionStyleModel",
            "description_width": "",
            "_view_module": "@jupyter-widgets/base",
            "_model_module_version": "1.5.0",
            "_view_count": null,
            "_view_module_version": "1.2.0",
            "_model_module": "@jupyter-widgets/controls"
          }
        },
        "ac0d30e3b3c9419d99b85ca6620d92b3": {
          "model_module": "@jupyter-widgets/base",
          "model_name": "LayoutModel",
          "state": {
            "_view_name": "LayoutView",
            "grid_template_rows": null,
            "right": null,
            "justify_content": null,
            "_view_module": "@jupyter-widgets/base",
            "overflow": null,
            "_model_module_version": "1.2.0",
            "_view_count": null,
            "flex_flow": null,
            "width": null,
            "min_width": null,
            "border": null,
            "align_items": null,
            "bottom": null,
            "_model_module": "@jupyter-widgets/base",
            "top": null,
            "grid_column": null,
            "overflow_y": null,
            "overflow_x": null,
            "grid_auto_flow": null,
            "grid_area": null,
            "grid_template_columns": null,
            "flex": null,
            "_model_name": "LayoutModel",
            "justify_items": null,
            "grid_row": null,
            "max_height": null,
            "align_content": null,
            "visibility": null,
            "align_self": null,
            "height": null,
            "min_height": null,
            "padding": null,
            "grid_auto_rows": null,
            "grid_gap": null,
            "max_width": null,
            "order": null,
            "_view_module_version": "1.2.0",
            "grid_template_areas": null,
            "object_position": null,
            "object_fit": null,
            "grid_auto_columns": null,
            "margin": null,
            "display": null,
            "left": null
          }
        },
        "b19107d7bb59426d8b8349189672bdce": {
          "model_module": "@jupyter-widgets/controls",
          "model_name": "HBoxModel",
          "state": {
            "_view_name": "HBoxView",
            "_dom_classes": [],
            "_model_name": "HBoxModel",
            "_view_module": "@jupyter-widgets/controls",
            "_model_module_version": "1.5.0",
            "_view_count": null,
            "_view_module_version": "1.5.0",
            "box_style": "",
            "layout": "IPY_MODEL_847526c9c641469e8a7e8aa1d0e05d55",
            "_model_module": "@jupyter-widgets/controls",
            "children": [
              "IPY_MODEL_8ab1e36d6cda412aa9d61d562d37d4b3",
              "IPY_MODEL_e2d6e675b6d24f8496393ec96d150ac7"
            ]
          }
        },
        "847526c9c641469e8a7e8aa1d0e05d55": {
          "model_module": "@jupyter-widgets/base",
          "model_name": "LayoutModel",
          "state": {
            "_view_name": "LayoutView",
            "grid_template_rows": null,
            "right": null,
            "justify_content": null,
            "_view_module": "@jupyter-widgets/base",
            "overflow": null,
            "_model_module_version": "1.2.0",
            "_view_count": null,
            "flex_flow": null,
            "width": null,
            "min_width": null,
            "border": null,
            "align_items": null,
            "bottom": null,
            "_model_module": "@jupyter-widgets/base",
            "top": null,
            "grid_column": null,
            "overflow_y": null,
            "overflow_x": null,
            "grid_auto_flow": null,
            "grid_area": null,
            "grid_template_columns": null,
            "flex": null,
            "_model_name": "LayoutModel",
            "justify_items": null,
            "grid_row": null,
            "max_height": null,
            "align_content": null,
            "visibility": null,
            "align_self": null,
            "height": null,
            "min_height": null,
            "padding": null,
            "grid_auto_rows": null,
            "grid_gap": null,
            "max_width": null,
            "order": null,
            "_view_module_version": "1.2.0",
            "grid_template_areas": null,
            "object_position": null,
            "object_fit": null,
            "grid_auto_columns": null,
            "margin": null,
            "display": null,
            "left": null
          }
        },
        "8ab1e36d6cda412aa9d61d562d37d4b3": {
          "model_module": "@jupyter-widgets/controls",
          "model_name": "FloatProgressModel",
          "state": {
            "_view_name": "ProgressView",
            "style": "IPY_MODEL_ca371478247248dd8baa3011a4fbfe47",
            "_dom_classes": [],
            "description": "#1: 100%",
            "_model_name": "FloatProgressModel",
            "bar_style": "success",
            "max": 53,
            "_view_module": "@jupyter-widgets/controls",
            "_model_module_version": "1.5.0",
            "value": 53,
            "_view_count": null,
            "_view_module_version": "1.5.0",
            "orientation": "horizontal",
            "min": 0,
            "description_tooltip": null,
            "_model_module": "@jupyter-widgets/controls",
            "layout": "IPY_MODEL_290657585fbd4ab6adcfb9a5b3fbd24d"
          }
        },
        "e2d6e675b6d24f8496393ec96d150ac7": {
          "model_module": "@jupyter-widgets/controls",
          "model_name": "HTMLModel",
          "state": {
            "_view_name": "HTMLView",
            "style": "IPY_MODEL_723be6a7ac554c69887a4b814492e7ed",
            "_dom_classes": [],
            "description": "",
            "_model_name": "HTMLModel",
            "placeholder": "​",
            "_view_module": "@jupyter-widgets/controls",
            "_model_module_version": "1.5.0",
            "value": " 53/53 [00:21&lt;00:00,  2.46ba/s]",
            "_view_count": null,
            "_view_module_version": "1.5.0",
            "description_tooltip": null,
            "_model_module": "@jupyter-widgets/controls",
            "layout": "IPY_MODEL_4037a8dd07484d15a52ad568801ec456"
          }
        },
        "ca371478247248dd8baa3011a4fbfe47": {
          "model_module": "@jupyter-widgets/controls",
          "model_name": "ProgressStyleModel",
          "state": {
            "_view_name": "StyleView",
            "_model_name": "ProgressStyleModel",
            "description_width": "initial",
            "_view_module": "@jupyter-widgets/base",
            "_model_module_version": "1.5.0",
            "_view_count": null,
            "_view_module_version": "1.2.0",
            "bar_color": null,
            "_model_module": "@jupyter-widgets/controls"
          }
        },
        "290657585fbd4ab6adcfb9a5b3fbd24d": {
          "model_module": "@jupyter-widgets/base",
          "model_name": "LayoutModel",
          "state": {
            "_view_name": "LayoutView",
            "grid_template_rows": null,
            "right": null,
            "justify_content": null,
            "_view_module": "@jupyter-widgets/base",
            "overflow": null,
            "_model_module_version": "1.2.0",
            "_view_count": null,
            "flex_flow": null,
            "width": null,
            "min_width": null,
            "border": null,
            "align_items": null,
            "bottom": null,
            "_model_module": "@jupyter-widgets/base",
            "top": null,
            "grid_column": null,
            "overflow_y": null,
            "overflow_x": null,
            "grid_auto_flow": null,
            "grid_area": null,
            "grid_template_columns": null,
            "flex": null,
            "_model_name": "LayoutModel",
            "justify_items": null,
            "grid_row": null,
            "max_height": null,
            "align_content": null,
            "visibility": null,
            "align_self": null,
            "height": null,
            "min_height": null,
            "padding": null,
            "grid_auto_rows": null,
            "grid_gap": null,
            "max_width": null,
            "order": null,
            "_view_module_version": "1.2.0",
            "grid_template_areas": null,
            "object_position": null,
            "object_fit": null,
            "grid_auto_columns": null,
            "margin": null,
            "display": null,
            "left": null
          }
        },
        "723be6a7ac554c69887a4b814492e7ed": {
          "model_module": "@jupyter-widgets/controls",
          "model_name": "DescriptionStyleModel",
          "state": {
            "_view_name": "StyleView",
            "_model_name": "DescriptionStyleModel",
            "description_width": "",
            "_view_module": "@jupyter-widgets/base",
            "_model_module_version": "1.5.0",
            "_view_count": null,
            "_view_module_version": "1.2.0",
            "_model_module": "@jupyter-widgets/controls"
          }
        },
        "4037a8dd07484d15a52ad568801ec456": {
          "model_module": "@jupyter-widgets/base",
          "model_name": "LayoutModel",
          "state": {
            "_view_name": "LayoutView",
            "grid_template_rows": null,
            "right": null,
            "justify_content": null,
            "_view_module": "@jupyter-widgets/base",
            "overflow": null,
            "_model_module_version": "1.2.0",
            "_view_count": null,
            "flex_flow": null,
            "width": null,
            "min_width": null,
            "border": null,
            "align_items": null,
            "bottom": null,
            "_model_module": "@jupyter-widgets/base",
            "top": null,
            "grid_column": null,
            "overflow_y": null,
            "overflow_x": null,
            "grid_auto_flow": null,
            "grid_area": null,
            "grid_template_columns": null,
            "flex": null,
            "_model_name": "LayoutModel",
            "justify_items": null,
            "grid_row": null,
            "max_height": null,
            "align_content": null,
            "visibility": null,
            "align_self": null,
            "height": null,
            "min_height": null,
            "padding": null,
            "grid_auto_rows": null,
            "grid_gap": null,
            "max_width": null,
            "order": null,
            "_view_module_version": "1.2.0",
            "grid_template_areas": null,
            "object_position": null,
            "object_fit": null,
            "grid_auto_columns": null,
            "margin": null,
            "display": null,
            "left": null
          }
        },
        "d7080a9c2aa94ff1999c02269a1401d4": {
          "model_module": "@jupyter-widgets/controls",
          "model_name": "HBoxModel",
          "state": {
            "_view_name": "HBoxView",
            "_dom_classes": [],
            "_model_name": "HBoxModel",
            "_view_module": "@jupyter-widgets/controls",
            "_model_module_version": "1.5.0",
            "_view_count": null,
            "_view_module_version": "1.5.0",
            "box_style": "",
            "layout": "IPY_MODEL_a83640392e974feda2caf8bf2d8cb295",
            "_model_module": "@jupyter-widgets/controls",
            "children": [
              "IPY_MODEL_7ffb88f51d7b42dc8753697e5caad80d",
              "IPY_MODEL_b89a47dc39734fbdba859277c89e7d55"
            ]
          }
        },
        "a83640392e974feda2caf8bf2d8cb295": {
          "model_module": "@jupyter-widgets/base",
          "model_name": "LayoutModel",
          "state": {
            "_view_name": "LayoutView",
            "grid_template_rows": null,
            "right": null,
            "justify_content": null,
            "_view_module": "@jupyter-widgets/base",
            "overflow": null,
            "_model_module_version": "1.2.0",
            "_view_count": null,
            "flex_flow": null,
            "width": null,
            "min_width": null,
            "border": null,
            "align_items": null,
            "bottom": null,
            "_model_module": "@jupyter-widgets/base",
            "top": null,
            "grid_column": null,
            "overflow_y": null,
            "overflow_x": null,
            "grid_auto_flow": null,
            "grid_area": null,
            "grid_template_columns": null,
            "flex": null,
            "_model_name": "LayoutModel",
            "justify_items": null,
            "grid_row": null,
            "max_height": null,
            "align_content": null,
            "visibility": null,
            "align_self": null,
            "height": null,
            "min_height": null,
            "padding": null,
            "grid_auto_rows": null,
            "grid_gap": null,
            "max_width": null,
            "order": null,
            "_view_module_version": "1.2.0",
            "grid_template_areas": null,
            "object_position": null,
            "object_fit": null,
            "grid_auto_columns": null,
            "margin": null,
            "display": null,
            "left": null
          }
        },
        "7ffb88f51d7b42dc8753697e5caad80d": {
          "model_module": "@jupyter-widgets/controls",
          "model_name": "FloatProgressModel",
          "state": {
            "_view_name": "ProgressView",
            "style": "IPY_MODEL_171d534be17d4bc3a361a5d99e345fe7",
            "_dom_classes": [],
            "description": "#3: 100%",
            "_model_name": "FloatProgressModel",
            "bar_style": "success",
            "max": 53,
            "_view_module": "@jupyter-widgets/controls",
            "_model_module_version": "1.5.0",
            "value": 53,
            "_view_count": null,
            "_view_module_version": "1.5.0",
            "orientation": "horizontal",
            "min": 0,
            "description_tooltip": null,
            "_model_module": "@jupyter-widgets/controls",
            "layout": "IPY_MODEL_7ef86d04fdd0489386f585c455f98870"
          }
        },
        "b89a47dc39734fbdba859277c89e7d55": {
          "model_module": "@jupyter-widgets/controls",
          "model_name": "HTMLModel",
          "state": {
            "_view_name": "HTMLView",
            "style": "IPY_MODEL_b597d2bb04d34fddaca3f32c23b771ac",
            "_dom_classes": [],
            "description": "",
            "_model_name": "HTMLModel",
            "placeholder": "​",
            "_view_module": "@jupyter-widgets/controls",
            "_model_module_version": "1.5.0",
            "value": " 53/53 [00:21&lt;00:00,  2.45ba/s]",
            "_view_count": null,
            "_view_module_version": "1.5.0",
            "description_tooltip": null,
            "_model_module": "@jupyter-widgets/controls",
            "layout": "IPY_MODEL_6d10b5077e844e7385997f45276151a5"
          }
        },
        "171d534be17d4bc3a361a5d99e345fe7": {
          "model_module": "@jupyter-widgets/controls",
          "model_name": "ProgressStyleModel",
          "state": {
            "_view_name": "StyleView",
            "_model_name": "ProgressStyleModel",
            "description_width": "initial",
            "_view_module": "@jupyter-widgets/base",
            "_model_module_version": "1.5.0",
            "_view_count": null,
            "_view_module_version": "1.2.0",
            "bar_color": null,
            "_model_module": "@jupyter-widgets/controls"
          }
        },
        "7ef86d04fdd0489386f585c455f98870": {
          "model_module": "@jupyter-widgets/base",
          "model_name": "LayoutModel",
          "state": {
            "_view_name": "LayoutView",
            "grid_template_rows": null,
            "right": null,
            "justify_content": null,
            "_view_module": "@jupyter-widgets/base",
            "overflow": null,
            "_model_module_version": "1.2.0",
            "_view_count": null,
            "flex_flow": null,
            "width": null,
            "min_width": null,
            "border": null,
            "align_items": null,
            "bottom": null,
            "_model_module": "@jupyter-widgets/base",
            "top": null,
            "grid_column": null,
            "overflow_y": null,
            "overflow_x": null,
            "grid_auto_flow": null,
            "grid_area": null,
            "grid_template_columns": null,
            "flex": null,
            "_model_name": "LayoutModel",
            "justify_items": null,
            "grid_row": null,
            "max_height": null,
            "align_content": null,
            "visibility": null,
            "align_self": null,
            "height": null,
            "min_height": null,
            "padding": null,
            "grid_auto_rows": null,
            "grid_gap": null,
            "max_width": null,
            "order": null,
            "_view_module_version": "1.2.0",
            "grid_template_areas": null,
            "object_position": null,
            "object_fit": null,
            "grid_auto_columns": null,
            "margin": null,
            "display": null,
            "left": null
          }
        },
        "b597d2bb04d34fddaca3f32c23b771ac": {
          "model_module": "@jupyter-widgets/controls",
          "model_name": "DescriptionStyleModel",
          "state": {
            "_view_name": "StyleView",
            "_model_name": "DescriptionStyleModel",
            "description_width": "",
            "_view_module": "@jupyter-widgets/base",
            "_model_module_version": "1.5.0",
            "_view_count": null,
            "_view_module_version": "1.2.0",
            "_model_module": "@jupyter-widgets/controls"
          }
        },
        "6d10b5077e844e7385997f45276151a5": {
          "model_module": "@jupyter-widgets/base",
          "model_name": "LayoutModel",
          "state": {
            "_view_name": "LayoutView",
            "grid_template_rows": null,
            "right": null,
            "justify_content": null,
            "_view_module": "@jupyter-widgets/base",
            "overflow": null,
            "_model_module_version": "1.2.0",
            "_view_count": null,
            "flex_flow": null,
            "width": null,
            "min_width": null,
            "border": null,
            "align_items": null,
            "bottom": null,
            "_model_module": "@jupyter-widgets/base",
            "top": null,
            "grid_column": null,
            "overflow_y": null,
            "overflow_x": null,
            "grid_auto_flow": null,
            "grid_area": null,
            "grid_template_columns": null,
            "flex": null,
            "_model_name": "LayoutModel",
            "justify_items": null,
            "grid_row": null,
            "max_height": null,
            "align_content": null,
            "visibility": null,
            "align_self": null,
            "height": null,
            "min_height": null,
            "padding": null,
            "grid_auto_rows": null,
            "grid_gap": null,
            "max_width": null,
            "order": null,
            "_view_module_version": "1.2.0",
            "grid_template_areas": null,
            "object_position": null,
            "object_fit": null,
            "grid_auto_columns": null,
            "margin": null,
            "display": null,
            "left": null
          }
        },
        "f5217b2c4b3e435db2bf69e2c79d6edd": {
          "model_module": "@jupyter-widgets/controls",
          "model_name": "HBoxModel",
          "state": {
            "_view_name": "HBoxView",
            "_dom_classes": [],
            "_model_name": "HBoxModel",
            "_view_module": "@jupyter-widgets/controls",
            "_model_module_version": "1.5.0",
            "_view_count": null,
            "_view_module_version": "1.5.0",
            "box_style": "",
            "layout": "IPY_MODEL_23f8b7eb2d4247648eef85cd7ff151af",
            "_model_module": "@jupyter-widgets/controls",
            "children": [
              "IPY_MODEL_6ed87e8d02b9490182e8c2d06220002d",
              "IPY_MODEL_3f71950fd58e4a329728ee976fbdf03f"
            ]
          }
        },
        "23f8b7eb2d4247648eef85cd7ff151af": {
          "model_module": "@jupyter-widgets/base",
          "model_name": "LayoutModel",
          "state": {
            "_view_name": "LayoutView",
            "grid_template_rows": null,
            "right": null,
            "justify_content": null,
            "_view_module": "@jupyter-widgets/base",
            "overflow": null,
            "_model_module_version": "1.2.0",
            "_view_count": null,
            "flex_flow": null,
            "width": null,
            "min_width": null,
            "border": null,
            "align_items": null,
            "bottom": null,
            "_model_module": "@jupyter-widgets/base",
            "top": null,
            "grid_column": null,
            "overflow_y": null,
            "overflow_x": null,
            "grid_auto_flow": null,
            "grid_area": null,
            "grid_template_columns": null,
            "flex": null,
            "_model_name": "LayoutModel",
            "justify_items": null,
            "grid_row": null,
            "max_height": null,
            "align_content": null,
            "visibility": null,
            "align_self": null,
            "height": null,
            "min_height": null,
            "padding": null,
            "grid_auto_rows": null,
            "grid_gap": null,
            "max_width": null,
            "order": null,
            "_view_module_version": "1.2.0",
            "grid_template_areas": null,
            "object_position": null,
            "object_fit": null,
            "grid_auto_columns": null,
            "margin": null,
            "display": null,
            "left": null
          }
        },
        "6ed87e8d02b9490182e8c2d06220002d": {
          "model_module": "@jupyter-widgets/controls",
          "model_name": "FloatProgressModel",
          "state": {
            "_view_name": "ProgressView",
            "style": "IPY_MODEL_ada673d533d347c19903d3a24b37eec4",
            "_dom_classes": [],
            "description": "100%",
            "_model_name": "FloatProgressModel",
            "bar_style": "success",
            "max": 1680,
            "_view_module": "@jupyter-widgets/controls",
            "_model_module_version": "1.5.0",
            "value": 1680,
            "_view_count": null,
            "_view_module_version": "1.5.0",
            "orientation": "horizontal",
            "min": 0,
            "description_tooltip": null,
            "_model_module": "@jupyter-widgets/controls",
            "layout": "IPY_MODEL_23c876a344044645b74825dc8deba3cb"
          }
        },
        "3f71950fd58e4a329728ee976fbdf03f": {
          "model_module": "@jupyter-widgets/controls",
          "model_name": "HTMLModel",
          "state": {
            "_view_name": "HTMLView",
            "style": "IPY_MODEL_0aea306b774e4d15a3b5a5d94af89c84",
            "_dom_classes": [],
            "description": "",
            "_model_name": "HTMLModel",
            "placeholder": "​",
            "_view_module": "@jupyter-widgets/controls",
            "_model_module_version": "1.5.0",
            "value": " 1680/1680 [05:16&lt;00:00,  5.31ex/s]",
            "_view_count": null,
            "_view_module_version": "1.5.0",
            "description_tooltip": null,
            "_model_module": "@jupyter-widgets/controls",
            "layout": "IPY_MODEL_56fab205c63a4713983dc5a670d024ab"
          }
        },
        "ada673d533d347c19903d3a24b37eec4": {
          "model_module": "@jupyter-widgets/controls",
          "model_name": "ProgressStyleModel",
          "state": {
            "_view_name": "StyleView",
            "_model_name": "ProgressStyleModel",
            "description_width": "initial",
            "_view_module": "@jupyter-widgets/base",
            "_model_module_version": "1.5.0",
            "_view_count": null,
            "_view_module_version": "1.2.0",
            "bar_color": null,
            "_model_module": "@jupyter-widgets/controls"
          }
        },
        "23c876a344044645b74825dc8deba3cb": {
          "model_module": "@jupyter-widgets/base",
          "model_name": "LayoutModel",
          "state": {
            "_view_name": "LayoutView",
            "grid_template_rows": null,
            "right": null,
            "justify_content": null,
            "_view_module": "@jupyter-widgets/base",
            "overflow": null,
            "_model_module_version": "1.2.0",
            "_view_count": null,
            "flex_flow": null,
            "width": null,
            "min_width": null,
            "border": null,
            "align_items": null,
            "bottom": null,
            "_model_module": "@jupyter-widgets/base",
            "top": null,
            "grid_column": null,
            "overflow_y": null,
            "overflow_x": null,
            "grid_auto_flow": null,
            "grid_area": null,
            "grid_template_columns": null,
            "flex": null,
            "_model_name": "LayoutModel",
            "justify_items": null,
            "grid_row": null,
            "max_height": null,
            "align_content": null,
            "visibility": null,
            "align_self": null,
            "height": null,
            "min_height": null,
            "padding": null,
            "grid_auto_rows": null,
            "grid_gap": null,
            "max_width": null,
            "order": null,
            "_view_module_version": "1.2.0",
            "grid_template_areas": null,
            "object_position": null,
            "object_fit": null,
            "grid_auto_columns": null,
            "margin": null,
            "display": null,
            "left": null
          }
        },
        "0aea306b774e4d15a3b5a5d94af89c84": {
          "model_module": "@jupyter-widgets/controls",
          "model_name": "DescriptionStyleModel",
          "state": {
            "_view_name": "StyleView",
            "_model_name": "DescriptionStyleModel",
            "description_width": "",
            "_view_module": "@jupyter-widgets/base",
            "_model_module_version": "1.5.0",
            "_view_count": null,
            "_view_module_version": "1.2.0",
            "_model_module": "@jupyter-widgets/controls"
          }
        },
        "56fab205c63a4713983dc5a670d024ab": {
          "model_module": "@jupyter-widgets/base",
          "model_name": "LayoutModel",
          "state": {
            "_view_name": "LayoutView",
            "grid_template_rows": null,
            "right": null,
            "justify_content": null,
            "_view_module": "@jupyter-widgets/base",
            "overflow": null,
            "_model_module_version": "1.2.0",
            "_view_count": null,
            "flex_flow": null,
            "width": null,
            "min_width": null,
            "border": null,
            "align_items": null,
            "bottom": null,
            "_model_module": "@jupyter-widgets/base",
            "top": null,
            "grid_column": null,
            "overflow_y": null,
            "overflow_x": null,
            "grid_auto_flow": null,
            "grid_area": null,
            "grid_template_columns": null,
            "flex": null,
            "_model_name": "LayoutModel",
            "justify_items": null,
            "grid_row": null,
            "max_height": null,
            "align_content": null,
            "visibility": null,
            "align_self": null,
            "height": null,
            "min_height": null,
            "padding": null,
            "grid_auto_rows": null,
            "grid_gap": null,
            "max_width": null,
            "order": null,
            "_view_module_version": "1.2.0",
            "grid_template_areas": null,
            "object_position": null,
            "object_fit": null,
            "grid_auto_columns": null,
            "margin": null,
            "display": null,
            "left": null
          }
        }
      }
    }
  },
  "cells": [
    {
      "cell_type": "markdown",
      "metadata": {
        "id": "view-in-github",
        "colab_type": "text"
      },
      "source": [
        "<a href=\"https://colab.research.google.com/github/kosuke-kitahara/xlsr-wav2vec2-phoneme-recognition/blob/main/Fine_tuning_XLSR_Wav2Vec2_for_Phoneme_Recognition.ipynb\" target=\"_parent\"><img src=\"https://colab.research.google.com/assets/colab-badge.svg\" alt=\"Open In Colab\"/></a>"
      ]
    },
    {
      "cell_type": "markdown",
      "metadata": {
        "id": "LBSYoWbi-45k"
      },
      "source": [
        "# **Fine-tuning XLSR-Wav2Vec2 for Phoneme Recognition with 🤗 Transformers**"
      ]
    },
    {
      "cell_type": "markdown",
      "metadata": {
        "id": "V7YOT2mnUiea"
      },
      "source": [
        "Wav2Vec2 is a pretrained model for Automatic Speech Recognition (ASR) and was released in [September 2020](https://ai.facebook.com/blog/wav2vec-20-learning-the-structure-of-speech-from-raw-audio/) by Alexei Baevski, Michael Auli, and Alex Conneau.  Soon after the superior performance of Wav2Vec2 was demonstrated on the English ASR dataset LibriSpeech, *Facebook AI* presented XLSR-Wav2Vec2 (click [here](https://arxiv.org/abs/2006.13979)). XLSR stands for *cross-lingual  speech representations* and refers to XLSR-Wav2Vec2`s ability to learn speech representations that are useful across multiple languages.\n",
        "\n",
        "Similar to Wav2Vec2, XLSR-Wav2Vec2 learns powerful speech representations from hundreds of thousands of hours of speech in more than 50 languages of unlabeled speech. Similar, to [BERT's masked language modeling](http://jalammar.github.io/illustrated-bert/), the model learns contextualized speech representations by randomly masking feature vectors before passing them to a transformer network.\n",
        "\n",
        "![wav2vec2_structure](https://raw.githubusercontent.com/patrickvonplaten/scientific_images/master/xlsr_wav2vec2.png)\n",
        "\n",
        "The authors show for the first time that massively pretraining an ASR model on cross-lingual unlabeled speech data, followed by language-specific fine-tuning on very little labeled data achieves state-of-the-art results. See Table 1-5 of the official [paper](https://arxiv.org/pdf/2006.13979.pdf)."
      ]
    },
    {
      "cell_type": "markdown",
      "metadata": {
        "id": "nT_QrfWtsxIz"
      },
      "source": [
        "In this notebook, we will give an in-detail explanation of how XLSR-Wav2Vec2's pretrained checkpoint can be fine-tuned on a low-resource ASR dataset of any language. Note that in this notebook, we will fine-tune XLSR-Wav2Vec2 without making use of a language model. It is much simpler and more efficient to use XLSR-Wav2Vec2 without a language model, but better results can be achieved by including a language model. \n",
        "\n",
        "For demonstration purposes, we fine-tune the [wav2vec2-large-xlsr-53](https://huggingface.co/facebook/wav2vec2-large-xlsr-53) on the low resource Turkish ASR dataset of [Common Voice](https://huggingface.co/datasets/common_voice) that contains just ~6h of validated training data."
      ]
    },
    {
      "cell_type": "markdown",
      "metadata": {
        "id": "Gx9OdDYrCtQ1"
      },
      "source": [
        "XLSR-Wav2Vec2 is fine-tuned using Connectionist Temporal Classification (CTC), which is an algorithm that is used to train neural networks for sequence-to-sequence problems and mainly in Automatic Speech Recognition and handwriting recognition. \n",
        "\n",
        "I highly recommend reading the blog post [Sequence Modeling with CTC (2017)](https://distill.pub/2017/ctc/) very well-written blog post by Awni Hannun."
      ]
    },
    {
      "cell_type": "markdown",
      "metadata": {
        "id": "e335hPmdtASZ"
      },
      "source": [
        "Before we start, let's install both `datasets` and `transformers` from master. Also, we need the `torchaudio` and `librosa` package to load audio files and the `jiwer` to evaluate our fine-tuned model using the [word error rate (WER)](https://huggingface.co/metrics/wer) metric ${}^1$."
      ]
    },
    {
      "cell_type": "code",
      "metadata": {
        "id": "c8eh87Hoee5d"
      },
      "source": [
        "%%capture\n",
        "!pip install datasets==1.4.1\n",
        "!pip install transformers==4.4.0\n",
        "!pip install soundfile\n",
        "!pip install jiwer\n",
        "\n",
        "# issue: https://github.com/huggingface/datasets/issues/2052\n",
        "!pip install git+https://github.com/huggingface/datasets "
      ],
      "execution_count": null,
      "outputs": []
    },
    {
      "cell_type": "markdown",
      "metadata": {
        "id": "Mn9swf6EQ9Vd"
      },
      "source": [
        "\n",
        "\n",
        "\n",
        "---\n",
        "\n",
        "${}^1$ Timit is usually evaluated using the phoneme error rate (PER), but by far the most common metric in ASR is the word error rate (WER). To keep this notebook as general as possible we decided to evaluate the model using WER."
      ]
    },
    {
      "cell_type": "markdown",
      "metadata": {
        "id": "0mW-C1Nt-j7k"
      },
      "source": [
        "## Prepare Data, Tokenizer, Feature Extractor"
      ]
    },
    {
      "cell_type": "markdown",
      "metadata": {
        "id": "BeBosnY9BH3e"
      },
      "source": [
        "ASR models transcribe speech to text, which means that we both need a feature extractor that processes the speech signal to the model's input format, *e.g.* a feature vector, and a tokenizer that processes the model's output format to text. \n",
        "\n",
        "In 🤗 Transformers, the Wav2Vec2 model is thus accompanied by both a tokenizer, called [Wav2Vec2CTCTokenizer](https://huggingface.co/transformers/master/model_doc/wav2vec2.html#wav2vec2ctctokenizer), and a feature extractor, called [Wav2Vec2FeatureExtractor](https://huggingface.co/transformers/master/model_doc/wav2vec2.html#wav2vec2featureextractor).\n",
        "\n",
        "Let's start by creating the tokenizer responsible for decoding the model's predictions."
      ]
    },
    {
      "cell_type": "markdown",
      "metadata": {
        "id": "sEXEWEJGQPqD"
      },
      "source": [
        "### Create Wav2Vec2CTCTokenizer"
      ]
    },
    {
      "cell_type": "markdown",
      "metadata": {
        "id": "tWmMikuNEKl_"
      },
      "source": [
        "The [pretrained Wav2Vec2 checkpoint]( ) maps the speech signal to a sequence of context representations as illustrated in the figure above. A fine-tuned Wav2Vec2 checkpoint needs to map this sequence of context representations to its corresponding transcription so that a linear layer has to be added on top of the transformer block (shown in yellow). This linear layer is used to classifies each context representation to a token class analogous how, *e.g.*, after pretraining a linear layer is added on top of BERT's embeddings for further classification - *cf.* with *\"BERT\"* section of this [blog post](https://huggingface.co/blog/warm-starting-encoder-decoder).\n",
        "\n",
        "The output size of this layer corresponds to the number of tokens in the vocabulary, which does **not** depend on Wav2Vec2's pretraining task, but only on the labeled dataset used for fine-tuning. So in the first step, we will take a look at Timit and define a vocabulary based on the dataset's transcriptions."
      ]
    },
    {
      "cell_type": "markdown",
      "metadata": {
        "id": "bee4g9rpLxll"
      },
      "source": [
        "Let's start by loading the dataset and taking a look at its structure."
      ]
    },
    {
      "cell_type": "code",
      "metadata": {
        "id": "2MMXcWFFgCXU",
        "colab": {
          "base_uri": "https://localhost:8080/"
        },
        "outputId": "91313b7b-4d0e-41ae-f652-b89cc6d4a72e"
      },
      "source": [
        "from datasets import load_dataset, load_metric\n",
        "\n",
        "timit = load_dataset(\"timit_asr\")"
      ],
      "execution_count": null,
      "outputs": [
        {
          "output_type": "stream",
          "text": [
            "Reusing dataset timit_asr (/root/.cache/huggingface/datasets/timit_asr/clean/2.0.1/e7245f262bb418c1a5c67d67e00297322b1ad19eb65223676b790aa8003449e4)\n"
          ],
          "name": "stderr"
        }
      ]
    },
    {
      "cell_type": "code",
      "metadata": {
        "id": "QbIM-L0xdvf4",
        "colab": {
          "base_uri": "https://localhost:8080/"
        },
        "outputId": "7197d81f-43a2-4c92-91bb-fb5036085e3c"
      },
      "source": [
        "timit"
      ],
      "execution_count": null,
      "outputs": [
        {
          "output_type": "execute_result",
          "data": {
            "text/plain": [
              "DatasetDict({\n",
              "    train: Dataset({\n",
              "        features: ['file', 'text', 'phonetic_detail', 'word_detail', 'dialect_region', 'sentence_type', 'speaker_id', 'id'],\n",
              "        num_rows: 4620\n",
              "    })\n",
              "    test: Dataset({\n",
              "        features: ['file', 'text', 'phonetic_detail', 'word_detail', 'dialect_region', 'sentence_type', 'speaker_id', 'id'],\n",
              "        num_rows: 1680\n",
              "    })\n",
              "})"
            ]
          },
          "metadata": {
            "tags": []
          },
          "execution_count": 4
        }
      ]
    },
    {
      "cell_type": "markdown",
      "metadata": {
        "id": "ri5y5N_HMANq"
      },
      "source": [
        "Many ASR datasets only provide the target text, `'text'` for each audio file `'file'`. Timit actually provides much more information about each audio file, such as the `'phonetic_detail'`, etc., which is why many researchers choose to evaluate their models on phoneme classification instead of speech recognition when working with Timit. However, we want to keep the notebook as general as possible, so that we will only consider the transcribed text for fine-tuning.\n",
        "\n"
      ]
    },
    {
      "cell_type": "code",
      "metadata": {
        "id": "axHrUHezyJef",
        "colab": {
          "base_uri": "https://localhost:8080/",
          "height": 669
        },
        "outputId": "8eb8ac53-0128-4c32-8a5a-d2e58d380e7f"
      },
      "source": [
        "from datasets import ClassLabel\n",
        "import random\n",
        "import pandas as pd\n",
        "from IPython.display import display, HTML\n",
        "\n",
        "def show_random_elements(dataset, num_examples=10):\n",
        "    assert num_examples <= len(dataset), \"Can't pick more elements than there are in the dataset.\"\n",
        "    picks = []\n",
        "    for _ in range(num_examples):\n",
        "        pick = random.randint(0, len(dataset)-1)\n",
        "        while pick in picks:\n",
        "            pick = random.randint(0, len(dataset)-1)\n",
        "        picks.append(pick)\n",
        "\n",
        "    df = pd.DataFrame(dataset[picks])\n",
        "    display(HTML(df.to_html()))\n",
        "\n",
        "\n",
        "show_random_elements(timit['train'].remove_columns([\"file\", \"phonetic_detail\", \"word_detail\", \"dialect_region\", \"id\", \n",
        "                                                    \"sentence_type\", \"speaker_id\"]), num_examples=20)"
      ],
      "execution_count": null,
      "outputs": [
        {
          "output_type": "display_data",
          "data": {
            "text/html": [
              "<table border=\"1\" class=\"dataframe\">\n",
              "  <thead>\n",
              "    <tr style=\"text-align: right;\">\n",
              "      <th></th>\n",
              "      <th>text</th>\n",
              "    </tr>\n",
              "  </thead>\n",
              "  <tbody>\n",
              "    <tr>\n",
              "      <th>0</th>\n",
              "      <td>Their basis seems deeper than mere authority.</td>\n",
              "    </tr>\n",
              "    <tr>\n",
              "      <th>1</th>\n",
              "      <td>When peeling an orange, it is hard not to spray juice.</td>\n",
              "    </tr>\n",
              "    <tr>\n",
              "      <th>2</th>\n",
              "      <td>Don't ask me to carry an oily rag like that.</td>\n",
              "    </tr>\n",
              "    <tr>\n",
              "      <th>3</th>\n",
              "      <td>Curiosity and mediocrity seldom coexist.</td>\n",
              "    </tr>\n",
              "    <tr>\n",
              "      <th>4</th>\n",
              "      <td>To his surprise his plan worked perfectly.</td>\n",
              "    </tr>\n",
              "    <tr>\n",
              "      <th>5</th>\n",
              "      <td>In most cases we recognize certain words, persons, animals or objects.</td>\n",
              "    </tr>\n",
              "    <tr>\n",
              "      <th>6</th>\n",
              "      <td>Don't ask me to carry an oily rag like that.</td>\n",
              "    </tr>\n",
              "    <tr>\n",
              "      <th>7</th>\n",
              "      <td>Bright sunshine shimmers on the ocean.</td>\n",
              "    </tr>\n",
              "    <tr>\n",
              "      <th>8</th>\n",
              "      <td>She had your dark suit in greasy wash water all year.</td>\n",
              "    </tr>\n",
              "    <tr>\n",
              "      <th>9</th>\n",
              "      <td>Don't ask me to carry an oily rag like that.</td>\n",
              "    </tr>\n",
              "    <tr>\n",
              "      <th>10</th>\n",
              "      <td>She took it with her wherever she went; she chose it.</td>\n",
              "    </tr>\n",
              "    <tr>\n",
              "      <th>11</th>\n",
              "      <td>If it ever got behind me, the beep turned to a buzz.</td>\n",
              "    </tr>\n",
              "    <tr>\n",
              "      <th>12</th>\n",
              "      <td>He gazed away from us as we approached.</td>\n",
              "    </tr>\n",
              "    <tr>\n",
              "      <th>13</th>\n",
              "      <td>You should firmly insist that no bobby pins or hair pins be worn in the water.</td>\n",
              "    </tr>\n",
              "    <tr>\n",
              "      <th>14</th>\n",
              "      <td>Addition and subtraction are learned skills.</td>\n",
              "    </tr>\n",
              "    <tr>\n",
              "      <th>15</th>\n",
              "      <td>Don't ask me to carry an oily rag like that.</td>\n",
              "    </tr>\n",
              "    <tr>\n",
              "      <th>16</th>\n",
              "      <td>Alimony harms a divorced man's wealth.</td>\n",
              "    </tr>\n",
              "    <tr>\n",
              "      <th>17</th>\n",
              "      <td>The prowler wore a ski mask for disguise.</td>\n",
              "    </tr>\n",
              "    <tr>\n",
              "      <th>18</th>\n",
              "      <td>Which church do the Smiths worship in?</td>\n",
              "    </tr>\n",
              "    <tr>\n",
              "      <th>19</th>\n",
              "      <td>She had your dark suit in greasy wash water all year.</td>\n",
              "    </tr>\n",
              "  </tbody>\n",
              "</table>"
            ],
            "text/plain": [
              "<IPython.core.display.HTML object>"
            ]
          },
          "metadata": {
            "tags": []
          }
        }
      ]
    },
    {
      "cell_type": "code",
      "metadata": {
        "id": "lxq03l87q8SG"
      },
      "source": [
        "def get_phonetic_code(x):\n",
        "    # print(x)\n",
        "    x['phonetic_codes'] = \\\n",
        "        x['phonetic_detail']['utterance'][1:-1] # remove h#\n",
        "    return x"
      ],
      "execution_count": null,
      "outputs": []
    },
    {
      "cell_type": "code",
      "metadata": {
        "id": "0nmqvs8gq7sR",
        "colab": {
          "base_uri": "https://localhost:8080/"
        },
        "outputId": "32456af1-9331-46be-e13b-1ab274a97032"
      },
      "source": [
        "timit = timit.map(get_phonetic_code)"
      ],
      "execution_count": null,
      "outputs": [
        {
          "output_type": "stream",
          "text": [
            "Loading cached processed dataset at /root/.cache/huggingface/datasets/timit_asr/clean/2.0.1/e7245f262bb418c1a5c67d67e00297322b1ad19eb65223676b790aa8003449e4/cache-7add2ee4436c12ab.arrow\n",
            "Loading cached processed dataset at /root/.cache/huggingface/datasets/timit_asr/clean/2.0.1/e7245f262bb418c1a5c67d67e00297322b1ad19eb65223676b790aa8003449e4/cache-757f7e3bfdd58900.arrow\n"
          ],
          "name": "stderr"
        }
      ]
    },
    {
      "cell_type": "code",
      "metadata": {
        "id": "h3_grkp_tNDx",
        "colab": {
          "base_uri": "https://localhost:8080/"
        },
        "outputId": "1be14c94-c73c-4039-8e71-e6dd3ce0c893"
      },
      "source": [
        "print(timit['train']['text'][0])\n",
        "print(timit['train']['phonetic_codes'][0])"
      ],
      "execution_count": null,
      "outputs": [
        {
          "output_type": "stream",
          "text": [
            "Would such an act of refusal be useful?\n",
            "['w', 'ix', 'dcl', 's', 'ah', 'tcl', 'ch', 'ix', 'n', 'ae', 'kcl', 't', 'ix', 'v', 'r', 'ix', 'f', 'y', 'ux', 'zh', 'el', 'bcl', 'b', 'iy', 'y', 'ux', 's', 'f', 'el']\n"
          ],
          "name": "stdout"
        }
      ]
    },
    {
      "cell_type": "code",
      "metadata": {
        "id": "SmQzuHcZtY66"
      },
      "source": [
        "# IPAに変換\n",
        "# ref: https://en.wikipedia.org/wiki/ARPABET\n",
        "arphabet_to_ipa = {\n",
        "    'aa': 'ɑ',\n",
        "    'ae': 'æ',\n",
        "    'ah':'ʌ',\n",
        "    'ao':'ɔ',\n",
        "    'aw':'W',\n",
        "    'ax':'ə',\n",
        "    'axr':'ɚ',\n",
        "    'ay':'Y',\n",
        "    'eh':'ɛ',\n",
        "    'er':'ɝ',\n",
        "    'ey':'e',\n",
        "    'ih':'ɪ',\n",
        "    'ix':'ɨ',\n",
        "    'iy':'i',\n",
        "    'ow':'o',\n",
        "    'oy':'O',\n",
        "    'uh':'ʊ',\n",
        "    'uw':'u',\n",
        "    'ux':'ʉ',\n",
        "    'b':'b',\n",
        "    'ch':'C',\n",
        "    'd':'d',\n",
        "    'dh':'ð',\n",
        "    'dx':'ɾ',\n",
        "    'el':'l̩',\n",
        "    'em':'m̩',\n",
        "    'en':'n̩',\n",
        "    'f':'f',\n",
        "    'g':'g',\n",
        "    'hh':'h',\n",
        "    'h':'h',\n",
        "    'jh':'J',\n",
        "    'k':'k',\n",
        "    'l':'l',    \n",
        "    'm':'m',    \n",
        "    'n':'n',    \n",
        "    'ng':'ŋ',    \n",
        "    'nx':'ɾ̃',    \n",
        "    'p':'p',    \n",
        "    'q':'ʔ',    \n",
        "    'r':'ɹ',    \n",
        "    's':'s',    \n",
        "    'sh':'ʃ',    \n",
        "    't':'t',    \n",
        "    'th':'θ',    \n",
        "    'v':'v',    \n",
        "    'w':'w',    \n",
        "    'wh':'ʍ',    \n",
        "    'y':'j',    \n",
        "    'z':'z',    \n",
        "    'zh':'ʒ',    \n",
        "    'ax-h':'ə̥',    \n",
        "    'bcl':'b̚',    \n",
        "    'dcl':'d̚',    \n",
        "    'eng':'ŋ̍',    \n",
        "    'gcl':'ɡ̚',    \n",
        "    'hv':'ɦ',    \n",
        "    'kcl':'k̚',    \n",
        "    'pcl':'p̚',    \n",
        "    'tcl':'t̚',\n",
        "    'epi':'S', \n",
        "    'pau':'P',   \n",
        "}"
      ],
      "execution_count": null,
      "outputs": []
    },
    {
      "cell_type": "code",
      "metadata": {
        "id": "_zbWDbmCw2pK",
        "colab": {
          "base_uri": "https://localhost:8080/"
        },
        "outputId": "fb07df69-4b55-4e4e-e5d4-18f7062d784a"
      },
      "source": [
        "print(len(set(arphabet_to_ipa.keys())))\n",
        "print(len(set(arphabet_to_ipa.values())))"
      ],
      "execution_count": null,
      "outputs": [
        {
          "output_type": "stream",
          "text": [
            "62\n",
            "61\n"
          ],
          "name": "stdout"
        }
      ]
    },
    {
      "cell_type": "code",
      "metadata": {
        "id": "AjzcT0DYw5_Z"
      },
      "source": [
        "# hhとhだけvalueがhで重複していることを確認\n",
        "# from collections import Counter\n",
        "# Counter(arphabet_to_ipa.values())"
      ],
      "execution_count": null,
      "outputs": []
    },
    {
      "cell_type": "code",
      "metadata": {
        "id": "bMUs86-lxXBw",
        "colab": {
          "base_uri": "https://localhost:8080/"
        },
        "outputId": "3f0658bd-0ec0-40ec-e377-1f4f4e542736"
      },
      "source": [
        "# Convert phonetic code to IPA represented in one character\n",
        "def convert_to_ipa(x):\n",
        "    # x['ipa'] = ' '.join([arphabet_to_ipa[code] for code in x['phonetic_codes']])\n",
        "    x['ipa'] = ''.join([arphabet_to_ipa[code] for code in x['phonetic_codes']])\n",
        "    return x\n",
        "\n",
        "timit = timit.map(convert_to_ipa)"
      ],
      "execution_count": null,
      "outputs": [
        {
          "output_type": "stream",
          "text": [
            "Loading cached processed dataset at /root/.cache/huggingface/datasets/timit_asr/clean/2.0.1/e7245f262bb418c1a5c67d67e00297322b1ad19eb65223676b790aa8003449e4/cache-e9fc5fb2406b4934.arrow\n",
            "Loading cached processed dataset at /root/.cache/huggingface/datasets/timit_asr/clean/2.0.1/e7245f262bb418c1a5c67d67e00297322b1ad19eb65223676b790aa8003449e4/cache-7a3021aa517d2e32.arrow\n"
          ],
          "name": "stderr"
        }
      ]
    },
    {
      "cell_type": "code",
      "metadata": {
        "id": "5ZYCRWw1x4Oo",
        "colab": {
          "base_uri": "https://localhost:8080/"
        },
        "outputId": "22a24d8b-e373-4b39-a1ef-ef45c72a2fe6"
      },
      "source": [
        "print(timit['train']['text'][0])\n",
        "print(timit['train']['phonetic_codes'][0])\n",
        "print(timit['train']['ipa'][0])"
      ],
      "execution_count": null,
      "outputs": [
        {
          "output_type": "stream",
          "text": [
            "Would such an act of refusal be useful?\n",
            "['w', 'ix', 'dcl', 's', 'ah', 'tcl', 'ch', 'ix', 'n', 'ae', 'kcl', 't', 'ix', 'v', 'r', 'ix', 'f', 'y', 'ux', 'zh', 'el', 'bcl', 'b', 'iy', 'y', 'ux', 's', 'f', 'el']\n",
            "wɨd̚sʌt̚Cɨnæk̚tɨvɹɨfjʉʒl̩b̚bijʉsfl̩\n"
          ],
          "name": "stdout"
        }
      ]
    },
    {
      "cell_type": "code",
      "metadata": {
        "id": "kbyq6lDgQc2a"
      },
      "source": [
        "timit = timit.remove_columns([\"text\", \"phonetic_detail\", \"word_detail\", \"dialect_region\", \"id\", \"sentence_type\", \"speaker_id\"])"
      ],
      "execution_count": null,
      "outputs": []
    },
    {
      "cell_type": "code",
      "metadata": {
        "id": "7XKp1Gqa1y0k",
        "colab": {
          "base_uri": "https://localhost:8080/"
        },
        "outputId": "ab5f73bb-f94b-4dc7-c333-fd8ea5674c8f"
      },
      "source": [
        "timit"
      ],
      "execution_count": null,
      "outputs": [
        {
          "output_type": "execute_result",
          "data": {
            "text/plain": [
              "DatasetDict({\n",
              "    train: Dataset({\n",
              "        features: ['file', 'ipa', 'phonetic_codes'],\n",
              "        num_rows: 4620\n",
              "    })\n",
              "    test: Dataset({\n",
              "        features: ['file', 'ipa', 'phonetic_codes'],\n",
              "        num_rows: 1680\n",
              "    })\n",
              "})"
            ]
          },
          "metadata": {
            "tags": []
          },
          "execution_count": 15
        }
      ]
    },
    {
      "cell_type": "markdown",
      "metadata": {
        "id": "Go9Hq4e4NDT9"
      },
      "source": [
        "Let's write a short function to display some random samples of the dataset and run it a couple of times to get a feeling for the transcriptions."
      ]
    },
    {
      "cell_type": "code",
      "metadata": {
        "id": "72737oog2F6U"
      },
      "source": [
        "from datasets import ClassLabel\n",
        "import random\n",
        "import pandas as pd\n",
        "from IPython.display import display, HTML\n",
        "\n",
        "def show_random_elements(dataset, num_examples=10):\n",
        "    assert num_examples <= len(dataset), \"Can't pick more elements than there are in the dataset.\"\n",
        "    picks = []\n",
        "    for _ in range(num_examples):\n",
        "        pick = random.randint(0, len(dataset)-1)\n",
        "        while pick in picks:\n",
        "            pick = random.randint(0, len(dataset)-1)\n",
        "        picks.append(pick)\n",
        "    \n",
        "    df = pd.DataFrame(dataset[picks])\n",
        "    display(HTML(df.to_html()))"
      ],
      "execution_count": null,
      "outputs": []
    },
    {
      "cell_type": "code",
      "metadata": {
        "id": "K_JUmf3G3b9S",
        "colab": {
          "base_uri": "https://localhost:8080/",
          "height": 669
        },
        "outputId": "e43b3d20-3cbb-43ce-c687-4ff79ef233f5"
      },
      "source": [
        "show_random_elements(timit[\"train\"].remove_columns([\"file\"]), num_examples=20)"
      ],
      "execution_count": null,
      "outputs": [
        {
          "output_type": "display_data",
          "data": {
            "text/html": [
              "<table border=\"1\" class=\"dataframe\">\n",
              "  <thead>\n",
              "    <tr style=\"text-align: right;\">\n",
              "      <th></th>\n",
              "      <th>ipa</th>\n",
              "      <th>phonetic_codes</th>\n",
              "    </tr>\n",
              "  </thead>\n",
              "  <tbody>\n",
              "    <tr>\n",
              "      <th>0</th>\n",
              "      <td>wip̚plænəb̚bɪlʌnʉb̚bɛvɚʒplænt̚</td>\n",
              "      <td>[w, iy, pcl, p, l, ae, n, ax, bcl, b, ih, l, ah, n, ux, bcl, b, eh, v, axr, zh, p, l, ae, n, tcl]</td>\n",
              "    </tr>\n",
              "    <tr>\n",
              "      <th>1</th>\n",
              "      <td>ʔə̥k̚kɑnəsɝwəlɨnd̚JOðɪsʃɛlfɪʃd̚dɪʃ</td>\n",
              "      <td>[q, ax-h, kcl, k, aa, n, ax, s, er, w, ax, l, ix, n, dcl, jh, oy, dh, ih, s, sh, eh, l, f, ih, sh, dcl, d, ih, sh]</td>\n",
              "    </tr>\n",
              "    <tr>\n",
              "      <th>2</th>\n",
              "      <td>ʃiʔɨŋk̚kɝɨd̚Jd̚hɝt̚Cɪld̚dɚnt̚tʉmek̚ðɛɹʔonɦɑləwink̚kɑst̚tʉmz</td>\n",
              "      <td>[sh, iy, q, ix, ng, kcl, k, er, ix, dcl, jh, dcl, hh, er, tcl, ch, ih, l, dcl, d, axr, n, tcl, t, ux, m, ey, kcl, dh, eh, r, q, ow, n, hv, aa, l, ax, w, iy, n, kcl, k, aa, s, tcl, t, ux, m, z]</td>\n",
              "    </tr>\n",
              "    <tr>\n",
              "      <th>3</th>\n",
              "      <td>pəb̚blɪsɨɾiɦɛnoɾɚYɨɾiɡ̚gohænd̚dɨnɦænd̚d</td>\n",
              "      <td>[p, ax, bcl, b, l, ih, s, ix, dx, iy, hv, eh, n, ow, dx, axr, ay, ix, dx, iy, gcl, g, ow, hh, ae, n, dcl, d, ix, n, hv, ae, n, dcl, d]</td>\n",
              "    </tr>\n",
              "    <tr>\n",
              "      <th>4</th>\n",
              "      <td>klɪfsd̚dɪsp̚plewɨzmɨsp̚plest̚tɔnəsk̚kɹin</td>\n",
              "      <td>[k, l, ih, f, s, dcl, d, ih, s, pcl, p, l, ey, w, ix, z, m, ix, s, pcl, p, l, ey, s, tcl, t, ao, n, ax, s, kcl, k, r, iy, n]</td>\n",
              "    </tr>\n",
              "    <tr>\n",
              "      <th>5</th>\n",
              "      <td>ʃiɦɛd̚djʊɹd̚dɑk̚ksʉt̚tʔɨnɡ̚gɹisiPwɑʃSwɑɾɝʔɔljɪɚ</td>\n",
              "      <td>[sh, iy, hv, eh, dcl, d, y, uh, r, dcl, d, aa, kcl, k, s, ux, tcl, t, q, ix, n, gcl, g, r, iy, s, iy, pau, w, aa, sh, epi, w, aa, dx, er, q, ao, l, y, ih, axr]</td>\n",
              "    </tr>\n",
              "    <tr>\n",
              "      <th>6</th>\n",
              "      <td>sɛlfsn̩t̚tɛɡ̚ɹɨɾiSwʌzʔænʔɪzʔænʔɛvɝɦæd̚bɨn</td>\n",
              "      <td>[s, eh, l, f, s, en, tcl, t, eh, gcl, r, ix, dx, iy, epi, w, ah, z, q, ae, n, q, ih, z, q, ae, n, q, eh, v, er, hv, ae, dcl, b, ix, n]</td>\n",
              "    </tr>\n",
              "    <tr>\n",
              "      <th>7</th>\n",
              "      <td>donæsk̚mɨd̚dɨk̚kɛɹiɪnɔlɨɹæɡ̚lYk̚ðæʔ</td>\n",
              "      <td>[d, ow, n, ae, s, kcl, m, ix, dcl, d, ix, kcl, k, eh, r, iy, ih, n, ao, l, ix, r, ae, gcl, l, ay, kcl, dh, ae, q]</td>\n",
              "    </tr>\n",
              "    <tr>\n",
              "      <th>8</th>\n",
              "      <td>jʉd̚dʉðæt̚ʔɔɹt̚tek̚kjuʌt̚ʔəp̚pɝmɪt̚tɹYt̚nW</td>\n",
              "      <td>[y, ux, dcl, d, ux, dh, ae, tcl, q, ao, r, tcl, t, ey, kcl, k, y, uw, ah, tcl, q, ax, pcl, p, er, m, ih, tcl, t, r, ay, tcl, n, aw]</td>\n",
              "    </tr>\n",
              "    <tr>\n",
              "      <th>9</th>\n",
              "      <td>gɪɾɪk̚kælɪk̚kok̚kæt̚tə̥k̚kip̚p</td>\n",
              "      <td>[g, ih, dx, ih, kcl, k, ae, l, ih, kcl, k, ow, kcl, k, ae, tcl, t, ax-h, kcl, k, iy, pcl, p]</td>\n",
              "    </tr>\n",
              "    <tr>\n",
              "      <th>10</th>\n",
              "      <td>dʊɾ̃æsk̚kmɨɾɨk̚kɛɹiɨnOliɹæɡ̚lYk̚ðæt̚</td>\n",
              "      <td>[d, uh, nx, ae, s, kcl, k, m, ix, dx, ix, kcl, k, eh, r, iy, ix, n, oy, l, iy, r, ae, gcl, l, ay, kcl, dh, ae, tcl]</td>\n",
              "    </tr>\n",
              "    <tr>\n",
              "      <th>11</th>\n",
              "      <td>klɪɚp̚pɚnʌnsieʃɨnʔɨzəp̚pɹiʃieɾɨd̚</td>\n",
              "      <td>[k, l, ih, axr, pcl, p, axr, n, ah, n, s, iy, ey, sh, ix, n, q, ix, z, ax, pcl, p, r, iy, sh, iy, ey, dx, ix, dcl]</td>\n",
              "    </tr>\n",
              "    <tr>\n",
              "      <th>12</th>\n",
              "      <td>ðemuvd̚tɔɹd̚ðəsk̚kɪfsPwɨθʃɑk̚kɨŋʔiɡ̚gɚnɛsPɛlb̚boɨŋɛnʃʌvɛŋ</td>\n",
              "      <td>[dh, ey, m, uw, v, dcl, t, ao, r, dcl, dh, ax, s, kcl, k, ih, f, s, pau, w, ix, th, sh, aa, kcl, k, ix, ng, q, iy, gcl, g, axr, n, eh, s, pau, eh, l, bcl, b, ow, ix, ng, eh, n, sh, ah, v, eh, ng]</td>\n",
              "    </tr>\n",
              "    <tr>\n",
              "      <th>13</th>\n",
              "      <td>wimʌst̚biɹɛɾifɝʔɪɾ̃iniɾɨd̚sæk̚kɚfYs</td>\n",
              "      <td>[w, iy, m, ah, s, tcl, b, iy, r, eh, dx, iy, f, er, q, ih, nx, iy, n, iy, dx, ix, dcl, s, ae, kcl, k, axr, f, ay, s]</td>\n",
              "    </tr>\n",
              "    <tr>\n",
              "      <th>14</th>\n",
              "      <td>ʃiɦɛd̚Jɚd̚dɑɹk̚ksʉɾɨnɡ̚gɹiziPwɑʃSwɑɾɚʔɔljiɚ</td>\n",
              "      <td>[sh, iy, hv, eh, dcl, jh, axr, dcl, d, aa, r, kcl, k, s, ux, dx, ix, n, gcl, g, r, iy, z, iy, pau, w, aa, sh, epi, w, aa, dx, axr, q, ao, l, y, iy, axr]</td>\n",
              "    </tr>\n",
              "    <tr>\n",
              "      <th>15</th>\n",
              "      <td>hip̚pɪk̚dʌp̚nYnp̚pɛɚzʔəvsɑk̚ksfɚʔit̚Cb̚bɹʌðɚ</td>\n",
              "      <td>[hh, iy, pcl, p, ih, kcl, d, ah, pcl, n, ay, n, pcl, p, eh, axr, z, q, ax, v, s, aa, kcl, k, s, f, axr, q, iy, tcl, ch, bcl, b, r, ah, dh, axr]</td>\n",
              "    </tr>\n",
              "    <tr>\n",
              "      <th>16</th>\n",
              "      <td>wɨθd̚dɹɑPʔonliɪzSmʌt̚CSmʌɾ̃iʔæʒɨnid̚</td>\n",
              "      <td>[w, ix, th, dcl, d, r, aa, pau, q, ow, n, l, iy, ih, z, epi, m, ah, tcl, ch, epi, m, ah, nx, iy, q, ae, zh, ix, n, iy, dcl]</td>\n",
              "    </tr>\n",
              "    <tr>\n",
              "      <th>17</th>\n",
              "      <td>wiwɛlk̚kəmɛninʉst̚tʉd̚n̩sʔit̚Cjɪɝ</td>\n",
              "      <td>[w, iy, w, eh, l, kcl, k, ax, m, eh, n, iy, n, ux, s, tcl, t, ux, dcl, en, s, q, iy, tcl, ch, y, ih, er]</td>\n",
              "    </tr>\n",
              "    <tr>\n",
              "      <th>18</th>\n",
              "      <td>ʔeθɝd̚dvɑljəmɹɨmenzt̚tə̥b̚bip̚pʌb̚blɨʃt̚t</td>\n",
              "      <td>[q, ey, th, er, dcl, d, v, aa, l, y, ax, m, r, ix, m, ey, n, z, tcl, t, ax-h, bcl, b, iy, pcl, p, ah, bcl, b, l, ix, sh, tcl, t]</td>\n",
              "    </tr>\n",
              "    <tr>\n",
              "      <th>19</th>\n",
              "      <td>doɾ̃æsk̚mɪɾɪk̚kɪɹɪɛnʔolɪɹæɡ̚glYk̚kθæʔ</td>\n",
              "      <td>[d, ow, nx, ae, s, kcl, m, ih, dx, ih, kcl, k, ih, r, ih, eh, n, q, ow, l, ih, r, ae, gcl, g, l, ay, kcl, k, th, ae, q]</td>\n",
              "    </tr>\n",
              "  </tbody>\n",
              "</table>"
            ],
            "text/plain": [
              "<IPython.core.display.HTML object>"
            ]
          },
          "metadata": {
            "tags": []
          }
        }
      ]
    },
    {
      "cell_type": "markdown",
      "metadata": {
        "id": "fowcOllGNNju"
      },
      "source": [
        "Alright! The transcriptions look very clean and the language seems to correspond more to written text than dialogue. This makes sense taking into account that [Timit](https://huggingface.co/datasets/timit_asr) is a read speech corpus."
      ]
    },
    {
      "cell_type": "markdown",
      "metadata": {
        "id": "vq7OR50LN49m"
      },
      "source": [
        "We can see that the transcriptions contain some special characters, such as `,.?!;:`. Without a language model, it is much harder to classify speech chunks to such special characters because they don't really correspond to a characteristic sound unit. *E.g.*, the letter `\"s\"` has a more or less clear sound, whereas the special character `\".\"` does not.\n",
        "Also in order to understand the meaning of a speech signal, it is usually not necessary to include special characters in the transcription.\n",
        "\n",
        "In addition, we normalize the text to only have lower case letters and append a word separator token at the end."
      ]
    },
    {
      "cell_type": "code",
      "metadata": {
        "id": "svKzVJ_hQGK6"
      },
      "source": [
        "import re\n",
        "# chars_to_ignore_regex = '[\\,\\?\\.\\!\\-\\;\\:\\\"]'\n",
        "chars_to_ignore_regex = '[\\,\\?\\.\\!\\-\\;\\:\\\"\\“\\%\\‘\\”\\�]'\n",
        "\n",
        "def remove_special_characters(batch):\n",
        "    # batch[\"ipa\"] = re.sub(chars_to_ignore_regex, '', batch[\"ipa\"]).lower() + \" \"\n",
        "    batch[\"ipa\"] = re.sub(chars_to_ignore_regex, '', batch[\"ipa\"]) + \" \"\n",
        "    return batch"
      ],
      "execution_count": null,
      "outputs": []
    },
    {
      "cell_type": "code",
      "metadata": {
        "id": "XIHocAuTQbBR",
        "colab": {
          "base_uri": "https://localhost:8080/"
        },
        "outputId": "491d4faf-57ee-48c3-fc53-dcf31b005435"
      },
      "source": [
        "timit = timit.map(remove_special_characters)"
      ],
      "execution_count": null,
      "outputs": [
        {
          "output_type": "stream",
          "text": [
            "Loading cached processed dataset at /root/.cache/huggingface/datasets/timit_asr/clean/2.0.1/e7245f262bb418c1a5c67d67e00297322b1ad19eb65223676b790aa8003449e4/cache-b499f0fe3bc913c4.arrow\n",
            "Loading cached processed dataset at /root/.cache/huggingface/datasets/timit_asr/clean/2.0.1/e7245f262bb418c1a5c67d67e00297322b1ad19eb65223676b790aa8003449e4/cache-ccbc6f5494712683.arrow\n"
          ],
          "name": "stderr"
        }
      ]
    },
    {
      "cell_type": "code",
      "metadata": {
        "id": "RBDRAAYxRE6n",
        "colab": {
          "base_uri": "https://localhost:8080/",
          "height": 376
        },
        "outputId": "4c25ce4e-2678-4952-b163-96f66fce41b5"
      },
      "source": [
        "show_random_elements(timit[\"train\"].remove_columns([\"file\"]))"
      ],
      "execution_count": null,
      "outputs": [
        {
          "output_type": "display_data",
          "data": {
            "text/html": [
              "<table border=\"1\" class=\"dataframe\">\n",
              "  <thead>\n",
              "    <tr style=\"text-align: right;\">\n",
              "      <th></th>\n",
              "      <th>ipa</th>\n",
              "      <th>phonetic_codes</th>\n",
              "    </tr>\n",
              "  </thead>\n",
              "  <tbody>\n",
              "    <tr>\n",
              "      <th>0</th>\n",
              "      <td>ðɨt̚tæk̚ksik̚kæb̚bɹok̚dWnʔənk̚kɔst̚tt̚tɹæfɨk̚Jæm</td>\n",
              "      <td>[dh, ix, tcl, t, ae, kcl, k, s, iy, kcl, k, ae, bcl, b, r, ow, kcl, d, aw, n, q, ax, n, kcl, k, ao, s, tcl, t, tcl, t, r, ae, f, ix, kcl, jh, ae, m]</td>\n",
              "    </tr>\n",
              "    <tr>\n",
              "      <th>1</th>\n",
              "      <td>ðek̚kn̩sɪɾɝɪt̚sɪmp̚plisYɾ̃əvɑɹt̚tYmSz</td>\n",
              "      <td>[dh, ey, kcl, k, en, s, ih, dx, er, ih, tcl, s, ih, m, pcl, p, l, iy, s, ay, nx, ax, v, aa, r, tcl, t, ay, m, epi, z]</td>\n",
              "    </tr>\n",
              "    <tr>\n",
              "      <th>2</th>\n",
              "      <td>ðɪswʌnk̚keməb̚bɪɦYɨt̚θɝɾiθWzɨɾ̃ɚmɔɹ</td>\n",
              "      <td>[dh, ih, s, w, ah, n, kcl, k, ey, m, ax, bcl, b, ih, hv, ay, ix, tcl, th, er, dx, iy, th, aw, z, ix, nx, axr, m, ao, r]</td>\n",
              "    </tr>\n",
              "    <tr>\n",
              "      <th>3</th>\n",
              "      <td>ʃɨd̚Jɚæsb̚bik̚kɛp̚pt̚tn̩sSmɔlzʉz</td>\n",
              "      <td>[sh, ix, dcl, jh, axr, ae, s, bcl, b, iy, kcl, k, eh, pcl, p, tcl, t, en, s, epi, m, ao, l, z, ux, z]</td>\n",
              "    </tr>\n",
              "    <tr>\n",
              "      <th>4</th>\n",
              "      <td>ʃiɦɛd̚Jɚd̚dɑɹk̚ksʉɾɪnɡ̚gɹisɨwɔʃwɔɾɚʔɔljɨɚ</td>\n",
              "      <td>[sh, iy, hv, eh, dcl, jh, axr, dcl, d, aa, r, kcl, k, s, ux, dx, ih, n, gcl, g, r, iy, s, ix, w, ao, sh, w, ao, dx, axr, q, ao, l, y, ix, axr]</td>\n",
              "    </tr>\n",
              "    <tr>\n",
              "      <th>5</th>\n",
              "      <td>ɔɾ̃ɔlsYd̚zd̚dɔɹzwɚb̚biɨŋslæmdɪɾ̃ɪzfes</td>\n",
              "      <td>[ao, nx, ao, l, s, ay, dcl, z, dcl, d, ao, r, z, w, axr, bcl, b, iy, ix, ng, s, l, ae, m, d, ih, nx, ih, z, f, ey, s]</td>\n",
              "    </tr>\n",
              "    <tr>\n",
              "      <th>6</th>\n",
              "      <td>ʔʌlɛðɝɦænd̚bæɡ̚wɨd̚biɨsʉɾəb̚bl̩ɡ̚gɪft̚t</td>\n",
              "      <td>[q, ah, l, eh, dh, er, hv, ae, n, dcl, b, ae, gcl, w, ix, dcl, b, iy, ix, s, ux, dx, ax, bcl, b, el, gcl, g, ih, f, tcl, t]</td>\n",
              "    </tr>\n",
              "    <tr>\n",
              "      <th>7</th>\n",
              "      <td>ʃɛlʃɑk̚kɔzb̚bYʃɹæp̚nl̩Pɨsʌmt̚tYmzk̚kjɝd̚θɹʉɡ̚gɹup̚pθɪɝp̚pi</td>\n",
              "      <td>[sh, eh, l, sh, aa, kcl, k, ao, z, bcl, b, ay, sh, r, ae, pcl, n, el, pau, ix, s, ah, m, tcl, t, ay, m, z, kcl, k, y, er, dcl, th, r, ux, gcl, g, r, uw, pcl, p, th, ih, er, pcl, p, iy]</td>\n",
              "    </tr>\n",
              "    <tr>\n",
              "      <th>8</th>\n",
              "      <td>ðijold̚dʃɑp̚pæɾɪd̚Jst̚tɪlhɔld̚dzPʔʌɡ̚gʊd̚mɨk̚kæɾ̃ɪk̚kɨʒʉzliəb̚bæd̚bɔs</td>\n",
              "      <td>[dh, iy, y, ow, l, dcl, d, sh, aa, pcl, p, ae, dx, ih, dcl, jh, s, tcl, t, ih, l, hh, ao, l, dcl, d, z, pau, q, ah, gcl, g, uh, dcl, m, ix, kcl, k, ae, nx, ih, kcl, k, ix, zh, ux, z, l, iy, ax, bcl, b, ae, dcl, b, ao, s]</td>\n",
              "    </tr>\n",
              "    <tr>\n",
              "      <th>9</th>\n",
              "      <td>ʔɑɹk̚ksp̚pɝmɪnt̚sp̚pɑzɨvWt̚tk̚kʌmwəzʌnɨk̚ksp̚pɛk̚tɨd̚</td>\n",
              "      <td>[q, aa, r, kcl, k, s, pcl, p, er, m, ih, n, tcl, s, pcl, p, aa, z, ix, v, aw, tcl, t, kcl, k, ah, m, w, ax, z, ah, n, ix, kcl, k, s, pcl, p, eh, kcl, t, ix, dcl]</td>\n",
              "    </tr>\n",
              "  </tbody>\n",
              "</table>"
            ],
            "text/plain": [
              "<IPython.core.display.HTML object>"
            ]
          },
          "metadata": {
            "tags": []
          }
        }
      ]
    },
    {
      "cell_type": "markdown",
      "metadata": {
        "id": "jwfaptH5RJwA"
      },
      "source": [
        "Good! This looks better. We have removed most special characters from transcriptions and normalized them to lower-case only.\n",
        "\n",
        "In CTC, it is common to classify speech chunks into letters, so we will do the same here. \n",
        "Let's extract all distinct letters of the training and test data and build our vocabulary from this set of letters.\n",
        "\n",
        "We write a mapping function that concatenates all transcriptions into one long transcription and then transforms the string into a set of chars. \n",
        "It is important to pass the argument `batched=True` to the `map(...)` function so that the mapping function has access to all transcriptions at once."
      ]
    },
    {
      "cell_type": "code",
      "metadata": {
        "id": "LwCshNbbeRZR"
      },
      "source": [
        "def extract_all_chars(batch):\n",
        "  all_text = \" \".join(batch[\"ipa\"])\n",
        "  vocab = list(set(all_text))\n",
        "  return {\"vocab\": [vocab], \"all_text\": [all_text]}"
      ],
      "execution_count": null,
      "outputs": []
    },
    {
      "cell_type": "code",
      "metadata": {
        "id": "_m6uUjjcfbjH",
        "colab": {
          "base_uri": "https://localhost:8080/",
          "height": 115,
          "referenced_widgets": [
            "e6cf4f0799c94e77827385899867943e",
            "c3e95481522f49bc87d56a8865e91638",
            "704c7b0495dc4d52b2e1fc870f2876c2",
            "9ce9548b953a42c9bdeef28d77663e60",
            "d9ce371e0cc34c13b48c5f23e81e9b5f",
            "724d1c4970f94c628b4f8693e6d1b7a5",
            "73894ffd96fd4eb387a983c2d8744565",
            "7efbfabf9ba44b2d8c9905114cc2f70c",
            "db58cbb663c5428f8052b1b5a50f6d93",
            "34aa4c398e9c430cbbd6884a6bffd215",
            "b1f039e26d4542d0890c845cd10d819f",
            "73cdc847928c49a99f404ed8689efaac",
            "835386a9f6f44d798d9bd5dce56e88ca",
            "e187a8b813854455a43cb9868962c4a0",
            "f7b8b9d8b9634eaa9817d1f8df8d54fb",
            "1c297360dc834eb8b8d7dd7844f1208b"
          ]
        },
        "outputId": "2169a249-1fed-4be6-a974-9b1db9639be5"
      },
      "source": [
        "vocabs = timit.map(extract_all_chars, batched=True, batch_size=-1, keep_in_memory=True, remove_columns=timit.column_names[\"train\"])"
      ],
      "execution_count": null,
      "outputs": [
        {
          "output_type": "display_data",
          "data": {
            "application/vnd.jupyter.widget-view+json": {
              "model_id": "e6cf4f0799c94e77827385899867943e",
              "version_minor": 0,
              "version_major": 2
            },
            "text/plain": [
              "HBox(children=(FloatProgress(value=0.0, max=1.0), HTML(value='')))"
            ]
          },
          "metadata": {
            "tags": []
          }
        },
        {
          "output_type": "stream",
          "text": [
            "\n"
          ],
          "name": "stdout"
        },
        {
          "output_type": "display_data",
          "data": {
            "application/vnd.jupyter.widget-view+json": {
              "model_id": "db58cbb663c5428f8052b1b5a50f6d93",
              "version_minor": 0,
              "version_major": 2
            },
            "text/plain": [
              "HBox(children=(FloatProgress(value=0.0, max=1.0), HTML(value='')))"
            ]
          },
          "metadata": {
            "tags": []
          }
        },
        {
          "output_type": "stream",
          "text": [
            "\n"
          ],
          "name": "stdout"
        }
      ]
    },
    {
      "cell_type": "markdown",
      "metadata": {
        "id": "7oVgE8RZSJNP"
      },
      "source": [
        "Now, we create the union of all distinct letters in the training dataset and test dataset and convert the resulting list into an enumerated dictionary."
      ]
    },
    {
      "cell_type": "code",
      "metadata": {
        "id": "aQfneNsmlJI0"
      },
      "source": [
        "vocab_list = list(set(vocabs[\"train\"][\"vocab\"][0]) | set(vocabs[\"test\"][\"vocab\"][0]))"
      ],
      "execution_count": null,
      "outputs": []
    },
    {
      "cell_type": "code",
      "metadata": {
        "id": "_0kRndSvqaKk",
        "colab": {
          "base_uri": "https://localhost:8080/"
        },
        "outputId": "a51ea1f7-e324-4b08-e925-dfada632f259"
      },
      "source": [
        "vocab_dict = {v: k for k, v in enumerate(vocab_list)}\n",
        "vocab_dict"
      ],
      "execution_count": null,
      "outputs": [
        {
          "output_type": "execute_result",
          "data": {
            "text/plain": [
              "{' ': 28,\n",
              " 'C': 45,\n",
              " 'J': 5,\n",
              " 'O': 19,\n",
              " 'P': 16,\n",
              " 'S': 43,\n",
              " 'W': 18,\n",
              " 'Y': 51,\n",
              " 'b': 52,\n",
              " 'd': 9,\n",
              " 'e': 26,\n",
              " 'f': 46,\n",
              " 'g': 34,\n",
              " 'h': 14,\n",
              " 'i': 27,\n",
              " 'j': 48,\n",
              " 'k': 15,\n",
              " 'l': 49,\n",
              " 'm': 21,\n",
              " 'n': 8,\n",
              " 'o': 30,\n",
              " 'p': 11,\n",
              " 's': 36,\n",
              " 't': 47,\n",
              " 'u': 20,\n",
              " 'v': 31,\n",
              " 'w': 3,\n",
              " 'z': 23,\n",
              " 'æ': 10,\n",
              " 'ð': 37,\n",
              " 'ŋ': 7,\n",
              " 'ɑ': 4,\n",
              " 'ɔ': 54,\n",
              " 'ə': 0,\n",
              " 'ɚ': 24,\n",
              " 'ɛ': 25,\n",
              " 'ɝ': 2,\n",
              " 'ɡ': 50,\n",
              " 'ɦ': 22,\n",
              " 'ɨ': 1,\n",
              " 'ɪ': 35,\n",
              " 'ɹ': 13,\n",
              " 'ɾ': 33,\n",
              " 'ʃ': 39,\n",
              " 'ʉ': 17,\n",
              " 'ʊ': 40,\n",
              " 'ʌ': 41,\n",
              " 'ʒ': 12,\n",
              " 'ʔ': 53,\n",
              " '̃': 29,\n",
              " '̍': 32,\n",
              " '̚': 6,\n",
              " '̥': 42,\n",
              " '̩': 44,\n",
              " 'θ': 38}"
            ]
          },
          "metadata": {
            "tags": []
          },
          "execution_count": 24
        }
      ]
    },
    {
      "cell_type": "markdown",
      "metadata": {
        "id": "JOSzbvs9SXT1"
      },
      "source": [
        "Cool, we see that all letters of the alphabet occur in the dataset (which is not really surprising) and we also extracted the special characters `\" \"` and `'`. Note that we did not exclude those special characters because: \n",
        "\n",
        "- The model has to learn to predict when a word finished or else the model prediction would always be a sequence of chars which would make it impossible to separate words from each other.\n",
        "- In English, we need to keep the `'` character to differentiate between words, *e.g.*, `\"it's\"` and `\"its\"` which have very different meanings."
      ]
    },
    {
      "cell_type": "markdown",
      "metadata": {
        "id": "b1fBRCn-TRaO"
      },
      "source": [
        "To make it clearer that `\" \"` has its own token class, we give it a more visible character `|`. In addition, we also add an \"unknown\" token so that the model can later deal with characters not encountered in Timit's training set. \n",
        "\n",
        "Finally, we also add a padding token that corresponds to CTC's \"*blank token*\". The \"blank token\" is a core component of the CTC algorithm. For more information, please take a look at the \"Alignment\" section [here](https://distill.pub/2017/ctc/)."
      ]
    },
    {
      "cell_type": "code",
      "metadata": {
        "id": "npbIbBoLgaFX"
      },
      "source": [
        "vocab_dict[\"|\"] = vocab_dict[\" \"]\n",
        "del vocab_dict[\" \"]"
      ],
      "execution_count": null,
      "outputs": []
    },
    {
      "cell_type": "code",
      "metadata": {
        "id": "znF0bNunsjbl",
        "colab": {
          "base_uri": "https://localhost:8080/"
        },
        "outputId": "15af3609-b910-4b0b-e1a9-9c15b2e3b074"
      },
      "source": [
        "vocab_dict[\"[UNK]\"] = len(vocab_dict)\n",
        "vocab_dict[\"[PAD]\"] = len(vocab_dict)\n",
        "len(vocab_dict)"
      ],
      "execution_count": null,
      "outputs": [
        {
          "output_type": "execute_result",
          "data": {
            "text/plain": [
              "57"
            ]
          },
          "metadata": {
            "tags": []
          },
          "execution_count": 26
        }
      ]
    },
    {
      "cell_type": "markdown",
      "metadata": {
        "id": "SFPGfet8U5sL"
      },
      "source": [
        "Cool, now our vocabulary is complete and consists of 30 tokens, which means that the linear layer that we will add on top of the pretrained Wav2Vec2 checkpoint will have an output dimension of 30."
      ]
    },
    {
      "cell_type": "markdown",
      "metadata": {
        "id": "1CujRgBNVRaD"
      },
      "source": [
        "Let's now save the vocabulary as a json file."
      ]
    },
    {
      "cell_type": "code",
      "metadata": {
        "id": "ehyUoh9vk191"
      },
      "source": [
        "import json\n",
        "with open('vocab.json', 'w') as vocab_file:\n",
        "    json.dump(vocab_dict, vocab_file)"
      ],
      "execution_count": null,
      "outputs": []
    },
    {
      "cell_type": "markdown",
      "metadata": {
        "id": "SHJDaKlIVVim"
      },
      "source": [
        "In a final step, we use the json file to instantiate an object of the `Wav2Vec2CTCTokenizer` class."
      ]
    },
    {
      "cell_type": "code",
      "metadata": {
        "id": "xriFGEWQkO4M"
      },
      "source": [
        "from transformers import Wav2Vec2CTCTokenizer\n",
        "\n",
        "tokenizer = Wav2Vec2CTCTokenizer(\"./vocab.json\", unk_token=\"[UNK]\", pad_token=\"[PAD]\", word_delimiter_token=\"|\")"
      ],
      "execution_count": null,
      "outputs": []
    },
    {
      "cell_type": "markdown",
      "metadata": {
        "id": "KvL12DrNV4cx"
      },
      "source": [
        "Next, we will create the feature extractor."
      ]
    },
    {
      "cell_type": "markdown",
      "metadata": {
        "id": "mYcIiR2FQ96i"
      },
      "source": [
        "### Create Wav2Vec2 Feature Extractor"
      ]
    },
    {
      "cell_type": "markdown",
      "metadata": {
        "id": "Y6mDEyW719rx"
      },
      "source": [
        "Speech is a continuous signal and to be treated by computers, it first has to be discretized, which is usually called **sampling**. The sampling rate hereby plays an important role in that it defines how many data points of the speech signal are measured per second. Therefore, sampling with a higher sampling rate results in a better approximation of the *real* speech signal but also necessitates more values per second.\n",
        "\n",
        "A pretrained checkpoint expects its input data to have been sampled more or less from the same distribution as the data it was trained on. The same speech signals sampled at two different rates have a very different distribution, *e.g.*, doubling the sampling rate results in data points being twice as long. Thus, \n",
        "before fine-tuning a pretrained checkpoint of an ASR model, it is crucial to verify that the sampling rate of the data that was used to pretrain the model matches the sampling rate of the dataset used to fine-tune the model.\n",
        "\n",
        "Wav2Vec2 was pretrained on the audio data of [LibriSpeech](https://huggingface.co/datasets/librispeech_asr) and LibriVox which both were sampling with 16kHz. Our fine-tuning dataset, [Timit](hhtps://huggingface.co/datasets/timit_asr), was luckily also sampled with 16kHz. If the fine-tuning dataset would have been sampled with a rate lower or higher than 16kHz, we first would have had to up or downsample the speech signal to match the sampling rate of the data used for pretraining. \n",
        "\n"
      ]
    },
    {
      "cell_type": "markdown",
      "metadata": {
        "id": "KuUbPW7oV-B5"
      },
      "source": [
        "A Wav2Vec2 feature extractor object requires the following parameters to be instantiated:\n",
        "\n",
        "- `feature_size`: Speech models take a sequence of feature vectors as an input. While the length of this sequence obviously varies, the feature size should not. In the case of Wav2Vec2, the feature size is 1 because the model was trained on the raw speech signal ${}^2$.\n",
        "- `sampling_rate`: The sampling rate at which the model is trained on.\n",
        "- `padding_value`: For batched inference, shorter inputs need to be padded with a specific value\n",
        "- `do_normalize`: Whether the input should be *zero-mean-unit-variance* normalized or not. Usually, speech models perform better when normalizing the input\n",
        "- `return_attention_mask`: Whether the model should make use of an `attention_mask` for batched inference. In general, models should **always** make use of the `attention_mask` to mask padded tokens. However, due to a very specific design choice of `Wav2Vec2`'s \"base\" checkpoint, better results are achieved when using no `attention_mask`. This is **not** recommended for other speech models. For more information, one can take a look at [this](https://github.com/pytorch/fairseq/issues/3227) issue. **Important** If you want to use this notebook to fine-tune [large-lv60](https://huggingface.co/facebook/wav2vec2-large-lv60), this parameter should be set to `True`."
      ]
    },
    {
      "cell_type": "code",
      "metadata": {
        "id": "kAR0-2KLkopp"
      },
      "source": [
        "from transformers import Wav2Vec2FeatureExtractor\n",
        "\n",
        "feature_extractor = Wav2Vec2FeatureExtractor(feature_size=1, sampling_rate=16000, padding_value=0.0, do_normalize=True, return_attention_mask=False)"
      ],
      "execution_count": null,
      "outputs": []
    },
    {
      "cell_type": "markdown",
      "metadata": {
        "id": "qUETetgqYC3W"
      },
      "source": [
        "Great, Wav2Vec2's feature extraction pipeline is thereby fully defined!\n",
        "\n",
        "To make the usage of Wav2Vec2 as user-friendly as possible, the feature extractor and tokenizer are *wrapped* into a single `Wav2Vec2Processor` class so that one only needs a `model` and `processor` object."
      ]
    },
    {
      "cell_type": "code",
      "metadata": {
        "id": "KYZtoW-tlZgl"
      },
      "source": [
        "from transformers import Wav2Vec2Processor\n",
        "\n",
        "processor = Wav2Vec2Processor(feature_extractor=feature_extractor, tokenizer=tokenizer)"
      ],
      "execution_count": null,
      "outputs": []
    },
    {
      "cell_type": "markdown",
      "metadata": {
        "id": "fTfFDSS0YfMN"
      },
      "source": [
        "If one wants to re-use the just created processor and the fine-tuned model of this notebook, one can mount his/her google drive to the notebook and save all relevant files there. To do so, please uncomment the following lines. \n",
        "\n",
        "We will give the fine-tuned model the name `\"wav2vec2-base-timit-demo\"`."
      ]
    },
    {
      "cell_type": "code",
      "metadata": {
        "id": "yq7Bzuzz4zjQ"
      },
      "source": [
        "# from google.colab import drive\n",
        "# drive.mount('/content/gdrive/')"
      ],
      "execution_count": null,
      "outputs": []
    },
    {
      "cell_type": "code",
      "metadata": {
        "id": "Par9rpypPsml"
      },
      "source": [
        "# processor.save_pretrained(\"/content/gdrive/MyDrive/wav2vec2-base-timit-demo\")"
      ],
      "execution_count": null,
      "outputs": []
    },
    {
      "cell_type": "markdown",
      "metadata": {
        "id": "DrKnYuvDIoOO"
      },
      "source": [
        "Next, we can prepare the dataset."
      ]
    },
    {
      "cell_type": "markdown",
      "metadata": {
        "id": "YFmShnl7RE35"
      },
      "source": [
        "### Preprocess Data\n",
        "\n",
        "So far, we have not looked at the actual values of the speech signal but just kept the path to its file in the dataset. `Wav2Vec2` expects the audio file in the format of a 1-dimensional array, so in the first step, let's load all audio files into the dataset object.\n",
        "\n",
        "Let's first check the serialization format of the downloaded audio files by looking at the first training sample."
      ]
    },
    {
      "cell_type": "code",
      "metadata": {
        "id": "TTCS7W6XJ9BG",
        "colab": {
          "base_uri": "https://localhost:8080/"
        },
        "outputId": "c5a7f2ae-512e-4d45-a733-09080c127ac1"
      },
      "source": [
        "timit[\"test\"][0]"
      ],
      "execution_count": null,
      "outputs": [
        {
          "output_type": "execute_result",
          "data": {
            "text/plain": [
              "{'file': '/root/.cache/huggingface/datasets/downloads/extracted/404950a46da14eac65eb4e2a8317b1372fb3971d980d91d5d5b221275b1fd7e0/data/TEST/DR4/MGMM0/SX139.WAV',\n",
              " 'ipa': 'ðəb̚bʌŋgəlowəzp̚plɛzənʔlisɪt̚Cuweɾɨd̚nɪɚðɨʃɔɹ ',\n",
              " 'phonetic_codes': ['dh',\n",
              "  'ax',\n",
              "  'bcl',\n",
              "  'b',\n",
              "  'ah',\n",
              "  'ng',\n",
              "  'g',\n",
              "  'ax',\n",
              "  'l',\n",
              "  'ow',\n",
              "  'w',\n",
              "  'ax',\n",
              "  'z',\n",
              "  'pcl',\n",
              "  'p',\n",
              "  'l',\n",
              "  'eh',\n",
              "  'z',\n",
              "  'ax',\n",
              "  'n',\n",
              "  'q',\n",
              "  'l',\n",
              "  'iy',\n",
              "  's',\n",
              "  'ih',\n",
              "  'tcl',\n",
              "  'ch',\n",
              "  'uw',\n",
              "  'w',\n",
              "  'ey',\n",
              "  'dx',\n",
              "  'ix',\n",
              "  'dcl',\n",
              "  'n',\n",
              "  'ih',\n",
              "  'axr',\n",
              "  'dh',\n",
              "  'ix',\n",
              "  'sh',\n",
              "  'ao',\n",
              "  'r']}"
            ]
          },
          "metadata": {
            "tags": []
          },
          "execution_count": 35
        }
      ]
    },
    {
      "cell_type": "markdown",
      "metadata": {
        "id": "wSBIGEiaKHMn"
      },
      "source": [
        "Alright, the audio file is saved in the `.WAV` format. There are a couple of python-based libraries to read and process audio files, such as [librosa](https://github.com/librosa/librosa), [soundfile](https://github.com/bastibe/python-soundfile), and [audioread](https://github.com/beetbox/audioread). \n",
        "\n",
        "`librosa` seems to be the most active and prominent library, but since it depends on `soundfile` for loading of audio files, we will just use `soundfile` directly in this notebook.\n",
        "\n",
        "An audio file usually stores both its values and the sampling rate with which the speech signal was digitalized. We want to store both in the dataset and write a `map(...)` function accordingly."
      ]
    },
    {
      "cell_type": "code",
      "metadata": {
        "id": "al9Luo4LPpwJ"
      },
      "source": [
        "import soundfile as sf\n",
        "\n",
        "def speech_file_to_array_fn(batch):\n",
        "    speech_array, sampling_rate = sf.read(batch[\"file\"])\n",
        "    batch[\"speech\"] = speech_array\n",
        "    batch[\"sampling_rate\"] = sampling_rate\n",
        "    batch[\"target_text\"] = batch[\"ipa\"]\n",
        "    return batch"
      ],
      "execution_count": null,
      "outputs": []
    },
    {
      "cell_type": "code",
      "metadata": {
        "id": "afeicUeWlrRL",
        "colab": {
          "base_uri": "https://localhost:8080/"
        },
        "outputId": "73576003-227c-4c79-8e72-500dad7446bd"
      },
      "source": [
        "timit = timit.map(speech_file_to_array_fn, remove_columns=timit.column_names[\"train\"], num_proc=4)"
      ],
      "execution_count": null,
      "outputs": [
        {
          "output_type": "stream",
          "text": [
            " "
          ],
          "name": "stdout"
        },
        {
          "output_type": "stream",
          "text": [
            "Loading cached processed dataset at /root/.cache/huggingface/datasets/timit_asr/clean/2.0.1/e7245f262bb418c1a5c67d67e00297322b1ad19eb65223676b790aa8003449e4/cache-597c21d2f585369e.arrow\n"
          ],
          "name": "stderr"
        },
        {
          "output_type": "stream",
          "text": [
            "  "
          ],
          "name": "stdout"
        },
        {
          "output_type": "stream",
          "text": [
            "Loading cached processed dataset at /root/.cache/huggingface/datasets/timit_asr/clean/2.0.1/e7245f262bb418c1a5c67d67e00297322b1ad19eb65223676b790aa8003449e4/cache-0826e5cb1bb7041a.arrow\n",
            "Loading cached processed dataset at /root/.cache/huggingface/datasets/timit_asr/clean/2.0.1/e7245f262bb418c1a5c67d67e00297322b1ad19eb65223676b790aa8003449e4/cache-d72ee3c8dffe87fb.arrow\n"
          ],
          "name": "stderr"
        },
        {
          "output_type": "stream",
          "text": [
            " "
          ],
          "name": "stdout"
        },
        {
          "output_type": "stream",
          "text": [
            "Loading cached processed dataset at /root/.cache/huggingface/datasets/timit_asr/clean/2.0.1/e7245f262bb418c1a5c67d67e00297322b1ad19eb65223676b790aa8003449e4/cache-bb334f7412c5945c.arrow\n"
          ],
          "name": "stderr"
        },
        {
          "output_type": "stream",
          "text": [
            " "
          ],
          "name": "stdout"
        },
        {
          "output_type": "stream",
          "text": [
            "Loading cached processed dataset at /root/.cache/huggingface/datasets/timit_asr/clean/2.0.1/e7245f262bb418c1a5c67d67e00297322b1ad19eb65223676b790aa8003449e4/cache-6a29ba07b8babe43.arrow\n"
          ],
          "name": "stderr"
        },
        {
          "output_type": "stream",
          "text": [
            "  "
          ],
          "name": "stdout"
        },
        {
          "output_type": "stream",
          "text": [
            "Loading cached processed dataset at /root/.cache/huggingface/datasets/timit_asr/clean/2.0.1/e7245f262bb418c1a5c67d67e00297322b1ad19eb65223676b790aa8003449e4/cache-b0ddc0bffdc0baea.arrow\n",
            "Loading cached processed dataset at /root/.cache/huggingface/datasets/timit_asr/clean/2.0.1/e7245f262bb418c1a5c67d67e00297322b1ad19eb65223676b790aa8003449e4/cache-74726f9500b2fc72.arrow\n"
          ],
          "name": "stderr"
        },
        {
          "output_type": "stream",
          "text": [
            " "
          ],
          "name": "stdout"
        },
        {
          "output_type": "stream",
          "text": [
            "Loading cached processed dataset at /root/.cache/huggingface/datasets/timit_asr/clean/2.0.1/e7245f262bb418c1a5c67d67e00297322b1ad19eb65223676b790aa8003449e4/cache-f95a82995f3d295d.arrow\n"
          ],
          "name": "stderr"
        }
      ]
    },
    {
      "cell_type": "markdown",
      "metadata": {
        "id": "SOckzFd4Mbzq"
      },
      "source": [
        "Great, let's listen to a couple of audio files to better understand the dataset and verify that the audio was correctly loaded. \n",
        "\n",
        "**Note**: *You can click the following cell a couple of times to listen to different speech samples.*"
      ]
    },
    {
      "cell_type": "code",
      "metadata": {
        "id": "dueM6U7Ev0OA",
        "colab": {
          "base_uri": "https://localhost:8080/",
          "height": 75
        },
        "outputId": "5358eb74-8706-4f44-84c1-7d26128f0be7"
      },
      "source": [
        "import IPython.display as ipd\n",
        "import numpy as np\n",
        "import random\n",
        "\n",
        "rand_int = random.randint(0, len(timit[\"train\"]))\n",
        "\n",
        "ipd.Audio(data=np.asarray(timit[\"train\"][rand_int][\"speech\"]), autoplay=True, rate=16000)"
      ],
      "execution_count": null,
      "outputs": [
        {
          "output_type": "execute_result",
          "data": {
            "text/html": [
              "\n",
              "                <audio controls=\"controls\" autoplay=\"autoplay\">\n",
              "                    <source src=\"data:audio/wav;base64,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\" type=\"audio/wav\" />\n",
              "                    Your browser does not support the audio element.\n",
              "                </audio>\n",
              "              "
            ],
            "text/plain": [
              "<IPython.lib.display.Audio object>"
            ]
          },
          "metadata": {
            "tags": []
          },
          "execution_count": 38
        }
      ]
    },
    {
      "cell_type": "markdown",
      "metadata": {
        "id": "1MaL9J2dNVtG"
      },
      "source": [
        "It can be heard, that the speakers change along with their speaking rate, accent, etc. Overall, the recordings sound relatively clear though, which is to be expected from a read speech corpus.\n",
        "\n",
        "Let's do a final check that the data is correctly prepared, but printing the shape of the speech input, its transcription, and the corresponding sampling rate.\n",
        "\n",
        "**Note**: *You can click the following cell a couple of times to verify multiple samples.*"
      ]
    },
    {
      "cell_type": "code",
      "metadata": {
        "id": "1Po2g7YPuRTx",
        "colab": {
          "base_uri": "https://localhost:8080/"
        },
        "outputId": "b200d998-3efa-4f92-80cd-659dcefc99b3"
      },
      "source": [
        "rand_int = random.randint(0, len(timit[\"train\"]))\n",
        "\n",
        "print(\"Target text:\", timit[\"train\"][rand_int][\"target_text\"])\n",
        "print(\"Input array shape:\", np.asarray(timit[\"train\"][rand_int][\"speech\"]).shape)\n",
        "print(\"Sampling rate:\", timit[\"train\"][rand_int][\"sampling_rate\"])"
      ],
      "execution_count": null,
      "outputs": [
        {
          "output_type": "stream",
          "text": [
            "Target text: doɾ̃æsk̚kmiɾɨk̚kɛɹiɛnoliɹæɡ̚lYk̚kðæt̚ \n",
            "Input array shape: (45466,)\n",
            "Sampling rate: 16000\n"
          ],
          "name": "stdout"
        }
      ]
    },
    {
      "cell_type": "markdown",
      "metadata": {
        "id": "M9teZcSwOBJ4"
      },
      "source": [
        "Good! Everything looks fine - the data is a 1-dimensional array, the sampling rate always corresponds to 16kHz, and the target text is normalized."
      ]
    },
    {
      "cell_type": "markdown",
      "metadata": {
        "id": "k3Pbn5WvOYZF"
      },
      "source": [
        "Finally, we can process the dataset to the format expected by the model for training. We will again make use of the `map(...)` function.\n",
        "\n",
        "First, we check that all data samples have the same sampling rate (of 16kHz).\n",
        "Second, we extract the `input_values` from the loaded audio file. In our case, this includes only normalization, but for other speech models, this step could correspond to extracting, *e.g.* [Log-Mel features](https://en.wikipedia.org/wiki/Mel-frequency_cepstrum). \n",
        "Third, we encode the transcriptions to label ids.\n",
        "\n",
        "**Note**: This mapping function is a good example of how the `Wav2Vec2Processor` class should be used. In \"normal\" context, calling `processor(...)` is redirected to `Wav2Vec2FeatureExtractor`'s call method. When wrapping the processor into the `as_target_processor` context, however, the same method is redirected to `Wav2Vec2CTCTokenizer`'s call method.\n",
        "For more information please check the [docs](https://huggingface.co/transformers/master/model_doc/wav2vec2.html#transformers.Wav2Vec2Processor.__call__)."
      ]
    },
    {
      "cell_type": "code",
      "metadata": {
        "id": "eJY7I0XAwe9p"
      },
      "source": [
        "def prepare_dataset(batch):\n",
        "    # check that all files have the correct sampling rate\n",
        "    assert (\n",
        "        len(set(batch[\"sampling_rate\"])) == 1\n",
        "    ), f\"Make sure all inputs have the same sampling rate of {processor.feature_extractor.sampling_rate}.\"\n",
        "\n",
        "    batch[\"input_values\"] = processor(batch[\"speech\"], sampling_rate=batch[\"sampling_rate\"][0]).input_values\n",
        "    \n",
        "    with processor.as_target_processor():\n",
        "        batch[\"labels\"] = processor(batch[\"target_text\"]).input_ids\n",
        "    return batch"
      ],
      "execution_count": null,
      "outputs": []
    },
    {
      "cell_type": "code",
      "metadata": {
        "id": "-np9xYK-wl8q",
        "colab": {
          "base_uri": "https://localhost:8080/",
          "height": 735,
          "referenced_widgets": [
            "d7b502b349ef4ae7979c392614d7921a",
            "99be4740a04b440895462f8c609b8ca2",
            "38d1e3d38c69470f9aebf1462c1e77b5",
            "b496b36c85db48b89581550b7bb61c72",
            "b4cefe57ba3048ffbb3f5e14e0893ce7",
            "1cdd25b721b54b618d651a90c6558c4d",
            "26b3e153106a40a8bee51a43cc48ed40",
            "7f60e35fcec14a6a875fe60499d64866",
            "45d3c6a41ebe44bd882bfdf483053971",
            "907a25248d694d4ea323339e9329463b",
            "5a25bc22d13248659c80943ece36502a",
            "4a1581d2df774145ac29b38a7c9bb566",
            "4c072429588544c5af48a344f9848937",
            "8bdc91a879424cae99998259a191e195",
            "0cd617b4eb2541c09ea02741a6449fd6",
            "1eda265ac01447c3bd50b54548478b03",
            "26ce1a9132a9438b8a44c52302d85b61",
            "5fdeaefc67a246fb9717778d53285973",
            "8018b6fa50724d20adac39fb12fa148b",
            "07cf20166d434d95970d1345305cbace",
            "95620f3f3f204ac4839a6806e168fce3",
            "b87b31608ad94614ad9fedfcb685bc6e",
            "30356a479da340ad9a17ed8f53c19ee6",
            "da098f72ac914e3c843101461c80958f",
            "9e73f99f1d1b4ecdbfe0f0dc5844955a",
            "306eb8a6a382423fb144b20f2aa34984",
            "fe32247271f74190b10eef2bfcf2e507",
            "e228a9304970445196c9df6fc27716d6",
            "e8ea82049c2443fdbb0bcf23d3764df9",
            "210165189f7d4a128aeb461290266fa0",
            "029cacd0917745e4805c430f90ca6fb8",
            "40c650a488a145a5b6f11c37f993ec6e",
            "6b9edb92d58b43569ccc25249bd0c5fc",
            "47f69f01f0d34ee1a237d00d45b3f398",
            "4f8874fc37bd44f3ad2072216af11821",
            "98bf606e152845f7af422dfb79e875c3",
            "354c4391de0d409f94b11a1cff331484",
            "4e521bce60634da6a4c64f9b6d34b4a9",
            "42674dc5fcd0452b8128bf1401458f90",
            "8c74ee03e07f497088d72b3f55b521c3",
            "d9f69a77108e4a61a96dd4609fe4365c",
            "7f6de27e32554ba0943406b02b9a4b64",
            "e6a7354b5e74480d92c3be073d05c6cf",
            "fdeaaa2d47814caca542b6668ea219f1",
            "f978fd9701024c08a2c7d6dfc1b00554",
            "e3b3911f8c54445b85fdb72141bebd9b",
            "f4a32346155f4ef590b6d40288e68eb5",
            "ac0d30e3b3c9419d99b85ca6620d92b3",
            "b19107d7bb59426d8b8349189672bdce",
            "847526c9c641469e8a7e8aa1d0e05d55",
            "8ab1e36d6cda412aa9d61d562d37d4b3",
            "e2d6e675b6d24f8496393ec96d150ac7",
            "ca371478247248dd8baa3011a4fbfe47",
            "290657585fbd4ab6adcfb9a5b3fbd24d",
            "723be6a7ac554c69887a4b814492e7ed",
            "4037a8dd07484d15a52ad568801ec456",
            "d7080a9c2aa94ff1999c02269a1401d4",
            "a83640392e974feda2caf8bf2d8cb295",
            "7ffb88f51d7b42dc8753697e5caad80d",
            "b89a47dc39734fbdba859277c89e7d55",
            "171d534be17d4bc3a361a5d99e345fe7",
            "7ef86d04fdd0489386f585c455f98870",
            "b597d2bb04d34fddaca3f32c23b771ac",
            "6d10b5077e844e7385997f45276151a5"
          ]
        },
        "outputId": "7106fae8-af56-4561-97a0-b09a575f6cb2"
      },
      "source": [
        "timit_prepared = timit.map(prepare_dataset, remove_columns=timit.column_names[\"train\"], batch_size=8, num_proc=4, batched=True)"
      ],
      "execution_count": null,
      "outputs": [
        {
          "output_type": "stream",
          "text": [
            "    "
          ],
          "name": "stdout"
        },
        {
          "output_type": "display_data",
          "data": {
            "application/vnd.jupyter.widget-view+json": {
              "model_id": "d7b502b349ef4ae7979c392614d7921a",
              "version_minor": 0,
              "version_major": 2
            },
            "text/plain": [
              "HBox(children=(FloatProgress(value=0.0, description='#0', max=145.0, style=ProgressStyle(description_width='in…"
            ]
          },
          "metadata": {
            "tags": []
          }
        },
        {
          "output_type": "display_data",
          "data": {
            "application/vnd.jupyter.widget-view+json": {
              "model_id": "45d3c6a41ebe44bd882bfdf483053971",
              "version_minor": 0,
              "version_major": 2
            },
            "text/plain": [
              "HBox(children=(FloatProgress(value=0.0, description='#1', max=145.0, style=ProgressStyle(description_width='in…"
            ]
          },
          "metadata": {
            "tags": []
          }
        },
        {
          "output_type": "display_data",
          "data": {
            "application/vnd.jupyter.widget-view+json": {
              "model_id": "26ce1a9132a9438b8a44c52302d85b61",
              "version_minor": 0,
              "version_major": 2
            },
            "text/plain": [
              "HBox(children=(FloatProgress(value=0.0, description='#2', max=145.0, style=ProgressStyle(description_width='in…"
            ]
          },
          "metadata": {
            "tags": []
          }
        },
        {
          "output_type": "display_data",
          "data": {
            "application/vnd.jupyter.widget-view+json": {
              "model_id": "9e73f99f1d1b4ecdbfe0f0dc5844955a",
              "version_minor": 0,
              "version_major": 2
            },
            "text/plain": [
              "HBox(children=(FloatProgress(value=0.0, description='#3', max=145.0, style=ProgressStyle(description_width='in…"
            ]
          },
          "metadata": {
            "tags": []
          }
        },
        {
          "output_type": "stream",
          "text": [
            "/usr/local/lib/python3.7/dist-packages/numpy/core/_asarray.py:83: VisibleDeprecationWarning: Creating an ndarray from ragged nested sequences (which is a list-or-tuple of lists-or-tuples-or ndarrays with different lengths or shapes) is deprecated. If you meant to do this, you must specify 'dtype=object' when creating the ndarray\n",
            "  return array(a, dtype, copy=False, order=order)\n",
            "/usr/local/lib/python3.7/dist-packages/numpy/core/_asarray.py:83: VisibleDeprecationWarning: Creating an ndarray from ragged nested sequences (which is a list-or-tuple of lists-or-tuples-or ndarrays with different lengths or shapes) is deprecated. If you meant to do this, you must specify 'dtype=object' when creating the ndarray\n",
            "  return array(a, dtype, copy=False, order=order)\n",
            "/usr/local/lib/python3.7/dist-packages/numpy/core/_asarray.py:83: VisibleDeprecationWarning: Creating an ndarray from ragged nested sequences (which is a list-or-tuple of lists-or-tuples-or ndarrays with different lengths or shapes) is deprecated. If you meant to do this, you must specify 'dtype=object' when creating the ndarray\n",
            "  return array(a, dtype, copy=False, order=order)\n",
            "/usr/local/lib/python3.7/dist-packages/numpy/core/_asarray.py:83: VisibleDeprecationWarning: Creating an ndarray from ragged nested sequences (which is a list-or-tuple of lists-or-tuples-or ndarrays with different lengths or shapes) is deprecated. If you meant to do this, you must specify 'dtype=object' when creating the ndarray\n",
            "  return array(a, dtype, copy=False, order=order)\n"
          ],
          "name": "stderr"
        },
        {
          "output_type": "stream",
          "text": [
            "\n",
            "\n",
            "\n",
            "\n",
            "    "
          ],
          "name": "stdout"
        },
        {
          "output_type": "display_data",
          "data": {
            "application/vnd.jupyter.widget-view+json": {
              "model_id": "6b9edb92d58b43569ccc25249bd0c5fc",
              "version_minor": 0,
              "version_major": 2
            },
            "text/plain": [
              "HBox(children=(FloatProgress(value=0.0, description='#0', max=53.0, style=ProgressStyle(description_width='ini…"
            ]
          },
          "metadata": {
            "tags": []
          }
        },
        {
          "output_type": "display_data",
          "data": {
            "application/vnd.jupyter.widget-view+json": {
              "model_id": "d9f69a77108e4a61a96dd4609fe4365c",
              "version_minor": 0,
              "version_major": 2
            },
            "text/plain": [
              "HBox(children=(FloatProgress(value=0.0, description='#2', max=53.0, style=ProgressStyle(description_width='ini…"
            ]
          },
          "metadata": {
            "tags": []
          }
        },
        {
          "output_type": "display_data",
          "data": {
            "application/vnd.jupyter.widget-view+json": {
              "model_id": "b19107d7bb59426d8b8349189672bdce",
              "version_minor": 0,
              "version_major": 2
            },
            "text/plain": [
              "HBox(children=(FloatProgress(value=0.0, description='#1', max=53.0, style=ProgressStyle(description_width='ini…"
            ]
          },
          "metadata": {
            "tags": []
          }
        },
        {
          "output_type": "display_data",
          "data": {
            "application/vnd.jupyter.widget-view+json": {
              "model_id": "d7080a9c2aa94ff1999c02269a1401d4",
              "version_minor": 0,
              "version_major": 2
            },
            "text/plain": [
              "HBox(children=(FloatProgress(value=0.0, description='#3', max=53.0, style=ProgressStyle(description_width='ini…"
            ]
          },
          "metadata": {
            "tags": []
          }
        },
        {
          "output_type": "stream",
          "text": [
            "/usr/local/lib/python3.7/dist-packages/numpy/core/_asarray.py:83: VisibleDeprecationWarning: Creating an ndarray from ragged nested sequences (which is a list-or-tuple of lists-or-tuples-or ndarrays with different lengths or shapes) is deprecated. If you meant to do this, you must specify 'dtype=object' when creating the ndarray\n",
            "  return array(a, dtype, copy=False, order=order)\n",
            "/usr/local/lib/python3.7/dist-packages/numpy/core/_asarray.py:83: VisibleDeprecationWarning: Creating an ndarray from ragged nested sequences (which is a list-or-tuple of lists-or-tuples-or ndarrays with different lengths or shapes) is deprecated. If you meant to do this, you must specify 'dtype=object' when creating the ndarray\n",
            "  return array(a, dtype, copy=False, order=order)\n",
            "/usr/local/lib/python3.7/dist-packages/numpy/core/_asarray.py:83: VisibleDeprecationWarning: Creating an ndarray from ragged nested sequences (which is a list-or-tuple of lists-or-tuples-or ndarrays with different lengths or shapes) is deprecated. If you meant to do this, you must specify 'dtype=object' when creating the ndarray\n",
            "  return array(a, dtype, copy=False, order=order)\n",
            "/usr/local/lib/python3.7/dist-packages/numpy/core/_asarray.py:83: VisibleDeprecationWarning: Creating an ndarray from ragged nested sequences (which is a list-or-tuple of lists-or-tuples-or ndarrays with different lengths or shapes) is deprecated. If you meant to do this, you must specify 'dtype=object' when creating the ndarray\n",
            "  return array(a, dtype, copy=False, order=order)\n"
          ],
          "name": "stderr"
        },
        {
          "output_type": "stream",
          "text": [
            "\n",
            "\n",
            "\n",
            "\n"
          ],
          "name": "stdout"
        }
      ]
    },
    {
      "cell_type": "markdown",
      "metadata": {
        "id": "gYlQkKVoRUos"
      },
      "source": [
        "## Training & Evaluation\n",
        "\n",
        "The data is processed so that we are ready to start setting up the training pipeline. We will make use of 🤗's [Trainer](https://huggingface.co/transformers/master/main_classes/trainer.html?highlight=trainer) for which we essentially need to do the following:\n",
        "\n",
        "- Define a data collator. In contrast to most NLP models, Wav2Vec2 has a much larger input length than output length. *E.g.*, a sample of input length 50000 has an output length of no more than 100. Given the large input sizes, it is much more efficient to pad the training batches dynamically meaning that all training samples should only be padded to the longest sample in their batch and not the overall longest sample. Therefore, fine-tuning Wav2Vec2 requires a special padding data collator, which we will define below\n",
        "\n",
        "- Evaluation metric. During training, the model should be evaluated on the word error rate. We should define a `compute_metrics` function accordingly\n",
        "\n",
        "- Load a pretrained checkpoint. We need to load a pretrained checkpoint and configure it correctly for training.\n",
        "\n",
        "- Define the training configuration.\n",
        "\n",
        "After having fine-tuned the model, we will correctly evaluate it on the test data and verify that it has indeed learned to correctly transcribe speech."
      ]
    },
    {
      "cell_type": "markdown",
      "metadata": {
        "id": "Slk403unUS91"
      },
      "source": [
        "### Set-up Trainer\n",
        "\n",
        "Let's start by defining the data collator. The code for the data collator was copied from [this example](https://github.com/huggingface/transformers/blob/9a06b6b11bdfc42eea08fa91d0c737d1863c99e3/examples/research_projects/wav2vec2/run_asr.py#L81).\n",
        "\n",
        "Without going into too many details, in contrast to the common data collators, this data collator treats the `input_values` and `labels` differently and thus applies to separate padding functions on them (again making use of Wav2Vec2's context manager). This is necessary because in speech input and output are of different modalities meaning that they should not be treated by the same padding function.\n",
        "Analogous to the common data collators, the padding tokens in the labels with `-100` so that those tokens are **not** taken into account when computing the loss."
      ]
    },
    {
      "cell_type": "code",
      "metadata": {
        "id": "tborvC9hx88e"
      },
      "source": [
        "import torch\n",
        "\n",
        "from dataclasses import dataclass, field\n",
        "from typing import Any, Dict, List, Optional, Union\n",
        "\n",
        "@dataclass\n",
        "class DataCollatorCTCWithPadding:\n",
        "    \"\"\"\n",
        "    Data collator that will dynamically pad the inputs received.\n",
        "    Args:\n",
        "        processor (:class:`~transformers.Wav2Vec2Processor`)\n",
        "            The processor used for proccessing the data.\n",
        "        padding (:obj:`bool`, :obj:`str` or :class:`~transformers.tokenization_utils_base.PaddingStrategy`, `optional`, defaults to :obj:`True`):\n",
        "            Select a strategy to pad the returned sequences (according to the model's padding side and padding index)\n",
        "            among:\n",
        "            * :obj:`True` or :obj:`'longest'`: Pad to the longest sequence in the batch (or no padding if only a single\n",
        "              sequence if provided).\n",
        "            * :obj:`'max_length'`: Pad to a maximum length specified with the argument :obj:`max_length` or to the\n",
        "              maximum acceptable input length for the model if that argument is not provided.\n",
        "            * :obj:`False` or :obj:`'do_not_pad'` (default): No padding (i.e., can output a batch with sequences of\n",
        "              different lengths).\n",
        "        max_length (:obj:`int`, `optional`):\n",
        "            Maximum length of the ``input_values`` of the returned list and optionally padding length (see above).\n",
        "        max_length_labels (:obj:`int`, `optional`):\n",
        "            Maximum length of the ``labels`` returned list and optionally padding length (see above).\n",
        "        pad_to_multiple_of (:obj:`int`, `optional`):\n",
        "            If set will pad the sequence to a multiple of the provided value.\n",
        "            This is especially useful to enable the use of Tensor Cores on NVIDIA hardware with compute capability >=\n",
        "            7.5 (Volta).\n",
        "    \"\"\"\n",
        "\n",
        "    processor: Wav2Vec2Processor\n",
        "    padding: Union[bool, str] = True\n",
        "    max_length: Optional[int] = None\n",
        "    max_length_labels: Optional[int] = None\n",
        "    pad_to_multiple_of: Optional[int] = None\n",
        "    pad_to_multiple_of_labels: Optional[int] = None\n",
        "\n",
        "    def __call__(self, features: List[Dict[str, Union[List[int], torch.Tensor]]]) -> Dict[str, torch.Tensor]:\n",
        "        # split inputs and labels since they have to be of different lenghts and need\n",
        "        # different padding methods\n",
        "        input_features = [{\"input_values\": feature[\"input_values\"]} for feature in features]\n",
        "        label_features = [{\"input_ids\": feature[\"labels\"]} for feature in features]\n",
        "\n",
        "        batch = self.processor.pad(\n",
        "            input_features,\n",
        "            padding=self.padding,\n",
        "            max_length=self.max_length,\n",
        "            pad_to_multiple_of=self.pad_to_multiple_of,\n",
        "            return_tensors=\"pt\",\n",
        "        )\n",
        "        with self.processor.as_target_processor():\n",
        "            labels_batch = self.processor.pad(\n",
        "                label_features,\n",
        "                padding=self.padding,\n",
        "                max_length=self.max_length_labels,\n",
        "                pad_to_multiple_of=self.pad_to_multiple_of_labels,\n",
        "                return_tensors=\"pt\",\n",
        "            )\n",
        "\n",
        "        # replace padding with -100 to ignore loss correctly\n",
        "        labels = labels_batch[\"input_ids\"].masked_fill(labels_batch.attention_mask.ne(1), -100)\n",
        "\n",
        "        batch[\"labels\"] = labels\n",
        "\n",
        "        return batch"
      ],
      "execution_count": null,
      "outputs": []
    },
    {
      "cell_type": "code",
      "metadata": {
        "id": "lbQf5GuZyQ4_"
      },
      "source": [
        "data_collator = DataCollatorCTCWithPadding(processor=processor, padding=True)"
      ],
      "execution_count": null,
      "outputs": []
    },
    {
      "cell_type": "markdown",
      "metadata": {
        "id": "xO-Zdj-5cxXp"
      },
      "source": [
        "Next, the evaluation metric is defined. As mentioned earlier, the \n",
        "predominant metric in ASR is the word error rate (WER), hence we will use it in this notebook as well."
      ]
    },
    {
      "cell_type": "code",
      "metadata": {
        "id": "9Xsux2gmyXso"
      },
      "source": [
        "# wer_metric = load_metric(\"wer\")\n",
        "# cer_metric = load_metric('ctl/wav2vec2-large-xlsr-cantonese/cer.py')"
      ],
      "execution_count": null,
      "outputs": []
    },
    {
      "cell_type": "markdown",
      "metadata": {
        "id": "E1qZU5p-deqB"
      },
      "source": [
        "The model will return a sequence of logit vectors:\n",
        "$\\mathbf{y}_1, \\ldots, \\mathbf{y}_m$ with $\\mathbf{y}_1 = f_{\\theta}(x_1, \\ldots, x_n)[0]$ and $n >> m$.\n",
        "\n",
        "A logit vector $\\mathbf{y}_1$ contains the log-odds for each word in the vocabulary we defined earlier, thus $\\text{len}(\\mathbf{y}_i) =$ `config.vocab_size`. We are interested in the most likely prediction of the model and thus take the `argmax(...)` of the logits. Also, we transform the encoded labels back to the original string by replacing `-100` with the `pad_token_id` and decoding the ids while making sure that consecutive tokens are **not** grouped to the same token in CTC style ${}^1$."
      ]
    },
    {
      "cell_type": "code",
      "metadata": {
        "id": "Qy098wO1H7AC"
      },
      "source": [
        "from jiwer import wer"
      ],
      "execution_count": null,
      "outputs": []
    },
    {
      "cell_type": "code",
      "metadata": {
        "id": "1XZ-kjweyTy_"
      },
      "source": [
        "def compute_metrics(pred):\n",
        "    pred_logits = pred.predictions\n",
        "    pred_ids = np.argmax(pred_logits, axis=-1)\n",
        "\n",
        "    pred.label_ids[pred.label_ids == -100] = processor.tokenizer.pad_token_id\n",
        "\n",
        "    pred_str = processor.batch_decode(pred_ids)\n",
        "    # we do not want to group tokens when computing the metrics\n",
        "    label_str = processor.batch_decode(pred.label_ids, group_tokens=False)\n",
        "\n",
        "    # wer = wer_metric.compute(predictions=pred_str, references=label_str)\n",
        "    # cer = fastwer.score(pred_str, label_str, char_level=True)\n",
        "    # cer = word_error_rate(hypotheses=pred_str, references=label_str, use_cer=True)\n",
        "\n",
        "    # ref: https://huggingface.co/ctl/wav2vec2-large-xlsr-cantonese/blob/main/cer.py\n",
        "    preds = [char for seq in pred_str for char in list(seq)]\n",
        "    refs = [char for seq in label_str for char in list(seq)]\n",
        "    cer = wer(refs, preds)\n",
        "\n",
        "    return {\"cer\": cer}\n",
        "    # return {\"wer\": wer}"
      ],
      "execution_count": null,
      "outputs": []
    },
    {
      "cell_type": "code",
      "metadata": {
        "colab": {
          "base_uri": "https://localhost:8080/"
        },
        "id": "ZOhV4yVgHp0d",
        "outputId": "05595e2c-a373-4cd1-cf75-023e737b9644"
      },
      "source": [
        "# testing\n",
        "label_str = 'aab'\n",
        "pred_str = 'aaac'\n",
        "preds = [char for seq in pred_str for char in list(seq)]\n",
        "refs = [char for seq in label_str for char in list(seq)]\n",
        "cer = wer(refs, preds)\n",
        "print(cer)"
      ],
      "execution_count": null,
      "outputs": [
        {
          "output_type": "stream",
          "text": [
            "0.6666666666666666\n"
          ],
          "name": "stdout"
        }
      ]
    },
    {
      "cell_type": "markdown",
      "metadata": {
        "id": "Xmgrx4bRwLIH"
      },
      "source": [
        "Now, we can load the pretrained `Wav2Vec2` checkpoint. The tokenizer's `pad_token_id` must be to define the model's `pad_token_id` or in the case of `Wav2Vec2ForCTC` also CTC's *blank token* ${}^2$. To save GPU memory, we enable PyTorch's [gradient checkpointing](https://pytorch.org/docs/stable/checkpoint.html) and also set the loss reduction to \"*mean*\"."
      ]
    },
    {
      "cell_type": "code",
      "metadata": {
        "id": "e7cqAWIayn6w",
        "colab": {
          "base_uri": "https://localhost:8080/"
        },
        "outputId": "a21b42f6-7c11-400f-a1d8-27ce282f7dd6"
      },
      "source": [
        "from transformers import Wav2Vec2ForCTC\n",
        "\n",
        "# model = Wav2Vec2ForCTC.from_pretrained(\n",
        "#     \"facebook/wav2vec2-base\", \n",
        "#     gradient_checkpointing=True, \n",
        "#     ctc_loss_reduction=\"mean\", \n",
        "#     pad_token_id=processor.tokenizer.pad_token_id,\n",
        "# )\n",
        "\n",
        "model = Wav2Vec2ForCTC.from_pretrained(\n",
        "    \"facebook/wav2vec2-large-xlsr-53\", \n",
        "    attention_dropout=0.1,\n",
        "    hidden_dropout=0.1,\n",
        "    feat_proj_dropout=0.0,\n",
        "    mask_time_prob=0.05,\n",
        "    layerdrop=0.1,\n",
        "    gradient_checkpointing=True, \n",
        "    ctc_loss_reduction=\"mean\", \n",
        "    pad_token_id=processor.tokenizer.pad_token_id,\n",
        "    vocab_size=len(processor.tokenizer)\n",
        ")"
      ],
      "execution_count": null,
      "outputs": [
        {
          "output_type": "stream",
          "text": [
            "Some weights of Wav2Vec2ForCTC were not initialized from the model checkpoint at facebook/wav2vec2-large-xlsr-53 and are newly initialized: ['lm_head.weight', 'lm_head.bias']\n",
            "You should probably TRAIN this model on a down-stream task to be able to use it for predictions and inference.\n"
          ],
          "name": "stderr"
        }
      ]
    },
    {
      "cell_type": "markdown",
      "metadata": {
        "id": "1DwR3XLSzGDD"
      },
      "source": [
        "The first component of Wav2Vec2 consists of a stack of CNN layers that are used to extract acoustically meaningful - but contextually independent - features from the raw speech signal. This part of the model has already been sufficiently trained during pretrainind and as stated in the [paper](https://arxiv.org/abs/2006.11477) does not need to be fine-tuned anymore. \n",
        "Thus, we can set the `requires_grad` to `False` for all parameters of the *feature extraction* part."
      ]
    },
    {
      "cell_type": "code",
      "metadata": {
        "id": "oGI8zObtZ3V0"
      },
      "source": [
        "model.freeze_feature_extractor()"
      ],
      "execution_count": null,
      "outputs": []
    },
    {
      "cell_type": "markdown",
      "metadata": {
        "id": "lD4aGhQM0K-D"
      },
      "source": [
        "In a final step, we define all parameters related to training. \n",
        "To give more explanation on some of the parameters:\n",
        "- `group_by_length` makes training more efficient by grouping training samples of similar input length into one batch. This can significantly speed up training time by heavily reducing the overall number of useless padding tokens that are passed through the model\n",
        "- `learning_rate` and `weight_decay` were heuristically tuned until fine-tuning has become stable. Note that those parameters strongly depend on the Timit dataset and might be suboptimal for other speech datasets.\n",
        "\n",
        "For more explanations on other parameters, one can take a look at the [docs](https://huggingface.co/transformers/master/main_classes/trainer.html?highlight=trainer#trainingarguments).\n",
        "\n",
        "**Note**: If one wants to save the trained models in his/her google drive the commented-out `output_dir` can be used instead."
      ]
    },
    {
      "cell_type": "code",
      "metadata": {
        "id": "KbeKSV7uzGPP"
      },
      "source": [
        "# from transformers import TrainingArguments\n",
        "\n",
        "# training_args = TrainingArguments(\n",
        "#   # output_dir=\"/content/gdrive/MyDrive/wav2vec2-base-timit-demo\",\n",
        "#   output_dir=\"./wav2vec2-base-timit-demo\",\n",
        "#   group_by_length=True,\n",
        "#   per_device_train_batch_size=32,\n",
        "#   evaluation_strategy=\"steps\",\n",
        "#   num_train_epochs=30,\n",
        "#   fp16=True,\n",
        "#   save_steps=500,\n",
        "#   eval_steps=500,\n",
        "#   logging_steps=500,\n",
        "#   learning_rate=1e-4,\n",
        "#   weight_decay=0.005,\n",
        "#   warmup_steps=1000,\n",
        "#   save_total_limit=2,\n",
        "# )\n",
        "\n",
        "from transformers import TrainingArguments\n",
        "\n",
        "training_args = TrainingArguments(\n",
        "  # output_dir=model_dir,\n",
        "  output_dir=\"./wav2vec2-base-timit-demo\",\n",
        "  # output_dir=\"./wav2vec2-large-xlsr-turkish-demo\",\n",
        "  group_by_length=True,\n",
        "  per_device_train_batch_size=16,\n",
        "#   per_device_train_batch_size=32,\n",
        "  gradient_accumulation_steps=2,\n",
        "  evaluation_strategy=\"steps\",\n",
        "  num_train_epochs=50,\n",
        "  fp16=True,\n",
        "  save_steps=500,\n",
        "  eval_steps=500,\n",
        "  logging_steps=500,\n",
        "  learning_rate=3e-4,\n",
        "  warmup_steps=1000,\n",
        "  save_total_limit=2,\n",
        ")"
      ],
      "execution_count": null,
      "outputs": []
    },
    {
      "cell_type": "markdown",
      "metadata": {
        "id": "OsW-WZcL1ZtN"
      },
      "source": [
        "Now, all instances can be passed to Trainer and we are ready to start training!"
      ]
    },
    {
      "cell_type": "code",
      "metadata": {
        "id": "rY7vBmFCPFgC"
      },
      "source": [
        "from transformers import Trainer\n",
        "\n",
        "trainer = Trainer(\n",
        "    model=model,\n",
        "    data_collator=data_collator,\n",
        "    args=training_args,\n",
        "    compute_metrics=compute_metrics,\n",
        "    train_dataset=timit_prepared[\"train\"],\n",
        "    eval_dataset=timit_prepared[\"test\"],\n",
        "    tokenizer=processor.feature_extractor,\n",
        ")"
      ],
      "execution_count": null,
      "outputs": []
    },
    {
      "cell_type": "markdown",
      "metadata": {
        "id": "UoXBx1JAA0DX"
      },
      "source": [
        "\n",
        "\n",
        "---\n",
        "\n",
        "${}^1$ To allow models to become independent of the speaker rate, in CTC, consecutive tokens that are identical are simply grouped as a single token. However, the encoded labels should not be grouped when decoding since they don't correspond to the predicted tokens of the model, which is why the `group_tokens=False` parameter has to be passed. If we wouldn't pass this parameter a word like `\"hello\"` would incorrectly be encoded, and decoded as `\"helo\"`.\n",
        "\n",
        "${}^2$ The blank token allows the model to predict a word, such as `\"hello\"` by forcing it to insert the blank token between the two l's. A CTC-conform prediction of `\"hello\"` of our model would be `[PAD] [PAD] \"h\" \"e\" \"e\" \"l\" \"l\" [PAD] \"l\" \"o\" \"o\" [PAD]`."
      ]
    },
    {
      "cell_type": "markdown",
      "metadata": {
        "id": "rpvZHM1xReIW"
      },
      "source": [
        "### Training"
      ]
    },
    {
      "cell_type": "markdown",
      "metadata": {
        "id": "j-3oKSzZ1hGq"
      },
      "source": [
        "Training will take between 90 and 180 minutes depending on the GPU allocated to this notebook. While the trained model yields satisfying results on *Timit*'s test data, it is by no means an optimally fine-tuned model. The purpose of this notebook is to demonstrate how Wav2Vec2's [base](https://huggingface.co/facebook/wav2vec2-base), [large](https://huggingface.co/facebook/wav2vec2-large), and [large-lv60](https://huggingface.co/facebook/wav2vec2-large-lv60) checkpoints can be fine-tuned on any English dataset.\n",
        "\n",
        "In case you want to use this google colab to fine-tune your model, you should make sure that your training doesn't stop due to inactivity. A simple hack to prevent this is to paste the following code into the console of this tab (*right mouse click -> inspect -> Console tab and insert code*)."
      ]
    },
    {
      "cell_type": "markdown",
      "metadata": {
        "id": "VYYAvgkW4P0m"
      },
      "source": [
        "```javascript\n",
        "function ConnectButton(){\n",
        "    console.log(\"Connect pushed\"); \n",
        "    document.querySelector(\"#top-toolbar > colab-connect-button\").shadowRoot.querySelector(\"#connect\").click() \n",
        "}\n",
        "setInterval(ConnectButton,60000);\n",
        "```"
      ]
    },
    {
      "cell_type": "code",
      "metadata": {
        "id": "_UEjJqGsQw24",
        "colab": {
          "base_uri": "https://localhost:8080/",
          "height": 75
        },
        "outputId": "4348d4cb-6816-4343-b724-49af10ba1771"
      },
      "source": [
        "trainer.train(resume_from_checkpoint=True)"
      ],
      "execution_count": null,
      "outputs": [
        {
          "output_type": "display_data",
          "data": {
            "text/html": [
              "\n",
              "    <div>\n",
              "        <style>\n",
              "            /* Turns off some styling */\n",
              "            progress {\n",
              "                /* gets rid of default border in Firefox and Opera. */\n",
              "                border: none;\n",
              "                /* Needs to be in here for Safari polyfill so background images work as expected. */\n",
              "                background-size: auto;\n",
              "            }\n",
              "        </style>\n",
              "      \n",
              "      <progress value='543' max='7200' style='width:300px; height:20px; vertical-align: middle;'></progress>\n",
              "      [ 543/7200 02:37 < 7:07:32, 0.26 it/s, Epoch 3.76/50]\n",
              "    </div>\n",
              "    <table border=\"1\" class=\"dataframe\">\n",
              "  <thead>\n",
              "    <tr style=\"text-align: left;\">\n",
              "      <th>Step</th>\n",
              "      <th>Training Loss</th>\n",
              "      <th>Validation Loss</th>\n",
              "    </tr>\n",
              "  </thead>\n",
              "  <tbody>\n",
              "  </tbody>\n",
              "</table><p>"
            ],
            "text/plain": [
              "<IPython.core.display.HTML object>"
            ]
          },
          "metadata": {
            "tags": []
          }
        }
      ]
    },
    {
      "cell_type": "markdown",
      "metadata": {
        "id": "UCyp-v3n4Zlt"
      },
      "source": [
        "The final WER should be below 0.3 which is reasonable given that state-of-the-art phoneme error rates (PER) are just below 0.1 (see [leaderboard](https://paperswithcode.com/sota/speech-recognition-on-timit)) and that WER is usually worse than PER.\n",
        "\n",
        "The resulting model of this notebook has been saved to [patrickvonplaten/wav2vec2-base-timit-demo](https://huggingface.co/patrickvonplaten/wav2vec2-base-timit-demo)."
      ]
    },
    {
      "cell_type": "markdown",
      "metadata": {
        "id": "nD4XP5IHncsY"
      },
      "source": [
        "### Evaluate\n",
        "\n",
        "In the final part, we evaluate our fine-tuned model on the test set and play around with it a bit.\n",
        "\n",
        "Let's load the `processor` and `model`."
      ]
    },
    {
      "cell_type": "code",
      "metadata": {
        "id": "ZuQxZFzCANfl"
      },
      "source": [
        "path = 'wav2vec2-base-timit-demo/checkpoint-500'\n",
        "finetuned_model = Wav2Vec2ForCTC.from_pretrained(path) "
      ],
      "execution_count": null,
      "outputs": []
    },
    {
      "cell_type": "code",
      "metadata": {
        "id": "-rg0USDCnbo6"
      },
      "source": [
        "# processor = Wav2Vec2Processor.from_pretrained(\"patrickvonplaten/wav2vec2-base-timit-demo\")"
      ],
      "execution_count": null,
      "outputs": []
    },
    {
      "cell_type": "code",
      "metadata": {
        "id": "sSpFW3pDn23P"
      },
      "source": [
        "# model = Wav2Vec2ForCTC.from_pretrained(\"patrickvonplaten/wav2vec2-base-timit-demo\")"
      ],
      "execution_count": null,
      "outputs": []
    },
    {
      "cell_type": "markdown",
      "metadata": {
        "id": "TUuZpB0v5jn_"
      },
      "source": [
        "Now, we will make use of the `map(...)` function to predict the transcription of every test sample and to save the prediction in the dataset itself. We will call the resulting dictionary `\"results\"`. \n",
        "\n",
        "**Note**: we evaluate the test data set with `batch_size=1` on purpose due to this [issue](https://github.com/pytorch/fairseq/issues/3227). Since padded inputs don't yield the exact same output as non-padded inputs, a better WER can be achieved by not padding the input at all."
      ]
    },
    {
      "cell_type": "code",
      "metadata": {
        "id": "40naJl53n7jT"
      },
      "source": [
        "def map_to_result(batch):\n",
        "  finetuned_model.to(\"cuda\")\n",
        "  input_values = processor(\n",
        "      batch[\"speech\"], \n",
        "      sampling_rate=batch[\"sampling_rate\"], \n",
        "      return_tensors=\"pt\"\n",
        "  ).input_values.to(\"cuda\")\n",
        "\n",
        "  with torch.no_grad():\n",
        "    logits = finetuned_model(input_values).logits\n",
        "\n",
        "  pred_ids = torch.argmax(logits, dim=-1)\n",
        "  batch[\"pred_str\"] = processor.batch_decode(pred_ids)[0]\n",
        "  \n",
        "  return batch"
      ],
      "execution_count": null,
      "outputs": []
    },
    {
      "cell_type": "code",
      "metadata": {
        "id": "uPqH7gZqrGPi",
        "colab": {
          "base_uri": "https://localhost:8080/",
          "height": 66,
          "referenced_widgets": [
            "f5217b2c4b3e435db2bf69e2c79d6edd",
            "23f8b7eb2d4247648eef85cd7ff151af",
            "6ed87e8d02b9490182e8c2d06220002d",
            "3f71950fd58e4a329728ee976fbdf03f",
            "ada673d533d347c19903d3a24b37eec4",
            "23c876a344044645b74825dc8deba3cb",
            "0aea306b774e4d15a3b5a5d94af89c84",
            "56fab205c63a4713983dc5a670d024ab"
          ]
        },
        "outputId": "b9dae72e-05fb-4904-fd60-5a415a8fe232"
      },
      "source": [
        "results = timit[\"test\"].map(map_to_result)"
      ],
      "execution_count": null,
      "outputs": [
        {
          "output_type": "display_data",
          "data": {
            "application/vnd.jupyter.widget-view+json": {
              "model_id": "f5217b2c4b3e435db2bf69e2c79d6edd",
              "version_minor": 0,
              "version_major": 2
            },
            "text/plain": [
              "HBox(children=(FloatProgress(value=0.0, max=1680.0), HTML(value='')))"
            ]
          },
          "metadata": {
            "tags": []
          }
        },
        {
          "output_type": "stream",
          "text": [
            "\n"
          ],
          "name": "stdout"
        }
      ]
    },
    {
      "cell_type": "markdown",
      "metadata": {
        "id": "-mqpdB8R6rty"
      },
      "source": [
        "Let's compute the overall WER now."
      ]
    },
    {
      "cell_type": "code",
      "metadata": {
        "id": "PmqAb4Isx8OK"
      },
      "source": [
        "print(\"Test WER: {:.3f}\".format(wer_metric.compute(predictions=results[\"pred_str\"], references=results[\"target_text\"])))"
      ],
      "execution_count": null,
      "outputs": []
    },
    {
      "cell_type": "markdown",
      "metadata": {
        "id": "6Va94d8Y7Q98"
      },
      "source": [
        "18.6% WER - not bad! Our model would have surely made the top 20 on the official [leaderboard](https://paperswithcode.com/sota/speech-recognition-on-timit).\n",
        "\n",
        "Let's take a look at some predictions to see what errors are made by the model."
      ]
    },
    {
      "cell_type": "code",
      "metadata": {
        "id": "odNDiFVRy53w",
        "colab": {
          "base_uri": "https://localhost:8080/",
          "height": 359
        },
        "outputId": "6ea86f9f-c37f-46a3-eb67-d4b20d0692f4"
      },
      "source": [
        "show_random_elements(results.remove_columns([\"speech\", \"sampling_rate\"]))"
      ],
      "execution_count": null,
      "outputs": [
        {
          "output_type": "display_data",
          "data": {
            "text/html": [
              "<table border=\"1\" class=\"dataframe\">\n",
              "  <thead>\n",
              "    <tr style=\"text-align: right;\">\n",
              "      <th></th>\n",
              "      <th>pred_str</th>\n",
              "      <th>target_text</th>\n",
              "    </tr>\n",
              "  </thead>\n",
              "  <tbody>\n",
              "    <tr>\n",
              "      <th>0</th>\n",
              "      <td>əɨʒɨOʒəɨʒɨɾəʒəɾɾPʒPPʒPɾOʒOPʒW</td>\n",
              "      <td>bæsk̚kɨt̚bɔlk̚kn̩b̚biɨnʔɛnt̚tɚt̚tenɨŋgsp̚pɔɹt̚</td>\n",
              "    </tr>\n",
              "    <tr>\n",
              "      <th>1</th>\n",
              "      <td>jʒjjʒjɨʒɨPʒɾʃʒYW</td>\n",
              "      <td>ʃiɦæd̚djɚd̚dɑɹk̚ksʉt̚ʔɪnɡ̚gɹisiwɔʃSwɔɾɚʔɔljɪɚ</td>\n",
              "    </tr>\n",
              "    <tr>\n",
              "      <th>2</th>\n",
              "      <td>ɨɨʒɨəʒəɾPʒPPʒPPʒPW</td>\n",
              "      <td>kælsiəmek̚ksb̚bonzʔɨnt̚tit̚ʃt̚tɹɔŋ</td>\n",
              "    </tr>\n",
              "    <tr>\n",
              "      <th>3</th>\n",
              "      <td>ɾɨʒɨʒɨwOʒOɾɨʒɨɨʒɨPʒPəʒəʒɨʒɨjʒɾPʒʒW</td>\n",
              "      <td>ɪʔwəznɑɾɨɡ̚zæk̚klɨp̚pæɾ̃ɪk̚kðeɡ̚gevwet̚tʉb̚bət̚ðek̚kɨd̚nɑt̚Jɨsɪt̚ðɛɚ</td>\n",
              "    </tr>\n",
              "    <tr>\n",
              "      <th>4</th>\n",
              "      <td>ʒPʒɾəʒɾɾbPʒPɨʒɨPʒW</td>\n",
              "      <td>gɑʔnob̚bɪzSnɪsovɹɨhɪɝPʔɔɾ̃əst̚tek̚kWt̚ɪniwe</td>\n",
              "    </tr>\n",
              "    <tr>\n",
              "      <th>5</th>\n",
              "      <td>PʒjʃʒYɨɾbPʒPɝPʒPʒPW</td>\n",
              "      <td>ðæt̚dYəɡ̚gɹæmek̚ksɛnsonliæft̚tɚmʌt̚Ct̚tʌɾi</td>\n",
              "    </tr>\n",
              "    <tr>\n",
              "      <th>6</th>\n",
              "      <td>jʒjʒjɨʒɨjʃʒYwW</td>\n",
              "      <td>ʃiɦɛd̚jɚd̚dɑɹk̚ksʉɾɨnɡ̚gɹiziwɔʃSwɔɾɚʔɔljɪɚ</td>\n",
              "    </tr>\n",
              "    <tr>\n",
              "      <th>7</th>\n",
              "      <td>əʒəbwɾPʒPɨʒɨbPʒPOʒOəʒəwW</td>\n",
              "      <td>ðɨb̚bɛst̚weɾl̩ɝɾ̃ɨzt̚tɨsɔlvɛk̚kst̚tɚp̚pɹɑb̚bləms</td>\n",
              "    </tr>\n",
              "    <tr>\n",
              "      <th>8</th>\n",
              "      <td>PʒɨʒɨOʒW</td>\n",
              "      <td>hwʌt̚ʃɛlðizɨfɛk̚ksb̚bih</td>\n",
              "    </tr>\n",
              "    <tr>\n",
              "      <th>9</th>\n",
              "      <td>PʒʒəʒəɨʒɨɾW</td>\n",
              "      <td>ɦɪʃolɾɚfɛlt̚ʔɛzɪfɪʔwɚb̚bɹok̚kɨn</td>\n",
              "    </tr>\n",
              "  </tbody>\n",
              "</table>"
            ],
            "text/plain": [
              "<IPython.core.display.HTML object>"
            ]
          },
          "metadata": {
            "tags": []
          }
        }
      ]
    },
    {
      "cell_type": "markdown",
      "metadata": {
        "id": "5HFCujhd9n4N"
      },
      "source": [
        "It becomes clear that the predicted transcriptions are acoustically very similar to the target transcriptions, but often contain spelling or grammatical errors. This shouldn't be very surprising though given that we purely rely on Wav2Vec2 without making use of a language model."
      ]
    },
    {
      "cell_type": "markdown",
      "metadata": {
        "id": "a3ydKvUl9FTK"
      },
      "source": [
        "Finally, to better understand how CTC works, it is worth taking a deeper look at the exact output of the model. Let's run the first test sample through the model, take the predicted ids and convert them to their corresponding tokens."
      ]
    },
    {
      "cell_type": "code",
      "metadata": {
        "id": "AqaM45t87uM4",
        "colab": {
          "base_uri": "https://localhost:8080/",
          "height": 35
        },
        "outputId": "1928e356-37ea-4458-e60d-cbd404388b1c"
      },
      "source": [
        "model.to(\"cuda\")\n",
        "input_values = processor(timit[\"test\"][0][\"speech\"], sampling_rate=timit[\"test\"][0][\"sampling_rate\"], return_tensors=\"pt\").input_values.to(\"cuda\")\n",
        "\n",
        "with torch.no_grad():\n",
        "  logits = model(input_values).logits\n",
        "\n",
        "pred_ids = torch.argmax(logits, dim=-1)\n",
        "\n",
        "# convert ids to tokens\n",
        "\" \".join(processor.tokenizer.convert_ids_to_tokens(pred_ids[0].tolist()))"
      ],
      "execution_count": null,
      "outputs": [
        {
          "output_type": "execute_result",
          "data": {
            "application/vnd.google.colaboratory.intrinsic+json": {
              "type": "string"
            },
            "text/plain": [
              "'ʃ ɨ ɨ ɨ ɨ ɨ ɨ ɨ ɨ ɨ ɨ ɨ ɨ ɨ ɨ ɨ ɨ ɨ ɨ ɨ ɨ ɨ ɨ ɨ ɨ ɨ ɨ ɨ ɨ ɨ ɨ ɨ ɨ ɨ ʃ ɨ ɨ ɨ ɨ ɨ Y ɨ ɨ ɨ ɨ ɨ ɨ ɨ ɨ ɨ ɨ ɨ ɨ ɨ ɨ ɨ ɨ ɨ ɨ ɨ ɨ ɨ ɨ ɨ ɨ ɨ ɨ ɨ ɨ O ɨ ɨ ɨ ɨ ɨ ɨ ɨ ɨ ɨ ɨ ɨ ɨ ɨ ɨ ɨ ɨ ɨ ɨ ɨ ɨ ɨ ɨ ɨ ɨ ɨ Y ɨ ɨ ɨ ɨ ɨ ɨ ɨ ɨ ɨ ɨ ɨ ɨ ɨ ɨ ɨ ɨ ɨ ɨ ɨ ɨ ɨ ɨ ɨ ɨ ɨ ɨ ɨ ɨ ɨ ɨ ɨ ɨ ɨ ʃ ɨ ɨ ɨ ɨ ɨ ɨ ɨ ɨ ʃ'"
            ]
          },
          "metadata": {
            "tags": []
          },
          "execution_count": 60
        }
      ]
    },
    {
      "cell_type": "markdown",
      "metadata": {
        "id": "tdO8E28g-n5C"
      },
      "source": [
        "The output should make it a bit clearer how CTC works in practice. The model is to some extent invariant to speaking rate since it has learned to either just repeat the same token in case the speech chunk to be classified still corresponds to the same token. This makes CTC a very powerful algorithm for speech recognition since the speech file's transcription is often very much independent of its length.\n",
        "\n",
        "I again advise the reader to take a look at [this](https://distill.pub/2017/ctc) very nice blog post to better understand CTC."
      ]
    },
    {
      "cell_type": "code",
      "metadata": {
        "id": "0yBeyAd840JX"
      },
      "source": [
        ""
      ],
      "execution_count": null,
      "outputs": []
    }
  ]
}